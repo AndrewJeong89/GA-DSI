{
 "cells": [
  {
   "cell_type": "code",
   "execution_count": null,
   "metadata": {
    "collapsed": true
   },
   "outputs": [],
   "source": [
    "{\"event_type\": \"started-mission\", \"keen\": {\"created_at\": \"2015-06-12T23:09:03.966Z\", \"id\": \"557b668fd2eaaa2e7c5e916b\", \"timestamp\": \"2015-06-12T23:09:07.971Z\"}, \"sequence\": 1}, {\"event_type\": \"started-screen\", \"keen\": {\"created_at\": \"2015-06-12T23:09:03.979Z\", \"id\": \"557b668f90e4bd26c10b6ed6\", timestamp: \"2015-06-12T23:09:07.987Z\"}, \"mission\": 1, \"amount\":$3k, \"sequence\": 4, \"type\": \"code\"}, {\"event_type\": \"started-screen\", \"keen\": {\"created_at\": \"2015-06-12T23:09:22.517Z\", \"id\": \"557b66a246f9a7239038b1e0\", \"timestamp\": \"2015-06-12T23:09:24.246Z\"}, \"mission\": 1, \"amount\":$2k \"sequence\": 3, \"type\": \"code\"}"
   ]
  }
 ],
 "metadata": {
  "kernelspec": {
   "display_name": "Python [default]",
   "language": "python",
   "name": "python2"
  },
  "language_info": {
   "codemirror_mode": {
    "name": "ipython",
    "version": 2
   },
   "file_extension": ".py",
   "mimetype": "text/x-python",
   "name": "python",
   "nbconvert_exporter": "python",
   "pygments_lexer": "ipython2",
   "version": "2.7.12"
  }
 },
 "nbformat": 4,
 "nbformat_minor": 1
}
