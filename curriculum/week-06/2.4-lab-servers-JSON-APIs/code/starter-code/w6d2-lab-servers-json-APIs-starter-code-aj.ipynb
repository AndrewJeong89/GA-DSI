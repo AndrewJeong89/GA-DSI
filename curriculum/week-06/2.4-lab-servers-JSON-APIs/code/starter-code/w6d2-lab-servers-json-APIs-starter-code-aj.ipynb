{
 "cells": [
  {
   "cell_type": "markdown",
   "metadata": {},
   "source": [
    "# APIs Lab\n",
    "In this lab we will practice using APIs to retrieve and store data."
   ]
  },
  {
   "cell_type": "code",
   "execution_count": 1,
   "metadata": {
    "collapsed": false
   },
   "outputs": [],
   "source": [
    "# Imports at the top\n",
    "import json\n",
    "import urllib\n",
    "import pandas as pd\n",
    "import numpy as np\n",
    "import requests\n",
    "import json\n",
    "import re\n",
    "import matplotlib.pyplot as plt\n",
    "%matplotlib inline"
   ]
  },
  {
   "cell_type": "markdown",
   "metadata": {},
   "source": [
    "## Exercise 1: Get Data From Sheetsu\n",
    "\n",
    "[Sheetsu](https://sheetsu.com/) is an online service that allows you to access any Google spreadsheet from an API. This can be a very handy way to share a dataset with colleagues as well as to create a mini centralized data storage, that is simpler to edit than a database.\n",
    "\n",
    "A Google Spreadsheet with wine data can be found [here](https://docs.google.com/a/generalassemb.ly/spreadsheets/d/1JWRwDnwIMLgvPqNMdJLmAJgzvz0K3zAUc6jev3ci1c8/edit?usp=sharing).\n",
    "\n",
    "You can access it through the Sheetsu API at this endpoint: https://sheetsu.com/apis/v1.0/cc9420722ae4. [Here](https://sheetsu.com/docs/beta) is Sheetsu's documentation.\n",
    "\n",
    "\n",
    "Questions:\n",
    "\n",
    "1. Use the requests library to access the document. Inspect the response text. What kind of data is it?\n",
    "2. Check the status code of the response object. What code is it?\n",
    "3. Use the appropriate libraries and read functions to read the response into a Pandas Dataframe\n",
    "4. Once you've imported the data into a dataframe, check the value of the 5th line: what's the price?"
   ]
  },
  {
   "cell_type": "code",
   "execution_count": 2,
   "metadata": {
    "collapsed": true
   },
   "outputs": [],
   "source": [
    "url = 'https://sheetsu.com/apis/v1.0/cc9420722ae4'\n",
    "response = requests.get(url)"
   ]
  },
  {
   "cell_type": "code",
   "execution_count": 3,
   "metadata": {
    "collapsed": false
   },
   "outputs": [
    {
     "data": {
      "text/plain": [
       "u'[{\"Color\":\"W\",\"Region\":\"Portugal\",\"Country\":\"Portugal\",\"Vintage\":\"2013\",\"Vinyard\":\"Vinho Verde\",\"Name\":\"\",\"Grape\":\"\",\"Consumed In\":\"2015\",\"Score\":\"4\",\"Price\":\"\"},{\"Color\":\"W\",\"Region\":\"France\",\"Country\":\"France\",\"Vintage\":\"2013\",\"Vinyard\":\"Peyruchet\",\"Name\":\"\",\"Grape\":\"\",\"Consumed In\":\"2015\",\"Score\":\"3\",\"Price\":\"17.8\"},{\"Color\":\"W\",\"Region\":\"Oregon\",\"Country\":\"Oregon\",\"Vintage\":\"2013\",\"Vinyard\":\"Abacela\",\"Name\":\"\",\"Grape\":\"\",\"Consumed In\":\"2015\",\"Score\":\"3\",\"Price\":\"20\"},{\"Color\":\"W\",\"Region\":\"Spain\",\"Country\":\"Spain\",\"Vintage\":\"2012\",\"Vinyard\":\"Ochoa\",\"Name\":\"\",\"Grape\":\"chardonay\",\"Consumed In\":\"2015\",\"Score\":\"2.5\",\"Price\":\"7\"},{\"Color\":\"R\",\"Region\":\"\",\"Country\":\"US\",\"Vintage\":\"2012\",\"Vinyard\":\"Heartland\",\"Name\":\"Spice Trader\",\"Grape\":\"chiraz, cab\",\"Consumed In\":\"2015\",\"Score\":\"3\",\"Price\":\"6\"},{\"Color\":\"R\",\"Region\":\"California\",\"Country\":\"US\",\"Vintage\":\"2012\",\"Vinyard\":\"Crow Canyon\",\"Name\":\"\",\"Grape\":\"cab\",\"Consumed In\":\"2015\",\"Score\":\"3.5\",\"Price\":\"13\"},{\"Color\":\"R\",\"Region\":\"Oregon\",\"Country\":\"US\",\"Vintage\":\"2013\",\"Vinyard\":\"Abacela\",\"Name\":\"#14\",\"Grape\":\"\",\"Consumed In\":\"2015\",\"Score\":\"2.5\",\"Price\":\"21\"},{\"Color\":\"R\",\"Region\":\"Bordeaux\",\"Country\":\"France\",\"Vintage\":\"2012\",\"Vinyard\":\"David Beaulieu\",\"Name\":\"\",\"Grape\":\"merlot, cab\",\"Consumed In\":\"2015\",\"Score\":\"3.5\",\"Price\":\"12\"},{\"Color\":\"R\",\"Region\":\"Medoc\",\"Country\":\"France\",\"Vintage\":\"2011\",\"Vinyard\":\"Chantemerle\",\"Name\":\"\",\"Grape\":\"merlot, cab\",\"Consumed In\":\"2015\",\"Score\":\"3.5\",\"Price\":\"11.99\"},{\"Color\":\"R\",\"Region\":\"Washington\",\"Country\":\"US\",\"Vintage\":\"2011\",\"Vinyard\":\"Hyatt\",\"Name\":\"\",\"Grape\":\"merlot\",\"Consumed In\":\"2015\",\"Score\":\"4\",\"Price\":\"13\"},{\"Color\":\"R\",\"Region\":\"Tuscany\",\"Country\":\"Italy\",\"Vintage\":\"2012\",\"Vinyard\":\"Rosso Dei Poggi\",\"Name\":\"Rosso Dei Poggi\",\"Grape\":\"sangiovese\",\"Consumed In\":\"2015\",\"Score\":\"3\",\"Price\":\"12\"},{\"Color\":\"R\",\"Region\":\"Tuscany\",\"Country\":\"\",\"Vintage\":\"2013\",\"Vinyard\":\"Orizzonti\",\"Name\":\"Montepulciano D\\'Abruzzo\",\"Grape\":\"\",\"Consumed In\":\"2015\",\"Score\":\"4.5\",\"Price\":\"22\"},{\"Color\":\"R\",\"Region\":\"Oregon\",\"Country\":\"US\",\"Vintage\":\"2010\",\"Vinyard\":\"Abacelo\",\"Name\":\"\",\"Grape\":\"chiraz\",\"Consumed In\":\"2015\",\"Score\":\"3.5\",\"Price\":\"7\"},{\"Color\":\"R\",\"Region\":\"Tuscany\",\"Country\":\"Italy\",\"Vintage\":\"2012\",\"Vinyard\":\"Ridolfi\",\"Name\":\"Rosso Di Montalcino\",\"Grape\":\"sangiovese\",\"Consumed In\":\"2015\",\"Score\":\"3.5\",\"Price\":\"15\"},{\"Color\":\"W\",\"Region\":\"Loire\",\"Country\":\"France\",\"Vintage\":\"2012\",\"Vinyard\":\"Celestin Blobdeau\",\"Name\":\"Sancerre Cuvee Des Moulins Bales\",\"Grape\":\"sauvignon blanc\",\"Consumed In\":\"2013\",\"Score\":\"3\",\"Price\":\"12\"},{\"Color\":\"R\",\"Region\":\"Napa\",\"Country\":\"US\",\"Vintage\":\"2012\",\"Vinyard\":\"Belle Glos\",\"Name\":\"Meiomi\",\"Grape\":\"pinot noir\",\"Consumed In\":\"2013\",\"Score\":\"3\",\"Price\":\"13\"},{\"Color\":\"R\",\"Region\":\"France\",\"Country\":\"France\",\"Vintage\":\"2012\",\"Vinyard\":\"Puech-Haut\",\"Name\":\"Saint Drezery Prestige\",\"Grape\":\"\",\"Consumed In\":\"2013\",\"Score\":\"3\",\"Price\":\"13\"},{\"Color\":\"R\",\"Region\":\"France\",\"Country\":\"France\",\"Vintage\":\"2011\",\"Vinyard\":\"Puech-Haut\",\"Name\":\"Saint Drezery Prestige\",\"Grape\":\"\",\"Consumed In\":\"2013\",\"Score\":\"2\",\"Price\":\"14\"},{\"Color\":\"W\",\"Region\":\"Nappa\",\"Country\":\"US\",\"Vintage\":\"2012\",\"Vinyard\":\"Honig\",\"Name\":\"Sauvignon Blanc\",\"Grape\":\"sauvignon blanc\",\"Consumed In\":\"2014\",\"Score\":\"4\",\"Price\":\"14.5\"},{\"Color\":\"W\",\"Region\":\"Nappa\",\"Country\":\"US\",\"Vintage\":\"2012\",\"Vinyard\":\"Provenance\",\"Name\":\"Uppercut North Coast\",\"Grape\":\"sauvignon blanc\",\"Consumed In\":\"2014\",\"Score\":\"3\",\"Price\":\"11\"},{\"Color\":\"R\",\"Region\":\"Sicily\",\"Country\":\"Italy\",\"Vintage\":\"2011\",\"Vinyard\":\"Baglio Di Pianetto\",\"Name\":\"Nero d\\'Avola\",\"Grape\":\"\",\"Consumed In\":\"2014\",\"Score\":\"\",\"Price\":\"\"},{\"Color\":\"P\",\"Region\":\"Truro\",\"Country\":\"US\",\"Vintage\":\"2013\",\"Vinyard\":\"Truro Vineyards\",\"Name\":\"Cape Blush\",\"Grape\":\"\",\"Consumed In\":\"2014\",\"Score\":\"4\",\"Price\":\"10\"},{\"Color\":\"W\",\"Region\":\"Truro\",\"Country\":\"US\",\"Vintage\":\"2013\",\"Vinyard\":\"Truro Vineyards\",\"Name\":\"Pinot Grigio\",\"Grape\":\"pinot griogio\",\"Consumed In\":\"2014\",\"Score\":\"3\",\"Price\":\"10\"},{\"Color\":\"R\",\"Region\":\"Provence\",\"Country\":\"France\",\"Vintage\":\"2013\",\"Vinyard\":\"Chateau de la Clapiere\",\"Name\":\"Cru Classe\",\"Grape\":\"\",\"Consumed In\":\"2014\",\"Score\":\"3.5\",\"Price\":\"\"},{\"Color\":\"W\",\"Region\":\"Bordeaux\",\"Country\":\"France\",\"Vintage\":\"2013\",\"Vinyard\":\"Domaine du Claouset\",\"Name\":\"Domaine du Claouset\",\"Grape\":\"cabernet sauvignon\",\"Consumed In\":\"2015\",\"Score\":\"3\",\"Price\":\"\"},{\"Color\":\"W\",\"Region\":\"Napa\",\"Country\":\"\",\"Vintage\":\"2012\",\"Vinyard\":\"Two Angels\",\"Name\":\"Sauvignon Blanc\",\"Grape\":\"sauvignon blanc\",\"Consumed In\":\"2015\",\"Score\":\"3.5\",\"Price\":\"\"},{\"Color\":\"W\",\"Region\":\"Portugal\",\"Country\":\"Portugal\",\"Vintage\":\"2013\",\"Vinyard\":\"Mapreco\",\"Name\":\"Vinho Verde\",\"Grape\":\"\",\"Consumed In\":\"2015\",\"Score\":\"3.5\",\"Price\":\"\"},{\"Color\":\"W\",\"Region\":\"Burgundy\",\"Country\":\"France\",\"Vintage\":\"2012\",\"Vinyard\":\"Vaillons\",\"Name\":\"Vincent Dampt\",\"Grape\":\"Chablis, Vincent Dampt, Vaillons 1er (Burgundy, France) 2012 W/ Limestone taste\",\"Consumed In\":\"2015\",\"Score\":\"4\",\"Price\":\"35\"},{\"Color\":\"W\",\"Region\":\"Rias Baixas\",\"Country\":\"Spain\",\"Vintage\":\"2012\",\"Vinyard\":\"Granbazan\",\"Name\":\"Albarino\",\"Grape\":\"Albarino, Granbazan (Rias Baixas) 2012\",\"Consumed In\":\"2015\",\"Score\":\"4\",\"Price\":\"15\"},{\"Color\":\"R\",\"Region\":\"Sonoma\",\"Country\":\"US\",\"Vintage\":\"1973\",\"Vinyard\":\"\",\"Name\":\"My wonderful wine\",\"Grape\":\"\",\"Consumed In\":\"2015\",\"Score\":\"10\",\"Price\":\"200\"},{\"Color\":\"R\",\"Region\":\"Sonoma\",\"Country\":\"US\",\"Vintage\":\"1973\",\"Vinyard\":\"\",\"Name\":\"My wonderful wine\",\"Grape\":\"\",\"Consumed In\":\"2015\",\"Score\":\"10\",\"Price\":\"200\"},{\"Color\":\"R\",\"Region\":\"Sonoma\",\"Country\":\"US\",\"Vintage\":\"1973\",\"Vinyard\":\"\",\"Name\":\"My wonderful wine\",\"Grape\":\"\",\"Consumed In\":\"2015\",\"Score\":\"10\",\"Price\":\"200\"},{\"Color\":\"R\",\"Region\":\"Sonoma\",\"Country\":\"US\",\"Vintage\":\"1973\",\"Vinyard\":\"\",\"Name\":\"My wonderful wine\",\"Grape\":\"\",\"Consumed In\":\"2015\",\"Score\":\"10\",\"Price\":\"200\"},{\"Color\":\"R\",\"Region\":\"Sonoma\",\"Country\":\"US\",\"Vintage\":\"1973\",\"Vinyard\":\"\",\"Name\":\"My wonderful wine\",\"Grape\":\"\",\"Consumed In\":\"2015\",\"Score\":\"10\",\"Price\":\"200\"},{\"Color\":\"R\",\"Region\":\"Sonoma\",\"Country\":\"US\",\"Vintage\":\"1973\",\"Vinyard\":\"\",\"Name\":\"My wonderful wine\",\"Grape\":\"\",\"Consumed In\":\"2015\",\"Score\":\"10\",\"Price\":\"200\"},{\"Color\":\"R\",\"Region\":\"Sonoma\",\"Country\":\"US\",\"Vintage\":\"1973\",\"Vinyard\":\"\",\"Name\":\"My wonderful wine\",\"Grape\":\"\",\"Consumed In\":\"2015\",\"Score\":\"10\",\"Price\":\"200\"},{\"Color\":\"R\",\"Region\":\"Sonoma\",\"Country\":\"US\",\"Vintage\":\"1973\",\"Vinyard\":\"\",\"Name\":\"My wonderful wine\",\"Grape\":\"\",\"Consumed In\":\"2015\",\"Score\":\"10\",\"Price\":\"200\"},{\"Color\":\"R\",\"Region\":\"Sonoma\",\"Country\":\"US\",\"Vintage\":\"1973\",\"Vinyard\":\"\",\"Name\":\"My wonderful wine\",\"Grape\":\"\",\"Consumed In\":\"2015\",\"Score\":\"10\",\"Price\":\"200\"},{\"Color\":\"R\",\"Region\":\"Sonoma\",\"Country\":\"US\",\"Vintage\":\"1973\",\"Vinyard\":\"\",\"Name\":\"My wonderful wine\",\"Grape\":\"\",\"Consumed In\":\"2015\",\"Score\":\"10\",\"Price\":\"200\"},{\"Color\":\"R\",\"Region\":\"Sonoma\",\"Country\":\"US\",\"Vintage\":\"1973\",\"Vinyard\":\"\",\"Name\":\"My wonderful wine\",\"Grape\":\"\",\"Consumed In\":\"2015\",\"Score\":\"10\",\"Price\":\"200\"},{\"Color\":\"R\",\"Region\":\"Sonoma\",\"Country\":\"US\",\"Vintage\":\"1973\",\"Vinyard\":\"\",\"Name\":\"My wonderful wine\",\"Grape\":\"\",\"Consumed In\":\"2015\",\"Score\":\"10\",\"Price\":\"200\"},{\"Color\":\"R\",\"Region\":\"Sonoma\",\"Country\":\"US\",\"Vintage\":\"1973\",\"Vinyard\":\"\",\"Name\":\"My wonderful wine\",\"Grape\":\"\",\"Consumed In\":\"2015\",\"Score\":\"10\",\"Price\":\"200\"},{\"Color\":\"R\",\"Region\":\"Sonoma\",\"Country\":\"US\",\"Vintage\":\"1973\",\"Vinyard\":\"\",\"Name\":\"My wonderful wine\",\"Grape\":\"\",\"Consumed In\":\"2015\",\"Score\":\"10\",\"Price\":\"200\"},{\"Color\":\"R\",\"Region\":\"Sonoma\",\"Country\":\"US\",\"Vintage\":\"1973\",\"Vinyard\":\"\",\"Name\":\"My wonderful wine\",\"Grape\":\"\",\"Consumed In\":\"2015\",\"Score\":\"10\",\"Price\":\"200\"},{\"Color\":\"R\",\"Region\":\"Sonoma\",\"Country\":\"US\",\"Vintage\":\"1973\",\"Vinyard\":\"\",\"Name\":\"My wonderful wine\",\"Grape\":\"\",\"Consumed In\":\"2015\",\"Score\":\"10\",\"Price\":\"200\"},{\"Color\":\"R\",\"Region\":\"Sonoma\",\"Country\":\"US\",\"Vintage\":\"1973\",\"Vinyard\":\"\",\"Name\":\"My wonderful wine\",\"Grape\":\"\",\"Consumed In\":\"2015\",\"Score\":\"10\",\"Price\":\"200\"},{\"Color\":\"R\",\"Region\":\"Sonoma\",\"Country\":\"US\",\"Vintage\":\"1973\",\"Vinyard\":\"\",\"Name\":\"My wonderful wine\",\"Grape\":\"\",\"Consumed In\":\"2015\",\"Score\":\"10\",\"Price\":\"200\"},{\"Color\":\"R\",\"Region\":\"Sonoma\",\"Country\":\"US\",\"Vintage\":\"1973\",\"Vinyard\":\"\",\"Name\":\"My wonderful wine\",\"Grape\":\"\",\"Consumed In\":\"2015\",\"Score\":\"10\",\"Price\":\"200\"},{\"Color\":\"R\",\"Region\":\"Sonoma\",\"Country\":\"US\",\"Vintage\":\"1973\",\"Vinyard\":\"\",\"Name\":\"My wonderful wine\",\"Grape\":\"\",\"Consumed In\":\"2015\",\"Score\":\"10\",\"Price\":\"200\"},{\"Color\":\"R\",\"Region\":\"Sonoma\",\"Country\":\"US\",\"Vintage\":\"1973\",\"Vinyard\":\"\",\"Name\":\"My wonderful wine\",\"Grape\":\"\",\"Consumed In\":\"2015\",\"Score\":\"10\",\"Price\":\"200\"},{\"Color\":\"R\",\"Region\":\"Sonoma\",\"Country\":\"US\",\"Vintage\":\"1973\",\"Vinyard\":\"\",\"Name\":\"My wonderful wine\",\"Grape\":\"\",\"Consumed In\":\"2015\",\"Score\":\"10\",\"Price\":\"200\"},{\"Color\":\"R\",\"Region\":\"Sonoma\",\"Country\":\"US\",\"Vintage\":\"1973\",\"Vinyard\":\"\",\"Name\":\"My wonderful wine\",\"Grape\":\"\",\"Consumed In\":\"2015\",\"Score\":\"10\",\"Price\":\"200\"},{\"Color\":\"R\",\"Region\":\"Sonoma\",\"Country\":\"US\",\"Vintage\":\"1973\",\"Vinyard\":\"\",\"Name\":\"My wonderful wine\",\"Grape\":\"\",\"Consumed In\":\"2015\",\"Score\":\"10\",\"Price\":\"200\"},{\"Color\":\"R\",\"Region\":\"Sonoma\",\"Country\":\"US\",\"Vintage\":\"1973\",\"Vinyard\":\"\",\"Name\":\"My wonderful wine\",\"Grape\":\"\",\"Consumed In\":\"2015\",\"Score\":\"10\",\"Price\":\"200\"},{\"Color\":\"R\",\"Region\":\"Sonoma\",\"Country\":\"US\",\"Vintage\":\"1973\",\"Vinyard\":\"\",\"Name\":\"My wonderful wine\",\"Grape\":\"\",\"Consumed In\":\"2015\",\"Score\":\"10\",\"Price\":\"200\"},{\"Color\":\"R\",\"Region\":\"Sonoma\",\"Country\":\"US\",\"Vintage\":\"1973\",\"Vinyard\":\"\",\"Name\":\"My wonderful wine\",\"Grape\":\"\",\"Consumed In\":\"2015\",\"Score\":\"10\",\"Price\":\"200\"},{\"Color\":\"R\",\"Region\":\"Sonoma\",\"Country\":\"US\",\"Vintage\":\"1973\",\"Vinyard\":\"\",\"Name\":\"My wonderful wine\",\"Grape\":\"\",\"Consumed In\":\"2015\",\"Score\":\"10\",\"Price\":\"200\"},{\"Color\":\"R\",\"Region\":\"Sonoma\",\"Country\":\"US\",\"Vintage\":\"1973\",\"Vinyard\":\"\",\"Name\":\"My wonderful wine\",\"Grape\":\"\",\"Consumed In\":\"2015\",\"Score\":\"10\",\"Price\":\"200\"},{\"Color\":\"R\",\"Region\":\"Sonoma\",\"Country\":\"US\",\"Vintage\":\"1973\",\"Vinyard\":\"\",\"Name\":\"My wonderful wine\",\"Grape\":\"\",\"Consumed In\":\"2015\",\"Score\":\"10\",\"Price\":\"200\"},{\"Color\":\"R\",\"Region\":\"Sonoma\",\"Country\":\"US\",\"Vintage\":\"1973\",\"Vinyard\":\"\",\"Name\":\"My wonderful wine\",\"Grape\":\"\",\"Consumed In\":\"2015\",\"Score\":\"10\",\"Price\":\"200\"},{\"Color\":\"R\",\"Region\":\"Sonoma\",\"Country\":\"US\",\"Vintage\":\"1973\",\"Vinyard\":\"\",\"Name\":\"My wonderful wine\",\"Grape\":\"\",\"Consumed In\":\"2015\",\"Score\":\"10\",\"Price\":\"200\"},{\"Color\":\"R\",\"Region\":\"Sonoma\",\"Country\":\"US\",\"Vintage\":\"1973\",\"Vinyard\":\"\",\"Name\":\"My wonderful wine\",\"Grape\":\"\",\"Consumed In\":\"2015\",\"Score\":\"10\",\"Price\":\"200\"},{\"Color\":\"R\",\"Region\":\"Sonoma\",\"Country\":\"US\",\"Vintage\":\"1973\",\"Vinyard\":\"\",\"Name\":\"My wonderful wine\",\"Grape\":\"\",\"Consumed In\":\"2015\",\"Score\":\"10\",\"Price\":\"200\"},{\"Color\":\"R\",\"Region\":\"Sonoma\",\"Country\":\"US\",\"Vintage\":\"1973\",\"Vinyard\":\"\",\"Name\":\"My wonderful wine\",\"Grape\":\"\",\"Consumed In\":\"2015\",\"Score\":\"10\",\"Price\":\"200\"},{\"Color\":\"R\",\"Region\":\"Sonoma\",\"Country\":\"US\",\"Vintage\":\"1973\",\"Vinyard\":\"\",\"Name\":\"My wonderful wine\",\"Grape\":\"\",\"Consumed In\":\"2015\",\"Score\":\"10\",\"Price\":\"200\"},{\"Color\":\"R\",\"Region\":\"Sonoma\",\"Country\":\"US\",\"Vintage\":\"1973\",\"Vinyard\":\"\",\"Name\":\"My wonderful wine\",\"Grape\":\"\",\"Consumed In\":\"2015\",\"Score\":\"10\",\"Price\":\"200\"},{\"Color\":\"R\",\"Region\":\"Sonoma\",\"Country\":\"US\",\"Vintage\":\"1973\",\"Vinyard\":\"\",\"Name\":\"My wonderful wine\",\"Grape\":\"\",\"Consumed In\":\"2015\",\"Score\":\"10\",\"Price\":\"200\"}]'"
      ]
     },
     "execution_count": 3,
     "metadata": {},
     "output_type": "execute_result"
    }
   ],
   "source": [
    "response.text"
   ]
  },
  {
   "cell_type": "code",
   "execution_count": 4,
   "metadata": {
    "collapsed": false
   },
   "outputs": [
    {
     "data": {
      "text/plain": [
       "<Response [200]>"
      ]
     },
     "execution_count": 4,
     "metadata": {},
     "output_type": "execute_result"
    }
   ],
   "source": [
    "response"
   ]
  },
  {
   "cell_type": "code",
   "execution_count": 5,
   "metadata": {
    "collapsed": false
   },
   "outputs": [
    {
     "data": {
      "text/plain": [
       "list"
      ]
     },
     "execution_count": 5,
     "metadata": {},
     "output_type": "execute_result"
    }
   ],
   "source": [
    "response.json()\n",
    "type(response.json())"
   ]
  },
  {
   "cell_type": "code",
   "execution_count": 6,
   "metadata": {
    "collapsed": false
   },
   "outputs": [],
   "source": [
    "r = pd.read_json(response.text)"
   ]
  },
  {
   "cell_type": "code",
   "execution_count": 7,
   "metadata": {
    "collapsed": false
   },
   "outputs": [
    {
     "data": {
      "text/html": [
       "<div>\n",
       "<table border=\"1\" class=\"dataframe\">\n",
       "  <thead>\n",
       "    <tr style=\"text-align: right;\">\n",
       "      <th></th>\n",
       "      <th>Color</th>\n",
       "      <th>Consumed In</th>\n",
       "      <th>Country</th>\n",
       "      <th>Grape</th>\n",
       "      <th>Name</th>\n",
       "      <th>Price</th>\n",
       "      <th>Region</th>\n",
       "      <th>Score</th>\n",
       "      <th>Vintage</th>\n",
       "      <th>Vinyard</th>\n",
       "    </tr>\n",
       "  </thead>\n",
       "  <tbody>\n",
       "    <tr>\n",
       "      <th>0</th>\n",
       "      <td>W</td>\n",
       "      <td>2015</td>\n",
       "      <td>Portugal</td>\n",
       "      <td></td>\n",
       "      <td></td>\n",
       "      <td></td>\n",
       "      <td>Portugal</td>\n",
       "      <td>4</td>\n",
       "      <td>2013</td>\n",
       "      <td>Vinho Verde</td>\n",
       "    </tr>\n",
       "    <tr>\n",
       "      <th>1</th>\n",
       "      <td>W</td>\n",
       "      <td>2015</td>\n",
       "      <td>France</td>\n",
       "      <td></td>\n",
       "      <td></td>\n",
       "      <td>17.8</td>\n",
       "      <td>France</td>\n",
       "      <td>3</td>\n",
       "      <td>2013</td>\n",
       "      <td>Peyruchet</td>\n",
       "    </tr>\n",
       "    <tr>\n",
       "      <th>2</th>\n",
       "      <td>W</td>\n",
       "      <td>2015</td>\n",
       "      <td>Oregon</td>\n",
       "      <td></td>\n",
       "      <td></td>\n",
       "      <td>20</td>\n",
       "      <td>Oregon</td>\n",
       "      <td>3</td>\n",
       "      <td>2013</td>\n",
       "      <td>Abacela</td>\n",
       "    </tr>\n",
       "    <tr>\n",
       "      <th>3</th>\n",
       "      <td>W</td>\n",
       "      <td>2015</td>\n",
       "      <td>Spain</td>\n",
       "      <td>chardonay</td>\n",
       "      <td></td>\n",
       "      <td>7</td>\n",
       "      <td>Spain</td>\n",
       "      <td>2.5</td>\n",
       "      <td>2012</td>\n",
       "      <td>Ochoa</td>\n",
       "    </tr>\n",
       "    <tr>\n",
       "      <th>4</th>\n",
       "      <td>R</td>\n",
       "      <td>2015</td>\n",
       "      <td>US</td>\n",
       "      <td>chiraz, cab</td>\n",
       "      <td>Spice Trader</td>\n",
       "      <td>6</td>\n",
       "      <td></td>\n",
       "      <td>3</td>\n",
       "      <td>2012</td>\n",
       "      <td>Heartland</td>\n",
       "    </tr>\n",
       "    <tr>\n",
       "      <th>5</th>\n",
       "      <td>R</td>\n",
       "      <td>2015</td>\n",
       "      <td>US</td>\n",
       "      <td>cab</td>\n",
       "      <td></td>\n",
       "      <td>13</td>\n",
       "      <td>California</td>\n",
       "      <td>3.5</td>\n",
       "      <td>2012</td>\n",
       "      <td>Crow Canyon</td>\n",
       "    </tr>\n",
       "  </tbody>\n",
       "</table>\n",
       "</div>"
      ],
      "text/plain": [
       "  Color  Consumed In   Country        Grape          Name Price      Region  \\\n",
       "0     W         2015  Portugal                                     Portugal   \n",
       "1     W         2015    France                             17.8      France   \n",
       "2     W         2015    Oregon                               20      Oregon   \n",
       "3     W         2015     Spain    chardonay                   7       Spain   \n",
       "4     R         2015        US  chiraz, cab  Spice Trader     6               \n",
       "5     R         2015        US          cab                  13  California   \n",
       "\n",
       "  Score  Vintage      Vinyard  \n",
       "0     4     2013  Vinho Verde  \n",
       "1     3     2013    Peyruchet  \n",
       "2     3     2013      Abacela  \n",
       "3   2.5     2012        Ochoa  \n",
       "4     3     2012    Heartland  \n",
       "5   3.5     2012  Crow Canyon  "
      ]
     },
     "execution_count": 7,
     "metadata": {},
     "output_type": "execute_result"
    }
   ],
   "source": [
    "r.head(6)"
   ]
  },
  {
   "cell_type": "code",
   "execution_count": 8,
   "metadata": {
    "collapsed": false
   },
   "outputs": [],
   "source": [
    "jr = json.loads(response.text)"
   ]
  },
  {
   "cell_type": "code",
   "execution_count": 9,
   "metadata": {
    "collapsed": false
   },
   "outputs": [],
   "source": [
    "jr = pd.DataFrame(jr)"
   ]
  },
  {
   "cell_type": "code",
   "execution_count": 10,
   "metadata": {
    "collapsed": false
   },
   "outputs": [
    {
     "data": {
      "text/plain": [
       "u'13'"
      ]
     },
     "execution_count": 10,
     "metadata": {},
     "output_type": "execute_result"
    }
   ],
   "source": [
    "r['Price'].iloc[5]"
   ]
  },
  {
   "cell_type": "markdown",
   "metadata": {},
   "source": [
    "> Answers:\n",
    "    1. A JSON string.\n",
    "    2. 200\n",
    "    3. Options inlucde: pd.read_json; json.loads + pd.Dataframe\n",
    "    4. 5"
   ]
  },
  {
   "cell_type": "markdown",
   "metadata": {},
   "source": [
    "### Exercise 2: Post Data to Sheetsu\n",
    "Now that we've learned how to read data, it'd be great if we could also write data. For this we will need to use a _POST_ request.\n",
    "\n",
    "1. Use the post command to add the following data to the spreadsheet:"
   ]
  },
  {
   "cell_type": "code",
   "execution_count": 11,
   "metadata": {
    "collapsed": true
   },
   "outputs": [],
   "source": [
    "post_data = {\n",
    "'Grape' : ''\n",
    ", 'Name' : 'My wine'\n",
    ", 'Color' : 'R'\n",
    ", 'Country' : 'US'\n",
    ", 'Region' : 'Sonoma'\n",
    ", 'Vinyard' : ''\n",
    ", 'Score' : '10'\n",
    ", 'Consumed In' : '2015'\n",
    ", 'Vintage' : '1973'\n",
    ", 'Price' : '200'\n",
    "}"
   ]
  },
  {
   "cell_type": "code",
   "execution_count": 12,
   "metadata": {
    "collapsed": false
   },
   "outputs": [
    {
     "data": {
      "text/plain": [
       "<Response [201]>"
      ]
     },
     "execution_count": 12,
     "metadata": {},
     "output_type": "execute_result"
    }
   ],
   "source": [
    "requests.post(url, data = post_data)"
   ]
  },
  {
   "cell_type": "markdown",
   "metadata": {},
   "source": [
    "1. What status did you get? How can you check that you actually added the data correctly?\n",
    "- In this exercise, your classmates are adding data to the same spreadsheet. What happens because of this? Is it a problem? How could you mitigate it?"
   ]
  },
  {
   "cell_type": "markdown",
   "metadata": {
    "collapsed": false
   },
   "source": [
    "201 (data created) - check documentation that it added"
   ]
  },
  {
   "cell_type": "markdown",
   "metadata": {},
   "source": [
    "## Exercise 3: Data munging\n",
    "\n",
    "Get back to the dataframe you've created in the beginning. Let's do some data munging:\n",
    "\n",
    "1. Search for missing data\n",
    "    - Is there any missing data? How do you deal with it?\n",
    "    - Is there any data you can just remove?\n",
    "    - Are the data types appropriate?\n",
    "- Summarize the data \n",
    "    - Try using describe, min, max, mean, var"
   ]
  },
  {
   "cell_type": "code",
   "execution_count": 14,
   "metadata": {
    "collapsed": false
   },
   "outputs": [
    {
     "name": "stdout",
     "output_type": "stream",
     "text": [
      "<class 'pandas.core.frame.DataFrame'>\n",
      "Int64Index: 67 entries, 0 to 66\n",
      "Data columns (total 10 columns):\n",
      "Color          67 non-null object\n",
      "Consumed In    67 non-null int64\n",
      "Country        67 non-null object\n",
      "Grape          67 non-null object\n",
      "Name           67 non-null object\n",
      "Price          67 non-null object\n",
      "Region         67 non-null object\n",
      "Score          67 non-null object\n",
      "Vintage        67 non-null int64\n",
      "Vinyard        67 non-null object\n",
      "dtypes: int64(2), object(8)\n",
      "memory usage: 5.8+ KB\n"
     ]
    }
   ],
   "source": [
    "r.info()"
   ]
  },
  {
   "cell_type": "code",
   "execution_count": 20,
   "metadata": {
    "collapsed": false
   },
   "outputs": [],
   "source": [
    "r_emp = r.replace('', np.nan)"
   ]
  },
  {
   "cell_type": "code",
   "execution_count": 22,
   "metadata": {
    "collapsed": false
   },
   "outputs": [
    {
     "data": {
      "text/html": [
       "<div>\n",
       "<table border=\"1\" class=\"dataframe\">\n",
       "  <thead>\n",
       "    <tr style=\"text-align: right;\">\n",
       "      <th></th>\n",
       "      <th>Color</th>\n",
       "      <th>Consumed In</th>\n",
       "      <th>Country</th>\n",
       "      <th>Grape</th>\n",
       "      <th>Name</th>\n",
       "      <th>Price</th>\n",
       "      <th>Region</th>\n",
       "      <th>Score</th>\n",
       "      <th>Vintage</th>\n",
       "      <th>Vinyard</th>\n",
       "    </tr>\n",
       "  </thead>\n",
       "  <tbody>\n",
       "    <tr>\n",
       "      <th>0</th>\n",
       "      <td>W</td>\n",
       "      <td>2015</td>\n",
       "      <td>Portugal</td>\n",
       "      <td>NaN</td>\n",
       "      <td>NaN</td>\n",
       "      <td>NaN</td>\n",
       "      <td>Portugal</td>\n",
       "      <td>4</td>\n",
       "      <td>2013</td>\n",
       "      <td>Vinho Verde</td>\n",
       "    </tr>\n",
       "    <tr>\n",
       "      <th>1</th>\n",
       "      <td>W</td>\n",
       "      <td>2015</td>\n",
       "      <td>France</td>\n",
       "      <td>NaN</td>\n",
       "      <td>NaN</td>\n",
       "      <td>17.8</td>\n",
       "      <td>France</td>\n",
       "      <td>3</td>\n",
       "      <td>2013</td>\n",
       "      <td>Peyruchet</td>\n",
       "    </tr>\n",
       "    <tr>\n",
       "      <th>2</th>\n",
       "      <td>W</td>\n",
       "      <td>2015</td>\n",
       "      <td>Oregon</td>\n",
       "      <td>NaN</td>\n",
       "      <td>NaN</td>\n",
       "      <td>20</td>\n",
       "      <td>Oregon</td>\n",
       "      <td>3</td>\n",
       "      <td>2013</td>\n",
       "      <td>Abacela</td>\n",
       "    </tr>\n",
       "    <tr>\n",
       "      <th>3</th>\n",
       "      <td>W</td>\n",
       "      <td>2015</td>\n",
       "      <td>Spain</td>\n",
       "      <td>chardonay</td>\n",
       "      <td>NaN</td>\n",
       "      <td>7</td>\n",
       "      <td>Spain</td>\n",
       "      <td>2.5</td>\n",
       "      <td>2012</td>\n",
       "      <td>Ochoa</td>\n",
       "    </tr>\n",
       "    <tr>\n",
       "      <th>4</th>\n",
       "      <td>R</td>\n",
       "      <td>2015</td>\n",
       "      <td>US</td>\n",
       "      <td>chiraz, cab</td>\n",
       "      <td>Spice Trader</td>\n",
       "      <td>6</td>\n",
       "      <td>NaN</td>\n",
       "      <td>3</td>\n",
       "      <td>2012</td>\n",
       "      <td>Heartland</td>\n",
       "    </tr>\n",
       "  </tbody>\n",
       "</table>\n",
       "</div>"
      ],
      "text/plain": [
       "  Color  Consumed In   Country        Grape          Name Price    Region  \\\n",
       "0     W         2015  Portugal          NaN           NaN   NaN  Portugal   \n",
       "1     W         2015    France          NaN           NaN  17.8    France   \n",
       "2     W         2015    Oregon          NaN           NaN    20    Oregon   \n",
       "3     W         2015     Spain    chardonay           NaN     7     Spain   \n",
       "4     R         2015        US  chiraz, cab  Spice Trader     6       NaN   \n",
       "\n",
       "  Score  Vintage      Vinyard  \n",
       "0     4     2013  Vinho Verde  \n",
       "1     3     2013    Peyruchet  \n",
       "2     3     2013      Abacela  \n",
       "3   2.5     2012        Ochoa  \n",
       "4     3     2012    Heartland  "
      ]
     },
     "execution_count": 22,
     "metadata": {},
     "output_type": "execute_result"
    }
   ],
   "source": [
    "r_emp.head()"
   ]
  },
  {
   "cell_type": "code",
   "execution_count": 29,
   "metadata": {
    "collapsed": false
   },
   "outputs": [
    {
     "data": {
      "text/html": [
       "<div>\n",
       "<table border=\"1\" class=\"dataframe\">\n",
       "  <thead>\n",
       "    <tr style=\"text-align: right;\">\n",
       "      <th></th>\n",
       "      <th>Color</th>\n",
       "      <th>Consumed In</th>\n",
       "      <th>Country</th>\n",
       "      <th>Grape</th>\n",
       "      <th>Name</th>\n",
       "      <th>Price</th>\n",
       "      <th>Region</th>\n",
       "      <th>Score</th>\n",
       "      <th>Vintage</th>\n",
       "      <th>Vinyard</th>\n",
       "    </tr>\n",
       "  </thead>\n",
       "  <tbody>\n",
       "    <tr>\n",
       "      <th>0</th>\n",
       "      <td>W</td>\n",
       "      <td>2015</td>\n",
       "      <td>Portugal</td>\n",
       "      <td>NaN</td>\n",
       "      <td>NaN</td>\n",
       "      <td>NaN</td>\n",
       "      <td>Portugal</td>\n",
       "      <td>4</td>\n",
       "      <td>2013</td>\n",
       "      <td>Vinho Verde</td>\n",
       "    </tr>\n",
       "    <tr>\n",
       "      <th>1</th>\n",
       "      <td>W</td>\n",
       "      <td>2015</td>\n",
       "      <td>France</td>\n",
       "      <td>NaN</td>\n",
       "      <td>NaN</td>\n",
       "      <td>17.8</td>\n",
       "      <td>France</td>\n",
       "      <td>3</td>\n",
       "      <td>2013</td>\n",
       "      <td>Peyruchet</td>\n",
       "    </tr>\n",
       "    <tr>\n",
       "      <th>2</th>\n",
       "      <td>W</td>\n",
       "      <td>2015</td>\n",
       "      <td>Oregon</td>\n",
       "      <td>NaN</td>\n",
       "      <td>NaN</td>\n",
       "      <td>20</td>\n",
       "      <td>Oregon</td>\n",
       "      <td>3</td>\n",
       "      <td>2013</td>\n",
       "      <td>Abacela</td>\n",
       "    </tr>\n",
       "    <tr>\n",
       "      <th>3</th>\n",
       "      <td>W</td>\n",
       "      <td>2015</td>\n",
       "      <td>Spain</td>\n",
       "      <td>chardonay</td>\n",
       "      <td>NaN</td>\n",
       "      <td>7</td>\n",
       "      <td>Spain</td>\n",
       "      <td>2.5</td>\n",
       "      <td>2012</td>\n",
       "      <td>Ochoa</td>\n",
       "    </tr>\n",
       "    <tr>\n",
       "      <th>4</th>\n",
       "      <td>R</td>\n",
       "      <td>2015</td>\n",
       "      <td>US</td>\n",
       "      <td>chiraz, cab</td>\n",
       "      <td>Spice Trader</td>\n",
       "      <td>6</td>\n",
       "      <td>NaN</td>\n",
       "      <td>3</td>\n",
       "      <td>2012</td>\n",
       "      <td>Heartland</td>\n",
       "    </tr>\n",
       "  </tbody>\n",
       "</table>\n",
       "</div>"
      ],
      "text/plain": [
       "  Color  Consumed In   Country        Grape          Name Price    Region  \\\n",
       "0     W         2015  Portugal          NaN           NaN   NaN  Portugal   \n",
       "1     W         2015    France          NaN           NaN  17.8    France   \n",
       "2     W         2015    Oregon          NaN           NaN    20    Oregon   \n",
       "3     W         2015     Spain    chardonay           NaN     7     Spain   \n",
       "4     R         2015        US  chiraz, cab  Spice Trader     6       NaN   \n",
       "\n",
       "  Score  Vintage      Vinyard  \n",
       "0     4     2013  Vinho Verde  \n",
       "1     3     2013    Peyruchet  \n",
       "2     3     2013      Abacela  \n",
       "3   2.5     2012        Ochoa  \n",
       "4     3     2012    Heartland  "
      ]
     },
     "execution_count": 29,
     "metadata": {},
     "output_type": "execute_result"
    }
   ],
   "source": [
    "r_emp = r_emp[pd.isnull(r_emp).any(axis=1)]\n",
    "r_emp.head()"
   ]
  },
  {
   "cell_type": "code",
   "execution_count": 31,
   "metadata": {
    "collapsed": false
   },
   "outputs": [
    {
     "data": {
      "text/plain": [
       "array([u'W', u'R', u'P'], dtype=object)"
      ]
     },
     "execution_count": 31,
     "metadata": {},
     "output_type": "execute_result"
    }
   ],
   "source": [
    "r_emp['Color'].unique()"
   ]
  },
  {
   "cell_type": "code",
   "execution_count": null,
   "metadata": {
    "collapsed": true
   },
   "outputs": [],
   "source": []
  },
  {
   "cell_type": "markdown",
   "metadata": {},
   "source": [
    "## Exercise 4: Feature Extraction\n",
    "\n",
    "We would like to use a regression tree to predict the score of a wine. In order to do that, we first need to select and engineer appropriate features.\n",
    "\n",
    "- Set the target to be the Score column, drop the rows with no score\n",
    "- Use pd.get_dummies to create dummy features for all the text columns\n",
    "- Fill the nan values in the numerical columns, using an appropriate method\n",
    "- Train a Decision tree regressor on the Score, using a train test split:\n",
    "        X_train, X_test, y_train, y_test, = train_test_split(X, y, test_size=0.3, random_state=42)\n",
    "- Plot the test values, the predicted values and the residuals\n",
    "- Calculate R^2 score\n",
    "- Discuss your findings\n"
   ]
  },
  {
   "cell_type": "code",
   "execution_count": null,
   "metadata": {
    "collapsed": false
   },
   "outputs": [],
   "source": []
  },
  {
   "cell_type": "markdown",
   "metadata": {},
   "source": [
    "## Exercise 5: IMDB Movies\n",
    "\n",
    "Sometimes an API doesn't provide all the information we would like to get and we need to be creative.\n",
    "Here we will use a combination of scraping and API calls to investigate the ratings and gross earnings of famous movies."
   ]
  },
  {
   "cell_type": "markdown",
   "metadata": {
    "collapsed": true
   },
   "source": [
    "## 5.a Get top movies\n",
    "\n",
    "The Internet Movie Database contains data about movies. Unfortunately it does not have a public API.\n",
    "\n",
    "The page http://www.imdb.com/chart/top contains the list of the top 250 movies of all times. Retrieve the page using the requests library and then parse the html to obtain a list of the `movie_ids` for these movies. You can parse it with regular expression or using a library like `BeautifulSoup`.\n",
    "\n",
    "**Hint:** movie_ids look like this: `tt2582802`"
   ]
  },
  {
   "cell_type": "code",
   "execution_count": null,
   "metadata": {
    "collapsed": false
   },
   "outputs": [],
   "source": []
  },
  {
   "cell_type": "markdown",
   "metadata": {},
   "source": [
    "## 5.b Get top movies data\n",
    "\n",
    "Although the Internet Movie Database does not have a public API, an open API exists at http://www.omdbapi.com.\n",
    "\n",
    "Use this API to retrieve information about each of the 250 movies you have extracted in the previous step.\n",
    "- Check the documentation of omdbapi.com to learn how to request movie data by id\n",
    "- Define a function that returns a python object with all the information for a given id\n",
    "- Iterate on all the IDs and store the results in a list of such objects\n",
    "- Create a Pandas Dataframe from the list"
   ]
  },
  {
   "cell_type": "code",
   "execution_count": null,
   "metadata": {
    "collapsed": false
   },
   "outputs": [],
   "source": []
  },
  {
   "cell_type": "markdown",
   "metadata": {},
   "source": [
    "## 5.c Get gross data\n",
    "\n",
    "The OMDB API is great, but it does not provide information about Gross Revenue of the movie. We'll revert back to scraping for this.\n",
    "\n",
    "- Write a function that retrieves the gross revenue from the entry page at imdb.com\n",
    "- The function should handle the exception of when the page doesn't report gross revenue\n",
    "- Retrieve the gross revenue for each movie and store it in a separate dataframe"
   ]
  },
  {
   "cell_type": "code",
   "execution_count": null,
   "metadata": {
    "collapsed": false
   },
   "outputs": [],
   "source": []
  },
  {
   "cell_type": "markdown",
   "metadata": {},
   "source": [
    "## 5.d Data munging\n",
    "\n",
    "- Now that you have movie information and gross revenue information, let's clean the two datasets.\n",
    "- Check if there are null values. Be careful they may appear to be valid strings.\n",
    "- Convert the columns to the appropriate formats. In particular handle:\n",
    "    - Released\n",
    "    - Runtime\n",
    "    - year\n",
    "    - imdbRating\n",
    "    - imdbVotes\n",
    "- Merge the data from the two datasets into a single one"
   ]
  },
  {
   "cell_type": "code",
   "execution_count": null,
   "metadata": {
    "collapsed": false
   },
   "outputs": [],
   "source": []
  },
  {
   "cell_type": "markdown",
   "metadata": {},
   "source": [
    "## 5.d Text vectorization\n",
    "\n",
    "There are several columns in the data that contain a comma separated list of items, for example the Genre column and the Actors column. Let's transform those to binary columns using the count vectorizer from scikit learn.\n",
    "\n",
    "Append these columns to the merged dataframe.\n",
    "\n",
    "**Hint:** In order to get the actors name right, you'll have to set the `token_pattern` parameter in `CountVectorizer` to u'(?u)\\\\w+\\.?\\\\w?\\.? \\\\w+'. Can you see why? How does this differ from the default?"
   ]
  },
  {
   "cell_type": "code",
   "execution_count": null,
   "metadata": {
    "collapsed": true
   },
   "outputs": [],
   "source": []
  },
  {
   "cell_type": "markdown",
   "metadata": {},
   "source": [
    "## Bonus:\n",
    "\n",
    "- What are the top 10 grossing movies?\n",
    "- Who are the 10 actors that appear in the most movies?\n",
    "- What's the average grossing of the movies in which each of these actors appear?\n",
    "- What genre is the oldest movie?\n"
   ]
  },
  {
   "cell_type": "code",
   "execution_count": null,
   "metadata": {
    "collapsed": false
   },
   "outputs": [],
   "source": []
  }
 ],
 "metadata": {
  "anaconda-cloud": {},
  "kernelspec": {
   "display_name": "Python [default]",
   "language": "python",
   "name": "python2"
  },
  "language_info": {
   "codemirror_mode": {
    "name": "ipython",
    "version": 2
   },
   "file_extension": ".py",
   "mimetype": "text/x-python",
   "name": "python",
   "nbconvert_exporter": "python",
   "pygments_lexer": "ipython2",
   "version": "2.7.12"
  }
 },
 "nbformat": 4,
 "nbformat_minor": 0
}
