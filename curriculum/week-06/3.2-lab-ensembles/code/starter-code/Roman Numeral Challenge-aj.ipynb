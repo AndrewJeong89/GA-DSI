{
 "cells": [
  {
   "cell_type": "code",
   "execution_count": 29,
   "metadata": {
    "collapsed": true
   },
   "outputs": [],
   "source": [
    "import pandas as pd\n",
    "import numpy as np"
   ]
  },
  {
   "cell_type": "markdown",
   "metadata": {},
   "source": [
    "I = 1\n",
    "V = 5\n",
    "X = 10\n",
    "L = 50 \n",
    "C = 100\n",
    "D = 500\n",
    "M = 1000"
   ]
  },
  {
   "cell_type": "code",
   "execution_count": 44,
   "metadata": {
    "collapsed": false
   },
   "outputs": [
    {
     "data": {
      "text/plain": [
       "'MDCLIIII'"
      ]
     },
     "execution_count": 44,
     "metadata": {},
     "output_type": "execute_result"
    }
   ],
   "source": [
    "def to_roman(n):\n",
    "        r1 = n/1000\n",
    "        r2 = (n%1000)/500\n",
    "        r3 = (n%500)/100\n",
    "        r4 = (n%100)/50\n",
    "        r5 = (n%50)/10\n",
    "        r6 = (n%10)/5\n",
    "        r7 = (n%5)/1\n",
    "        return (r1*'M')+(r2*'D')+(r3*'C')+(r4*'L')+(r5*'X')+(r6*'V')+(r7*'I')\n",
    "\n",
    "to_roman(1654)"
   ]
  },
  {
   "cell_type": "code",
   "execution_count": 75,
   "metadata": {
    "collapsed": false
   },
   "outputs": [
    {
     "data": {
      "text/plain": [
       "'MCMXCXI'"
      ]
     },
     "execution_count": 75,
     "metadata": {},
     "output_type": "execute_result"
    }
   ],
   "source": [
    "def to_roman(n):\n",
    "    r1 = n/1000\n",
    "    r2 = (n%1000)/500\n",
    "    r3 = (n%500)/100\n",
    "    r4 = (n%100)/50\n",
    "    r5 = (n%50)/10\n",
    "    r6 = (n%10)/5\n",
    "    r7 = (n%5)/1\n",
    "    \n",
    "    '''rr1 = n%900\n",
    "    rr2 = n%400\n",
    "    rr3 = n%90\n",
    "    rr4 = n%40\n",
    "    rr5 = n%9\n",
    "    rr6 = n%4'''\n",
    "    \n",
    "    if (n%1000)%900 <100 and (n%100)%90 < 10 and (n%10)%9 < 1:\n",
    "        return (r1*'M')+('CM')+('XC')+('XI')\n",
    "    \n",
    "    elif (n%1000)%900 <100 and (n%100)%90 < 10:\n",
    "        return (r1*'M')+('CM')+('XC')+(r6*'V')+(r7*'I')\n",
    "    elif (n%1000)%900 <100 and (n%10)%9 < 1:\n",
    "        return (r1*'M')+('CM')+(r4*'L')+(r5*'X')+(r6*'V')+(r7*'I') \n",
    "    \n",
    "    \n",
    "    elif (n%1000)%900 <100:\n",
    "        return (r1*'M')+('CM')+(r4*'L')+(r5*'X')+(r6*'V')+(r7*'I') \n",
    "    elif (n%1000)%400 <100 == 1:\n",
    "        return (r1*'M')+('CD')+(r4*'L')+(r5*'X')+(r6*'V')+(r7*'I')\n",
    "    elif (n%100)%90 < 10:\n",
    "        return (r1*'M')+(r2*'D')+(r3*'C')+('XC')+(r6*'V')+(r7*'I')\n",
    "    elif n/40 == 1: \n",
    "        return (r1*'M')+(r2*'D')+(r3*'C')+('XL')+(r6*'V')+(r7*'I')    \n",
    "    elif n/9 == 1: \n",
    "        return (r1*'M')+(r2*'D')+(r3*'C')+(r4*'L')+(r5*'X')+('IX')\n",
    "    elif n/4 == 1:   \n",
    "        return (r1*'M')+(r2*'D')+(r3*'C')+(r4*'L')+(r5*'X')+('IV')\n",
    "    else:\n",
    "        return (r1*'M')+(r2*'D')+(r3*'C')+(r4*'L')+(r5*'X')+(r6*'V')+(r7*'I')\n",
    "    \n",
    "    \n",
    "to_roman(1900)"
   ]
  },
  {
   "cell_type": "code",
   "execution_count": null,
   "metadata": {
    "collapsed": true
   },
   "outputs": [],
   "source": [
    "roman = [(1000, 'M'), (900, 'CM'), (500, 'D'), (400, 'CD'), (100, 'C'), (90, 'XC'),\n",
    "         (50, 'L'), (40, 'XL'), (10, 'X'), (9, 'IX'), (5, 'V'), (4, 'IV'), (1, 'I')]\n",
    "\n",
    "def to_roman(n):\n",
    "    answer = []\n",
    "    if n >= 1000:\n",
    "        answer.append[]"
   ]
  },
  {
   "cell_type": "code",
   "execution_count": null,
   "metadata": {
    "collapsed": true
   },
   "outputs": [],
   "source": [
    "def from_roman(x):\n",
    "    \n",
    "    "
   ]
  }
 ],
 "metadata": {
  "kernelspec": {
   "display_name": "Python [default]",
   "language": "python",
   "name": "python2"
  },
  "language_info": {
   "codemirror_mode": {
    "name": "ipython",
    "version": 2
   },
   "file_extension": ".py",
   "mimetype": "text/x-python",
   "name": "python",
   "nbconvert_exporter": "python",
   "pygments_lexer": "ipython2",
   "version": "2.7.12"
  }
 },
 "nbformat": 4,
 "nbformat_minor": 1
}
