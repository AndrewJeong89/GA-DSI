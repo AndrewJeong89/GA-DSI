{
 "cells": [
  {
   "cell_type": "markdown",
   "metadata": {},
   "source": [
    "<img src=\"https://ga-dash.s3.amazonaws.com/production/assets/logo-9f88ae6c9c3871690e33280fcf557f33.png\" style=\"float: left; margin: 10px\">\n",
    "\n",
    "\n",
    "\n",
    "# Individual Coding Challenge\n",
    "Week 5 | Day 3\n",
    "\n",
    "There are a series of exercises in this notebook that you will need to perform. This challenge to be done individually - without help from either fellow students or the instructors. You are free to use the documention or any online resources you choose. You will have one hour to complete this workbook. If you get stuck on one question keep moving.\n",
    "\n",
    "It must be submitted before 11.30 AM via a Slack DM or email to me (@winston / winston.featherly-bean@ga.co). \n",
    "\n",
    "#### - NO LATE ENTRIES WILL BE ACCEPTED - \n",
    "\n",
    "The Slack timestamp of submission will be definitive."
   ]
  },
  {
   "cell_type": "markdown",
   "metadata": {},
   "source": [
    "### 1. Without using any external libraries (e.g. numpy, pandas), create a list of integers at least 10 elements long and calculate: a) the mean, b) the standard deviation"
   ]
  },
  {
   "cell_type": "code",
   "execution_count": 41,
   "metadata": {
    "collapsed": false
   },
   "outputs": [],
   "source": [
    "list = [1,4,6,10,45,85,29,82,12,43]"
   ]
  },
  {
   "cell_type": "code",
   "execution_count": 42,
   "metadata": {
    "collapsed": true
   },
   "outputs": [],
   "source": [
    "def mean(data):\n",
    "    n = len(data)\n",
    "    return sum(data)/n"
   ]
  },
  {
   "cell_type": "code",
   "execution_count": 43,
   "metadata": {
    "collapsed": false
   },
   "outputs": [
    {
     "data": {
      "text/plain": [
       "31"
      ]
     },
     "execution_count": 43,
     "metadata": {},
     "output_type": "execute_result"
    }
   ],
   "source": [
    "mean(list)"
   ]
  },
  {
   "cell_type": "code",
   "execution_count": 45,
   "metadata": {
    "collapsed": true
   },
   "outputs": [],
   "source": [
    "def _ss(data):\n",
    "    c = mean(data)\n",
    "    ss = sum((x-c)**2 for x in data)\n",
    "    return ss"
   ]
  },
  {
   "cell_type": "code",
   "execution_count": 48,
   "metadata": {
    "collapsed": false
   },
   "outputs": [
    {
     "data": {
      "text/plain": [
       "29.8496231131986"
      ]
     },
     "execution_count": 48,
     "metadata": {},
     "output_type": "execute_result"
    }
   ],
   "source": [
    "def stddev(data):\n",
    "    n = len(data)\n",
    "    ss = _ss(data)\n",
    "    var = ss/n\n",
    "    return var**0.5\n",
    "\n",
    "stddev(list)"
   ]
  },
  {
   "cell_type": "markdown",
   "metadata": {},
   "source": [
    "### 2. Write code that prompts the user for a name, then returns the associated phone number from this dictionary:\n",
    "\n",
    "\n",
    "`{\"Jerry\" : \"212-555-3015\",\n",
    "\"Elaine\" : \"212-683-5555\",\n",
    "\"Kramer\" : \"212-555-0804\",\n",
    "\"George\" : \"646-111-0000\",\n",
    "\"Newman\" : \"917-666-6666\"\n",
    "}`\n",
    "\n",
    "E.g. you should see an output like:\n",
    "\n",
    "`Who do you want to call? Jerry\n",
    "212-555-3015`"
   ]
  },
  {
   "cell_type": "code",
   "execution_count": 56,
   "metadata": {
    "collapsed": false
   },
   "outputs": [],
   "source": [
    "dic = {\"Jerry\" : \"212-555-3015\",\n",
    "\"Elaine\" : \"212-683-5555\",\n",
    "\"Kramer\" : \"212-555-0804\",\n",
    "\"George\" : \"646-111-0000\",\n",
    "\"Newman\" : \"917-666-6666\"\n",
    "}"
   ]
  },
  {
   "cell_type": "code",
   "execution_count": 57,
   "metadata": {
    "collapsed": false
   },
   "outputs": [
    {
     "name": "stdout",
     "output_type": "stream",
     "text": [
      "212-555-3015\n"
     ]
    }
   ],
   "source": [
    "print dic[\"Jerry\"]"
   ]
  },
  {
   "cell_type": "code",
   "execution_count": 59,
   "metadata": {
    "collapsed": false
   },
   "outputs": [
    {
     "name": "stdout",
     "output_type": "stream",
     "text": [
      "Who do you want to call?Jerry\n",
      "212-555-3015\n"
     ]
    }
   ],
   "source": [
    "call = raw_input('Who do you want to call?')\n",
    "print dic.get(call)"
   ]
  },
  {
   "cell_type": "markdown",
   "metadata": {},
   "source": [
    "### 3. Define a function that accepts a string, converts its alphabetical characters to lower case, removes trailing or leading whitespace, and returns the result.\n",
    "\n",
    "E.g. `\"hello this is a test   \"` should return `['hello', 'this', 'is', 'a', 'test']`"
   ]
  },
  {
   "cell_type": "code",
   "execution_count": 106,
   "metadata": {
    "collapsed": false
   },
   "outputs": [],
   "source": [
    "def change(x):\n",
    "        return x.lower().split(' ')"
   ]
  },
  {
   "cell_type": "code",
   "execution_count": 107,
   "metadata": {
    "collapsed": false
   },
   "outputs": [
    {
     "name": "stdout",
     "output_type": "stream",
     "text": [
      "['hello', 'this', 'is', 'a', 'test']\n"
     ]
    }
   ],
   "source": [
    "print change(\"hello this is a test\")"
   ]
  },
  {
   "cell_type": "markdown",
   "metadata": {},
   "source": [
    "### 4. Write a program that prints the numbers from 1 to 100. But for multiples of three print “Buzz” instead of the number and for the multiples of five print \"Fizz”. For numbers which are multiples of both three and five print “BuzzFizz” \n",
    "\n",
    "For example, the numbers 8-15 look like: ... 8 Buzz 9 Fizz 11 Buzz 13 14 BuzzFizz ..."
   ]
  },
  {
   "cell_type": "raw",
   "metadata": {},
   "source": [
    "4. Write a program that prints the numbers from 1 to 100. But for multiples of three print “Buzz” instead of the number and for the multiples of five print \"Fizz”. For numbers which are multiples of both three and five print “BuzzFizz”\n",
    "For example, the numbers 8-15 look like: ... 8 Buzz Fizz 11 Buzz 13 14 BuzzFizz ..."
   ]
  },
  {
   "cell_type": "code",
   "execution_count": 111,
   "metadata": {
    "collapsed": false
   },
   "outputs": [
    {
     "name": "stdout",
     "output_type": "stream",
     "text": [
      "1\n",
      "2\n",
      "Buzz\n",
      "4\n",
      "Fizz\n",
      "Buzz\n",
      "7\n",
      "8\n",
      "Buzz\n",
      "Fizz\n",
      "11\n",
      "Buzz\n",
      "13\n",
      "14\n",
      "BuzzFizz\n",
      "16\n",
      "17\n",
      "Buzz\n",
      "19\n",
      "Fizz\n",
      "Buzz\n",
      "22\n",
      "23\n",
      "Buzz\n",
      "Fizz\n",
      "26\n",
      "Buzz\n",
      "28\n",
      "29\n",
      "BuzzFizz\n",
      "31\n",
      "32\n",
      "Buzz\n",
      "34\n",
      "Fizz\n",
      "Buzz\n",
      "37\n",
      "38\n",
      "Buzz\n",
      "Fizz\n",
      "41\n",
      "Buzz\n",
      "43\n",
      "44\n",
      "BuzzFizz\n",
      "46\n",
      "47\n",
      "Buzz\n",
      "49\n",
      "Fizz\n",
      "Buzz\n",
      "52\n",
      "53\n",
      "Buzz\n",
      "Fizz\n",
      "56\n",
      "Buzz\n",
      "58\n",
      "59\n",
      "BuzzFizz\n",
      "61\n",
      "62\n",
      "Buzz\n",
      "64\n",
      "Fizz\n",
      "Buzz\n",
      "67\n",
      "68\n",
      "Buzz\n",
      "Fizz\n",
      "71\n",
      "Buzz\n",
      "73\n",
      "74\n",
      "BuzzFizz\n",
      "76\n",
      "77\n",
      "Buzz\n",
      "79\n",
      "Fizz\n",
      "Buzz\n",
      "82\n",
      "83\n",
      "Buzz\n",
      "Fizz\n",
      "86\n",
      "Buzz\n",
      "88\n",
      "89\n",
      "BuzzFizz\n",
      "91\n",
      "92\n",
      "Buzz\n",
      "94\n",
      "Fizz\n",
      "Buzz\n",
      "97\n",
      "98\n",
      "Buzz\n"
     ]
    }
   ],
   "source": [
    "for x in range(1,100):\n",
    "    if x % 5 ==0 and x % 3 == 0:\n",
    "        print 'BuzzFizz'\n",
    "    elif x % 3 == 0:\n",
    "        print 'Buzz'\n",
    "    elif x % 5 == 0:\n",
    "        print 'Fizz'   \n",
    "    else:\n",
    "        print x "
   ]
  },
  {
   "cell_type": "markdown",
   "metadata": {},
   "source": [
    "### 5. Using the `requests` library and a for- or while- loop, send 5 HTTP GET requests to google.com (or another site of your choice). For each result, select the value of the 'Date' header and split its elements into a list. Print the `hour:minute:second` elements of these lists.\n",
    "\n",
    "E.g.:\n",
    "\n",
    "`\n",
    "13:35:11\n",
    "13:35:12\n",
    "13:35:12\n",
    "13:35:12\n",
    "13:35:12\n",
    "`"
   ]
  },
  {
   "cell_type": "code",
   "execution_count": 114,
   "metadata": {
    "collapsed": false
   },
   "outputs": [
    {
     "data": {
      "text/plain": [
       "<Response [200]>"
      ]
     },
     "execution_count": 114,
     "metadata": {},
     "output_type": "execute_result"
    }
   ],
   "source": [
    "import requests\n",
    "\n",
    "for  \n",
    "requests.get('https://www.google.com')\n",
    "r"
   ]
  },
  {
   "cell_type": "markdown",
   "metadata": {},
   "source": [
    "### 6. Define a function that prints out a box of x,y dimensions using the '-' and '|' characters\n",
    "E.g. if your function gets the inputs x=3, y =2, it should print out:\n",
    "\n",
    "```\n",
    "---\n",
    "| |\n",
    "| |\n",
    "---\n",
    "```"
   ]
  },
  {
   "cell_type": "code",
   "execution_count": null,
   "metadata": {
    "collapsed": false
   },
   "outputs": [],
   "source": []
  },
  {
   "cell_type": "markdown",
   "metadata": {},
   "source": [
    "### 7. Write a function that returns the value at any (column, row) location of [Pascal's triangle](https://en.wikipedia.org/wiki/Pascal%27s_triangle) (not easy!).\n",
    "\n",
    "E.g. pascal(1,2) would return 2 from the structure. Note that this is 0-indexed:\n",
    "\n",
    "\n",
    "```\n",
    "     1\n",
    "    1 1\n",
    "   1 2 1\n",
    "  1 3 3 1\n",
    " 1 4 6 4 1\n",
    "```\n",
    " \n",
    "Explain your solution with comments in the code.\n",
    " "
   ]
  },
  {
   "cell_type": "code",
   "execution_count": null,
   "metadata": {
    "collapsed": false
   },
   "outputs": [],
   "source": []
  }
 ],
 "metadata": {
  "anaconda-cloud": {},
  "kernelspec": {
   "display_name": "Python [default]",
   "language": "python",
   "name": "python2"
  },
  "language_info": {
   "codemirror_mode": {
    "name": "ipython",
    "version": 2
   },
   "file_extension": ".py",
   "mimetype": "text/x-python",
   "name": "python",
   "nbconvert_exporter": "python",
   "pygments_lexer": "ipython2",
   "version": "2.7.12"
  }
 },
 "nbformat": 4,
 "nbformat_minor": 0
}
