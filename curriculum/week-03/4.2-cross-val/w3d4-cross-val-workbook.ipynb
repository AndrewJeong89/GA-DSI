{
 "cells": [
  {
   "cell_type": "code",
<<<<<<< HEAD
   "execution_count": 3,
=======
   "execution_count": 1,
>>>>>>> e16f0559d51cc8e04f1e2f419570debac0262fdf
   "metadata": {
    "collapsed": false,
    "slideshow": {
     "slide_type": "skip"
    }
   },
   "outputs": [],
   "source": [
    "import pandas as pd"
   ]
  },
  {
   "cell_type": "markdown",
   "metadata": {
    "slideshow": {
     "slide_type": "slide"
    }
   },
   "source": [
    "# ![](https://ga-dash.s3.amazonaws.com/production/assets/logo-9f88ae6c9c3871690e33280fcf557f33.png) <br>Regularization & Cross Validation Implementation <br>in Scikit-Learn\n",
    "\n",
    "Week 3 | Day 4"
   ]
  },
  {
   "cell_type": "markdown",
   "metadata": {
    "slideshow": {
     "slide_type": "slide"
    }
   },
   "source": [
    "### LEARNING OBJECTIVES\n",
    "*After this lesson, you will be able to:*\n",
    "- Implement LASSO and Ridge regressions in sklearn\n",
    "- Explain the importance of hold-out data\n",
    "- Explain the different cross val strategies\n",
    "- Perform cross validation scoring\n",
    "- Make cross validation predictions"
   ]
  },
  {
   "cell_type": "markdown",
   "metadata": {
    "slideshow": {
     "slide_type": "slide"
    }
   },
   "source": [
    "## Regularization Recap\n",
    "\n",
    "- What is regularization?\n",
    "- Why do we use it?"
   ]
  },
  {
   "cell_type": "markdown",
   "metadata": {
    "slideshow": {
     "slide_type": "slide"
    }
   },
   "source": [
    "## Key Takeaway:\n",
    "<br>\n",
    "__A model that fits well is not necessarily a model that predicts well.__\n",
    "\n",
    "- Regularization ensures we don't overfit our training data. \n",
<<<<<<< HEAD
    "- Our ultimate goal in modeling is to be able to predict using new/future data."
=======
    "- Our ultimate goal in modeling is to be able to predict using new/future data.\n",
    "- Generalizes"
>>>>>>> e16f0559d51cc8e04f1e2f419570debac0262fdf
   ]
  },
  {
   "cell_type": "markdown",
   "metadata": {
    "slideshow": {
     "slide_type": "slide"
    }
   },
   "source": [
    "## Example: Modeling a chair\n",
    "\n",
    "- Partner up and create a model of a chair\n",
    "- Your model should include a checklist of positive attributes\n",
    "- If an example passes these it will be considered a chair\n",
    "- If it fails it will not be considered a chair\n",
    "- I will provide a test set and we will see which team builds the best model"
   ]
  },
  {
   "cell_type": "markdown",
   "metadata": {
    "slideshow": {
     "slide_type": "slide"
    }
   },
   "source": [
    "## Modeling success = predictive success\n",
    "\n",
    "To ensure this, we do a couple of things:\n",
    "    \n",
    "- Regularization: enforces simple models by penalizing complexity (as measured by beta magnitudes)\n",
    "\n",
    "- Cross Validation: ensures our model performs well on unseen data"
   ]
  },
  {
   "cell_type": "markdown",
   "metadata": {
    "slideshow": {
     "slide_type": "slide"
    }
   },
   "source": [
    "## We're now going to see how we can implement both regularization and cross validation in sklearn"
   ]
  },
  {
   "cell_type": "markdown",
   "metadata": {
    "slideshow": {
     "slide_type": "slide"
    }
   },
   "source": [
    "## Load the data"
   ]
  },
  {
   "cell_type": "code",
<<<<<<< HEAD
   "execution_count": 4,
=======
   "execution_count": 2,
>>>>>>> e16f0559d51cc8e04f1e2f419570debac0262fdf
   "metadata": {
    "collapsed": false,
    "hidePrompt": true,
    "slideshow": {
     "slide_type": "-"
    }
   },
   "outputs": [],
   "source": [
    "# import the sklearn datasets library\n",
    "from sklearn import datasets\n",
    "\n",
    "# load the boston dataset\n",
    "boston = datasets.load_boston()"
   ]
  },
  {
   "cell_type": "code",
<<<<<<< HEAD
   "execution_count": 5,
=======
   "execution_count": 3,
>>>>>>> e16f0559d51cc8e04f1e2f419570debac0262fdf
   "metadata": {
    "collapsed": false,
    "slideshow": {
     "slide_type": "-"
    }
   },
   "outputs": [
    {
     "data": {
      "text/plain": [
       "sklearn.datasets.base.Bunch"
      ]
     },
<<<<<<< HEAD
     "execution_count": 5,
=======
     "execution_count": 3,
>>>>>>> e16f0559d51cc8e04f1e2f419570debac0262fdf
     "metadata": {},
     "output_type": "execute_result"
    }
   ],
   "source": [
    "# see what we're dealing with...\n",
    "type(boston)"
   ]
  },
  {
   "cell_type": "markdown",
   "metadata": {
    "slideshow": {
     "slide_type": "slide"
    }
   },
   "source": [
    "## Let's examine it further"
   ]
  },
  {
   "cell_type": "code",
<<<<<<< HEAD
   "execution_count": 6,
=======
   "execution_count": 4,
>>>>>>> e16f0559d51cc8e04f1e2f419570debac0262fdf
   "metadata": {
    "collapsed": false,
    "scrolled": true,
    "slideshow": {
     "slide_type": "-"
    }
   },
   "outputs": [
    {
     "data": {
      "text/plain": [
       "{'DESCR': \"Boston House Prices dataset\\n\\nNotes\\n------\\nData Set Characteristics:  \\n\\n    :Number of Instances: 506 \\n\\n    :Number of Attributes: 13 numeric/categorical predictive\\n    \\n    :Median Value (attribute 14) is usually the target\\n\\n    :Attribute Information (in order):\\n        - CRIM     per capita crime rate by town\\n        - ZN       proportion of residential land zoned for lots over 25,000 sq.ft.\\n        - INDUS    proportion of non-retail business acres per town\\n        - CHAS     Charles River dummy variable (= 1 if tract bounds river; 0 otherwise)\\n        - NOX      nitric oxides concentration (parts per 10 million)\\n        - RM       average number of rooms per dwelling\\n        - AGE      proportion of owner-occupied units built prior to 1940\\n        - DIS      weighted distances to five Boston employment centres\\n        - RAD      index of accessibility to radial highways\\n        - TAX      full-value property-tax rate per $10,000\\n        - PTRATIO  pupil-teacher ratio by town\\n        - B        1000(Bk - 0.63)^2 where Bk is the proportion of blacks by town\\n        - LSTAT    % lower status of the population\\n        - MEDV     Median value of owner-occupied homes in $1000's\\n\\n    :Missing Attribute Values: None\\n\\n    :Creator: Harrison, D. and Rubinfeld, D.L.\\n\\nThis is a copy of UCI ML housing dataset.\\nhttp://archive.ics.uci.edu/ml/datasets/Housing\\n\\n\\nThis dataset was taken from the StatLib library which is maintained at Carnegie Mellon University.\\n\\nThe Boston house-price data of Harrison, D. and Rubinfeld, D.L. 'Hedonic\\nprices and the demand for clean air', J. Environ. Economics & Management,\\nvol.5, 81-102, 1978.   Used in Belsley, Kuh & Welsch, 'Regression diagnostics\\n...', Wiley, 1980.   N.B. Various transformations are used in the table on\\npages 244-261 of the latter.\\n\\nThe Boston house-price data has been used in many machine learning papers that address regression\\nproblems.   \\n     \\n**References**\\n\\n   - Belsley, Kuh & Welsch, 'Regression diagnostics: Identifying Influential Data and Sources of Collinearity', Wiley, 1980. 244-261.\\n   - Quinlan,R. (1993). Combining Instance-Based and Model-Based Learning. In Proceedings on the Tenth International Conference of Machine Learning, 236-243, University of Massachusetts, Amherst. Morgan Kaufmann.\\n   - many more! (see http://archive.ics.uci.edu/ml/datasets/Housing)\\n\",\n",
       " 'data': array([[  6.32000000e-03,   1.80000000e+01,   2.31000000e+00, ...,\n",
       "           1.53000000e+01,   3.96900000e+02,   4.98000000e+00],\n",
       "        [  2.73100000e-02,   0.00000000e+00,   7.07000000e+00, ...,\n",
       "           1.78000000e+01,   3.96900000e+02,   9.14000000e+00],\n",
       "        [  2.72900000e-02,   0.00000000e+00,   7.07000000e+00, ...,\n",
       "           1.78000000e+01,   3.92830000e+02,   4.03000000e+00],\n",
       "        ..., \n",
       "        [  6.07600000e-02,   0.00000000e+00,   1.19300000e+01, ...,\n",
       "           2.10000000e+01,   3.96900000e+02,   5.64000000e+00],\n",
       "        [  1.09590000e-01,   0.00000000e+00,   1.19300000e+01, ...,\n",
       "           2.10000000e+01,   3.93450000e+02,   6.48000000e+00],\n",
       "        [  4.74100000e-02,   0.00000000e+00,   1.19300000e+01, ...,\n",
       "           2.10000000e+01,   3.96900000e+02,   7.88000000e+00]]),\n",
       " 'feature_names': array(['CRIM', 'ZN', 'INDUS', 'CHAS', 'NOX', 'RM', 'AGE', 'DIS', 'RAD',\n",
       "        'TAX', 'PTRATIO', 'B', 'LSTAT'], \n",
       "       dtype='|S7'),\n",
       " 'target': array([ 24. ,  21.6,  34.7,  33.4,  36.2,  28.7,  22.9,  27.1,  16.5,\n",
       "         18.9,  15. ,  18.9,  21.7,  20.4,  18.2,  19.9,  23.1,  17.5,\n",
       "         20.2,  18.2,  13.6,  19.6,  15.2,  14.5,  15.6,  13.9,  16.6,\n",
       "         14.8,  18.4,  21. ,  12.7,  14.5,  13.2,  13.1,  13.5,  18.9,\n",
       "         20. ,  21. ,  24.7,  30.8,  34.9,  26.6,  25.3,  24.7,  21.2,\n",
       "         19.3,  20. ,  16.6,  14.4,  19.4,  19.7,  20.5,  25. ,  23.4,\n",
       "         18.9,  35.4,  24.7,  31.6,  23.3,  19.6,  18.7,  16. ,  22.2,\n",
       "         25. ,  33. ,  23.5,  19.4,  22. ,  17.4,  20.9,  24.2,  21.7,\n",
       "         22.8,  23.4,  24.1,  21.4,  20. ,  20.8,  21.2,  20.3,  28. ,\n",
       "         23.9,  24.8,  22.9,  23.9,  26.6,  22.5,  22.2,  23.6,  28.7,\n",
       "         22.6,  22. ,  22.9,  25. ,  20.6,  28.4,  21.4,  38.7,  43.8,\n",
       "         33.2,  27.5,  26.5,  18.6,  19.3,  20.1,  19.5,  19.5,  20.4,\n",
       "         19.8,  19.4,  21.7,  22.8,  18.8,  18.7,  18.5,  18.3,  21.2,\n",
       "         19.2,  20.4,  19.3,  22. ,  20.3,  20.5,  17.3,  18.8,  21.4,\n",
       "         15.7,  16.2,  18. ,  14.3,  19.2,  19.6,  23. ,  18.4,  15.6,\n",
       "         18.1,  17.4,  17.1,  13.3,  17.8,  14. ,  14.4,  13.4,  15.6,\n",
       "         11.8,  13.8,  15.6,  14.6,  17.8,  15.4,  21.5,  19.6,  15.3,\n",
       "         19.4,  17. ,  15.6,  13.1,  41.3,  24.3,  23.3,  27. ,  50. ,\n",
       "         50. ,  50. ,  22.7,  25. ,  50. ,  23.8,  23.8,  22.3,  17.4,\n",
       "         19.1,  23.1,  23.6,  22.6,  29.4,  23.2,  24.6,  29.9,  37.2,\n",
       "         39.8,  36.2,  37.9,  32.5,  26.4,  29.6,  50. ,  32. ,  29.8,\n",
       "         34.9,  37. ,  30.5,  36.4,  31.1,  29.1,  50. ,  33.3,  30.3,\n",
       "         34.6,  34.9,  32.9,  24.1,  42.3,  48.5,  50. ,  22.6,  24.4,\n",
       "         22.5,  24.4,  20. ,  21.7,  19.3,  22.4,  28.1,  23.7,  25. ,\n",
       "         23.3,  28.7,  21.5,  23. ,  26.7,  21.7,  27.5,  30.1,  44.8,\n",
       "         50. ,  37.6,  31.6,  46.7,  31.5,  24.3,  31.7,  41.7,  48.3,\n",
       "         29. ,  24. ,  25.1,  31.5,  23.7,  23.3,  22. ,  20.1,  22.2,\n",
       "         23.7,  17.6,  18.5,  24.3,  20.5,  24.5,  26.2,  24.4,  24.8,\n",
       "         29.6,  42.8,  21.9,  20.9,  44. ,  50. ,  36. ,  30.1,  33.8,\n",
       "         43.1,  48.8,  31. ,  36.5,  22.8,  30.7,  50. ,  43.5,  20.7,\n",
       "         21.1,  25.2,  24.4,  35.2,  32.4,  32. ,  33.2,  33.1,  29.1,\n",
       "         35.1,  45.4,  35.4,  46. ,  50. ,  32.2,  22. ,  20.1,  23.2,\n",
       "         22.3,  24.8,  28.5,  37.3,  27.9,  23.9,  21.7,  28.6,  27.1,\n",
       "         20.3,  22.5,  29. ,  24.8,  22. ,  26.4,  33.1,  36.1,  28.4,\n",
       "         33.4,  28.2,  22.8,  20.3,  16.1,  22.1,  19.4,  21.6,  23.8,\n",
       "         16.2,  17.8,  19.8,  23.1,  21. ,  23.8,  23.1,  20.4,  18.5,\n",
       "         25. ,  24.6,  23. ,  22.2,  19.3,  22.6,  19.8,  17.1,  19.4,\n",
       "         22.2,  20.7,  21.1,  19.5,  18.5,  20.6,  19. ,  18.7,  32.7,\n",
       "         16.5,  23.9,  31.2,  17.5,  17.2,  23.1,  24.5,  26.6,  22.9,\n",
       "         24.1,  18.6,  30.1,  18.2,  20.6,  17.8,  21.7,  22.7,  22.6,\n",
       "         25. ,  19.9,  20.8,  16.8,  21.9,  27.5,  21.9,  23.1,  50. ,\n",
       "         50. ,  50. ,  50. ,  50. ,  13.8,  13.8,  15. ,  13.9,  13.3,\n",
       "         13.1,  10.2,  10.4,  10.9,  11.3,  12.3,   8.8,   7.2,  10.5,\n",
       "          7.4,  10.2,  11.5,  15.1,  23.2,   9.7,  13.8,  12.7,  13.1,\n",
       "         12.5,   8.5,   5. ,   6.3,   5.6,   7.2,  12.1,   8.3,   8.5,\n",
       "          5. ,  11.9,  27.9,  17.2,  27.5,  15. ,  17.2,  17.9,  16.3,\n",
       "          7. ,   7.2,   7.5,  10.4,   8.8,   8.4,  16.7,  14.2,  20.8,\n",
       "         13.4,  11.7,   8.3,  10.2,  10.9,  11. ,   9.5,  14.5,  14.1,\n",
       "         16.1,  14.3,  11.7,  13.4,   9.6,   8.7,   8.4,  12.8,  10.5,\n",
       "         17.1,  18.4,  15.4,  10.8,  11.8,  14.9,  12.6,  14.1,  13. ,\n",
       "         13.4,  15.2,  16.1,  17.8,  14.9,  14.1,  12.7,  13.5,  14.9,\n",
       "         20. ,  16.4,  17.7,  19.5,  20.2,  21.4,  19.9,  19. ,  19.1,\n",
       "         19.1,  20.1,  19.9,  19.6,  23.2,  29.8,  13.8,  13.3,  16.7,\n",
       "         12. ,  14.6,  21.4,  23. ,  23.7,  25. ,  21.8,  20.6,  21.2,\n",
       "         19.1,  20.6,  15.2,   7. ,   8.1,  13.6,  20.1,  21.8,  24.5,\n",
       "         23.1,  19.7,  18.3,  21.2,  17.5,  16.8,  22.4,  20.6,  23.9,\n",
       "         22. ,  11.9])}"
      ]
     },
<<<<<<< HEAD
     "execution_count": 6,
=======
     "execution_count": 4,
>>>>>>> e16f0559d51cc8e04f1e2f419570debac0262fdf
     "metadata": {},
     "output_type": "execute_result"
    }
   ],
   "source": [
    "# further examination shows it functions as a python dict\n",
    "boston"
   ]
  },
  {
   "cell_type": "markdown",
   "metadata": {
    "slideshow": {
     "slide_type": "slide"
    }
   },
   "source": [
    "## Treating it like a dict"
   ]
  },
  {
   "cell_type": "code",
<<<<<<< HEAD
   "execution_count": 7,
=======
   "execution_count": 5,
>>>>>>> e16f0559d51cc8e04f1e2f419570debac0262fdf
   "metadata": {
    "collapsed": false,
    "hidePrompt": true,
    "slideshow": {
     "slide_type": "-"
    }
   },
   "outputs": [
    {
     "data": {
      "text/plain": [
       "['data', 'feature_names', 'DESCR', 'target']"
      ]
     },
<<<<<<< HEAD
     "execution_count": 7,
=======
     "execution_count": 5,
>>>>>>> e16f0559d51cc8e04f1e2f419570debac0262fdf
     "metadata": {},
     "output_type": "execute_result"
    }
   ],
   "source": [
    "boston.keys()"
   ]
  },
  {
   "cell_type": "code",
<<<<<<< HEAD
   "execution_count": 8,
=======
   "execution_count": 6,
>>>>>>> e16f0559d51cc8e04f1e2f419570debac0262fdf
   "metadata": {
    "collapsed": false,
    "hidePrompt": true,
    "slideshow": {
     "slide_type": "-"
    }
   },
   "outputs": [
    {
     "data": {
      "text/plain": [
       "(506, 13)"
      ]
     },
<<<<<<< HEAD
     "execution_count": 8,
=======
     "execution_count": 6,
>>>>>>> e16f0559d51cc8e04f1e2f419570debac0262fdf
     "metadata": {},
     "output_type": "execute_result"
    }
   ],
   "source": [
    "boston.data.shape"
   ]
  },
  {
   "cell_type": "code",
<<<<<<< HEAD
   "execution_count": 9,
=======
   "execution_count": 7,
>>>>>>> e16f0559d51cc8e04f1e2f419570debac0262fdf
   "metadata": {
    "collapsed": false,
    "hidePrompt": true,
    "slideshow": {
     "slide_type": "-"
    }
   },
   "outputs": [
    {
     "data": {
      "text/plain": [
       "array(['CRIM', 'ZN', 'INDUS', 'CHAS', 'NOX', 'RM', 'AGE', 'DIS', 'RAD',\n",
       "       'TAX', 'PTRATIO', 'B', 'LSTAT'], \n",
       "      dtype='|S7')"
      ]
     },
<<<<<<< HEAD
     "execution_count": 9,
=======
     "execution_count": 7,
>>>>>>> e16f0559d51cc8e04f1e2f419570debac0262fdf
     "metadata": {},
     "output_type": "execute_result"
    }
   ],
   "source": [
    "boston.feature_names"
   ]
  },
  {
   "cell_type": "markdown",
   "metadata": {
    "slideshow": {
     "slide_type": "slide"
    }
   },
   "source": [
    "## Load it into a DataFrame"
   ]
  },
  {
   "cell_type": "code",
<<<<<<< HEAD
   "execution_count": 10,
=======
   "execution_count": 8,
>>>>>>> e16f0559d51cc8e04f1e2f419570debac0262fdf
   "metadata": {
    "collapsed": false,
    "hidePrompt": true,
    "slideshow": {
     "slide_type": "-"
    }
   },
   "outputs": [],
   "source": [
    "# set the X matrix/DataFrame (IVs) and use the feature names as cols\n",
    "df_X = pd.DataFrame(boston.data, columns=boston.feature_names)\n",
    "\n",
    "# set the y vector/Series (DV)\n",
    "df_y = boston.target"
   ]
  },
  {
   "cell_type": "markdown",
   "metadata": {
    "slideshow": {
     "slide_type": "slide"
    }
   },
   "source": [
    "## Set X matrix (independent variables) and y (dependent variable)"
   ]
  },
  {
   "cell_type": "code",
<<<<<<< HEAD
   "execution_count": 11,
=======
   "execution_count": 9,
>>>>>>> e16f0559d51cc8e04f1e2f419570debac0262fdf
   "metadata": {
    "collapsed": false,
    "hidePrompt": true,
    "slideshow": {
     "slide_type": "-"
    }
   },
   "outputs": [],
   "source": [
    "# save feature matrix and target vector as X and y by convention\n",
    "X = df_X\n",
    "y = df_y"
   ]
  },
  {
   "cell_type": "code",
<<<<<<< HEAD
   "execution_count": 12,
=======
   "execution_count": 10,
>>>>>>> e16f0559d51cc8e04f1e2f419570debac0262fdf
   "metadata": {
    "collapsed": false,
    "hidePrompt": true,
    "slideshow": {
     "slide_type": "-"
    }
   },
   "outputs": [
    {
     "data": {
      "text/plain": [
       "(506, 13)"
      ]
     },
<<<<<<< HEAD
     "execution_count": 12,
=======
     "execution_count": 10,
>>>>>>> e16f0559d51cc8e04f1e2f419570debac0262fdf
     "metadata": {},
     "output_type": "execute_result"
    }
   ],
   "source": [
    "X.shape"
   ]
  },
  {
   "cell_type": "code",
<<<<<<< HEAD
   "execution_count": 13,
=======
   "execution_count": 11,
>>>>>>> e16f0559d51cc8e04f1e2f419570debac0262fdf
   "metadata": {
    "collapsed": false,
    "hidePrompt": true,
    "slideshow": {
     "slide_type": "-"
    }
   },
   "outputs": [
    {
     "data": {
      "text/plain": [
       "(506,)"
      ]
     },
<<<<<<< HEAD
     "execution_count": 13,
=======
     "execution_count": 11,
>>>>>>> e16f0559d51cc8e04f1e2f419570debac0262fdf
     "metadata": {},
     "output_type": "execute_result"
    }
   ],
   "source": [
    "y.shape"
   ]
  },
  {
   "cell_type": "markdown",
   "metadata": {
    "slideshow": {
     "slide_type": "slide"
    }
   },
   "source": [
    "## Fit a standard linear regression"
   ]
  },
  {
   "cell_type": "code",
<<<<<<< HEAD
   "execution_count": 189,
=======
   "execution_count": 12,
>>>>>>> e16f0559d51cc8e04f1e2f419570debac0262fdf
   "metadata": {
    "collapsed": true,
    "hidePrompt": true,
    "slideshow": {
     "slide_type": "-"
    }
   },
   "outputs": [],
   "source": [
    "from sklearn import linear_model\n",
    "\n",
    "# import our estimator\n",
    "lr = linear_model.LinearRegression()"
   ]
  },
  {
   "cell_type": "code",
<<<<<<< HEAD
   "execution_count": 190,
=======
   "execution_count": 80,
>>>>>>> e16f0559d51cc8e04f1e2f419570debac0262fdf
   "metadata": {
    "collapsed": false,
    "hidePrompt": true,
    "slideshow": {
     "slide_type": "-"
    }
   },
   "outputs": [],
   "source": [
    "# fit our model using our data and target\n",
    "lr_model = lr.fit(X, y)"
   ]
  },
  {
   "cell_type": "markdown",
   "metadata": {
    "slideshow": {
     "slide_type": "slide"
    }
   },
   "source": [
    "## Get the r<sup>2</sup>"
   ]
  },
  {
   "cell_type": "code",
<<<<<<< HEAD
   "execution_count": 191,
=======
   "execution_count": 14,
>>>>>>> e16f0559d51cc8e04f1e2f419570debac0262fdf
   "metadata": {
    "collapsed": false,
    "hidePrompt": true,
    "slideshow": {
     "slide_type": "-"
    }
   },
   "outputs": [],
   "source": [
    "from sklearn.metrics import r2_score\n",
    "\n",
    "y_true = y\n",
    "y_pred = lr_model.predict(X)\n",
    "\n",
    "lr_r2 =  r2_score(y_true=y_true, y_pred=y_pred)"
   ]
  },
  {
   "cell_type": "code",
<<<<<<< HEAD
   "execution_count": 192,
=======
   "execution_count": 17,
   "metadata": {
    "collapsed": false
   },
   "outputs": [
    {
     "data": {
      "text/plain": [
       "0.7406077428649428"
      ]
     },
     "execution_count": 17,
     "metadata": {},
     "output_type": "execute_result"
    }
   ],
   "source": [
    "r2_score(y_true, y_pred)"
   ]
  },
  {
   "cell_type": "code",
   "execution_count": 15,
>>>>>>> e16f0559d51cc8e04f1e2f419570debac0262fdf
   "metadata": {
    "collapsed": false,
    "hidePrompt": true,
    "slideshow": {
     "slide_type": "-"
    }
   },
   "outputs": [
    {
     "data": {
      "text/plain": [
<<<<<<< HEAD
       "0.74060774286494269"
      ]
     },
     "execution_count": 192,
=======
       "0.7406077428649428"
      ]
     },
     "execution_count": 15,
>>>>>>> e16f0559d51cc8e04f1e2f419570debac0262fdf
     "metadata": {},
     "output_type": "execute_result"
    }
   ],
   "source": [
    "lr_r2"
   ]
  },
  {
   "cell_type": "markdown",
   "metadata": {
    "slideshow": {
     "slide_type": "slide"
    }
   },
   "source": [
    "## Plot our predictions vs. actual values"
   ]
  },
  {
   "cell_type": "code",
<<<<<<< HEAD
   "execution_count": 193,
=======
   "execution_count": 19,
>>>>>>> e16f0559d51cc8e04f1e2f419570debac0262fdf
   "metadata": {
    "collapsed": false,
    "slideshow": {
     "slide_type": "-"
    }
   },
   "outputs": [
    {
     "data": {
<<<<<<< HEAD
      "image/png": "iVBORw0KGgoAAAANSUhEUgAAA00AAAGKCAYAAADQcaoJAAAABHNCSVQICAgIfAhkiAAAAAlwSFlz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\nookkTREREREREU38B6EQz/H4xz7OAAAAAElFTkSuQmCC\n",
      "text/plain": [
       "<matplotlib.figure.Figure at 0x11ed5b510>"
=======
      "image/png": "iVBORw0KGgoAAAANSUhEUgAABI8AAAIkCAYAAACX/gsVAAAABHNCSVQICAgIfAhkiAAAAAlwSFlz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\nAElFTkSuQmCC\n",
      "text/plain": [
       "<matplotlib.figure.Figure at 0x118528890>"
>>>>>>> e16f0559d51cc8e04f1e2f419570debac0262fdf
      ]
     },
     "metadata": {},
     "output_type": "display_data"
    }
   ],
   "source": [
    "import matplotlib.pyplot as plt\n",
    "import seaborn as sns\n",
    "plt.style.use('seaborn-white')\n",
    "%matplotlib inline\n",
    "\n",
    "ax = sns.regplot(y_pred, y_true)\n",
    "ax.figure.set_figheight(6)\n",
    "ax.figure.set_figwidth(14)\n",
    "plt.annotate('r-squared = ' + str(round(lr_r2,2)), xy=(41,-7), fontsize=12)\n",
    "ax.set_ylabel('Actual Values')\n",
    "ax.set_xlabel('Predicted Values')\n",
<<<<<<< HEAD
    "ax.set_title('Predicted vs. Actual Values');"
=======
    "ax.set_title('Predicted vs. Actual Values');\n",
    "\n",
    "# Best Practice\n",
    "# predicted values (x - axis), actual values (y- axis)"
>>>>>>> e16f0559d51cc8e04f1e2f419570debac0262fdf
   ]
  },
  {
   "cell_type": "markdown",
   "metadata": {
    "slideshow": {
     "slide_type": "slide"
    }
   },
   "source": [
    "## Get the coefficients (betas)"
   ]
  },
  {
   "cell_type": "code",
<<<<<<< HEAD
   "execution_count": 194,
=======
   "execution_count": 22,
>>>>>>> e16f0559d51cc8e04f1e2f419570debac0262fdf
   "metadata": {
    "collapsed": false,
    "hidePrompt": true,
    "slideshow": {
     "slide_type": "-"
    }
   },
   "outputs": [
    {
     "data": {
      "text/plain": [
       "13"
      ]
     },
<<<<<<< HEAD
     "execution_count": 194,
=======
     "execution_count": 22,
>>>>>>> e16f0559d51cc8e04f1e2f419570debac0262fdf
     "metadata": {},
     "output_type": "execute_result"
    }
   ],
   "source": [
    "# each feature has an associated coefficient\n",
    "len(lr_model.coef_)"
   ]
  },
  {
   "cell_type": "code",
<<<<<<< HEAD
   "execution_count": 195,
=======
   "execution_count": 23,
>>>>>>> e16f0559d51cc8e04f1e2f419570debac0262fdf
   "metadata": {
    "collapsed": false,
    "hidePrompt": true,
    "slideshow": {
     "slide_type": "-"
    }
   },
   "outputs": [
    {
     "data": {
      "text/plain": [
       "array([ -1.07170557e-01,   4.63952195e-02,   2.08602395e-02,\n",
       "         2.68856140e+00,  -1.77957587e+01,   3.80475246e+00,\n",
       "         7.51061703e-04,  -1.47575880e+00,   3.05655038e-01,\n",
       "        -1.23293463e-02,  -9.53463555e-01,   9.39251272e-03,\n",
       "        -5.25466633e-01])"
      ]
     },
<<<<<<< HEAD
     "execution_count": 195,
=======
     "execution_count": 23,
>>>>>>> e16f0559d51cc8e04f1e2f419570debac0262fdf
     "metadata": {},
     "output_type": "execute_result"
    }
   ],
   "source": [
    "# we can retrieve those\n",
    "lr_model.coef_"
   ]
  },
  {
   "cell_type": "markdown",
   "metadata": {
    "slideshow": {
     "slide_type": "slide"
    }
   },
   "source": [
    "## Mean abs. value of the coefficients"
   ]
  },
  {
   "cell_type": "code",
<<<<<<< HEAD
   "execution_count": 196,
=======
   "execution_count": 24,
>>>>>>> e16f0559d51cc8e04f1e2f419570debac0262fdf
   "metadata": {
    "collapsed": false,
    "hidePrompt": true,
    "slideshow": {
     "slide_type": "-"
    }
   },
   "outputs": [
    {
     "data": {
      "text/plain": [
<<<<<<< HEAD
       "2.1343319598991153"
      ]
     },
     "execution_count": 196,
=======
       "2.1343319598991002"
      ]
     },
     "execution_count": 24,
>>>>>>> e16f0559d51cc8e04f1e2f419570debac0262fdf
     "metadata": {},
     "output_type": "execute_result"
    }
   ],
   "source": [
    "abs(lr_model.coef_).mean()"
   ]
  },
  {
   "cell_type": "code",
<<<<<<< HEAD
   "execution_count": 197,
=======
   "execution_count": 25,
>>>>>>> e16f0559d51cc8e04f1e2f419570debac0262fdf
   "metadata": {
    "collapsed": false,
    "hidePrompt": true,
    "slideshow": {
     "slide_type": "-"
    }
   },
   "outputs": [
    {
     "data": {
      "text/plain": [
<<<<<<< HEAD
       "3.8047524602580145"
      ]
     },
     "execution_count": 197,
=======
       "3.8047524602580078"
      ]
     },
     "execution_count": 25,
>>>>>>> e16f0559d51cc8e04f1e2f419570debac0262fdf
     "metadata": {},
     "output_type": "execute_result"
    }
   ],
   "source": [
    "lr_model.coef_.max()"
   ]
  },
  {
   "cell_type": "markdown",
   "metadata": {
    "slideshow": {
     "slide_type": "slide"
    }
   },
   "source": [
    "## Let's re-model it using regularization"
   ]
  },
  {
   "cell_type": "code",
<<<<<<< HEAD
   "execution_count": 198,
=======
   "execution_count": 26,
>>>>>>> e16f0559d51cc8e04f1e2f419570debac0262fdf
   "metadata": {
    "collapsed": true,
    "hidePrompt": true,
    "slideshow": {
     "slide_type": "-"
    }
   },
   "outputs": [],
   "source": [
    "# we'll use LASSO, aka L1\n",
    "lasso = linear_model.Lasso(alpha=1)"
   ]
  },
  {
   "cell_type": "code",
<<<<<<< HEAD
   "execution_count": 199,
=======
   "execution_count": 27,
>>>>>>> e16f0559d51cc8e04f1e2f419570debac0262fdf
   "metadata": {
    "collapsed": false,
    "hidePrompt": true,
    "slideshow": {
     "slide_type": "-"
    }
   },
   "outputs": [],
   "source": [
    "# next we fit\n",
    "lasso_model = lasso.fit(X, y)"
   ]
  },
  {
   "cell_type": "markdown",
   "metadata": {
    "slideshow": {
     "slide_type": "slide"
    }
   },
   "source": [
    "## Get the r<sup>2</sup>"
   ]
  },
  {
   "cell_type": "code",
<<<<<<< HEAD
   "execution_count": 200,
=======
   "execution_count": 28,
>>>>>>> e16f0559d51cc8e04f1e2f419570debac0262fdf
   "metadata": {
    "collapsed": false,
    "hidePrompt": true,
    "slideshow": {
     "slide_type": "-"
    }
   },
   "outputs": [],
   "source": [
    "y_true_lasso = y\n",
    "y_pred_lasso = lasso_model.predict(X)\n",
    "\n",
    "lasso_r2 =  r2_score(y_true=y_true_lasso, y_pred=y_pred_lasso)"
   ]
  },
  {
   "cell_type": "code",
<<<<<<< HEAD
   "execution_count": 201,
=======
   "execution_count": 29,
>>>>>>> e16f0559d51cc8e04f1e2f419570debac0262fdf
   "metadata": {
    "collapsed": false,
    "hidePrompt": true,
    "slideshow": {
     "slide_type": "-"
    }
   },
   "outputs": [
    {
     "data": {
      "text/plain": [
       "0.682549461750665"
      ]
     },
<<<<<<< HEAD
     "execution_count": 201,
=======
     "execution_count": 29,
>>>>>>> e16f0559d51cc8e04f1e2f419570debac0262fdf
     "metadata": {},
     "output_type": "execute_result"
    }
   ],
   "source": [
    "lasso_r2"
   ]
  },
  {
   "cell_type": "markdown",
   "metadata": {
    "slideshow": {
     "slide_type": "slide"
    }
   },
   "source": [
    "## Get the coefficients (betas)"
   ]
  },
  {
   "cell_type": "code",
<<<<<<< HEAD
   "execution_count": 202,
=======
   "execution_count": 30,
>>>>>>> e16f0559d51cc8e04f1e2f419570debac0262fdf
   "metadata": {
    "collapsed": false,
    "hidePrompt": true,
    "slideshow": {
     "slide_type": "-"
    }
   },
   "outputs": [
    {
     "data": {
      "text/plain": [
       "13"
      ]
     },
<<<<<<< HEAD
     "execution_count": 202,
=======
     "execution_count": 30,
>>>>>>> e16f0559d51cc8e04f1e2f419570debac0262fdf
     "metadata": {},
     "output_type": "execute_result"
    }
   ],
   "source": [
    "len(lasso_model.coef_)"
   ]
  },
  {
   "cell_type": "code",
<<<<<<< HEAD
   "execution_count": 203,
=======
   "execution_count": 31,
>>>>>>> e16f0559d51cc8e04f1e2f419570debac0262fdf
   "metadata": {
    "collapsed": false,
    "hidePrompt": true,
    "slideshow": {
     "slide_type": "-"
    }
   },
   "outputs": [
    {
     "data": {
      "text/plain": [
       "array([ -1.07170557e-01,   4.63952195e-02,   2.08602395e-02,\n",
       "         2.68856140e+00,  -1.77957587e+01,   3.80475246e+00,\n",
       "         7.51061703e-04,  -1.47575880e+00,   3.05655038e-01,\n",
       "        -1.23293463e-02,  -9.53463555e-01,   9.39251272e-03,\n",
       "        -5.25466633e-01])"
      ]
     },
<<<<<<< HEAD
     "execution_count": 203,
=======
     "execution_count": 31,
>>>>>>> e16f0559d51cc8e04f1e2f419570debac0262fdf
     "metadata": {},
     "output_type": "execute_result"
    }
   ],
   "source": [
    "lr_model.coef_"
   ]
  },
  {
   "cell_type": "markdown",
   "metadata": {
    "slideshow": {
     "slide_type": "slide"
    }
   },
   "source": [
    "## Mean of absolute value of the coefficients"
   ]
  },
  {
   "cell_type": "code",
<<<<<<< HEAD
   "execution_count": 204,
=======
   "execution_count": 32,
>>>>>>> e16f0559d51cc8e04f1e2f419570debac0262fdf
   "metadata": {
    "collapsed": false,
    "hidePrompt": true,
    "slideshow": {
     "slide_type": "-"
    }
   },
   "outputs": [
    {
     "data": {
      "text/plain": [
       "0.27089386015469102"
      ]
     },
<<<<<<< HEAD
     "execution_count": 204,
=======
     "execution_count": 32,
>>>>>>> e16f0559d51cc8e04f1e2f419570debac0262fdf
     "metadata": {},
     "output_type": "execute_result"
    }
   ],
   "source": [
    "abs(lasso_model.coef_).mean()"
   ]
  },
  {
   "cell_type": "code",
<<<<<<< HEAD
   "execution_count": 205,
=======
   "execution_count": 33,
>>>>>>> e16f0559d51cc8e04f1e2f419570debac0262fdf
   "metadata": {
    "collapsed": false,
    "hidePrompt": true,
    "slideshow": {
     "slide_type": "-"
    }
   },
   "outputs": [
    {
     "data": {
      "text/plain": [
       "0.94678566695975275"
      ]
     },
<<<<<<< HEAD
     "execution_count": 205,
=======
     "execution_count": 33,
>>>>>>> e16f0559d51cc8e04f1e2f419570debac0262fdf
     "metadata": {},
     "output_type": "execute_result"
    }
   ],
   "source": [
    "lasso_model.coef_.max()"
   ]
  },
  {
   "cell_type": "markdown",
   "metadata": {
    "slideshow": {
     "slide_type": "slide"
    }
   },
   "source": [
    "# What did we just see?\n",
    "- We fit a standard linear regression and a regularized linear regression (LASSO - L1)\n",
    "- We saw that the mean of the absolute value of the coefficients fell with regularization\n",
    "- We saw that the r<sup>2</sup> also fell in the penalized/regularized regression -- on our training data"
   ]
  },
  {
   "cell_type": "markdown",
   "metadata": {
    "slideshow": {
     "slide_type": "slide"
    }
   },
   "source": [
    "## Exercise\n",
    "\n",
    "- Create a function that accepts a list of alpha values (Use 0.0001, 0.001, 0.01, 0.1, 0.25, 0.5, and 1 at a minimum).\n",
    "- The function should fit a LASSO regression for each of the alphas.\n",
    "- Save each alpha parameter in a dictionary as the key and use the mean absolute value of the beta coefficients as the value (this should be a single value as seen above).\n",
    "- Return this dictionary from the function.\n",
    "- What happens to the magnitude of the betas as alpha increases?\n",
    "- Bonus: create a scatterplot from of the alphas vs. the mean absolute betas"
   ]
  },
  {
   "cell_type": "code",
<<<<<<< HEAD
   "execution_count": null,
=======
   "execution_count": 40,
>>>>>>> e16f0559d51cc8e04f1e2f419570debac0262fdf
   "metadata": {
    "collapsed": false,
    "slideshow": {
     "slide_type": "slide"
    }
   },
<<<<<<< HEAD
   "outputs": [],
   "source": []
  },
  {
   "cell_type": "code",
   "execution_count": null,
=======
   "outputs": [
    {
     "data": {
      "text/plain": [
       "{0.0001: 2.1315120695402894,\n",
       " 0.001: 2.1061308296752879,\n",
       " 0.01: 1.8530335124113118,\n",
       " 0.1: 0.58831359192384258,\n",
       " 0.25: 0.47478114486425593,\n",
       " 0.5: 0.40691528151491502,\n",
       " 1: 0.27089386015469102}"
      ]
     },
     "execution_count": 40,
     "metadata": {},
     "output_type": "execute_result"
    }
   ],
   "source": [
    "alpha_v = [.0001, .001, .01, .1, .25, .5, 1]\n",
    "\n",
    "def func_a (x):\n",
    "    a_dict = {}\n",
    "    for a in x:\n",
    "        lasso = linear_model.Lasso(alpha=a)\n",
    "        lasso_model = lasso.fit(X, y)\n",
    "        \n",
    "        a_dict.update({a: abs(lasso_model.coef_).mean()})\n",
    "        \n",
    "    return a_dict\n",
    "\n",
    "func_a(alpha_v)\n",
    "\n"
   ]
  },
  {
   "cell_type": "code",
   "execution_count": 41,
>>>>>>> e16f0559d51cc8e04f1e2f419570debac0262fdf
   "metadata": {
    "collapsed": false,
    "slideshow": {
     "slide_type": "slide"
    }
   },
   "outputs": [],
<<<<<<< HEAD
   "source": []
=======
   "source": [
    "# The magnitude of the beta decreases (mean of absolute value of coefficients) as alpha increases (stronger)\n",
    "\n",
    "# Alpha is greater, it increases the penalty"
   ]
>>>>>>> e16f0559d51cc8e04f1e2f419570debac0262fdf
  },
  {
   "cell_type": "markdown",
   "metadata": {
    "slideshow": {
     "slide_type": "slide"
    }
   },
   "source": [
    "# Cross Validation\n",
    "\n",
    "<br><br>\n",
    "\n",
    "- Cross validation is the process that ensures the model we fit generalizes to data outside of the data our model was trained on.\n",
    "- The two most common flavors are train/test split and k-fold cv.\n",
    "- Let's see it implemented now."
   ]
  },
  {
   "cell_type": "markdown",
   "metadata": {
    "slideshow": {
     "slide_type": "slide"
    }
   },
   "source": [
    "## Train test split (holdout)"
   ]
  },
  {
   "cell_type": "markdown",
   "metadata": {
    "slideshow": {
     "slide_type": "-"
    }
   },
   "source": [
    "With a holdout set, we split our data into two parts. Typically this split is 2/3 train and 1/3 testing."
   ]
  },
  {
   "cell_type": "markdown",
   "metadata": {
    "collapsed": false,
    "hideCode": false,
    "hidePrompt": true,
    "slideshow": {
     "slide_type": "-"
    }
   },
   "source": [
    "![](http://i.imgur.com/DFdGUNG.png)"
   ]
  },
  {
   "cell_type": "markdown",
   "metadata": {
    "slideshow": {
     "slide_type": "slide"
    }
   },
   "source": [
    "## How we implement a train test split in sklearn"
   ]
  },
  {
   "cell_type": "markdown",
   "metadata": {
    "slideshow": {
     "slide_type": "-"
    }
   },
   "source": [
    "[sklearn train_test_split documentation](http://scikit-learn.org/stable/modules/cross_validation.html#cross-validation)"
   ]
  },
  {
   "cell_type": "code",
<<<<<<< HEAD
   "execution_count": 174,
=======
   "execution_count": 42,
>>>>>>> e16f0559d51cc8e04f1e2f419570debac0262fdf
   "metadata": {
    "collapsed": false,
    "slideshow": {
     "slide_type": "-"
    }
   },
   "outputs": [],
   "source": [
    "from sklearn.cross_validation import train_test_split\n",
    "\n",
    "X_train, X_test, y_train, y_test = train_test_split(X, y, test_size=.33)"
   ]
  },
  {
   "cell_type": "code",
<<<<<<< HEAD
   "execution_count": 177,
=======
   "execution_count": 43,
>>>>>>> e16f0559d51cc8e04f1e2f419570debac0262fdf
   "metadata": {
    "collapsed": false,
    "slideshow": {
     "slide_type": "-"
    }
   },
   "outputs": [
    {
     "name": "stdout",
     "output_type": "stream",
     "text": [
      "Length of X_train: 339\n",
      "Length of y_train: 339\n",
      "\n",
      "Length of X_test: 167\n",
      "Length of y_test: 167\n"
     ]
    }
   ],
   "source": [
    "print 'Length of X_train: ' + str(len(X_train))\n",
    "print 'Length of y_train: ' + str(len(y_train))\n",
    "print\n",
    "print 'Length of X_test: ' + str(len(X_test))\n",
    "print 'Length of y_test: ' + str(len(y_test))"
   ]
  },
  {
   "cell_type": "markdown",
   "metadata": {
    "slideshow": {
     "slide_type": "slide"
    }
   },
   "source": [
    "## Let's fit again on our training data and test it on our test data"
   ]
  },
  {
   "cell_type": "code",
<<<<<<< HEAD
   "execution_count": 187,
=======
   "execution_count": 44,
>>>>>>> e16f0559d51cc8e04f1e2f419570debac0262fdf
   "metadata": {
    "collapsed": false,
    "slideshow": {
     "slide_type": "-"
    }
   },
   "outputs": [
    {
     "name": "stdout",
     "output_type": "stream",
     "text": [
      "original lasso r2: 0.682549461751\n",
<<<<<<< HEAD
      "tts lasso r2:      0.779052156802\n"
=======
      "tts lasso r2:      0.74380617275\n"
>>>>>>> e16f0559d51cc8e04f1e2f419570debac0262fdf
     ]
    }
   ],
   "source": [
    "lasso_tts = linear_model.Lasso(alpha=.01)\n",
    "tts_model = lasso_tts.fit(X_train, y_train)\n",
    "\n",
    "tts_lasso_r2 =  r2_score(y_true=y_test, y_pred=tts_model.predict(X_test))\n",
    "\n",
    "print 'original lasso r2:', lasso_r2\n",
    "print 'tts lasso r2:     ', tts_lasso_r2"
   ]
  },
  {
   "cell_type": "markdown",
   "metadata": {
    "slideshow": {
     "slide_type": "slide"
    }
   },
   "source": [
    "## K-fold Procedure"
   ]
  },
  {
   "cell_type": "code",
<<<<<<< HEAD
   "execution_count": 27,
=======
   "execution_count": 48,
>>>>>>> e16f0559d51cc8e04f1e2f419570debac0262fdf
   "metadata": {
    "collapsed": false,
    "hideCode": true,
    "hidePrompt": true,
    "slideshow": {
     "slide_type": "-"
    }
   },
   "outputs": [
    {
<<<<<<< HEAD
     "data": {
      "image/png": "iVBORw0KGgoAAAANSUhEUgAABZYAAACiCAYAAADSvZgbAAAMGGlDQ1BJQ0MgUHJvZmlsZQAASImV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\nQAIkQAIk0FgI/H9Z9Wkq3VAgWwAAAABJRU5ErkJggg==\n",
      "text/plain": [
       "<IPython.core.display.Image object>"
      ]
     },
     "execution_count": 27,
     "metadata": {},
     "output_type": "execute_result"
=======
     "ename": "NameError",
     "evalue": "name 'PATH' is not defined",
     "output_type": "error",
     "traceback": [
      "\u001b[0;31m---------------------------------------------------------------------------\u001b[0m",
      "\u001b[0;31mNameError\u001b[0m                                 Traceback (most recent call last)",
      "\u001b[0;32m<ipython-input-48-30b10d16ddc2>\u001b[0m in \u001b[0;36m<module>\u001b[0;34m()\u001b[0m\n\u001b[1;32m      1\u001b[0m \u001b[0;32mfrom\u001b[0m \u001b[0mIPython\u001b[0m\u001b[0;34m.\u001b[0m\u001b[0mcore\u001b[0m\u001b[0;34m.\u001b[0m\u001b[0mdisplay\u001b[0m \u001b[0;32mimport\u001b[0m \u001b[0mImage\u001b[0m\u001b[0;34m\u001b[0m\u001b[0m\n\u001b[0;32m----> 2\u001b[0;31m \u001b[0mImage\u001b[0m\u001b[0;34m(\u001b[0m\u001b[0mPATH\u001b[0m \u001b[0;34m+\u001b[0m \u001b[0;34m'kfold.png'\u001b[0m\u001b[0;34m)\u001b[0m\u001b[0;34m\u001b[0m\u001b[0m\n\u001b[0m",
      "\u001b[0;31mNameError\u001b[0m: name 'PATH' is not defined"
     ]
>>>>>>> e16f0559d51cc8e04f1e2f419570debac0262fdf
    }
   ],
   "source": [
    "from IPython.core.display import Image\n",
    "Image(PATH + 'kfold.png')"
   ]
  },
  {
   "cell_type": "markdown",
   "metadata": {
    "slideshow": {
     "slide_type": "slide"
    }
   },
   "source": [
    "## K-fold"
   ]
  },
  {
   "cell_type": "markdown",
   "metadata": {
    "collapsed": false,
    "hideCode": false,
    "hidePrompt": true,
    "slideshow": {
     "slide_type": "-"
    }
   },
   "source": [
    "![](http://i.imgur.com/wnruaYT.png)"
   ]
  },
  {
   "cell_type": "markdown",
   "metadata": {
    "slideshow": {
     "slide_type": "slide"
    }
   },
   "source": [
    "## Check: Is 2-fold the same as a 50:50 train test split? Why or why not?"
   ]
  },
  {
<<<<<<< HEAD
=======
   "cell_type": "code",
   "execution_count": null,
   "metadata": {
    "collapsed": true
   },
   "outputs": [],
   "source": [
    "# No, 2- fold runs it twice (2 scores each split becomes a test and learn)\n",
    "\n",
    "# Train/ Test 50:50 once"
   ]
  },
  {
>>>>>>> e16f0559d51cc8e04f1e2f419570debac0262fdf
   "cell_type": "markdown",
   "metadata": {
    "slideshow": {
     "slide_type": "slide"
    }
   },
   "source": [
    "## Check: Will two different 50:50 (or x:y) splits produce the same model score?"
   ]
  },
  {
<<<<<<< HEAD
=======
   "cell_type": "code",
   "execution_count": 49,
   "metadata": {
    "collapsed": true
   },
   "outputs": [],
   "source": [
    "#Yes"
   ]
  },
  {
>>>>>>> e16f0559d51cc8e04f1e2f419570debac0262fdf
   "cell_type": "markdown",
   "metadata": {
    "slideshow": {
     "slide_type": "slide"
    }
   },
   "source": [
    "## K-Fold implementation in sklearn"
   ]
  },
  {
   "cell_type": "markdown",
   "metadata": {
    "slideshow": {
     "slide_type": "-"
    }
   },
   "source": [
    "The easiest way to do so is with:\n",
    "[cross_val_score( )](http://scikit-learn.org/stable/modules/generated/sklearn.model_selection.cross_val_score.html#sklearn.model_selection.cross_val_score)"
   ]
  },
  {
   "cell_type": "markdown",
   "metadata": {
    "slideshow": {
     "slide_type": "-"
    }
   },
   "source": [
    "**But, which scoring metric does cross_val_score return?**\n",
    "\n",
    ">By default cross_val_score uses the scoring provided in the given estimator, which is usually the simplest appropriate scoring method. E.g. for most classifiers this is accuracy score and for regressors this is r2 score.<br><br>\n",
    "If you want to use a different scoring method you can pass a scorer to cross_val_score using the scoring= keyword. You can choose anything from sklearn.metrics.scorer (but it may not work if it is not appropriate to your setting [classification / regression])\n",
    "-- [Stack Overflow](http://stackoverflow.com/questions/25006369/what-is-sklearn-cross-validation-cross-val-score)"
   ]
  },
  {
   "cell_type": "markdown",
   "metadata": {
    "slideshow": {
     "slide_type": "slide"
    }
   },
   "source": [
    "## Let's now use cross_val_score on our two models:\n",
    "1. First in our standard linear model: lr\n",
    "2. Then in our regularizied model: lasso"
   ]
  },
  {
   "cell_type": "markdown",
   "metadata": {
    "slideshow": {
     "slide_type": "slide"
    }
   },
   "source": [
    "## Get Cross Val Score - Using 5 folds"
   ]
  },
  {
   "cell_type": "code",
<<<<<<< HEAD
   "execution_count": 210,
=======
   "execution_count": 52,
>>>>>>> e16f0559d51cc8e04f1e2f419570debac0262fdf
   "metadata": {
    "collapsed": false,
    "hidePrompt": true,
    "slideshow": {
     "slide_type": "-"
    }
   },
   "outputs": [
    {
     "data": {
      "text/plain": [
       "array([ 0.63861069,  0.71334432,  0.58645134,  0.07842495, -0.26312455])"
      ]
     },
<<<<<<< HEAD
     "execution_count": 210,
=======
     "execution_count": 52,
>>>>>>> e16f0559d51cc8e04f1e2f419570debac0262fdf
     "metadata": {},
     "output_type": "execute_result"
    }
   ],
   "source": [
<<<<<<< HEAD
=======
    "from sklearn.cross_validation import cross_val_score\n",
    "\n",
>>>>>>> e16f0559d51cc8e04f1e2f419570debac0262fdf
    "# we pass in our estimator, lr, and our data and target\n",
    "cross_val_score(lr, X, y, n_jobs=1, cv=5)"
   ]
  },
  {
   "cell_type": "code",
<<<<<<< HEAD
   "execution_count": 211,
=======
   "execution_count": 53,
>>>>>>> e16f0559d51cc8e04f1e2f419570debac0262fdf
   "metadata": {
    "collapsed": false,
    "hidePrompt": true,
    "slideshow": {
     "slide_type": "-"
    }
   },
   "outputs": [
    {
     "data": {
      "text/plain": [
       "array([ 0.56129809,  0.63387223,  0.33465716,  0.35466072,  0.27435636])"
      ]
     },
<<<<<<< HEAD
     "execution_count": 211,
=======
     "execution_count": 53,
>>>>>>> e16f0559d51cc8e04f1e2f419570debac0262fdf
     "metadata": {},
     "output_type": "execute_result"
    }
   ],
   "source": [
    "# testing this time with the lasso estimator\n",
    "cross_val_score(lasso, X, y, n_jobs=1, cv=5)"
   ]
  },
  {
   "cell_type": "markdown",
   "metadata": {
    "slideshow": {
     "slide_type": "slide"
    }
   },
   "source": [
    "## Get the mean of the 5 runs"
   ]
  },
  {
   "cell_type": "code",
<<<<<<< HEAD
   "execution_count": 212,
=======
   "execution_count": 54,
>>>>>>> e16f0559d51cc8e04f1e2f419570debac0262fdf
   "metadata": {
    "collapsed": false,
    "hidePrompt": true,
    "slideshow": {
     "slide_type": "-"
    }
   },
   "outputs": [
    {
     "data": {
      "text/plain": [
<<<<<<< HEAD
       "0.35074135093252234"
      ]
     },
     "execution_count": 212,
=======
       "0.35074135093251313"
      ]
     },
     "execution_count": 54,
>>>>>>> e16f0559d51cc8e04f1e2f419570debac0262fdf
     "metadata": {},
     "output_type": "execute_result"
    }
   ],
   "source": [
    "cross_val_score(lr, X, y, n_jobs=1, cv=5).mean()"
   ]
  },
  {
   "cell_type": "code",
<<<<<<< HEAD
   "execution_count": 213,
=======
   "execution_count": 55,
>>>>>>> e16f0559d51cc8e04f1e2f419570debac0262fdf
   "metadata": {
    "collapsed": false,
    "hidePrompt": true,
    "slideshow": {
     "slide_type": "-"
    }
   },
   "outputs": [
    {
     "data": {
      "text/plain": [
       "0.43176891192320488"
      ]
     },
<<<<<<< HEAD
     "execution_count": 213,
=======
     "execution_count": 55,
>>>>>>> e16f0559d51cc8e04f1e2f419570debac0262fdf
     "metadata": {},
     "output_type": "execute_result"
    }
   ],
   "source": [
    "cross_val_score(lasso, X, y, n_jobs=1, cv=5).mean()"
   ]
  },
  {
   "cell_type": "markdown",
   "metadata": {
    "slideshow": {
     "slide_type": "slide"
    }
   },
   "source": [
    "## Change cross val scoring metric -  MSE"
   ]
  },
  {
   "cell_type": "code",
<<<<<<< HEAD
   "execution_count": 214,
=======
   "execution_count": 56,
>>>>>>> e16f0559d51cc8e04f1e2f419570debac0262fdf
   "metadata": {
    "collapsed": false,
    "hidePrompt": true,
    "slideshow": {
     "slide_type": "-"
    }
   },
   "outputs": [
    {
     "data": {
      "text/plain": [
       "array([-12.48065021, -26.09620267, -33.11995587, -80.83305378, -33.58435565])"
      ]
     },
<<<<<<< HEAD
     "execution_count": 214,
=======
     "execution_count": 56,
>>>>>>> e16f0559d51cc8e04f1e2f419570debac0262fdf
     "metadata": {},
     "output_type": "execute_result"
    }
   ],
   "source": [
    "cross_val_score(lr, X, y, n_jobs=1, cv=5,\n",
    "                scoring='mean_squared_error')"
   ]
  },
  {
   "cell_type": "code",
<<<<<<< HEAD
   "execution_count": 215,
=======
   "execution_count": 57,
>>>>>>> e16f0559d51cc8e04f1e2f419570debac0262fdf
   "metadata": {
    "collapsed": false,
    "hidePrompt": true,
    "slideshow": {
     "slide_type": "-"
    }
   },
   "outputs": [
    {
     "data": {
      "text/plain": [
<<<<<<< HEAD
       "-37.222843637138425"
      ]
     },
     "execution_count": 215,
=======
       "-37.222843637138403"
      ]
     },
     "execution_count": 57,
>>>>>>> e16f0559d51cc8e04f1e2f419570debac0262fdf
     "metadata": {},
     "output_type": "execute_result"
    }
   ],
   "source": [
    "cross_val_score(lr, X, y, n_jobs=1, cv=5,\n",
    "                scoring='mean_squared_error').mean()"
   ]
  },
  {
   "cell_type": "code",
<<<<<<< HEAD
   "execution_count": 216,
=======
   "execution_count": 58,
>>>>>>> e16f0559d51cc8e04f1e2f419570debac0262fdf
   "metadata": {
    "collapsed": false,
    "hidePrompt": true,
    "slideshow": {
     "slide_type": "-"
    }
   },
   "outputs": [
    {
     "data": {
      "text/plain": [
       "array([-15.1506561 , -33.33108327, -53.28544689, -56.60390369, -19.29364303])"
      ]
     },
<<<<<<< HEAD
     "execution_count": 216,
=======
     "execution_count": 58,
>>>>>>> e16f0559d51cc8e04f1e2f419570debac0262fdf
     "metadata": {},
     "output_type": "execute_result"
    }
   ],
   "source": [
    "cross_val_score(lasso, X, y, n_jobs=1, cv=5,\n",
    "                scoring='mean_squared_error')"
   ]
  },
  {
   "cell_type": "code",
<<<<<<< HEAD
   "execution_count": 217,
=======
   "execution_count": 59,
>>>>>>> e16f0559d51cc8e04f1e2f419570debac0262fdf
   "metadata": {
    "collapsed": false,
    "hidePrompt": true,
    "slideshow": {
     "slide_type": "-"
    }
   },
   "outputs": [
    {
     "data": {
      "text/plain": [
       "-35.53294659598334"
      ]
     },
<<<<<<< HEAD
     "execution_count": 217,
=======
     "execution_count": 59,
>>>>>>> e16f0559d51cc8e04f1e2f419570debac0262fdf
     "metadata": {},
     "output_type": "execute_result"
    }
   ],
   "source": [
    "cross_val_score(lasso, X, y, n_jobs=1, cv=5,\n",
    "                scoring='mean_squared_error').mean()"
   ]
  },
  {
   "cell_type": "markdown",
   "metadata": {
    "slideshow": {
     "slide_type": "slide"
    }
   },
   "source": [
    "## Some models have their own CV version"
   ]
  },
  {
   "cell_type": "markdown",
   "metadata": {
    "slideshow": {
     "slide_type": "-"
    }
   },
   "source": [
    "RidgeCV implements cross validation on a ridge regression with various alphas"
   ]
  },
  {
   "cell_type": "code",
<<<<<<< HEAD
   "execution_count": 343,
=======
   "execution_count": 60,
>>>>>>> e16f0559d51cc8e04f1e2f419570debac0262fdf
   "metadata": {
    "collapsed": false,
    "hidePrompt": true,
    "slideshow": {
     "slide_type": "-"
    }
   },
   "outputs": [],
   "source": [
    "# testing eight different alpha levels\n",
    "rcv = linear_model.RidgeCV(alphas=\n",
    "                           (.001, .001, .01, .1, .5, 1, 5, 10),\n",
    "                           store_cv_values=True,\n",
    "                          )"
   ]
  },
  {
   "cell_type": "markdown",
   "metadata": {
    "slideshow": {
     "slide_type": "slide"
    }
   },
   "source": [
    "## Fitting our RidgeCV model"
   ]
  },
  {
   "cell_type": "code",
<<<<<<< HEAD
   "execution_count": 344,
=======
   "execution_count": 61,
>>>>>>> e16f0559d51cc8e04f1e2f419570debac0262fdf
   "metadata": {
    "collapsed": false,
    "hidePrompt": true,
    "slideshow": {
     "slide_type": "-"
    }
   },
   "outputs": [],
   "source": [
    "# fit the ridge cv model\n",
    "rcv_model = rcv.fit(X, y)"
   ]
  },
  {
   "cell_type": "markdown",
   "metadata": {
    "slideshow": {
     "slide_type": "slide"
    }
   },
   "source": [
    "## Get r<sup>2</sup>"
   ]
  },
  {
   "cell_type": "code",
<<<<<<< HEAD
   "execution_count": 345,
=======
   "execution_count": 62,
>>>>>>> e16f0559d51cc8e04f1e2f419570debac0262fdf
   "metadata": {
    "collapsed": false,
    "hidePrompt": true,
    "slideshow": {
     "slide_type": "-"
    }
   },
   "outputs": [],
   "source": [
    "rcv_r2 =  rcv_model.score(X, y)"
   ]
  },
  {
   "cell_type": "code",
<<<<<<< HEAD
   "execution_count": 346,
=======
   "execution_count": 63,
>>>>>>> e16f0559d51cc8e04f1e2f419570debac0262fdf
   "metadata": {
    "collapsed": false,
    "hidePrompt": true,
    "slideshow": {
     "slide_type": "-"
    }
   },
   "outputs": [
    {
     "data": {
      "text/plain": [
<<<<<<< HEAD
       "0.74060726698742951"
      ]
     },
     "execution_count": 346,
=======
       "0.74060726698738666"
      ]
     },
     "execution_count": 63,
>>>>>>> e16f0559d51cc8e04f1e2f419570debac0262fdf
     "metadata": {},
     "output_type": "execute_result"
    }
   ],
   "source": [
    "rcv_r2"
   ]
  },
  {
   "cell_type": "markdown",
   "metadata": {
    "slideshow": {
     "slide_type": "slide"
    }
   },
   "source": [
    "## Retrieve the best alpha"
   ]
  },
  {
   "cell_type": "code",
<<<<<<< HEAD
   "execution_count": 347,
=======
   "execution_count": 64,
>>>>>>> e16f0559d51cc8e04f1e2f419570debac0262fdf
   "metadata": {
    "collapsed": false,
    "hidePrompt": true,
    "slideshow": {
     "slide_type": "-"
    }
   },
   "outputs": [
    {
     "data": {
      "text/plain": [
       "0.01"
      ]
     },
<<<<<<< HEAD
     "execution_count": 347,
=======
     "execution_count": 64,
>>>>>>> e16f0559d51cc8e04f1e2f419570debac0262fdf
     "metadata": {},
     "output_type": "execute_result"
    }
   ],
   "source": [
    "# this is the alpha that cv showed to have the best r^2\n",
    "rcv_model.alpha_"
   ]
  },
  {
   "cell_type": "code",
<<<<<<< HEAD
   "execution_count": 348,
=======
   "execution_count": 65,
>>>>>>> e16f0559d51cc8e04f1e2f419570debac0262fdf
   "metadata": {
    "collapsed": false,
    "hidePrompt": true,
    "slideshow": {
     "slide_type": "-"
    }
   },
   "outputs": [
    {
     "data": {
      "text/plain": [
       "13"
      ]
     },
<<<<<<< HEAD
     "execution_count": 348,
=======
     "execution_count": 65,
>>>>>>> e16f0559d51cc8e04f1e2f419570debac0262fdf
     "metadata": {},
     "output_type": "execute_result"
    }
   ],
   "source": [
    "# we can retrieve all the beta coeffs\n",
    "len(rcv_model.coef_)"
   ]
  },
  {
   "cell_type": "code",
<<<<<<< HEAD
   "execution_count": 349,
=======
   "execution_count": 66,
>>>>>>> e16f0559d51cc8e04f1e2f419570debac0262fdf
   "metadata": {
    "collapsed": false,
    "hidePrompt": false,
    "slideshow": {
     "slide_type": "-"
    }
   },
   "outputs": [
    {
     "data": {
      "text/plain": [
<<<<<<< HEAD
       "2.1251605697910847"
      ]
     },
     "execution_count": 349,
=======
       "2.125160569566324"
      ]
     },
     "execution_count": 66,
>>>>>>> e16f0559d51cc8e04f1e2f419570debac0262fdf
     "metadata": {},
     "output_type": "execute_result"
    }
   ],
   "source": [
    "# here we can see their mean\n",
    "abs(rcv_model.coef_).mean()"
   ]
  },
  {
   "cell_type": "markdown",
   "metadata": {
    "slideshow": {
     "slide_type": "slide"
    }
   },
   "source": [
    "## Get CV fold scores"
   ]
  },
  {
   "cell_type": "markdown",
   "metadata": {
    "slideshow": {
     "slide_type": "-"
    }
   },
   "source": [
    "Gives us the MSE (or whatever our scoring metric was) for each alpha for all samples"
   ]
  },
  {
   "cell_type": "code",
<<<<<<< HEAD
   "execution_count": 350,
=======
   "execution_count": 67,
>>>>>>> e16f0559d51cc8e04f1e2f419570debac0262fdf
   "metadata": {
    "collapsed": false,
    "hidePrompt": true,
    "slideshow": {
     "slide_type": "-"
    }
   },
   "outputs": [
    {
     "data": {
      "text/plain": [
       "(506, 8)"
      ]
     },
<<<<<<< HEAD
     "execution_count": 350,
=======
     "execution_count": 67,
>>>>>>> e16f0559d51cc8e04f1e2f419570debac0262fdf
     "metadata": {},
     "output_type": "execute_result"
    }
   ],
   "source": [
    "rcv_model.cv_values_.shape"
   ]
  },
  {
   "cell_type": "code",
<<<<<<< HEAD
   "execution_count": 352,
=======
   "execution_count": 68,
>>>>>>> e16f0559d51cc8e04f1e2f419570debac0262fdf
   "metadata": {
    "collapsed": false,
    "scrolled": true,
    "slideshow": {
     "slide_type": "-"
    }
   },
   "outputs": [
    {
     "data": {
      "text/html": [
       "<div>\n",
       "<table border=\"1\" class=\"dataframe\">\n",
       "  <thead>\n",
       "    <tr style=\"text-align: right;\">\n",
       "      <th></th>\n",
       "      <th>0.001</th>\n",
       "      <th>0.001</th>\n",
       "      <th>0.01</th>\n",
       "      <th>0.1</th>\n",
       "      <th>0.5</th>\n",
       "      <th>1.0</th>\n",
       "      <th>5.0</th>\n",
       "      <th>10.0</th>\n",
       "    </tr>\n",
       "  </thead>\n",
       "  <tbody>\n",
       "    <tr>\n",
       "      <th>0</th>\n",
       "      <td>37.206996</td>\n",
       "      <td>37.206996</td>\n",
       "      <td>37.251234</td>\n",
       "      <td>37.669189</td>\n",
       "      <td>39.115423</td>\n",
       "      <td>40.334784</td>\n",
       "      <td>43.937305</td>\n",
       "      <td>45.550298</td>\n",
       "    </tr>\n",
       "    <tr>\n",
       "      <th>1</th>\n",
       "      <td>11.979066</td>\n",
       "      <td>11.979066</td>\n",
       "      <td>11.955850</td>\n",
       "      <td>11.739225</td>\n",
       "      <td>11.029528</td>\n",
       "      <td>10.485599</td>\n",
       "      <td>9.358038</td>\n",
       "      <td>9.262169</td>\n",
       "    </tr>\n",
       "    <tr>\n",
       "      <th>2</th>\n",
       "      <td>17.396187</td>\n",
       "      <td>17.396187</td>\n",
       "      <td>17.400312</td>\n",
       "      <td>17.439275</td>\n",
       "      <td>17.574329</td>\n",
       "      <td>17.689758</td>\n",
       "      <td>18.088168</td>\n",
       "      <td>18.377968</td>\n",
       "    </tr>\n",
       "  </tbody>\n",
       "</table>\n",
       "</div>"
      ],
      "text/plain": [
       "      0.001      0.001      0.010      0.100      0.500      1.000   \\\n",
       "0  37.206996  37.206996  37.251234  37.669189  39.115423  40.334784   \n",
       "1  11.979066  11.979066  11.955850  11.739225  11.029528  10.485599   \n",
       "2  17.396187  17.396187  17.400312  17.439275  17.574329  17.689758   \n",
       "\n",
       "      5.000      10.000  \n",
       "0  43.937305  45.550298  \n",
       "1   9.358038   9.262169  \n",
       "2  18.088168  18.377968  "
      ]
     },
<<<<<<< HEAD
     "execution_count": 352,
=======
     "execution_count": 68,
>>>>>>> e16f0559d51cc8e04f1e2f419570debac0262fdf
     "metadata": {},
     "output_type": "execute_result"
    }
   ],
   "source": [
    "pd.DataFrame(rcv_model.cv_values_, columns=rcv.alphas).head(3)"
   ]
  },
  {
   "cell_type": "markdown",
   "metadata": {
    "slideshow": {
     "slide_type": "slide"
    }
   },
   "source": [
    "## Using cross_val_predict"
   ]
  },
  {
   "cell_type": "markdown",
   "metadata": {
    "slideshow": {
     "slide_type": "-"
    }
   },
   "source": [
    "[cross_val_predict](http://scikit-learn.org/stable/modules/generated/sklearn.model_selection.cross_val_predict.html#sklearn.model_selection.cross_val_predict)"
   ]
  },
  {
   "cell_type": "markdown",
   "metadata": {
    "slideshow": {
     "slide_type": "-"
    }
   },
   "source": [
    "Returns for each sample, the prediction that was obtained for that element when it was in the test set. Only cross-validation strategies that assign all elements to a test set exactly once can be used."
   ]
  },
  {
   "cell_type": "markdown",
   "metadata": {
    "slideshow": {
     "slide_type": "slide"
    }
   },
   "source": [
    "## Let's use it on our linear model"
   ]
  },
  {
   "cell_type": "code",
<<<<<<< HEAD
   "execution_count": 359,
=======
   "execution_count": 69,
>>>>>>> e16f0559d51cc8e04f1e2f419570debac0262fdf
   "metadata": {
    "collapsed": false,
    "hidePrompt": true,
    "slideshow": {
     "slide_type": "-"
    }
   },
   "outputs": [],
   "source": [
    "from sklearn.cross_validation import cross_val_predict\n",
    "\n",
    "cvp_lr_preds = cross_val_predict(lr, X, y, cv=5)"
   ]
  },
  {
   "cell_type": "code",
<<<<<<< HEAD
   "execution_count": 360,
=======
   "execution_count": 70,
>>>>>>> e16f0559d51cc8e04f1e2f419570debac0262fdf
   "metadata": {
    "collapsed": false,
    "hidePrompt": true,
    "slideshow": {
     "slide_type": "-"
    }
   },
   "outputs": [
    {
     "data": {
      "text/plain": [
       "(506,)"
      ]
     },
<<<<<<< HEAD
     "execution_count": 360,
=======
     "execution_count": 70,
>>>>>>> e16f0559d51cc8e04f1e2f419570debac0262fdf
     "metadata": {},
     "output_type": "execute_result"
    }
   ],
   "source": [
    "cvp_lr_preds.shape"
   ]
  },
  {
   "cell_type": "code",
<<<<<<< HEAD
   "execution_count": 362,
=======
   "execution_count": 71,
>>>>>>> e16f0559d51cc8e04f1e2f419570debac0262fdf
   "metadata": {
    "collapsed": false,
    "hidePrompt": true,
    "slideshow": {
     "slide_type": "-"
    }
   },
   "outputs": [
    {
     "data": {
      "text/html": [
       "<div>\n",
       "<table border=\"1\" class=\"dataframe\">\n",
       "  <thead>\n",
       "    <tr style=\"text-align: right;\">\n",
       "      <th></th>\n",
       "      <th>y_hat</th>\n",
       "    </tr>\n",
       "  </thead>\n",
       "  <tbody>\n",
       "    <tr>\n",
       "      <th>0</th>\n",
       "      <td>30.207942</td>\n",
       "    </tr>\n",
       "    <tr>\n",
       "      <th>1</th>\n",
       "      <td>24.790116</td>\n",
       "    </tr>\n",
       "    <tr>\n",
       "      <th>2</th>\n",
       "      <td>30.294281</td>\n",
       "    </tr>\n",
       "  </tbody>\n",
       "</table>\n",
       "</div>"
      ],
      "text/plain": [
       "       y_hat\n",
       "0  30.207942\n",
       "1  24.790116\n",
       "2  30.294281"
      ]
     },
<<<<<<< HEAD
     "execution_count": 362,
=======
     "execution_count": 71,
>>>>>>> e16f0559d51cc8e04f1e2f419570debac0262fdf
     "metadata": {},
     "output_type": "execute_result"
    }
   ],
   "source": [
    "pd.DataFrame(cvp_lr_preds, columns=['y_hat']).head(3)"
   ]
  },
  {
   "cell_type": "markdown",
   "metadata": {
    "slideshow": {
     "slide_type": "slide"
    }
   },
   "source": [
    "## On the regularized model"
   ]
  },
  {
   "cell_type": "code",
<<<<<<< HEAD
   "execution_count": 363,
=======
   "execution_count": 72,
>>>>>>> e16f0559d51cc8e04f1e2f419570debac0262fdf
   "metadata": {
    "collapsed": true,
    "hidePrompt": true,
    "slideshow": {
     "slide_type": "-"
    }
   },
   "outputs": [],
   "source": [
    "cvp_rcv_preds = cross_val_predict(rcv_model, X, y, cv=5)"
   ]
  },
  {
   "cell_type": "code",
<<<<<<< HEAD
   "execution_count": 364,
=======
   "execution_count": 73,
>>>>>>> e16f0559d51cc8e04f1e2f419570debac0262fdf
   "metadata": {
    "collapsed": false,
    "hidePrompt": true,
    "slideshow": {
     "slide_type": "-"
    }
   },
   "outputs": [
    {
     "data": {
      "text/plain": [
       "(506,)"
      ]
     },
<<<<<<< HEAD
     "execution_count": 364,
=======
     "execution_count": 73,
>>>>>>> e16f0559d51cc8e04f1e2f419570debac0262fdf
     "metadata": {},
     "output_type": "execute_result"
    }
   ],
   "source": [
    "cvp_rcv_preds.shape"
   ]
  },
  {
   "cell_type": "code",
<<<<<<< HEAD
   "execution_count": 366,
=======
   "execution_count": 74,
>>>>>>> e16f0559d51cc8e04f1e2f419570debac0262fdf
   "metadata": {
    "collapsed": false,
    "hidePrompt": true,
    "slideshow": {
     "slide_type": "-"
    }
   },
   "outputs": [
    {
     "data": {
      "text/html": [
       "<div>\n",
       "<table border=\"1\" class=\"dataframe\">\n",
       "  <thead>\n",
       "    <tr style=\"text-align: right;\">\n",
       "      <th></th>\n",
       "      <th>y_hat</th>\n",
       "    </tr>\n",
       "  </thead>\n",
       "  <tbody>\n",
       "    <tr>\n",
       "      <th>0</th>\n",
<<<<<<< HEAD
       "      <td>30.212783</td>\n",
       "    </tr>\n",
       "    <tr>\n",
       "      <th>1</th>\n",
       "      <td>24.784849</td>\n",
       "    </tr>\n",
       "    <tr>\n",
       "      <th>2</th>\n",
       "      <td>30.293271</td>\n",
=======
       "      <td>30.212782</td>\n",
       "    </tr>\n",
       "    <tr>\n",
       "      <th>1</th>\n",
       "      <td>24.784847</td>\n",
       "    </tr>\n",
       "    <tr>\n",
       "      <th>2</th>\n",
       "      <td>30.293269</td>\n",
>>>>>>> e16f0559d51cc8e04f1e2f419570debac0262fdf
       "    </tr>\n",
       "  </tbody>\n",
       "</table>\n",
       "</div>"
      ],
      "text/plain": [
       "       y_hat\n",
<<<<<<< HEAD
       "0  30.212783\n",
       "1  24.784849\n",
       "2  30.293271"
      ]
     },
     "execution_count": 366,
=======
       "0  30.212782\n",
       "1  24.784847\n",
       "2  30.293269"
      ]
     },
     "execution_count": 74,
>>>>>>> e16f0559d51cc8e04f1e2f419570debac0262fdf
     "metadata": {},
     "output_type": "execute_result"
    }
   ],
   "source": [
    "pd.DataFrame(cvp_rcv_preds, columns=['y_hat']).head(3)"
   ]
  },
  {
   "cell_type": "markdown",
   "metadata": {
    "slideshow": {
     "slide_type": "slide"
    }
   },
   "source": [
    "## Get r<sup>2</sup>"
   ]
  },
  {
   "cell_type": "code",
<<<<<<< HEAD
   "execution_count": 371,
=======
   "execution_count": 75,
>>>>>>> e16f0559d51cc8e04f1e2f419570debac0262fdf
   "metadata": {
    "collapsed": false,
    "hidePrompt": true,
    "slideshow": {
     "slide_type": "-"
    }
   },
   "outputs": [
    {
     "data": {
      "text/plain": [
<<<<<<< HEAD
       "0.55965243464550907"
      ]
     },
     "execution_count": 371,
=======
       "0.55965243464550918"
      ]
     },
     "execution_count": 75,
>>>>>>> e16f0559d51cc8e04f1e2f419570debac0262fdf
     "metadata": {},
     "output_type": "execute_result"
    }
   ],
   "source": [
    "cvp_lr_r2 =  r2_score(y_true=y, y_pred=cvp_lr_preds)\n",
    "cvp_lr_r2"
   ]
  },
  {
   "cell_type": "code",
<<<<<<< HEAD
   "execution_count": 372,
=======
   "execution_count": 76,
>>>>>>> e16f0559d51cc8e04f1e2f419570debac0262fdf
   "metadata": {
    "collapsed": false,
    "hidePrompt": true,
    "slideshow": {
     "slide_type": "-"
    }
   },
   "outputs": [
    {
     "data": {
      "text/plain": [
<<<<<<< HEAD
       "0.56115300367094623"
      ]
     },
     "execution_count": 372,
=======
       "0.56115294765365875"
      ]
     },
     "execution_count": 76,
>>>>>>> e16f0559d51cc8e04f1e2f419570debac0262fdf
     "metadata": {},
     "output_type": "execute_result"
    }
   ],
   "source": [
    "cvp_rcv_r2 =  r2_score(y_true=y, y_pred=cvp_rcv_preds)\n",
    "cvp_rcv_r2"
   ]
  },
  {
   "cell_type": "markdown",
   "metadata": {
    "slideshow": {
     "slide_type": "slide"
    }
   },
   "source": [
    "## Plot the two"
   ]
  },
  {
   "cell_type": "code",
<<<<<<< HEAD
   "execution_count": 244,
=======
   "execution_count": 77,
>>>>>>> e16f0559d51cc8e04f1e2f419570debac0262fdf
   "metadata": {
    "collapsed": false,
    "hideCode": true,
    "hidePrompt": true,
    "slideshow": {
     "slide_type": "-"
    }
   },
   "outputs": [
    {
     "data": {
<<<<<<< HEAD
      "image/png": "iVBORw0KGgoAAAANSUhEUgAAA7QAAAH5CAYAAACxnnI1AAAABHNCSVQICAgIfAhkiAAAAAlwSFlz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\nRERERERc6f8HmngYeCyePEMAAAAASUVORK5CYII=\n",
      "text/plain": [
       "<matplotlib.figure.Figure at 0x121d6c550>"
=======
      "image/png": "iVBORw0KGgoAAAANSUhEUgAABSEAAAK/CAYAAACWQAg3AAAABHNCSVQICAgIfAhkiAAAAAlwSFlz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\nAElFTkSuQmCC\n",
      "text/plain": [
       "<matplotlib.figure.Figure at 0x117cd35d0>"
>>>>>>> e16f0559d51cc8e04f1e2f419570debac0262fdf
      ]
     },
     "metadata": {},
     "output_type": "display_data"
    }
   ],
   "source": [
    "fig, axes = plt.subplots(1,2, figsize=(16,8))\n",
    "\n",
    "axes[0].scatter(cvp_lr_preds, y, c='red')\n",
    "axes[1].scatter(cvp_rcv_preds, y, c='k')\n",
    "\n",
    "axes[0].set_title('Linear Model')\n",
    "axes[0].set_ylabel('Actual')\n",
    "axes[0].set_xlabel('Predicted')\n",
    "\n",
    "axes[1].set_title('Ridge Model')\n",
    "axes[1].set_ylabel('Actual')\n",
    "axes[1].set_xlabel('Predicted');"
   ]
  },
  {
   "cell_type": "markdown",
   "metadata": {
    "slideshow": {
     "slide_type": "slide"
    }
   },
   "source": [
    "## Independent Practice\n",
    "\n",
    "Using the diabetes dataset given below:\n",
    "1. Fit a linear model on all the data\n",
    "2. Get the r-squared value\n",
    "3. Now implement train_test_split using sklearn\n",
    "4. Get the r-squared value on your test set. How does it compare?\n",
    "5. Rerun the steps above using a LASSO and Ridge model. What are the default alphas?\n",
    "6. Retrieve the coefficients of both. How do they compare?\n",
    "7. Now use RidgeCV and LASSOCV to find the optimal alphas. What are they?\n",
    "8. Finally, use cross_val_score on all three models."
   ]
  },
  {
   "cell_type": "code",
<<<<<<< HEAD
   "execution_count": 444,
=======
   "execution_count": null,
   "metadata": {
    "collapsed": true
   },
   "outputs": [],
   "source": [
    "import pandas as pd\n",
    "from sklearn import linear_model\n",
    "from sklearn.cross_validation import train_test_split\n",
    "from sklearn.cross_validation import cross_val_score\n"
   ]
  },
  {
   "cell_type": "code",
   "execution_count": 79,
>>>>>>> e16f0559d51cc8e04f1e2f419570debac0262fdf
   "metadata": {
    "collapsed": false,
    "hidePrompt": true,
    "slideshow": {
     "slide_type": "-"
    }
   },
   "outputs": [
    {
     "data": {
      "text/html": [
       "<div>\n",
       "<table border=\"1\" class=\"dataframe\">\n",
       "  <thead>\n",
       "    <tr style=\"text-align: right;\">\n",
       "      <th></th>\n",
       "      <th>age</th>\n",
       "      <th>sex</th>\n",
       "      <th>bmi</th>\n",
       "      <th>map</th>\n",
       "      <th>tc</th>\n",
       "      <th>ldl</th>\n",
       "      <th>hdl</th>\n",
       "      <th>tch</th>\n",
       "      <th>ltg</th>\n",
       "      <th>glu</th>\n",
       "    </tr>\n",
       "  </thead>\n",
       "  <tbody>\n",
       "    <tr>\n",
       "      <th>0</th>\n",
       "      <td>0.038076</td>\n",
       "      <td>0.050680</td>\n",
       "      <td>0.061696</td>\n",
       "      <td>0.021872</td>\n",
       "      <td>-0.044223</td>\n",
       "      <td>-0.034821</td>\n",
       "      <td>-0.043401</td>\n",
       "      <td>-0.002592</td>\n",
       "      <td>0.019908</td>\n",
       "      <td>-0.017646</td>\n",
       "    </tr>\n",
       "    <tr>\n",
       "      <th>1</th>\n",
       "      <td>-0.001882</td>\n",
       "      <td>-0.044642</td>\n",
       "      <td>-0.051474</td>\n",
       "      <td>-0.026328</td>\n",
       "      <td>-0.008449</td>\n",
       "      <td>-0.019163</td>\n",
       "      <td>0.074412</td>\n",
       "      <td>-0.039493</td>\n",
       "      <td>-0.068330</td>\n",
       "      <td>-0.092204</td>\n",
       "    </tr>\n",
       "    <tr>\n",
       "      <th>2</th>\n",
       "      <td>0.085299</td>\n",
       "      <td>0.050680</td>\n",
       "      <td>0.044451</td>\n",
       "      <td>-0.005671</td>\n",
       "      <td>-0.045599</td>\n",
       "      <td>-0.034194</td>\n",
       "      <td>-0.032356</td>\n",
       "      <td>-0.002592</td>\n",
       "      <td>0.002864</td>\n",
       "      <td>-0.025930</td>\n",
       "    </tr>\n",
       "    <tr>\n",
       "      <th>3</th>\n",
       "      <td>-0.089063</td>\n",
       "      <td>-0.044642</td>\n",
       "      <td>-0.011595</td>\n",
       "      <td>-0.036656</td>\n",
       "      <td>0.012191</td>\n",
       "      <td>0.024991</td>\n",
       "      <td>-0.036038</td>\n",
       "      <td>0.034309</td>\n",
       "      <td>0.022692</td>\n",
       "      <td>-0.009362</td>\n",
       "    </tr>\n",
       "    <tr>\n",
       "      <th>4</th>\n",
       "      <td>0.005383</td>\n",
       "      <td>-0.044642</td>\n",
       "      <td>-0.036385</td>\n",
       "      <td>0.021872</td>\n",
       "      <td>0.003935</td>\n",
       "      <td>0.015596</td>\n",
       "      <td>0.008142</td>\n",
       "      <td>-0.002592</td>\n",
       "      <td>-0.031991</td>\n",
       "      <td>-0.046641</td>\n",
       "    </tr>\n",
       "  </tbody>\n",
       "</table>\n",
       "</div>"
      ],
      "text/plain": [
       "        age       sex       bmi       map        tc       ldl       hdl  \\\n",
       "0  0.038076  0.050680  0.061696  0.021872 -0.044223 -0.034821 -0.043401   \n",
       "1 -0.001882 -0.044642 -0.051474 -0.026328 -0.008449 -0.019163  0.074412   \n",
       "2  0.085299  0.050680  0.044451 -0.005671 -0.045599 -0.034194 -0.032356   \n",
       "3 -0.089063 -0.044642 -0.011595 -0.036656  0.012191  0.024991 -0.036038   \n",
       "4  0.005383 -0.044642 -0.036385  0.021872  0.003935  0.015596  0.008142   \n",
       "\n",
       "        tch       ltg       glu  \n",
       "0 -0.002592  0.019908 -0.017646  \n",
       "1 -0.039493 -0.068330 -0.092204  \n",
       "2 -0.002592  0.002864 -0.025930  \n",
       "3  0.034309  0.022692 -0.009362  \n",
       "4 -0.002592 -0.031991 -0.046641  "
      ]
     },
<<<<<<< HEAD
     "execution_count": 444,
=======
     "execution_count": 79,
>>>>>>> e16f0559d51cc8e04f1e2f419570debac0262fdf
     "metadata": {},
     "output_type": "execute_result"
    }
   ],
   "source": [
    "columns = \"age sex bmi map tc ldl hdl tch ltg glu\".split()\n",
    "diabetes = datasets.load_diabetes()\n",
    "dd = pd.DataFrame(diabetes.data, columns=columns)\n",
    "dy = diabetes.target\n",
    "# Take a look at the data again\n",
    "dd.head()"
   ]
  },
  {
   "cell_type": "code",
<<<<<<< HEAD
   "execution_count": null,
=======
   "execution_count": 81,
   "metadata": {
    "collapsed": true
   },
   "outputs": [],
   "source": [
    "X = dd\n",
    "y = dy"
   ]
  },
  {
   "cell_type": "code",
   "execution_count": 82,
>>>>>>> e16f0559d51cc8e04f1e2f419570debac0262fdf
   "metadata": {
    "collapsed": false,
    "slideshow": {
     "slide_type": "slide"
    }
   },
   "outputs": [],
<<<<<<< HEAD
   "source": []
  },
  {
   "cell_type": "code",
   "execution_count": null,
=======
   "source": [
    "lr = linear_model.LinearRegression()\n",
    "lr_model = lr.fit(X, y)"
   ]
  },
  {
   "cell_type": "code",
   "execution_count": 84,
>>>>>>> e16f0559d51cc8e04f1e2f419570debac0262fdf
   "metadata": {
    "collapsed": false,
    "slideshow": {
     "slide_type": "slide"
    }
   },
<<<<<<< HEAD
   "outputs": [],
   "source": []
  },
  {
   "cell_type": "code",
   "execution_count": null,
=======
   "outputs": [
    {
     "name": "stdout",
     "output_type": "stream",
     "text": [
      "(442, 10)\n",
      "(442,)\n"
     ]
    }
   ],
   "source": [
    "print X.shape\n",
    "print y.shape"
   ]
  },
  {
   "cell_type": "code",
   "execution_count": 86,
>>>>>>> e16f0559d51cc8e04f1e2f419570debac0262fdf
   "metadata": {
    "collapsed": false,
    "slideshow": {
     "slide_type": "slide"
    }
   },
<<<<<<< HEAD
   "outputs": [],
   "source": []
  },
  {
   "cell_type": "code",
   "execution_count": null,
=======
   "outputs": [
    {
     "data": {
      "text/plain": [
       "0.51774942541329338"
      ]
     },
     "execution_count": 86,
     "metadata": {},
     "output_type": "execute_result"
    }
   ],
   "source": [
    "lr_r2 = r2_score(y_true = y, y_pred = lr_model.predict(X))\n",
    "\n",
    "lr_r2"
   ]
  },
  {
   "cell_type": "code",
   "execution_count": 95,
>>>>>>> e16f0559d51cc8e04f1e2f419570debac0262fdf
   "metadata": {
    "collapsed": false,
    "slideshow": {
     "slide_type": "-"
    }
   },
   "outputs": [],
<<<<<<< HEAD
   "source": []
  },
  {
   "cell_type": "code",
   "execution_count": null,
=======
   "source": [
    "X_train, X_test, y_train, y_test = train_test_split(X, y, test_size=.33)"
   ]
  },
  {
   "cell_type": "code",
   "execution_count": 98,
>>>>>>> e16f0559d51cc8e04f1e2f419570debac0262fdf
   "metadata": {
    "collapsed": false,
    "slideshow": {
     "slide_type": "slide"
    }
   },
<<<<<<< HEAD
   "outputs": [],
   "source": []
  },
  {
   "cell_type": "code",
   "execution_count": null,
=======
   "outputs": [
    {
     "data": {
      "text/plain": [
       "0.40680431334082101"
      ]
     },
     "execution_count": 98,
     "metadata": {},
     "output_type": "execute_result"
    }
   ],
   "source": [
    "tts = linear_model.LinearRegression()\n",
    "tts_model = tts.fit(X_train, y_train)\n",
    "\n",
    "r2_score(y_true = y_test, y_pred = tts_model.predict(X_test))"
   ]
  },
  {
   "cell_type": "code",
   "execution_count": 99,
>>>>>>> e16f0559d51cc8e04f1e2f419570debac0262fdf
   "metadata": {
    "collapsed": false,
    "slideshow": {
     "slide_type": "-"
    }
   },
   "outputs": [],
<<<<<<< HEAD
   "source": []
  },
  {
   "cell_type": "code",
   "execution_count": null,
=======
   "source": [
    "lasso = linear_model.Lasso(alpha=1)\n",
    "lasso_model = lasso.fit(X,y)"
   ]
  },
  {
   "cell_type": "code",
   "execution_count": 105,
>>>>>>> e16f0559d51cc8e04f1e2f419570debac0262fdf
   "metadata": {
    "collapsed": false,
    "slideshow": {
     "slide_type": "slide"
    }
   },
<<<<<<< HEAD
   "outputs": [],
   "source": []
  },
  {
   "cell_type": "code",
   "execution_count": null,
=======
   "outputs": [
    {
     "data": {
      "text/plain": [
       "0.35737932948734685"
      ]
     },
     "execution_count": 105,
     "metadata": {},
     "output_type": "execute_result"
    }
   ],
   "source": [
    "lasso_r2 = r2_score(y_true= y, y_pred = lasso_model.predict(X))\n",
    "lasso_r2"
   ]
  },
  {
   "cell_type": "code",
   "execution_count": 129,
>>>>>>> e16f0559d51cc8e04f1e2f419570debac0262fdf
   "metadata": {
    "collapsed": false,
    "slideshow": {
     "slide_type": "-"
    }
   },
<<<<<<< HEAD
   "outputs": [],
   "source": []
=======
   "outputs": [
    {
     "data": {
      "text/plain": [
       "0.45123139467990558"
      ]
     },
     "execution_count": 129,
     "metadata": {},
     "output_type": "execute_result"
    }
   ],
   "source": [
    "ridge = linear_model.Ridge(alpha=1)\n",
    "ridge_model = ridge.fit(X,y)\n",
    "\n",
    "ridge_r2 = r2_score(y_true=y, y_pred = ridge_model.predict(X))\n",
    "ridge_r2"
   ]
>>>>>>> e16f0559d51cc8e04f1e2f419570debac0262fdf
  },
  {
   "cell_type": "code",
   "execution_count": null,
   "metadata": {
    "collapsed": false,
    "slideshow": {
     "slide_type": "slide"
    }
   },
   "outputs": [],
<<<<<<< HEAD
   "source": []
  },
  {
   "cell_type": "code",
   "execution_count": null,
=======
   "source": [
    "# Default Alphas are 1"
   ]
  },
  {
   "cell_type": "code",
   "execution_count": 116,
>>>>>>> e16f0559d51cc8e04f1e2f419570debac0262fdf
   "metadata": {
    "collapsed": false,
    "slideshow": {
     "slide_type": "-"
    }
   },
<<<<<<< HEAD
   "outputs": [],
   "source": []
  },
  {
   "cell_type": "code",
   "execution_count": null,
=======
   "outputs": [
    {
     "name": "stdout",
     "output_type": "stream",
     "text": [
      "346.000495515\n"
     ]
    }
   ],
   "source": [
    "print abs(lr_model.coef_).mean()\n"
   ]
  },
  {
   "cell_type": "code",
   "execution_count": 112,
>>>>>>> e16f0559d51cc8e04f1e2f419570debac0262fdf
   "metadata": {
    "collapsed": false,
    "slideshow": {
     "slide_type": "slide"
    }
   },
<<<<<<< HEAD
   "outputs": [],
   "source": []
  },
  {
   "cell_type": "code",
   "execution_count": null,
=======
   "outputs": [
    {
     "name": "stdout",
     "output_type": "stream",
     "text": [
      "68.160945626\n"
     ]
    }
   ],
   "source": [
    "print abs(lasso_model.coef_).mean()"
   ]
  },
  {
   "cell_type": "code",
   "execution_count": 115,
>>>>>>> e16f0559d51cc8e04f1e2f419570debac0262fdf
   "metadata": {
    "collapsed": false,
    "slideshow": {
     "slide_type": "-"
    }
   },
<<<<<<< HEAD
   "outputs": [],
   "source": []
  },
  {
   "cell_type": "code",
   "execution_count": null,
   "metadata": {
    "collapsed": true
   },
   "outputs": [],
   "source": []
=======
   "outputs": [
    {
     "name": "stdout",
     "output_type": "stream",
     "text": [
      "130.020288171\n"
     ]
    }
   ],
   "source": [
    "print abs(ridge_model.coef_).mean()"
   ]
  },
  {
   "cell_type": "code",
   "execution_count": 124,
   "metadata": {
    "collapsed": false
   },
   "outputs": [
    {
     "data": {
      "text/plain": [
       "0.10000000000000001"
      ]
     },
     "execution_count": 124,
     "metadata": {},
     "output_type": "execute_result"
    }
   ],
   "source": [
    "rcv = linear_model.RidgeCV()\n",
    "rcv_model = rcv.fit(X,y)\n",
    "\n",
    "rcv.alpha_"
   ]
  },
  {
   "cell_type": "code",
   "execution_count": 126,
   "metadata": {
    "collapsed": false
   },
   "outputs": [
    {
     "data": {
      "text/plain": [
       "0.012291895087486161"
      ]
     },
     "execution_count": 126,
     "metadata": {},
     "output_type": "execute_result"
    }
   ],
   "source": [
    "lcv_model = linear_model.LassoCV().fit(X,y)\n",
    "lcv_model.alpha_"
   ]
  },
  {
   "cell_type": "code",
   "execution_count": 119,
   "metadata": {
    "collapsed": false,
    "slideshow": {
     "slide_type": "-"
    }
   },
   "outputs": [
    {
     "data": {
      "text/plain": [
       "0.48231812211149389"
      ]
     },
     "execution_count": 119,
     "metadata": {},
     "output_type": "execute_result"
    }
   ],
   "source": [
    "cross_val_score(lr, X, y, n_jobs=1, cv=5).mean()"
   ]
  },
  {
   "cell_type": "code",
   "execution_count": 120,
   "metadata": {
    "collapsed": false
   },
   "outputs": [
    {
     "data": {
      "text/plain": [
       "0.33755978342749465"
      ]
     },
     "execution_count": 120,
     "metadata": {},
     "output_type": "execute_result"
    }
   ],
   "source": [
    "cross_val_score(lasso, X, y, n_jobs=1, cv=5).mean()"
   ]
  },
  {
   "cell_type": "code",
   "execution_count": 121,
   "metadata": {
    "collapsed": false
   },
   "outputs": [
    {
     "data": {
      "text/plain": [
       "0.41017583365872856"
      ]
     },
     "execution_count": 121,
     "metadata": {},
     "output_type": "execute_result"
    }
   ],
   "source": [
    "cross_val_score(ridge, X, y, n_jobs=1, cv=5).mean()"
   ]
>>>>>>> e16f0559d51cc8e04f1e2f419570debac0262fdf
  }
 ],
 "metadata": {
  "anaconda-cloud": {},
  "celltoolbar": "Slideshow",
  "kernelspec": {
   "display_name": "Python [default]",
   "language": "python",
   "name": "python2"
  },
  "language_info": {
   "codemirror_mode": {
    "name": "ipython",
    "version": 2
   },
   "file_extension": ".py",
   "mimetype": "text/x-python",
   "name": "python",
   "nbconvert_exporter": "python",
   "pygments_lexer": "ipython2",
   "version": "2.7.12"
  }
 },
 "nbformat": 4,
 "nbformat_minor": 0
}
