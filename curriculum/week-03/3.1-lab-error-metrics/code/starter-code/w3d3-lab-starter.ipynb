{
 "cells": [
  {
   "cell_type": "markdown",
   "metadata": {
    "slideshow": {
     "slide_type": "slide"
    }
   },
   "source": [
    "# Evaluating Model Fit\n",
    "\n",
    "So far we've used the sum of the squared errors as a measure of model fit, looking for models with smaller errors. In this lab we'll investigate a new mesure of model fit, the [coefficient of determination](https://en.wikipedia.org/wiki/Coefficient_of_determination) $r^2$, and see how it's influenced by outliers.\n",
    "\n"
   ]
  },
  {
   "cell_type": "markdown",
   "metadata": {
    "slideshow": {
     "slide_type": "slide"
    }
   },
   "source": [
    "R-squared is defined in terms of a ratio of the variance of the data, $SS_{tot}$ and the sum of squared error of the residuals of the model fit $SS_{res}$. Let's assume that our model has the form\n",
    "\n",
    "$$y_i = f(x_i) + e_i$$\n",
    "\n",
    "For some model function $f$. The mean of the data targets is $\\bar{y}$. We can write $r^2$ as:\n",
    "\n",
    "$$ r^2  = 1 - \\frac{SS_{res}}{SS_{tot}} = 1 - \\frac{\\sum_{i}{\\left(y_i - \\bar{y} \\right)^2}}{\\sum_{i}{\\left(y_i - f_i \\right)^2}}$$"
   ]
  },
  {
   "cell_type": "markdown",
   "metadata": {
    "slideshow": {
     "slide_type": "slide"
    }
   },
   "source": [
    "Put another way, $r^2$ or ($R^2$) is a measurement of how well the variance in the data is explained by the model\n",
    "## Visualizing $r^2$\n",
    "![](https://wikimedia.org/api/rest_v1/media/math/render/svg/6b863cb70dd04b45984983cb6ed00801d5eddc94)\n",
    "![](https://upload.wikimedia.org/wikipedia/commons/thumb/8/86/Coefficient_of_Determination.svg/800px-Coefficient_of_Determination.svg.png)"
   ]
  },
  {
   "cell_type": "markdown",
   "metadata": {
    "slideshow": {
     "slide_type": "slide"
    }
   },
   "source": [
    "## Understanding $r^2$\n",
    "To help understand this measure, let's consider a few special cases.\n",
    "* If our model is a perfect fit then the predictions of the model always match the true values, i.e. $y_i = f(x_i) = f_i$. This means that the squared error of the residuals is 0, so r^2 is:\n",
    "\n",
    "$$ r^2  = 1 - \\frac{SS_{res}}{SS_{tot}} =  1 - \\frac{0}{SS_{tot}} = 1$$\n",
    "\n",
    "\n",
    "\n",
    "\n",
    "\n"
   ]
  },
  {
   "cell_type": "markdown",
   "metadata": {
    "slideshow": {
     "slide_type": "slide"
    }
   },
   "source": [
    "* If our model always predicted the mean value, $y_i = \\bar{y}$ for all data points, then the two sum of squares terms are equal:\n",
    "\n",
    "$$ r^2  = 1 - \\frac{SS_{res}}{SS_{tot}} =  1 - 1 = 0$$\n",
    "\n",
    "This is not a very good model -- it's simply a constant prediction, and does not vary over the data points.\n",
    "\n",
    "* Typically the better the model the larger the value of $r^2$, with $r^2=1$ being an exact fit.\n",
    "\n",
    "**Check**: It is possible for $r^2$ to be negative, despite the name. How could that happen?"
   ]
  },
  {
   "cell_type": "markdown",
   "metadata": {
    "slideshow": {
     "slide_type": "slide"
    }
   },
   "source": [
    "## Let's look at some data\n",
    "\n",
    "Scikit-learn can compute $r^2$ for us, so let's explore some actual data."
   ]
  },
  {
   "cell_type": "code",
<<<<<<< HEAD
   "execution_count": 14,
=======
   "execution_count": 1,
>>>>>>> 68ac1efd9665441127847d23b1e529514247ea8c
   "metadata": {
    "collapsed": false,
    "slideshow": {
     "slide_type": "slide"
    }
   },
   "outputs": [
    {
     "data": {
      "text/html": [
       "<div>\n",
       "<table border=\"1\" class=\"dataframe\">\n",
       "  <thead>\n",
       "    <tr style=\"text-align: right;\">\n",
       "      <th></th>\n",
       "      <th>CRIM</th>\n",
       "      <th>ZN</th>\n",
       "      <th>INDUS</th>\n",
       "      <th>CHAS</th>\n",
       "      <th>NOX</th>\n",
       "      <th>RM</th>\n",
       "      <th>AGE</th>\n",
       "      <th>DIS</th>\n",
       "      <th>RAD</th>\n",
       "      <th>TAX</th>\n",
       "      <th>PTRATIO</th>\n",
       "      <th>B</th>\n",
       "      <th>LSTAT</th>\n",
       "    </tr>\n",
       "  </thead>\n",
       "  <tbody>\n",
       "    <tr>\n",
       "      <th>0</th>\n",
       "      <td>0.00632</td>\n",
       "      <td>18.0</td>\n",
       "      <td>2.31</td>\n",
       "      <td>0.0</td>\n",
       "      <td>0.538</td>\n",
       "      <td>6.575</td>\n",
       "      <td>65.2</td>\n",
       "      <td>4.0900</td>\n",
       "      <td>1.0</td>\n",
       "      <td>296.0</td>\n",
       "      <td>15.3</td>\n",
       "      <td>396.90</td>\n",
       "      <td>4.98</td>\n",
       "    </tr>\n",
       "    <tr>\n",
       "      <th>1</th>\n",
       "      <td>0.02731</td>\n",
       "      <td>0.0</td>\n",
       "      <td>7.07</td>\n",
       "      <td>0.0</td>\n",
       "      <td>0.469</td>\n",
       "      <td>6.421</td>\n",
       "      <td>78.9</td>\n",
       "      <td>4.9671</td>\n",
       "      <td>2.0</td>\n",
       "      <td>242.0</td>\n",
       "      <td>17.8</td>\n",
       "      <td>396.90</td>\n",
       "      <td>9.14</td>\n",
       "    </tr>\n",
       "    <tr>\n",
       "      <th>2</th>\n",
       "      <td>0.02729</td>\n",
       "      <td>0.0</td>\n",
       "      <td>7.07</td>\n",
       "      <td>0.0</td>\n",
       "      <td>0.469</td>\n",
       "      <td>7.185</td>\n",
       "      <td>61.1</td>\n",
       "      <td>4.9671</td>\n",
       "      <td>2.0</td>\n",
       "      <td>242.0</td>\n",
       "      <td>17.8</td>\n",
       "      <td>392.83</td>\n",
       "      <td>4.03</td>\n",
       "    </tr>\n",
       "    <tr>\n",
       "      <th>3</th>\n",
       "      <td>0.03237</td>\n",
       "      <td>0.0</td>\n",
       "      <td>2.18</td>\n",
       "      <td>0.0</td>\n",
       "      <td>0.458</td>\n",
       "      <td>6.998</td>\n",
       "      <td>45.8</td>\n",
       "      <td>6.0622</td>\n",
       "      <td>3.0</td>\n",
       "      <td>222.0</td>\n",
       "      <td>18.7</td>\n",
       "      <td>394.63</td>\n",
       "      <td>2.94</td>\n",
       "    </tr>\n",
       "    <tr>\n",
       "      <th>4</th>\n",
       "      <td>0.06905</td>\n",
       "      <td>0.0</td>\n",
       "      <td>2.18</td>\n",
       "      <td>0.0</td>\n",
       "      <td>0.458</td>\n",
       "      <td>7.147</td>\n",
       "      <td>54.2</td>\n",
       "      <td>6.0622</td>\n",
       "      <td>3.0</td>\n",
       "      <td>222.0</td>\n",
       "      <td>18.7</td>\n",
       "      <td>396.90</td>\n",
       "      <td>5.33</td>\n",
       "    </tr>\n",
       "  </tbody>\n",
       "</table>\n",
       "</div>"
      ],
      "text/plain": [
       "      CRIM    ZN  INDUS  CHAS    NOX     RM   AGE     DIS  RAD    TAX  \\\n",
       "0  0.00632  18.0   2.31   0.0  0.538  6.575  65.2  4.0900  1.0  296.0   \n",
       "1  0.02731   0.0   7.07   0.0  0.469  6.421  78.9  4.9671  2.0  242.0   \n",
       "2  0.02729   0.0   7.07   0.0  0.469  7.185  61.1  4.9671  2.0  242.0   \n",
       "3  0.03237   0.0   2.18   0.0  0.458  6.998  45.8  6.0622  3.0  222.0   \n",
       "4  0.06905   0.0   2.18   0.0  0.458  7.147  54.2  6.0622  3.0  222.0   \n",
       "\n",
       "   PTRATIO       B  LSTAT  \n",
       "0     15.3  396.90   4.98  \n",
       "1     17.8  396.90   9.14  \n",
       "2     17.8  392.83   4.03  \n",
       "3     18.7  394.63   2.94  \n",
       "4     18.7  396.90   5.33  "
      ]
     },
<<<<<<< HEAD
     "execution_count": 14,
=======
     "execution_count": 1,
>>>>>>> 68ac1efd9665441127847d23b1e529514247ea8c
     "metadata": {},
     "output_type": "execute_result"
    }
   ],
   "source": [
    "# Let's load in some packages\n",
    "\n",
    "% matplotlib inline\n",
    "\n",
    "from matplotlib import pyplot as plt\n",
    "# Make the plots bigger\n",
    "plt.rcParams['figure.figsize'] = 10, 10\n",
    "\n",
    "import numpy as np\n",
    "import pandas as pd\n",
    "from scipy import stats\n",
    "from sklearn import datasets, linear_model\n",
    "\n",
    "# Load the Boston Housing dataset\n",
    "boston = datasets.load_boston()\n",
    "df = pd.DataFrame(boston.data, columns=boston.feature_names)\n",
    "\n",
    "# Take a look at the data again\n",
    "df.head()"
   ]
  },
  {
   "cell_type": "code",
<<<<<<< HEAD
   "execution_count": 12,
=======
   "execution_count": 2,
>>>>>>> 68ac1efd9665441127847d23b1e529514247ea8c
   "metadata": {
    "collapsed": false
   },
   "outputs": [
    {
     "name": "stdout",
     "output_type": "stream",
     "text": [
      "Boston House Prices dataset\n",
      "\n",
      "Notes\n",
      "------\n",
      "Data Set Characteristics:  \n",
      "\n",
      "    :Number of Instances: 506 \n",
      "\n",
      "    :Number of Attributes: 13 numeric/categorical predictive\n",
      "    \n",
      "    :Median Value (attribute 14) is usually the target\n",
      "\n",
      "    :Attribute Information (in order):\n",
      "        - CRIM     per capita crime rate by town\n",
      "        - ZN       proportion of residential land zoned for lots over 25,000 sq.ft.\n",
      "        - INDUS    proportion of non-retail business acres per town\n",
      "        - CHAS     Charles River dummy variable (= 1 if tract bounds river; 0 otherwise)\n",
      "        - NOX      nitric oxides concentration (parts per 10 million)\n",
      "        - RM       average number of rooms per dwelling\n",
      "        - AGE      proportion of owner-occupied units built prior to 1940\n",
      "        - DIS      weighted distances to five Boston employment centres\n",
      "        - RAD      index of accessibility to radial highways\n",
      "        - TAX      full-value property-tax rate per $10,000\n",
      "        - PTRATIO  pupil-teacher ratio by town\n",
      "        - B        1000(Bk - 0.63)^2 where Bk is the proportion of blacks by town\n",
      "        - LSTAT    % lower status of the population\n",
      "        - MEDV     Median value of owner-occupied homes in $1000's\n",
      "\n",
      "    :Missing Attribute Values: None\n",
      "\n",
      "    :Creator: Harrison, D. and Rubinfeld, D.L.\n",
      "\n",
      "This is a copy of UCI ML housing dataset.\n",
      "http://archive.ics.uci.edu/ml/datasets/Housing\n",
      "\n",
      "\n",
      "This dataset was taken from the StatLib library which is maintained at Carnegie Mellon University.\n",
      "\n",
      "The Boston house-price data of Harrison, D. and Rubinfeld, D.L. 'Hedonic\n",
      "prices and the demand for clean air', J. Environ. Economics & Management,\n",
      "vol.5, 81-102, 1978.   Used in Belsley, Kuh & Welsch, 'Regression diagnostics\n",
      "...', Wiley, 1980.   N.B. Various transformations are used in the table on\n",
      "pages 244-261 of the latter.\n",
      "\n",
      "The Boston house-price data has been used in many machine learning papers that address regression\n",
      "problems.   \n",
      "     \n",
      "**References**\n",
      "\n",
      "   - Belsley, Kuh & Welsch, 'Regression diagnostics: Identifying Influential Data and Sources of Collinearity', Wiley, 1980. 244-261.\n",
      "   - Quinlan,R. (1993). Combining Instance-Based and Model-Based Learning. In Proceedings on the Tenth International Conference of Machine Learning, 236-243, University of Massachusetts, Amherst. Morgan Kaufmann.\n",
      "   - many more! (see http://archive.ics.uci.edu/ml/datasets/Housing)\n",
      "\n"
     ]
    }
   ],
   "source": [
    "print boston.DESCR"
   ]
  },
  {
   "cell_type": "markdown",
   "metadata": {
    "slideshow": {
     "slide_type": "slide"
    }
   },
   "source": [
    "## First example\n",
    "\n",
    "Let's pick two variables and plot them against each other with a best fit line. For example, let's see if the Pupil-Teacher ratio by town and the age of a property are related."
   ]
  },
  {
   "cell_type": "code",
<<<<<<< HEAD
   "execution_count": 17,
=======
   "execution_count": 3,
>>>>>>> 68ac1efd9665441127847d23b1e529514247ea8c
   "metadata": {
    "collapsed": false
   },
   "outputs": [
    {
     "data": {
      "text/plain": [
<<<<<<< HEAD
       "<matplotlib.text.Text at 0x7f8d638dfc90>"
      ]
     },
     "execution_count": 17,
=======
       "<matplotlib.text.Text at 0x114f21e90>"
      ]
     },
     "execution_count": 3,
>>>>>>> 68ac1efd9665441127847d23b1e529514247ea8c
     "metadata": {},
     "output_type": "execute_result"
    },
    {
     "data": {
<<<<<<< HEAD
      "image/png": "iVBORw0KGgoAAAANSUhEUgAAAmoAAAJeCAYAAAAEOSnEAAAABHNCSVQICAgIfAhkiAAAAAlwSFlz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\n",
      "text/plain": [
       "<matplotlib.figure.Figure at 0x7f8d638b0ad0>"
=======
      "image/png": "iVBORw0KGgoAAAANSUhEUgAAA1sAAANKCAYAAAB8tlQ7AAAABHNCSVQICAgIfAhkiAAAAAlwSFlz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\n",
      "text/plain": [
       "<matplotlib.figure.Figure at 0x10a46e790>"
>>>>>>> 68ac1efd9665441127847d23b1e529514247ea8c
      ]
     },
     "metadata": {},
     "output_type": "display_data"
    }
   ],
   "source": [
    "# Fit a line\n",
    "\n",
    "lm = linear_model.LinearRegression()\n",
    "\n",
    "X = df[[\"PTRATIO\"]]\n",
    "y = df[\"AGE\"]\n",
    "\n",
    "model = lm.fit(X, y)\n",
    "predictions = lm.predict(X)\n",
    "\n",
    "# Plot the data and the best fit line\n",
    "## The data\n",
    "plt.scatter(X, y)\n",
    "## The line / model\n",
    "plt.plot(X, predictions)\n",
    "plt.ylabel(\"AGE\")\n",
    "plt.xlabel(\"PTRATIO\")"
   ]
  },
  {
   "cell_type": "markdown",
   "metadata": {
    "slideshow": {
     "slide_type": "slide"
    }
   },
   "source": [
    "The data doesn't appear to be all that linear so we should find that the model fit is poor. Let's calculate the $r^2$ value."
   ]
  },
  {
   "cell_type": "code",
   "execution_count": 18,
   "metadata": {
    "collapsed": false
   },
   "outputs": [
    {
     "name": "stdout",
     "output_type": "stream",
     "text": [
      "r^2: 0.0683901013298\n"
     ]
    }
   ],
   "source": [
    "# Scikit-learn makes it easy to get the score\n",
    "print \"r^2:\", model.score(X,y)"
   ]
  },
  {
   "cell_type": "markdown",
   "metadata": {},
   "source": [
    "In this case the $r^2$ value is close to zero, as expected.\n"
   ]
  },
  {
   "cell_type": "markdown",
   "metadata": {
    "slideshow": {
     "slide_type": "slide"
    }
   },
   "source": [
    "\n",
    "### Exercise 1\n",
    "Repeat this for each pair of variables in the housing data set:\n",
    "* Fit a linear model\n",
    "* Compute the $r^2$ score\n",
    "\n",
    "Hint: use a pair of loops to cut down on the boilerplate code.\n",
    "\n",
    "For which two variables is the $r^2$ value the highest? The lowest? Plot the highest and lowest scores -- does the data seem to fit the $r^2$ score?\n",
    "\n"
   ]
  },
  {
   "cell_type": "code",
   "execution_count": 79,
   "metadata": {
    "collapsed": false
   },
   "outputs": [],
   "source": [
    "# Exercise 1 Code here\n"
   ]
  },
  {
   "cell_type": "markdown",
   "metadata": {
    "slideshow": {
     "slide_type": "slide"
    }
   },
   "source": [
    "### Exercise 2\n",
    "\n",
    "Use seaborn's [linear plotting functions](https://stanford.edu/~mwaskom/software/seaborn/tutorial/regression.html) to take a closer look at your highest and lowest $r^2$ pairs."
   ]
  },
  {
   "cell_type": "code",
   "execution_count": 86,
   "metadata": {
    "collapsed": false
   },
   "outputs": [],
   "source": [
    "# Exercise 2\n",
    "import seaborn as sns\n"
   ]
  },
  {
   "cell_type": "markdown",
   "metadata": {
    "slideshow": {
     "slide_type": "slide"
    }
   },
   "source": [
    "## Exercise 3\n",
    "\n",
    "Recall from our earlier exploration the best model you found that utilizes as many variables from the housing data as you'd like. What is the $r^2$ value for that model?"
   ]
  },
  {
   "cell_type": "code",
   "execution_count": 87,
   "metadata": {
    "collapsed": true
   },
   "outputs": [],
   "source": [
    "# Exercise 3 (answers will vary)"
   ]
  },
  {
   "cell_type": "markdown",
   "metadata": {
    "slideshow": {
     "slide_type": "slide"
    }
   },
   "source": [
    "# Interpreting $r^2$\n",
    "\n",
    "While it's typically the case that higher $r^2$ values are better models, this is not always the case. We can have high $r^2$ for biased models and low $r^2$ for noisy data. Let's explore both cases. We've been making polynomial fits with scikit-learn so let's change it up and use numpy. We'll use numpy's [polyfit](http://docs.scipy.org/doc/numpy-1.10.0/reference/generated/numpy.polyfit.html) and [polyval](http://docs.scipy.org/doc/numpy-1.10.1/reference/generated/numpy.polyval.html) functions. I'll show you the quadratic fit first and you'll follow with the linear fit.\n",
    "\n",
    "## Exercise:\n",
    "Fit the same data with a linear fit using numpy."
   ]
  },
  {
   "cell_type": "code",
   "execution_count": 51,
   "metadata": {
    "collapsed": false
   },
   "outputs": [],
   "source": [
    "# Here's some quadratic data with a bit of noise\n",
    "import scipy\n",
    "\n",
    "noise = scipy.stats.norm(0, 4)\n",
    "data = [(x, 3*x*x - 5*x + 3 + noise.rvs()) for x in np.arange(-6, 2, 0.5)]\n",
    "\n",
    "xs = [x for (x, y) in data]\n",
    "ys = [y for (x, y) in data]"
   ]
  },
  {
   "cell_type": "code",
   "execution_count": 42,
   "metadata": {
    "collapsed": false
   },
   "outputs": [
    {
     "data": {
      "text/plain": [
       "0.996097316026333"
      ]
     },
     "execution_count": 42,
     "metadata": {},
     "output_type": "execute_result"
    },
    {
     "data": {
      "image/png": "iVBORw0KGgoAAAANSUhEUgAAAewAAAFXCAYAAABgJ33WAAAABHNCSVQICAgIfAhkiAAAAAlwSFlz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\nEfEAKmwREREPoMIWERHxAP8PSFOnDhsmQaoAAAAASUVORK5CYII=\n",
      "text/plain": [
       "<matplotlib.figure.Figure at 0x7f8d4a2db2d0>"
      ]
     },
     "metadata": {},
     "output_type": "display_data"
    }
   ],
   "source": [
    "# Now let's fit a quadratic model with numpy\n",
    "# polyfit gives us the coefficients of the best fit polynomial\n",
    "coef = np.polyfit(xs, ys, deg=2)\n",
    "# polyvals gives us the polynomial function for these coefficients\n",
    "predictions = np.polyval(coef, xs)\n",
    "\n",
    "# Let's plot the model\n",
    "plt.scatter(xs, ys)\n",
    "plt.plot(xs, predictions)\n",
    "\n",
    "# Here's another way to get r^2 from scipy\n",
    "from sklearn import metrics\n",
    "metrics.r2_score(ys, predictions)"
   ]
  },
  {
   "cell_type": "code",
   "execution_count": 82,
   "metadata": {
    "collapsed": false
   },
   "outputs": [],
   "source": [
    "# Exercise Code here\n"
   ]
  },
  {
   "cell_type": "markdown",
   "metadata": {},
   "source": [
    "You should have seen that the $r^2$ was quite good in both cases, however the quadratic model is much better. So don't get complacement when you get a pretty good $r^2$ score -- you could still have a biased model!\n",
    "\n",
    "# Exercise\n",
    "\n",
    "Now let's look at the effect of outliers. Just one outlier can really skew your models. Let's add outlier to our data and redo both the quadratic and the linear fits. Which model type drops the most in $r^2$?"
   ]
  },
  {
   "cell_type": "code",
   "execution_count": 53,
   "metadata": {
    "collapsed": true
   },
   "outputs": [],
   "source": [
    "xs.append(2)\n",
    "ys.append(120)"
   ]
  },
  {
   "cell_type": "code",
   "execution_count": 84,
   "metadata": {
    "collapsed": false
   },
   "outputs": [],
   "source": [
    "# Repeat the Quadratic fit"
   ]
  },
  {
   "cell_type": "code",
   "execution_count": 83,
   "metadata": {
    "collapsed": false
   },
   "outputs": [],
   "source": [
    "# And the linear fit\n"
   ]
  },
  {
   "cell_type": "markdown",
   "metadata": {},
   "source": [
    "You should have seen that the $r^2$ for both models decreased dramatically! Just as in the case of higher $r^2$ values, you should be suspicious of smaller values as well. There could be outliers in the dataset from exceptional cases, bad data points, or poor measuring instruments that are obscuring the relationships in your data.\n",
    "\n",
    "**Check**: How closely did you look at the housing data? Are there any cases in which outliers are obviously a problem?\n",
    "> Answer: The plot for \"TAX\" and \"RAD\" has a pretty obvious outlier.\n",
    "\n",
    "You might be thinking: how can we detect and exclude outliers? It turns out that this is a [hard question to answer](https://en.wikipedia.org/wiki/Outlier#Identifying_outliers) and is often subjective. There are some methods, such as [Dixon's Q test](https://en.wikipedia.org/wiki/Dixon's_Q_test) and many others. Always make visualizations of your data when possible and remove outliers as appropriate, making sure that you can justify your selections!"
   ]
  },
  {
   "cell_type": "markdown",
   "metadata": {},
   "source": [
    "## Confounding Variables\n",
    "\n",
    "Another important topic when it comes to goodness of fit is [confounding variables](https://en.wikipedia.org/wiki/Confounding). It's tempting to think of models as causal but as you have likely heard before, [correlation is not causation](https://en.wikipedia.org/wiki/Correlation_does_not_imply_causation). Similarly, a high $r^2$ doesn't necessarily mean that two quantities are related in a predictive or causal manner. There are a number of examples [here](http://blog.searchmetrics.com/us/2015/09/11/ranking-factors-infographic-correlation-vs-causality/), including a nice plot of a seemingly strong relationship between per capita cheese consumption and the number of people who died by becoming tangled in their bedsheets! There is a very nice [case study](http://ocw.jhsph.edu/courses/fundepiii/pdfs/lecture18.pdf) of bias and confounding in disease studies. It's worth your time to read through the slides. \n",
    "\n",
    "The takeaway message is that you always need to check that your conclusions make sense rather than blindly interpretting statistical values. As a data scientist you will often present analyses to stakeholders and they will ask questions about the causes of the relationships you find and the logical basis of the models you fit."
   ]
  },
  {
   "cell_type": "markdown",
   "metadata": {},
   "source": [
    "# Exercises\n",
    "\n",
    "If you've gotten this far then you're doing great! Let's look at a case where a series of models have increasing better $r^2$ values as the models become more complex. Consider the function $y = sin(x)$ on the interval $[0, 6\\pi]$ (data below). If you fit polynomials of higher and higher degree to this function, you should find that the $r^2$ value increases as the degreee increases. Your task is to make a plot of $r^2$ versus polynomial degree as follows:\n",
    "* Write a loop to fit polynomials of degrees from 0 to 10 to the sine function\n",
    "* Plot the fits together on the same graph with the data\n",
    "* Compute the $r^2$ values for each model\n",
    "* Make a plot of degree versus $r^2$.\n",
    "\n",
    "Compare and contrast with earlier lessons. In some cases increasing the degree of a polynomial model can alter the tradeoff between bias and variance. Try to explain your results in that context."
   ]
  },
  {
   "cell_type": "code",
   "execution_count": 77,
   "metadata": {
    "collapsed": false
   },
   "outputs": [],
   "source": [
    "import math\n",
    "noise = scipy.stats.norm(0, 0.1)\n",
    "data = [(x, math.sin(x) + noise.rvs() ) for x in np.arange(0, 6 * 3.14, 0.1)]\n",
    "xs = [x for (x, y) in data]\n",
    "ys = [y for (x, y) in data]"
   ]
  },
  {
   "cell_type": "code",
   "execution_count": 85,
   "metadata": {
    "collapsed": false
   },
   "outputs": [
    {
     "data": {
      "image/png": "iVBORw0KGgoAAAANSUhEUgAAAfIAAAFXCAYAAABZQMyNAAAABHNCSVQICAgIfAhkiAAAAAlwSFlz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\nEcgBADAYgRwAAIMRyAEAMNj/BziZMoGQS7peAAAAAElFTkSuQmCC\n",
      "text/plain": [
       "<matplotlib.figure.Figure at 0x7f8d4a10f110>"
      ]
     },
     "metadata": {},
     "output_type": "display_data"
    }
   ],
   "source": [
    "from sklearn import metrics\n",
    "rs = []\n",
    "\n",
    "# Let's plot the model\n",
    "plt.scatter(xs, ys)\n",
    "\n",
    "for degree in range(1, 11):\n",
    "    # Fill in the modeling steps here\n",
    "    pass\n",
    "\n",
    "# Make the plots\n"
   ]
  },
  {
   "cell_type": "code",
   "execution_count": null,
   "metadata": {
    "collapsed": true
   },
   "outputs": [],
   "source": []
  }
 ],
 "metadata": {
<<<<<<< HEAD
  "celltoolbar": "Slideshow",
  "kernelspec": {
   "display_name": "Python 3",
   "language": "python",
   "name": "python3"
=======
  "anaconda-cloud": {},
  "celltoolbar": "Slideshow",
  "kernelspec": {
   "display_name": "Python [conda root]",
   "language": "python",
   "name": "conda-root-py"
>>>>>>> 68ac1efd9665441127847d23b1e529514247ea8c
  },
  "language_info": {
   "codemirror_mode": {
    "name": "ipython",
<<<<<<< HEAD
    "version": 3
=======
    "version": 2
>>>>>>> 68ac1efd9665441127847d23b1e529514247ea8c
   },
   "file_extension": ".py",
   "mimetype": "text/x-python",
   "name": "python",
   "nbconvert_exporter": "python",
<<<<<<< HEAD
   "pygments_lexer": "ipython3",
   "version": "3.5.1"
=======
   "pygments_lexer": "ipython2",
   "version": "2.7.12"
>>>>>>> 68ac1efd9665441127847d23b1e529514247ea8c
  }
 },
 "nbformat": 4,
 "nbformat_minor": 0
}
