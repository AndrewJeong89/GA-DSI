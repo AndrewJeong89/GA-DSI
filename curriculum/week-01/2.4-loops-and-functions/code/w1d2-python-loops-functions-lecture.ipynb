{
 "cells": [
  {
   "cell_type": "markdown",
   "metadata": {
    "slideshow": {
     "slide_type": "slide"
    }
   },
   "source": [
    "# ![](https://ga-dash.s3.amazonaws.com/production/assets/logo-9f88ae6c9c3871690e33280fcf557f33.png) Intro to Python: control flow\n",
    "Week 1 | Lesson 2.4"
   ]
  },
  {
   "cell_type": "markdown",
   "metadata": {
    "slideshow": {
     "slide_type": "slide"
    }
   },
   "source": [
    "### LEARNING OBJECTIVES\n",
    "*After this lesson, you will be able to:*\n",
    "- Explain if/else and if/elif/else\n",
    "- Explain for loop\n",
    "- Demonstrate how to define functions\n",
    "\n"
   ]
  },
  {
   "cell_type": "markdown",
   "metadata": {
    "slideshow": {
     "slide_type": "slide"
    }
   },
   "source": [
    "### STUDENT PRE-WORK\n",
    "*Before this lesson, you should already be able to:*\n",
    "- Offer a cursory explanation of if/else, if/elif/else, loops, and functions.\n"
   ]
  },
  {
   "cell_type": "markdown",
   "metadata": {
    "slideshow": {
     "slide_type": "slide"
    }
   },
   "source": [
    "### LESSON GUIDE\n",
    "| TIMING  | TYPE  | TOPIC  |\n",
    "|:-:|---|---|\n",
    "| 10 min  | [Introduction](#introduction)   | Control Flow  |\n",
    "| 15 min  | [Demo](#demo1)  | if, if/else  |\n",
    "| 15 min  | [Demo](#if/elif/else)  | if/elif/else  |\n",
    "| 15 min  | [Demo](#loops)  | loops  |\n",
    "| 15 min  | [Demo](#functions)  | functions  |\n",
    "| 15 min  | [Independent Practice](#ind-practice)  |\n",
    "| 5 min  | [Conclusion](#conclusion)\n",
    "---\n",
    "\n"
   ]
  },
  {
   "cell_type": "markdown",
   "metadata": {
    "slideshow": {
     "slide_type": "slide"
    }
   },
   "source": [
    "<a name=\"introduction\"></a>\n",
    "## Introduction: Topic (10 mins)\n",
    "\n",
    "It is very important to control program execution because in real situations are full of conditions and if you want your program to mimic the real world you need to transform those real world situations into your program. For this, you need to control the execution of your program statements. Controlling the program execution sequence is commonly known as control flow.\n",
    "\n",
    "[control flow](http://www.codeproject.com/Articles/663666/Python-Basics-Understanding-The-Flow-Control-State)\n",
    "\n",
    "> Check: diagram a control flow situation on the board, e.g. deciding whether or not to go for a picnic."
   ]
  },
  {
   "cell_type": "markdown",
   "metadata": {
    "slideshow": {
     "slide_type": "slide"
    }
   },
   "source": [
    "<a name=\"demo1\"></a>\n",
    "## Demo / Codealong / Guided Practice: if, if/else (15 mins)\n",
    "The general Python syntax for a simple if statement is:\n",
    "\n",
    "```bash\n",
    "        if condition :\n",
    "            indentedStatementBlock\n",
    "```\n",
    "\n",
    "If the condition is true, then do the indented statements. If the condition\n",
    "is not true, then skip the indented statements.\n",
    "\n"
   ]
  },
  {
   "cell_type": "markdown",
   "metadata": {
    "slideshow": {
     "slide_type": "slide"
    }
   },
   "source": [
    "In iPython notebook type:\n",
    "```python\n",
    "weight = float(input(\"How many pounds does your suitcase weigh? \"))\n",
    "if weight > 50:\n",
    "        print(\"There is a $25 charge for luggage that heavy.\")\n",
    "print(\"Thank you for your business.\")\n",
    "```\n",
    "\n",
    "then type:\n",
    "```bash\n",
    "43\n",
    "```\n",
    "\n",
    "and it returns:\n",
    "```bash\n",
    "Thank you for your business.\n",
    "```"
   ]
  },
  {
   "cell_type": "markdown",
   "metadata": {
    "slideshow": {
     "slide_type": "slide"
    }
   },
   "source": [
    "Do it again, but this time put in a number > 50.\n",
    "\n",
    "and it returns:\n",
    "```bash\n",
    "There is a $25 charge for luggage that heavy.\n",
    "Thank you for your business.\n",
    "```\n",
    "\n"
   ]
  },
  {
   "cell_type": "markdown",
   "metadata": {
    "slideshow": {
     "slide_type": "slide"
    }
   },
   "source": [
    "The general Python if-else syntax is\n",
    "\n",
    "        if condition :\n",
    "            indentedStatementBlockForTrueCondition\n",
    "        else:\n",
    "            indentedStatementBlockForFalseCondition\n",
    "\n",
    "These statement blocks can have any number of statements, and can include\n",
    "about any kind of statement.\n",
    "\n"
   ]
  },
  {
   "cell_type": "markdown",
   "metadata": {
    "slideshow": {
     "slide_type": "slide"
    }
   },
   "source": [
    "In iPython notebook type:\n",
    "```bash\n",
    "temperature = float(input('What is the temperature? '))\n",
    "```\n",
    "\n",
    "Input a temp.\n",
    "\n",
    "then type:\n",
    "```bash\n",
    "if temperature > 70:\n",
    "    print('Wear shorts.')\n",
    "else:\n",
    "    print('Wear long pants.')\n",
    "print('Get some exercise outside.')\n",
    "```\n",
    "\n",
    "The middle four lines are an if-else statement. There are two indented blocks: One, like in the simple if statement, comes right after the if heading and is executed when the condition in the if heading is true. In the if-else form this is followed by an else: line, followed by another indented block that is only executed when the original condition is false. In an if-else statement exactly one of two possible indented blocks is executed.\n",
    "\n",
    "Play around inputting numbers that are < 70 or > 70.\n",
    "\n",
    "[control flow statements](http://anh.cs.luc.edu/python/hands-on/3.1/handsonHtml/ifstatements.html)\n",
    "\n",
    "> **Check**: What is the general syntax for an if statement? an if/else?\n",
    "\n",
    "\n"
   ]
  },
  {
   "cell_type": "markdown",
   "metadata": {
    "slideshow": {
     "slide_type": "slide"
    }
   },
   "source": [
    "<a name=\"if/elif/else\"></a>\n",
    "## Demo / Codealong / Guided Practice: if/elif/else (15 mins)\n",
    "The syntax for an if-elif-else statement is indicated in general below:\n",
    "\n",
    "        if condition1 :\n",
    "            indentedStatementBlockForTrueCondition1\n",
    "        elif condition2 :\n",
    "            indentedStatementBlockForFirstTrueCondition2\n",
    "        elif condition3 :\n",
    "            indentedStatementBlockForFirstTrueCondition3\n",
    "        elif condition4 :\n",
    "            indentedStatementBlockForFirstTrueCondition4\n",
    "        else:\n",
    "            indentedStatementBlockForEachConditionFalse\n",
    "\n"
   ]
  },
  {
   "cell_type": "markdown",
   "metadata": {
    "slideshow": {
     "slide_type": "slide"
    }
   },
   "source": [
    "In iPython notebook type:\n",
    "```python\n",
    "x = int(raw_input(\"Please enter an integer: \"))\n",
    "```\n",
    "\n",
    "Type in an integer.\n",
    "\n",
    "then type:\n",
    "```bash\n",
    "if x < 0:\n",
    "    x = 0\n",
    "    print 'Negative changed to zero'\n",
    "elif x == 0:\n",
    "    print 'Zero'\n",
    "elif x == 1:\n",
    "    print 'Single'\n",
    "else:\n",
    "    print 'More'\n",
    "```\n",
    "\n",
    "The if, each elif, and the final else line are all aligned. There can be any number\n",
    "of elif lines, each followed by an indented block. With this construction exactly\n",
    "one of the indented blocks is executed. It is the one corresponding to the first\n",
    "True condition.\n",
    "\n",
    "[control flow statements](http://anh.cs.luc.edu/python/hands-on/3.1/handsonHtml/ifstatements.html)\n",
    "\n",
    "> **Check**: How many indented blocks in an if/elif/else are executed?\n",
    "\n",
    "\n"
   ]
  },
  {
   "cell_type": "markdown",
   "metadata": {
    "slideshow": {
     "slide_type": "slide"
    }
   },
   "source": [
    "<a name=\"loops\"></a>\n",
    "## Demo / Codealong / Guided Practice: loops (15 mins)\n",
    "\n",
    "Python’s for statement iterates over the items of any sequence (a list or a string), in the order that they appear in the sequence.\n",
    "\n",
    "The syntax for loop is indicated in general below:\n",
    "\n",
    "    for iterator_name in iterating_sequence:\n",
    "        …statements…\n",
    "\n",
    "In iPython notebook type:\n",
    "```bash\n",
    "words = ['cat', 'window', 'defenestrate']\n",
    "for w in words:\n",
    "    print w, len(w)\n",
    "```\n",
    "\n"
   ]
  },
  {
   "cell_type": "markdown",
   "metadata": {
    "slideshow": {
     "slide_type": "slide"
    }
   },
   "source": [
    "and it returns:\n",
    "```bash\n",
    "cat 3\n",
    "window 6\n",
    "defenestrate 12\n",
    "```\n",
    "\n",
    "Knowledge check: what's happening here? Explain how the code returns what it does.\n",
    "\n",
    "[for statements](https://docs.python.org/2/tutorial/controlflow.html#if-statements)\n",
    "[for loop](http://www.codeproject.com/Articles/663666/Python-Basics-Understanding-The-Flow-Control-State)\n",
    "\n",
    "\n"
   ]
  },
  {
   "cell_type": "markdown",
   "metadata": {
    "slideshow": {
     "slide_type": "slide"
    }
   },
   "source": [
    "<a name=\"functions\"></a>\n",
    "## Demo / Codealong / Guided Practice: functions (15 mins)\n",
    "> Open with context: what if you want to repeat the functions above without typing them over and over?\n",
    "\n",
    "- You can define functions to provide the required functionality. Here are simple rules to define a function in Python.\n",
    "    - Function blocks begin with the keyword def followed by the function name and parentheses ( ( ) ).\n",
    "    - Any input parameters or arguments should be placed within these parentheses. You can also define parameters inside            these parentheses.\n",
    "    - The first statement of a function can be an optional statement - the documentation string of the function or                  docstring.\n",
    "    - The code block within every function starts with a colon (:) and is indented.\n",
    "    - The statement return [expression] exits a function, optionally passing back an expression to the caller. A return             statement with no arguments is the same as return None.\n",
    "\n"
   ]
  },
  {
   "cell_type": "markdown",
   "metadata": {
    "slideshow": {
     "slide_type": "slide"
    }
   },
   "source": [
    "The syntax for a function is indicated in general below:\n",
    "```python\n",
    "def functionname( parameters ):\n",
    "   \"\"\"function_docstring\"\"\"\n",
    "   function_suite\n",
    "   return [expression]\n",
    "```\n",
    "\n"
   ]
  },
  {
   "cell_type": "markdown",
   "metadata": {
    "slideshow": {
     "slide_type": "slide"
    }
   },
   "source": [
    "Let's create a function called printme\n",
    "In iPython notebook type:\n",
    "```bash\n",
    "def printme( str ):\n",
    "   \"\"\"This prints a passed string into this function\"\"\"\n",
    "   print str\n",
    "   return\n",
    "```\n",
    "\n"
   ]
  },
  {
   "cell_type": "markdown",
   "metadata": {
    "slideshow": {
     "slide_type": "slide"
    }
   },
   "source": [
    "now, let's call the function:\n",
    "```bash\n",
    "printme(\"Beltway traffic makes my head hurt.\")\n",
    "printme(\"It looks like a parking lot out there!\")\n",
    "```\n",
    "\n",
    "and it returns:\n",
    "```bash\n",
    "Beltway traffic makes my head hurt.\n",
    "It looks like a parking lot out there!\n",
    "```\n",
    "\n",
    "[defining a function](http://www.tutorialspoint.com/python/python_functions.htm)\n",
    "\n",
    "> **Check** What’s the general syntax for a function? Why do you think functions might be useful?\n",
    "\n",
    "> Check: pair with a neighbor or your table, and write a function that prints out every time in a list. Run it!\n",
    "\n"
   ]
  },
  {
   "cell_type": "markdown",
   "metadata": {
    "slideshow": {
     "slide_type": "slide"
    }
   },
   "source": [
    "<a name=\"ind-practice\"></a>\n",
    "## Independent Practice: Topic (10 minutes)\n",
    "- What is the general syntax/format of:  \n",
    "        -  if/else?\n",
    "        -  if/elif/else?\n",
    "        -  loop?\n",
    "        - function?\n",
    "- Define and explain each to a partner\n",
    "- Write and run examples in your notebook. If your examples work, try to break them by changing syntax or the inputs!\n",
    "\n"
   ]
  },
  {
   "cell_type": "markdown",
   "metadata": {
    "slideshow": {
     "slide_type": "slide"
    }
   },
   "source": [
    "<a name=\"conclusion\"></a>\n",
    "## Conclusion (5 mins)\n",
    "Today we learned about if/else, if/elif/else, loops, and functions. Practice coding each until you\n",
    "feel comfortable. If you understand basic control flow concepts, you're on your way to writing\n",
    "fantastic executable programs!\n",
    "\n"
   ]
  },
  {
   "cell_type": "markdown",
   "metadata": {
    "slideshow": {
     "slide_type": "slide"
    }
   },
   "source": [
    "## Bonus Challenges\n",
    "Once you've mastered the basics, further your understanding of Python by attempting \"[Alternate Code Challenges 3](code/starter-code/Bonus%20Code%20Challenges%203%20Starter%20Code%20-%20Week%201%20Lesson%202.2.ipynb#)\", involving recursive functions."
   ]
  }
 ],
 "metadata": {
  "celltoolbar": "Slideshow",
  "kernelspec": {
   "display_name": "Python 2",
   "language": "python",
   "name": "python2"
  },
  "language_info": {
   "codemirror_mode": {
    "name": "ipython",
    "version": 2
   },
   "file_extension": ".py",
   "mimetype": "text/x-python",
   "name": "python",
   "nbconvert_exporter": "python",
   "pygments_lexer": "ipython2",
   "version": "2.7.12"
  }
 },
 "nbformat": 4,
 "nbformat_minor": 0
}
