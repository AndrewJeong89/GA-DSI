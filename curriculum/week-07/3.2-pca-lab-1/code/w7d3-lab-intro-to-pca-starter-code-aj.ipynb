{
 "cells": [
  {
   "cell_type": "code",
   "execution_count": 1,
   "metadata": {
    "collapsed": true
   },
   "outputs": [],
   "source": [
    "import pandas as pd\n",
    "import numpy as np\n",
    "import os\n",
    "from matplotlib import pyplot as plt\n",
    "import numpy as np\n",
    "import math\n",
    "from sklearn.preprocessing import StandardScaler\n",
    "from sklearn.decomposition import PCA \n",
    "\n",
    "votes_file = '../assets/datasets/votes.csv'\n",
    "airport_file = '../assets/datasets/Airport_operations.csv'"
   ]
  },
  {
   "cell_type": "markdown",
   "metadata": {},
   "source": [
    "# Case #1: Congressional Voting Data"
   ]
  },
  {
   "cell_type": "markdown",
   "metadata": {},
   "source": [
    "After you've downloaded the data from the repository, go ahead and load it with Pandas"
   ]
  },
  {
   "cell_type": "code",
   "execution_count": 2,
   "metadata": {
    "collapsed": false
   },
   "outputs": [
    {
     "data": {
      "text/html": [
       "<div>\n",
       "<table border=\"1\" class=\"dataframe\">\n",
       "  <thead>\n",
       "    <tr style=\"text-align: right;\">\n",
       "      <th></th>\n",
       "      <th>Class</th>\n",
       "      <th>V1</th>\n",
       "      <th>V2</th>\n",
       "      <th>V3</th>\n",
       "      <th>V4</th>\n",
       "      <th>V5</th>\n",
       "      <th>V6</th>\n",
       "      <th>V7</th>\n",
       "      <th>V8</th>\n",
       "      <th>V9</th>\n",
       "      <th>V10</th>\n",
       "      <th>V11</th>\n",
       "      <th>V12</th>\n",
       "      <th>V13</th>\n",
       "      <th>V14</th>\n",
       "      <th>V15</th>\n",
       "      <th>V16</th>\n",
       "    </tr>\n",
       "  </thead>\n",
       "  <tbody>\n",
       "    <tr>\n",
       "      <th>1</th>\n",
       "      <td>republican</td>\n",
       "      <td>n</td>\n",
       "      <td>y</td>\n",
       "      <td>n</td>\n",
       "      <td>y</td>\n",
       "      <td>y</td>\n",
       "      <td>y</td>\n",
       "      <td>n</td>\n",
       "      <td>n</td>\n",
       "      <td>n</td>\n",
       "      <td>y</td>\n",
       "      <td>NaN</td>\n",
       "      <td>y</td>\n",
       "      <td>y</td>\n",
       "      <td>y</td>\n",
       "      <td>n</td>\n",
       "      <td>y</td>\n",
       "    </tr>\n",
       "    <tr>\n",
       "      <th>2</th>\n",
       "      <td>republican</td>\n",
       "      <td>n</td>\n",
       "      <td>y</td>\n",
       "      <td>n</td>\n",
       "      <td>y</td>\n",
       "      <td>y</td>\n",
       "      <td>y</td>\n",
       "      <td>n</td>\n",
       "      <td>n</td>\n",
       "      <td>n</td>\n",
       "      <td>n</td>\n",
       "      <td>n</td>\n",
       "      <td>y</td>\n",
       "      <td>y</td>\n",
       "      <td>y</td>\n",
       "      <td>n</td>\n",
       "      <td>NaN</td>\n",
       "    </tr>\n",
       "    <tr>\n",
       "      <th>3</th>\n",
       "      <td>democrat</td>\n",
       "      <td>NaN</td>\n",
       "      <td>y</td>\n",
       "      <td>y</td>\n",
       "      <td>NaN</td>\n",
       "      <td>y</td>\n",
       "      <td>y</td>\n",
       "      <td>n</td>\n",
       "      <td>n</td>\n",
       "      <td>n</td>\n",
       "      <td>n</td>\n",
       "      <td>y</td>\n",
       "      <td>n</td>\n",
       "      <td>y</td>\n",
       "      <td>y</td>\n",
       "      <td>n</td>\n",
       "      <td>n</td>\n",
       "    </tr>\n",
       "    <tr>\n",
       "      <th>4</th>\n",
       "      <td>democrat</td>\n",
       "      <td>n</td>\n",
       "      <td>y</td>\n",
       "      <td>y</td>\n",
       "      <td>n</td>\n",
       "      <td>NaN</td>\n",
       "      <td>y</td>\n",
       "      <td>n</td>\n",
       "      <td>n</td>\n",
       "      <td>n</td>\n",
       "      <td>n</td>\n",
       "      <td>y</td>\n",
       "      <td>n</td>\n",
       "      <td>y</td>\n",
       "      <td>n</td>\n",
       "      <td>n</td>\n",
       "      <td>y</td>\n",
       "    </tr>\n",
       "    <tr>\n",
       "      <th>5</th>\n",
       "      <td>democrat</td>\n",
       "      <td>y</td>\n",
       "      <td>y</td>\n",
       "      <td>y</td>\n",
       "      <td>n</td>\n",
       "      <td>y</td>\n",
       "      <td>y</td>\n",
       "      <td>n</td>\n",
       "      <td>n</td>\n",
       "      <td>n</td>\n",
       "      <td>n</td>\n",
       "      <td>y</td>\n",
       "      <td>NaN</td>\n",
       "      <td>y</td>\n",
       "      <td>y</td>\n",
       "      <td>y</td>\n",
       "      <td>y</td>\n",
       "    </tr>\n",
       "  </tbody>\n",
       "</table>\n",
       "</div>"
      ],
      "text/plain": [
       "        Class   V1 V2 V3   V4   V5 V6 V7 V8 V9 V10  V11  V12 V13 V14 V15  V16\n",
       "1  republican    n  y  n    y    y  y  n  n  n   y  NaN    y   y   y   n    y\n",
       "2  republican    n  y  n    y    y  y  n  n  n   n    n    y   y   y   n  NaN\n",
       "3    democrat  NaN  y  y  NaN    y  y  n  n  n   n    y    n   y   y   n    n\n",
       "4    democrat    n  y  y    n  NaN  y  n  n  n   n    y    n   y   n   n    y\n",
       "5    democrat    y  y  y    n    y  y  n  n  n   n    y  NaN   y   y   y    y"
      ]
     },
     "execution_count": 2,
     "metadata": {},
     "output_type": "execute_result"
    }
   ],
   "source": [
    "votes = pd.read_csv(votes_file, index_col=0)\n",
    "votes.head()"
   ]
  },
  {
   "cell_type": "markdown",
   "metadata": {},
   "source": [
    "Next, let's define the x and y variables: "
   ]
  },
  {
   "cell_type": "code",
   "execution_count": 3,
   "metadata": {
    "collapsed": false
   },
   "outputs": [],
   "source": [
    "X = votes.drop(['Class'],axis =1)"
   ]
  },
  {
   "cell_type": "code",
   "execution_count": 4,
   "metadata": {
    "collapsed": false
   },
   "outputs": [],
   "source": [
    "X.dropna(inplace=True)"
   ]
  },
  {
   "cell_type": "code",
   "execution_count": 5,
   "metadata": {
    "collapsed": false
   },
   "outputs": [
    {
     "data": {
      "text/html": [
       "<div>\n",
       "<table border=\"1\" class=\"dataframe\">\n",
       "  <thead>\n",
       "    <tr style=\"text-align: right;\">\n",
       "      <th></th>\n",
       "      <th>V1</th>\n",
       "      <th>V2</th>\n",
       "      <th>V3</th>\n",
       "      <th>V4</th>\n",
       "      <th>V5</th>\n",
       "      <th>V6</th>\n",
       "      <th>V7</th>\n",
       "      <th>V8</th>\n",
       "      <th>V9</th>\n",
       "      <th>V10</th>\n",
       "      <th>V11</th>\n",
       "      <th>V12</th>\n",
       "      <th>V13</th>\n",
       "      <th>V14</th>\n",
       "      <th>V15</th>\n",
       "      <th>V16</th>\n",
       "    </tr>\n",
       "  </thead>\n",
       "  <tbody>\n",
       "    <tr>\n",
       "      <th>6</th>\n",
       "      <td>0</td>\n",
       "      <td>1</td>\n",
       "      <td>1</td>\n",
       "      <td>0</td>\n",
       "      <td>1</td>\n",
       "      <td>1</td>\n",
       "      <td>0</td>\n",
       "      <td>0</td>\n",
       "      <td>0</td>\n",
       "      <td>0</td>\n",
       "      <td>0</td>\n",
       "      <td>0</td>\n",
       "      <td>1</td>\n",
       "      <td>1</td>\n",
       "      <td>1</td>\n",
       "      <td>1</td>\n",
       "    </tr>\n",
       "    <tr>\n",
       "      <th>9</th>\n",
       "      <td>0</td>\n",
       "      <td>1</td>\n",
       "      <td>0</td>\n",
       "      <td>1</td>\n",
       "      <td>1</td>\n",
       "      <td>1</td>\n",
       "      <td>0</td>\n",
       "      <td>0</td>\n",
       "      <td>0</td>\n",
       "      <td>0</td>\n",
       "      <td>0</td>\n",
       "      <td>1</td>\n",
       "      <td>1</td>\n",
       "      <td>1</td>\n",
       "      <td>0</td>\n",
       "      <td>1</td>\n",
       "    </tr>\n",
       "    <tr>\n",
       "      <th>20</th>\n",
       "      <td>1</td>\n",
       "      <td>1</td>\n",
       "      <td>1</td>\n",
       "      <td>0</td>\n",
       "      <td>0</td>\n",
       "      <td>0</td>\n",
       "      <td>1</td>\n",
       "      <td>1</td>\n",
       "      <td>1</td>\n",
       "      <td>0</td>\n",
       "      <td>1</td>\n",
       "      <td>0</td>\n",
       "      <td>0</td>\n",
       "      <td>0</td>\n",
       "      <td>1</td>\n",
       "      <td>1</td>\n",
       "    </tr>\n",
       "    <tr>\n",
       "      <th>24</th>\n",
       "      <td>1</td>\n",
       "      <td>1</td>\n",
       "      <td>1</td>\n",
       "      <td>0</td>\n",
       "      <td>0</td>\n",
       "      <td>0</td>\n",
       "      <td>1</td>\n",
       "      <td>1</td>\n",
       "      <td>1</td>\n",
       "      <td>0</td>\n",
       "      <td>0</td>\n",
       "      <td>0</td>\n",
       "      <td>0</td>\n",
       "      <td>0</td>\n",
       "      <td>1</td>\n",
       "      <td>1</td>\n",
       "    </tr>\n",
       "    <tr>\n",
       "      <th>26</th>\n",
       "      <td>1</td>\n",
       "      <td>0</td>\n",
       "      <td>1</td>\n",
       "      <td>0</td>\n",
       "      <td>0</td>\n",
       "      <td>0</td>\n",
       "      <td>1</td>\n",
       "      <td>1</td>\n",
       "      <td>1</td>\n",
       "      <td>1</td>\n",
       "      <td>0</td>\n",
       "      <td>0</td>\n",
       "      <td>0</td>\n",
       "      <td>0</td>\n",
       "      <td>1</td>\n",
       "      <td>1</td>\n",
       "    </tr>\n",
       "  </tbody>\n",
       "</table>\n",
       "</div>"
      ],
      "text/plain": [
       "    V1  V2  V3  V4  V5  V6  V7  V8  V9  V10  V11  V12  V13  V14  V15  V16\n",
       "6    0   1   1   0   1   1   0   0   0    0    0    0    1    1    1    1\n",
       "9    0   1   0   1   1   1   0   0   0    0    0    1    1    1    0    1\n",
       "20   1   1   1   0   0   0   1   1   1    0    1    0    0    0    1    1\n",
       "24   1   1   1   0   0   0   1   1   1    0    0    0    0    0    1    1\n",
       "26   1   0   1   0   0   0   1   1   1    1    0    0    0    0    1    1"
      ]
     },
     "execution_count": 5,
     "metadata": {},
     "output_type": "execute_result"
    }
   ],
   "source": [
    "X = X.applymap(lambda x: 1 if x == 'y' else 0)\n",
    "X.head()"
   ]
  },
  {
   "cell_type": "code",
   "execution_count": 6,
   "metadata": {
    "collapsed": true
   },
   "outputs": [],
   "source": [
    "y = votes['Class']"
   ]
  },
  {
   "cell_type": "markdown",
   "metadata": {},
   "source": [
    "Next, create the covariance matrix from the standardized x-values and decompose these values to find the eigenvalues and eigenvectors"
   ]
  },
  {
   "cell_type": "code",
   "execution_count": 7,
   "metadata": {
    "collapsed": false
   },
   "outputs": [],
   "source": [
    "X_standard = StandardScaler().fit_transform(X)"
   ]
  },
  {
   "cell_type": "code",
   "execution_count": 8,
   "metadata": {
    "collapsed": true
   },
   "outputs": [],
   "source": [
    "cov1_mat = np.cov(X_standard.T)\n",
    "eigenValues1, eigenVectors1 = np.linalg.eig(cov1_mat)"
   ]
  },
  {
   "cell_type": "markdown",
   "metadata": {},
   "source": [
    "Now, let's check the eigenvalues: "
   ]
  },
  {
   "cell_type": "code",
   "execution_count": 9,
   "metadata": {
    "collapsed": false
   },
   "outputs": [
    {
     "data": {
      "text/plain": [
       "array([ 7.72441821,  1.38414615,  1.0518882 ,  0.9697194 ,  0.80765992,\n",
       "        0.72917396,  0.10499427,  0.17814579,  0.20187395,  0.27597898,\n",
       "        0.32292795,  0.35727403,  0.37876783,  0.49242232,  0.54322922,\n",
       "        0.54664388])"
      ]
     },
     "execution_count": 9,
     "metadata": {},
     "output_type": "execute_result"
    }
   ],
   "source": [
    "eigenValues1"
   ]
  },
  {
   "cell_type": "markdown",
   "metadata": {},
   "source": [
    "And the eigenvectors: "
   ]
  },
  {
   "cell_type": "code",
   "execution_count": 10,
   "metadata": {
    "collapsed": false
   },
   "outputs": [
    {
     "name": "stdout",
     "output_type": "stream",
     "text": [
      "[[  1.84608588e-01   1.79544628e-01   3.96877507e-02  -5.18236597e-01\n",
      "   -4.58868451e-01   4.65381884e-01   1.79916607e-02  -8.13810996e-02\n",
      "    5.44744281e-03   1.59364099e-01  -1.69450750e-01  -8.32207705e-02\n",
      "    6.61375184e-02  -2.92779341e-01   2.76730743e-01   4.13800644e-02]\n",
      " [ -4.74282209e-02   6.48573848e-01  -1.18761132e-01  -3.73350711e-01\n",
      "    9.30132071e-02  -4.61402638e-01  -1.75377517e-02  -6.80041937e-02\n",
      "   -1.26056140e-01   4.14475796e-02   5.17595157e-04   1.22653581e-01\n",
      "   -2.05367759e-01   6.86284905e-02   2.86201962e-02  -3.41722769e-01]\n",
      " [  2.86321599e-01   4.73091554e-02  -1.88931793e-01  -8.32651252e-02\n",
      "    1.59714378e-01  -5.04457911e-02   1.35255869e-01  -1.33880242e-01\n",
      "   -9.43254701e-02   2.12382774e-01   7.55148372e-01  -9.54559997e-02\n",
      "   -6.08936441e-02  -1.21667214e-01   9.24259191e-02   3.85310015e-01]\n",
      " [ -3.04936211e-01  -1.42532176e-01   4.73997626e-02  -1.28224416e-01\n",
      "   -1.50912081e-02   2.83604055e-02   3.15904889e-01   5.49808623e-02\n",
      "    6.28745988e-01   3.64766546e-01   2.61602570e-01   9.29292702e-02\n",
      "    3.62152588e-02  -8.16902586e-02  -1.01465092e-01  -3.74741891e-01]\n",
      " [ -3.29910006e-01   1.71351434e-02  -6.74782933e-02  -8.36075624e-02\n",
      "    5.26156289e-02   1.93480889e-01  -8.28521759e-01  -8.28399385e-02\n",
      "    1.52466445e-01  -6.27365971e-02   2.92520450e-01   1.07358630e-01\n",
      "    4.69445359e-02   3.73187319e-02   1.30644392e-01  -2.94582715e-02]\n",
      " [ -2.59728206e-01   1.12308513e-01  -2.97961005e-01   1.47971050e-01\n",
      "    2.49912021e-01   6.10080739e-02   8.27703608e-02  -1.52299249e-01\n",
      "    2.26954066e-01   2.44508552e-01  -3.76328848e-01   2.15774159e-01\n",
      "   -3.56510175e-01  -1.01650533e-01   2.82445848e-01   4.43108796e-01]\n",
      " [  2.72182340e-01  -1.69498990e-01  -4.75401821e-03  -1.12897535e-01\n",
      "    2.10302308e-01   1.57913183e-01   3.39625608e-04  -1.07452559e-01\n",
      "   -1.53954930e-02  -3.18489418e-01   2.38875791e-02   5.95916368e-01\n",
      "   -2.34336249e-01  -4.50981150e-01  -2.50639273e-01  -1.58844657e-01]\n",
      " [  3.18644561e-01  -3.22791426e-02  -3.06631323e-02   3.01100165e-02\n",
      "    7.41899665e-02  -1.69370196e-01  -3.36815220e-01   6.78051665e-01\n",
      "    5.10740291e-02   4.30666349e-01  -1.32854677e-01  -3.29334965e-02\n",
      "   -8.33651644e-02  -2.55389946e-01  -9.45969656e-02   1.57635967e-02]\n",
      " [  3.08101386e-01  -9.33135891e-02  -2.29168157e-02   4.28389950e-02\n",
      "    9.74190965e-03  -2.38461278e-01  -2.56180263e-01  -6.37290258e-01\n",
      "    2.48334915e-01   2.14545954e-01  -2.19457956e-01  -3.05896762e-01\n",
      "    4.53184959e-02  -1.27613024e-01  -3.08467514e-01  -4.85179056e-02]\n",
      " [  2.19086701e-02  -4.19640809e-01  -7.13486738e-01  -8.02427578e-02\n",
      "   -4.07936616e-01  -2.53986504e-01  -7.35805015e-03   3.40075563e-03\n",
      "   -9.38554369e-02  -1.91732795e-02  -1.55291115e-02   1.53336612e-01\n",
      "    2.82932323e-02   9.77735947e-02   1.27741030e-01  -1.31622800e-01]\n",
      " [  8.07853701e-02   4.92987285e-01  -4.34040883e-01   4.46734848e-01\n",
      "   -1.50435926e-01   3.97073293e-01   3.32925563e-02   4.18454357e-02\n",
      "    4.80288486e-02   2.42613149e-02   6.13661959e-02   2.09923443e-02\n",
      "    1.44967951e-01   6.81130923e-04  -3.68243994e-01  -1.24877806e-01]\n",
      " [ -3.07651765e-01  -8.52118925e-02   6.91484796e-02   4.51701177e-02\n",
      "    9.81333228e-02   2.02476283e-02   9.63168198e-03  -1.77843949e-01\n",
      "   -5.72971135e-01   5.11075372e-01  -4.44810326e-02   2.49926669e-01\n",
      "    3.75737991e-01  -1.94197233e-01  -1.09102252e-01  -6.91039395e-02]\n",
      " [ -2.70682719e-01   1.05906200e-01  -1.80910940e-01  -8.43881653e-02\n",
      "    1.03501496e-01  -2.57916137e-01   6.47577001e-02   1.18928578e-01\n",
      "    1.27717953e-01  -3.68057665e-01  -4.36657869e-02  -2.23694723e-01\n",
      "    4.53490581e-01  -5.81312143e-01  -1.89997279e-02   1.80085805e-01]\n",
      " [ -2.78416270e-01  -1.50697983e-01  -1.40999331e-01   2.11699285e-02\n",
      "    9.31247089e-02   1.96560575e-01   1.92721305e-02   1.03980038e-02\n",
      "   -2.89969819e-01  -2.03150764e-02   4.59126610e-02  -5.41182069e-01\n",
      "   -5.34256207e-01  -2.75091310e-01  -6.75705125e-02  -2.94118710e-01]\n",
      " [  2.28031212e-01   4.60575409e-02   7.16858914e-02   4.58989624e-01\n",
      "    7.73457364e-02  -5.39480269e-02   1.57633281e-03  -1.01169367e-01\n",
      "    2.50723263e-02  -4.65697437e-03   4.94393577e-02   3.73467237e-03\n",
      "    1.11736916e-01  -2.31991624e-01   6.80898813e-01  -4.21785132e-01]\n",
      " [  1.93447207e-01  -1.03599132e-01  -3.02608418e-01  -3.13049398e-01\n",
      "    6.44950222e-01   2.91343897e-01   5.55314486e-02   4.93030133e-02\n",
      "    1.25245234e-02   3.11750783e-03  -1.63040997e-01  -1.51911605e-01\n",
      "    2.97735203e-01   2.77098715e-01   8.73163463e-02  -1.81760436e-01]]\n"
     ]
    }
   ],
   "source": [
    "print eigenVectors1"
   ]
  },
  {
   "cell_type": "markdown",
   "metadata": {},
   "source": [
    "To find the principal componants, find the eigenpairs, and sort them from highest to lowest. "
   ]
  },
  {
   "cell_type": "code",
   "execution_count": 11,
   "metadata": {
    "collapsed": false
   },
   "outputs": [
    {
     "name": "stdout",
     "output_type": "stream",
     "text": [
      "7.72441821141\n",
      "1.38414615236\n",
      "1.05188819734\n",
      "0.969719399932\n",
      "0.807659919608\n",
      "0.729173960116\n",
      "0.546643881232\n",
      "0.543229215866\n",
      "0.492422322898\n",
      "0.378767831509\n",
      "0.357274030595\n",
      "0.322927948142\n",
      "0.275978979404\n",
      "0.201873953601\n",
      "0.178145794697\n",
      "0.104994270551\n"
     ]
    }
   ],
   "source": [
    "eigenPairs1 = [(np.abs(eigenValues1[i]), eigenVectors1[:,i]) for i in range(len(eigenValues1))]\n",
    "eigenPairs1.sort()\n",
    "eigenPairs1.reverse()\n",
    "for i in eigenPairs1:\n",
    "    print(i[0])"
   ]
  },
  {
   "cell_type": "markdown",
   "metadata": {
    "collapsed": true
   },
   "source": [
    "Now, calculate the explained variance. Recall the methods we learned in lesson 2.2!"
   ]
  },
  {
   "cell_type": "code",
   "execution_count": 12,
   "metadata": {
    "collapsed": false
   },
   "outputs": [],
   "source": [
    "total1 = sum(eigenValues1)\n",
    "var_exp1 = [(i/total1)*100 for i in sorted(eigenValues1, reverse=True)]\n",
    "cum_var_exp1 = np.cumsum(var_exp1)"
   ]
  },
  {
   "cell_type": "code",
   "execution_count": 13,
   "metadata": {
    "collapsed": false
   },
   "outputs": [
    {
     "data": {
      "text/plain": [
       "[48.069520658289782,\n",
       " 8.6136250322063699,\n",
       " 6.545963728073076,\n",
       " 6.0346223433274657,\n",
       " 5.0261164178178506,\n",
       " 4.53769355568084,\n",
       " 3.4017978600385206,\n",
       " 3.3805481914049786,\n",
       " 3.064373830537118,\n",
       " 2.3570950721602193,\n",
       " 2.2233378520306037,\n",
       " 2.0096001083200732,\n",
       " 1.7174338427323699,\n",
       " 1.2562737953055541,\n",
       " 1.1086120305738458,\n",
       " 0.65338568150133569]"
      ]
     },
     "execution_count": 13,
     "metadata": {},
     "output_type": "execute_result"
    }
   ],
   "source": [
    "var_exp1"
   ]
  },
  {
   "cell_type": "markdown",
   "metadata": {},
   "source": [
    "Now, calculate the explained variance and the Cumulative explained variance"
   ]
  },
  {
   "cell_type": "code",
   "execution_count": 14,
   "metadata": {
    "collapsed": false
   },
   "outputs": [
    {
     "name": "stdout",
     "output_type": "stream",
     "text": [
      "[  48.06952066   56.68314569   63.22910942   69.26373176   74.28984818\n",
      "   78.82754174   82.2293396    85.60988779   88.67426162   91.03135669\n",
      "   93.25469454   95.26429465   96.98172849   98.23800229   99.34661432\n",
      "  100.        ]\n"
     ]
    }
   ],
   "source": [
    "print cum_var_exp1"
   ]
  },
  {
   "cell_type": "markdown",
   "metadata": {},
   "source": [
    "Now, conduct a PCA using scikit learn\n",
    "\n",
    "http://scikit-learn.org/stable/modules/generated/sklearn.decomposition.PCA.html"
   ]
  },
  {
   "cell_type": "code",
   "execution_count": 15,
   "metadata": {
    "collapsed": false
   },
   "outputs": [
    {
     "data": {
      "text/plain": [
       "array([[ 0.18460859, -0.04742822,  0.2863216 , -0.30493621, -0.32991001,\n",
       "        -0.25972821,  0.27218234,  0.31864456,  0.30810139,  0.02190867,\n",
       "         0.08078537, -0.30765177, -0.27068272, -0.27841627,  0.22803121,\n",
       "         0.19344721],\n",
       "       [ 0.17954463,  0.64857385,  0.04730916, -0.14253218,  0.01713514,\n",
       "         0.11230851, -0.16949899, -0.03227914, -0.09331359, -0.41964081,\n",
       "         0.49298729, -0.08521189,  0.1059062 , -0.15069798,  0.04605754,\n",
       "        -0.10359913],\n",
       "       [ 0.03968775, -0.11876113, -0.18893179,  0.04739976, -0.06747829,\n",
       "        -0.29796101, -0.00475402, -0.03066313, -0.02291682, -0.71348674,\n",
       "        -0.43404088,  0.06914848, -0.18091094, -0.14099933,  0.07168589,\n",
       "        -0.30260842],\n",
       "       [-0.5182366 , -0.37335071, -0.08326513, -0.12822442, -0.08360756,\n",
       "         0.14797105, -0.11289754,  0.03011002,  0.042839  , -0.08024276,\n",
       "         0.44673485,  0.04517012, -0.08438817,  0.02116993,  0.45898962,\n",
       "        -0.3130494 ],\n",
       "       [ 0.45886845, -0.09301321, -0.15971438,  0.01509121, -0.05261563,\n",
       "        -0.24991202, -0.21030231, -0.07418997, -0.00974191,  0.40793662,\n",
       "         0.15043593, -0.09813332, -0.1035015 , -0.09312471, -0.07734574,\n",
       "        -0.64495022]])"
      ]
     },
     "execution_count": 15,
     "metadata": {},
     "output_type": "execute_result"
    }
   ],
   "source": [
    "pca1 = PCA(n_components=5)\n",
    "pca1.fit(X_standard)\n",
    "pca1.components_"
   ]
  },
  {
   "cell_type": "markdown",
   "metadata": {},
   "source": [
    "# Case #2: Airport Delays"
   ]
  },
  {
   "cell_type": "code",
   "execution_count": 2,
   "metadata": {
    "collapsed": false
   },
   "outputs": [
    {
     "data": {
      "text/html": [
       "<div>\n",
       "<table border=\"1\" class=\"dataframe\">\n",
       "  <thead>\n",
       "    <tr style=\"text-align: right;\">\n",
       "      <th></th>\n",
       "      <th>airport</th>\n",
       "      <th>year</th>\n",
       "      <th>departures for metric computation</th>\n",
       "      <th>arrivals for metric computation</th>\n",
       "      <th>percent on-time gate departures</th>\n",
       "      <th>percent on-time airport departures</th>\n",
       "      <th>percent on-time gate arrivals</th>\n",
       "      <th>average_gate_departure_delay</th>\n",
       "      <th>average_taxi_out_time</th>\n",
       "      <th>average taxi out delay</th>\n",
       "      <th>average airport departure delay</th>\n",
       "      <th>average airborne delay</th>\n",
       "      <th>average taxi in delay</th>\n",
       "      <th>average block delay</th>\n",
       "      <th>average gate arrival delay</th>\n",
       "    </tr>\n",
       "  </thead>\n",
       "  <tbody>\n",
       "    <tr>\n",
       "      <th>0</th>\n",
       "      <td>ABQ</td>\n",
       "      <td>2004</td>\n",
       "      <td>53971</td>\n",
       "      <td>53818</td>\n",
       "      <td>0.8030</td>\n",
       "      <td>0.7809</td>\n",
       "      <td>0.7921</td>\n",
       "      <td>10.38</td>\n",
       "      <td>9.89</td>\n",
       "      <td>2.43</td>\n",
       "      <td>12.10</td>\n",
       "      <td>2.46</td>\n",
       "      <td>0.83</td>\n",
       "      <td>2.55</td>\n",
       "      <td>10.87</td>\n",
       "    </tr>\n",
       "    <tr>\n",
       "      <th>1</th>\n",
       "      <td>ABQ</td>\n",
       "      <td>2005</td>\n",
       "      <td>51829</td>\n",
       "      <td>51877</td>\n",
       "      <td>0.8140</td>\n",
       "      <td>0.7922</td>\n",
       "      <td>0.8001</td>\n",
       "      <td>9.60</td>\n",
       "      <td>9.79</td>\n",
       "      <td>2.29</td>\n",
       "      <td>11.20</td>\n",
       "      <td>2.26</td>\n",
       "      <td>0.89</td>\n",
       "      <td>2.34</td>\n",
       "      <td>10.24</td>\n",
       "    </tr>\n",
       "    <tr>\n",
       "      <th>2</th>\n",
       "      <td>ABQ</td>\n",
       "      <td>2006</td>\n",
       "      <td>49682</td>\n",
       "      <td>51199</td>\n",
       "      <td>0.7983</td>\n",
       "      <td>0.7756</td>\n",
       "      <td>0.7746</td>\n",
       "      <td>10.84</td>\n",
       "      <td>9.89</td>\n",
       "      <td>2.16</td>\n",
       "      <td>12.33</td>\n",
       "      <td>2.12</td>\n",
       "      <td>0.84</td>\n",
       "      <td>2.66</td>\n",
       "      <td>11.82</td>\n",
       "    </tr>\n",
       "    <tr>\n",
       "      <th>3</th>\n",
       "      <td>ABQ</td>\n",
       "      <td>2007</td>\n",
       "      <td>53255</td>\n",
       "      <td>53611</td>\n",
       "      <td>0.8005</td>\n",
       "      <td>0.7704</td>\n",
       "      <td>0.7647</td>\n",
       "      <td>11.29</td>\n",
       "      <td>10.34</td>\n",
       "      <td>2.40</td>\n",
       "      <td>12.95</td>\n",
       "      <td>2.19</td>\n",
       "      <td>1.29</td>\n",
       "      <td>3.06</td>\n",
       "      <td>12.71</td>\n",
       "    </tr>\n",
       "    <tr>\n",
       "      <th>4</th>\n",
       "      <td>ABQ</td>\n",
       "      <td>2008</td>\n",
       "      <td>49589</td>\n",
       "      <td>49512</td>\n",
       "      <td>0.8103</td>\n",
       "      <td>0.7844</td>\n",
       "      <td>0.7875</td>\n",
       "      <td>10.79</td>\n",
       "      <td>10.41</td>\n",
       "      <td>2.41</td>\n",
       "      <td>12.32</td>\n",
       "      <td>1.82</td>\n",
       "      <td>1.03</td>\n",
       "      <td>2.79</td>\n",
       "      <td>11.48</td>\n",
       "    </tr>\n",
       "  </tbody>\n",
       "</table>\n",
       "</div>"
      ],
      "text/plain": [
       "  airport  year  departures for metric computation  \\\n",
       "0     ABQ  2004                              53971   \n",
       "1     ABQ  2005                              51829   \n",
       "2     ABQ  2006                              49682   \n",
       "3     ABQ  2007                              53255   \n",
       "4     ABQ  2008                              49589   \n",
       "\n",
       "   arrivals for metric computation  percent on-time gate departures  \\\n",
       "0                            53818                           0.8030   \n",
       "1                            51877                           0.8140   \n",
       "2                            51199                           0.7983   \n",
       "3                            53611                           0.8005   \n",
       "4                            49512                           0.8103   \n",
       "\n",
       "   percent on-time airport departures  percent on-time gate arrivals  \\\n",
       "0                              0.7809                         0.7921   \n",
       "1                              0.7922                         0.8001   \n",
       "2                              0.7756                         0.7746   \n",
       "3                              0.7704                         0.7647   \n",
       "4                              0.7844                         0.7875   \n",
       "\n",
       "   average_gate_departure_delay  average_taxi_out_time  \\\n",
       "0                         10.38                   9.89   \n",
       "1                          9.60                   9.79   \n",
       "2                         10.84                   9.89   \n",
       "3                         11.29                  10.34   \n",
       "4                         10.79                  10.41   \n",
       "\n",
       "   average taxi out delay  average airport departure delay  \\\n",
       "0                    2.43                            12.10   \n",
       "1                    2.29                            11.20   \n",
       "2                    2.16                            12.33   \n",
       "3                    2.40                            12.95   \n",
       "4                    2.41                            12.32   \n",
       "\n",
       "   average airborne delay  average taxi in delay  average block delay  \\\n",
       "0                    2.46                   0.83                 2.55   \n",
       "1                    2.26                   0.89                 2.34   \n",
       "2                    2.12                   0.84                 2.66   \n",
       "3                    2.19                   1.29                 3.06   \n",
       "4                    1.82                   1.03                 2.79   \n",
       "\n",
       "   average gate arrival delay  \n",
       "0                       10.87  \n",
       "1                       10.24  \n",
       "2                       11.82  \n",
       "3                       12.71  \n",
       "4                       11.48  "
      ]
     },
     "execution_count": 2,
     "metadata": {},
     "output_type": "execute_result"
    }
   ],
   "source": [
    "airport = pd.read_csv(airport_file)\n",
    "airport.head()"
   ]
  },
  {
   "cell_type": "markdown",
   "metadata": {},
   "source": [
    "First, let's define the x and y variables: Airport is going to be our target variable"
   ]
  },
  {
   "cell_type": "code",
   "execution_count": 3,
   "metadata": {
    "collapsed": false
   },
   "outputs": [
    {
     "data": {
      "text/html": [
       "<div>\n",
       "<table border=\"1\" class=\"dataframe\">\n",
       "  <thead>\n",
       "    <tr style=\"text-align: right;\">\n",
       "      <th></th>\n",
       "      <th>year</th>\n",
       "      <th>departures for metric computation</th>\n",
       "      <th>arrivals for metric computation</th>\n",
       "      <th>percent on-time gate departures</th>\n",
       "      <th>percent on-time airport departures</th>\n",
       "      <th>percent on-time gate arrivals</th>\n",
       "      <th>average_gate_departure_delay</th>\n",
       "      <th>average_taxi_out_time</th>\n",
       "      <th>average taxi out delay</th>\n",
       "      <th>average airport departure delay</th>\n",
       "      <th>average airborne delay</th>\n",
       "      <th>average taxi in delay</th>\n",
       "      <th>average block delay</th>\n",
       "      <th>average gate arrival delay</th>\n",
       "    </tr>\n",
       "  </thead>\n",
       "  <tbody>\n",
       "    <tr>\n",
       "      <th>0</th>\n",
       "      <td>2004</td>\n",
       "      <td>53971</td>\n",
       "      <td>53818</td>\n",
       "      <td>0.8030</td>\n",
       "      <td>0.7809</td>\n",
       "      <td>0.7921</td>\n",
       "      <td>10.38</td>\n",
       "      <td>9.89</td>\n",
       "      <td>2.43</td>\n",
       "      <td>12.10</td>\n",
       "      <td>2.46</td>\n",
       "      <td>0.83</td>\n",
       "      <td>2.55</td>\n",
       "      <td>10.87</td>\n",
       "    </tr>\n",
       "    <tr>\n",
       "      <th>1</th>\n",
       "      <td>2005</td>\n",
       "      <td>51829</td>\n",
       "      <td>51877</td>\n",
       "      <td>0.8140</td>\n",
       "      <td>0.7922</td>\n",
       "      <td>0.8001</td>\n",
       "      <td>9.60</td>\n",
       "      <td>9.79</td>\n",
       "      <td>2.29</td>\n",
       "      <td>11.20</td>\n",
       "      <td>2.26</td>\n",
       "      <td>0.89</td>\n",
       "      <td>2.34</td>\n",
       "      <td>10.24</td>\n",
       "    </tr>\n",
       "    <tr>\n",
       "      <th>2</th>\n",
       "      <td>2006</td>\n",
       "      <td>49682</td>\n",
       "      <td>51199</td>\n",
       "      <td>0.7983</td>\n",
       "      <td>0.7756</td>\n",
       "      <td>0.7746</td>\n",
       "      <td>10.84</td>\n",
       "      <td>9.89</td>\n",
       "      <td>2.16</td>\n",
       "      <td>12.33</td>\n",
       "      <td>2.12</td>\n",
       "      <td>0.84</td>\n",
       "      <td>2.66</td>\n",
       "      <td>11.82</td>\n",
       "    </tr>\n",
       "    <tr>\n",
       "      <th>3</th>\n",
       "      <td>2007</td>\n",
       "      <td>53255</td>\n",
       "      <td>53611</td>\n",
       "      <td>0.8005</td>\n",
       "      <td>0.7704</td>\n",
       "      <td>0.7647</td>\n",
       "      <td>11.29</td>\n",
       "      <td>10.34</td>\n",
       "      <td>2.40</td>\n",
       "      <td>12.95</td>\n",
       "      <td>2.19</td>\n",
       "      <td>1.29</td>\n",
       "      <td>3.06</td>\n",
       "      <td>12.71</td>\n",
       "    </tr>\n",
       "    <tr>\n",
       "      <th>4</th>\n",
       "      <td>2008</td>\n",
       "      <td>49589</td>\n",
       "      <td>49512</td>\n",
       "      <td>0.8103</td>\n",
       "      <td>0.7844</td>\n",
       "      <td>0.7875</td>\n",
       "      <td>10.79</td>\n",
       "      <td>10.41</td>\n",
       "      <td>2.41</td>\n",
       "      <td>12.32</td>\n",
       "      <td>1.82</td>\n",
       "      <td>1.03</td>\n",
       "      <td>2.79</td>\n",
       "      <td>11.48</td>\n",
       "    </tr>\n",
       "  </tbody>\n",
       "</table>\n",
       "</div>"
      ],
      "text/plain": [
       "   year  departures for metric computation  arrivals for metric computation  \\\n",
       "0  2004                              53971                            53818   \n",
       "1  2005                              51829                            51877   \n",
       "2  2006                              49682                            51199   \n",
       "3  2007                              53255                            53611   \n",
       "4  2008                              49589                            49512   \n",
       "\n",
       "   percent on-time gate departures  percent on-time airport departures  \\\n",
       "0                           0.8030                              0.7809   \n",
       "1                           0.8140                              0.7922   \n",
       "2                           0.7983                              0.7756   \n",
       "3                           0.8005                              0.7704   \n",
       "4                           0.8103                              0.7844   \n",
       "\n",
       "   percent on-time gate arrivals  average_gate_departure_delay  \\\n",
       "0                         0.7921                         10.38   \n",
       "1                         0.8001                          9.60   \n",
       "2                         0.7746                         10.84   \n",
       "3                         0.7647                         11.29   \n",
       "4                         0.7875                         10.79   \n",
       "\n",
       "   average_taxi_out_time  average taxi out delay  \\\n",
       "0                   9.89                    2.43   \n",
       "1                   9.79                    2.29   \n",
       "2                   9.89                    2.16   \n",
       "3                  10.34                    2.40   \n",
       "4                  10.41                    2.41   \n",
       "\n",
       "   average airport departure delay  average airborne delay  \\\n",
       "0                            12.10                    2.46   \n",
       "1                            11.20                    2.26   \n",
       "2                            12.33                    2.12   \n",
       "3                            12.95                    2.19   \n",
       "4                            12.32                    1.82   \n",
       "\n",
       "   average taxi in delay  average block delay  average gate arrival delay  \n",
       "0                   0.83                 2.55                       10.87  \n",
       "1                   0.89                 2.34                       10.24  \n",
       "2                   0.84                 2.66                       11.82  \n",
       "3                   1.29                 3.06                       12.71  \n",
       "4                   1.03                 2.79                       11.48  "
      ]
     },
     "execution_count": 3,
     "metadata": {},
     "output_type": "execute_result"
    }
   ],
   "source": [
    "X = airport.drop(['airport'],axis=1)\n",
    "X.head()"
   ]
  },
  {
   "cell_type": "code",
   "execution_count": 4,
   "metadata": {
    "collapsed": false
   },
   "outputs": [
    {
     "data": {
      "text/plain": [
       "0    ABQ\n",
       "1    ABQ\n",
       "2    ABQ\n",
       "3    ABQ\n",
       "4    ABQ\n",
       "Name: airport, dtype: object"
      ]
     },
     "execution_count": 4,
     "metadata": {},
     "output_type": "execute_result"
    }
   ],
   "source": [
    "y = airport['airport']\n",
    "y.head()"
   ]
  },
  {
   "cell_type": "markdown",
   "metadata": {},
   "source": [
    "Then, standardize the x variable for analysis"
   ]
  },
  {
   "cell_type": "code",
   "execution_count": 5,
   "metadata": {
    "collapsed": false
   },
   "outputs": [],
   "source": [
    "x_standard = StandardScaler().fit_transform(X)"
   ]
  },
  {
   "cell_type": "markdown",
   "metadata": {},
   "source": [
    "Next, create the covariance matrix from the standardized x-values and decompose these values to find the eigenvalues and eigenvectors"
   ]
  },
  {
   "cell_type": "code",
   "execution_count": 6,
   "metadata": {
    "collapsed": false
   },
   "outputs": [],
   "source": [
    "cov_mat = np.cov(x_standard.T)\n",
    "eigenValues, eigenVectors = np.linalg.eig(cov_mat)"
   ]
  },
  {
   "cell_type": "markdown",
   "metadata": {},
   "source": [
    "Then, check your eigenvalues and eigenvectors:"
   ]
  },
  {
   "cell_type": "code",
   "execution_count": 7,
   "metadata": {
    "collapsed": false
   },
   "outputs": [
    {
     "data": {
      "text/plain": [
       "array([  6.45349601e+00,   4.30952372e+00,   1.21824879e+00,\n",
       "         7.37875394e-01,   5.10954558e-01,   3.49353222e-01,\n",
       "         1.66799275e-01,   1.20220515e-01,   7.32036815e-02,\n",
       "         6.41924376e-02,   9.59074587e-03,   2.34264664e-03,\n",
       "         1.64364385e-04,   7.01306545e-04])"
      ]
     },
     "execution_count": 7,
     "metadata": {},
     "output_type": "execute_result"
    }
   ],
   "source": [
    "eigenValues"
   ]
  },
  {
   "cell_type": "code",
   "execution_count": 8,
   "metadata": {
    "collapsed": false
   },
   "outputs": [
    {
     "data": {
      "text/plain": [
       "array([[ -5.74761448e-02,   5.25255722e-02,   8.08909757e-01,\n",
       "         -3.89143377e-01,  -1.51724877e-02,  -4.04558235e-01,\n",
       "         -3.91819608e-02,  -1.31976220e-02,   1.43760537e-01,\n",
       "         -7.77297605e-03,  -3.10742763e-02,  -2.93369275e-02,\n",
       "          2.29607095e-03,   1.99299912e-03],\n",
       "       [  1.16832935e-01,  -4.11909290e-01,   1.69808554e-01,\n",
       "          4.02576136e-01,  -1.22740151e-01,  -1.12320737e-01,\n",
       "          2.90266529e-01,   6.08203611e-02,   7.66594323e-02,\n",
       "          3.32546414e-02,  -2.17851714e-02,   2.05754595e-02,\n",
       "          7.07995242e-01,   3.17127569e-02],\n",
       "       [  1.16407898e-01,  -4.11581912e-01,   1.71084289e-01,\n",
       "          4.03871066e-01,  -1.25409356e-01,  -1.09894006e-01,\n",
       "          2.91346645e-01,   6.55288643e-02,   9.06577905e-02,\n",
       "          3.22166405e-02,  -3.61597627e-02,  -2.65374530e-02,\n",
       "         -7.03727342e-01,  -3.44394613e-02],\n",
       "       [ -3.14555883e-01,  -2.53530409e-01,  -1.18877111e-01,\n",
       "         -2.24560820e-01,   1.23690522e-01,  -6.82727838e-02,\n",
       "          5.43486119e-02,   3.26770461e-01,   2.36580572e-03,\n",
       "          3.29711351e-01,  -1.99340182e-01,   6.68761985e-01,\n",
       "         -3.00470829e-02,   2.14306496e-01],\n",
       "       [ -3.75128310e-01,  -7.87082927e-02,  -1.00892441e-01,\n",
       "         -1.09184961e-02,   1.34624586e-01,  -2.11635993e-01,\n",
       "          2.71353232e-02,   3.73371466e-01,  -2.89507680e-01,\n",
       "          2.58376655e-01,  -2.85057395e-01,  -5.96553075e-01,\n",
       "          3.09804596e-02,  -2.25970874e-01],\n",
       "       [ -3.19443455e-01,  -2.59618709e-01,   1.43727719e-02,\n",
       "         -5.59417020e-02,  -1.42882198e-01,  -2.03389243e-02,\n",
       "         -6.59648928e-02,  -3.98230252e-01,  -2.42904313e-01,\n",
       "          4.13858733e-01,   6.40097110e-01,  -5.69355242e-02,\n",
       "         -8.99358009e-03,   1.10387939e-02],\n",
       "       [  3.39442599e-01,   2.12055743e-01,   1.46987310e-01,\n",
       "          1.20872954e-01,  -5.89234990e-02,   3.77924286e-02,\n",
       "         -2.86145143e-02,  -8.27426527e-02,  -4.15866940e-01,\n",
       "          3.94445886e-01,  -2.36861421e-01,  -1.02032537e-01,\n",
       "         -2.79856211e-02,   6.28649445e-01],\n",
       "       [  2.03702730e-01,  -3.51572489e-01,   1.46751930e-02,\n",
       "         -4.36498823e-01,   3.96132150e-02,   1.36938724e-01,\n",
       "          3.01642739e-01,   2.89659660e-02,  -5.93467490e-01,\n",
       "         -4.22504550e-01,   3.18693499e-02,   1.00408035e-02,\n",
       "         -5.71394565e-03,  -1.19887604e-02],\n",
       "       [  1.79213138e-01,  -3.65634226e-01,  -7.92478827e-02,\n",
       "         -4.26860470e-01,   1.00639410e-02,   3.87947683e-01,\n",
       "          2.41455140e-02,  -3.62718716e-02,   5.05749615e-01,\n",
       "          2.38311849e-01,  -9.78632616e-02,  -3.67192446e-01,\n",
       "          9.12623601e-03,   1.90091624e-01],\n",
       "       [  3.82081055e-01,   4.41820602e-02,   1.12031061e-01,\n",
       "         -7.03720250e-02,  -6.31205503e-02,   1.88995941e-01,\n",
       "         -2.37213477e-02,  -1.01458125e-01,  -1.39614726e-01,\n",
       "          4.61086208e-01,  -1.93861767e-01,   2.11215442e-01,\n",
       "          2.53146003e-02,  -6.84887414e-01],\n",
       "       [  2.66364317e-01,  -1.22585403e-01,  -3.37056176e-01,\n",
       "         -1.93717938e-01,  -6.44939228e-01,  -4.85291309e-01,\n",
       "         -3.05280131e-01,   1.30755926e-01,   1.22477890e-02,\n",
       "         -2.64920135e-02,  -1.46332651e-02,  -7.95387587e-03,\n",
       "          3.85537802e-04,   3.55681431e-03],\n",
       "       [  1.17545388e-01,  -4.01613903e-01,   1.68142010e-01,\n",
       "          1.88146374e-01,   2.99717488e-01,   1.05776711e-01,\n",
       "         -7.84997335e-01,   1.22805123e-01,  -1.17486464e-01,\n",
       "         -1.21230458e-01,   9.43787182e-03,   1.71059638e-02,\n",
       "         -2.27526807e-03,   3.25634259e-03],\n",
       "       [  2.92669002e-01,  -9.20439018e-02,  -2.82951900e-01,\n",
       "         -5.92342132e-02,   6.04020068e-01,  -5.55131941e-01,\n",
       "          9.19556431e-02,  -3.58685306e-01,   7.70031155e-02,\n",
       "          7.80223584e-02,  -8.44642887e-03,  -7.77251031e-03,\n",
       "         -2.35431905e-03,  -5.03364899e-03],\n",
       "       [  3.50062297e-01,   1.76899154e-01,   2.12226723e-02,\n",
       "         -3.12063009e-02,   1.88134533e-01,  -2.24535997e-02,\n",
       "          1.02275751e-01,   6.37912237e-01,   4.59143779e-02,\n",
       "          1.61467816e-01,   6.01565119e-01,  -3.58041687e-02,\n",
       "         -3.31105069e-03,   9.70797339e-03]])"
      ]
     },
     "execution_count": 8,
     "metadata": {},
     "output_type": "execute_result"
    }
   ],
   "source": [
    "eigenVectors"
   ]
  },
  {
   "cell_type": "markdown",
   "metadata": {},
   "source": [
    "To find the principal components, find the eigenpairs, and sort them from highest to lowest. "
   ]
  },
  {
   "cell_type": "code",
   "execution_count": 11,
   "metadata": {
    "collapsed": false
   },
   "outputs": [
    {
     "name": "stdout",
     "output_type": "stream",
     "text": [
      "6.45349600791\n",
      "4.30952372449\n",
      "1.21824878845\n",
      "0.737875393589\n",
      "0.510954557711\n",
      "0.349353221606\n",
      "0.166799275189\n",
      "0.120220515247\n",
      "0.0732036814776\n",
      "0.0641924375551\n",
      "0.0095907458676\n",
      "0.00234264664452\n",
      "0.000701306545385\n",
      "0.00016436438493\n"
     ]
    }
   ],
   "source": [
    "eigenpairs = [(np.abs(eigenValues[i]), eigenVectors[:,i]) for i in range (len(eigenValues))]\n",
    "eigenpairs.sort()\n",
    "eigenpairs.reverse()\n",
    "for i in eigenpairs:\n",
    "    print(i[0])"
   ]
  },
  {
   "cell_type": "markdown",
   "metadata": {},
   "source": [
    "Next, Calculate the explained variance"
   ]
  },
  {
   "cell_type": "code",
   "execution_count": 10,
   "metadata": {
    "collapsed": false
   },
   "outputs": [
    {
     "data": {
      "text/plain": [
       "array([  46.04158864,   76.78729892,   85.47872904,   90.74300058,\n",
       "         94.38833631,   96.8807493 ,   98.07075602,   98.92845292,\n",
       "         99.45071462,   99.90868682,   99.9771107 ,   99.99382399,\n",
       "         99.99882736,  100.        ])"
      ]
     },
     "execution_count": 10,
     "metadata": {},
     "output_type": "execute_result"
    }
   ],
   "source": [
    "total = sum(eigenValues)\n",
    "var_exp = [(i/total)*100 for i in sorted(eigenValues, reverse=True)]\n",
    "cum_var_exp = np.cumsum(var_exp)\n",
    "cum_var_exp"
   ]
  },
  {
   "cell_type": "markdown",
   "metadata": {},
   "source": [
    "Finally, conduct the PCA - use the results above to guide your selection of n components"
   ]
  },
  {
   "cell_type": "code",
   "execution_count": 12,
   "metadata": {
    "collapsed": false
   },
   "outputs": [
    {
     "name": "stdout",
     "output_type": "stream",
     "text": [
      "[[-0.05747614  0.11683294  0.1164079  -0.31455588 -0.37512831 -0.31944346\n",
      "   0.3394426   0.20370273  0.17921314  0.38208105  0.26636432  0.11754539\n",
      "   0.292669    0.3500623 ]\n",
      " [ 0.05252557 -0.41190929 -0.41158191 -0.25353041 -0.07870829 -0.25961871\n",
      "   0.21205574 -0.35157249 -0.36563423  0.04418206 -0.1225854  -0.4016139\n",
      "  -0.0920439   0.17689915]\n",
      " [ 0.80890976  0.16980855  0.17108429 -0.11887711 -0.10089244  0.01437277\n",
      "   0.14698731  0.01467519 -0.07924788  0.11203106 -0.33705618  0.16814201\n",
      "  -0.2829519   0.02122267]\n",
      " [ 0.38914338 -0.40257614 -0.40387107  0.22456082  0.0109185   0.0559417\n",
      "  -0.12087295  0.43649882  0.42686047  0.07037202  0.19371794 -0.18814637\n",
      "   0.05923421  0.0312063 ]\n",
      " [-0.01517249 -0.12274015 -0.12540936  0.12369052  0.13462459 -0.1428822\n",
      "  -0.0589235   0.03961322  0.01006394 -0.06312055 -0.64493923  0.29971749\n",
      "   0.60402007  0.18813453]]\n"
     ]
    }
   ],
   "source": [
    "pca = PCA(n_components=5)\n",
    "pca.fit(x_standard)\n",
    "print pca.components_"
   ]
  },
  {
   "cell_type": "markdown",
   "metadata": {
    "collapsed": false
   },
   "source": [
    "**Bonus**: build and contrast classification models to predict the target classes for each problem, using both the original (or n-best) features and the principal components. If you arrive at <= 3-dimensional feature space, try plotting your data!"
   ]
  }
 ],
 "metadata": {
  "anaconda-cloud": {},
  "kernelspec": {
   "display_name": "Python [default]",
   "language": "python",
   "name": "python2"
  },
  "language_info": {
   "codemirror_mode": {
    "name": "ipython",
    "version": 2
   },
   "file_extension": ".py",
   "mimetype": "text/x-python",
   "name": "python",
   "nbconvert_exporter": "python",
   "pygments_lexer": "ipython2",
   "version": "2.7.12"
  }
 },
 "nbformat": 4,
 "nbformat_minor": 0
}
