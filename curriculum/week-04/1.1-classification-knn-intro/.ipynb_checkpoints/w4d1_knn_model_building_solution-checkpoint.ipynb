{
 "cells": [
  {
   "cell_type": "code",
   "execution_count": 4,
   "metadata": {
    "collapsed": true
   },
   "outputs": [],
   "source": [
    "def calculate_distance(p, q):\n",
    "    \"\"\" Calculate Euclidean distance between two points.\"\"\"\n",
    "    # Assume points are tuples of ([x,y],label)\n",
    "    return ((p[0]-q[0])**2 + (p[1]-q[1])**2) ** 0.5"
   ]
  },
  {
   "cell_type": "code",
   "execution_count": 5,
   "metadata": {
    "collapsed": false
   },
   "outputs": [
    {
     "name": "stdout",
     "output_type": "stream",
     "text": [
      "Counter({'c': 2, 'a': 1, 'b': 1})\n"
     ]
    }
   ],
   "source": [
    "import collections\n",
    "labels = ['a','b','c','c']\n",
    "print(collections.Counter(labels))\n",
    "\n",
    "def neighbor_vote(labels):\n",
    "    \"\"\" Get the majority label from k neighbors.\"\"\"\n",
    "    # Is it possible to have a tie? How would you handle that?\n",
    "    #print(labels)\n",
    "    vote = collections.Counter(labels).most_common(1)[0][0]\n",
    "    return vote"
   ]
  },
  {
   "cell_type": "code",
   "execution_count": 11,
   "metadata": {
    "collapsed": false
   },
   "outputs": [],
   "source": [
    "def knn_classifier(labeled_points, new_point, k):\n",
    "    \"\"\" Given classified points and one new point, return a prediction based on the votes of k neighbors.\"\"\"\n",
    "    if k % 2 == 0:\n",
    "        return \"Must use odd k, to prevent ties\"\n",
    "    label_distances = []\n",
    "\n",
    "    for p in labeled_points:\n",
    "        #print(p[0], new_point)\n",
    "        distance = calculate_distance(p[0],new_point)\n",
    "        label_distances.append((distance,p[1]))\n",
    "    \n",
    "    label_distances.sort() # Put them in order\n",
    "    #print(label_distances)\n",
    "    prediction = neighbor_vote([label[1] for label in label_distances[:k]])\n",
    "    return prediction"
   ]
  },
  {
   "cell_type": "code",
   "execution_count": 8,
   "metadata": {
    "collapsed": true
   },
   "outputs": [],
   "source": [
    "from sklearn import datasets\n",
    "import pandas as pd\n",
    "import numpy as np\n",
    "from sklearn.cross_validation import train_test_split\n",
    "\n",
    "# import data\n",
    "iris = datasets.load_iris()\n",
    "X = iris.data[:100, :2]  # use the first two features and just the first two classes.\n",
    "y = iris.target[:100]\n",
    "X_train, X_test, y_train, y_test = train_test_split(X, y, test_size=0.30, random_state=42)\n",
    "\n",
    "# Split 70/30 into initial data and new points to classify\n",
    "training_df = pd.DataFrame({'feature1':X_train[:,0],'feature2':X_train[:,1],'class':y_train})\n",
    "test_df = pd.DataFrame({'feature1':X_test[:,0],'feature2':X_test[:,1],'class':y_test})"
   ]
  },
  {
   "cell_type": "code",
   "execution_count": 3,
   "metadata": {
    "collapsed": false
   },
   "outputs": [
    {
     "ename": "NameError",
     "evalue": "name 'training_df' is not defined",
     "output_type": "error",
     "traceback": [
      "\u001b[0;31m---------------------------------------------------------------------------\u001b[0m",
      "\u001b[0;31mNameError\u001b[0m                                 Traceback (most recent call last)",
      "\u001b[0;32m<ipython-input-3-f685402b0f3b>\u001b[0m in \u001b[0;36m<module>\u001b[0;34m()\u001b[0m\n\u001b[1;32m      5\u001b[0m \u001b[0;31m#plt.plot(training_df.feature1, training_df.feature2, hue = training_df['class'])\u001b[0m\u001b[0;34m\u001b[0m\u001b[0;34m\u001b[0m\u001b[0m\n\u001b[1;32m      6\u001b[0m sns.lmplot('feature1', 'feature2', \n\u001b[0;32m----> 7\u001b[0;31m            \u001b[0mdata\u001b[0m\u001b[0;34m=\u001b[0m\u001b[0mtraining_df\u001b[0m\u001b[0;34m,\u001b[0m\u001b[0;34m\u001b[0m\u001b[0m\n\u001b[0m\u001b[1;32m      8\u001b[0m            \u001b[0mfit_reg\u001b[0m\u001b[0;34m=\u001b[0m\u001b[0mFalse\u001b[0m\u001b[0;34m,\u001b[0m\u001b[0;34m\u001b[0m\u001b[0m\n\u001b[1;32m      9\u001b[0m            hue=\"class\")\n",
      "\u001b[0;31mNameError\u001b[0m: name 'training_df' is not defined"
     ]
    }
   ],
   "source": [
    "import matplotlib as plt\n",
    "import seaborn as sns\n",
    "%matplotlib inline\n",
    "\n",
    "#plt.plot(training_df.feature1, training_df.feature2, hue = training_df['class'])\n",
    "sns.lmplot('feature1', 'feature2', \n",
    "           data=training_df, \n",
    "           fit_reg=False, \n",
    "           hue=\"class\")"
   ]
  },
  {
   "cell_type": "code",
   "execution_count": 12,
   "metadata": {
    "collapsed": false
   },
   "outputs": [
    {
     "name": "stdout",
     "output_type": "stream",
     "text": [
      "((4.8, 3.4), (6.0, 2.5))\n",
      "((4.6, 3.2), (6.0, 2.5))\n",
      "((6.0, 3.4), (6.0, 2.5))\n",
      "((5.2, 3.4), (6.0, 2.5))\n",
      "((5.0, 2.3), (6.0, 2.5))\n",
      "((5.4, 3.9), (6.0, 2.5))\n",
      "((5.6, 3.0), (6.0, 2.5))\n",
      "((6.7, 3.1), (6.0, 2.5))\n",
      "((5.0, 3.2), (6.0, 2.5))\n",
      "((5.4, 3.9), (6.0, 2.5))\n",
      "((5.0, 3.3), (6.0, 2.5))\n",
      "((4.9, 3.1), (6.0, 2.5))\n",
      "((5.0, 3.4), (6.0, 2.5))\n",
      "((5.7, 3.0), (6.0, 2.5))\n",
      "((5.2, 3.5), (6.0, 2.5))\n",
      "((5.1, 3.8), (6.0, 2.5))\n",
      "((5.5, 2.4), (6.0, 2.5))\n",
      "((5.0, 3.0), (6.0, 2.5))\n",
      "((6.0, 2.2), (6.0, 2.5))\n",
      "((4.3, 3.0), (6.0, 2.5))\n",
      "((4.8, 3.4), (6.0, 2.5))\n",
      "((4.6, 3.1), (6.0, 2.5))\n",
      "((5.1, 3.5), (6.0, 2.5))\n",
      "((4.4, 3.0), (6.0, 2.5))\n",
      "((4.4, 2.9), (6.0, 2.5))\n",
      "((6.0, 2.9), (6.0, 2.5))\n",
      "((4.6, 3.4), (6.0, 2.5))\n",
      "((5.6, 2.9), (6.0, 2.5))\n",
      "((5.5, 3.5), (6.0, 2.5))\n",
      "((5.5, 2.5), (6.0, 2.5))\n",
      "((6.3, 3.3), (6.0, 2.5))\n",
      "((5.7, 2.8), (6.0, 2.5))\n",
      "((6.5, 2.8), (6.0, 2.5))\n",
      "((5.0, 3.5), (6.0, 2.5))\n",
      "((7.0, 3.2), (6.0, 2.5))\n",
      "((5.8, 2.7), (6.0, 2.5))\n",
      "((5.1, 3.8), (6.0, 2.5))\n",
      "((6.2, 2.2), (6.0, 2.5))\n",
      "((5.9, 3.0), (6.0, 2.5))\n",
      "((6.2, 2.9), (6.0, 2.5))\n",
      "((5.7, 2.6), (6.0, 2.5))\n",
      "((4.5, 2.3), (6.0, 2.5))\n",
      "((6.6, 2.9), (6.0, 2.5))\n",
      "((5.3, 3.7), (6.0, 2.5))\n",
      "((5.1, 2.5), (6.0, 2.5))\n",
      "((4.9, 2.4), (6.0, 2.5))\n",
      "((6.6, 3.0), (6.0, 2.5))\n",
      "((5.2, 4.1), (6.0, 2.5))\n",
      "((5.6, 2.7), (6.0, 2.5))\n",
      "((5.2, 2.7), (6.0, 2.5))\n",
      "((6.1, 2.9), (6.0, 2.5))\n",
      "((5.4, 3.0), (6.0, 2.5))\n",
      "((4.9, 3.1), (6.0, 2.5))\n",
      "((4.7, 3.2), (6.0, 2.5))\n",
      "((4.9, 3.0), (6.0, 2.5))\n",
      "((6.9, 3.1), (6.0, 2.5))\n",
      "((5.1, 3.7), (6.0, 2.5))\n",
      "((4.7, 3.2), (6.0, 2.5))\n",
      "((5.1, 3.3), (6.0, 2.5))\n",
      "((6.3, 2.3), (6.0, 2.5))\n",
      "((6.1, 3.0), (6.0, 2.5))\n",
      "((6.4, 2.9), (6.0, 2.5))\n",
      "((6.7, 3.1), (6.0, 2.5))\n",
      "((5.8, 2.7), (6.0, 2.5))\n",
      "((5.4, 3.4), (6.0, 2.5))\n",
      "((5.0, 2.0), (6.0, 2.5))\n",
      "((6.1, 2.8), (6.0, 2.5))\n",
      "((5.8, 4.0), (6.0, 2.5))\n",
      "((5.8, 2.6), (6.0, 2.5))\n",
      "((6.4, 3.2), (6.0, 2.5))\n",
      "[(0.22360679774997916, 1.0), (0.2828427124746193, 1.0), (0.2828427124746193, 1.0), (0.2999999999999998, 1.0), (0.31622776601683766, 1.0), (0.31622776601683783, 1.0), (0.3605551275463989, 1.0), (0.3605551275463989, 1.0), (0.3999999999999999, 1.0), (0.41231056256176585, 1.0), (0.4242640687119283, 1.0), (0.4472135954999579, 1.0), (0.4472135954999583, 1.0), (0.5, 1.0), (0.5099019513592784, 1.0), (0.5099019513592784, 1.0), (0.5099019513592785, 1.0), (0.5656854249492381, 1.0), (0.5656854249492381, 1.0), (0.58309518948453, 1.0), (0.58309518948453, 1.0), (0.6403124237432851, 1.0), (0.7211102550927976, 1.0), (0.7810249675906652, 1.0), (0.7810249675906652, 1.0), (0.8062257748298554, 1.0), (0.8246211251235319, 1.0), (0.8544003745317529, 1.0), (0.8999999999999999, 1.0), (0.9000000000000004, 1.0), (0.9219544457292889, 1.0), (0.9219544457292889, 1.0), (1.019803902718557, 1.0), (1.0816653826391966, 0.0), (1.081665382639197, 1.0), (1.1045361017187258, 1.0), (1.118033988749895, 0.0), (1.118033988749895, 0.0), (1.118033988749895, 1.0), (1.2041594578792294, 0.0), (1.2041594578792296, 0.0), (1.2083045973594568, 0.0), (1.2206555615733703, 0.0), (1.2206555615733703, 1.0), (1.2529964086141665, 0.0), (1.2529964086141665, 0.0), (1.2806248474865696, 0.0), (1.2806248474865696, 0.0), (1.345362404707371, 0.0), (1.3453624047073711, 0.0), (1.3892443989449808, 0.0), (1.4142135623730951, 0.0), (1.4764823060233399, 0.0), (1.4764823060233399, 0.0), (1.5, 0.0), (1.5, 0.0), (1.5000000000000002, 0.0), (1.5132745950421556, 0.0), (1.5132745950421556, 0.0), (1.5231546211727816, 0.0), (1.5231546211727816, 0.0), (1.523154621172782, 0.0), (1.5652475842498532, 0.0), (1.5811388300841898, 0.0), (1.5811388300841898, 0.0), (1.6492422502470638, 0.0), (1.664331697709324, 0.0), (1.6763054614240207, 0.0), (1.7720045146669352, 0.0), (1.7888543819998313, 0.0)]\n"
     ]
    },
    {
     "data": {
      "text/plain": [
       "1.0"
      ]
     },
     "execution_count": 12,
     "metadata": {},
     "output_type": "execute_result"
    }
   ],
   "source": [
    "\"\"\" Iteratively classify new points in test_df, based on the labeled points in training_df, and track your accuracy.\"\"\"\n",
    "\n",
    "#print(training_df[:5])\n",
    "\n",
    "training = training_df.T.values.tolist()\n",
    "labeled_points = zip(zip(training[1],training[2]),training[0])\n",
    "\n",
    "#print(labeled_points[:5])\n",
    "\n",
    "knn_classifier(labeled_points, ((6.0,2.5)),k=5)\n"
   ]
  },
  {
   "cell_type": "code",
   "execution_count": null,
   "metadata": {
    "collapsed": true
   },
   "outputs": [],
   "source": [
    "\"\"\" BONUS: plot the labeled points and an example of a new point being classified.\"\"\""
   ]
  }
 ],
 "metadata": {
  "kernelspec": {
   "display_name": "Python [default]",
   "language": "python",
   "name": "python2"
  },
  "language_info": {
   "codemirror_mode": {
    "name": "ipython",
    "version": 2
   },
   "file_extension": ".py",
   "mimetype": "text/x-python",
   "name": "python",
   "nbconvert_exporter": "python",
   "pygments_lexer": "ipython2",
   "version": "2.7.12"
  }
 },
 "nbformat": 4,
 "nbformat_minor": 0
}
