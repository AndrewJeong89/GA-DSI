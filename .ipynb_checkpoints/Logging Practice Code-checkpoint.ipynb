{
 "cells": [
  {
   "cell_type": "code",
   "execution_count": 1,
   "metadata": {
    "collapsed": true
   },
   "outputs": [],
   "source": [
    "import pandas as pd\n",
    "import numpy as np"
   ]
  },
  {
   "cell_type": "code",
   "execution_count": 5,
   "metadata": {
    "collapsed": false
   },
   "outputs": [],
   "source": [
    "import logging\n",
    "\n",
    "logging.basicConfig(filename = 'log_test.log', filemode='w', level = logging.DEBUG)\n",
    "log = logging.getLogger(__name__)\n",
    "\n",
    "def factorial(n):\n",
    "\tlog.info('Just running the function')\n",
    "\tif type(n) == type(1):\n",
    "\t\tif n > 1:\n",
    "\t\t\treturn (factorial(n-1))*n\n",
    "\t\telse:\n",
    "\t\t\treturn 1\n",
    "\telse:\n",
    "\t\tlog.critical('Needs an integer!')\n"
   ]
  },
  {
   "cell_type": "code",
   "execution_count": 6,
   "metadata": {
    "collapsed": false
   },
   "outputs": [
    {
     "name": "stdout",
     "output_type": "stream",
     "text": [
      "1\n",
      "2\n",
      "6\n",
      "None\n"
     ]
    }
   ],
   "source": [
    "fact_list = [1,2,3,'str']\n",
    "for i in fact_list:\n",
    "\tprint factorial(i)"
   ]
  },
  {
   "cell_type": "code",
   "execution_count": 10,
   "metadata": {
    "collapsed": false
   },
   "outputs": [],
   "source": [
    "import logging\n",
    "\n",
    "logging.basicConfig(filename = 'log_t.log', filemode='w', level = logging.INFO)\n",
    "log = logging.getLogger(__name__)\n",
    "\n",
    "if 5:\n",
    "    log.info(\"Equal to 5\")\n",
    "\n"
   ]
  },
  {
   "cell_type": "code",
   "execution_count": 11,
   "metadata": {
    "collapsed": false
   },
   "outputs": [
    {
     "data": {
      "text/plain": [
       "5"
      ]
     },
     "execution_count": 11,
     "metadata": {},
     "output_type": "execute_result"
    }
   ],
   "source": [
    "5"
   ]
  },
  {
   "cell_type": "code",
   "execution_count": null,
   "metadata": {
    "collapsed": true
   },
   "outputs": [],
   "source": []
  }
 ],
 "metadata": {
  "anaconda-cloud": {},
  "kernelspec": {
   "display_name": "Python [conda root]",
   "language": "python",
   "name": "conda-root-py"
  }
 },
 "nbformat": 4,
 "nbformat_minor": 1
}
