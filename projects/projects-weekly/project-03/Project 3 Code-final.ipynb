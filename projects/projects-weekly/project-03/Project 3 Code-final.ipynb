{
 "cells": [
  {
   "cell_type": "markdown",
   "metadata": {},
   "source": [
    "# Getting started\n",
    "\n",
    "Once you've chosen your scenario, download the data from [the Iowa website](https://data.iowa.gov/Economy/Iowa-Liquor-Sales/m3tr-qhgy) in csv format. Start by loading the data with pandas. You may need to parse the date columns appropriately."
   ]
  },
  {
   "cell_type": "markdown",
   "metadata": {},
   "source": [
    "#### Scenario 2: Market research for new store locations\n",
    "\n",
    "A liquor store owner in Iowa is looking to expand to new locations and has hired you to investigate the market data for potential new locations. The business owner is interested in the details of the best model you can fit to the data so that his team can evaluate potential locations for a new storefront.\n",
    "\n",
    "**Goal for Scenario #2:** Your task is to:\n",
    "\n",
    "* Build models of total sales based on location, price per bottle, total bottles sold. You may find it useful to build models for each county, zip code, or city.\n",
    "* Provide a table of the best performing stores by location type of your choice (city, county, or zip code) and the predictions of your model(s).\n",
    "* Based on your models and the table of data, recommend some general locations to the business owner, taking into account model performance. Validate your model's performance and ability to predict future sales using cross-validation.\n",
    "* _Bonus_: Recommend targets for volume sold and price per bottle!\n",
    "\n",
    "---"
   ]
  },
  {
   "cell_type": "code",
   "execution_count": 28,
   "metadata": {
    "collapsed": false
   },
   "outputs": [],
   "source": [
    "%matplotlib inline\n",
    "\n",
    "import pandas as pd\n",
    "import numpy as np\n",
    "import matplotlib.pyplot as plt\n",
    "import seaborn as sns\n",
    "import pprint\n",
    "\n",
    "from IPython.display import Image\n",
    "from sklearn import linear_model\n",
    "from sklearn.metrics import r2_score\n",
    "from sklearn.metrics import mean_squared_error\n",
    "\n",
    "plt.style.use('fivethirtyeight')"
   ]
  },
  {
   "cell_type": "code",
   "execution_count": 30,
   "metadata": {
    "collapsed": false
   },
   "outputs": [
    {
     "data": {
      "text/html": [
       "<div>\n",
       "<table border=\"1\" class=\"dataframe\">\n",
       "  <thead>\n",
       "    <tr style=\"text-align: right;\">\n",
       "      <th></th>\n",
       "      <th>Unnamed: 0</th>\n",
       "      <th>Date</th>\n",
       "      <th>Store Number</th>\n",
       "      <th>City</th>\n",
       "      <th>Zip Code</th>\n",
       "      <th>County Number</th>\n",
       "      <th>County</th>\n",
       "      <th>Category</th>\n",
       "      <th>Category Name</th>\n",
       "      <th>Vendor Number</th>\n",
       "      <th>...</th>\n",
       "      <th>State Bottle Cost</th>\n",
       "      <th>State Bottle Retail</th>\n",
       "      <th>Bottles Sold</th>\n",
       "      <th>Sale (Dollars)</th>\n",
       "      <th>Volume Sold (Liters)</th>\n",
       "      <th>Volume Sold (Gallons)</th>\n",
       "      <th>Sale Year</th>\n",
       "      <th>Sale Month</th>\n",
       "      <th>Gross Profit</th>\n",
       "      <th>Bottle Gross Profit</th>\n",
       "    </tr>\n",
       "  </thead>\n",
       "  <tbody>\n",
       "    <tr>\n",
       "      <th>0</th>\n",
       "      <td>525069</td>\n",
       "      <td>2015-12-31</td>\n",
       "      <td>3400</td>\n",
       "      <td>DES MOINES</td>\n",
       "      <td>50317</td>\n",
       "      <td>77.0</td>\n",
       "      <td>Polk</td>\n",
       "      <td>1051140.0</td>\n",
       "      <td>PEACH BRANDIES</td>\n",
       "      <td>115</td>\n",
       "      <td>...</td>\n",
       "      <td>3.22</td>\n",
       "      <td>4.83</td>\n",
       "      <td>24</td>\n",
       "      <td>115.92</td>\n",
       "      <td>9.0</td>\n",
       "      <td>2.38</td>\n",
       "      <td>2015</td>\n",
       "      <td>12</td>\n",
       "      <td>38.64</td>\n",
       "      <td>1.61</td>\n",
       "    </tr>\n",
       "    <tr>\n",
       "      <th>1</th>\n",
       "      <td>525070</td>\n",
       "      <td>2015-12-31</td>\n",
       "      <td>4165</td>\n",
       "      <td>ANKENY</td>\n",
       "      <td>50023</td>\n",
       "      <td>77.0</td>\n",
       "      <td>Polk</td>\n",
       "      <td>1031080.0</td>\n",
       "      <td>VODKA 80 PROOF</td>\n",
       "      <td>380</td>\n",
       "      <td>...</td>\n",
       "      <td>7.60</td>\n",
       "      <td>11.40</td>\n",
       "      <td>6</td>\n",
       "      <td>68.40</td>\n",
       "      <td>10.5</td>\n",
       "      <td>2.77</td>\n",
       "      <td>2015</td>\n",
       "      <td>12</td>\n",
       "      <td>22.80</td>\n",
       "      <td>3.80</td>\n",
       "    </tr>\n",
       "    <tr>\n",
       "      <th>2</th>\n",
       "      <td>525071</td>\n",
       "      <td>2015-12-31</td>\n",
       "      <td>4617</td>\n",
       "      <td>DES MOINES</td>\n",
       "      <td>50317</td>\n",
       "      <td>77.0</td>\n",
       "      <td>Polk</td>\n",
       "      <td>1031080.0</td>\n",
       "      <td>VODKA 80 PROOF</td>\n",
       "      <td>380</td>\n",
       "      <td>...</td>\n",
       "      <td>7.60</td>\n",
       "      <td>11.40</td>\n",
       "      <td>6</td>\n",
       "      <td>68.40</td>\n",
       "      <td>10.5</td>\n",
       "      <td>2.77</td>\n",
       "      <td>2015</td>\n",
       "      <td>12</td>\n",
       "      <td>22.80</td>\n",
       "      <td>3.80</td>\n",
       "    </tr>\n",
       "    <tr>\n",
       "      <th>3</th>\n",
       "      <td>525072</td>\n",
       "      <td>2015-12-31</td>\n",
       "      <td>5089</td>\n",
       "      <td>MISSOURI VALLEY</td>\n",
       "      <td>51555</td>\n",
       "      <td>43.0</td>\n",
       "      <td>Harrison</td>\n",
       "      <td>1011100.0</td>\n",
       "      <td>BLENDED WHISKIES</td>\n",
       "      <td>260</td>\n",
       "      <td>...</td>\n",
       "      <td>7.00</td>\n",
       "      <td>10.50</td>\n",
       "      <td>2</td>\n",
       "      <td>21.00</td>\n",
       "      <td>1.5</td>\n",
       "      <td>0.40</td>\n",
       "      <td>2015</td>\n",
       "      <td>12</td>\n",
       "      <td>7.00</td>\n",
       "      <td>3.50</td>\n",
       "    </tr>\n",
       "    <tr>\n",
       "      <th>4</th>\n",
       "      <td>525073</td>\n",
       "      <td>2015-12-31</td>\n",
       "      <td>4695</td>\n",
       "      <td>ALTOONA</td>\n",
       "      <td>50009</td>\n",
       "      <td>77.0</td>\n",
       "      <td>Polk</td>\n",
       "      <td>1081600.0</td>\n",
       "      <td>WHISKEY LIQUEUR</td>\n",
       "      <td>421</td>\n",
       "      <td>...</td>\n",
       "      <td>8.98</td>\n",
       "      <td>13.47</td>\n",
       "      <td>12</td>\n",
       "      <td>161.64</td>\n",
       "      <td>9.0</td>\n",
       "      <td>2.38</td>\n",
       "      <td>2015</td>\n",
       "      <td>12</td>\n",
       "      <td>53.88</td>\n",
       "      <td>4.49</td>\n",
       "    </tr>\n",
       "  </tbody>\n",
       "</table>\n",
       "<p>5 rows × 23 columns</p>\n",
       "</div>"
      ],
      "text/plain": [
       "   Unnamed: 0        Date  Store Number             City  Zip Code  \\\n",
       "0      525069  2015-12-31          3400       DES MOINES     50317   \n",
       "1      525070  2015-12-31          4165           ANKENY     50023   \n",
       "2      525071  2015-12-31          4617       DES MOINES     50317   \n",
       "3      525072  2015-12-31          5089  MISSOURI VALLEY     51555   \n",
       "4      525073  2015-12-31          4695          ALTOONA     50009   \n",
       "\n",
       "   County Number    County   Category     Category Name  Vendor Number  \\\n",
       "0           77.0      Polk  1051140.0    PEACH BRANDIES            115   \n",
       "1           77.0      Polk  1031080.0    VODKA 80 PROOF            380   \n",
       "2           77.0      Polk  1031080.0    VODKA 80 PROOF            380   \n",
       "3           43.0  Harrison  1011100.0  BLENDED WHISKIES            260   \n",
       "4           77.0      Polk  1081600.0   WHISKEY LIQUEUR            421   \n",
       "\n",
       "          ...           State Bottle Cost State Bottle Retail  Bottles Sold  \\\n",
       "0         ...                        3.22                4.83            24   \n",
       "1         ...                        7.60               11.40             6   \n",
       "2         ...                        7.60               11.40             6   \n",
       "3         ...                        7.00               10.50             2   \n",
       "4         ...                        8.98               13.47            12   \n",
       "\n",
       "   Sale (Dollars)  Volume Sold (Liters)  Volume Sold (Gallons)  Sale Year  \\\n",
       "0          115.92                   9.0                   2.38       2015   \n",
       "1           68.40                  10.5                   2.77       2015   \n",
       "2           68.40                  10.5                   2.77       2015   \n",
       "3           21.00                   1.5                   0.40       2015   \n",
       "4          161.64                   9.0                   2.38       2015   \n",
       "\n",
       "   Sale Month  Gross Profit  Bottle Gross Profit  \n",
       "0          12         38.64                 1.61  \n",
       "1          12         22.80                 3.80  \n",
       "2          12         22.80                 3.80  \n",
       "3          12          7.00                 3.50  \n",
       "4          12         53.88                 4.49  \n",
       "\n",
       "[5 rows x 23 columns]"
      ]
     },
     "execution_count": 30,
     "metadata": {},
     "output_type": "execute_result"
    }
   ],
   "source": [
    "## Load the data into a DataFrame\n",
    "df = pd.read_csv(\"/Users/student/downloads/Iowa_15_full.csv\")\n",
    "\n",
    "df.head()"
   ]
  },
  {
   "cell_type": "code",
   "execution_count": 31,
   "metadata": {
    "collapsed": false
   },
   "outputs": [
    {
     "name": "stdout",
     "output_type": "stream",
     "text": [
      "<class 'pandas.core.frame.DataFrame'>\n",
      "RangeIndex: 2184483 entries, 0 to 2184482\n",
      "Data columns (total 23 columns):\n",
      "Unnamed: 0               int64\n",
      "Date                     object\n",
      "Store Number             int64\n",
      "City                     object\n",
      "Zip Code                 int64\n",
      "County Number            float64\n",
      "County                   object\n",
      "Category                 float64\n",
      "Category Name            object\n",
      "Vendor Number            int64\n",
      "Item Number              int64\n",
      "Item Description         object\n",
      "Bottle Volume (ml)       int64\n",
      "State Bottle Cost        float64\n",
      "State Bottle Retail      float64\n",
      "Bottles Sold             int64\n",
      "Sale (Dollars)           float64\n",
      "Volume Sold (Liters)     float64\n",
      "Volume Sold (Gallons)    float64\n",
      "Sale Year                int64\n",
      "Sale Month               int64\n",
      "Gross Profit             float64\n",
      "Bottle Gross Profit      float64\n",
      "dtypes: float64(9), int64(9), object(5)\n",
      "memory usage: 383.3+ MB\n"
     ]
    }
   ],
   "source": [
    "df.info()"
   ]
  },
  {
   "cell_type": "markdown",
   "metadata": {},
   "source": [
    "### Data Munging"
   ]
  },
  {
   "cell_type": "code",
   "execution_count": 32,
   "metadata": {
    "collapsed": false
   },
   "outputs": [],
   "source": [
    "df['Date'] = df['Date'].apply(pd.to_datetime)"
   ]
  },
  {
   "cell_type": "code",
   "execution_count": 33,
   "metadata": {
    "collapsed": false
   },
   "outputs": [],
   "source": [
    "# Function to convert money columns from string to float\n",
    "\n",
    "def conv_money(x):\n",
    "    x = x.split('.')\n",
    "    return (float(x[0][1:]) + (float(x[1]) / 100))"
   ]
  },
  {
   "cell_type": "code",
   "execution_count": 35,
   "metadata": {
    "collapsed": false
   },
   "outputs": [
    {
     "ename": "AttributeError",
     "evalue": "(\"'float' object has no attribute 'split'\", u'occurred at index State Bottle Cost')",
     "output_type": "error",
     "traceback": [
      "\u001b[0;31m---------------------------------------------------------------------------\u001b[0m",
      "\u001b[0;31mAttributeError\u001b[0m                            Traceback (most recent call last)",
      "\u001b[0;32m<ipython-input-35-e66fb4dbcf05>\u001b[0m in \u001b[0;36m<module>\u001b[0;34m()\u001b[0m\n\u001b[1;32m      1\u001b[0m \u001b[0;31m# Converting columns with money value to float\u001b[0m\u001b[0;34m\u001b[0m\u001b[0;34m\u001b[0m\u001b[0m\n\u001b[1;32m      2\u001b[0m \u001b[0;34m\u001b[0m\u001b[0m\n\u001b[0;32m----> 3\u001b[0;31m \u001b[0mdf\u001b[0m\u001b[0;34m[\u001b[0m\u001b[0;34m[\u001b[0m\u001b[0;34m'State Bottle Cost'\u001b[0m\u001b[0;34m,\u001b[0m \u001b[0;34m'State Bottle Retail'\u001b[0m\u001b[0;34m,\u001b[0m \u001b[0;34m\"Sale (Dollars)\"\u001b[0m\u001b[0;34m]\u001b[0m\u001b[0;34m]\u001b[0m \u001b[0;34m=\u001b[0m \u001b[0mdf\u001b[0m\u001b[0;34m[\u001b[0m\u001b[0;34m[\u001b[0m\u001b[0;34m'State Bottle Cost'\u001b[0m\u001b[0;34m,\u001b[0m \u001b[0;34m'State Bottle Retail'\u001b[0m\u001b[0;34m,\u001b[0m \u001b[0;34m\"Sale (Dollars)\"\u001b[0m\u001b[0;34m]\u001b[0m\u001b[0;34m]\u001b[0m\u001b[0;34m.\u001b[0m\u001b[0mapplymap\u001b[0m\u001b[0;34m(\u001b[0m\u001b[0mconv_money\u001b[0m\u001b[0;34m)\u001b[0m\u001b[0;34m\u001b[0m\u001b[0m\n\u001b[0m",
      "\u001b[0;32m//anaconda/lib/python2.7/site-packages/pandas/core/frame.pyc\u001b[0m in \u001b[0;36mapplymap\u001b[0;34m(self, func)\u001b[0m\n\u001b[1;32m   4248\u001b[0m             \u001b[0;32mreturn\u001b[0m \u001b[0mlib\u001b[0m\u001b[0;34m.\u001b[0m\u001b[0mmap_infer\u001b[0m\u001b[0;34m(\u001b[0m\u001b[0mx\u001b[0m\u001b[0;34m.\u001b[0m\u001b[0masobject\u001b[0m\u001b[0;34m,\u001b[0m \u001b[0mfunc\u001b[0m\u001b[0;34m)\u001b[0m\u001b[0;34m\u001b[0m\u001b[0m\n\u001b[1;32m   4249\u001b[0m \u001b[0;34m\u001b[0m\u001b[0m\n\u001b[0;32m-> 4250\u001b[0;31m         \u001b[0;32mreturn\u001b[0m \u001b[0mself\u001b[0m\u001b[0;34m.\u001b[0m\u001b[0mapply\u001b[0m\u001b[0;34m(\u001b[0m\u001b[0minfer\u001b[0m\u001b[0;34m)\u001b[0m\u001b[0;34m\u001b[0m\u001b[0m\n\u001b[0m\u001b[1;32m   4251\u001b[0m \u001b[0;34m\u001b[0m\u001b[0m\n\u001b[1;32m   4252\u001b[0m     \u001b[0;31m# ----------------------------------------------------------------------\u001b[0m\u001b[0;34m\u001b[0m\u001b[0;34m\u001b[0m\u001b[0m\n",
      "\u001b[0;32m//anaconda/lib/python2.7/site-packages/pandas/core/frame.pyc\u001b[0m in \u001b[0;36mapply\u001b[0;34m(self, func, axis, broadcast, raw, reduce, args, **kwds)\u001b[0m\n\u001b[1;32m   4059\u001b[0m                     \u001b[0;32mif\u001b[0m \u001b[0mreduce\u001b[0m \u001b[0;32mis\u001b[0m \u001b[0mNone\u001b[0m\u001b[0;34m:\u001b[0m\u001b[0;34m\u001b[0m\u001b[0m\n\u001b[1;32m   4060\u001b[0m                         \u001b[0mreduce\u001b[0m \u001b[0;34m=\u001b[0m \u001b[0mTrue\u001b[0m\u001b[0;34m\u001b[0m\u001b[0m\n\u001b[0;32m-> 4061\u001b[0;31m                     \u001b[0;32mreturn\u001b[0m \u001b[0mself\u001b[0m\u001b[0;34m.\u001b[0m\u001b[0m_apply_standard\u001b[0m\u001b[0;34m(\u001b[0m\u001b[0mf\u001b[0m\u001b[0;34m,\u001b[0m \u001b[0maxis\u001b[0m\u001b[0;34m,\u001b[0m \u001b[0mreduce\u001b[0m\u001b[0;34m=\u001b[0m\u001b[0mreduce\u001b[0m\u001b[0;34m)\u001b[0m\u001b[0;34m\u001b[0m\u001b[0m\n\u001b[0m\u001b[1;32m   4062\u001b[0m             \u001b[0;32melse\u001b[0m\u001b[0;34m:\u001b[0m\u001b[0;34m\u001b[0m\u001b[0m\n\u001b[1;32m   4063\u001b[0m                 \u001b[0;32mreturn\u001b[0m \u001b[0mself\u001b[0m\u001b[0;34m.\u001b[0m\u001b[0m_apply_broadcast\u001b[0m\u001b[0;34m(\u001b[0m\u001b[0mf\u001b[0m\u001b[0;34m,\u001b[0m \u001b[0maxis\u001b[0m\u001b[0;34m)\u001b[0m\u001b[0;34m\u001b[0m\u001b[0m\n",
      "\u001b[0;32m//anaconda/lib/python2.7/site-packages/pandas/core/frame.pyc\u001b[0m in \u001b[0;36m_apply_standard\u001b[0;34m(self, func, axis, ignore_failures, reduce)\u001b[0m\n\u001b[1;32m   4155\u001b[0m             \u001b[0;32mtry\u001b[0m\u001b[0;34m:\u001b[0m\u001b[0;34m\u001b[0m\u001b[0m\n\u001b[1;32m   4156\u001b[0m                 \u001b[0;32mfor\u001b[0m \u001b[0mi\u001b[0m\u001b[0;34m,\u001b[0m \u001b[0mv\u001b[0m \u001b[0;32min\u001b[0m \u001b[0menumerate\u001b[0m\u001b[0;34m(\u001b[0m\u001b[0mseries_gen\u001b[0m\u001b[0;34m)\u001b[0m\u001b[0;34m:\u001b[0m\u001b[0;34m\u001b[0m\u001b[0m\n\u001b[0;32m-> 4157\u001b[0;31m                     \u001b[0mresults\u001b[0m\u001b[0;34m[\u001b[0m\u001b[0mi\u001b[0m\u001b[0;34m]\u001b[0m \u001b[0;34m=\u001b[0m \u001b[0mfunc\u001b[0m\u001b[0;34m(\u001b[0m\u001b[0mv\u001b[0m\u001b[0;34m)\u001b[0m\u001b[0;34m\u001b[0m\u001b[0m\n\u001b[0m\u001b[1;32m   4158\u001b[0m                     \u001b[0mkeys\u001b[0m\u001b[0;34m.\u001b[0m\u001b[0mappend\u001b[0m\u001b[0;34m(\u001b[0m\u001b[0mv\u001b[0m\u001b[0;34m.\u001b[0m\u001b[0mname\u001b[0m\u001b[0;34m)\u001b[0m\u001b[0;34m\u001b[0m\u001b[0m\n\u001b[1;32m   4159\u001b[0m             \u001b[0;32mexcept\u001b[0m \u001b[0mException\u001b[0m \u001b[0;32mas\u001b[0m \u001b[0me\u001b[0m\u001b[0;34m:\u001b[0m\u001b[0;34m\u001b[0m\u001b[0m\n",
      "\u001b[0;32m//anaconda/lib/python2.7/site-packages/pandas/core/frame.pyc\u001b[0m in \u001b[0;36minfer\u001b[0;34m(x)\u001b[0m\n\u001b[1;32m   4246\u001b[0m         \u001b[0;31m# if we have a dtype == 'M8[ns]', provide boxed values\u001b[0m\u001b[0;34m\u001b[0m\u001b[0;34m\u001b[0m\u001b[0m\n\u001b[1;32m   4247\u001b[0m         \u001b[0;32mdef\u001b[0m \u001b[0minfer\u001b[0m\u001b[0;34m(\u001b[0m\u001b[0mx\u001b[0m\u001b[0;34m)\u001b[0m\u001b[0;34m:\u001b[0m\u001b[0;34m\u001b[0m\u001b[0m\n\u001b[0;32m-> 4248\u001b[0;31m             \u001b[0;32mreturn\u001b[0m \u001b[0mlib\u001b[0m\u001b[0;34m.\u001b[0m\u001b[0mmap_infer\u001b[0m\u001b[0;34m(\u001b[0m\u001b[0mx\u001b[0m\u001b[0;34m.\u001b[0m\u001b[0masobject\u001b[0m\u001b[0;34m,\u001b[0m \u001b[0mfunc\u001b[0m\u001b[0;34m)\u001b[0m\u001b[0;34m\u001b[0m\u001b[0m\n\u001b[0m\u001b[1;32m   4249\u001b[0m \u001b[0;34m\u001b[0m\u001b[0m\n\u001b[1;32m   4250\u001b[0m         \u001b[0;32mreturn\u001b[0m \u001b[0mself\u001b[0m\u001b[0;34m.\u001b[0m\u001b[0mapply\u001b[0m\u001b[0;34m(\u001b[0m\u001b[0minfer\u001b[0m\u001b[0;34m)\u001b[0m\u001b[0;34m\u001b[0m\u001b[0m\n",
      "\u001b[0;32mpandas/src/inference.pyx\u001b[0m in \u001b[0;36mpandas.lib.map_infer (pandas/lib.c:62658)\u001b[0;34m()\u001b[0m\n",
      "\u001b[0;32m<ipython-input-33-c4ac4c79ea31>\u001b[0m in \u001b[0;36mconv_money\u001b[0;34m(x)\u001b[0m\n\u001b[1;32m      2\u001b[0m \u001b[0;34m\u001b[0m\u001b[0m\n\u001b[1;32m      3\u001b[0m \u001b[0;32mdef\u001b[0m \u001b[0mconv_money\u001b[0m\u001b[0;34m(\u001b[0m\u001b[0mx\u001b[0m\u001b[0;34m)\u001b[0m\u001b[0;34m:\u001b[0m\u001b[0;34m\u001b[0m\u001b[0m\n\u001b[0;32m----> 4\u001b[0;31m     \u001b[0mx\u001b[0m \u001b[0;34m=\u001b[0m \u001b[0mx\u001b[0m\u001b[0;34m.\u001b[0m\u001b[0msplit\u001b[0m\u001b[0;34m(\u001b[0m\u001b[0;34m'.'\u001b[0m\u001b[0;34m)\u001b[0m\u001b[0;34m\u001b[0m\u001b[0m\n\u001b[0m\u001b[1;32m      5\u001b[0m     \u001b[0;32mreturn\u001b[0m \u001b[0;34m(\u001b[0m\u001b[0mfloat\u001b[0m\u001b[0;34m(\u001b[0m\u001b[0mx\u001b[0m\u001b[0;34m[\u001b[0m\u001b[0;36m0\u001b[0m\u001b[0;34m]\u001b[0m\u001b[0;34m[\u001b[0m\u001b[0;36m1\u001b[0m\u001b[0;34m:\u001b[0m\u001b[0;34m]\u001b[0m\u001b[0;34m)\u001b[0m \u001b[0;34m+\u001b[0m \u001b[0;34m(\u001b[0m\u001b[0mfloat\u001b[0m\u001b[0;34m(\u001b[0m\u001b[0mx\u001b[0m\u001b[0;34m[\u001b[0m\u001b[0;36m1\u001b[0m\u001b[0;34m]\u001b[0m\u001b[0;34m)\u001b[0m \u001b[0;34m/\u001b[0m \u001b[0;36m100\u001b[0m\u001b[0;34m)\u001b[0m\u001b[0;34m)\u001b[0m\u001b[0;34m\u001b[0m\u001b[0m\n",
      "\u001b[0;31mAttributeError\u001b[0m: (\"'float' object has no attribute 'split'\", u'occurred at index State Bottle Cost')"
     ]
    }
   ],
   "source": [
    "# Converting columns with money value to float\n",
    "\n",
    "df[['State Bottle Cost', 'State Bottle Retail', \"Sale (Dollars)\"]] = \\\n",
    "df[['State Bottle Cost', 'State Bottle Retail', \"Sale (Dollars)\"]].applymap(conv_money)"
   ]
  },
  {
   "cell_type": "code",
   "execution_count": null,
   "metadata": {
    "collapsed": false
   },
   "outputs": [],
   "source": [
    "df['Item Description'] = df['Item Description'].apply(lambda x: x.strip())"
   ]
  },
  {
   "cell_type": "code",
   "execution_count": null,
   "metadata": {
    "collapsed": false
   },
   "outputs": [],
   "source": [
    "df.info()"
   ]
  },
  {
   "cell_type": "markdown",
   "metadata": {},
   "source": [
    "## Cleaning Zipcodes"
   ]
  },
  {
   "cell_type": "code",
   "execution_count": null,
   "metadata": {
    "collapsed": false
   },
   "outputs": [],
   "source": [
    "## Checking to see if all zipcodes have length of 5\n",
    "\n",
    "df[df['Zip Code'].apply(lambda x: len(str(x)) != 5)]"
   ]
  },
  {
   "cell_type": "code",
   "execution_count": null,
   "metadata": {
    "collapsed": false
   },
   "outputs": [],
   "source": [
    "# Since all has 5, change all to int types\n",
    "\n",
    "df[df['Zip Code'].apply(lambda x: int(x))]"
   ]
  },
  {
   "cell_type": "code",
   "execution_count": null,
   "metadata": {
    "collapsed": false
   },
   "outputs": [],
   "source": [
    "# Even all is length 5, 1 entry was '712-2'\n",
    "# Googled this, turned out to be area code, change to 51529\n",
    "\n",
    "df[df['Zip Code'].apply(lambda x: x == '712-2')]"
   ]
  },
  {
   "cell_type": "code",
   "execution_count": null,
   "metadata": {
    "collapsed": false
   },
   "outputs": [],
   "source": [
    "# Changed erroneous zipcode\n",
    "\n",
    "df.loc[df['Zip Code'] == '712-2', 'Zip Code'] = '51529'\n"
   ]
  },
  {
   "cell_type": "code",
   "execution_count": null,
   "metadata": {
    "collapsed": false
   },
   "outputs": [],
   "source": [
    "# Changed zipcodes to int type\n",
    "\n",
    "df['Zip Code'] = df['Zip Code'].apply(lambda x: int(x))"
   ]
  },
  {
   "cell_type": "code",
   "execution_count": null,
   "metadata": {
    "collapsed": false
   },
   "outputs": [],
   "source": [
    "Image(filename='/Users/student/downloads/wrong_zip_des_moines.png')"
   ]
  },
  {
   "cell_type": "code",
   "execution_count": null,
   "metadata": {
    "collapsed": false
   },
   "outputs": [],
   "source": [
    "# Correct Zip Code for Des Moines, Burlington\n",
    "\n",
    "df.loc[df['Zip Code'] == 56201, 'Zip Code'] = 52601"
   ]
  },
  {
   "cell_type": "markdown",
   "metadata": {},
   "source": [
    "## Cleaning City Values"
   ]
  },
  {
   "cell_type": "code",
   "execution_count": null,
   "metadata": {
    "collapsed": false
   },
   "outputs": [],
   "source": [
    "list(df['City'].unique())"
   ]
  },
  {
   "cell_type": "code",
   "execution_count": null,
   "metadata": {
    "collapsed": false
   },
   "outputs": [],
   "source": [
    "# There are some 'City' entries which are in lower case while the majority is in Upper Case. \n",
    "# To prevent double counting, all \"City\" entries are changed to upper case\n",
    "\n",
    "df['City'] = df['City'].apply(lambda x: x.upper())"
   ]
  },
  {
   "cell_type": "markdown",
   "metadata": {},
   "source": [
    "## Cleaning NaN County entries"
   ]
  },
  {
   "cell_type": "code",
   "execution_count": null,
   "metadata": {
    "collapsed": false
   },
   "outputs": [],
   "source": [
    "# Create a new dataframe for rows with NaNs in any cells\n",
    "\n",
    "df_nan = df[pd.isnull(df).any(axis = 1)]"
   ]
  },
  {
   "cell_type": "code",
   "execution_count": null,
   "metadata": {
    "collapsed": false
   },
   "outputs": [],
   "source": [
    "df_nan.head()"
   ]
  },
  {
   "cell_type": "code",
   "execution_count": null,
   "metadata": {
    "collapsed": false
   },
   "outputs": [],
   "source": [
    "# Printing columns that contain \"NaN\" and count the number of NaN entries per column\n",
    "\n",
    "tbc_list = []\n",
    "\n",
    "for col in df.columns:\n",
    "    x = sum(pd.isnull(df[col]))\n",
    "    if x != 0:\n",
    "        tbc_list.append(col)\n",
    "        print col, x"
   ]
  },
  {
   "cell_type": "code",
   "execution_count": null,
   "metadata": {
    "collapsed": false
   },
   "outputs": [],
   "source": [
    "# Some counties and county numbers are not filled.\n",
    "# Since \"City\" column does not contain NaN and Cities are a subset of counties,\n",
    "# we try to see if there are similar cities with non-empty county values which we can then copy to the NaN county cells\n",
    "\n",
    "\n",
    "# Create a set of Cities with NaN for county or county Number\n",
    "\n",
    "city_nan_list = list(df_nan['City'].unique())\n",
    "\n",
    "city_nan_list"
   ]
  },
  {
   "cell_type": "code",
   "execution_count": null,
   "metadata": {
    "collapsed": false
   },
   "outputs": [],
   "source": [
    "# Creating a dictionary with \"City\" as key and collecting all possible corresponding \"County\" and \"County Name\"\n",
    "# as values of the dictionary\n",
    "\n",
    "nan_cty_dict = {}\n",
    "\n",
    "for j in city_nan_list:\n",
    "    c_set = {x for x in df[df['City']==j]['County'] if x > 0} # x > 0 to skip NaN values\n",
    "    num_set = {x for x in df[df['City']==j]['County Number'] if x > 0}\n",
    "    nan_cty_dict[j] = [list(c_set), list(num_set)]\n",
    "\n",
    "nan_cty_dict"
   ]
  },
  {
   "cell_type": "code",
   "execution_count": null,
   "metadata": {
    "collapsed": false
   },
   "outputs": [],
   "source": [
    "## Replacing NaN county cells using corresponding city value as key\n",
    "\n",
    "for cty in nan_cty_dict:\n",
    "    try:\n",
    "        df.loc[df['City'] == cty, 'County'] = nan_cty_dict[cty][0][0]\n",
    "        df.loc[df['City'] == cty, \"County Number\"] = nan_cty_dict[cty][1][0]\n",
    "    except:\n",
    "        pass"
   ]
  },
  {
   "cell_type": "code",
   "execution_count": null,
   "metadata": {
    "collapsed": false
   },
   "outputs": [],
   "source": [
    "# Recreate a new df to check remaining NaN row\n",
    "df_nan = df[pd.isnull(df[['County','County Number']]).any(axis = 1)]"
   ]
  },
  {
   "cell_type": "code",
   "execution_count": null,
   "metadata": {
    "collapsed": false
   },
   "outputs": [],
   "source": [
    "# Collect cities with NaN values\n",
    "city_nan_list = list(df_nan['City'].unique())\n",
    "\n",
    "city_nan_list"
   ]
  },
  {
   "cell_type": "code",
   "execution_count": null,
   "metadata": {
    "collapsed": false
   },
   "outputs": [],
   "source": [
    "nan_cty_dict = {}\n",
    "\n",
    "for j in city_nan_list:\n",
    "    c_set = {x for x in df[df['City']==j]['County']} # x > 0 to skip NaN values\n",
    "    num_set = {x for x in df[df['City']==j]['County Number']}\n",
    "    nan_cty_dict[j] = [list(c_set), list(num_set)]\n",
    "\n",
    "nan_cty_dict"
   ]
  },
  {
   "cell_type": "code",
   "execution_count": null,
   "metadata": {
    "collapsed": false
   },
   "outputs": [],
   "source": [
    "# Updating counties by hand\n",
    "\n",
    "df.loc[df['City'] == 'TABOR', 'County'] = 'Fremont'\n",
    "df.loc[df['City'] == 'RUNNELLS', 'County'] = 'Polk'\n",
    "df.loc[df['City'] == 'SEYMOUR', 'County'] = 'Wayne'"
   ]
  },
  {
   "cell_type": "code",
   "execution_count": null,
   "metadata": {
    "collapsed": true
   },
   "outputs": [],
   "source": [
    "# Recreate a new df to check remaining NaN row\n",
    "df_nan = df[pd.isnull(df['County'])]"
   ]
  },
  {
   "cell_type": "code",
   "execution_count": null,
   "metadata": {
    "collapsed": false
   },
   "outputs": [],
   "source": [
    "len(df_nan)"
   ]
  },
  {
   "cell_type": "markdown",
   "metadata": {},
   "source": [
    "#### Comments:\n",
    "\n",
    "Remaining 12 rows with empty counties were filled manually. Without a reference of how county numbers were developed, we left the empty county numbers empty. Analyses based on counties will be performed on 'County' instead of 'County Number'."
   ]
  },
  {
   "cell_type": "markdown",
   "metadata": {},
   "source": [
    "# ---------------------------------------------------------------"
   ]
  },
  {
   "cell_type": "markdown",
   "metadata": {},
   "source": [
    "## Cleaning Empty Category Name using Item Decription"
   ]
  },
  {
   "cell_type": "code",
   "execution_count": null,
   "metadata": {
    "collapsed": false
   },
   "outputs": [],
   "source": [
    "df_nan = df[pd.isnull(df['Category Name'])]\n",
    "print len(df_nan)\n",
    "df_nan"
   ]
  },
  {
   "cell_type": "code",
   "execution_count": null,
   "metadata": {
    "collapsed": false
   },
   "outputs": [],
   "source": [
    "# Create a list of \"Item Description\" with NaN in rows\n",
    "item_nan_list = list(df_nan['Item Description'].unique())\n",
    "\n",
    "item_nan_list"
   ]
  },
  {
   "cell_type": "code",
   "execution_count": null,
   "metadata": {
    "collapsed": false
   },
   "outputs": [],
   "source": [
    "item_dict = {}\n",
    "\n",
    "for j in item_nan_list:\n",
    "    c_set = {x for x in df[df['Item Description']==j]['Category Name'] if x > 0}\n",
    "    item_dict[j] = list(c_set)\n",
    "\n",
    "item_dict"
   ]
  },
  {
   "cell_type": "code",
   "execution_count": null,
   "metadata": {
    "collapsed": false
   },
   "outputs": [],
   "source": [
    "for drink in item_dict:\n",
    "    try:\n",
    "        df.loc[df['Item Description'] == drink, 'Category Name'] = item_dict[drink][0]\n",
    "    except:\n",
    "        pass"
   ]
  },
  {
   "cell_type": "code",
   "execution_count": null,
   "metadata": {
    "collapsed": false
   },
   "outputs": [],
   "source": [
    "df_nan = df[pd.isnull(df['Category Name'])]\n",
    "print len(df_nan)\n",
    "df_nan"
   ]
  },
  {
   "cell_type": "code",
   "execution_count": null,
   "metadata": {
    "collapsed": false
   },
   "outputs": [],
   "source": [
    "df_nan['Item Description'].unique()"
   ]
  },
  {
   "cell_type": "code",
   "execution_count": null,
   "metadata": {
    "collapsed": true
   },
   "outputs": [],
   "source": [
    "package = ['Jack Daniels TN Honey & Jack Daniels TN Fire 750mls w/2Gls', \\\n",
    "           'Bombay Sapphire w/Glass', \\\n",
    "           'Evan Williams Egg Nog', \\\n",
    "           'Pinnacle Candy Cane Trial Pack', \\\n",
    "           'Wild Turkey American Honey Shot Tap', \\\n",
    "           'Knob Creek w/ Crystal Decanter' \\\n",
    "          ]\n",
    "\n",
    "for i in package:\n",
    "    \n",
    "    df.loc[df['Item Description'] == i,'Category Name'] = 'DECANTERS & SPECIALTY PACKAGES'"
   ]
  },
  {
   "cell_type": "code",
   "execution_count": null,
   "metadata": {
    "collapsed": true
   },
   "outputs": [],
   "source": [
    "df.loc[df['Item Description'] == 'Woodford Reserve MC 1838 White Corn',\\\n",
    "       'Category Name'] = 'CORN WHISKIES'\n",
    "\n",
    "df.loc[df['Item Description'] == 'Hudson New York Corn',\\\n",
    "       'Category Name'] = 'CORN WHISKIES'"
   ]
  },
  {
   "cell_type": "code",
   "execution_count": null,
   "metadata": {
    "collapsed": true
   },
   "outputs": [],
   "source": [
    "lique = ['Rothman & Winter Orchard Peach', \\\n",
    "         'Giffard Creme de Pamplemousse Rose Pink Grapefruit Liqueur', \\\n",
    "         'Pearl Caramel', \\\n",
    "         'Tiramisu Italian Liqueur', \\\n",
    "         'The Bitter Truth Apricot Liqueur', \\\n",
    "         'The Bitter Truth Violet Liqueur', \\\n",
    "         'Kahlua Mocha', \\\n",
    "         \"Dr. McGillicuddy's Mentholmint\", \\\n",
    "         'Alize Blue', \\\n",
    "         'The Kings Ginger', \\\n",
    "         'Courvoisier Gold', \\\n",
    "         'Grand Marnier Cuvee 1880 HA', \\\n",
    "         'Cocoyac Excellence' \\\n",
    "        ]\n",
    "\n",
    "for i in lique:\n",
    "    df.loc[df['Item Description'] == i,'Category Name'] ='MISC. IMPORTED CORDIALS & LIQUEURS'"
   ]
  },
  {
   "cell_type": "code",
   "execution_count": null,
   "metadata": {
    "collapsed": true
   },
   "outputs": [],
   "source": [
    "scotch = ['Westland American Single Malt', \\\n",
    "          'Westland Peated Single Malt', \\\n",
    "          'Westland Sherry Wood Single Malt', \\\n",
    "          'Glenfiddich 1963 Replica HA' \\\n",
    "         ]\n",
    "\n",
    "for s in scotch:\n",
    "    \n",
    "    df.loc[df['Item Description'] == s, \\\n",
    "           'Category Name' \\\n",
    "          ] ='SINGLE MALT SCOTCH'"
   ]
  },
  {
   "cell_type": "code",
   "execution_count": null,
   "metadata": {
    "collapsed": true
   },
   "outputs": [],
   "source": [
    "df.loc[df['Item Description'] == 'Parkers Heritage Collection Malt Whiskey HA',\\\n",
    "       'Category Name'] = \"STRAIGHT BOURBON WHISKIES\"\n",
    "\n",
    "df.loc[ \\\n",
    "       df[ \\\n",
    "          'Item Description' \\\n",
    "         ] == \\\n",
    "       'Chivas Regal 18YR Tin HA', \\\n",
    "       'Category Name' \\\n",
    "       ] = 'BLENDED WHISKIES'\n"
   ]
  },
  {
   "cell_type": "code",
   "execution_count": null,
   "metadata": {
    "collapsed": false
   },
   "outputs": [],
   "source": [
    "vod = ['High Stick Vodka', \\\n",
    "       'Ciroc Ten HA', \\\n",
    "       'Ultimat Vodka', \\\n",
    "       'Karlssons Gold Vodka' \\\n",
    "      ]\n",
    "\n",
    "for i in vod:\n",
    "    \n",
    "    df.loc[df['Item Description'] == i,'Category Name'] = 'IMPORTED VODKA'\n",
    "\n",
    "df.loc[df['Item Description'] == 'Absolut Black 100', 'Category Name'] = '100 PROOF VODKA'\n",
    "\n",
    "fvod = ['Van Gogh Rich Dark Chocolate Vodka', \\\n",
    "        'Absolut w/Ginger Beer', \\\n",
    "        'Van Gogh Chocolate Vodka', \\\n",
    "        'Svedka Strawberry Lemonade Vodka', \\\n",
    "        'Van Gogh Coconut', \\\n",
    "        'Alize Gold' \\\n",
    "       ]\n",
    "\n",
    "for f in fvod:\n",
    "    \n",
    "    df.loc[df['Item Description'] == f, 'Category Name'] = 'VODKA FLAVORED'\n",
    "    \n",
    "    \n",
    "df.loc[df['Item Description'] == 'Twenty Grand Gold',\\\n",
    "       'Category Name'] = 'VODKA 80 PROOF'"
   ]
  },
  {
   "cell_type": "code",
   "execution_count": null,
   "metadata": {
    "collapsed": true
   },
   "outputs": [],
   "source": [
    "teq = ['Del Maguey San Luis Del Rio', \\\n",
    "       \"Hussong's Reposado Tequila 100% Agave\" \\\n",
    "      ]\n",
    "\n",
    "for t in teq:\n",
    "    \n",
    "    df.loc[df['Item Description'] == t, 'Category Name'] = 'TEQUILA'"
   ]
  },
  {
   "cell_type": "code",
   "execution_count": null,
   "metadata": {
    "collapsed": true
   },
   "outputs": [],
   "source": [
    "df.loc[df['Item Description'] == 'Kraken Black Mini', 'Category Name'] = 'SPICED RUM'\n",
    "\n",
    "df.loc[df['Item Description'] == 'The Bitter Truth Pimento Dram', 'Category Name'] = 'JAMAICA RUM'\n",
    "\n",
    "\n",
    "\n",
    "rum = ['Rondiaz Coconut Rum', 'Calico Tropical Punch Jack Rum' \"Whaler's Original Dark Rum\"]\n",
    "\n",
    "for r in rum:\n",
    "    \n",
    "    df.loc[df['Item Description'] == r, 'Category Name'] = 'FLAVORED RUM'"
   ]
  },
  {
   "cell_type": "code",
   "execution_count": null,
   "metadata": {
    "collapsed": true
   },
   "outputs": [],
   "source": [
    "df.loc[df['Item Description'] == 'St. George Absinthe Verte', 'Category Name'] = 'DISTILLED SPIRITS SPECIALTY'"
   ]
  },
  {
   "cell_type": "code",
   "execution_count": null,
   "metadata": {
    "collapsed": true
   },
   "outputs": [],
   "source": [
    "brandy = ['Christian Drouin Calvados Selcetion',\\\n",
    "          'Terry Centenario' \\\n",
    "         ]\n",
    "\n",
    "for b in brandy:\n",
    "    df.loc[df['Item Description'] == b, 'Category Name'] = 'IMPORTED GRAPE BRANDIES'"
   ]
  },
  {
   "cell_type": "code",
   "execution_count": null,
   "metadata": {
    "collapsed": true
   },
   "outputs": [],
   "source": [
    "df.loc[df['Item Description'] == 'Anchor Old Tom Gin', 'Category Name'] = 'AMERICAN DRY GINS'"
   ]
  },
  {
   "cell_type": "code",
   "execution_count": null,
   "metadata": {
    "collapsed": false
   },
   "outputs": [],
   "source": [
    "df.loc[df['Item Description'] == 'Gamle Ode Celebration Aquavit', 'Category Name'] = 'MISCELLANEOUS SCHNAPPS'\n",
    "\n",
    "df.loc[df['Item Description'] == 'Gamle Ode Holiday', 'Category Name'] = 'MISCELLANEOUS SCHNAPPS'"
   ]
  },
  {
   "cell_type": "markdown",
   "metadata": {},
   "source": [
    "#### Comments:\n",
    "\n",
    "There are still cells in 'Category' with NaN values, however, since we will only be using \"Category Name\" for analyses, NaNs in 'Category' were not cleaned."
   ]
  },
  {
   "cell_type": "markdown",
   "metadata": {},
   "source": [
    "## Exploring and Mining the data"
   ]
  },
  {
   "cell_type": "markdown",
   "metadata": {},
   "source": [
    "### Creating new features"
   ]
  },
  {
   "cell_type": "markdown",
   "metadata": {},
   "source": [
    "### Year"
   ]
  },
  {
   "cell_type": "code",
   "execution_count": null,
   "metadata": {
    "collapsed": false
   },
   "outputs": [],
   "source": [
    "df['Sale Year'] = df['Date'].dt.year"
   ]
  },
  {
   "cell_type": "markdown",
   "metadata": {},
   "source": [
    "### Month"
   ]
  },
  {
   "cell_type": "code",
   "execution_count": null,
   "metadata": {
    "collapsed": false
   },
   "outputs": [],
   "source": [
    "df['Sale Month'] = df['Date'].dt.month"
   ]
  },
  {
   "cell_type": "markdown",
   "metadata": {},
   "source": [
    "### Bottle Gross Profit"
   ]
  },
  {
   "cell_type": "code",
   "execution_count": null,
   "metadata": {
    "collapsed": true
   },
   "outputs": [],
   "source": [
    "df['Bottle Gross Profit'] = df['State Bottle Retail'] - df['State Bottle Cost']"
   ]
  },
  {
   "cell_type": "markdown",
   "metadata": {},
   "source": [
    "### Gross Profit"
   ]
  },
  {
   "cell_type": "code",
   "execution_count": null,
   "metadata": {
    "collapsed": true
   },
   "outputs": [],
   "source": [
    "df['Gross Profit'] = df['Bottle Gross Profit'] * df['Bottles Sold']"
   ]
  },
  {
   "cell_type": "code",
   "execution_count": null,
   "metadata": {
    "collapsed": false
   },
   "outputs": [],
   "source": [
    "df.head(2)"
   ]
  },
  {
   "cell_type": "markdown",
   "metadata": {},
   "source": [
    "### Splitting dataset by year to account for seasonality effect"
   ]
  },
  {
   "cell_type": "code",
   "execution_count": null,
   "metadata": {
    "collapsed": false
   },
   "outputs": [],
   "source": [
    "# Creating a new df for 2015 and 2016 separately\n",
    "\n",
    "# Used as training data\n",
    "df_15 = df[df['Sale Year'] == 2015]\n",
    "\n",
    "# Used as testing data\n",
    "df_16 = df[df['Sale Year'] == 2016]"
   ]
  },
  {
   "cell_type": "code",
   "execution_count": null,
   "metadata": {
    "collapsed": false
   },
   "outputs": [],
   "source": [
    "# Pivoting data frame based on county\n",
    "\n",
    "county_15 = pd.pivot_table(df, \\\n",
    "                           index = ['County'], \\\n",
    "                           values = [\\\n",
    "                                     'State Bottle Retail', \\\n",
    "                                     'Bottles Sold', \\\n",
    "                                     'Sale (Dollars)', \\\n",
    "                                     'Gross Profit', \\\n",
    "                                     'Store Number' \\\n",
    "                                     ], \\\n",
    "                           aggfunc = [\\\n",
    "                                      np.sum, \\\n",
    "                                      np.mean, \\\n",
    "                                      pd.Series.nunique, \\\n",
    "                                      len \\\n",
    "                                     ] \\\n",
    "                           ).sort_values( \\\n",
    "                                         [('sum', \\\n",
    "                                           'Sale (Dollars)' \\\n",
    "                                           )], \\\n",
    "                                         ascending = False \\\n",
    "                                        )\n",
    "\n",
    "county_15.reset_index(inplace=True)\n",
    "county_15.head()"
   ]
  },
  {
   "cell_type": "code",
   "execution_count": null,
   "metadata": {
    "collapsed": false
   },
   "outputs": [],
   "source": [
    "len(df_15), len(df)"
   ]
  },
  {
   "cell_type": "code",
   "execution_count": null,
   "metadata": {
    "collapsed": false
   },
   "outputs": [],
   "source": [
    "df_15['Store Number'].count()"
   ]
  },
  {
   "cell_type": "code",
   "execution_count": null,
   "metadata": {
    "collapsed": false
   },
   "outputs": [],
   "source": [
    "# Extracting relevant columns into a new df\n",
    "\n",
    "county_15_new = pd.concat([county_15['County'], \\\n",
    "                           county_15[('sum', 'Sale (Dollars)')], \\\n",
    "                           county_15[('sum', 'Gross Profit')], \\\n",
    "                           county_15[('sum', 'Bottles Sold')], \\\n",
    "                           county_15[('mean', 'State Bottle Retail')], \\\n",
    "                           county_15[('nunique', 'Store Number')], \\\n",
    "                           county_15[('len', 'Bottles Sold')]], \\\n",
    "                          axis = 1)\n",
    "\n",
    "county_15_new.columns = ['County', \\\n",
    "                         'Sum Sale',\\\n",
    "                         'Sum Gross Profit', \\\n",
    "                         'Sum Bottles Sold', \\\n",
    "                         \"Avg Bottle Price\", \\\n",
    "                         \"Number of stores\", \\\n",
    "                         \"No. Trans\" \\\n",
    "                        ]\n",
    "\n",
    "county_15_new['Avg Bottle Price'] = county_15_new['Avg Bottle Price'].apply(lambda x: round(x, 2))\n",
    "\n",
    "county_15_new.sort_values(['Sum Sale'], ascending = False, inplace=True)\n",
    "\n",
    "county_15_new.head(10)"
   ]
  },
  {
   "cell_type": "code",
   "execution_count": null,
   "metadata": {
    "collapsed": false
   },
   "outputs": [],
   "source": [
    "county_15_new.describe()"
   ]
  },
  {
   "cell_type": "markdown",
   "metadata": {},
   "source": [
    "### Plotting total sale of each county for top 15 counties in descending sale"
   ]
  },
  {
   "cell_type": "code",
   "execution_count": null,
   "metadata": {
    "collapsed": false
   },
   "outputs": [],
   "source": [
    "ax = county_15_new.head(10).plot(x = 'County', kind = \"bar\", y = 'Sum Sale', figsize = (15,8))\n",
    "\n",
    "ax.set_title('Total Sales in top 10 Counties in 2015 IOWA')\n",
    "ax.set_xlabel('County')\n",
    "ax.set_yticklabels(['$0', \\\n",
    "                    '$1,000,000', \\\n",
    "                    '$2,000,000', \\\n",
    "                    '$3,000,000', \\\n",
    "                    '$4,000,000', \\\n",
    "                    '$5,000,000', \\\n",
    "                    '$6,000,000', \\\n",
    "                    '$7,000,000', \\\n",
    "                    '$8,000,000'], \\\n",
    "                   fontsize = 12 \\\n",
    "                  )\n",
    "\n",
    "plt.savefig('top10_counties_total_sales_bar.png');"
   ]
  },
  {
   "cell_type": "markdown",
   "metadata": {},
   "source": [
    "#### Comments:\n",
    "\n",
    "In 2015, Polk had, by far, the highest sales and profit (see below) in all counties in IOWA, over 2 times the next highest county, Linn."
   ]
  },
  {
   "cell_type": "markdown",
   "metadata": {},
   "source": [
    "### Plotting top 10 IOWA counties with highest Gross Profit in 2015"
   ]
  },
  {
   "cell_type": "code",
   "execution_count": null,
   "metadata": {
    "collapsed": false
   },
   "outputs": [],
   "source": [
    "# Plotting total gross profit of each county for top 15 counties in descending sale\n",
    "\n",
    "ax = county_15_new.head(10).plot(x = 'County', kind = \"bar\", y = 'Sum Gross Profit', figsize = (15,8))\n",
    "\n",
    "ax.set_title('Total Gross Profit in top 10 Counties in 2015 IOWA')\n",
    "ax.set_xlabel('County')\n",
    "ax.set_yticklabels(['$0', \\\n",
    "                    '$500,000', \\\n",
    "                    '$1,000,000', \\\n",
    "                    '$1,500,000', \\\n",
    "                    '$2,000,000', \\\n",
    "                    '$2,500,000', \\\n",
    "                    '$3,000,000' \\\n",
    "                   ], \\\n",
    "                   fontsize = 12 \\\n",
    "                  )\n",
    "plt.savefig('top10_counties_gross_profit_bar.png');"
   ]
  },
  {
   "cell_type": "markdown",
   "metadata": {},
   "source": [
    "### Plotting number of stores for top 10 sales (profit) counties"
   ]
  },
  {
   "cell_type": "code",
   "execution_count": null,
   "metadata": {
    "collapsed": false
   },
   "outputs": [],
   "source": [
    "ax = county_15_new.head(10).plot(x = 'County', kind = \"bar\", y = 'Number of stores', figsize = (15,8))\n",
    "\n",
    "ax.set_title('Number of stores in top 10 highest sale Counties in 2015 IOWA')\n",
    "\n",
    "plt.savefig('top10_counties_store_number_bar.png')"
   ]
  },
  {
   "cell_type": "markdown",
   "metadata": {},
   "source": [
    "### Pivoting data based on county"
   ]
  },
  {
   "cell_type": "code",
   "execution_count": null,
   "metadata": {
    "collapsed": false
   },
   "outputs": [],
   "source": [
    "df_15.head()"
   ]
  },
  {
   "cell_type": "code",
   "execution_count": null,
   "metadata": {
    "collapsed": false
   },
   "outputs": [],
   "source": [
    "# Pivoting based on store number\n",
    "\n",
    "st = pd.pivot_table(df_15, index = ['Store Number', \\\n",
    "                                    'County' \\\n",
    "                                   ], \\\n",
    "                    values = ['Bottles Sold', \\\n",
    "                              'Sale (Dollars)', \\\n",
    "                              'Gross Profit', \\\n",
    "                              'Bottle Gross Profit', \\\n",
    "                              'State Bottle Retail' \\\n",
    "                              ], \\\n",
    "                    aggfunc = [np.sum, \\\n",
    "                               np.mean, \\\n",
    "                               len] \\\n",
    "                    ).sort_values([('sum', 'Sale (Dollars)')], ascending = False)\n",
    "\n",
    "st.reset_index(inplace=True)\n",
    "\n",
    "st.head()                 "
   ]
  },
  {
   "cell_type": "code",
   "execution_count": null,
   "metadata": {
    "collapsed": false
   },
   "outputs": [],
   "source": [
    "# Extracting relevant columns into a new df\n",
    "\n",
    "st_n = pd.concat([st['Store Number'], \\\n",
    "                  st['County'], \\\n",
    "                  st[('sum', 'Sale (Dollars)')], \\\n",
    "                  st[('sum', 'Gross Profit')], \\\n",
    "                  st[('sum', 'Bottles Sold')], \\\n",
    "                  st[('mean', 'State Bottle Retail')], \\\n",
    "                  st[('mean', 'Bottle Gross Profit')], \\\n",
    "                  st[('len', 'Bottles Sold')]\n",
    "                  ],\\\n",
    "                 axis = 1)\n",
    "\n",
    "st_n.columns = ['Store Number',\\\n",
    "                'County', \\\n",
    "                'Sum Sale', \\\n",
    "                'Sum Profit', \\\n",
    "                'Sum Bottles Sold', \\\n",
    "                \"Avg Bottle Price\", \\\n",
    "                \"Avg Bottle Profit\", \\\n",
    "                \"No. Trans\" \\\n",
    "               ]\n",
    "\n",
    "st_n['Avg Bottle Price'] = st_n['Avg Bottle Price'].apply(lambda x: round(x, 2))\n",
    "\n",
    "st_n.sort_values(['Sum Sale'], ascending = False, inplace=True)\n",
    "\n",
    "st_n.head(10)"
   ]
  },
  {
   "cell_type": "code",
   "execution_count": null,
   "metadata": {
    "collapsed": false
   },
   "outputs": [],
   "source": [
    "st_n.describe()"
   ]
  },
  {
   "cell_type": "code",
   "execution_count": null,
   "metadata": {
    "collapsed": false
   },
   "outputs": [],
   "source": [
    "import seaborn as sns\n",
    "sns.pairplot(st_n)\n",
    "plt.savefig('pairplot.png');"
   ]
  },
  {
   "cell_type": "markdown",
   "metadata": {},
   "source": [
    "### Demonstrating skewness in sales data"
   ]
  },
  {
   "cell_type": "code",
   "execution_count": null,
   "metadata": {
    "collapsed": false
   },
   "outputs": [],
   "source": [
    "# Plotting histogram for sale per store in 2015\n",
    "\n",
    "ax = st_n['Sum Sale'].hist(bins = 2000, figsize = (15,8))\n",
    "ax.set_title('Histogram for total sales per store 2015 IOWA', y = 1.01)\n",
    "plt.savefig('total_sales_hist_skewed.png');"
   ]
  },
  {
   "cell_type": "markdown",
   "metadata": {},
   "source": [
    "#### Comments:\n",
    "\n",
    "Extreme outliers exists in sale per store data. There is a small representation near \\$10,000,000 (1.0 e7) yearly sale. 75% of stores made less than \\$200,000 (0.02 e7) in 2015."
   ]
  },
  {
   "cell_type": "code",
   "execution_count": null,
   "metadata": {
    "collapsed": false
   },
   "outputs": [],
   "source": [
    "# Display sale performance of lower 75% of stores\n",
    "\n",
    "ax = st_n['Sum Sale'].hist(bins = 2000, figsize = (15,8))\n",
    "ax.set_xlim([0,200000])\n",
    "ax.set_title('Histogram for total sales per store (Zoomed)', y = 1.01)\n",
    "plt.savefig('total_sales_hist_zoomed.png');"
   ]
  },
  {
   "cell_type": "code",
   "execution_count": null,
   "metadata": {
    "collapsed": false
   },
   "outputs": [],
   "source": [
    "# Plotting number of bottles sold vs sale for each store in IOWA in 2015\n",
    "\n",
    "ax = st_n.plot(kind = 'scatter', x = 'Sum Bottles Sold', y = 'Sum Sale',\\\n",
    "                  s = 200, alpha = 0.3, figsize = (15,8))\n",
    "ax.set_title('Number of bottles sold vs sale for each liquor store in 2015 IOWA ', y = 1.01)\n",
    "plt.savefig('bottles_vs_sale.png');"
   ]
  },
  {
   "cell_type": "code",
   "execution_count": null,
   "metadata": {
    "collapsed": false
   },
   "outputs": [],
   "source": [
    "# View of outliers\n",
    "\n",
    "st_n[st_n['Sum Bottles Sold'] >= 100000]"
   ]
  },
  {
   "cell_type": "code",
   "execution_count": null,
   "metadata": {
    "collapsed": false
   },
   "outputs": [],
   "source": [
    "print \"Mean total sale per store across state is\", \"$\" + str(round(st_n['Sum Sale'].mean(), 2))\n",
    "print \"Median total sale per store across state is\", \"$\" + str(round(st_n['Sum Sale'].median(), 2))\n",
    "print \"Standard deviation of total sale per store across state is\", \"$\" + str(round(st_n['Sum Sale'].std(), 2))\n",
    "print\n",
    "\n",
    "print \"Mean total bottles sold per store across state is\", round(st_n['Sum Bottles Sold'].mean(), 2), \"bottles.\"\n",
    "print \"Median total bottles sold per store across state is\", round(st_n['Sum Bottles Sold'].median(), 2), \"bottles.\"\n",
    "print \"Standard deviation of total bottles sold per store across state is\", round(st_n['Sum Bottles Sold'].std(), 2), \"bottles.\""
   ]
  },
  {
   "cell_type": "markdown",
   "metadata": {},
   "source": [
    "## Best = Maximum total sale or Highest average sale?"
   ]
  },
  {
   "cell_type": "markdown",
   "metadata": {},
   "source": [
    "### Maximum total sales\n",
    "\n",
    "Using maximum total sale as the indicative performance metric for a \"good\" location, we see that Polk County, is the overwhelming favourite location. As we saw from the earlier data exploration, the reasons for Polk's stellar performance was mainly due to:\n",
    "\n",
    "   1) The presence of 2 extreme outlying stores, with annual sale of between \\$9 to \\$10mil, 50 times more than 75% of all stores.\n",
    "\n",
    "   2) 208 stores in Polk, twice as many as the next highest county, Linn with 104. 75% of of the counties have 13 or less stores.\n",
    "\n",
    "We envision that a client with strong financials, proven management record and liquor-store expertise, with the desire to gain market share, would be interested in establishing a presence in Polk.\n",
    "\n",
    "### Highest average sales\n",
    "\n",
    "Another metric to describe liquor sale performance for a county is to consider the average store sale within the county and to pick the county with the \"Highest average\" sale.\n",
    "\n",
    "In the case of a smaller scale expansion, \"Highest average\" is recommended, giving a more balanced consideration to competition and market size."
   ]
  },
  {
   "cell_type": "markdown",
   "metadata": {},
   "source": [
    "## Using median as average due to presence of strong outliers"
   ]
  },
  {
   "cell_type": "code",
   "execution_count": null,
   "metadata": {
    "collapsed": false
   },
   "outputs": [],
   "source": [
    "# Pivoting based on county\n",
    "\n",
    "st_piv = pd.pivot_table(st_n, \\\n",
    "                        index = ['County'], \\\n",
    "                        aggfunc = [ \\\n",
    "                                   sum, \\\n",
    "                                   np.median, \\\n",
    "                                   pd.Series.nunique \\\n",
    "                                  ] \\\n",
    "                        ).sort_values(\\\n",
    "                                      [('median', \\\n",
    "                                        'Sum Sale') \\\n",
    "                                      ], \\\n",
    "                                      ascending = False \\\n",
    "                                      )\n",
    "st_piv.reset_index(inplace=True)\n",
    "\n",
    "st_piv.head(2)"
   ]
  },
  {
   "cell_type": "code",
   "execution_count": null,
   "metadata": {
    "collapsed": false
   },
   "outputs": [],
   "source": [
    "# Selecting required columns to view county performance based on median\n",
    "\n",
    "median_county = pd.concat([st_piv['County'], \\\n",
    "                           st_piv[('sum', 'Sum Sale')], \\\n",
    "                           st_piv[('sum', 'Sum Profit')], \\\n",
    "                           st_piv[('sum', 'Sum Bottles Sold')], \\\n",
    "                           st_piv[('median', 'Sum Sale')], \\\n",
    "                           st_piv[('median', 'Sum Profit')], \\\n",
    "                           st_piv[('median', 'Sum Bottles Sold')], \\\n",
    "                           st_piv[('median', 'Avg Bottle Price')], \\\n",
    "                           st_piv[('median', 'Avg Bottle Profit')], \\\n",
    "                           st_piv[('median', 'No. Trans')], \\\n",
    "                           st_piv[('nunique', 'Store Number')], \\\n",
    "                           st_piv[('sum', 'No. Trans')]], \\\n",
    "                          axis = 1)\n",
    "\n",
    "# Renaming the columns\n",
    "\n",
    "median_county.columns = ['County', \\\n",
    "                         'Sum Sale', \\\n",
    "                         'Sum Profit', \\\n",
    "                         'Sum Bottles Sold', \\\n",
    "                         'Median Sale', \\\n",
    "                         'Median Profit', \\\n",
    "                         \"Median Bottles Sold\", \\\n",
    "                         \"Median Bottle Price\", \\\n",
    "                         \"Median Bottle Profit\", \\\n",
    "                         \"Median No. Trans\", \\\n",
    "                         'No. of stores',\\\n",
    "                         'No. of trans']\n",
    "\n",
    "median_county.sort_values(['Median Sale'], ascending = False, inplace=True)\n",
    "\n",
    "median_county.head(10)"
   ]
  },
  {
   "cell_type": "code",
   "execution_count": null,
   "metadata": {
    "collapsed": false
   },
   "outputs": [],
   "source": [
    "median_county.sort_values('Median Profit', ascending = False).head(10)"
   ]
  },
  {
   "cell_type": "markdown",
   "metadata": {},
   "source": [
    "### Comments:\n",
    "\n",
    "Top 10 counties in sales were also top 10 in gross profit (same positions)"
   ]
  },
  {
   "cell_type": "code",
   "execution_count": null,
   "metadata": {
    "collapsed": true
   },
   "outputs": [],
   "source": [
    "# Adding a column of mean bottles per transaction\n",
    "\n",
    "median_county[\"Mean bottles per trans\"] = median_county['Sum Bottles Sold'] / median_county['No. of trans']"
   ]
  },
  {
   "cell_type": "markdown",
   "metadata": {},
   "source": [
    "## Adding additional data: County Population (2010) and County Area"
   ]
  },
  {
   "cell_type": "markdown",
   "metadata": {},
   "source": [
    "[Source](https://en.wikipedia.org/wiki/List_of_counties_in_Iowa)"
   ]
  },
  {
   "cell_type": "code",
   "execution_count": null,
   "metadata": {
    "collapsed": false
   },
   "outputs": [],
   "source": [
    "#Importing demographics data\n",
    "\n",
    "df_demo = pd.read_csv('iowa_demographics.csv')\n",
    "df_demo.head()"
   ]
  },
  {
   "cell_type": "code",
   "execution_count": null,
   "metadata": {
    "collapsed": false
   },
   "outputs": [],
   "source": [
    "# Cleaning County column\n",
    "df_demo['County'] = df_demo['County'].apply(lambda x: x.split()[0])\n",
    "df_demo.head()"
   ]
  },
  {
   "cell_type": "code",
   "execution_count": null,
   "metadata": {
    "collapsed": true
   },
   "outputs": [],
   "source": [
    "# Cleaning Population column\n",
    "\n",
    "df_demo['Population'] = df_demo['Population'].astype(int)"
   ]
  },
  {
   "cell_type": "code",
   "execution_count": null,
   "metadata": {
    "collapsed": false
   },
   "outputs": [],
   "source": [
    "# Extracting only the numeric value of land area\n",
    "\n",
    "df_demo['Area'] = df_demo['Area'].apply(lambda x: float(x.split('\\xff')[0]))"
   ]
  },
  {
   "cell_type": "markdown",
   "metadata": {},
   "source": [
    "### Concatenating County sales data to county demographic data"
   ]
  },
  {
   "cell_type": "code",
   "execution_count": null,
   "metadata": {
    "collapsed": false
   },
   "outputs": [],
   "source": [
    "# Sorting county dataframe into ascending alphabetical order\n",
    "\n",
    "median_county.sort_values('County', inplace = True)\n",
    "median_county.head(2)"
   ]
  },
  {
   "cell_type": "code",
   "execution_count": null,
   "metadata": {
    "collapsed": false
   },
   "outputs": [],
   "source": [
    "# Concatenating the 2 dataframes then sorting by median sale descending\n",
    "\n",
    "median_county = pd.concat([median_county, df_demo.iloc[:, 1:]], axis = 1)\n",
    "median_county.sort_values('Median Sale', ascending = False, inplace = True)\n",
    "median_county.head(2)"
   ]
  },
  {
   "cell_type": "code",
   "execution_count": null,
   "metadata": {
    "collapsed": false
   },
   "outputs": [],
   "source": [
    "# Adding additional columns of new features to data:\n",
    "# Area per store\n",
    "# Population per store\n",
    "\n",
    "median_county['Area per store'] = median_county['Area'] / median_county['No. of stores']\n",
    "median_county['Population per store'] = median_county['Population'] / median_county['No. of stores']\n",
    "median_county.head()"
   ]
  },
  {
   "cell_type": "code",
   "execution_count": null,
   "metadata": {
    "collapsed": false
   },
   "outputs": [],
   "source": [
    "median_county.describe()"
   ]
  },
  {
   "cell_type": "code",
   "execution_count": null,
   "metadata": {
    "collapsed": false
   },
   "outputs": [],
   "source": [
    "# Extracting median population per store\n",
    "\n",
    "print \"Median population per store is\", np.median(median_county['Population per store'])\n",
    "print \"Median area per store is\", np.median(median_county['Area per store'])"
   ]
  },
  {
   "cell_type": "markdown",
   "metadata": {},
   "source": [
    "### Re-visiting counties with highest sales now that we have demographics supplements"
   ]
  },
  {
   "cell_type": "code",
   "execution_count": null,
   "metadata": {
    "collapsed": false
   },
   "outputs": [],
   "source": [
    "# Showing highest sum sale for comparison with demographics data\n",
    "\n",
    "median_county.sort_values('Sum Sale', ascending = False).head(10)"
   ]
  },
  {
   "cell_type": "markdown",
   "metadata": {},
   "source": [
    "#### Comments:\n",
    "\n",
    "Median for population per store is about 2300, while mean stood at about 4700. Median and mean for area per store are 81 and 99 sq miles. Constrast this with the top 10 counties with highest total sales, where almost none came close to these values."
   ]
  },
  {
   "cell_type": "markdown",
   "metadata": {},
   "source": [
    "### Examining highest population and area per store - Largest potential market size?"
   ]
  },
  {
   "cell_type": "code",
   "execution_count": null,
   "metadata": {
    "collapsed": false
   },
   "outputs": [],
   "source": [
    "median_county.sort_values('Population per store', ascending = False).head(10)"
   ]
  },
  {
   "cell_type": "code",
   "execution_count": null,
   "metadata": {
    "collapsed": false
   },
   "outputs": [],
   "source": [
    "median_county.sort_values('Area per store', ascending = False).head(10)"
   ]
  },
  {
   "cell_type": "markdown",
   "metadata": {},
   "source": [
    "#### Comments:\n",
    "\n",
    "Counties with the highest population per store have rather low median sale. This means that while there seemingly large potential in terms of customer base, these counties may not have the highest target audience composition within their population, so may not be ideal candidates."
   ]
  },
  {
   "cell_type": "code",
   "execution_count": null,
   "metadata": {
    "collapsed": false
   },
   "outputs": [],
   "source": [
    "ax = median_county.head(10).plot(x = 'County', kind = \"bar\", \\\n",
    "                                 y = 'Median Sale', figsize = (15,8))\n",
    "\n",
    "ax.set_title('Yearly Median Sale per store in top 10 Counties in 2015 IOWA', y = 1.05)\n",
    "ax.set_xlabel('County')\n",
    "ax.set_yticklabels(['$0', \\\n",
    "                    '$50,000', \\\n",
    "                    '$100,000', \\\n",
    "                    '$150,000', \\\n",
    "                    '$200,000', \\\n",
    "                    '$250,000', \\\n",
    "                    '$300,000' \\\n",
    "                   ], \\\n",
    "                   fontsize = 12 \\\n",
    "                  )\n",
    "plt.savefig('top10_median_sales.png');"
   ]
  },
  {
   "cell_type": "code",
   "execution_count": null,
   "metadata": {
    "collapsed": false
   },
   "outputs": [],
   "source": [
    "ax = median_county.head(10).plot(x = 'County', kind = \"bar\", \\\n",
    "                                 y = 'Median Profit', figsize = (15,8))\n",
    "\n",
    "ax.set_title('Yearly Median Profit per store in top 10 Counties in 2015 IOWA', y = 1.05)\n",
    "ax.set_xlabel('County')\n",
    "ax.set_yticklabels(['$0', \\\n",
    "                    '$20,000', \\\n",
    "                    '$40,000', \\\n",
    "                    '$60,000', \\\n",
    "                    '$80,000', \\\n",
    "                    '$100,000' \\\n",
    "                   ], \\\n",
    "                   fontsize = 12 \\\n",
    "                  )\n",
    "plt.savefig('Top10_median_profit.png');"
   ]
  },
  {
   "cell_type": "code",
   "execution_count": null,
   "metadata": {
    "collapsed": false
   },
   "outputs": [],
   "source": [
    "# Display new performance positions of previous top 3 counties\n",
    "\n",
    "median_county[(median_county['County'] == 'Polk')|\\\n",
    "              (median_county['County'] == 'Linn')|\\\n",
    "              (median_county['County'] == 'Scott')]"
   ]
  },
  {
   "cell_type": "code",
   "execution_count": 2,
   "metadata": {
    "collapsed": false
   },
   "outputs": [
    {
     "ename": "NameError",
     "evalue": "name 'median_county' is not defined",
     "output_type": "error",
     "traceback": [
      "\u001b[0;31m---------------------------------------------------------------------------\u001b[0m",
      "\u001b[0;31mNameError\u001b[0m                                 Traceback (most recent call last)",
      "\u001b[0;32m<ipython-input-2-da3249365b7d>\u001b[0m in \u001b[0;36m<module>\u001b[0;34m()\u001b[0m\n\u001b[1;32m      1\u001b[0m \u001b[0;32mimport\u001b[0m \u001b[0mnumpy\u001b[0m \u001b[0;32mas\u001b[0m \u001b[0mnp\u001b[0m\u001b[0;34m\u001b[0m\u001b[0m\n\u001b[1;32m      2\u001b[0m \u001b[0;34m\u001b[0m\u001b[0m\n\u001b[0;32m----> 3\u001b[0;31m \u001b[0mnp\u001b[0m\u001b[0;34m.\u001b[0m\u001b[0mmean\u001b[0m\u001b[0;34m(\u001b[0m\u001b[0mmedian_county\u001b[0m\u001b[0;34m[\u001b[0m\u001b[0;34m'No. of stores'\u001b[0m\u001b[0;34m]\u001b[0m\u001b[0;34m)\u001b[0m\u001b[0;34m\u001b[0m\u001b[0m\n\u001b[0m",
      "\u001b[0;31mNameError\u001b[0m: name 'median_county' is not defined"
     ]
    }
   ],
   "source": [
    "import numpy as np\n",
    "\n",
    "np.mean(median_county['No. of stores'])"
   ]
  },
  {
   "cell_type": "markdown",
   "metadata": {},
   "source": [
    "#### Comments:\n",
    "\n",
    "Due to the presence of outliers, using mean would distort the data significantly. We see that using median as a metric shows a completely different list of top performing counties.\n",
    "\n",
    "Interesting to note that from overwhelmingly high positions, Polk, Linn and Scott, are not even in the top 20 counties in median yearly sale (52nd, 55th and 18th position respectively)."
   ]
  },
  {
   "cell_type": "markdown",
   "metadata": {},
   "source": [
    "## Modelling"
   ]
  },
  {
   "cell_type": "markdown",
   "metadata": {},
   "source": [
    "### County : Winneshiek (Top Median sale) - using 2015 first 3 months to train model"
   ]
  },
  {
   "cell_type": "code",
   "execution_count": 647,
   "metadata": {
    "collapsed": false
   },
   "outputs": [],
   "source": [
    "# Filtering the df for data from first 3 months of 2015\n",
    "\n",
    "dfm = df_15[((df_15['Sale Month'] == 1)|(df_15['Sale Month'] == 2)|(df_15['Sale Month'] == 3))\\\n",
    "        & (df_15['County'] == \"Winneshiek\")]"
   ]
  },
  {
   "cell_type": "code",
   "execution_count": 648,
   "metadata": {
    "collapsed": false
   },
   "outputs": [
    {
     "data": {
      "text/html": [
       "<div>\n",
       "<table border=\"1\" class=\"dataframe\">\n",
       "  <thead>\n",
       "    <tr>\n",
       "      <th></th>\n",
       "      <th>Store Number</th>\n",
       "      <th colspan=\"9\" halign=\"left\">sum</th>\n",
       "      <th>...</th>\n",
       "      <th colspan=\"10\" halign=\"left\">len</th>\n",
       "    </tr>\n",
       "    <tr>\n",
       "      <th></th>\n",
       "      <th></th>\n",
       "      <th>Bottle Gross Profit</th>\n",
       "      <th>Bottle Volume (ml)</th>\n",
       "      <th>Bottles Sold</th>\n",
       "      <th>Category</th>\n",
       "      <th>County Number</th>\n",
       "      <th>Gross Profit</th>\n",
       "      <th>Item Number</th>\n",
       "      <th>Sale (Dollars)</th>\n",
       "      <th>Sale Month</th>\n",
       "      <th>...</th>\n",
       "      <th>Item Number</th>\n",
       "      <th>Sale (Dollars)</th>\n",
       "      <th>Sale Month</th>\n",
       "      <th>Sale Year</th>\n",
       "      <th>State Bottle Cost</th>\n",
       "      <th>State Bottle Retail</th>\n",
       "      <th>Vendor Number</th>\n",
       "      <th>Volume Sold (Gallons)</th>\n",
       "      <th>Volume Sold (Liters)</th>\n",
       "      <th>Zip Code</th>\n",
       "    </tr>\n",
       "  </thead>\n",
       "  <tbody>\n",
       "    <tr>\n",
       "      <th>0</th>\n",
       "      <td>3721</td>\n",
       "      <td>3310.48</td>\n",
       "      <td>782250</td>\n",
       "      <td>6774</td>\n",
       "      <td>672069881.0</td>\n",
       "      <td>61824.0</td>\n",
       "      <td>32561.10</td>\n",
       "      <td>28701014</td>\n",
       "      <td>97350.48</td>\n",
       "      <td>1302</td>\n",
       "      <td>...</td>\n",
       "      <td>644</td>\n",
       "      <td>644.0</td>\n",
       "      <td>644</td>\n",
       "      <td>644</td>\n",
       "      <td>644.0</td>\n",
       "      <td>644.0</td>\n",
       "      <td>644</td>\n",
       "      <td>644.0</td>\n",
       "      <td>644.0</td>\n",
       "      <td>644</td>\n",
       "    </tr>\n",
       "    <tr>\n",
       "      <th>1</th>\n",
       "      <td>4183</td>\n",
       "      <td>2568.56</td>\n",
       "      <td>532875</td>\n",
       "      <td>4493</td>\n",
       "      <td>541255468.0</td>\n",
       "      <td>49728.0</td>\n",
       "      <td>20984.06</td>\n",
       "      <td>24587159</td>\n",
       "      <td>62630.69</td>\n",
       "      <td>1069</td>\n",
       "      <td>...</td>\n",
       "      <td>518</td>\n",
       "      <td>518.0</td>\n",
       "      <td>518</td>\n",
       "      <td>518</td>\n",
       "      <td>518.0</td>\n",
       "      <td>518.0</td>\n",
       "      <td>518</td>\n",
       "      <td>518.0</td>\n",
       "      <td>518.0</td>\n",
       "      <td>518</td>\n",
       "    </tr>\n",
       "    <tr>\n",
       "      <th>2</th>\n",
       "      <td>3819</td>\n",
       "      <td>2913.23</td>\n",
       "      <td>611100</td>\n",
       "      <td>4344</td>\n",
       "      <td>606786878.0</td>\n",
       "      <td>55680.0</td>\n",
       "      <td>19121.24</td>\n",
       "      <td>26243445</td>\n",
       "      <td>57013.70</td>\n",
       "      <td>1160</td>\n",
       "      <td>...</td>\n",
       "      <td>580</td>\n",
       "      <td>580.0</td>\n",
       "      <td>580</td>\n",
       "      <td>580</td>\n",
       "      <td>580.0</td>\n",
       "      <td>580.0</td>\n",
       "      <td>580</td>\n",
       "      <td>580.0</td>\n",
       "      <td>580.0</td>\n",
       "      <td>580</td>\n",
       "    </tr>\n",
       "    <tr>\n",
       "      <th>3</th>\n",
       "      <td>4818</td>\n",
       "      <td>910.87</td>\n",
       "      <td>192850</td>\n",
       "      <td>2450</td>\n",
       "      <td>213368865.0</td>\n",
       "      <td>19776.0</td>\n",
       "      <td>8794.12</td>\n",
       "      <td>7540075</td>\n",
       "      <td>26349.60</td>\n",
       "      <td>413</td>\n",
       "      <td>...</td>\n",
       "      <td>206</td>\n",
       "      <td>206.0</td>\n",
       "      <td>206</td>\n",
       "      <td>206</td>\n",
       "      <td>206.0</td>\n",
       "      <td>206.0</td>\n",
       "      <td>206</td>\n",
       "      <td>206.0</td>\n",
       "      <td>206.0</td>\n",
       "      <td>206</td>\n",
       "    </tr>\n",
       "    <tr>\n",
       "      <th>4</th>\n",
       "      <td>4762</td>\n",
       "      <td>1768.45</td>\n",
       "      <td>434875</td>\n",
       "      <td>1743</td>\n",
       "      <td>379812724.0</td>\n",
       "      <td>34848.0</td>\n",
       "      <td>8525.34</td>\n",
       "      <td>16391426</td>\n",
       "      <td>25498.43</td>\n",
       "      <td>712</td>\n",
       "      <td>...</td>\n",
       "      <td>363</td>\n",
       "      <td>363.0</td>\n",
       "      <td>363</td>\n",
       "      <td>363</td>\n",
       "      <td>363.0</td>\n",
       "      <td>363.0</td>\n",
       "      <td>363</td>\n",
       "      <td>363.0</td>\n",
       "      <td>363.0</td>\n",
       "      <td>363</td>\n",
       "    </tr>\n",
       "  </tbody>\n",
       "</table>\n",
       "<p>5 rows × 54 columns</p>\n",
       "</div>"
      ],
      "text/plain": [
       "  Store Number                 sum                                  \\\n",
       "               Bottle Gross Profit Bottle Volume (ml) Bottles Sold   \n",
       "0         3721             3310.48             782250         6774   \n",
       "1         4183             2568.56             532875         4493   \n",
       "2         3819             2913.23             611100         4344   \n",
       "3         4818              910.87             192850         2450   \n",
       "4         4762             1768.45             434875         1743   \n",
       "\n",
       "                                                                      \\\n",
       "      Category County Number Gross Profit Item Number Sale (Dollars)   \n",
       "0  672069881.0       61824.0     32561.10    28701014       97350.48   \n",
       "1  541255468.0       49728.0     20984.06    24587159       62630.69   \n",
       "2  606786878.0       55680.0     19121.24    26243445       57013.70   \n",
       "3  213368865.0       19776.0      8794.12     7540075       26349.60   \n",
       "4  379812724.0       34848.0      8525.34    16391426       25498.43   \n",
       "\n",
       "               ...            len                                      \\\n",
       "  Sale Month   ...    Item Number Sale (Dollars) Sale Month Sale Year   \n",
       "0       1302   ...            644          644.0        644       644   \n",
       "1       1069   ...            518          518.0        518       518   \n",
       "2       1160   ...            580          580.0        580       580   \n",
       "3        413   ...            206          206.0        206       206   \n",
       "4        712   ...            363          363.0        363       363   \n",
       "\n",
       "                                                                             \\\n",
       "  State Bottle Cost State Bottle Retail Vendor Number Volume Sold (Gallons)   \n",
       "0             644.0               644.0           644                 644.0   \n",
       "1             518.0               518.0           518                 518.0   \n",
       "2             580.0               580.0           580                 580.0   \n",
       "3             206.0               206.0           206                 206.0   \n",
       "4             363.0               363.0           363                 363.0   \n",
       "\n",
       "                                 \n",
       "  Volume Sold (Liters) Zip Code  \n",
       "0                644.0      644  \n",
       "1                518.0      518  \n",
       "2                580.0      580  \n",
       "3                206.0      206  \n",
       "4                363.0      363  \n",
       "\n",
       "[5 rows x 54 columns]"
      ]
     },
     "execution_count": 648,
     "metadata": {},
     "output_type": "execute_result"
    }
   ],
   "source": [
    "dfm_piv = pd.pivot_table(dfm, \\\n",
    "                         index = ['Store Number'], \\\n",
    "                         aggfunc = [\\\n",
    "                                    sum, \\\n",
    "                                    np.median, \\\n",
    "                                    len \\\n",
    "                                   ] \\\n",
    "                         ).sort_values([('sum', \\\n",
    "                                         'Sale (Dollars)')], \\\n",
    "                                       ascending = False \\\n",
    "                                       )\n",
    "dfm_piv.reset_index(inplace=True)\n",
    "\n",
    "dfm_piv.head()"
   ]
  },
  {
   "cell_type": "code",
   "execution_count": 649,
   "metadata": {
    "collapsed": true
   },
   "outputs": [],
   "source": [
    "dfmm = pd.concat([dfm_piv[('median', 'State Bottle Cost')], \\\n",
    "                  dfm_piv[('median', 'State Bottle Retail')], \\\n",
    "                  dfm_piv[('median', 'Bottle Gross Profit')], \\\n",
    "                  dfm_piv[('sum', 'Bottles Sold')], \\\n",
    "                  dfm_piv[('sum', 'Volume Sold (Gallons)')], \\\n",
    "                  dfm_piv[('len', 'Item Number')] \\\n",
    "                  ], \\\n",
    "                 axis = 1 \\\n",
    "                )\n",
    "\n",
    "# Renaming the columns\n",
    "\n",
    "dfmm.columns = [\"Median Bottle Cost\", \\\n",
    "                \"Median Bottle Price\", \\\n",
    "                'Median Bottle Profit', \\\n",
    "                'Sum Bottles sold', \\\n",
    "                'Sum Volume sold', \\\n",
    "                'No. of trans' \\\n",
    "               ]"
   ]
  },
  {
   "cell_type": "code",
   "execution_count": 650,
   "metadata": {
    "collapsed": true
   },
   "outputs": [],
   "source": [
    "# Filtering the df for data from last 9 months of 2015\n",
    "\n",
    "dft = df_15[((df_15['Sale Month'] != 1)|(df_15['Sale Month'] != 2)|(df_15['Sale Month'] != 3))\\\n",
    "        & (df_15['County'] == \"Winneshiek\")]"
   ]
  },
  {
   "cell_type": "code",
   "execution_count": 651,
   "metadata": {
    "collapsed": true
   },
   "outputs": [],
   "source": [
    "dft_piv = pd.pivot_table(dft, \\\n",
    "                         index = ['Store Number'], \\\n",
    "                         aggfunc = [sum, \\\n",
    "                                    np.median, \\\n",
    "                                    len] \\\n",
    "                         ).sort_values([('sum', \\\n",
    "                                         'Sale (Dollars)')], \\\n",
    "                                       ascending = False \\\n",
    "                                       )\n",
    "dft_piv.reset_index(inplace=True)"
   ]
  },
  {
   "cell_type": "code",
   "execution_count": 652,
   "metadata": {
    "collapsed": false
   },
   "outputs": [
    {
     "data": {
      "text/plain": [
       "count         5.000000\n",
       "mean     256984.608000\n",
       "std      154357.007622\n",
       "min      104634.380000\n",
       "25%      111496.730000\n",
       "50%      282036.820000\n",
       "75%      312466.050000\n",
       "max      474289.060000\n",
       "Name: (sum, Sale (Dollars)), dtype: float64"
      ]
     },
     "execution_count": 652,
     "metadata": {},
     "output_type": "execute_result"
    }
   ],
   "source": [
    "dft_piv[('sum', 'Sale (Dollars)')].describe()"
   ]
  },
  {
   "cell_type": "code",
   "execution_count": 653,
   "metadata": {
    "collapsed": false
   },
   "outputs": [],
   "source": [
    "\n",
    "\n",
    "dftt = pd.concat([dft_piv[('median', 'State Bottle Cost')], \\\n",
    "                  dft_piv[('median', 'State Bottle Retail')], \\\n",
    "                  dft_piv[('median', 'Bottle Gross Profit')], \\\n",
    "                  dft_piv[('sum', 'Bottles Sold')], \\\n",
    "                  dft_piv[('sum', 'Volume Sold (Gallons)')], \\\n",
    "                  dft_piv[('len', 'Item Number')] \\\n",
    "                  ], \\\n",
    "                 axis = 1 \\\n",
    "                )\n",
    "\n",
    "\n",
    "# Renaming the columns\n",
    "\n",
    "dftt.columns = [\"Median Bottle Cost\", \\\n",
    "                \"Median Bottle Price\", \\\n",
    "                'Median Bottle Profit', \\\n",
    "                'Sum Bottles sold', \\\n",
    "                'Sum Volume sold', \\\n",
    "                'No. of trans' \\\n",
    "               ]"
   ]
  },
  {
   "cell_type": "markdown",
   "metadata": {},
   "source": [
    "### Using pure linear regression"
   ]
  },
  {
   "cell_type": "code",
   "execution_count": 654,
   "metadata": {
    "collapsed": false
   },
   "outputs": [
    {
     "name": "stdout",
     "output_type": "stream",
     "text": [
      "r2 =  0.668567643514\n",
      "MSE = 6317388610.56\n",
      "RMSE = 79482.0\n",
      "\n",
      "Coefficients:\n",
      "Median Bottle Cost : -5318.14368825\n",
      "Median Bottle Price : -8010.34860718\n",
      "Median Bottle Profit : -2828.49281531\n",
      "Sum Bottles sold : -11.0849183433\n",
      "Sum Volume sold : 83.8130635505\n",
      "No. of trans : 58.1543146409\n"
     ]
    }
   ],
   "source": [
    "X = dfmm\n",
    "y = dfm_piv[('sum', 'Sale (Dollars)')]\n",
    "\n",
    "lm = linear_model.LinearRegression()\n",
    "lm.fit(X,y)\n",
    "\n",
    "pred = lm.predict(dftt)\n",
    "print \"r2 = \", r2_score(dft_piv[('sum', 'Sale (Dollars)')], pred)\n",
    "print \"MSE =\", mean_squared_error(dft_piv[('sum', 'Sale (Dollars)')], pred)\n",
    "print \"RMSE =\", round(np.sqrt(mean_squared_error(dft_piv[('sum', 'Sale (Dollars)')], pred)), 2)\n",
    "\n",
    "print\n",
    "print \"Coefficients:\" \n",
    "\n",
    "for i,j in zip(dftt.columns, lm.coef_):\n",
    "    print i, ':', j"
   ]
  },
  {
   "cell_type": "markdown",
   "metadata": {},
   "source": [
    "## Using RidgeCV"
   ]
  },
  {
   "cell_type": "code",
   "execution_count": 655,
   "metadata": {
    "collapsed": false
   },
   "outputs": [
    {
     "name": "stdout",
     "output_type": "stream",
     "text": [
      "Chosen alpha = 1e-08\n",
      "r2 =  0.66856774738\n",
      "MSE = 6317386630.79\n",
      "RMSE = 79481.99\n",
      "\n",
      "Coefficients:\n",
      "Median Bottle Cost : -5318.14295748\n",
      "Median Bottle Price : -8010.34750647\n",
      "Median Bottle Profit : -2828.49242664\n",
      "Sum Bottles sold : -11.0849167183\n",
      "Sum Volume sold : 83.813059032\n",
      "No. of trans : 58.1543044643\n"
     ]
    }
   ],
   "source": [
    "al = [0.00000001,0.00001,0.0001, 0.001, 0.01, 0.1, 0.2, 0.3, 0.5, 0.7, 1.0, 5.0, 10.0, 20.0]\n",
    "\n",
    "rcv = linear_model.RidgeCV(alphas = al, cv = 5)\n",
    "rcv.fit(X,y)\n",
    "\n",
    "pred_rcv = rcv.predict(dftt)\n",
    "\n",
    "print \"Chosen alpha =\", rcv.alpha_\n",
    "print \"r2 = \", r2_score(dft_piv[('sum', 'Sale (Dollars)')], pred_rcv)\n",
    "print \"MSE =\", mean_squared_error(dft_piv[('sum', 'Sale (Dollars)')], pred_rcv)\n",
    "print \"RMSE =\", round(np.sqrt(mean_squared_error(dft_piv[('sum', 'Sale (Dollars)')], pred_rcv)), 2)\n",
    "\n",
    "print\n",
    "print \"Coefficients:\" \n",
    "\n",
    "for i,j in zip(dftt.columns, rcv.coef_):\n",
    "    print i, ':', j"
   ]
  },
  {
   "cell_type": "code",
   "execution_count": 656,
   "metadata": {
    "collapsed": false
   },
   "outputs": [
    {
     "data": {
      "image/png": "[encoded data removed]",
      "text/plain": [
       "<matplotlib.figure.Figure at 0x13af43cd0>"
      ]
     },
     "metadata": {},
     "output_type": "display_data"
    }
   ],
   "source": [
    "fig, axes = plt.subplots(1,2, figsize=(16,8))\n",
    "\n",
    "axes[0].scatter(pred, dft_piv[('sum', 'Sale (Dollars)')], c='red', s = 200)\n",
    "axes[0].plot([0, 700000], [0, 700000], ls=\"--\", c='gray')\n",
    "\n",
    "axes[1].scatter(pred_rcv, dft_piv[('sum', 'Sale (Dollars)')], c='b', s = 200)\n",
    "axes[1].plot([0, 700000], [0, 700000], ls=\"--\", c='gray')\n",
    "\n",
    "\n",
    "axes[0].set_title('Linear Model')\n",
    "axes[0].set_ylabel('Actual')\n",
    "axes[0].set_xlabel('Predicted')\n",
    "\n",
    "axes[1].set_title('RidgeCV Model')\n",
    "axes[1].set_ylabel('Actual')\n",
    "axes[1].set_xlabel('Predicted')\n",
    "\n",
    "plt.savefig('reg_15Q1_pred_15Q234.png');"
   ]
  },
  {
   "cell_type": "markdown",
   "metadata": {},
   "source": [
    "#### Comments:\n",
    "\n",
    "We see that using a RidgeCV regularization with 5 fold cross-validation, didn't change the performance of the model compared to a pure Linear Regression model. Chosen alpha is almost zero (1 e-8). Model's performance is rather poor, with r^2 of about 0.67 and a RMSE of about \\$79,500. This error is considerable as it is based on a dataset with range of \\$104,000 to \\$474,000.\n",
    "\n",
    "The main reason this is so is because the model was developed with a training set with 3 months of data and was used to predict performance for 9 month. That is why the scatterplots are all below the y=x line, since the model should alway under-predict the actual values."
   ]
  },
  {
   "cell_type": "markdown",
   "metadata": {},
   "source": [
    "### Using the 2015 Q1 models to predict 2016 Q1 performance"
   ]
  },
  {
   "cell_type": "code",
   "execution_count": 657,
   "metadata": {
    "collapsed": false
   },
   "outputs": [],
   "source": [
    "# Filtering the df for data from first 3 months of 2016\n",
    "\n",
    "dfn = df_16[df_16['County'] == \"Winneshiek\"]"
   ]
  },
  {
   "cell_type": "code",
   "execution_count": 658,
   "metadata": {
    "collapsed": true
   },
   "outputs": [],
   "source": [
    "dfn_piv = pd.pivot_table(dfn, \\\n",
    "                         index = ['Store Number'], \\\n",
    "                         aggfunc = [sum, \\\n",
    "                                    np.median, \\\n",
    "                                    len] \\\n",
    "                         ).sort_values([('sum', \\\n",
    "                                         'Sale (Dollars)')], \\\n",
    "                                       ascending = False \\\n",
    "                                       )\n",
    "dfn_piv.reset_index(inplace=True)\n"
   ]
  },
  {
   "cell_type": "code",
   "execution_count": 659,
   "metadata": {
    "collapsed": false
   },
   "outputs": [
    {
     "data": {
      "text/plain": [
       "count         5.000000\n",
       "mean      58775.738000\n",
       "std       33146.578574\n",
       "min       22731.510000\n",
       "25%       29772.860000\n",
       "50%       66412.200000\n",
       "75%       70926.260000\n",
       "max      104035.860000\n",
       "Name: (sum, Sale (Dollars)), dtype: float64"
      ]
     },
     "execution_count": 659,
     "metadata": {},
     "output_type": "execute_result"
    }
   ],
   "source": [
    "dfn_piv[('sum', 'Sale (Dollars)')].describe()"
   ]
  },
  {
   "cell_type": "code",
   "execution_count": 660,
   "metadata": {
    "collapsed": true
   },
   "outputs": [],
   "source": [
    "\n",
    "dfnn = pd.concat([dfn_piv[('median', 'State Bottle Cost')], \\\n",
    "                  dfn_piv[('median', 'State Bottle Retail')], \\\n",
    "                  dfn_piv[('median', 'Bottle Gross Profit')], \\\n",
    "                  dfn_piv[('sum', 'Bottles Sold')], \\\n",
    "                  dfn_piv[('sum', 'Volume Sold (Gallons)')], \\\n",
    "                  dfn_piv[('len', 'Item Number')] \\\n",
    "                  ], \\\n",
    "                 axis = 1 \\\n",
    "                )\n",
    "\n",
    "\n",
    "# Renaming the columns\n",
    "\n",
    "dfnn.columns = [\"Median Bottle Cost\", \\\n",
    "                \"Median Bottle Price\", \\\n",
    "                'Median Bottle Profit', \\\n",
    "                'Sum Bottles sold', \\\n",
    "                'Sum Volume sold', \\\n",
    "                'No. of trans' \\\n",
    "               ]"
   ]
  },
  {
   "cell_type": "code",
   "execution_count": 661,
   "metadata": {
    "collapsed": false
   },
   "outputs": [
    {
     "name": "stdout",
     "output_type": "stream",
     "text": [
      "r2 =  0.891762493843\n",
      "MSE = 95136063.5765\n",
      "RMSE = 9753.77176156\n"
     ]
    }
   ],
   "source": [
    "pred16 = lm.predict(dfnn)\n",
    "print \"r2 = \", r2_score(dfn_piv[('sum', 'Sale (Dollars)')], pred16)\n",
    "print \"MSE =\", mean_squared_error(dfn_piv[('sum', 'Sale (Dollars)')], pred16)\n",
    "print \"RMSE =\", np.sqrt(mean_squared_error(dfn_piv[('sum', 'Sale (Dollars)')], pred16))"
   ]
  },
  {
   "cell_type": "code",
   "execution_count": 662,
   "metadata": {
    "collapsed": false
   },
   "outputs": [
    {
     "name": "stdout",
     "output_type": "stream",
     "text": [
      "Chosen alpha = 1e-08\n",
      "r2 =  0.891762524055\n",
      "MSE = 95136037.0219\n",
      "RMSE = 9753.77\n",
      "\n",
      "Coefficients =\n",
      "Median Bottle Cost : -5318.14295748\n",
      "Median Bottle Price : -8010.34750647\n",
      "Median Bottle Profit : -2828.49242664\n",
      "Sum Bottles sold : -11.0849167183\n",
      "Sum Volume sold : 83.813059032\n",
      "No. of trans : 58.1543044643\n"
     ]
    }
   ],
   "source": [
    "pred_rcv16 = rcv.predict(dfnn)\n",
    "\n",
    "print \"Chosen alpha =\", rcv.alpha_\n",
    "print \"r2 = \", r2_score(dfn_piv[('sum', 'Sale (Dollars)')], pred_rcv16)\n",
    "print \"MSE =\", mean_squared_error(dfn_piv[('sum', 'Sale (Dollars)')], pred_rcv16)\n",
    "print \"RMSE =\", round(np.sqrt(mean_squared_error(dfn_piv[('sum', 'Sale (Dollars)')], pred_rcv16)), 2)\n",
    "print\n",
    "print \"Coefficients =\" \n",
    "\n",
    "for i,j in zip(dfnn.columns, rcv.coef_):\n",
    "    print i, ':', j"
   ]
  },
  {
   "cell_type": "code",
   "execution_count": 663,
   "metadata": {
    "collapsed": false
   },
   "outputs": [
    {
     "data": {
      "image/png": "[encoded data removed]",
      "text/plain": [
       "<matplotlib.figure.Figure at 0x13b235ed0>"
      ]
     },
     "metadata": {},
     "output_type": "display_data"
    }
   ],
   "source": [
    "fig, axes = plt.subplots(1,2, figsize=(16,8))\n",
    "\n",
    "axes[0].scatter(pred16, dfn_piv[('sum', 'Sale (Dollars)')], c='red', s = 200)\n",
    "axes[0].plot([0, 140000], [0, 140000], ls=\"--\", c='gray')\n",
    "\n",
    "axes[1].scatter(pred_rcv16, dfn_piv[('sum', 'Sale (Dollars)')], c='b', s = 200)\n",
    "axes[1].plot([0, 140000], [0, 140000], ls=\"--\", c='gray')\n",
    "\n",
    "\n",
    "axes[0].set_title('Linear Model')\n",
    "axes[0].set_ylabel('Actual')\n",
    "axes[0].set_xlabel('Predicted')\n",
    "\n",
    "axes[1].set_title('RidgeCV Model')\n",
    "axes[1].set_ylabel('Actual')\n",
    "axes[1].set_xlabel('Predicted')\n",
    "\n",
    "plt.savefig('reg_15Q1_pred_16Q1.png');"
   ]
  },
  {
   "cell_type": "markdown",
   "metadata": {},
   "source": [
    "#### Comments:\n",
    "\n",
    "Performance of the same model on 2016 Q1 data is much better. RMSE reduced by a factor of about 7, about \\$9,700 for predicted range of \\$22,700 to \\$104,000. RidgeCV is again chosing an alpha of almost zero, and we see high values for coefficients.\n",
    "\n",
    "One possible reason for this could be the lack of data points in this county. With only 5 stores in the county, linear regression should not be used for modelling."
   ]
  },
  {
   "cell_type": "markdown",
   "metadata": {},
   "source": [
    "## Modelling for Polk (with outliers removed)"
   ]
  },
  {
   "cell_type": "code",
   "execution_count": 664,
   "metadata": {
    "collapsed": false
   },
   "outputs": [],
   "source": [
    "# Filtering the df for data from first 3 months of 2015\n",
    "\n",
    "dfp = df_15[((df_15['Sale Month'] == 1)|(df_15['Sale Month'] == 2)|(df_15['Sale Month'] == 3))\\\n",
    "        & (df_15['County'] == \"Polk\")]"
   ]
  },
  {
   "cell_type": "code",
   "execution_count": 665,
   "metadata": {
    "collapsed": false
   },
   "outputs": [],
   "source": [
    "dfp_piv = pd.pivot_table(dfp, \\\n",
    "                         index = ['Store Number'], \\\n",
    "                         aggfunc = [\\\n",
    "                                    sum, \\\n",
    "                                    np.median, \\\n",
    "                                    len \\\n",
    "                                   ] \\\n",
    "                         ).sort_values([('sum', \\\n",
    "                                         'Sale (Dollars)')], \\\n",
    "                                       ascending = False \\\n",
    "                                       )\n",
    "dfp_piv.reset_index(inplace=True)"
   ]
  },
  {
   "cell_type": "code",
   "execution_count": 666,
   "metadata": {
    "collapsed": false
   },
   "outputs": [
    {
     "data": {
      "text/plain": [
       "185"
      ]
     },
     "execution_count": 666,
     "metadata": {},
     "output_type": "execute_result"
    }
   ],
   "source": [
    "# Setting positive and negative threshold for Polk data\n",
    "# Removing data with sale volume over 3 SD above and below mean (keeping 99% of data)\n",
    "\n",
    "threshold_p = dfp_piv[('sum', 'Bottles Sold')].mean() + (3 * dfp_piv[('sum', 'Bottles Sold')].std())\n",
    "threshold_n = dfp_piv[('sum', 'Bottles Sold')].mean() - (3 * dfp_piv[('sum', 'Bottles Sold')].std())\n",
    "\n",
    "outlier = dfp_piv[(dfp_piv[('sum', 'Bottles Sold')] >= threshold_p)|((dfp_piv[('sum', 'Bottles Sold')]) <= threshold_n)]\n",
    "\n",
    "dfp_piv = dfp_piv[(dfp_piv[('sum', 'Bottles Sold')] < threshold_p)&((dfp_piv[('sum', 'Bottles Sold')]) > threshold_n)]\n",
    "len(dfp_piv)"
   ]
  },
  {
   "cell_type": "code",
   "execution_count": 667,
   "metadata": {
    "collapsed": false
   },
   "outputs": [],
   "source": [
    "out_list = list(outlier['Store Number'])"
   ]
  },
  {
   "cell_type": "code",
   "execution_count": 668,
   "metadata": {
    "collapsed": true
   },
   "outputs": [],
   "source": [
    "dfpp = pd.concat([dfp_piv[('median', 'State Bottle Cost')], \\\n",
    "                  dfp_piv[('median', 'State Bottle Retail')], \\\n",
    "                  dfp_piv[('median', 'Bottle Gross Profit')], \\\n",
    "                  dfp_piv[('sum', 'Bottles Sold')], \\\n",
    "                  dfp_piv[('sum', 'Volume Sold (Gallons)')], \\\n",
    "                  dfp_piv[('len', 'Item Number')] \\\n",
    "                  ], \\\n",
    "                 axis = 1 \\\n",
    "                )\n",
    "\n",
    "# Renaming the columns\n",
    "\n",
    "dfpp.columns = [\"Median Bottle Cost\", \\\n",
    "                \"Median Bottle Price\", \\\n",
    "                'Median Bottle Profit', \\\n",
    "                'Sum Bottles sold', \\\n",
    "                'Sum Volume sold', \\\n",
    "                'No. of trans' \\\n",
    "               ]"
   ]
  },
  {
   "cell_type": "code",
   "execution_count": 669,
   "metadata": {
    "collapsed": false
   },
   "outputs": [
    {
     "data": {
      "text/plain": [
       "185"
      ]
     },
     "execution_count": 669,
     "metadata": {},
     "output_type": "execute_result"
    }
   ],
   "source": [
    "len(dfpp)"
   ]
  },
  {
   "cell_type": "code",
   "execution_count": 670,
   "metadata": {
    "collapsed": true
   },
   "outputs": [],
   "source": [
    "# Creating Polk test dataset, 2016 Q1 numbers\n",
    "\n",
    "dfpt = df_16[df_16['County'] == \"Polk\"]\n",
    "\n",
    "# Remove stores which were outliers in 2015\n",
    "dfpt = dfpt[dfpt['Store Number'].apply(lambda x: False if x in out_list else True)]\n",
    "\n",
    "dfpt_piv = pd.pivot_table(dfpt, \\\n",
    "                         index = ['Store Number'], \\\n",
    "                         aggfunc = [sum, \\\n",
    "                                    np.median, \\\n",
    "                                    len] \\\n",
    "                         ).sort_values([('sum', \\\n",
    "                                         'Sale (Dollars)')], \\\n",
    "                                       ascending = False \\\n",
    "                                       )\n",
    "dfpt_piv.reset_index(inplace=True)"
   ]
  },
  {
   "cell_type": "code",
   "execution_count": 671,
   "metadata": {
    "collapsed": false
   },
   "outputs": [
    {
     "data": {
      "text/plain": [
       "count       185.000000\n",
       "mean      50901.804703\n",
       "std       71254.555663\n",
       "min        2954.490000\n",
       "25%       11526.070000\n",
       "50%       19921.920000\n",
       "75%       54648.510000\n",
       "max      343369.750000\n",
       "Name: (sum, Sale (Dollars)), dtype: float64"
      ]
     },
     "execution_count": 671,
     "metadata": {},
     "output_type": "execute_result"
    }
   ],
   "source": [
    "dfpt_piv[('sum', 'Sale (Dollars)')].describe()"
   ]
  },
  {
   "cell_type": "code",
   "execution_count": 672,
   "metadata": {
    "collapsed": false
   },
   "outputs": [],
   "source": [
    "\n",
    "\n",
    "dfptt = pd.concat([dfpt_piv[('median', 'State Bottle Cost')], \\\n",
    "                  dfpt_piv[('median', 'State Bottle Retail')], \\\n",
    "                  dfpt_piv[('median', 'Bottle Gross Profit')], \\\n",
    "                  dfpt_piv[('sum', 'Bottles Sold')], \\\n",
    "                  dfpt_piv[('sum', 'Volume Sold (Gallons)')], \\\n",
    "                  dfpt_piv[('len', 'Item Number')] \\\n",
    "                  ], \\\n",
    "                 axis = 1 \\\n",
    "                )\n",
    "\n",
    "\n",
    "# Renaming the columns\n",
    "\n",
    "dfptt.columns = [\"Median Bottle Cost\", \\\n",
    "                \"Median Bottle Price\", \\\n",
    "                'Median Bottle Profit', \\\n",
    "                'Sum Bottles sold', \\\n",
    "                'Sum Volume sold', \\\n",
    "                'No. of trans' \\\n",
    "               ]"
   ]
  },
  {
   "cell_type": "code",
   "execution_count": 673,
   "metadata": {
    "collapsed": false
   },
   "outputs": [
    {
     "data": {
      "text/plain": [
       "185"
      ]
     },
     "execution_count": 673,
     "metadata": {},
     "output_type": "execute_result"
    }
   ],
   "source": [
    "len(dfptt)"
   ]
  },
  {
   "cell_type": "markdown",
   "metadata": {},
   "source": [
    "### Using pure linear regression"
   ]
  },
  {
   "cell_type": "code",
   "execution_count": 674,
   "metadata": {
    "collapsed": false
   },
   "outputs": [
    {
     "name": "stdout",
     "output_type": "stream",
     "text": [
      "r2 =  0.953880796047\n",
      "MSE = 219182195.362\n",
      "RMSE = 14804.8\n",
      "\n",
      "Coefficients:\n",
      "Median Bottle Cost : 24309.4236254\n",
      "Median Bottle Price : -8036.34185552\n",
      "Median Bottle Profit : -20598.0890077\n",
      "Sum Bottles sold : 2.38563325189\n",
      "Sum Volume sold : 43.5448004343\n",
      "No. of trans : 9.30460020308\n"
     ]
    }
   ],
   "source": [
    "X = dfpp\n",
    "y = dfp_piv[('sum', 'Sale (Dollars)')]\n",
    "\n",
    "lm = linear_model.LinearRegression()\n",
    "lm.fit(X,y)\n",
    "\n",
    "pred = lm.predict(dfptt)\n",
    "print \"r2 = \", r2_score(dfp_piv[('sum', 'Sale (Dollars)')], pred)\n",
    "print \"MSE =\", mean_squared_error(dfp_piv[('sum', 'Sale (Dollars)')], pred)\n",
    "print \"RMSE =\", round(np.sqrt(mean_squared_error(dfp_piv[('sum', 'Sale (Dollars)')], pred)), 2)\n",
    "\n",
    "print\n",
    "print \"Coefficients:\" \n",
    "\n",
    "for i,j in zip(dfptt.columns, lm.coef_):\n",
    "    print i, ':', j"
   ]
  },
  {
   "cell_type": "markdown",
   "metadata": {},
   "source": [
    "## Using RidgeCV"
   ]
  },
  {
   "cell_type": "code",
   "execution_count": 675,
   "metadata": {
    "collapsed": false
   },
   "outputs": [
    {
     "name": "stdout",
     "output_type": "stream",
     "text": [
      "Chosen alpha = 0.2\n",
      "r2 =  0.954298070471\n",
      "MSE = 217199092.52\n",
      "RMSE = 14737.68\n",
      "\n",
      "Coefficients:\n",
      "Median Bottle Cost : 12629.2636554\n",
      "Median Bottle Price : -3911.18894894\n",
      "Median Bottle Profit : -9786.37791515\n",
      "Sum Bottles sold : 2.39472348643\n",
      "Sum Volume sold : 43.3523323715\n",
      "No. of trans : 9.49324842237\n"
     ]
    }
   ],
   "source": [
    "al = [0.00000001,0.00001,0.0001, 0.001, 0.01, 0.1, 0.2, 0.3, 0.5, 0.7, 1.0, 5, 10]\n",
    "\n",
    "rcv = linear_model.RidgeCV(alphas = al, cv = 10)\n",
    "rcv.fit(X,y)\n",
    "\n",
    "pred_rcv = rcv.predict(dfptt)\n",
    "\n",
    "print \"Chosen alpha =\", rcv.alpha_\n",
    "print \"r2 = \", r2_score(dfp_piv[('sum', 'Sale (Dollars)')], pred_rcv)\n",
    "print \"MSE =\", mean_squared_error(dfp_piv[('sum', 'Sale (Dollars)')], pred_rcv)\n",
    "print \"RMSE =\", round(np.sqrt(mean_squared_error(dfp_piv[('sum', 'Sale (Dollars)')], pred_rcv)), 2)\n",
    "\n",
    "print\n",
    "print \"Coefficients:\" \n",
    "\n",
    "for i,j in zip(dfptt.columns, rcv.coef_):\n",
    "    print i, ':', j"
   ]
  },
  {
   "cell_type": "code",
   "execution_count": 676,
   "metadata": {
    "collapsed": false
   },
   "outputs": [
    {
     "data": {
      "image/png": "[encoded data removed]",
      "text/plain": [
       "<matplotlib.figure.Figure at 0x13be296d0>"
      ]
     },
     "metadata": {},
     "output_type": "display_data"
    }
   ],
   "source": [
    "fig, axes = plt.subplots(1,2, figsize=(16,8))\n",
    "\n",
    "axes[0].scatter(pred, dfp_piv[('sum', 'Sale (Dollars)')], c='red', s = 200)\n",
    "axes[0].plot([0, 380000], [0, 380000], ls=\"--\", c='gray')\n",
    "\n",
    "axes[1].scatter(pred_rcv, dfp_piv[('sum', 'Sale (Dollars)')], c='b', s = 200)\n",
    "axes[1].plot([0, 380000], [0, 380000], ls=\"--\", c='gray')\n",
    "\n",
    "\n",
    "axes[0].set_title('Linear Model')\n",
    "axes[0].set_ylabel('Actual')\n",
    "axes[0].set_xlabel('Predicted')\n",
    "\n",
    "axes[1].set_title('RidgeCV Model')\n",
    "axes[1].set_ylabel('Actual')\n",
    "axes[1].set_xlabel('Predicted')\n",
    "\n",
    "plt.savefig('reg_15Q1_pred_16Q1_polk.png');"
   ]
  },
  {
   "cell_type": "markdown",
   "metadata": {},
   "source": [
    "#### Comments:\n",
    "\n",
    "Linear regression, as a model, performed slightly better in Polk than in Winneshiek. R^2 values increased to over 0.95. We also see that RidgeCV improved on the RMSE of the model by penalizing the coefficients quite significantly, in particular Median Bottle Cost, Median Bottle Price and Median Bottle Profit.\n",
    "\n",
    "RidgeCV was conducted with 10 fold cross validation and chosen alpha was 0.2, with a minor reduction in RMSE from \\$14,800 to \\$14,737.\n",
    "\n",
    "Similar to the conclusion above, using a linear regression model on this may not be the most ideal since categorical features couldn't be used as inputs into a linear regression model."
   ]
  },
  {
   "cell_type": "markdown",
   "metadata": {},
   "source": [
    "## Location recommendations:"
   ]
  },
  {
   "cell_type": "code",
   "execution_count": 561,
   "metadata": {
    "collapsed": false
   },
   "outputs": [],
   "source": [
    "# Scaling each column with minmax scaler to show percentile of Winneshiek's performance for each category\n",
    "\n",
    "from sklearn.preprocessing import MinMaxScaler\n",
    "\n",
    "min_max_scaler = MinMaxScaler(feature_range=(0, 1))\n",
    "median_scaled = min_max_scaler.fit_transform(median_county.iloc[:,1:])\n",
    "median_scaled = pd.DataFrame(median_scaled)\n",
    "median_scaled1 = pd.concat([median_county.iloc[:,:1], median_scaled], axis = 1)\n"
   ]
  },
  {
   "cell_type": "code",
   "execution_count": 563,
   "metadata": {
    "collapsed": false
   },
   "outputs": [
    {
     "data": {
      "text/html": [
       "<div>\n",
       "<table border=\"1\" class=\"dataframe\">\n",
       "  <thead>\n",
       "    <tr style=\"text-align: right;\">\n",
       "      <th></th>\n",
       "      <th>County</th>\n",
       "      <th>Sum Sale</th>\n",
       "      <th>Sum Profit</th>\n",
       "      <th>Sum Bottles Sold</th>\n",
       "      <th>Median Sale</th>\n",
       "      <th>Median Profit</th>\n",
       "      <th>Median Bottles Sold</th>\n",
       "      <th>Median Bottle Price</th>\n",
       "      <th>Median Bottle Profit</th>\n",
       "      <th>Median No. Trans</th>\n",
       "      <th>No. of stores</th>\n",
       "      <th>No. of trans</th>\n",
       "      <th>Mean bottles per trans</th>\n",
       "      <th>Population</th>\n",
       "      <th>Area</th>\n",
       "      <th>Area per store</th>\n",
       "      <th>Population per store</th>\n",
       "    </tr>\n",
       "  </thead>\n",
       "  <tbody>\n",
       "    <tr>\n",
       "      <th>0</th>\n",
       "      <td>Winneshiek</td>\n",
       "      <td>0.019787</td>\n",
       "      <td>0.019821</td>\n",
       "      <td>0.019202</td>\n",
       "      <td>1.0</td>\n",
       "      <td>1.0</td>\n",
       "      <td>1.0</td>\n",
       "      <td>0.969072</td>\n",
       "      <td>0.970672</td>\n",
       "      <td>0.680551</td>\n",
       "      <td>0.019512</td>\n",
       "      <td>0.026442</td>\n",
       "      <td>0.469087</td>\n",
       "      <td>0.008563</td>\n",
       "      <td>0.317568</td>\n",
       "      <td>0.209481</td>\n",
       "      <td>0.019304</td>\n",
       "    </tr>\n",
       "  </tbody>\n",
       "</table>\n",
       "</div>"
      ],
      "text/plain": [
       "       County  Sum Sale  Sum Profit  Sum Bottles Sold  Median Sale  \\\n",
       "0  Winneshiek  0.019787    0.019821          0.019202          1.0   \n",
       "\n",
       "   Median Profit  Median Bottles Sold  Median Bottle Price  \\\n",
       "0            1.0                  1.0             0.969072   \n",
       "\n",
       "   Median Bottle Profit  Median No. Trans  No. of stores  No. of trans  \\\n",
       "0              0.970672          0.680551       0.019512      0.026442   \n",
       "\n",
       "   Mean bottles per trans  Population      Area  Area per store  \\\n",
       "0                0.469087    0.008563  0.317568        0.209481   \n",
       "\n",
       "   Population per store  \n",
       "0              0.019304  "
      ]
     },
     "execution_count": 563,
     "metadata": {},
     "output_type": "execute_result"
    }
   ],
   "source": [
    "median_scaled1.columns = median_county.columns\n",
    "median_scaled1.head(1)"
   ]
  },
  {
   "cell_type": "code",
   "execution_count": 566,
   "metadata": {
    "collapsed": false
   },
   "outputs": [
    {
     "data": {
      "text/html": [
       "<div>\n",
       "<table border=\"1\" class=\"dataframe\">\n",
       "  <thead>\n",
       "    <tr style=\"text-align: right;\">\n",
       "      <th></th>\n",
       "      <th>County</th>\n",
       "      <th>Sum Sale</th>\n",
       "      <th>Sum Profit</th>\n",
       "      <th>Sum Bottles Sold</th>\n",
       "      <th>Median Sale</th>\n",
       "      <th>Median Profit</th>\n",
       "      <th>Median Bottles Sold</th>\n",
       "      <th>Median Bottle Price</th>\n",
       "      <th>Median Bottle Profit</th>\n",
       "      <th>Median No. Trans</th>\n",
       "      <th>No. of stores</th>\n",
       "      <th>No. of trans</th>\n",
       "      <th>Mean bottles per trans</th>\n",
       "      <th>Population</th>\n",
       "      <th>Area</th>\n",
       "      <th>Area per store</th>\n",
       "      <th>Population per store</th>\n",
       "    </tr>\n",
       "  </thead>\n",
       "  <tbody>\n",
       "    <tr>\n",
       "      <th>0</th>\n",
       "      <td>Winneshiek</td>\n",
       "      <td>1284923.04</td>\n",
       "      <td>430029.68</td>\n",
       "      <td>92729</td>\n",
       "      <td>282036.82</td>\n",
       "      <td>94620.93</td>\n",
       "      <td>21382.0</td>\n",
       "      <td>15.55</td>\n",
       "      <td>5.194626</td>\n",
       "      <td>2352.0</td>\n",
       "      <td>5</td>\n",
       "      <td>10610</td>\n",
       "      <td>8.739774</td>\n",
       "      <td>7682</td>\n",
       "      <td>569.0</td>\n",
       "      <td>113.8</td>\n",
       "      <td>1536.4</td>\n",
       "    </tr>\n",
       "  </tbody>\n",
       "</table>\n",
       "</div>"
      ],
      "text/plain": [
       "       County    Sum Sale  Sum Profit  Sum Bottles Sold  Median Sale  \\\n",
       "0  Winneshiek  1284923.04   430029.68             92729    282036.82   \n",
       "\n",
       "   Median Profit  Median Bottles Sold  Median Bottle Price  \\\n",
       "0       94620.93              21382.0                15.55   \n",
       "\n",
       "   Median Bottle Profit  Median No. Trans  No. of stores  No. of trans  \\\n",
       "0              5.194626            2352.0              5         10610   \n",
       "\n",
       "   Mean bottles per trans  Population   Area  Area per store  \\\n",
       "0                8.739774        7682  569.0           113.8   \n",
       "\n",
       "   Population per store  \n",
       "0                1536.4  "
      ]
     },
     "execution_count": 566,
     "metadata": {},
     "output_type": "execute_result"
    }
   ],
   "source": [
    "median_county.head(1)"
   ]
  },
  {
   "cell_type": "code",
   "execution_count": 565,
   "metadata": {
    "collapsed": false
   },
   "outputs": [
    {
     "data": {
      "text/html": [
       "<div>\n",
       "<table border=\"1\" class=\"dataframe\">\n",
       "  <thead>\n",
       "    <tr style=\"text-align: right;\">\n",
       "      <th></th>\n",
       "      <th>County</th>\n",
       "      <th>Sum Sale</th>\n",
       "      <th>Sum Profit</th>\n",
       "      <th>Sum Bottles Sold</th>\n",
       "      <th>Median Sale</th>\n",
       "      <th>Median Profit</th>\n",
       "      <th>Median Bottles Sold</th>\n",
       "      <th>Median Bottle Price</th>\n",
       "      <th>Median Bottle Profit</th>\n",
       "      <th>Median No. Trans</th>\n",
       "      <th>No. of stores</th>\n",
       "      <th>No. of trans</th>\n",
       "      <th>Mean bottles per trans</th>\n",
       "      <th>Population</th>\n",
       "      <th>Area</th>\n",
       "      <th>Area per store</th>\n",
       "      <th>Population per store</th>\n",
       "    </tr>\n",
       "  </thead>\n",
       "  <tbody>\n",
       "    <tr>\n",
       "      <th>51</th>\n",
       "      <td>Polk</td>\n",
       "      <td>1.0</td>\n",
       "      <td>1.0</td>\n",
       "      <td>1.0</td>\n",
       "      <td>0.193369</td>\n",
       "      <td>0.192126</td>\n",
       "      <td>0.26514</td>\n",
       "      <td>0.544101</td>\n",
       "      <td>0.54045</td>\n",
       "      <td>0.197933</td>\n",
       "      <td>1.0</td>\n",
       "      <td>1.0</td>\n",
       "      <td>0.787158</td>\n",
       "      <td>0.297351</td>\n",
       "      <td>0.393581</td>\n",
       "      <td>0.0</td>\n",
       "      <td>0.006722</td>\n",
       "    </tr>\n",
       "  </tbody>\n",
       "</table>\n",
       "</div>"
      ],
      "text/plain": [
       "   County  Sum Sale  Sum Profit  Sum Bottles Sold  Median Sale  Median Profit  \\\n",
       "51   Polk       1.0         1.0               1.0     0.193369       0.192126   \n",
       "\n",
       "    Median Bottles Sold  Median Bottle Price  Median Bottle Profit  \\\n",
       "51              0.26514             0.544101               0.54045   \n",
       "\n",
       "    Median No. Trans  No. of stores  No. of trans  Mean bottles per trans  \\\n",
       "51          0.197933            1.0           1.0                0.787158   \n",
       "\n",
       "    Population      Area  Area per store  Population per store  \n",
       "51    0.297351  0.393581             0.0              0.006722  "
      ]
     },
     "execution_count": 565,
     "metadata": {},
     "output_type": "execute_result"
    }
   ],
   "source": [
    "median_scaled1[median_scaled1['County'] == 'Polk']"
   ]
  },
  {
   "cell_type": "code",
   "execution_count": 567,
   "metadata": {
    "collapsed": false
   },
   "outputs": [
    {
     "data": {
      "text/html": [
       "<div>\n",
       "<table border=\"1\" class=\"dataframe\">\n",
       "  <thead>\n",
       "    <tr style=\"text-align: right;\">\n",
       "      <th></th>\n",
       "      <th>County</th>\n",
       "      <th>Sum Sale</th>\n",
       "      <th>Sum Profit</th>\n",
       "      <th>Sum Bottles Sold</th>\n",
       "      <th>Median Sale</th>\n",
       "      <th>Median Profit</th>\n",
       "      <th>Median Bottles Sold</th>\n",
       "      <th>Median Bottle Price</th>\n",
       "      <th>Median Bottle Profit</th>\n",
       "      <th>Median No. Trans</th>\n",
       "      <th>No. of stores</th>\n",
       "      <th>No. of trans</th>\n",
       "      <th>Mean bottles per trans</th>\n",
       "      <th>Population</th>\n",
       "      <th>Area</th>\n",
       "      <th>Area per store</th>\n",
       "      <th>Population per store</th>\n",
       "    </tr>\n",
       "  </thead>\n",
       "  <tbody>\n",
       "    <tr>\n",
       "      <th>51</th>\n",
       "      <td>Polk</td>\n",
       "      <td>63748122.62</td>\n",
       "      <td>21298697.86</td>\n",
       "      <td>4700900</td>\n",
       "      <td>72127.275</td>\n",
       "      <td>24068.94</td>\n",
       "      <td>7281.5</td>\n",
       "      <td>13.695</td>\n",
       "      <td>4.569838</td>\n",
       "      <td>811.0</td>\n",
       "      <td>206</td>\n",
       "      <td>394660</td>\n",
       "      <td>11.911265</td>\n",
       "      <td>130882</td>\n",
       "      <td>614.0</td>\n",
       "      <td>2.980583</td>\n",
       "      <td>635.349515</td>\n",
       "    </tr>\n",
       "  </tbody>\n",
       "</table>\n",
       "</div>"
      ],
      "text/plain": [
       "   County     Sum Sale   Sum Profit  Sum Bottles Sold  Median Sale  \\\n",
       "51   Polk  63748122.62  21298697.86           4700900    72127.275   \n",
       "\n",
       "    Median Profit  Median Bottles Sold  Median Bottle Price  \\\n",
       "51       24068.94               7281.5               13.695   \n",
       "\n",
       "    Median Bottle Profit  Median No. Trans  No. of stores  No. of trans  \\\n",
       "51              4.569838             811.0            206        394660   \n",
       "\n",
       "    Mean bottles per trans  Population   Area  Area per store  \\\n",
       "51               11.911265      130882  614.0        2.980583   \n",
       "\n",
       "    Population per store  \n",
       "51            635.349515  "
      ]
     },
     "execution_count": 567,
     "metadata": {},
     "output_type": "execute_result"
    }
   ],
   "source": [
    "median_county[median_county['County'] == 'Polk']"
   ]
  },
  {
   "cell_type": "markdown",
   "metadata": {},
   "source": [
    "1 Winneshiek County - Ideal for second store expansion\n",
    "   - Top average sale per store\n",
    "   - Top average bottle sold per store\n",
    "   - 97th percentile for average bottle price\n",
    "   - 97th percentile for average bottle profit\n",
    "   - 68th percentile for average number of transactions per store\n",
    "   - 46th percentile for mean bottles per transaction\n",
    "\n",
    "\n",
    "2 Polk County - Ideal for large stores (\\$9mil revenue per year)\n",
    "   - Top total sale, i.e. largest market\n",
    "   - Top average bottle sold per store\n",
    "   - Top total transaction\n",
    "   - 54th percentile for average bottle price and average bottle profit\n"
   ]
  },
  {
   "cell_type": "code",
   "execution_count": 600,
   "metadata": {
    "collapsed": false
   },
   "outputs": [
    {
     "data": {
      "text/html": [
       "<div>\n",
       "<table border=\"1\" class=\"dataframe\">\n",
       "  <thead>\n",
       "    <tr>\n",
       "      <th></th>\n",
       "      <th>Store Number</th>\n",
       "      <th colspan=\"9\" halign=\"left\">mean</th>\n",
       "      <th>...</th>\n",
       "      <th colspan=\"10\" halign=\"left\">sum</th>\n",
       "    </tr>\n",
       "    <tr>\n",
       "      <th></th>\n",
       "      <th></th>\n",
       "      <th>Bottle Gross Profit</th>\n",
       "      <th>Bottle Volume (ml)</th>\n",
       "      <th>Bottles Sold</th>\n",
       "      <th>Category</th>\n",
       "      <th>County Number</th>\n",
       "      <th>Gross Profit</th>\n",
       "      <th>Item Number</th>\n",
       "      <th>Sale (Dollars)</th>\n",
       "      <th>Sale Month</th>\n",
       "      <th>...</th>\n",
       "      <th>Item Number</th>\n",
       "      <th>Sale (Dollars)</th>\n",
       "      <th>Sale Month</th>\n",
       "      <th>Sale Year</th>\n",
       "      <th>State Bottle Cost</th>\n",
       "      <th>State Bottle Retail</th>\n",
       "      <th>Vendor Number</th>\n",
       "      <th>Volume Sold (Gallons)</th>\n",
       "      <th>Volume Sold (Liters)</th>\n",
       "      <th>Zip Code</th>\n",
       "    </tr>\n",
       "  </thead>\n",
       "  <tbody>\n",
       "    <tr>\n",
       "      <th>0</th>\n",
       "      <td>3721</td>\n",
       "      <td>5.222421</td>\n",
       "      <td>1210.516847</td>\n",
       "      <td>10.522408</td>\n",
       "      <td>1.046358e+06</td>\n",
       "      <td>96.0</td>\n",
       "      <td>51.889784</td>\n",
       "      <td>44380.546287</td>\n",
       "      <td>155.148531</td>\n",
       "      <td>6.814197</td>\n",
       "      <td>...</td>\n",
       "      <td>135671330</td>\n",
       "      <td>474289.06</td>\n",
       "      <td>20831</td>\n",
       "      <td>6159855</td>\n",
       "      <td>31772.24</td>\n",
       "      <td>47737.18</td>\n",
       "      <td>752534</td>\n",
       "      <td>9438.65</td>\n",
       "      <td>35728.95</td>\n",
       "      <td>159272757</td>\n",
       "    </tr>\n",
       "    <tr>\n",
       "      <th>1</th>\n",
       "      <td>3819</td>\n",
       "      <td>5.272898</td>\n",
       "      <td>1003.634964</td>\n",
       "      <td>7.315087</td>\n",
       "      <td>1.057518e+06</td>\n",
       "      <td>96.0</td>\n",
       "      <td>32.371170</td>\n",
       "      <td>44868.867602</td>\n",
       "      <td>96.488820</td>\n",
       "      <td>6.812179</td>\n",
       "      <td>...</td>\n",
       "      <td>131151700</td>\n",
       "      <td>282036.82</td>\n",
       "      <td>19912</td>\n",
       "      <td>5889845</td>\n",
       "      <td>30706.16</td>\n",
       "      <td>46118.84</td>\n",
       "      <td>768708</td>\n",
       "      <td>5933.84</td>\n",
       "      <td>22461.23</td>\n",
       "      <td>152291223</td>\n",
       "    </tr>\n",
       "    <tr>\n",
       "      <th>2</th>\n",
       "      <td>4183</td>\n",
       "      <td>5.194626</td>\n",
       "      <td>1035.873724</td>\n",
       "      <td>9.306122</td>\n",
       "      <td>1.042999e+06</td>\n",
       "      <td>96.0</td>\n",
       "      <td>44.449511</td>\n",
       "      <td>44702.133503</td>\n",
       "      <td>132.851212</td>\n",
       "      <td>6.583759</td>\n",
       "      <td>...</td>\n",
       "      <td>105139418</td>\n",
       "      <td>312466.05</td>\n",
       "      <td>15485</td>\n",
       "      <td>4739280</td>\n",
       "      <td>24361.92</td>\n",
       "      <td>36579.68</td>\n",
       "      <td>607977</td>\n",
       "      <td>5956.18</td>\n",
       "      <td>22548.13</td>\n",
       "      <td>122541552</td>\n",
       "    </tr>\n",
       "    <tr>\n",
       "      <th>3</th>\n",
       "      <td>4762</td>\n",
       "      <td>4.794892</td>\n",
       "      <td>1161.832061</td>\n",
       "      <td>5.326162</td>\n",
       "      <td>1.045203e+06</td>\n",
       "      <td>96.0</td>\n",
       "      <td>25.860458</td>\n",
       "      <td>42798.115892</td>\n",
       "      <td>77.374552</td>\n",
       "      <td>6.445524</td>\n",
       "      <td>...</td>\n",
       "      <td>61672085</td>\n",
       "      <td>111496.73</td>\n",
       "      <td>9288</td>\n",
       "      <td>2903615</td>\n",
       "      <td>13764.67</td>\n",
       "      <td>20674.11</td>\n",
       "      <td>357023</td>\n",
       "      <td>2401.72</td>\n",
       "      <td>9102.96</td>\n",
       "      <td>75139504</td>\n",
       "    </tr>\n",
       "    <tr>\n",
       "      <th>4</th>\n",
       "      <td>4818</td>\n",
       "      <td>4.362843</td>\n",
       "      <td>951.672640</td>\n",
       "      <td>11.489845</td>\n",
       "      <td>1.042030e+06</td>\n",
       "      <td>96.0</td>\n",
       "      <td>41.781971</td>\n",
       "      <td>37472.350060</td>\n",
       "      <td>125.011207</td>\n",
       "      <td>6.712067</td>\n",
       "      <td>...</td>\n",
       "      <td>31364357</td>\n",
       "      <td>104634.38</td>\n",
       "      <td>5618</td>\n",
       "      <td>1686555</td>\n",
       "      <td>7275.63</td>\n",
       "      <td>10927.33</td>\n",
       "      <td>185153</td>\n",
       "      <td>2090.73</td>\n",
       "      <td>7913.27</td>\n",
       "      <td>43608537</td>\n",
       "    </tr>\n",
       "  </tbody>\n",
       "</table>\n",
       "<p>5 rows × 33 columns</p>\n",
       "</div>"
      ],
      "text/plain": [
       "  Store Number                mean                                  \\\n",
       "               Bottle Gross Profit Bottle Volume (ml) Bottles Sold   \n",
       "0         3721            5.222421        1210.516847    10.522408   \n",
       "1         3819            5.272898        1003.634964     7.315087   \n",
       "2         4183            5.194626        1035.873724     9.306122   \n",
       "3         4762            4.794892        1161.832061     5.326162   \n",
       "4         4818            4.362843         951.672640    11.489845   \n",
       "\n",
       "                                                                         \\\n",
       "       Category County Number Gross Profit   Item Number Sale (Dollars)   \n",
       "0  1.046358e+06          96.0    51.889784  44380.546287     155.148531   \n",
       "1  1.057518e+06          96.0    32.371170  44868.867602      96.488820   \n",
       "2  1.042999e+06          96.0    44.449511  44702.133503     132.851212   \n",
       "3  1.045203e+06          96.0    25.860458  42798.115892      77.374552   \n",
       "4  1.042030e+06          96.0    41.781971  37472.350060     125.011207   \n",
       "\n",
       "                ...             sum                                      \\\n",
       "  Sale Month    ...     Item Number Sale (Dollars) Sale Month Sale Year   \n",
       "0   6.814197    ...       135671330      474289.06      20831   6159855   \n",
       "1   6.812179    ...       131151700      282036.82      19912   5889845   \n",
       "2   6.583759    ...       105139418      312466.05      15485   4739280   \n",
       "3   6.445524    ...        61672085      111496.73       9288   2903615   \n",
       "4   6.712067    ...        31364357      104634.38       5618   1686555   \n",
       "\n",
       "                                                                             \\\n",
       "  State Bottle Cost State Bottle Retail Vendor Number Volume Sold (Gallons)   \n",
       "0          31772.24            47737.18        752534               9438.65   \n",
       "1          30706.16            46118.84        768708               5933.84   \n",
       "2          24361.92            36579.68        607977               5956.18   \n",
       "3          13764.67            20674.11        357023               2401.72   \n",
       "4           7275.63            10927.33        185153               2090.73   \n",
       "\n",
       "                                   \n",
       "  Volume Sold (Liters)   Zip Code  \n",
       "0             35728.95  159272757  \n",
       "1             22461.23  152291223  \n",
       "2             22548.13  122541552  \n",
       "3              9102.96   75139504  \n",
       "4              7913.27   43608537  \n",
       "\n",
       "[5 rows x 33 columns]"
      ]
     },
     "execution_count": 600,
     "metadata": {},
     "output_type": "execute_result"
    }
   ],
   "source": [
    "dfw = df_15[df_15['County'] == \"Winneshiek\"]\n",
    "\n",
    "dfw_piv = pd.pivot_table(dfw, \\\n",
    "                         index = ['Store Number'], \\\n",
    "                         aggfunc = [np.mean, \\\n",
    "                                    sum \\\n",
    "                                   ] \\\n",
    "                         )\n",
    "dfw_piv.reset_index(inplace=True)\n",
    "\n",
    "dfw_piv.head()"
   ]
  },
  {
   "cell_type": "code",
   "execution_count": 597,
   "metadata": {
    "collapsed": true
   },
   "outputs": [],
   "source": [
    "# Winneshiek price per bottle upper and lower bound\n",
    "\n",
    "wpl = np.median(dfw_piv[('mean', 'State Bottle Retail')]) - (0.25 * dfw_piv[('mean', 'State Bottle Retail')].std())\n",
    "wpu = np.median(dfw_piv[('mean', 'State Bottle Retail')]) + (0.25 * dfw_piv[('mean', 'State Bottle Retail')].std())"
   ]
  },
  {
   "cell_type": "code",
   "execution_count": 602,
   "metadata": {
    "collapsed": false
   },
   "outputs": [
    {
     "name": "stdout",
     "output_type": "stream",
     "text": [
      "\n"
     ]
    }
   ],
   "source": [
    "# Winneshiek annual bottle sold upper and lower bound\n",
    "\n",
    "wbl = np.median(dfw_piv[('sum', 'Bottles Sold')]) - (0.25 * dfw_piv[('sum', 'Bottles Sold')].std())\n",
    "wbu = np.median(dfw_piv[('sum', 'Bottles Sold')]) + (0.25 * dfw_piv[('sum', 'Bottles Sold')].std())"
   ]
  },
  {
   "cell_type": "code",
   "execution_count": 626,
   "metadata": {
    "collapsed": false
   },
   "outputs": [
    {
     "data": {
      "text/html": [
       "<div>\n",
       "<table border=\"1\" class=\"dataframe\">\n",
       "  <thead>\n",
       "    <tr>\n",
       "      <th></th>\n",
       "      <th>Store Number</th>\n",
       "      <th colspan=\"9\" halign=\"left\">mean</th>\n",
       "      <th>...</th>\n",
       "      <th colspan=\"10\" halign=\"left\">sum</th>\n",
       "    </tr>\n",
       "    <tr>\n",
       "      <th></th>\n",
       "      <th></th>\n",
       "      <th>Bottle Gross Profit</th>\n",
       "      <th>Bottle Volume (ml)</th>\n",
       "      <th>Bottles Sold</th>\n",
       "      <th>Category</th>\n",
       "      <th>County Number</th>\n",
       "      <th>Gross Profit</th>\n",
       "      <th>Item Number</th>\n",
       "      <th>Sale (Dollars)</th>\n",
       "      <th>Sale Month</th>\n",
       "      <th>...</th>\n",
       "      <th>Item Number</th>\n",
       "      <th>Sale (Dollars)</th>\n",
       "      <th>Sale Month</th>\n",
       "      <th>Sale Year</th>\n",
       "      <th>State Bottle Cost</th>\n",
       "      <th>State Bottle Retail</th>\n",
       "      <th>Vendor Number</th>\n",
       "      <th>Volume Sold (Gallons)</th>\n",
       "      <th>Volume Sold (Liters)</th>\n",
       "      <th>Zip Code</th>\n",
       "    </tr>\n",
       "  </thead>\n",
       "  <tbody>\n",
       "    <tr>\n",
       "      <th>0</th>\n",
       "      <td>2633</td>\n",
       "      <td>6.147339</td>\n",
       "      <td>918.359135</td>\n",
       "      <td>30.510816</td>\n",
       "      <td>1.045309e+06</td>\n",
       "      <td>77.0</td>\n",
       "      <td>168.245862</td>\n",
       "      <td>60986.844013</td>\n",
       "      <td>504.377336</td>\n",
       "      <td>6.613646</td>\n",
       "      <td>...</td>\n",
       "      <td>1189731353</td>\n",
       "      <td>9839393.08</td>\n",
       "      <td>129019</td>\n",
       "      <td>39308620</td>\n",
       "      <td>239277.90</td>\n",
       "      <td>359200.19</td>\n",
       "      <td>5038264</td>\n",
       "      <td>153987.1</td>\n",
       "      <td>582860.61</td>\n",
       "      <td>981642560</td>\n",
       "    </tr>\n",
       "    <tr>\n",
       "      <th>1</th>\n",
       "      <td>3420</td>\n",
       "      <td>6.324379</td>\n",
       "      <td>1100.016051</td>\n",
       "      <td>61.850401</td>\n",
       "      <td>1.044090e+06</td>\n",
       "      <td>77.0</td>\n",
       "      <td>367.225653</td>\n",
       "      <td>44953.137721</td>\n",
       "      <td>1098.668234</td>\n",
       "      <td>6.757945</td>\n",
       "      <td>...</td>\n",
       "      <td>140029024</td>\n",
       "      <td>3422351.55</td>\n",
       "      <td>21051</td>\n",
       "      <td>6276725</td>\n",
       "      <td>39313.55</td>\n",
       "      <td>59013.99</td>\n",
       "      <td>817837</td>\n",
       "      <td>62709.1</td>\n",
       "      <td>237374.50</td>\n",
       "      <td>156718765</td>\n",
       "    </tr>\n",
       "    <tr>\n",
       "      <th>2</th>\n",
       "      <td>4829</td>\n",
       "      <td>6.314526</td>\n",
       "      <td>912.121129</td>\n",
       "      <td>28.558094</td>\n",
       "      <td>1.044543e+06</td>\n",
       "      <td>77.0</td>\n",
       "      <td>160.127202</td>\n",
       "      <td>53683.322809</td>\n",
       "      <td>480.055969</td>\n",
       "      <td>6.456567</td>\n",
       "      <td>...</td>\n",
       "      <td>977680675</td>\n",
       "      <td>8742779.31</td>\n",
       "      <td>117587</td>\n",
       "      <td>36697180</td>\n",
       "      <td>229628.70</td>\n",
       "      <td>344628.84</td>\n",
       "      <td>4702056</td>\n",
       "      <td>132710.0</td>\n",
       "      <td>502306.92</td>\n",
       "      <td>916318568</td>\n",
       "    </tr>\n",
       "  </tbody>\n",
       "</table>\n",
       "<p>3 rows × 33 columns</p>\n",
       "</div>"
      ],
      "text/plain": [
       "  Store Number                mean                                  \\\n",
       "               Bottle Gross Profit Bottle Volume (ml) Bottles Sold   \n",
       "0         2633            6.147339         918.359135    30.510816   \n",
       "1         3420            6.324379        1100.016051    61.850401   \n",
       "2         4829            6.314526         912.121129    28.558094   \n",
       "\n",
       "                                                                         \\\n",
       "       Category County Number Gross Profit   Item Number Sale (Dollars)   \n",
       "0  1.045309e+06          77.0   168.245862  60986.844013     504.377336   \n",
       "1  1.044090e+06          77.0   367.225653  44953.137721    1098.668234   \n",
       "2  1.044543e+06          77.0   160.127202  53683.322809     480.055969   \n",
       "\n",
       "                ...             sum                                      \\\n",
       "  Sale Month    ...     Item Number Sale (Dollars) Sale Month Sale Year   \n",
       "0   6.613646    ...      1189731353     9839393.08     129019  39308620   \n",
       "1   6.757945    ...       140029024     3422351.55      21051   6276725   \n",
       "2   6.456567    ...       977680675     8742779.31     117587  36697180   \n",
       "\n",
       "                                                                             \\\n",
       "  State Bottle Cost State Bottle Retail Vendor Number Volume Sold (Gallons)   \n",
       "0         239277.90           359200.19       5038264              153987.1   \n",
       "1          39313.55            59013.99        817837               62709.1   \n",
       "2         229628.70           344628.84       4702056              132710.0   \n",
       "\n",
       "                                   \n",
       "  Volume Sold (Liters)   Zip Code  \n",
       "0            582860.61  981642560  \n",
       "1            237374.50  156718765  \n",
       "2            502306.92  916318568  \n",
       "\n",
       "[3 rows x 33 columns]"
      ]
     },
     "execution_count": 626,
     "metadata": {},
     "output_type": "execute_result"
    }
   ],
   "source": [
    "dfpo = df_15[df_15['Store Number'].apply(lambda x: True if x in out_list else False)]\n",
    "\n",
    "dfpo_piv = pd.pivot_table(dfpo, \\\n",
    "                         index = ['Store Number'], \\\n",
    "                         aggfunc = [np.mean, \\\n",
    "                                    sum \\\n",
    "                                   ] \\\n",
    "                         )\n",
    "dfpo_piv.reset_index(inplace=True)\n",
    "\n",
    "dfpo_piv.head()"
   ]
  },
  {
   "cell_type": "code",
   "execution_count": 627,
   "metadata": {
    "collapsed": true
   },
   "outputs": [],
   "source": [
    "# Polk price per bottle upper and lower bound\n",
    "\n",
    "ppl = np.median(dfpo_piv[('mean', 'State Bottle Retail')]) - (0.25 * dfpo_piv[('mean', 'State Bottle Retail')].std())\n",
    "ppu = np.median(dfpo_piv[('mean', 'State Bottle Retail')]) + (0.25 * dfpo_piv[('mean', 'State Bottle Retail')].std())"
   ]
  },
  {
   "cell_type": "code",
   "execution_count": 631,
   "metadata": {
    "collapsed": true
   },
   "outputs": [],
   "source": [
    "# Polk annual bottle sold upper and lower bound\n",
    "\n",
    "pbl = np.median(dfpo_piv[('sum', 'Bottles Sold')]) - (0.25 * dfpo_piv[('sum', 'Bottles Sold')].std())\n",
    "pbu = np.median(dfpo_piv[('sum', 'Bottles Sold')]) + (0.25 * dfpo_piv[('sum', 'Bottles Sold')].std())"
   ]
  },
  {
   "cell_type": "code",
   "execution_count": 630,
   "metadata": {
    "collapsed": false
   },
   "outputs": [
    {
     "name": "stdout",
     "output_type": "stream",
     "text": [
      "Winneshiek recommended average price per bottle:\n",
      "Upper Bound = 15.84\n",
      "Lower Bound = 15.26\n",
      "\n",
      "Winneshiek recommended annual target bottle sold:\n",
      "Upper Bound = 23890.0\n",
      "Lower Bound = 18874.0\n"
     ]
    }
   ],
   "source": [
    "# Recommendation for average bottle price and bottle sold for Winneshiek\n",
    "\n",
    "print \"Winneshiek recommended average price per bottle:\"\n",
    "print \"Upper Bound =\", round(wpu, 2)\n",
    "print \"Lower Bound =\", round(wpl, 2)\n",
    "print\n",
    "print \"Winneshiek recommended annual target bottle sold:\"\n",
    "print \"Upper Bound =\", round(wbu)\n",
    "print \"Lower Bound =\", round(wbl)\n"
   ]
  },
  {
   "cell_type": "code",
   "execution_count": 632,
   "metadata": {
    "collapsed": false
   },
   "outputs": [
    {
     "name": "stdout",
     "output_type": "stream",
     "text": [
      "Polk recommended average price per bottle:\n",
      "Upper Bound = 19.0\n",
      "Lower Bound = 18.85\n",
      "\n",
      "Polk recommended annual target bottle sold:\n",
      "Upper Bound = 573612.0\n",
      "Lower Bound = 466588.0\n"
     ]
    }
   ],
   "source": [
    "# Recommendation for average bottle price and bottle sold for Winneshiek\n",
    "\n",
    "print \"Polk recommended average price per bottle:\"\n",
    "print \"Upper Bound =\", round(ppu, 2)\n",
    "print \"Lower Bound =\", round(ppl, 2)\n",
    "print\n",
    "print \"Polk recommended annual target bottle sold:\"\n",
    "print \"Upper Bound =\", round(pbu)\n",
    "print \"Lower Bound =\", round(pbl)\n"
   ]
  },
  {
   "cell_type": "markdown",
   "metadata": {},
   "source": [
    "#### Comments:\n",
    "\n",
    "Recommended targets for annual bottle sold and average price per bottle were derived using average corresponding values from Winneshiek and Polk respectively. However, for Polk, we assumed client wants to launch a big store and hence used only outlier data points instead.\n",
    "\n",
    "Ranges were given using median values in each county +/- 0.25 standard deviation, which put the targets inside 25th to 75th percentiles within each county"
   ]
  },
  {
   "cell_type": "markdown",
   "metadata": {},
   "source": [
    "## Project conclusion"
   ]
  },
  {
   "cell_type": "markdown",
   "metadata": {},
   "source": [
    "In this project, we looked at liquor store data from the state of IOWA is 2015 and 2016 Q1. We were tasked with the following:\n",
    "\n",
    "   - Identify suitable locations for a liquor store owner's expansion plans\n",
    "   - Create a model to predict future sales\n",
    "   - Recommend target for bottles sold and average bottle price\n",
    "\n",
    "After cleaning the data, county demographic data (dated 2010) were used to supplement the existing dataset in search of a richer analysis. However, without detailed demographic data (such as age groups, gender, income range, etc), using simple land area per store and population per store yielded little value.\n",
    "\n",
    "1) Location recommendation\n",
    "\n",
    "We examined all 99 counties across the state of IOWA and selected 2 counties as possible locations depending on the client's requirement.\n",
    "\n",
    "For a typical store expansion plan (annual revenue of ~ \\$200k), Winneshiek was recommended for the following reasons:\n",
    "   - Top county for average sale per store\n",
    "   - Top county for average bottle sold per store\n",
    "   - 97th percentile for average bottle price\n",
    "   - 97th percentile for average bottle profit\n",
    "   - 68th percentile for average number of transactions per store\n",
    "   - 46th percentile for mean bottles per transaction\n",
    "   - Recommended average price per bottle ~ \\$15.50\n",
    "   - Recommended annual bottles sold ~ 21,000 bottles\n",
    "   \n",
    "For a large scale expansion (annual revenue of ~ \\$9mil per store), which requires access to a large market base, we recommended Polk County for the following reasons:\n",
    "\n",
    "   - Top county for total sales, i.e. largest market\n",
    "   - Top county for total bottle sold per store\n",
    "   - Top county for total number of transactions\n",
    "   - 54th percentile for average bottle price and average bottle profit\n",
    "   - Recommended average price per bottle ~ \\$19\n",
    "   - Recommended annual bottle sold ~ 500,000 bottles\n",
    "\n",
    "2) Predictive modelling using linear regression\n",
    "\n",
    "Predictive models were created for both the approaches to locations. Models were created using historical per store data from the respective counties using the following features:\n",
    "\n",
    "   - Median Bottle Cost per store\n",
    "   - Median Bottle Price per store\n",
    "   - Median Bottle Profit per store\n",
    "   - Sum Bottles sold per store\n",
    "   - Sum Volume sold per store\n",
    "   - No. of transactions per store\n",
    "\n",
    "2015 Q1 data was used as the training set and 2016 Q1 data was used as the test set. Ridge regularization and cross-validation were conducted as part of the fitting process. Alpha chosen by Ridge algorithm was 0.2 for regularization and was minimally effective in reducing RMSE. Model performance was considered mediocre with high r^2 (~ 0.95) but relatively high Root Mean Squared Error. Coefficients of the models were also significant.\n",
    "\n",
    "Suggestions to improve the model include:\n",
    "\n",
    "   - Scaling the features\n",
    "   - Use of richer dataset for advanced feature engineering, such as the aforementioned demographics data\n",
    "   - Using logistical regression to take into account locations of individual stores within the county\n",
    "   - Include more historical data for time-series analyses of market trends over the years\n",
    "\n",
    "In conclusion, this a much more complex project which involves heavy data munging and dataframe manipulations. Predictive modelling was limited in scope, primary due to the restriction to linear regression. \n"
   ]
  },
  {
   "cell_type": "code",
   "execution_count": null,
   "metadata": {
    "collapsed": true
   },
   "outputs": [],
   "source": []
  }
 ],
 "metadata": {
  "anaconda-cloud": {},
  "kernelspec": {
   "display_name": "Python [conda root]",
   "language": "python",
   "name": "conda-root-py"
  },
  "language_info": {
   "codemirror_mode": {
    "name": "ipython",
    "version": 2
   },
   "file_extension": ".py",
   "mimetype": "text/x-python",
   "name": "python",
   "nbconvert_exporter": "python",
   "pygments_lexer": "ipython2",
   "version": "2.7.12"
  }
 },
 "nbformat": 4,
 "nbformat_minor": 0
}
