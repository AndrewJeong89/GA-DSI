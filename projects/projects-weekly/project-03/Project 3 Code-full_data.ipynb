{
 "cells": [
  {
   "cell_type": "markdown",
   "metadata": {},
   "source": [
    "# Getting started\n",
    "\n",
    "Once you've chosen your scenario, download the data from [the Iowa website](https://data.iowa.gov/Economy/Iowa-Liquor-Sales/m3tr-qhgy) in csv format. Start by loading the data with pandas. You may need to parse the date columns appropriately."
   ]
  },
  {
   "cell_type": "markdown",
   "metadata": {},
   "source": [
    "#### Scenario 2: Market research for new store locations\n",
    "\n",
    "A liquor store owner in Iowa is looking to expand to new locations and has hired you to investigate the market data for potential new locations. The business owner is interested in the details of the best model you can fit to the data so that his team can evaluate potential locations for a new storefront.\n",
    "\n",
    "**Goal for Scenario #2:** Your task is to:\n",
    "\n",
    "* Build models of total sales based on location, price per bottle, total bottles sold. You may find it useful to build models for each county, zip code, or city.\n",
    "* Provide a table of the best performing stores by location type of your choice (city, county, or zip code) and the predictions of your model(s).\n",
    "* Based on your models and the table of data, recommend some general locations to the business owner, taking into account model performance. Validate your model's performance and ability to predict future sales using cross-validation.\n",
    "* _Bonus_: Recommend targets for volume sold and price per bottle!\n",
    "\n",
    "---"
   ]
  },
  {
   "cell_type": "code",
   "execution_count": 6,
   "metadata": {
    "collapsed": false
   },
   "outputs": [],
   "source": [
    "%matplotlib inline\n",
    "\n",
    "import pandas as pd\n",
    "import numpy as np\n",
    "import matplotlib.pyplot as plt\n",
    "import seaborn as sns\n",
    "import pprint\n",
    "\n",
    "from IPython.display import Image\n",
    "from sklearn import linear_model\n",
    "from sklearn.metrics import r2_score\n",
    "from sklearn.metrics import mean_squared_error\n",
    "\n",
    "plt.style.use('fivethirtyeight')"
   ]
  },
  {
   "cell_type": "code",
   "execution_count": 7,
   "metadata": {
    "collapsed": false
   },
   "outputs": [
    {
     "ename": "IOError",
     "evalue": "File Iowa_Liquor_Sales.csv does not exist",
     "output_type": "error",
     "traceback": [
      "\u001b[0;31m---------------------------------------------------------------------------\u001b[0m",
      "\u001b[0;31mIOError\u001b[0m                                   Traceback (most recent call last)",
      "\u001b[0;32m<ipython-input-7-465a2c8fa409>\u001b[0m in \u001b[0;36m<module>\u001b[0;34m()\u001b[0m\n\u001b[1;32m      1\u001b[0m \u001b[0;31m## Load the data into a DataFrame\u001b[0m\u001b[0;34m\u001b[0m\u001b[0;34m\u001b[0m\u001b[0m\n\u001b[0;32m----> 2\u001b[0;31m \u001b[0mdf\u001b[0m \u001b[0;34m=\u001b[0m \u001b[0mpd\u001b[0m\u001b[0;34m.\u001b[0m\u001b[0mread_csv\u001b[0m\u001b[0;34m(\u001b[0m\u001b[0;34m\"Iowa_Liquor_Sales.csv\"\u001b[0m\u001b[0;34m)\u001b[0m\u001b[0;34m\u001b[0m\u001b[0m\n\u001b[0m\u001b[1;32m      3\u001b[0m \u001b[0;34m\u001b[0m\u001b[0m\n\u001b[1;32m      4\u001b[0m \u001b[0mdf\u001b[0m\u001b[0;34m.\u001b[0m\u001b[0mhead\u001b[0m\u001b[0;34m(\u001b[0m\u001b[0;34m)\u001b[0m\u001b[0;34m\u001b[0m\u001b[0m\n",
      "\u001b[0;32m//anaconda/lib/python2.7/site-packages/pandas/io/parsers.pyc\u001b[0m in \u001b[0;36mparser_f\u001b[0;34m(filepath_or_buffer, sep, delimiter, header, names, index_col, usecols, squeeze, prefix, mangle_dupe_cols, dtype, engine, converters, true_values, false_values, skipinitialspace, skiprows, skipfooter, nrows, na_values, keep_default_na, na_filter, verbose, skip_blank_lines, parse_dates, infer_datetime_format, keep_date_col, date_parser, dayfirst, iterator, chunksize, compression, thousands, decimal, lineterminator, quotechar, quoting, escapechar, comment, encoding, dialect, tupleize_cols, error_bad_lines, warn_bad_lines, skip_footer, doublequote, delim_whitespace, as_recarray, compact_ints, use_unsigned, low_memory, buffer_lines, memory_map, float_precision)\u001b[0m\n\u001b[1;32m    560\u001b[0m                     skip_blank_lines=skip_blank_lines)\n\u001b[1;32m    561\u001b[0m \u001b[0;34m\u001b[0m\u001b[0m\n\u001b[0;32m--> 562\u001b[0;31m         \u001b[0;32mreturn\u001b[0m \u001b[0m_read\u001b[0m\u001b[0;34m(\u001b[0m\u001b[0mfilepath_or_buffer\u001b[0m\u001b[0;34m,\u001b[0m \u001b[0mkwds\u001b[0m\u001b[0;34m)\u001b[0m\u001b[0;34m\u001b[0m\u001b[0m\n\u001b[0m\u001b[1;32m    563\u001b[0m \u001b[0;34m\u001b[0m\u001b[0m\n\u001b[1;32m    564\u001b[0m     \u001b[0mparser_f\u001b[0m\u001b[0;34m.\u001b[0m\u001b[0m__name__\u001b[0m \u001b[0;34m=\u001b[0m \u001b[0mname\u001b[0m\u001b[0;34m\u001b[0m\u001b[0m\n",
      "\u001b[0;32m//anaconda/lib/python2.7/site-packages/pandas/io/parsers.pyc\u001b[0m in \u001b[0;36m_read\u001b[0;34m(filepath_or_buffer, kwds)\u001b[0m\n\u001b[1;32m    313\u001b[0m \u001b[0;34m\u001b[0m\u001b[0m\n\u001b[1;32m    314\u001b[0m     \u001b[0;31m# Create the parser.\u001b[0m\u001b[0;34m\u001b[0m\u001b[0;34m\u001b[0m\u001b[0m\n\u001b[0;32m--> 315\u001b[0;31m     \u001b[0mparser\u001b[0m \u001b[0;34m=\u001b[0m \u001b[0mTextFileReader\u001b[0m\u001b[0;34m(\u001b[0m\u001b[0mfilepath_or_buffer\u001b[0m\u001b[0;34m,\u001b[0m \u001b[0;34m**\u001b[0m\u001b[0mkwds\u001b[0m\u001b[0;34m)\u001b[0m\u001b[0;34m\u001b[0m\u001b[0m\n\u001b[0m\u001b[1;32m    316\u001b[0m \u001b[0;34m\u001b[0m\u001b[0m\n\u001b[1;32m    317\u001b[0m     \u001b[0;32mif\u001b[0m \u001b[0;34m(\u001b[0m\u001b[0mnrows\u001b[0m \u001b[0;32mis\u001b[0m \u001b[0;32mnot\u001b[0m \u001b[0mNone\u001b[0m\u001b[0;34m)\u001b[0m \u001b[0;32mand\u001b[0m \u001b[0;34m(\u001b[0m\u001b[0mchunksize\u001b[0m \u001b[0;32mis\u001b[0m \u001b[0;32mnot\u001b[0m \u001b[0mNone\u001b[0m\u001b[0;34m)\u001b[0m\u001b[0;34m:\u001b[0m\u001b[0;34m\u001b[0m\u001b[0m\n",
      "\u001b[0;32m//anaconda/lib/python2.7/site-packages/pandas/io/parsers.pyc\u001b[0m in \u001b[0;36m__init__\u001b[0;34m(self, f, engine, **kwds)\u001b[0m\n\u001b[1;32m    643\u001b[0m             \u001b[0mself\u001b[0m\u001b[0;34m.\u001b[0m\u001b[0moptions\u001b[0m\u001b[0;34m[\u001b[0m\u001b[0;34m'has_index_names'\u001b[0m\u001b[0;34m]\u001b[0m \u001b[0;34m=\u001b[0m \u001b[0mkwds\u001b[0m\u001b[0;34m[\u001b[0m\u001b[0;34m'has_index_names'\u001b[0m\u001b[0;34m]\u001b[0m\u001b[0;34m\u001b[0m\u001b[0m\n\u001b[1;32m    644\u001b[0m \u001b[0;34m\u001b[0m\u001b[0m\n\u001b[0;32m--> 645\u001b[0;31m         \u001b[0mself\u001b[0m\u001b[0;34m.\u001b[0m\u001b[0m_make_engine\u001b[0m\u001b[0;34m(\u001b[0m\u001b[0mself\u001b[0m\u001b[0;34m.\u001b[0m\u001b[0mengine\u001b[0m\u001b[0;34m)\u001b[0m\u001b[0;34m\u001b[0m\u001b[0m\n\u001b[0m\u001b[1;32m    646\u001b[0m \u001b[0;34m\u001b[0m\u001b[0m\n\u001b[1;32m    647\u001b[0m     \u001b[0;32mdef\u001b[0m \u001b[0mclose\u001b[0m\u001b[0;34m(\u001b[0m\u001b[0mself\u001b[0m\u001b[0;34m)\u001b[0m\u001b[0;34m:\u001b[0m\u001b[0;34m\u001b[0m\u001b[0m\n",
      "\u001b[0;32m//anaconda/lib/python2.7/site-packages/pandas/io/parsers.pyc\u001b[0m in \u001b[0;36m_make_engine\u001b[0;34m(self, engine)\u001b[0m\n\u001b[1;32m    797\u001b[0m     \u001b[0;32mdef\u001b[0m \u001b[0m_make_engine\u001b[0m\u001b[0;34m(\u001b[0m\u001b[0mself\u001b[0m\u001b[0;34m,\u001b[0m \u001b[0mengine\u001b[0m\u001b[0;34m=\u001b[0m\u001b[0;34m'c'\u001b[0m\u001b[0;34m)\u001b[0m\u001b[0;34m:\u001b[0m\u001b[0;34m\u001b[0m\u001b[0m\n\u001b[1;32m    798\u001b[0m         \u001b[0;32mif\u001b[0m \u001b[0mengine\u001b[0m \u001b[0;34m==\u001b[0m \u001b[0;34m'c'\u001b[0m\u001b[0;34m:\u001b[0m\u001b[0;34m\u001b[0m\u001b[0m\n\u001b[0;32m--> 799\u001b[0;31m             \u001b[0mself\u001b[0m\u001b[0;34m.\u001b[0m\u001b[0m_engine\u001b[0m \u001b[0;34m=\u001b[0m \u001b[0mCParserWrapper\u001b[0m\u001b[0;34m(\u001b[0m\u001b[0mself\u001b[0m\u001b[0;34m.\u001b[0m\u001b[0mf\u001b[0m\u001b[0;34m,\u001b[0m \u001b[0;34m**\u001b[0m\u001b[0mself\u001b[0m\u001b[0;34m.\u001b[0m\u001b[0moptions\u001b[0m\u001b[0;34m)\u001b[0m\u001b[0;34m\u001b[0m\u001b[0m\n\u001b[0m\u001b[1;32m    800\u001b[0m         \u001b[0;32melse\u001b[0m\u001b[0;34m:\u001b[0m\u001b[0;34m\u001b[0m\u001b[0m\n\u001b[1;32m    801\u001b[0m             \u001b[0;32mif\u001b[0m \u001b[0mengine\u001b[0m \u001b[0;34m==\u001b[0m \u001b[0;34m'python'\u001b[0m\u001b[0;34m:\u001b[0m\u001b[0;34m\u001b[0m\u001b[0m\n",
      "\u001b[0;32m//anaconda/lib/python2.7/site-packages/pandas/io/parsers.pyc\u001b[0m in \u001b[0;36m__init__\u001b[0;34m(self, src, **kwds)\u001b[0m\n\u001b[1;32m   1211\u001b[0m         \u001b[0mkwds\u001b[0m\u001b[0;34m[\u001b[0m\u001b[0;34m'allow_leading_cols'\u001b[0m\u001b[0;34m]\u001b[0m \u001b[0;34m=\u001b[0m \u001b[0mself\u001b[0m\u001b[0;34m.\u001b[0m\u001b[0mindex_col\u001b[0m \u001b[0;32mis\u001b[0m \u001b[0;32mnot\u001b[0m \u001b[0mFalse\u001b[0m\u001b[0;34m\u001b[0m\u001b[0m\n\u001b[1;32m   1212\u001b[0m \u001b[0;34m\u001b[0m\u001b[0m\n\u001b[0;32m-> 1213\u001b[0;31m         \u001b[0mself\u001b[0m\u001b[0;34m.\u001b[0m\u001b[0m_reader\u001b[0m \u001b[0;34m=\u001b[0m \u001b[0m_parser\u001b[0m\u001b[0;34m.\u001b[0m\u001b[0mTextReader\u001b[0m\u001b[0;34m(\u001b[0m\u001b[0msrc\u001b[0m\u001b[0;34m,\u001b[0m \u001b[0;34m**\u001b[0m\u001b[0mkwds\u001b[0m\u001b[0;34m)\u001b[0m\u001b[0;34m\u001b[0m\u001b[0m\n\u001b[0m\u001b[1;32m   1214\u001b[0m \u001b[0;34m\u001b[0m\u001b[0m\n\u001b[1;32m   1215\u001b[0m         \u001b[0;31m# XXX\u001b[0m\u001b[0;34m\u001b[0m\u001b[0;34m\u001b[0m\u001b[0m\n",
      "\u001b[0;32mpandas/parser.pyx\u001b[0m in \u001b[0;36mpandas.parser.TextReader.__cinit__ (pandas/parser.c:3427)\u001b[0;34m()\u001b[0m\n",
      "\u001b[0;32mpandas/parser.pyx\u001b[0m in \u001b[0;36mpandas.parser.TextReader._setup_parser_source (pandas/parser.c:6861)\u001b[0;34m()\u001b[0m\n",
      "\u001b[0;31mIOError\u001b[0m: File Iowa_Liquor_Sales.csv does not exist"
     ]
    }
   ],
   "source": [
    "## Load the data into a DataFrame\n",
    "df = pd.read_csv(\"Iowa_Liquor_Sales.csv\")\n",
    "\n",
    "df.head()"
   ]
  },
  {
   "cell_type": "code",
   "execution_count": null,
   "metadata": {
    "collapsed": false
   },
   "outputs": [],
   "source": [
    "df.info()"
   ]
  },
  {
   "cell_type": "markdown",
   "metadata": {},
   "source": [
    "### Data Munging"
   ]
  },
  {
   "cell_type": "code",
   "execution_count": null,
   "metadata": {
    "collapsed": false
   },
   "outputs": [],
   "source": [
    "df['Date'] = df['Date'].apply(pd.to_datetime)"
   ]
  },
  {
   "cell_type": "code",
   "execution_count": null,
   "metadata": {
    "collapsed": false
   },
   "outputs": [],
   "source": [
    "# Function to convert money columns from string to float\n",
    "\n",
    "def conv_money(x):\n",
    "    x = x.split('.')\n",
    "    return (float(x[0][1:]) + (float(x[1]) / 100))"
   ]
  },
  {
   "cell_type": "code",
   "execution_count": null,
   "metadata": {
    "collapsed": false
   },
   "outputs": [],
   "source": [
    "# Converting columns with money value to float\n",
    "\n",
    "df[['State Bottle Cost', 'State Bottle Retail', \"Sale (Dollars)\"]] = \\\n",
    "df[['State Bottle Cost', 'State Bottle Retail', \"Sale (Dollars)\"]].applymap(conv_money)"
   ]
  },
  {
   "cell_type": "code",
   "execution_count": null,
   "metadata": {
    "collapsed": false
   },
   "outputs": [],
   "source": [
    "df['Item Description'] = df['Item Description'].apply(lambda x: x.strip())"
   ]
  },
  {
   "cell_type": "code",
   "execution_count": null,
   "metadata": {
    "collapsed": false
   },
   "outputs": [],
   "source": [
    "df.info()"
   ]
  },
  {
   "cell_type": "markdown",
   "metadata": {},
   "source": [
    "## Cleaning Zipcodes"
   ]
  },
  {
   "cell_type": "code",
   "execution_count": null,
   "metadata": {
    "collapsed": false
   },
   "outputs": [],
   "source": [
    "## Checking to see if all zipcodes have length of 5\n",
    "\n",
    "df[df['Zip Code'].apply(lambda x: len(str(x)) != 5)]"
   ]
  },
  {
   "cell_type": "code",
   "execution_count": null,
   "metadata": {
    "collapsed": false
   },
   "outputs": [],
   "source": [
    "# Since all has 5, change all to int types\n",
    "\n",
    "df[df['Zip Code'].apply(lambda x: int(x))]"
   ]
  },
  {
   "cell_type": "code",
   "execution_count": null,
   "metadata": {
    "collapsed": false
   },
   "outputs": [],
   "source": [
    "# Even all is length 5, 1 entry was '712-2'\n",
    "# Googled this, turned out to be area code, change to 51529\n",
    "\n",
    "df[df['Zip Code'].apply(lambda x: x == '712-2')]"
   ]
  },
  {
   "cell_type": "code",
   "execution_count": null,
   "metadata": {
    "collapsed": false
   },
   "outputs": [],
   "source": [
    "# Changed erroneous zipcode\n",
    "\n",
    "df.loc[df['Zip Code'] == '712-2', 'Zip Code'] = '51529'\n"
   ]
  },
  {
   "cell_type": "code",
   "execution_count": null,
   "metadata": {
    "collapsed": false
   },
   "outputs": [],
   "source": [
    "# Changed zipcodes to int type\n",
    "\n",
    "df['Zip Code'] = df['Zip Code'].apply(lambda x: int(x))"
   ]
  },
  {
   "cell_type": "code",
   "execution_count": null,
   "metadata": {
    "collapsed": false
   },
   "outputs": [],
   "source": [
    "Image(filename='wrong_zip_des_moines.png')"
   ]
  },
  {
   "cell_type": "code",
   "execution_count": null,
   "metadata": {
    "collapsed": true
   },
   "outputs": [],
   "source": [
    "# Correct Zip Code for Des Moines, Burlington\n",
    "\n",
    "df.loc[df['Zip Code'] == 56201, 'Zip Code'] = 52601"
   ]
  },
  {
   "cell_type": "markdown",
   "metadata": {},
   "source": [
    "## Cleaning City Values"
   ]
  },
  {
   "cell_type": "code",
   "execution_count": null,
   "metadata": {
    "collapsed": false
   },
   "outputs": [],
   "source": [
    "list(df['City'].unique())"
   ]
  },
  {
   "cell_type": "code",
   "execution_count": null,
   "metadata": {
    "collapsed": true
   },
   "outputs": [],
   "source": [
    "# There are some 'City' entries which are in lower case while the majority is in Upper Case. \n",
    "# To prevent double counting, all \"City\" entries are changed to upper case\n",
    "\n",
    "df['City'] = df['City'].apply(lambda x: x.upper())"
   ]
  },
  {
   "cell_type": "markdown",
   "metadata": {},
   "source": [
    "## Cleaning NaN County entries"
   ]
  },
  {
   "cell_type": "code",
   "execution_count": null,
   "metadata": {
    "collapsed": false
   },
   "outputs": [],
   "source": [
    "# Create a new dataframe for rows with NaNs in any cells\n",
    "\n",
    "df_nan = df[pd.isnull(df).any(axis = 1)]"
   ]
  },
  {
   "cell_type": "code",
   "execution_count": null,
   "metadata": {
    "collapsed": false
   },
   "outputs": [],
   "source": [
    "df_nan.head()"
   ]
  },
  {
   "cell_type": "code",
   "execution_count": null,
   "metadata": {
    "collapsed": false
   },
   "outputs": [],
   "source": [
    "# Printing columns that contain \"NaN\" and count the number of NaN entries per column\n",
    "\n",
    "tbc_list = []\n",
    "\n",
    "for col in df.columns:\n",
    "    x = sum(pd.isnull(df[col]))\n",
    "    if x != 0:\n",
    "        tbc_list.append(col)\n",
    "        print col, x"
   ]
  },
  {
   "cell_type": "code",
   "execution_count": null,
   "metadata": {
    "collapsed": false
   },
   "outputs": [],
   "source": [
    "# Some counties and county numbers are not filled.\n",
    "# Since \"City\" column does not contain NaN and Cities are a subset of counties,\n",
    "# we try to see if there are similar cities with non-empty county values which we can then copy to the NaN county cells\n",
    "\n",
    "\n",
    "# Create a set of Cities with NaN for county or county Number\n",
    "\n",
    "city_nan_list = list(df_nan['City'].unique())\n",
    "\n",
    "city_nan_list"
   ]
  },
  {
   "cell_type": "code",
   "execution_count": null,
   "metadata": {
    "collapsed": false
   },
   "outputs": [],
   "source": [
    "# Creating a dictionary with \"City\" as key and collecting all possible corresponding \"County\" and \"County Name\"\n",
    "# as values of the dictionary\n",
    "\n",
    "nan_cty_dict = {}\n",
    "\n",
    "for j in city_nan_list:\n",
    "    c_set = {x for x in df[df['City']==j]['County'] if x > 0} # x > 0 to skip NaN values\n",
    "    num_set = {x for x in df[df['City']==j]['County Number'] if x > 0}\n",
    "    nan_cty_dict[j] = [list(c_set), list(num_set)]\n",
    "\n",
    "nan_cty_dict"
   ]
  },
  {
   "cell_type": "code",
   "execution_count": null,
   "metadata": {
    "collapsed": false
   },
   "outputs": [],
   "source": [
    "## Replacing NaN county cells using corresponding city value as key\n",
    "\n",
    "for cty in nan_cty_dict:\n",
    "    try:\n",
    "        df.loc[df['City'] == cty, 'County'] = nan_cty_dict[cty][0][0]\n",
    "        df.loc[df['City'] == cty, \"County Number\"] = nan_cty_dict[cty][1][0]\n",
    "    except:\n",
    "        pass"
   ]
  },
  {
   "cell_type": "code",
   "execution_count": null,
   "metadata": {
    "collapsed": false
   },
   "outputs": [],
   "source": [
    "# Recreate a new df to check remaining NaN row\n",
    "df_nan = df[pd.isnull(df[['County','County Number']]).any(axis = 1)]"
   ]
  },
  {
   "cell_type": "code",
   "execution_count": null,
   "metadata": {
    "collapsed": false
   },
   "outputs": [],
   "source": [
    "# Collect cities with NaN values\n",
    "city_nan_list = list(df_nan['City'].unique())\n",
    "\n",
    "city_nan_list"
   ]
  },
  {
   "cell_type": "code",
   "execution_count": null,
   "metadata": {
    "collapsed": false
   },
   "outputs": [],
   "source": [
    "nan_cty_dict = {}\n",
    "\n",
    "for j in city_nan_list:\n",
    "    c_set = {x for x in df[df['City']==j]['County']} # x > 0 to skip NaN values\n",
    "    num_set = {x for x in df[df['City']==j]['County Number']}\n",
    "    nan_cty_dict[j] = [list(c_set), list(num_set)]\n",
    "\n",
    "nan_cty_dict"
   ]
  },
  {
   "cell_type": "code",
   "execution_count": null,
   "metadata": {
    "collapsed": false
   },
   "outputs": [],
   "source": [
    "# Updating counties by hand\n",
    "\n",
    "df.loc[df['City'] == 'TABOR', 'County'] = 'Fremont'\n",
    "df.loc[df['City'] == 'RUNNELLS', 'County'] = 'Polk'\n",
    "df.loc[df['City'] == 'SEYMOUR', 'County'] = 'Wayne'"
   ]
  },
  {
   "cell_type": "code",
   "execution_count": null,
   "metadata": {
    "collapsed": true
   },
   "outputs": [],
   "source": [
    "# Recreate a new df to check remaining NaN row\n",
    "df_nan = df[pd.isnull(df['County'])]"
   ]
  },
  {
   "cell_type": "code",
   "execution_count": null,
   "metadata": {
    "collapsed": false
   },
   "outputs": [],
   "source": [
    "len(df_nan)"
   ]
  },
  {
   "cell_type": "markdown",
   "metadata": {},
   "source": [
    "#### Comments:\n",
    "\n",
    "Remaining 12 rows with empty counties were filled manually. Without a reference of how county numbers were developed, we left the empty county numbers empty. Analyses based on counties will be performed on 'County' instead of 'County Number'."
   ]
  },
  {
   "cell_type": "markdown",
   "metadata": {},
   "source": [
    "# ---------------------------------------------------------------"
   ]
  },
  {
   "cell_type": "markdown",
   "metadata": {},
   "source": [
    "## Cleaning Empty Category Name using Item Decription"
   ]
  },
  {
   "cell_type": "code",
   "execution_count": null,
   "metadata": {
    "collapsed": false
   },
   "outputs": [],
   "source": [
    "df_nan = df[pd.isnull(df['Category Name'])]\n",
    "print len(df_nan)\n",
    "df_nan"
   ]
  },
  {
   "cell_type": "code",
   "execution_count": null,
   "metadata": {
    "collapsed": false
   },
   "outputs": [],
   "source": [
    "# Create a list of \"Item Description\" with NaN in rows\n",
    "item_nan_list = list(df_nan['Item Description'].unique())\n",
    "\n",
    "item_nan_list"
   ]
  },
  {
   "cell_type": "code",
   "execution_count": null,
   "metadata": {
    "collapsed": false
   },
   "outputs": [],
   "source": [
    "item_dict = {}\n",
    "\n",
    "for j in item_nan_list:\n",
    "    c_set = {x for x in df[df['Item Description']==j]['Category Name'] if x > 0}\n",
    "    item_dict[j] = list(c_set)\n",
    "\n",
    "item_dict"
   ]
  },
  {
   "cell_type": "code",
   "execution_count": null,
   "metadata": {
    "collapsed": false
   },
   "outputs": [],
   "source": [
    "for drink in item_dict:\n",
    "    try:\n",
    "        df.loc[df['Item Description'] == drink, 'Category Name'] = item_dict[drink][0]\n",
    "    except:\n",
    "        pass"
   ]
  },
  {
   "cell_type": "code",
   "execution_count": null,
   "metadata": {
    "collapsed": false
   },
   "outputs": [],
   "source": [
    "df_nan = df[pd.isnull(df['Category Name'])]\n",
    "print len(df_nan)\n",
    "df_nan"
   ]
  },
  {
   "cell_type": "code",
   "execution_count": null,
   "metadata": {
    "collapsed": false
   },
   "outputs": [],
   "source": [
    "df_nan['Item Description'].unique()"
   ]
  },
  {
   "cell_type": "code",
   "execution_count": null,
   "metadata": {
    "collapsed": true
   },
   "outputs": [],
   "source": [
    "package = ['Jack Daniels TN Honey & Jack Daniels TN Fire 750mls w/2Gls', 'Bombay Sapphire w/Glass',\\\n",
    "           'Evan Williams Egg Nog', 'Pinnacle Candy Cane Trial Pack', 'Wild Turkey American Honey Shot Tap',\\\n",
    "           'Knob Creek w/ Crystal Decanter']\n",
    "\n",
    "for i in package:\n",
    "    df.loc[df['Item Description'] == i,'Category Name'] = 'DECANTERS & SPECIALTY PACKAGES'"
   ]
  },
  {
   "cell_type": "code",
   "execution_count": null,
   "metadata": {
    "collapsed": true
   },
   "outputs": [],
   "source": [
    "df.loc[df['Item Description'] == 'Woodford Reserve MC 1838 White Corn',\\\n",
    "       'Category Name'] = 'CORN WHISKIES'\n",
    "\n",
    "df.loc[df['Item Description'] == 'Hudson New York Corn',\\\n",
    "       'Category Name'] = 'CORN WHISKIES'"
   ]
  },
  {
   "cell_type": "code",
   "execution_count": null,
   "metadata": {
    "collapsed": true
   },
   "outputs": [],
   "source": [
    "lique = ['Rothman & Winter Orchard Peach', 'Giffard Creme de Pamplemousse Rose Pink Grapefruit Liqueur',\\\n",
    "        'Pearl Caramel', 'Tiramisu Italian Liqueur', 'The Bitter Truth Apricot Liqueur',\\\n",
    "       'The Bitter Truth Violet Liqueur', 'Kahlua Mocha', \"Dr. McGillicuddy's Mentholmint\", 'Alize Blue',\\\n",
    "         'The Kings Ginger', 'Courvoisier Gold', 'Grand Marnier Cuvee 1880 HA', 'Cocoyac Excellence'\\\n",
    "        ]\n",
    "\n",
    "for i in lique:\n",
    "    df.loc[df['Item Description'] == i,'Category Name'] ='MISC. IMPORTED CORDIALS & LIQUEURS'"
   ]
  },
  {
   "cell_type": "code",
   "execution_count": null,
   "metadata": {
    "collapsed": true
   },
   "outputs": [],
   "source": [
    "scotch = ['Westland American Single Malt',\n",
    "       'Westland Peated Single Malt', 'Westland Sherry Wood Single Malt'\\\n",
    "          'Glenfiddich 1963 Replica HA']\n",
    "\n",
    "for s in scotch:\n",
    "    df.loc[df['Item Description'] == s, 'Category Name'] ='SINGLE MALT SCOTCH'"
   ]
  },
  {
   "cell_type": "code",
   "execution_count": null,
   "metadata": {
    "collapsed": true
   },
   "outputs": [],
   "source": [
    "df.loc[df['Item Description'] == 'Parkers Heritage Collection Malt Whiskey HA',\\\n",
    "       'Category Name'] = \"STRAIGHT BOURBON WHISKIES\"\n",
    "\n",
    "df.loc[df['Item Description'] == 'Chivas Regal 18YR Tin HA',\\\n",
    "       'Category Name'] = 'BLENDED WHISKIES'\n"
   ]
  },
  {
   "cell_type": "code",
   "execution_count": null,
   "metadata": {
    "collapsed": false
   },
   "outputs": [],
   "source": [
    "vod = ['High Stick Vodka', 'Ciroc Ten HA', 'Ultimat Vodka', 'Karlssons Gold Vodka']\n",
    "\n",
    "for i in vod:\n",
    "    df.loc[df['Item Description'] == i,'Category Name'] = 'IMPORTED VODKA'\n",
    "\n",
    "df.loc[df['Item Description'] == 'Absolut Black 100', 'Category Name'] = '100 PROOF VODKA'\n",
    "\n",
    "fvod = ['Van Gogh Rich Dark Chocolate Vodka',\\\n",
    "        'Absolut w/Ginger Beer',\\\n",
    "       'Van Gogh Chocolate Vodka',\\\n",
    "       'Svedka Strawberry Lemonade Vodka',\\\n",
    "       'Van Gogh Coconut', 'Alize Gold']\n",
    "\n",
    "for f in fvod:\n",
    "    df.loc[df['Item Description'] == f, 'Category Name'] = 'VODKA FLAVORED'\n",
    "    \n",
    "    \n",
    "df.loc[df['Item Description'] == 'Twenty Grand Gold',\\\n",
    "       'Category Name'] = 'VODKA 80 PROOF'"
   ]
  },
  {
   "cell_type": "code",
   "execution_count": null,
   "metadata": {
    "collapsed": true
   },
   "outputs": [],
   "source": [
    "teq = ['Del Maguey San Luis Del Rio', \"Hussong's Reposado Tequila 100% Agave\"]\n",
    "\n",
    "for t in teq:\n",
    "    df.loc[df['Item Description'] == t, 'Category Name'] = 'TEQUILA'"
   ]
  },
  {
   "cell_type": "code",
   "execution_count": null,
   "metadata": {
    "collapsed": true
   },
   "outputs": [],
   "source": [
    "df.loc[df['Item Description'] == 'Kraken Black Mini', 'Category Name'] = 'SPICED RUM'\n",
    "\n",
    "df.loc[df['Item Description'] == 'The Bitter Truth Pimento Dram', 'Category Name'] = 'JAMAICA RUM'\n",
    "\n",
    "\n",
    "\n",
    "rum = ['Rondiaz Coconut Rum', 'Calico Tropical Punch Jack Rum' \"Whaler's Original Dark Rum\"]\n",
    "\n",
    "for r in rum:\n",
    "    df.loc[df['Item Description'] == r, 'Category Name'] = 'FLAVORED RUM'"
   ]
  },
  {
   "cell_type": "code",
   "execution_count": null,
   "metadata": {
    "collapsed": true
   },
   "outputs": [],
   "source": [
    "df.loc[df['Item Description'] == 'St. George Absinthe Verte', 'Category Name'] = 'DISTILLED SPIRITS SPECIALTY'"
   ]
  },
  {
   "cell_type": "code",
   "execution_count": null,
   "metadata": {
    "collapsed": true
   },
   "outputs": [],
   "source": [
    "brandy = ['Christian Drouin Calvados Selcetion',\\\n",
    "          'Terry Centenario']\n",
    "\n",
    "for b in brandy:\n",
    "    df.loc[df['Item Description'] == b, 'Category Name'] = 'IMPORTED GRAPE BRANDIES'"
   ]
  },
  {
   "cell_type": "code",
   "execution_count": null,
   "metadata": {
    "collapsed": true
   },
   "outputs": [],
   "source": [
    "df.loc[df['Item Description'] == 'Anchor Old Tom Gin', 'Category Name'] = 'AMERICAN DRY GINS'"
   ]
  },
  {
   "cell_type": "code",
   "execution_count": null,
   "metadata": {
    "collapsed": false
   },
   "outputs": [],
   "source": [
    "df.loc[df['Item Description'] == 'Gamle Ode Celebration Aquavit', 'Category Name'] = 'MISCELLANEOUS SCHNAPPS'\n",
    "\n",
    "df.loc[df['Item Description'] == 'Gamle Ode Holiday', 'Category Name'] = 'MISCELLANEOUS SCHNAPPS'"
   ]
  },
  {
   "cell_type": "markdown",
   "metadata": {},
   "source": [
    "#### Comments:\n",
    "\n",
    "There are still cells in 'Category' with NaN values, however, since we will only be using \"Category Name\" for analyses, NaNs in 'Category' were not cleaned."
   ]
  },
  {
   "cell_type": "markdown",
   "metadata": {},
   "source": [
    "## Creating new features"
   ]
  },
  {
   "cell_type": "markdown",
   "metadata": {},
   "source": [
    "### Year"
   ]
  },
  {
   "cell_type": "code",
   "execution_count": null,
   "metadata": {
    "collapsed": false
   },
   "outputs": [],
   "source": [
    "df['Sale Year'] = df['Date'].dt.year"
   ]
  },
  {
   "cell_type": "markdown",
   "metadata": {},
   "source": [
    "### Month"
   ]
  },
  {
   "cell_type": "code",
   "execution_count": null,
   "metadata": {
    "collapsed": false
   },
   "outputs": [],
   "source": [
    "df['Sale Month'] = df['Date'].dt.month"
   ]
  },
  {
   "cell_type": "code",
   "execution_count": null,
   "metadata": {
    "collapsed": false
   },
   "outputs": [],
   "source": [
    "pd.pivot_table(df, index = [\"County\"],\\\n",
    "               values = [\"State Bottle Retail\", \"Sale (Dollars)\", 'Bottles Sold'],\\\n",
    "               aggfunc = [np.sum]).sort_values([('sum', 'Bottles Sold')], ascending = False)"
   ]
  },
  {
   "cell_type": "code",
   "execution_count": null,
   "metadata": {
    "collapsed": false
   },
   "outputs": [],
   "source": [
    "df['City'].value_counts()"
   ]
  },
  {
   "cell_type": "markdown",
   "metadata": {},
   "source": [
    "#### Scenario 2: Market research for new store locations\n",
    "\n",
    "A liquor store owner in Iowa is looking to expand to new locations and has hired you to investigate the market data for potential new locations. The business owner is interested in the details of the best model you can fit to the data so that his team can evaluate potential locations for a new storefront.\n",
    "\n",
    "**Goal for Scenario #2:** Your task is to:\n",
    "\n",
    "* Build models of total sales based on location, price per bottle, total bottles sold. You may find it useful to build models for each county, zip code, or city.\n",
    "* Provide a table of the best performing stores by location type of your choice (city, county, or zip code) and the predictions of your model(s).\n",
    "* Based on your models and the table of data, recommend some general locations to the business owner, taking into account model performance. Validate your model's performance and ability to predict future sales using cross-validation.\n",
    "* _Bonus_: Recommend targets for volume sold and price per bottle!\n",
    "\n",
    "---"
   ]
  },
  {
   "cell_type": "code",
   "execution_count": null,
   "metadata": {
    "collapsed": false
   },
   "outputs": [],
   "source": [
    "# Creating a new df for 2015 and 2016 separately\n",
    "df_15 = df[df['Sale Year'] == 2015]\n",
    "df_16 = df[df['Sale Year'] == 2016]"
   ]
  },
  {
   "cell_type": "code",
   "execution_count": null,
   "metadata": {
    "collapsed": false
   },
   "outputs": [],
   "source": [
    "# Pivoting data frame based on county\n",
    "\n",
    "county_15 = pd.pivot_table(df, index = ['County'], \\\n",
    "               values = ['State Bottle Retail', 'Bottles Sold', 'Sale (Dollars)', 'Store Number'],\\\n",
    "              aggfunc = [np.sum, np.mean, pd.Series.nunique]\\\n",
    "              ).sort_values([('sum', 'Sale (Dollars)')], ascending = False)\n",
    "\n",
    "county_15.reset_index(inplace=True)\n",
    "county_15.head()"
   ]
  },
  {
   "cell_type": "code",
   "execution_count": null,
   "metadata": {
    "collapsed": false
   },
   "outputs": [],
   "source": [
    "# Extracting relevant columns into a new df\n",
    "\n",
    "county_15_new = pd.concat([county_15['County'], \\\n",
    "                          county_15[('sum', 'Sale (Dollars)')], \\\n",
    "                          county_15[('sum', 'Bottles Sold')], \\\n",
    "                          county_15[('mean', 'State Bottle Retail')], \\\n",
    "                          county_15[('nunique', 'Store Number')] \\\n",
    "                          ], \\\n",
    "                          axis = 1)\n",
    "\n",
    "county_15_new.columns = ['County', 'Sum Sale','Sum Bottles Sold', \"Avg Bottle Price\",\"Number of stores\"]\n",
    "\n",
    "county_15_new['Avg Bottle Price'] = county_15_new['Avg Bottle Price'].apply(lambda x: round(x, 2))\n",
    "\n",
    "county_15_new.sort_values(['Sum Sale'], ascending = False, inplace=True)\n",
    "\n",
    "county_15_new.head(10)"
   ]
  },
  {
   "cell_type": "code",
   "execution_count": null,
   "metadata": {
    "collapsed": false
   },
   "outputs": [],
   "source": [
    "# Plotting total sale of each county for top 15 counties in descending sale\n",
    "\n",
    "ax = county_15_new.head(10).plot(x = 'County', kind = \"bar\", y = 'Sum Sale', figsize = (15,8))\n",
    "\n",
    "ax.set_title('Total Sales in top 10 Counties in 2015 IOWA')\n",
    "ax.set_xlabel('County')\n",
    "ax.set_yticklabels(['$1,000,000', '$2,000,000', '$3,000,000',\\\n",
    "                    '$4,000,000', '$5,000,000', '$6,000,000', \\\n",
    "                    '$7,000,000', '$8,000,000', '$9,000,000'], fontsize = 12);"
   ]
  },
  {
   "cell_type": "markdown",
   "metadata": {},
   "source": [
    "#### Comments:\n",
    "\n",
    "In 2015, Polk had, by far, the highest sales in all counties in IOWA, over 2 times the next highest county, Linn."
   ]
  },
  {
   "cell_type": "code",
   "execution_count": null,
   "metadata": {
    "collapsed": false
   },
   "outputs": [],
   "source": [
    "# Pivoting based on store number\n",
    "\n",
    "st = pd.pivot_table(df_15, index = ['Store Number', 'County'],\\\n",
    "                       values = ['Bottles Sold',\\\n",
    "                                 'Sale (Dollars)',\\\n",
    "                                 'State Bottle Retail' \\\n",
    "                                ],\\\n",
    "                       aggfunc = [np.sum, np.mean]\\\n",
    "                      ).sort_values([('sum', 'Sale (Dollars)')], ascending = False)\n",
    "\n",
    "st.reset_index(inplace=True)\n",
    "\n",
    "st.head()                 "
   ]
  },
  {
   "cell_type": "code",
   "execution_count": null,
   "metadata": {
    "collapsed": false
   },
   "outputs": [],
   "source": [
    "# Extracting relevant columns into a new df\n",
    "\n",
    "st_n = pd.concat([st['Store Number'], \\\n",
    "               st['County'], \\\n",
    "               st[('sum', 'Sale (Dollars)')], \\\n",
    "               st[('sum', 'Bottles Sold')], \\\n",
    "               st[('mean', 'State Bottle Retail')], \\\n",
    "               ], \\\n",
    "              axis = 1)\n",
    "\n",
    "st_n.columns = ['Store Number', 'County','Sum Sale', 'Sum Bottles Sold', \"Avg Bottle Price\"]\n",
    "\n",
    "st_n['Avg Bottle Price'] = st_n['Avg Bottle Price'].apply(lambda x: round(x, 2))\n",
    "\n",
    "st_n.sort_values(['Sum Sale'], ascending = False, inplace=True)\n",
    "\n",
    "st_n.head(10)"
   ]
  },
  {
   "cell_type": "code",
   "execution_count": null,
   "metadata": {
    "collapsed": false
   },
   "outputs": [],
   "source": [
    "import seaborn as sns\n",
    "sns.pairplot(st_n)"
   ]
  },
  {
   "cell_type": "code",
   "execution_count": null,
   "metadata": {
    "collapsed": false
   },
   "outputs": [],
   "source": [
    "# Zooming into the highly skewed distribution of sale\n",
    "\n",
    "ax = st_n['Sum Sale'].hist(bins = 2000, figsize = (15,8))\n",
    "ax.set_xlim([0,1000000]);"
   ]
  },
  {
   "cell_type": "code",
   "execution_count": null,
   "metadata": {
    "collapsed": false
   },
   "outputs": [],
   "source": [
    "ax = st_n['Sum Sale'].hist(bins = 2000, figsize = (15,8))\n",
    "ax.set_xlim([0,250000]);"
   ]
  },
  {
   "cell_type": "code",
   "execution_count": null,
   "metadata": {
    "collapsed": false
   },
   "outputs": [],
   "source": [
    "# Plotting number of bottles sold vs sale for each store in IOWA in 2015\n",
    "\n",
    "ax = st_n.plot(kind = 'scatter', x = 'Sum Bottles Sold', y = 'Sum Sale',\\\n",
    "                  s = 200, alpha = 0.3, figsize = (15,8))\n",
    "ax.set_title('Number of bottles sold vs sale for each liquor store in 2015 IOWA ', y = 1.01);"
   ]
  },
  {
   "cell_type": "code",
   "execution_count": null,
   "metadata": {
    "collapsed": false
   },
   "outputs": [],
   "source": [
    "# View of outliers\n",
    "\n",
    "st_n[st_n['Sum Bottles Sold'] >= 100000]"
   ]
  },
  {
   "cell_type": "markdown",
   "metadata": {},
   "source": [
    "#### Comments:\n",
    "\n",
    "As suspected, all these outliers came from the Top 10 counties for sale. In particular, Polk had 2 of the extreme outliers with sale of over $8,000,000."
   ]
  },
  {
   "cell_type": "markdown",
   "metadata": {},
   "source": [
    "## Using Median instead of mean due to presence of strong outliers"
   ]
  },
  {
   "cell_type": "code",
   "execution_count": null,
   "metadata": {
    "collapsed": false
   },
   "outputs": [],
   "source": [
    "# Pivoting based on county\n",
    "\n",
    "st_piv = pd.pivot_table(st_n, index = ['County'], \\\n",
    "                        aggfunc = [sum, np.median, pd.Series.nunique]\\\n",
    "                        ).sort_values(\\\n",
    "                                      [('median', 'Sum Sale')], ascending = False\\\n",
    "                                     )\n",
    "st_piv.reset_index(inplace=True)\n",
    "st_piv.head(15)"
   ]
  },
  {
   "cell_type": "code",
   "execution_count": null,
   "metadata": {
    "collapsed": false
   },
   "outputs": [],
   "source": [
    "# Selecting required columns to view county performance based on median\n",
    "\n",
    "median_county = pd.concat([st_piv['County'], \\\n",
    "                           st_piv[('sum', 'Sum Sale')], \\\n",
    "                           st_piv[('sum', 'Sum Bottles Sold')], \\\n",
    "                           st_piv[('median', 'Sum Sale')], \\\n",
    "                           st_piv[('median', 'Sum Bottles Sold')], \\\n",
    "                           st_piv[('median', 'Avg Bottle Price')], \\\n",
    "                           st_piv[('nunique', 'Store Number')], \\\n",
    "                          ], \\\n",
    "                          axis = 1)\n",
    "\n",
    "# Renaming the columns\n",
    "\n",
    "median_county.columns = ['County','Sum Sale', \\\n",
    "                         'Sum Bottles Sold', \\\n",
    "                         'Median Sale', \\\n",
    "                         \"Median Bottles Sold\", \\\n",
    "                         \"Median Bottle Price\", \\\n",
    "                         'No. of stores']\n",
    "\n",
    "median_county.sort_values(['Median Sale'], ascending = False, inplace=True)\n",
    "\n",
    "median_county.head(10)"
   ]
  },
  {
   "cell_type": "code",
   "execution_count": null,
   "metadata": {
    "collapsed": false
   },
   "outputs": [],
   "source": [
    "ax = median_county.head(10).plot(x = 'County', kind = \"bar\", \\\n",
    "                                 y = 'Median Sale', figsize = (15,8))\n",
    "\n",
    "ax.set_title('Yearly Median Sale per store in top 10 Counties in 2015 IOWA', y = 1.05)\n",
    "ax.set_xlabel('County')\n",
    "ax.set_yticklabels(['$5,000', '$10,000', '$15,000',\\\n",
    "                    '$20,000', '$25,000', '$30,000', \\\n",
    "                    '$35,000', '$40,000', '$45,000'], fontsize = 12);"
   ]
  },
  {
   "cell_type": "code",
   "execution_count": null,
   "metadata": {
    "collapsed": false
   },
   "outputs": [],
   "source": [
    "# Display new performance positions of previous top 3 counties\n",
    "\n",
    "median_county[(median_county['County'] == 'Polk')|\\\n",
    "              (median_county['County'] == 'Linn')|\\\n",
    "              (median_county['County'] == 'Scott')]"
   ]
  },
  {
   "cell_type": "markdown",
   "metadata": {},
   "source": [
    "#### Comments:\n",
    "\n",
    "Due to the presence of outliers, using mean would distort the data significantly. We see that using median as a metric shows a completely different list of counties.\n",
    "\n",
    "Interesting to note that from overwhelmingly high positions, Polk, Linn and Scott, are not even in the top 20 counties in median yearly sale (52nd, 55th and 18th position respectively)."
   ]
  },
  {
   "cell_type": "markdown",
   "metadata": {},
   "source": [
    "## Modelling (with outliers)"
   ]
  },
  {
   "cell_type": "markdown",
   "metadata": {},
   "source": [
    "### County : Winneshiek (Top Median sale)"
   ]
  },
  {
   "cell_type": "code",
   "execution_count": null,
   "metadata": {
    "collapsed": false
   },
   "outputs": [],
   "source": [
    "# Filtering the df for data from first 3 months of 2015\n",
    "\n",
    "dfm = df_15[((df_15['Sale Month'] == 1)|(df_15['Sale Month'] == 2)|(df_15['Sale Month'] == 3))\\\n",
    "        & (df_15['County'] == \"Winneshiek\")]"
   ]
  },
  {
   "cell_type": "code",
   "execution_count": null,
   "metadata": {
    "collapsed": false
   },
   "outputs": [],
   "source": [
    "dfm.head()"
   ]
  },
  {
   "cell_type": "code",
   "execution_count": null,
   "metadata": {
    "collapsed": false
   },
   "outputs": [],
   "source": [
    "dfm_piv = pd.pivot_table(dfm, index = ['Store Number'], \\\n",
    "                        aggfunc = sum\\\n",
    "                        ).sort_values(\\\n",
    "                                      [('Sale (Dollars)')], ascending = False\\\n",
    "                                     )\n",
    "dfm_piv.reset_index(inplace=True)\n",
    "\n",
    "dfm_piv.head()"
   ]
  },
  {
   "cell_type": "code",
   "execution_count": null,
   "metadata": {
    "collapsed": true
   },
   "outputs": [],
   "source": [
    "dfmm = pd.concat([dfm_piv[('Bottles Sold')], \\\n",
    "                           dfm_piv[('Bottle Volume (ml)')], \\\n",
    "                           dfm_piv[('State Bottle Cost')], \\\n",
    "                           dfm_piv[('State Bottle Retail')], \\\n",
    "                          ], \\\n",
    "                          axis = 1)\n",
    "\n",
    "# Renaming the columns\n",
    "\n",
    "dfmm.columns = ['Sum Bottles Sold', \\\n",
    "                         'Sum volume sold (ml)', \\\n",
    "                         \"Sum Bottle Cost\", \\\n",
    "                         \"Sum Bottle Price\"\n",
    "                        ]"
   ]
  },
  {
   "cell_type": "code",
   "execution_count": null,
   "metadata": {
    "collapsed": true
   },
   "outputs": [],
   "source": [
    "# Filtering the df for data from first 3 months of 2015\n",
    "\n",
    "dft = df_15[((df_15['Sale Month'] != 1)|(df_15['Sale Month'] != 2)|(df_15['Sale Month'] != 3))\\\n",
    "        & (df_15['County'] == \"Winneshiek\")]"
   ]
  },
  {
   "cell_type": "code",
   "execution_count": null,
   "metadata": {
    "collapsed": true
   },
   "outputs": [],
   "source": [
    "dft_piv = pd.pivot_table(dft, index = ['Store Number'], \\\n",
    "                        aggfunc = sum\\\n",
    "                        ).sort_values(\\\n",
    "                                      [('Sale (Dollars)')], ascending = False\\\n",
    "                                     )\n",
    "dft_piv.reset_index(inplace=True)\n",
    "\n",
    "\n",
    "dftt = pd.concat([dft_piv[('Bottles Sold')], \\\n",
    "                           dft_piv[('Bottle Volume (ml)')], \\\n",
    "                           dft_piv[('State Bottle Cost')], \\\n",
    "                           dft_piv[('State Bottle Retail')], \\\n",
    "                          ], \\\n",
    "                          axis = 1)\n",
    "\n",
    "# Renaming the columns\n",
    "\n",
    "dftt.columns = ['Sum Bottles Sold', \\\n",
    "                         'Sum volume sold (ml)', \\\n",
    "                         \"Sum Bottle Cost\", \\\n",
    "                         \"Sum Bottle Price\"\n",
    "                        ]"
   ]
  },
  {
   "cell_type": "markdown",
   "metadata": {},
   "source": [
    "### Using pure linear regression"
   ]
  },
  {
   "cell_type": "code",
   "execution_count": null,
   "metadata": {
    "collapsed": false
   },
   "outputs": [],
   "source": [
    "X = dfmm\n",
    "y = dfm_piv['Sale (Dollars)']\n",
    "\n",
    "lm = linear_model.LinearRegression()\n",
    "lm.fit(X,y)\n",
    "\n",
    "pred = lm.predict(dftt)\n",
    "print \"r2 = \", r2_score(dft_piv['Sale (Dollars)'], pred)\n",
    "print \"MSE =\", mean_squared_error(dft_piv['Sale (Dollars)'], pred)"
   ]
  },
  {
   "cell_type": "markdown",
   "metadata": {},
   "source": [
    "## Using RidgeCV"
   ]
  },
  {
   "cell_type": "code",
   "execution_count": null,
   "metadata": {
    "collapsed": false
   },
   "outputs": [],
   "source": [
    "al = [0.00000001,0.00001,0.0001, 0.001, 0.01, 0.1, 0.2, 0.3, 0.5, 0.7, 1.0, 5.0, 10.0, 20.0]\n",
    "\n",
    "rcv = linear_model.RidgeCV(alphas = al, cv = 5)\n",
    "rcv.fit(X,y)\n",
    "\n",
    "pred_rcv = rcv.predict(dftt)\n",
    "\n",
    "print \"Coefficients =\", rcv.coef_\n",
    "print \"Chosen alpha =\", rcv.alpha_\n",
    "print \"r2 = \", r2_score(dft_piv['Sale (Dollars)'], pred_rcv)\n",
    "print \"MSE =\", mean_squared_error(dft_piv['Sale (Dollars)'], pred_rcv)\n",
    "print \"RMSE =\", round(np.sqrt(mean_squared_error(dft_piv['Sale (Dollars)'], pred_rcv)), 2)"
   ]
  },
  {
   "cell_type": "code",
   "execution_count": null,
   "metadata": {
    "collapsed": false
   },
   "outputs": [],
   "source": [
    "fig, axes = plt.subplots(1,2, figsize=(16,8))\n",
    "\n",
    "axes[0].scatter(pred, dft_piv['Sale (Dollars)'], c='red', s = 200)\n",
    "axes[0].plot(axes[0].get_xlim(), axes[0].get_ylim(), ls=\"--\", c='b')\n",
    "\n",
    "axes[1].scatter(pred_rcv, dft_piv['Sale (Dollars)'], c='k', s = 200)\n",
    "axes[1].plot(axes[1].get_xlim(), axes[1].get_ylim(), ls=\"--\", c='b')\n",
    "\n",
    "\n",
    "axes[0].set_title('Linear Model')\n",
    "axes[0].set_ylabel('Actual')\n",
    "axes[0].set_xlabel('Predicted')\n",
    "\n",
    "axes[1].set_title('RidgeCV Model')\n",
    "axes[1].set_ylabel('Actual')\n",
    "axes[1].set_xlabel('Predicted');"
   ]
  },
  {
   "cell_type": "markdown",
   "metadata": {},
   "source": [
    "### Using the models to predict 2016 performance"
   ]
  },
  {
   "cell_type": "code",
   "execution_count": null,
   "metadata": {
    "collapsed": false
   },
   "outputs": [],
   "source": [
    "# Filtering the df for data from first 3 months of 2016\n",
    "\n",
    "dfn = df_16[df_16['County'] == \"Winneshiek\"]"
   ]
  },
  {
   "cell_type": "code",
   "execution_count": null,
   "metadata": {
    "collapsed": true
   },
   "outputs": [],
   "source": [
    "dfn_piv = pd.pivot_table(dfn, index = ['Store Number'], \\\n",
    "                        aggfunc = sum\\\n",
    "                        ).sort_values(\\\n",
    "                                      [('Sale (Dollars)')], ascending = False\\\n",
    "                                     )\n",
    "dfn_piv.reset_index(inplace=True)\n",
    "\n",
    "dfnn = pd.concat([dfn_piv[('Bottles Sold')], \\\n",
    "                           dfn_piv[('Bottle Volume (ml)')], \\\n",
    "                           dfn_piv[('State Bottle Cost')], \\\n",
    "                           dfn_piv[('State Bottle Retail')], \\\n",
    "                          ], \\\n",
    "                          axis = 1)\n",
    "\n",
    "# Renaming the columns\n",
    "\n",
    "dfnn.columns = ['Sum Bottles Sold', \\\n",
    "                         'Sum volume sold (ml)', \\\n",
    "                         \"Sum Bottle Cost\", \\\n",
    "                         \"Sum Bottle Price\"\n",
    "                        ]"
   ]
  },
  {
   "cell_type": "code",
   "execution_count": null,
   "metadata": {
    "collapsed": false
   },
   "outputs": [],
   "source": [
    "pred16 = lm.predict(dfnn)\n",
    "print \"r2 = \", r2_score(dfn_piv['Sale (Dollars)'], pred16)\n",
    "print \"MSE =\", mean_squared_error(dfn_piv['Sale (Dollars)'], pred16)"
   ]
  },
  {
   "cell_type": "code",
   "execution_count": null,
   "metadata": {
    "collapsed": false
   },
   "outputs": [],
   "source": [
    "pred_rcv16 = rcv.predict(dfnn)\n",
    "\n",
    "print \"Coefficients =\", rcv.coef_\n",
    "print \"Chosen alpha =\", rcv.alpha_\n",
    "print \"r2 = \", r2_score(dfn_piv['Sale (Dollars)'], pred_rcv16)\n",
    "print \"MSE =\", mean_squared_error(dfn_piv['Sale (Dollars)'], pred_rcv16)\n",
    "print \"RMSE =\", round(np.sqrt(mean_squared_error(dfn_piv['Sale (Dollars)'], pred_rcv16)), 2)"
   ]
  },
  {
   "cell_type": "code",
   "execution_count": null,
   "metadata": {
    "collapsed": false
   },
   "outputs": [],
   "source": [
    "fig, axes = plt.subplots(1,2, figsize=(16,8))\n",
    "\n",
    "axes[0].scatter(pred16, dfn_piv['Sale (Dollars)'], c='red', s = 200)\n",
    "axes[0].plot(axes[0].get_xlim(), axes[0].get_ylim(), ls=\"--\", c='b')\n",
    "\n",
    "axes[1].scatter(pred_rcv16, dfn_piv['Sale (Dollars)'], c='k', s = 200)\n",
    "axes[1].plot(axes[1].get_xlim(), axes[1].get_ylim(), ls=\"--\", c='b')\n",
    "\n",
    "\n",
    "axes[0].set_title('Linear Model')\n",
    "axes[0].set_ylabel('Actual')\n",
    "axes[0].set_xlabel('Predicted')\n",
    "\n",
    "axes[1].set_title('RidgeCV Model')\n",
    "axes[1].set_ylabel('Actual')\n",
    "axes[1].set_xlabel('Predicted');"
   ]
  },
  {
   "cell_type": "markdown",
   "metadata": {},
   "source": [
    "### County : Polk (Top sum sale)"
   ]
  },
  {
   "cell_type": "code",
   "execution_count": null,
   "metadata": {
    "collapsed": true
   },
   "outputs": [],
   "source": [
    "# Filtering the df for data from first 3 months of 2015\n",
    "\n",
    "dfp = df_15[((df_15['Sale Month'] != 1)|(df_15['Sale Month'] != 2)|(df_15['Sale Month'] != 3))\\\n",
    "        & (df_15['County'] == \"Polk\")]"
   ]
  },
  {
   "cell_type": "code",
   "execution_count": null,
   "metadata": {
    "collapsed": true
   },
   "outputs": [],
   "source": [
    "dfp_piv = pd.pivot_table(dfp, index = ['Store Number'], \\\n",
    "                        aggfunc = sum\\\n",
    "                        ).sort_values(\\\n",
    "                                      [('Sale (Dollars)')], ascending = False\\\n",
    "                                     )\n",
    "dfp_piv.reset_index(inplace=True)\n",
    "\n",
    "\n",
    "dfpp = pd.concat([dfp_piv[('Bottles Sold')], \\\n",
    "                           dfp_piv[('Bottle Volume (ml)')], \\\n",
    "                           dfp_piv[('State Bottle Cost')], \\\n",
    "                           dfp_piv[('State Bottle Retail')], \\\n",
    "                          ], \\\n",
    "                          axis = 1)\n",
    "\n",
    "# Renaming the columns\n",
    "\n",
    "dfpp.columns = ['Sum Bottles Sold', \\\n",
    "                         'Sum volume sold (ml)', \\\n",
    "                         \"Sum Bottle Cost\", \\\n",
    "                         \"Sum Bottle Price\"\n",
    "                        ]"
   ]
  },
  {
   "cell_type": "markdown",
   "metadata": {},
   "source": [
    "### Using pure linear regression"
   ]
  },
  {
   "cell_type": "code",
   "execution_count": null,
   "metadata": {
    "collapsed": false
   },
   "outputs": [],
   "source": [
    "X = dfpp\n",
    "y = dfp_piv['Sale (Dollars)']\n",
    "\n",
    "lm = linear_model.LinearRegression()\n",
    "lm.fit(X,y)\n",
    "\n",
    "pred = lm.predict(dfpp)\n",
    "print \"r2 = \", r2_score(dfp_piv['Sale (Dollars)'], pred)\n",
    "print \"MSE =\", mean_squared_error(dfp_piv['Sale (Dollars)'], pred)\n",
    "print \"RMSE =\", round(np.sqrt(mean_squared_error(dfp_piv['Sale (Dollars)'], pred)),2)"
   ]
  },
  {
   "cell_type": "markdown",
   "metadata": {},
   "source": [
    "## Using RidgeCV"
   ]
  },
  {
   "cell_type": "code",
   "execution_count": null,
   "metadata": {
    "collapsed": false
   },
   "outputs": [],
   "source": [
    "al = [0.00000001,0.00001,0.0001, 0.001, 0.01, 0.1, 0.2, 0.3, 0.5, 0.7, 1.0, 5.0, 10.0, 20.0]\n",
    "\n",
    "rcv = linear_model.RidgeCV(alphas = al, cv = 5)\n",
    "rcv.fit(X,y)\n",
    "\n",
    "pred_rcv = rcv.predict(dfpp)\n",
    "\n",
    "print \"Coefficients =\", rcv.coef_\n",
    "print \"Chosen alpha =\", rcv.alpha_\n",
    "print \"r2 = \", r2_score(dfp_piv['Sale (Dollars)'], pred_rcv)\n",
    "print \"MSE =\", mean_squared_error(dfp_piv['Sale (Dollars)'], pred_rcv)\n",
    "print \"RMSE =\", round(np.sqrt(mean_squared_error(dfp_piv['Sale (Dollars)'], pred_rcv)), 2)"
   ]
  },
  {
   "cell_type": "code",
   "execution_count": null,
   "metadata": {
    "collapsed": false
   },
   "outputs": [],
   "source": [
    "fig, axes = plt.subplots(1,2, figsize=(16,8))\n",
    "\n",
    "axes[0].scatter(pred, dfp_piv['Sale (Dollars)'], c='red', s = 200)\n",
    "axes[0].plot(axes[0].get_xlim(), axes[0].get_ylim(), ls=\"--\", c='b')\n",
    "\n",
    "axes[1].scatter(pred_rcv, dfp_piv['Sale (Dollars)'], c='k', s = 200)\n",
    "axes[1].plot(axes[1].get_xlim(), axes[1].get_ylim(), ls=\"--\", c='b')\n",
    "\n",
    "\n",
    "axes[0].set_title('Linear Model')\n",
    "axes[0].set_ylabel('Actual')\n",
    "axes[0].set_xlabel('Predicted')\n",
    "\n",
    "axes[1].set_title('RidgeCV Model')\n",
    "axes[1].set_ylabel('Actual')\n",
    "axes[1].set_xlabel('Predicted');"
   ]
  },
  {
   "cell_type": "markdown",
   "metadata": {},
   "source": [
    "## Removing outliers from Polk"
   ]
  },
  {
   "cell_type": "code",
   "execution_count": null,
   "metadata": {
    "collapsed": false
   },
   "outputs": [],
   "source": [
    "dfp_piv.head()"
   ]
  },
  {
   "cell_type": "code",
   "execution_count": null,
   "metadata": {
    "collapsed": false
   },
   "outputs": [],
   "source": [
    "dfp_piv = pd.pivot_table(dfp, index = ['Store Number'], \\\n",
    "                        aggfunc = sum\\\n",
    "                        ).sort_values(\\\n",
    "                                      [('Sale (Dollars)')], ascending = False\\\n",
    "                                     )\n",
    "dfp_piv.reset_index(inplace=True)\n",
    "\n",
    "dfp_piv = dfp_piv[dfp_piv['Sale (Dollars)'] <= 2000000]\n",
    "\n",
    "dfpp = pd.concat([dfp_piv[('Bottles Sold')], \\\n",
    "                           dfp_piv[('Bottle Volume (ml)')], \\\n",
    "                           dfp_piv[('State Bottle Cost')], \\\n",
    "                           dfp_piv[('State Bottle Retail')], \\\n",
    "                          ], \\\n",
    "                          axis = 1)\n",
    "\n",
    "# Renaming the columns\n",
    "\n",
    "dfpp.columns = ['Sum Bottles Sold', \\\n",
    "                         'Sum volume sold (ml)', \\\n",
    "                         \"Sum Bottle Cost\", \\\n",
    "                         \"Sum Bottle Price\"\n",
    "                        ]"
   ]
  },
  {
   "cell_type": "code",
   "execution_count": null,
   "metadata": {
    "collapsed": false
   },
   "outputs": [],
   "source": [
    "X = dfpp\n",
    "y = dfp_piv['Sale (Dollars)']\n",
    "\n",
    "lm = linear_model.LinearRegression()\n",
    "lm.fit(X,y)\n",
    "\n",
    "pred = lm.predict(dfpp)\n",
    "print \"r2 = \", r2_score(dfp_piv['Sale (Dollars)'], pred)\n",
    "print \"MSE =\", mean_squared_error(dfp_piv['Sale (Dollars)'], pred)\n",
    "print \"RMSE =\", round(np.sqrt(mean_squared_error(dfp_piv['Sale (Dollars)'], pred)),2)"
   ]
  },
  {
   "cell_type": "code",
   "execution_count": null,
   "metadata": {
    "collapsed": false
   },
   "outputs": [],
   "source": [
    "al = [0.00000001,0.00001,0.0001, 0.001, 0.01, 0.1, 0.2, 0.3, 0.5, 0.7, 1.0, 5.0, 10.0, 20.0]\n",
    "\n",
    "rcv = linear_model.RidgeCV(alphas = al, cv = 5)\n",
    "rcv.fit(X,y)\n",
    "\n",
    "pred_rcv = rcv.predict(dfpp)\n",
    "\n",
    "print \"Coefficients =\", rcv.coef_\n",
    "print \"Chosen alpha =\", rcv.alpha_\n",
    "print \"r2 = \", r2_score(dfp_piv['Sale (Dollars)'], pred_rcv)\n",
    "print \"MSE =\", mean_squared_error(dfp_piv['Sale (Dollars)'], pred_rcv)\n",
    "print \"RMSE =\", round(np.sqrt(mean_squared_error(dfp_piv['Sale (Dollars)'], pred_rcv)), 2)"
   ]
  },
  {
   "cell_type": "code",
   "execution_count": 222,
   "metadata": {
    "collapsed": false
   },
   "outputs": [
    {
     "data": {
      "image/png": "[encoded data removed]",
      "text/plain": [
       "<matplotlib.figure.Figure at 0x1263fa250>"
      ]
     },
     "metadata": {},
     "output_type": "display_data"
    }
   ],
   "source": [
    "fig, axes = plt.subplots(1,2, figsize=(16,8))\n",
    "\n",
    "axes[0].scatter(pred, dfp_piv['Sale (Dollars)'], c='red', s = 200)\n",
    "axes[0].plot(axes[0].get_xlim(), axes[0].get_ylim(), ls=\"--\", c='b')\n",
    "\n",
    "axes[1].scatter(pred_rcv, dfp_piv['Sale (Dollars)'], c='k', s = 200)\n",
    "axes[1].plot(axes[1].get_xlim(), axes[1].get_ylim(), ls=\"--\", c='b')\n",
    "\n",
    "\n",
    "axes[0].set_title('Linear Model')\n",
    "axes[0].set_ylabel('Actual')\n",
    "axes[0].set_xlabel('Predicted')\n",
    "\n",
    "axes[1].set_title('RidgeCV Model')\n",
    "axes[1].set_ylabel('Actual')\n",
    "axes[1].set_xlabel('Predicted');"
   ]
  },
  {
   "cell_type": "markdown",
   "metadata": {},
   "source": [
    "# Explore the data\n",
    "\n",
    "Perform some exploratory statistical analysis and make some plots, such as histograms of transaction totals, bottles sold, etc."
   ]
  },
  {
   "cell_type": "markdown",
   "metadata": {},
   "source": [
    "## Record your findings\n",
    "\n",
    "Be sure to write out anything observations from your exploratory analysis."
   ]
  },
  {
   "cell_type": "markdown",
   "metadata": {},
   "source": [
    "# Mine the data\n",
    "Now you are ready to compute the variables you will use for your regression from the data. For example, you may want to\n",
    "compute total sales per store from Jan to March of 2015, mean price per bottle, etc. Refer to the readme for more ideas appropriate to your scenario.\n",
    "\n",
    "Pandas is your friend for this task. Take a look at the operations [here](http://pandas.pydata.org/pandas-docs/stable/groupby.html) for ideas on how to make the best use of pandas and feel free to search for blog and Stack Overflow posts to help you group data by certain variables and compute sums, means, etc. You may find it useful to create a new data frame to house this summary data."
   ]
  },
  {
   "cell_type": "markdown",
   "metadata": {},
   "source": [
    "# Refine the data\n",
    "Look for any statistical relationships, correlations, or other relevant properties of the dataset."
   ]
  },
  {
   "cell_type": "code",
   "execution_count": null,
   "metadata": {
    "collapsed": true
   },
   "outputs": [],
   "source": []
  },
  {
   "cell_type": "markdown",
   "metadata": {},
   "source": [
    "# Build your models\n",
    "\n",
    "Using scikit-learn or statsmodels, build the necessary models for your scenario. Evaluate model fit."
   ]
  },
  {
   "cell_type": "code",
   "execution_count": 6,
   "metadata": {
    "collapsed": true
   },
   "outputs": [],
   "source": [
    "\n"
   ]
  },
  {
   "cell_type": "markdown",
   "metadata": {},
   "source": [
    "## Plot your results\n",
    "\n",
    "Again make sure that you record any valuable information. For example, in the tax scenario, did you find the sales from the first three months of the year to be a good predictor of the total sales for the year? Plot the predictions versus the true values and discuss the successes and limitations of your models"
   ]
  },
  {
   "cell_type": "code",
   "execution_count": null,
   "metadata": {
    "collapsed": true
   },
   "outputs": [],
   "source": []
  },
  {
   "cell_type": "markdown",
   "metadata": {},
   "source": [
    "# Present the Results\n",
    "\n",
    "Present your conclusions and results. If you have more than one interesting model feel free to include more than one along with a discussion. Use your work in this notebook to prepare your write-up."
   ]
  },
  {
   "cell_type": "code",
   "execution_count": null,
   "metadata": {
    "collapsed": true
   },
   "outputs": [],
   "source": []
  }
 ],
 "metadata": {
  "anaconda-cloud": {},
  "kernelspec": {
   "display_name": "Python [conda root]",
   "language": "python",
   "name": "conda-root-py"
  },
  "language_info": {
   "codemirror_mode": {
    "name": "ipython",
    "version": 2
   },
   "file_extension": ".py",
   "mimetype": "text/x-python",
   "name": "python",
   "nbconvert_exporter": "python",
   "pygments_lexer": "ipython2",
   "version": "2.7.12"
  }
 },
 "nbformat": 4,
 "nbformat_minor": 0
}
