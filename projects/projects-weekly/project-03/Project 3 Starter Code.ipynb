{
 "cells": [
  {
   "cell_type": "markdown",
   "metadata": {},
   "source": [
    "# Getting started\n",
    "\n",
    "Once you've chosen your scenario, download the data from [the Iowa website](https://data.iowa.gov/Economy/Iowa-Liquor-Sales/m3tr-qhgy) in csv format. Start by loading the data with pandas. You may need to parse the date columns appropriately."
   ]
  },
  {
   "cell_type": "markdown",
   "metadata": {},
   "source": [
    "#### Scenario 2: Market research for new store locations\n",
    "\n",
    "A liquor store owner in Iowa is looking to expand to new locations and has hired you to investigate the market data for potential new locations. The business owner is interested in the details of the best model you can fit to the data so that his team can evaluate potential locations for a new storefront.\n",
    "\n",
    "**Goal for Scenario #2:** Your task is to:\n",
    "\n",
    "* Build models of total sales based on location, price per bottle, total bottles sold. You may find it useful to build models for each county, zip code, or city.\n",
    "* Provide a table of the best performing stores by location type of your choice (city, county, or zip code) and the predictions of your model(s).\n",
    "* Based on your models and the table of data, recommend some general locations to the business owner, taking into account model performance. Validate your model's performance and ability to predict future sales using cross-validation.\n",
    "* _Bonus_: Recommend targets for volume sold and price per bottle!\n",
    "\n",
    "---"
   ]
  },
  {
   "cell_type": "code",
   "execution_count": 14,
   "metadata": {
    "collapsed": true
   },
   "outputs": [],
   "source": [
    "%matplotlib inline\n",
    "\n",
    "import pandas as pd\n",
    "import numpy as np\n",
    "import pprint"
   ]
  },
  {
   "cell_type": "code",
   "execution_count": 15,
   "metadata": {
    "collapsed": false
   },
   "outputs": [
    {
     "data": {
      "text/html": [
       "<div>\n",
       "<table border=\"1\" class=\"dataframe\">\n",
       "  <thead>\n",
       "    <tr style=\"text-align: right;\">\n",
       "      <th></th>\n",
       "      <th></th>\n",
       "      <th></th>\n",
       "      <th></th>\n",
       "      <th></th>\n",
       "      <th></th>\n",
       "      <th></th>\n",
       "      <th></th>\n",
       "      <th></th>\n",
       "      <th></th>\n",
       "      <th></th>\n",
       "      <th></th>\n",
       "      <th></th>\n",
       "      <th></th>\n",
       "      <th></th>\n",
       "      <th></th>\n",
       "      <th></th>\n",
       "      <th></th>\n",
       "      <th>&lt;&lt;&lt;&lt;&lt;&lt;&lt; HEAD</th>\n",
       "    </tr>\n",
       "  </thead>\n",
       "  <tbody>\n",
       "    <tr>\n",
       "      <th>NaN</th>\n",
       "      <th>Date</th>\n",
       "      <th>Store Number</th>\n",
       "      <th>City</th>\n",
       "      <th>Zip Code</th>\n",
       "      <th>County Number</th>\n",
       "      <th>County</th>\n",
       "      <th>Category</th>\n",
       "      <th>Category Name</th>\n",
       "      <th>Vendor Number</th>\n",
       "      <th>Item Number</th>\n",
       "      <th>Item Description</th>\n",
       "      <th>Bottle Volume (ml)</th>\n",
       "      <th>State Bottle Cost</th>\n",
       "      <th>State Bottle Retail</th>\n",
       "      <th>Bottles Sold</th>\n",
       "      <th>Sale (Dollars)</th>\n",
       "      <th>Volume Sold (Liters)</th>\n",
       "      <td>Volume Sold (Gallons)</td>\n",
       "    </tr>\n",
       "    <tr>\n",
       "      <th>0.0</th>\n",
       "      <th>2015-11-04</th>\n",
       "      <th>3717</th>\n",
       "      <th>SUMNER</th>\n",
       "      <th>50674</th>\n",
       "      <th>9.0</th>\n",
       "      <th>Bremer</th>\n",
       "      <th>1051100.0</th>\n",
       "      <th>APRICOT BRANDIES</th>\n",
       "      <th>55</th>\n",
       "      <th>54436</th>\n",
       "      <th>Mr. Boston Apricot Brandy</th>\n",
       "      <th>750</th>\n",
       "      <th>4.5</th>\n",
       "      <th>6.75</th>\n",
       "      <th>12</th>\n",
       "      <th>81.0</th>\n",
       "      <th>9.0</th>\n",
       "      <td>2.38</td>\n",
       "    </tr>\n",
       "    <tr>\n",
       "      <th>1.0</th>\n",
       "      <th>2016-03-02</th>\n",
       "      <th>2614</th>\n",
       "      <th>DAVENPORT</th>\n",
       "      <th>52807</th>\n",
       "      <th>82.0</th>\n",
       "      <th>Scott</th>\n",
       "      <th>1011100.0</th>\n",
       "      <th>BLENDED WHISKIES</th>\n",
       "      <th>395</th>\n",
       "      <th>27605</th>\n",
       "      <th>Tin Cup</th>\n",
       "      <th>750</th>\n",
       "      <th>13.75</th>\n",
       "      <th>20.63</th>\n",
       "      <th>2</th>\n",
       "      <th>41.26</th>\n",
       "      <th>1.5</th>\n",
       "      <td>0.4</td>\n",
       "    </tr>\n",
       "    <tr>\n",
       "      <th>2.0</th>\n",
       "      <th>2016-02-11</th>\n",
       "      <th>2106</th>\n",
       "      <th>CEDAR FALLS</th>\n",
       "      <th>50613</th>\n",
       "      <th>7.0</th>\n",
       "      <th>Black Hawk</th>\n",
       "      <th>1011200.0</th>\n",
       "      <th>STRAIGHT BOURBON WHISKIES</th>\n",
       "      <th>65</th>\n",
       "      <th>19067</th>\n",
       "      <th>Jim Beam</th>\n",
       "      <th>1000</th>\n",
       "      <th>12.59</th>\n",
       "      <th>18.89</th>\n",
       "      <th>24</th>\n",
       "      <th>453.36</th>\n",
       "      <th>24.0</th>\n",
       "      <td>6.34</td>\n",
       "    </tr>\n",
       "    <tr>\n",
       "      <th>3.0</th>\n",
       "      <th>2016-02-03</th>\n",
       "      <th>2501</th>\n",
       "      <th>AMES</th>\n",
       "      <th>50010</th>\n",
       "      <th>85.0</th>\n",
       "      <th>Story</th>\n",
       "      <th>1071100.0</th>\n",
       "      <th>AMERICAN COCKTAILS</th>\n",
       "      <th>395</th>\n",
       "      <th>59154</th>\n",
       "      <th>1800 Ultimate Margarita</th>\n",
       "      <th>1750</th>\n",
       "      <th>9.5</th>\n",
       "      <th>14.25</th>\n",
       "      <th>6</th>\n",
       "      <th>85.5</th>\n",
       "      <th>10.5</th>\n",
       "      <td>2.77</td>\n",
       "    </tr>\n",
       "  </tbody>\n",
       "</table>\n",
       "</div>"
      ],
      "text/plain": [
       "                                                                                                                                                                                                                                                                                      <<<<<<< HEAD\n",
       "NaN Date       Store Number City        Zip Code County Number County     Category  Category Name             Vendor Number Item Number Item Description          Bottle Volume (ml) State Bottle Cost State Bottle Retail Bottles Sold Sale (Dollars) Volume Sold (Liters)  Volume Sold (Gallons)\n",
       "0.0 2015-11-04 3717         SUMNER      50674    9.0           Bremer     1051100.0 APRICOT BRANDIES          55            54436       Mr. Boston Apricot Brandy 750                4.5               6.75                12           81.0           9.0                                    2.38\n",
       "1.0 2016-03-02 2614         DAVENPORT   52807    82.0          Scott      1011100.0 BLENDED WHISKIES          395           27605       Tin Cup                   750                13.75             20.63               2            41.26          1.5                                     0.4\n",
       "2.0 2016-02-11 2106         CEDAR FALLS 50613    7.0           Black Hawk 1011200.0 STRAIGHT BOURBON WHISKIES 65            19067       Jim Beam                  1000               12.59             18.89               24           453.36         24.0                                   6.34\n",
       "3.0 2016-02-03 2501         AMES        50010    85.0          Story      1071100.0 AMERICAN COCKTAILS        395           59154       1800 Ultimate Margarita   1750               9.5               14.25               6            85.5           10.5                                   2.77"
      ]
     },
     "execution_count": 15,
     "metadata": {},
     "output_type": "execute_result"
    }
   ],
   "source": [
    "## Load the data into a DataFrame\n",
    "df = pd.read_csv(\"Iowa_Liquor_sales_sample_10pct.csv\")\n",
    "\n",
    "## Transform the dates if needed, e.g.\n",
    "# df[\"Date\"] = pd.to_datetime(df[\"Date\"], format=\"%m-%d-%y\")\n",
    "\n",
    "df.head()"
   ]
  },
  {
   "cell_type": "code",
   "execution_count": 12,
   "metadata": {
    "collapsed": false
   },
   "outputs": [
    {
     "name": "stdout",
     "output_type": "stream",
     "text": [
      "<class 'pandas.core.frame.DataFrame'>\n",
      "MultiIndex: 541914 entries, (nan, Date, Store Number, City, Zip Code, County Number, County, Category, Category Name, Vendor Number, Item Number, Item Description, Bottle Volume (ml), State Bottle Cost, State Bottle Retail, Bottles Sold, Sale (Dollars), Volume Sold (Liters)) to (>>>>>>> e16f0559d51cc8e04f1e2f419570debac0262fdf, nan, nan, nan, nan, nan, nan, nan, nan, nan, nan, nan, nan, nan, nan, nan, nan, nan)\n",
      "Data columns (total 1 columns):\n",
      "<<<<<<< HEAD    270956 non-null object\n",
      "dtypes: object(1)\n",
      "memory usage: 8.3+ MB\n"
     ]
    }
   ],
   "source": [
    "df.info()"
   ]
  },
  {
   "cell_type": "markdown",
   "metadata": {},
   "source": [
    "### Data Munging"
   ]
  },
  {
   "cell_type": "code",
   "execution_count": 13,
   "metadata": {
    "collapsed": false
   },
   "outputs": [
    {
     "ename": "KeyError",
     "evalue": "'Date'",
     "output_type": "error",
     "traceback": [
      "\u001b[0;31m---------------------------------------------------------------------------\u001b[0m",
      "\u001b[0;31mKeyError\u001b[0m                                  Traceback (most recent call last)",
      "\u001b[0;32m<ipython-input-13-16f001acf7c7>\u001b[0m in \u001b[0;36m<module>\u001b[0;34m()\u001b[0m\n\u001b[0;32m----> 1\u001b[0;31m \u001b[0mdf\u001b[0m\u001b[0;34m[\u001b[0m\u001b[0;34m'Date'\u001b[0m\u001b[0;34m]\u001b[0m \u001b[0;34m=\u001b[0m \u001b[0mdf\u001b[0m\u001b[0;34m[\u001b[0m\u001b[0;34m'Date'\u001b[0m\u001b[0;34m]\u001b[0m\u001b[0;34m.\u001b[0m\u001b[0mapply\u001b[0m\u001b[0;34m(\u001b[0m\u001b[0mpd\u001b[0m\u001b[0;34m.\u001b[0m\u001b[0mto_datetime\u001b[0m\u001b[0;34m)\u001b[0m\u001b[0;34m\u001b[0m\u001b[0m\n\u001b[0m",
      "\u001b[0;32m//anaconda/lib/python2.7/site-packages/pandas/core/frame.pyc\u001b[0m in \u001b[0;36m__getitem__\u001b[0;34m(self, key)\u001b[0m\n\u001b[1;32m   1995\u001b[0m             \u001b[0;32mreturn\u001b[0m \u001b[0mself\u001b[0m\u001b[0;34m.\u001b[0m\u001b[0m_getitem_multilevel\u001b[0m\u001b[0;34m(\u001b[0m\u001b[0mkey\u001b[0m\u001b[0;34m)\u001b[0m\u001b[0;34m\u001b[0m\u001b[0m\n\u001b[1;32m   1996\u001b[0m         \u001b[0;32melse\u001b[0m\u001b[0;34m:\u001b[0m\u001b[0;34m\u001b[0m\u001b[0m\n\u001b[0;32m-> 1997\u001b[0;31m             \u001b[0;32mreturn\u001b[0m \u001b[0mself\u001b[0m\u001b[0;34m.\u001b[0m\u001b[0m_getitem_column\u001b[0m\u001b[0;34m(\u001b[0m\u001b[0mkey\u001b[0m\u001b[0;34m)\u001b[0m\u001b[0;34m\u001b[0m\u001b[0m\n\u001b[0m\u001b[1;32m   1998\u001b[0m \u001b[0;34m\u001b[0m\u001b[0m\n\u001b[1;32m   1999\u001b[0m     \u001b[0;32mdef\u001b[0m \u001b[0m_getitem_column\u001b[0m\u001b[0;34m(\u001b[0m\u001b[0mself\u001b[0m\u001b[0;34m,\u001b[0m \u001b[0mkey\u001b[0m\u001b[0;34m)\u001b[0m\u001b[0;34m:\u001b[0m\u001b[0;34m\u001b[0m\u001b[0m\n",
      "\u001b[0;32m//anaconda/lib/python2.7/site-packages/pandas/core/frame.pyc\u001b[0m in \u001b[0;36m_getitem_column\u001b[0;34m(self, key)\u001b[0m\n\u001b[1;32m   2002\u001b[0m         \u001b[0;31m# get column\u001b[0m\u001b[0;34m\u001b[0m\u001b[0;34m\u001b[0m\u001b[0m\n\u001b[1;32m   2003\u001b[0m         \u001b[0;32mif\u001b[0m \u001b[0mself\u001b[0m\u001b[0;34m.\u001b[0m\u001b[0mcolumns\u001b[0m\u001b[0;34m.\u001b[0m\u001b[0mis_unique\u001b[0m\u001b[0;34m:\u001b[0m\u001b[0;34m\u001b[0m\u001b[0m\n\u001b[0;32m-> 2004\u001b[0;31m             \u001b[0;32mreturn\u001b[0m \u001b[0mself\u001b[0m\u001b[0;34m.\u001b[0m\u001b[0m_get_item_cache\u001b[0m\u001b[0;34m(\u001b[0m\u001b[0mkey\u001b[0m\u001b[0;34m)\u001b[0m\u001b[0;34m\u001b[0m\u001b[0m\n\u001b[0m\u001b[1;32m   2005\u001b[0m \u001b[0;34m\u001b[0m\u001b[0m\n\u001b[1;32m   2006\u001b[0m         \u001b[0;31m# duplicate columns & possible reduce dimensionality\u001b[0m\u001b[0;34m\u001b[0m\u001b[0;34m\u001b[0m\u001b[0m\n",
      "\u001b[0;32m//anaconda/lib/python2.7/site-packages/pandas/core/generic.pyc\u001b[0m in \u001b[0;36m_get_item_cache\u001b[0;34m(self, item)\u001b[0m\n\u001b[1;32m   1348\u001b[0m         \u001b[0mres\u001b[0m \u001b[0;34m=\u001b[0m \u001b[0mcache\u001b[0m\u001b[0;34m.\u001b[0m\u001b[0mget\u001b[0m\u001b[0;34m(\u001b[0m\u001b[0mitem\u001b[0m\u001b[0;34m)\u001b[0m\u001b[0;34m\u001b[0m\u001b[0m\n\u001b[1;32m   1349\u001b[0m         \u001b[0;32mif\u001b[0m \u001b[0mres\u001b[0m \u001b[0;32mis\u001b[0m \u001b[0mNone\u001b[0m\u001b[0;34m:\u001b[0m\u001b[0;34m\u001b[0m\u001b[0m\n\u001b[0;32m-> 1350\u001b[0;31m             \u001b[0mvalues\u001b[0m \u001b[0;34m=\u001b[0m \u001b[0mself\u001b[0m\u001b[0;34m.\u001b[0m\u001b[0m_data\u001b[0m\u001b[0;34m.\u001b[0m\u001b[0mget\u001b[0m\u001b[0;34m(\u001b[0m\u001b[0mitem\u001b[0m\u001b[0;34m)\u001b[0m\u001b[0;34m\u001b[0m\u001b[0m\n\u001b[0m\u001b[1;32m   1351\u001b[0m             \u001b[0mres\u001b[0m \u001b[0;34m=\u001b[0m \u001b[0mself\u001b[0m\u001b[0;34m.\u001b[0m\u001b[0m_box_item_values\u001b[0m\u001b[0;34m(\u001b[0m\u001b[0mitem\u001b[0m\u001b[0;34m,\u001b[0m \u001b[0mvalues\u001b[0m\u001b[0;34m)\u001b[0m\u001b[0;34m\u001b[0m\u001b[0m\n\u001b[1;32m   1352\u001b[0m             \u001b[0mcache\u001b[0m\u001b[0;34m[\u001b[0m\u001b[0mitem\u001b[0m\u001b[0;34m]\u001b[0m \u001b[0;34m=\u001b[0m \u001b[0mres\u001b[0m\u001b[0;34m\u001b[0m\u001b[0m\n",
      "\u001b[0;32m//anaconda/lib/python2.7/site-packages/pandas/core/internals.pyc\u001b[0m in \u001b[0;36mget\u001b[0;34m(self, item, fastpath)\u001b[0m\n\u001b[1;32m   3288\u001b[0m \u001b[0;34m\u001b[0m\u001b[0m\n\u001b[1;32m   3289\u001b[0m             \u001b[0;32mif\u001b[0m \u001b[0;32mnot\u001b[0m \u001b[0misnull\u001b[0m\u001b[0;34m(\u001b[0m\u001b[0mitem\u001b[0m\u001b[0;34m)\u001b[0m\u001b[0;34m:\u001b[0m\u001b[0;34m\u001b[0m\u001b[0m\n\u001b[0;32m-> 3290\u001b[0;31m                 \u001b[0mloc\u001b[0m \u001b[0;34m=\u001b[0m \u001b[0mself\u001b[0m\u001b[0;34m.\u001b[0m\u001b[0mitems\u001b[0m\u001b[0;34m.\u001b[0m\u001b[0mget_loc\u001b[0m\u001b[0;34m(\u001b[0m\u001b[0mitem\u001b[0m\u001b[0;34m)\u001b[0m\u001b[0;34m\u001b[0m\u001b[0m\n\u001b[0m\u001b[1;32m   3291\u001b[0m             \u001b[0;32melse\u001b[0m\u001b[0;34m:\u001b[0m\u001b[0;34m\u001b[0m\u001b[0m\n\u001b[1;32m   3292\u001b[0m                 \u001b[0mindexer\u001b[0m \u001b[0;34m=\u001b[0m \u001b[0mnp\u001b[0m\u001b[0;34m.\u001b[0m\u001b[0marange\u001b[0m\u001b[0;34m(\u001b[0m\u001b[0mlen\u001b[0m\u001b[0;34m(\u001b[0m\u001b[0mself\u001b[0m\u001b[0;34m.\u001b[0m\u001b[0mitems\u001b[0m\u001b[0;34m)\u001b[0m\u001b[0;34m)\u001b[0m\u001b[0;34m[\u001b[0m\u001b[0misnull\u001b[0m\u001b[0;34m(\u001b[0m\u001b[0mself\u001b[0m\u001b[0;34m.\u001b[0m\u001b[0mitems\u001b[0m\u001b[0;34m)\u001b[0m\u001b[0;34m]\u001b[0m\u001b[0;34m\u001b[0m\u001b[0m\n",
      "\u001b[0;32m//anaconda/lib/python2.7/site-packages/pandas/indexes/base.pyc\u001b[0m in \u001b[0;36mget_loc\u001b[0;34m(self, key, method, tolerance)\u001b[0m\n\u001b[1;32m   1945\u001b[0m                 \u001b[0;32mreturn\u001b[0m \u001b[0mself\u001b[0m\u001b[0;34m.\u001b[0m\u001b[0m_engine\u001b[0m\u001b[0;34m.\u001b[0m\u001b[0mget_loc\u001b[0m\u001b[0;34m(\u001b[0m\u001b[0mkey\u001b[0m\u001b[0;34m)\u001b[0m\u001b[0;34m\u001b[0m\u001b[0m\n\u001b[1;32m   1946\u001b[0m             \u001b[0;32mexcept\u001b[0m \u001b[0mKeyError\u001b[0m\u001b[0;34m:\u001b[0m\u001b[0;34m\u001b[0m\u001b[0m\n\u001b[0;32m-> 1947\u001b[0;31m                 \u001b[0;32mreturn\u001b[0m \u001b[0mself\u001b[0m\u001b[0;34m.\u001b[0m\u001b[0m_engine\u001b[0m\u001b[0;34m.\u001b[0m\u001b[0mget_loc\u001b[0m\u001b[0;34m(\u001b[0m\u001b[0mself\u001b[0m\u001b[0;34m.\u001b[0m\u001b[0m_maybe_cast_indexer\u001b[0m\u001b[0;34m(\u001b[0m\u001b[0mkey\u001b[0m\u001b[0;34m)\u001b[0m\u001b[0;34m)\u001b[0m\u001b[0;34m\u001b[0m\u001b[0m\n\u001b[0m\u001b[1;32m   1948\u001b[0m \u001b[0;34m\u001b[0m\u001b[0m\n\u001b[1;32m   1949\u001b[0m         \u001b[0mindexer\u001b[0m \u001b[0;34m=\u001b[0m \u001b[0mself\u001b[0m\u001b[0;34m.\u001b[0m\u001b[0mget_indexer\u001b[0m\u001b[0;34m(\u001b[0m\u001b[0;34m[\u001b[0m\u001b[0mkey\u001b[0m\u001b[0;34m]\u001b[0m\u001b[0;34m,\u001b[0m \u001b[0mmethod\u001b[0m\u001b[0;34m=\u001b[0m\u001b[0mmethod\u001b[0m\u001b[0;34m,\u001b[0m \u001b[0mtolerance\u001b[0m\u001b[0;34m=\u001b[0m\u001b[0mtolerance\u001b[0m\u001b[0;34m)\u001b[0m\u001b[0;34m\u001b[0m\u001b[0m\n",
      "\u001b[0;32mpandas/index.pyx\u001b[0m in \u001b[0;36mpandas.index.IndexEngine.get_loc (pandas/index.c:4154)\u001b[0;34m()\u001b[0m\n",
      "\u001b[0;32mpandas/index.pyx\u001b[0m in \u001b[0;36mpandas.index.IndexEngine.get_loc (pandas/index.c:4018)\u001b[0;34m()\u001b[0m\n",
      "\u001b[0;32mpandas/hashtable.pyx\u001b[0m in \u001b[0;36mpandas.hashtable.PyObjectHashTable.get_item (pandas/hashtable.c:12368)\u001b[0;34m()\u001b[0m\n",
      "\u001b[0;32mpandas/hashtable.pyx\u001b[0m in \u001b[0;36mpandas.hashtable.PyObjectHashTable.get_item (pandas/hashtable.c:12322)\u001b[0;34m()\u001b[0m\n",
      "\u001b[0;31mKeyError\u001b[0m: 'Date'"
     ]
    }
   ],
   "source": [
    "df['Date'] = df['Date'].apply(pd.to_datetime)"
   ]
  },
  {
   "cell_type": "code",
   "execution_count": null,
   "metadata": {
    "collapsed": false
   },
   "outputs": [],
   "source": [
    "df['Bottle Volume (ml)'].hist(bins = 200)"
   ]
  },
  {
   "cell_type": "markdown",
   "metadata": {},
   "source": [
    "Most common bottle type is 750ml. 1750ml is second most popular."
   ]
  },
  {
   "cell_type": "code",
   "execution_count": null,
   "metadata": {
    "collapsed": false
   },
   "outputs": [],
   "source": [
    "# Function to convert money columns from string to float\n",
    "\n",
    "def conv_money(x):\n",
    "    x = x.split('.')\n",
    "    return (float(x[0][1:]) + (float(x[1]) / 100))"
   ]
  },
  {
   "cell_type": "code",
   "execution_count": null,
   "metadata": {
    "collapsed": false
   },
   "outputs": [],
   "source": [
    "# Converting columns with money value to float\n",
    "\n",
    "df[['State Bottle Cost', 'State Bottle Retail', \"Sale (Dollars)\"]] = \\\n",
    "df[['State Bottle Cost', 'State Bottle Retail', \"Sale (Dollars)\"]].applymap(conv_money)"
   ]
  },
  {
   "cell_type": "code",
   "execution_count": null,
   "metadata": {
    "collapsed": false
   },
   "outputs": [],
   "source": [
    "df['Item Description'] = df['Item Description'].apply(lambda x: x.strip())"
   ]
  },
  {
   "cell_type": "code",
   "execution_count": null,
   "metadata": {
    "collapsed": false
   },
   "outputs": [],
   "source": [
    "df.info()"
   ]
  },
  {
   "cell_type": "markdown",
   "metadata": {},
   "source": [
    "## Cleaning Zipcodes"
   ]
  },
  {
   "cell_type": "code",
   "execution_count": null,
   "metadata": {
    "collapsed": false
   },
   "outputs": [],
   "source": [
    "## Checking to see if all zipcodes have length of 5\n",
    "\n",
    "df[df['Zip Code'].apply(lambda x: len(x) != 5)]"
   ]
  },
  {
   "cell_type": "code",
   "execution_count": null,
   "metadata": {
    "collapsed": false
   },
   "outputs": [],
   "source": [
    "# Since all has 5, change all to int types\n",
    "\n",
    "df[df['Zip Code'].apply(lambda x: int(x))]"
   ]
  },
  {
   "cell_type": "code",
   "execution_count": null,
   "metadata": {
    "collapsed": false
   },
   "outputs": [],
   "source": [
    "# Even all is length 5, 1 entry was '712-2'\n",
    "# Googled this, turned out to be area code, change to 51529\n",
    "\n",
    "df[df['Zip Code'].apply(lambda x: x == '712-2')]"
   ]
  },
  {
   "cell_type": "code",
   "execution_count": null,
   "metadata": {
    "collapsed": false
   },
   "outputs": [],
   "source": [
    "# Changed erroneous zipcode\n",
    "\n",
    "df.loc[df['Zip Code'] == '712-2', 'Zip Code'] = '51529'\n"
   ]
  },
  {
   "cell_type": "code",
   "execution_count": null,
   "metadata": {
    "collapsed": false
   },
   "outputs": [],
   "source": [
    "# Changed zipcodes to int type\n",
    "\n",
    "df['Zip Code'] = df['Zip Code'].apply(lambda x: int(x))"
   ]
  },
  {
   "cell_type": "markdown",
   "metadata": {},
   "source": [
    "## Cleaning City Values"
   ]
  },
  {
   "cell_type": "code",
   "execution_count": null,
   "metadata": {
    "collapsed": false
   },
   "outputs": [],
   "source": [
    "list(df['City'].unique())"
   ]
  },
  {
   "cell_type": "code",
   "execution_count": null,
   "metadata": {
    "collapsed": true
   },
   "outputs": [],
   "source": [
    "# There are some 'City' entries which are in lower case while the majority is in Upper Case. \n",
    "# To prevent double counting, all \"City\" entries are changed to upper case\n",
    "\n",
    "df['City'] = df['City'].apply(lambda x: x.upper())"
   ]
  },
  {
   "cell_type": "markdown",
   "metadata": {},
   "source": [
    "## Cleaning NaN County entries"
   ]
  },
  {
   "cell_type": "code",
   "execution_count": null,
   "metadata": {
    "collapsed": false
   },
   "outputs": [],
   "source": [
    "# Create a new dataframe for rows with NaNs in any cells\n",
    "\n",
    "df_nan = df[pd.isnull(df).any(axis = 1)]"
   ]
  },
  {
   "cell_type": "code",
   "execution_count": null,
   "metadata": {
    "collapsed": false
   },
   "outputs": [],
   "source": [
    "df_nan.head()"
   ]
  },
  {
   "cell_type": "code",
   "execution_count": null,
   "metadata": {
    "collapsed": false
   },
   "outputs": [],
   "source": [
    "# Printing columns that contain \"NaN\" and count the number of NaN entries per column\n",
    "\n",
    "tbc_list = []\n",
    "\n",
    "for col in df.columns:\n",
    "    x = sum(pd.isnull(df[col]))\n",
    "    if x != 0:\n",
    "        tbc_list.append(col)\n",
    "        print col, x"
   ]
  },
  {
   "cell_type": "code",
   "execution_count": null,
   "metadata": {
    "collapsed": false
   },
   "outputs": [],
   "source": [
    "# Some counties and county numbers are not filled.\n",
    "# Since \"City\" column does not contain NaN and Cities are a subset of counties,\n",
    "# we try to see if there are similar cities with non-empty county values which we can then copy to the NaN county cells\n",
    "\n",
    "\n",
    "# Create a set of Cities with NaN for county or county Number\n",
    "\n",
    "city_nan_list = list(df_nan['City'].unique())\n",
    "\n",
    "city_nan_list"
   ]
  },
  {
   "cell_type": "code",
   "execution_count": null,
   "metadata": {
    "collapsed": false
   },
   "outputs": [],
   "source": [
    "# Creating a dictionary with \"City\" as key and collecting all possible corresponding \"County\" and \"County Name\"\n",
    "# as values of the dictionary\n",
    "\n",
    "nan_cty_dict = {}\n",
    "\n",
    "for j in city_nan_list:\n",
    "    c_set = {x for x in df[df['City']==j]['County'] if x > 0} # x > 0 to skip NaN values\n",
    "    num_set = {x for x in df[df['City']==j]['County Number'] if x > 0}\n",
    "    nan_cty_dict[j] = [list(c_set), list(num_set)]\n",
    "\n",
    "nan_cty_dict"
   ]
  },
  {
   "cell_type": "code",
   "execution_count": null,
   "metadata": {
    "collapsed": false
   },
   "outputs": [],
   "source": [
    "## Replacing NaN county cells using corresponding city value as key\n",
    "\n",
    "for cty in nan_cty_dict:\n",
    "    try:\n",
    "        df.loc[df['City'] == cty, 'County'] = nan_cty_dict[cty][0][0]\n",
    "        df.loc[df['City'] == cty, \"County Number\"] = nan_cty_dict[cty][1][0]\n",
    "    except:\n",
    "        pass"
   ]
  },
  {
   "cell_type": "code",
   "execution_count": null,
   "metadata": {
    "collapsed": false
   },
   "outputs": [],
   "source": [
    "# Recreate a new df to check remaining NaN row\n",
    "df_nan = df[pd.isnull(df[['County','County Number']]).any(axis = 1)]"
   ]
  },
  {
   "cell_type": "code",
   "execution_count": null,
   "metadata": {
    "collapsed": false
   },
   "outputs": [],
   "source": [
    "# Collect cities with NaN values\n",
    "city_nan_list = list(df_nan['City'].unique())\n",
    "\n",
    "city_nan_list"
   ]
  },
  {
   "cell_type": "code",
   "execution_count": null,
   "metadata": {
    "collapsed": false
   },
   "outputs": [],
   "source": [
    "nan_cty_dict = {}\n",
    "\n",
    "for j in city_nan_list:\n",
    "    c_set = {x for x in df[df['City']==j]['County']} # x > 0 to skip NaN values\n",
    "    num_set = {x for x in df[df['City']==j]['County Number']}\n",
    "    nan_cty_dict[j] = [list(c_set), list(num_set)]\n",
    "\n",
    "nan_cty_dict"
   ]
  },
  {
   "cell_type": "code",
   "execution_count": null,
   "metadata": {
    "collapsed": false
   },
   "outputs": [],
   "source": [
    "# Updating counties by hand\n",
    "\n",
    "df.loc[df['City'] == 'TABOR', 'County'] = 'Fremont'\n",
    "df.loc[df['City'] == 'RUNNELLS', 'County'] = 'Polk'\n",
    "df.loc[df['City'] == 'SEYMOUR', 'County'] = 'Wayne'"
   ]
  },
  {
   "cell_type": "code",
   "execution_count": null,
   "metadata": {
    "collapsed": true
   },
   "outputs": [],
   "source": [
    "# Recreate a new df to check remaining NaN row\n",
    "df_nan = df[pd.isnull(df['County'])]"
   ]
  },
  {
   "cell_type": "code",
   "execution_count": null,
   "metadata": {
    "collapsed": false
   },
   "outputs": [],
   "source": [
    "len(df_nan)"
   ]
  },
  {
   "cell_type": "markdown",
   "metadata": {},
   "source": [
    "#### Comments:\n",
    "\n",
    "Remaining 12 rows with empty counties were filled manually. Without a reference of how county numbers were developed, we left the empty county numbers empty. Analyses based on counties will be performed on 'County' instead of 'County Number'."
   ]
  },
  {
   "cell_type": "markdown",
   "metadata": {},
   "source": [
    "# ---------------------------------------------------------------"
   ]
  },
  {
   "cell_type": "markdown",
   "metadata": {},
   "source": [
    "## Cleaning Empty Category Name using Item Decription"
   ]
  },
  {
   "cell_type": "code",
   "execution_count": null,
   "metadata": {
    "collapsed": false
   },
   "outputs": [],
   "source": [
    "df_nan = df[pd.isnull(df['Category Name'])]\n",
    "print len(df_nan)\n",
    "df_nan"
   ]
  },
  {
   "cell_type": "code",
   "execution_count": null,
   "metadata": {
    "collapsed": false
   },
   "outputs": [],
   "source": [
    "# Create a list of \"Item Description\" with NaN in rows\n",
    "item_nan_list = list(df_nan['Item Description'].unique())\n",
    "\n",
    "item_nan_list"
   ]
  },
  {
   "cell_type": "code",
   "execution_count": null,
   "metadata": {
    "collapsed": false
   },
   "outputs": [],
   "source": [
    "item_dict = {}\n",
    "\n",
    "for j in item_nan_list:\n",
    "    c_set = {x for x in df[df['Item Description']==j]['Category Name'] if x > 0}\n",
    "    item_dict[j] = list(c_set)\n",
    "\n",
    "item_dict"
   ]
  },
  {
   "cell_type": "code",
   "execution_count": null,
   "metadata": {
    "collapsed": false
   },
   "outputs": [],
   "source": [
    "for drink in item_dict:\n",
    "    try:\n",
    "        df.loc[df['Item Description'] == drink, 'Category Name'] = item_dict[drink][0]\n",
    "    except:\n",
    "        pass"
   ]
  },
  {
   "cell_type": "code",
   "execution_count": null,
   "metadata": {
    "collapsed": false
   },
   "outputs": [],
   "source": [
    "df_nan = df[pd.isnull(df['Category Name'])]\n",
    "print len(df_nan)\n",
    "df_nan"
   ]
  },
  {
   "cell_type": "code",
   "execution_count": null,
   "metadata": {
    "collapsed": false
   },
   "outputs": [],
   "source": [
    "df_nan['Item Description'].unique()"
   ]
  },
  {
   "cell_type": "code",
   "execution_count": null,
   "metadata": {
    "collapsed": true
   },
   "outputs": [],
   "source": [
    "package = ['Jack Daniels TN Honey & Jack Daniels TN Fire 750mls w/2Gls', 'Bombay Sapphire w/Glass',\\\n",
    "           'Evan Williams Egg Nog', 'Pinnacle Candy Cane Trial Pack', 'Wild Turkey American Honey Shot Tap',\\\n",
    "           'Knob Creek w/ Crystal Decanter']\n",
    "\n",
    "for i in package:\n",
    "    df.loc[df['Item Description'] == i,'Category Name'] = 'DECANTERS & SPECIALTY PACKAGES'"
   ]
  },
  {
   "cell_type": "code",
   "execution_count": null,
   "metadata": {
    "collapsed": true
   },
   "outputs": [],
   "source": [
    "df.loc[df['Item Description'] == 'Woodford Reserve MC 1838 White Corn',\\\n",
    "       'Category Name'] = 'CORN WHISKIES'"
   ]
  },
  {
   "cell_type": "code",
   "execution_count": null,
   "metadata": {
    "collapsed": true
   },
   "outputs": [],
   "source": [
    "lique = ['Rothman & Winter Orchard Peach', 'Giffard Creme de Pamplemousse Rose Pink Grapefruit Liqueur',\\\n",
    "        'Pearl Caramel']\n",
    "\n",
    "for i in lique:\n",
    "    df.loc[df['Item Description'] == i,'Category Name'] ='MISC. IMPORTED CORDIALS & LIQUEURS'"
   ]
  },
  {
   "cell_type": "code",
   "execution_count": null,
   "metadata": {
    "collapsed": true
   },
   "outputs": [],
   "source": [
    "df.loc[df['Item Description'] == 'Glenfiddich 1963 Replica HA',\\\n",
    "       'Category Name'] ='SINGLE MALT SCOTCH'"
   ]
  },
  {
   "cell_type": "code",
   "execution_count": null,
   "metadata": {
    "collapsed": true
   },
   "outputs": [],
   "source": [
    "df.loc[df['Item Description'] == 'Parkers Heritage Collection Malt Whiskey HA',\\\n",
    "       'Category Name'] = \"STRAIGHT BOURBON WHISKIES\""
   ]
  },
  {
   "cell_type": "code",
   "execution_count": null,
   "metadata": {
    "collapsed": false
   },
   "outputs": [],
   "source": [
    "vod = ['High Stick Vodka', 'Ciroc Ten HA']\n",
    "\n",
    "for i in vod:\n",
    "    df.loc[df['Item Description'] == i,'Category Name'] = 'IMPORTED VODKA'\n",
    "\n",
    "df.loc[df['Item Description'] == 'Absolut w/Ginger Beer','Category Name'] = 'VODKA FLAVORED'"
   ]
  },
  {
   "cell_type": "markdown",
   "metadata": {},
   "source": [
    "#### Comments:\n",
    "\n",
    "There are still cells in 'Category' with NaN values, however, since we will only be using \"Category Name\" for analyses, NaNs in 'Category' were not cleaned."
   ]
  },
  {
   "cell_type": "markdown",
   "metadata": {},
   "source": [
    "## Groupby County"
   ]
  },
  {
   "cell_type": "code",
   "execution_count": null,
   "metadata": {
    "collapsed": false
   },
   "outputs": [],
   "source": [
    "pd.pivot_table(df, index = ['County', 'Store Number'], values = ['Sale (Dollars)'], \\\n",
    "               aggfunc = [np.mean, max, min, np.sum]).\\\n",
    "                sort_values([('sum', \"Sale (Dollars)\")], ascending = False).head(10)"
   ]
  },
  {
   "cell_type": "code",
   "execution_count": 254,
   "metadata": {
    "collapsed": false
   },
   "outputs": [
    {
     "data": {
      "text/html": [
       "<div>\n",
       "<table border=\"1\" class=\"dataframe\">\n",
       "  <thead>\n",
       "    <tr>\n",
       "      <th></th>\n",
       "      <th></th>\n",
       "      <th>mean</th>\n",
       "      <th>max</th>\n",
       "      <th>min</th>\n",
       "      <th>sum</th>\n",
       "    </tr>\n",
       "    <tr>\n",
       "      <th></th>\n",
       "      <th></th>\n",
       "      <th>Sale (Dollars)</th>\n",
       "      <th>Sale (Dollars)</th>\n",
       "      <th>Sale (Dollars)</th>\n",
       "      <th>Sale (Dollars)</th>\n",
       "    </tr>\n",
       "    <tr>\n",
       "      <th>County</th>\n",
       "      <th>Store Number</th>\n",
       "      <th></th>\n",
       "      <th></th>\n",
       "      <th></th>\n",
       "      <th></th>\n",
       "    </tr>\n",
       "  </thead>\n",
       "  <tbody>\n",
       "    <tr>\n",
       "      <th>Dubuque</th>\n",
       "      <th>9018</th>\n",
       "      <td>6435.000000</td>\n",
       "      <td>6435.00</td>\n",
       "      <td>6435.00</td>\n",
       "      <td>6435.00</td>\n",
       "    </tr>\n",
       "    <tr>\n",
       "      <th>Polk</th>\n",
       "      <th>3814</th>\n",
       "      <td>2234.074820</td>\n",
       "      <td>32184.00</td>\n",
       "      <td>121.56</td>\n",
       "      <td>310536.40</td>\n",
       "    </tr>\n",
       "    <tr>\n",
       "      <th rowspan=\"2\" valign=\"top\">Johnson</th>\n",
       "      <th>4677</th>\n",
       "      <td>1782.670108</td>\n",
       "      <td>29327.76</td>\n",
       "      <td>66.93</td>\n",
       "      <td>165788.32</td>\n",
       "    </tr>\n",
       "    <tr>\n",
       "      <th>9001</th>\n",
       "      <td>1204.865000</td>\n",
       "      <td>14602.50</td>\n",
       "      <td>110.70</td>\n",
       "      <td>28916.76</td>\n",
       "    </tr>\n",
       "    <tr>\n",
       "      <th>Polk</th>\n",
       "      <th>3420</th>\n",
       "      <td>936.223395</td>\n",
       "      <td>16200.00</td>\n",
       "      <td>38.40</td>\n",
       "      <td>402576.06</td>\n",
       "    </tr>\n",
       "    <tr>\n",
       "      <th>Linn</th>\n",
       "      <th>3385</th>\n",
       "      <td>855.724814</td>\n",
       "      <td>15414.00</td>\n",
       "      <td>64.02</td>\n",
       "      <td>506589.09</td>\n",
       "    </tr>\n",
       "    <tr>\n",
       "      <th>Scott</th>\n",
       "      <th>9002</th>\n",
       "      <td>797.615510</td>\n",
       "      <td>6226.08</td>\n",
       "      <td>91.56</td>\n",
       "      <td>39083.16</td>\n",
       "    </tr>\n",
       "    <tr>\n",
       "      <th>Polk</th>\n",
       "      <th>5144</th>\n",
       "      <td>787.377406</td>\n",
       "      <td>8279.52</td>\n",
       "      <td>62.28</td>\n",
       "      <td>166924.01</td>\n",
       "    </tr>\n",
       "    <tr>\n",
       "      <th>Scott</th>\n",
       "      <th>3354</th>\n",
       "      <td>750.236802</td>\n",
       "      <td>7404.60</td>\n",
       "      <td>64.02</td>\n",
       "      <td>295593.30</td>\n",
       "    </tr>\n",
       "    <tr>\n",
       "      <th>Pottawattamie</th>\n",
       "      <th>3477</th>\n",
       "      <td>736.431774</td>\n",
       "      <td>16542.00</td>\n",
       "      <td>42.00</td>\n",
       "      <td>182635.08</td>\n",
       "    </tr>\n",
       "  </tbody>\n",
       "</table>\n",
       "</div>"
      ],
      "text/plain": [
       "                                     mean            max            min  \\\n",
       "                           Sale (Dollars) Sale (Dollars) Sale (Dollars)   \n",
       "County        Store Number                                                \n",
       "Dubuque       9018            6435.000000        6435.00        6435.00   \n",
       "Polk          3814            2234.074820       32184.00         121.56   \n",
       "Johnson       4677            1782.670108       29327.76          66.93   \n",
       "              9001            1204.865000       14602.50         110.70   \n",
       "Polk          3420             936.223395       16200.00          38.40   \n",
       "Linn          3385             855.724814       15414.00          64.02   \n",
       "Scott         9002             797.615510        6226.08          91.56   \n",
       "Polk          5144             787.377406        8279.52          62.28   \n",
       "Scott         3354             750.236802        7404.60          64.02   \n",
       "Pottawattamie 3477             736.431774       16542.00          42.00   \n",
       "\n",
       "                                      sum  \n",
       "                           Sale (Dollars)  \n",
       "County        Store Number                 \n",
       "Dubuque       9018                6435.00  \n",
       "Polk          3814              310536.40  \n",
       "Johnson       4677              165788.32  \n",
       "              9001               28916.76  \n",
       "Polk          3420              402576.06  \n",
       "Linn          3385              506589.09  \n",
       "Scott         9002               39083.16  \n",
       "Polk          5144              166924.01  \n",
       "Scott         3354              295593.30  \n",
       "Pottawattamie 3477              182635.08  "
      ]
     },
     "execution_count": 254,
     "metadata": {},
     "output_type": "execute_result"
    }
   ],
   "source": [
    "pd.pivot_table(df, index = ['County', 'Store Number'], values = ['Sale (Dollars)'], \\\n",
    "               aggfunc = [np.mean, max, min, np.sum]).\\\n",
    "                sort_values([('mean', \"Sale (Dollars)\")], ascending = False).head(10)"
   ]
  },
  {
   "cell_type": "markdown",
   "metadata": {},
   "source": [
    "## Groupby Zipcode"
   ]
  },
  {
   "cell_type": "code",
   "execution_count": 255,
   "metadata": {
    "collapsed": false
   },
   "outputs": [
    {
     "data": {
      "text/html": [
       "<div>\n",
       "<table border=\"1\" class=\"dataframe\">\n",
       "  <thead>\n",
       "    <tr>\n",
       "      <th></th>\n",
       "      <th></th>\n",
       "      <th>mean</th>\n",
       "      <th>max</th>\n",
       "      <th>min</th>\n",
       "      <th>sum</th>\n",
       "    </tr>\n",
       "    <tr>\n",
       "      <th></th>\n",
       "      <th></th>\n",
       "      <th>Sale (Dollars)</th>\n",
       "      <th>Sale (Dollars)</th>\n",
       "      <th>Sale (Dollars)</th>\n",
       "      <th>Sale (Dollars)</th>\n",
       "    </tr>\n",
       "    <tr>\n",
       "      <th>Zip Code</th>\n",
       "      <th>Store Number</th>\n",
       "      <th></th>\n",
       "      <th></th>\n",
       "      <th></th>\n",
       "      <th></th>\n",
       "    </tr>\n",
       "  </thead>\n",
       "  <tbody>\n",
       "    <tr>\n",
       "      <th>50320</th>\n",
       "      <th>2633</th>\n",
       "      <td>491.080519</td>\n",
       "      <td>36392.40</td>\n",
       "      <td>4.50</td>\n",
       "      <td>1220335.09</td>\n",
       "    </tr>\n",
       "    <tr>\n",
       "      <th>50314</th>\n",
       "      <th>4829</th>\n",
       "      <td>473.544726</td>\n",
       "      <td>13233.60</td>\n",
       "      <td>6.00</td>\n",
       "      <td>1089152.87</td>\n",
       "    </tr>\n",
       "    <tr>\n",
       "      <th>52240</th>\n",
       "      <th>2512</th>\n",
       "      <td>302.767702</td>\n",
       "      <td>16542.00</td>\n",
       "      <td>7.26</td>\n",
       "      <td>532265.62</td>\n",
       "    </tr>\n",
       "    <tr>\n",
       "      <th>52402</th>\n",
       "      <th>3385</th>\n",
       "      <td>855.724814</td>\n",
       "      <td>15414.00</td>\n",
       "      <td>64.02</td>\n",
       "      <td>506589.09</td>\n",
       "    </tr>\n",
       "    <tr>\n",
       "      <th>50311</th>\n",
       "      <th>3420</th>\n",
       "      <td>936.223395</td>\n",
       "      <td>16200.00</td>\n",
       "      <td>38.40</td>\n",
       "      <td>402576.06</td>\n",
       "    </tr>\n",
       "    <tr>\n",
       "      <th>52722</th>\n",
       "      <th>3952</th>\n",
       "      <td>344.255640</td>\n",
       "      <td>6616.80</td>\n",
       "      <td>9.50</td>\n",
       "      <td>392451.43</td>\n",
       "    </tr>\n",
       "    <tr>\n",
       "      <th>50266</th>\n",
       "      <th>3814</th>\n",
       "      <td>2234.074820</td>\n",
       "      <td>32184.00</td>\n",
       "      <td>121.56</td>\n",
       "      <td>310536.40</td>\n",
       "    </tr>\n",
       "    <tr>\n",
       "      <th>52401</th>\n",
       "      <th>3773</th>\n",
       "      <td>253.965306</td>\n",
       "      <td>2538.72</td>\n",
       "      <td>7.05</td>\n",
       "      <td>298663.20</td>\n",
       "    </tr>\n",
       "    <tr>\n",
       "      <th>52807</th>\n",
       "      <th>3354</th>\n",
       "      <td>750.236802</td>\n",
       "      <td>7404.60</td>\n",
       "      <td>64.02</td>\n",
       "      <td>295593.30</td>\n",
       "    </tr>\n",
       "    <tr>\n",
       "      <th>52241</th>\n",
       "      <th>2670</th>\n",
       "      <td>187.347078</td>\n",
       "      <td>6444.00</td>\n",
       "      <td>4.95</td>\n",
       "      <td>282144.70</td>\n",
       "    </tr>\n",
       "  </tbody>\n",
       "</table>\n",
       "</div>"
      ],
      "text/plain": [
       "                                mean            max            min  \\\n",
       "                      Sale (Dollars) Sale (Dollars) Sale (Dollars)   \n",
       "Zip Code Store Number                                                \n",
       "50320    2633             491.080519       36392.40           4.50   \n",
       "50314    4829             473.544726       13233.60           6.00   \n",
       "52240    2512             302.767702       16542.00           7.26   \n",
       "52402    3385             855.724814       15414.00          64.02   \n",
       "50311    3420             936.223395       16200.00          38.40   \n",
       "52722    3952             344.255640        6616.80           9.50   \n",
       "50266    3814            2234.074820       32184.00         121.56   \n",
       "52401    3773             253.965306        2538.72           7.05   \n",
       "52807    3354             750.236802        7404.60          64.02   \n",
       "52241    2670             187.347078        6444.00           4.95   \n",
       "\n",
       "                                 sum  \n",
       "                      Sale (Dollars)  \n",
       "Zip Code Store Number                 \n",
       "50320    2633             1220335.09  \n",
       "50314    4829             1089152.87  \n",
       "52240    2512              532265.62  \n",
       "52402    3385              506589.09  \n",
       "50311    3420              402576.06  \n",
       "52722    3952              392451.43  \n",
       "50266    3814              310536.40  \n",
       "52401    3773              298663.20  \n",
       "52807    3354              295593.30  \n",
       "52241    2670              282144.70  "
      ]
     },
     "execution_count": 255,
     "metadata": {},
     "output_type": "execute_result"
    }
   ],
   "source": [
    "pd.pivot_table(df, index = ['Zip Code', 'Store Number'], values = ['Sale (Dollars)'], \\\n",
    "               aggfunc = [np.mean, max, min, np.sum]).\\\n",
    "                sort_values([('sum', 'Sale (Dollars)')], ascending = False).head(10)"
   ]
  },
  {
   "cell_type": "code",
   "execution_count": 256,
   "metadata": {
    "collapsed": false
   },
   "outputs": [
    {
     "data": {
      "text/html": [
       "<div>\n",
       "<table border=\"1\" class=\"dataframe\">\n",
       "  <thead>\n",
       "    <tr>\n",
       "      <th></th>\n",
       "      <th>mean</th>\n",
       "      <th>max</th>\n",
       "      <th>min</th>\n",
       "      <th>sum</th>\n",
       "    </tr>\n",
       "    <tr>\n",
       "      <th></th>\n",
       "      <th>Sale (Dollars)</th>\n",
       "      <th>Sale (Dollars)</th>\n",
       "      <th>Sale (Dollars)</th>\n",
       "      <th>Sale (Dollars)</th>\n",
       "    </tr>\n",
       "    <tr>\n",
       "      <th>Zip Code</th>\n",
       "      <th></th>\n",
       "      <th></th>\n",
       "      <th></th>\n",
       "      <th></th>\n",
       "    </tr>\n",
       "  </thead>\n",
       "  <tbody>\n",
       "    <tr>\n",
       "      <th>50061</th>\n",
       "      <td>429.840000</td>\n",
       "      <td>818.40</td>\n",
       "      <td>129.24</td>\n",
       "      <td>2579.04</td>\n",
       "    </tr>\n",
       "    <tr>\n",
       "      <th>50320</th>\n",
       "      <td>400.454243</td>\n",
       "      <td>36392.40</td>\n",
       "      <td>4.50</td>\n",
       "      <td>1306281.74</td>\n",
       "    </tr>\n",
       "    <tr>\n",
       "      <th>50540</th>\n",
       "      <td>346.300000</td>\n",
       "      <td>648.00</td>\n",
       "      <td>64.80</td>\n",
       "      <td>2077.80</td>\n",
       "    </tr>\n",
       "    <tr>\n",
       "      <th>50314</th>\n",
       "      <td>293.858874</td>\n",
       "      <td>13233.60</td>\n",
       "      <td>4.95</td>\n",
       "      <td>1336470.16</td>\n",
       "    </tr>\n",
       "    <tr>\n",
       "      <th>50830</th>\n",
       "      <td>271.840000</td>\n",
       "      <td>564.48</td>\n",
       "      <td>94.20</td>\n",
       "      <td>3262.08</td>\n",
       "    </tr>\n",
       "    <tr>\n",
       "      <th>52401</th>\n",
       "      <td>245.139833</td>\n",
       "      <td>2538.72</td>\n",
       "      <td>7.05</td>\n",
       "      <td>309121.33</td>\n",
       "    </tr>\n",
       "    <tr>\n",
       "      <th>50266</th>\n",
       "      <td>238.291152</td>\n",
       "      <td>32184.00</td>\n",
       "      <td>5.10</td>\n",
       "      <td>678653.20</td>\n",
       "    </tr>\n",
       "    <tr>\n",
       "      <th>52154</th>\n",
       "      <td>235.232683</td>\n",
       "      <td>846.24</td>\n",
       "      <td>35.30</td>\n",
       "      <td>9644.54</td>\n",
       "    </tr>\n",
       "    <tr>\n",
       "      <th>52337</th>\n",
       "      <td>231.973333</td>\n",
       "      <td>1335.30</td>\n",
       "      <td>43.56</td>\n",
       "      <td>2087.76</td>\n",
       "    </tr>\n",
       "    <tr>\n",
       "      <th>52314</th>\n",
       "      <td>224.290505</td>\n",
       "      <td>3542.40</td>\n",
       "      <td>8.31</td>\n",
       "      <td>270942.93</td>\n",
       "    </tr>\n",
       "  </tbody>\n",
       "</table>\n",
       "</div>"
      ],
      "text/plain": [
       "                   mean            max            min            sum\n",
       "         Sale (Dollars) Sale (Dollars) Sale (Dollars) Sale (Dollars)\n",
       "Zip Code                                                            \n",
       "50061        429.840000         818.40         129.24        2579.04\n",
       "50320        400.454243       36392.40           4.50     1306281.74\n",
       "50540        346.300000         648.00          64.80        2077.80\n",
       "50314        293.858874       13233.60           4.95     1336470.16\n",
       "50830        271.840000         564.48          94.20        3262.08\n",
       "52401        245.139833        2538.72           7.05      309121.33\n",
       "50266        238.291152       32184.00           5.10      678653.20\n",
       "52154        235.232683         846.24          35.30        9644.54\n",
       "52337        231.973333        1335.30          43.56        2087.76\n",
       "52314        224.290505        3542.40           8.31      270942.93"
      ]
     },
     "execution_count": 256,
     "metadata": {},
     "output_type": "execute_result"
    }
   ],
   "source": [
    "pd.pivot_table(df, index = ['Zip Code'], values = ['Sale (Dollars)'], \\\n",
    "               aggfunc = [np.mean, max, min, np.sum]).\\\n",
    "                sort_values([('mean', 'Sale (Dollars)')], ascending = False).head(10)"
   ]
  },
  {
   "cell_type": "markdown",
   "metadata": {},
   "source": [
    "## Groupby City"
   ]
  },
  {
   "cell_type": "code",
   "execution_count": 257,
   "metadata": {
    "collapsed": false
   },
   "outputs": [
    {
     "data": {
      "text/html": [
       "<div>\n",
       "<table border=\"1\" class=\"dataframe\">\n",
       "  <thead>\n",
       "    <tr>\n",
       "      <th></th>\n",
       "      <th></th>\n",
       "      <th>mean</th>\n",
       "      <th>sum</th>\n",
       "      <th>std</th>\n",
       "    </tr>\n",
       "    <tr>\n",
       "      <th></th>\n",
       "      <th></th>\n",
       "      <th>Sale (Dollars)</th>\n",
       "      <th>Sale (Dollars)</th>\n",
       "      <th>Sale (Dollars)</th>\n",
       "    </tr>\n",
       "    <tr>\n",
       "      <th>City</th>\n",
       "      <th>Store Number</th>\n",
       "      <th></th>\n",
       "      <th></th>\n",
       "      <th></th>\n",
       "    </tr>\n",
       "  </thead>\n",
       "  <tbody>\n",
       "    <tr>\n",
       "      <th>DUBUQUE</th>\n",
       "      <th>9018</th>\n",
       "      <td>6435.000000</td>\n",
       "      <td>6435.00</td>\n",
       "      <td>NaN</td>\n",
       "    </tr>\n",
       "    <tr>\n",
       "      <th>WEST DES MOINES</th>\n",
       "      <th>3814</th>\n",
       "      <td>2234.074820</td>\n",
       "      <td>310536.40</td>\n",
       "      <td>4325.581435</td>\n",
       "    </tr>\n",
       "    <tr>\n",
       "      <th>CORALVILLE</th>\n",
       "      <th>4677</th>\n",
       "      <td>1782.670108</td>\n",
       "      <td>165788.32</td>\n",
       "      <td>3746.167251</td>\n",
       "    </tr>\n",
       "    <tr>\n",
       "      <th>SWISHER</th>\n",
       "      <th>9001</th>\n",
       "      <td>1204.865000</td>\n",
       "      <td>28916.76</td>\n",
       "      <td>2895.308462</td>\n",
       "    </tr>\n",
       "    <tr>\n",
       "      <th>WINDSOR HEIGHTS</th>\n",
       "      <th>3420</th>\n",
       "      <td>936.223395</td>\n",
       "      <td>402576.06</td>\n",
       "      <td>1810.604731</td>\n",
       "    </tr>\n",
       "    <tr>\n",
       "      <th>CEDAR RAPIDS</th>\n",
       "      <th>3385</th>\n",
       "      <td>855.724814</td>\n",
       "      <td>506589.09</td>\n",
       "      <td>1789.637834</td>\n",
       "    </tr>\n",
       "    <tr>\n",
       "      <th>LECLAIRE</th>\n",
       "      <th>9002</th>\n",
       "      <td>797.615510</td>\n",
       "      <td>39083.16</td>\n",
       "      <td>1005.067525</td>\n",
       "    </tr>\n",
       "    <tr>\n",
       "      <th>ANKENY</th>\n",
       "      <th>5144</th>\n",
       "      <td>787.377406</td>\n",
       "      <td>166924.01</td>\n",
       "      <td>1411.192674</td>\n",
       "    </tr>\n",
       "    <tr>\n",
       "      <th>DAVENPORT</th>\n",
       "      <th>3354</th>\n",
       "      <td>750.236802</td>\n",
       "      <td>295593.30</td>\n",
       "      <td>1316.226035</td>\n",
       "    </tr>\n",
       "    <tr>\n",
       "      <th>COUNCIL BLUFFS</th>\n",
       "      <th>3477</th>\n",
       "      <td>736.431774</td>\n",
       "      <td>182635.08</td>\n",
       "      <td>1845.011697</td>\n",
       "    </tr>\n",
       "  </tbody>\n",
       "</table>\n",
       "</div>"
      ],
      "text/plain": [
       "                                       mean            sum            std\n",
       "                             Sale (Dollars) Sale (Dollars) Sale (Dollars)\n",
       "City            Store Number                                             \n",
       "DUBUQUE         9018            6435.000000        6435.00            NaN\n",
       "WEST DES MOINES 3814            2234.074820      310536.40    4325.581435\n",
       "CORALVILLE      4677            1782.670108      165788.32    3746.167251\n",
       "SWISHER         9001            1204.865000       28916.76    2895.308462\n",
       "WINDSOR HEIGHTS 3420             936.223395      402576.06    1810.604731\n",
       "CEDAR RAPIDS    3385             855.724814      506589.09    1789.637834\n",
       "LECLAIRE        9002             797.615510       39083.16    1005.067525\n",
       "ANKENY          5144             787.377406      166924.01    1411.192674\n",
       "DAVENPORT       3354             750.236802      295593.30    1316.226035\n",
       "COUNCIL BLUFFS  3477             736.431774      182635.08    1845.011697"
      ]
     },
     "execution_count": 257,
     "metadata": {},
     "output_type": "execute_result"
    }
   ],
   "source": [
    "pd.pivot_table(df, index = ['City', 'Store Number'], values = ['Sale (Dollars)'],\\\n",
    "               aggfunc = [np.mean, np.sum, np.std]).sort_values([('mean', 'Sale (Dollars)')], \\\n",
    "                                                                ascending = False).head(10)"
   ]
  },
  {
   "cell_type": "code",
   "execution_count": 258,
   "metadata": {
    "collapsed": false
   },
   "outputs": [
    {
     "data": {
      "text/html": [
       "<div>\n",
       "<table border=\"1\" class=\"dataframe\">\n",
       "  <thead>\n",
       "    <tr>\n",
       "      <th></th>\n",
       "      <th></th>\n",
       "      <th>mean</th>\n",
       "      <th>sum</th>\n",
       "      <th>std</th>\n",
       "    </tr>\n",
       "    <tr>\n",
       "      <th></th>\n",
       "      <th></th>\n",
       "      <th>Sale (Dollars)</th>\n",
       "      <th>Sale (Dollars)</th>\n",
       "      <th>Sale (Dollars)</th>\n",
       "    </tr>\n",
       "    <tr>\n",
       "      <th>City</th>\n",
       "      <th>Store Number</th>\n",
       "      <th></th>\n",
       "      <th></th>\n",
       "      <th></th>\n",
       "    </tr>\n",
       "  </thead>\n",
       "  <tbody>\n",
       "    <tr>\n",
       "      <th rowspan=\"2\" valign=\"top\">DES MOINES</th>\n",
       "      <th>2633</th>\n",
       "      <td>491.080519</td>\n",
       "      <td>1220335.09</td>\n",
       "      <td>1581.816646</td>\n",
       "    </tr>\n",
       "    <tr>\n",
       "      <th>4829</th>\n",
       "      <td>473.544726</td>\n",
       "      <td>1089152.87</td>\n",
       "      <td>795.966563</td>\n",
       "    </tr>\n",
       "    <tr>\n",
       "      <th>IOWA CITY</th>\n",
       "      <th>2512</th>\n",
       "      <td>302.767702</td>\n",
       "      <td>532265.62</td>\n",
       "      <td>720.721560</td>\n",
       "    </tr>\n",
       "    <tr>\n",
       "      <th>CEDAR RAPIDS</th>\n",
       "      <th>3385</th>\n",
       "      <td>855.724814</td>\n",
       "      <td>506589.09</td>\n",
       "      <td>1789.637834</td>\n",
       "    </tr>\n",
       "    <tr>\n",
       "      <th>WINDSOR HEIGHTS</th>\n",
       "      <th>3420</th>\n",
       "      <td>936.223395</td>\n",
       "      <td>402576.06</td>\n",
       "      <td>1810.604731</td>\n",
       "    </tr>\n",
       "    <tr>\n",
       "      <th>BETTENDORF</th>\n",
       "      <th>3952</th>\n",
       "      <td>344.255640</td>\n",
       "      <td>392451.43</td>\n",
       "      <td>506.144333</td>\n",
       "    </tr>\n",
       "    <tr>\n",
       "      <th>WEST DES MOINES</th>\n",
       "      <th>3814</th>\n",
       "      <td>2234.074820</td>\n",
       "      <td>310536.40</td>\n",
       "      <td>4325.581435</td>\n",
       "    </tr>\n",
       "    <tr>\n",
       "      <th>CEDAR RAPIDS</th>\n",
       "      <th>3773</th>\n",
       "      <td>253.965306</td>\n",
       "      <td>298663.20</td>\n",
       "      <td>305.082510</td>\n",
       "    </tr>\n",
       "    <tr>\n",
       "      <th>DAVENPORT</th>\n",
       "      <th>3354</th>\n",
       "      <td>750.236802</td>\n",
       "      <td>295593.30</td>\n",
       "      <td>1316.226035</td>\n",
       "    </tr>\n",
       "    <tr>\n",
       "      <th>CORALVILLE</th>\n",
       "      <th>2670</th>\n",
       "      <td>187.347078</td>\n",
       "      <td>282144.70</td>\n",
       "      <td>358.161785</td>\n",
       "    </tr>\n",
       "  </tbody>\n",
       "</table>\n",
       "</div>"
      ],
      "text/plain": [
       "                                       mean            sum            std\n",
       "                             Sale (Dollars) Sale (Dollars) Sale (Dollars)\n",
       "City            Store Number                                             \n",
       "DES MOINES      2633             491.080519     1220335.09    1581.816646\n",
       "                4829             473.544726     1089152.87     795.966563\n",
       "IOWA CITY       2512             302.767702      532265.62     720.721560\n",
       "CEDAR RAPIDS    3385             855.724814      506589.09    1789.637834\n",
       "WINDSOR HEIGHTS 3420             936.223395      402576.06    1810.604731\n",
       "BETTENDORF      3952             344.255640      392451.43     506.144333\n",
       "WEST DES MOINES 3814            2234.074820      310536.40    4325.581435\n",
       "CEDAR RAPIDS    3773             253.965306      298663.20     305.082510\n",
       "DAVENPORT       3354             750.236802      295593.30    1316.226035\n",
       "CORALVILLE      2670             187.347078      282144.70     358.161785"
      ]
     },
     "execution_count": 258,
     "metadata": {},
     "output_type": "execute_result"
    }
   ],
   "source": [
    "pd.pivot_table(df, index = ['City', 'Store Number'], values = ['Sale (Dollars)'],\\\n",
    "               aggfunc = [np.mean, np.sum, np.std]).sort_values([('sum', 'Sale (Dollars)')], \\\n",
    "                                                                ascending = False).head(10)"
   ]
  },
  {
   "cell_type": "markdown",
   "metadata": {},
   "source": [
    "# Explore the data\n",
    "\n",
    "Perform some exploratory statistical analysis and make some plots, such as histograms of transaction totals, bottles sold, etc."
   ]
  },
  {
   "cell_type": "code",
   "execution_count": 4,
   "metadata": {
    "collapsed": true
   },
   "outputs": [],
   "source": [
    "import seaborn as sns\n",
    "import matplotlib.pyplot as plt"
   ]
  },
  {
   "cell_type": "markdown",
   "metadata": {},
   "source": [
    "## Record your findings\n",
    "\n",
    "Be sure to write out anything observations from your exploratory analysis."
   ]
  },
  {
   "cell_type": "markdown",
   "metadata": {},
   "source": [
    "# Mine the data\n",
    "Now you are ready to compute the variables you will use for your regression from the data. For example, you may want to\n",
    "compute total sales per store from Jan to March of 2015, mean price per bottle, etc. Refer to the readme for more ideas appropriate to your scenario.\n",
    "\n",
    "Pandas is your friend for this task. Take a look at the operations [here](http://pandas.pydata.org/pandas-docs/stable/groupby.html) for ideas on how to make the best use of pandas and feel free to search for blog and Stack Overflow posts to help you group data by certain variables and compute sums, means, etc. You may find it useful to create a new data frame to house this summary data."
   ]
  },
  {
   "cell_type": "markdown",
   "metadata": {},
   "source": [
    "# Refine the data\n",
    "Look for any statistical relationships, correlations, or other relevant properties of the dataset."
   ]
  },
  {
   "cell_type": "code",
   "execution_count": null,
   "metadata": {
    "collapsed": true
   },
   "outputs": [],
   "source": []
  },
  {
   "cell_type": "markdown",
   "metadata": {},
   "source": [
    "# Build your models\n",
    "\n",
    "Using scikit-learn or statsmodels, build the necessary models for your scenario. Evaluate model fit."
   ]
  },
  {
   "cell_type": "code",
   "execution_count": 6,
   "metadata": {
    "collapsed": true
   },
   "outputs": [],
   "source": [
    "from sklearn import linear_model\n"
   ]
  },
  {
   "cell_type": "markdown",
   "metadata": {},
   "source": [
    "## Plot your results\n",
    "\n",
    "Again make sure that you record any valuable information. For example, in the tax scenario, did you find the sales from the first three months of the year to be a good predictor of the total sales for the year? Plot the predictions versus the true values and discuss the successes and limitations of your models"
   ]
  },
  {
   "cell_type": "code",
   "execution_count": null,
   "metadata": {
    "collapsed": true
   },
   "outputs": [],
   "source": []
  },
  {
   "cell_type": "markdown",
   "metadata": {},
   "source": [
    "# Present the Results\n",
    "\n",
    "Present your conclusions and results. If you have more than one interesting model feel free to include more than one along with a discussion. Use your work in this notebook to prepare your write-up."
   ]
  },
  {
   "cell_type": "code",
   "execution_count": null,
   "metadata": {
    "collapsed": true
   },
   "outputs": [],
   "source": []
  }
 ],
 "metadata": {
  "anaconda-cloud": {},
  "kernelspec": {
   "display_name": "Python [conda root]",
   "language": "python",
   "name": "conda-root-py"
  },
  "language_info": {
   "codemirror_mode": {
    "name": "ipython",
    "version": 2
   },
   "file_extension": ".py",
   "mimetype": "text/x-python",
   "name": "python",
   "nbconvert_exporter": "python",
   "pygments_lexer": "ipython2",
   "version": "2.7.12"
  }
 },
 "nbformat": 4,
 "nbformat_minor": 0
}
