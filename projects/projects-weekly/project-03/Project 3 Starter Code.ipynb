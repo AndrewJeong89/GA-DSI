{
 "cells": [
  {
   "cell_type": "markdown",
   "metadata": {},
   "source": [
    "# Getting started\n",
    "\n",
    "Once you've chosen your scenario, download the data from [the Iowa website](https://data.iowa.gov/Economy/Iowa-Liquor-Sales/m3tr-qhgy) in csv format. Start by loading the data with pandas. You may need to parse the date columns appropriately."
   ]
  },
  {
   "cell_type": "markdown",
   "metadata": {},
   "source": [
    "#### Scenario 2: Market research for new store locations\n",
    "\n",
    "A liquor store owner in Iowa is looking to expand to new locations and has hired you to investigate the market data for potential new locations. The business owner is interested in the details of the best model you can fit to the data so that his team can evaluate potential locations for a new storefront.\n",
    "\n",
    "**Goal for Scenario #2:** Your task is to:\n",
    "\n",
    "* Build models of total sales based on location, price per bottle, total bottles sold. You may find it useful to build models for each county, zip code, or city.\n",
    "* Provide a table of the best performing stores by location type of your choice (city, county, or zip code) and the predictions of your model(s).\n",
    "* Based on your models and the table of data, recommend some general locations to the business owner, taking into account model performance. Validate your model's performance and ability to predict future sales using cross-validation.\n",
    "* _Bonus_: Recommend targets for volume sold and price per bottle!\n",
    "\n",
    "---"
   ]
  },
  {
   "cell_type": "code",
   "execution_count": 1,
   "metadata": {
    "collapsed": true
   },
   "outputs": [],
   "source": [
    "%matplotlib inline\n",
    "\n",
    "import pandas as pd\n",
    "import numpy as np\n",
    "import pprint"
   ]
  },
  {
   "cell_type": "code",
   "execution_count": 2,
   "metadata": {
    "collapsed": false
   },
   "outputs": [
    {
     "data": {
      "text/html": [
       "<div>\n",
       "<table border=\"1\" class=\"dataframe\">\n",
       "  <thead>\n",
       "    <tr style=\"text-align: right;\">\n",
       "      <th></th>\n",
       "      <th>Unnamed: 0</th>\n",
       "      <th>Date</th>\n",
       "      <th>Store Number</th>\n",
       "      <th>City</th>\n",
       "      <th>Zip Code</th>\n",
       "      <th>County Number</th>\n",
       "      <th>County</th>\n",
       "      <th>Category</th>\n",
       "      <th>Category Name</th>\n",
       "      <th>Vendor Number</th>\n",
       "      <th>Item Number</th>\n",
       "      <th>Item Description</th>\n",
       "      <th>Bottle Volume (ml)</th>\n",
       "      <th>State Bottle Cost</th>\n",
       "      <th>State Bottle Retail</th>\n",
       "      <th>Bottles Sold</th>\n",
       "      <th>Sale (Dollars)</th>\n",
       "      <th>Volume Sold (Liters)</th>\n",
       "      <th>Volume Sold (Gallons)</th>\n",
       "    </tr>\n",
       "  </thead>\n",
       "  <tbody>\n",
       "    <tr>\n",
       "      <th>0</th>\n",
       "      <td>0</td>\n",
       "      <td>2015-11-04</td>\n",
       "      <td>3717</td>\n",
       "      <td>SUMNER</td>\n",
       "      <td>50674</td>\n",
       "      <td>9.0</td>\n",
       "      <td>Bremer</td>\n",
       "      <td>1051100.0</td>\n",
       "      <td>APRICOT BRANDIES</td>\n",
       "      <td>55</td>\n",
       "      <td>54436</td>\n",
       "      <td>Mr. Boston Apricot Brandy</td>\n",
       "      <td>750</td>\n",
       "      <td>4.50</td>\n",
       "      <td>6.75</td>\n",
       "      <td>12</td>\n",
       "      <td>81.00</td>\n",
       "      <td>9.0</td>\n",
       "      <td>2.38</td>\n",
       "    </tr>\n",
       "    <tr>\n",
       "      <th>1</th>\n",
       "      <td>1</td>\n",
       "      <td>2016-03-02</td>\n",
       "      <td>2614</td>\n",
       "      <td>DAVENPORT</td>\n",
       "      <td>52807</td>\n",
       "      <td>82.0</td>\n",
       "      <td>Scott</td>\n",
       "      <td>1011100.0</td>\n",
       "      <td>BLENDED WHISKIES</td>\n",
       "      <td>395</td>\n",
       "      <td>27605</td>\n",
       "      <td>Tin Cup</td>\n",
       "      <td>750</td>\n",
       "      <td>13.75</td>\n",
       "      <td>20.63</td>\n",
       "      <td>2</td>\n",
       "      <td>41.26</td>\n",
       "      <td>1.5</td>\n",
       "      <td>0.40</td>\n",
       "    </tr>\n",
       "    <tr>\n",
       "      <th>2</th>\n",
       "      <td>2</td>\n",
       "      <td>2016-02-11</td>\n",
       "      <td>2106</td>\n",
       "      <td>CEDAR FALLS</td>\n",
       "      <td>50613</td>\n",
       "      <td>7.0</td>\n",
       "      <td>Black Hawk</td>\n",
       "      <td>1011200.0</td>\n",
       "      <td>STRAIGHT BOURBON WHISKIES</td>\n",
       "      <td>65</td>\n",
       "      <td>19067</td>\n",
       "      <td>Jim Beam</td>\n",
       "      <td>1000</td>\n",
       "      <td>12.59</td>\n",
       "      <td>18.89</td>\n",
       "      <td>24</td>\n",
       "      <td>453.36</td>\n",
       "      <td>24.0</td>\n",
       "      <td>6.34</td>\n",
       "    </tr>\n",
       "    <tr>\n",
       "      <th>3</th>\n",
       "      <td>3</td>\n",
       "      <td>2016-02-03</td>\n",
       "      <td>2501</td>\n",
       "      <td>AMES</td>\n",
       "      <td>50010</td>\n",
       "      <td>85.0</td>\n",
       "      <td>Story</td>\n",
       "      <td>1071100.0</td>\n",
       "      <td>AMERICAN COCKTAILS</td>\n",
       "      <td>395</td>\n",
       "      <td>59154</td>\n",
       "      <td>1800 Ultimate Margarita</td>\n",
       "      <td>1750</td>\n",
       "      <td>9.50</td>\n",
       "      <td>14.25</td>\n",
       "      <td>6</td>\n",
       "      <td>85.50</td>\n",
       "      <td>10.5</td>\n",
       "      <td>2.77</td>\n",
       "    </tr>\n",
       "    <tr>\n",
       "      <th>4</th>\n",
       "      <td>4</td>\n",
       "      <td>2015-08-18</td>\n",
       "      <td>3654</td>\n",
       "      <td>BELMOND</td>\n",
       "      <td>50421</td>\n",
       "      <td>99.0</td>\n",
       "      <td>Wright</td>\n",
       "      <td>1031080.0</td>\n",
       "      <td>VODKA 80 PROOF</td>\n",
       "      <td>297</td>\n",
       "      <td>35918</td>\n",
       "      <td>Five O'clock Vodka</td>\n",
       "      <td>1750</td>\n",
       "      <td>7.20</td>\n",
       "      <td>10.80</td>\n",
       "      <td>12</td>\n",
       "      <td>129.60</td>\n",
       "      <td>21.0</td>\n",
       "      <td>5.55</td>\n",
       "    </tr>\n",
       "  </tbody>\n",
       "</table>\n",
       "</div>"
      ],
      "text/plain": [
       "   Unnamed: 0        Date  Store Number         City  Zip Code  County Number  \\\n",
       "0           0  2015-11-04          3717       SUMNER     50674            9.0   \n",
       "1           1  2016-03-02          2614    DAVENPORT     52807           82.0   \n",
       "2           2  2016-02-11          2106  CEDAR FALLS     50613            7.0   \n",
       "3           3  2016-02-03          2501         AMES     50010           85.0   \n",
       "4           4  2015-08-18          3654      BELMOND     50421           99.0   \n",
       "\n",
       "       County   Category              Category Name  Vendor Number  \\\n",
       "0      Bremer  1051100.0           APRICOT BRANDIES             55   \n",
       "1       Scott  1011100.0           BLENDED WHISKIES            395   \n",
       "2  Black Hawk  1011200.0  STRAIGHT BOURBON WHISKIES             65   \n",
       "3       Story  1071100.0         AMERICAN COCKTAILS            395   \n",
       "4      Wright  1031080.0             VODKA 80 PROOF            297   \n",
       "\n",
       "   Item Number           Item Description  Bottle Volume (ml)  \\\n",
       "0        54436  Mr. Boston Apricot Brandy                 750   \n",
       "1        27605                    Tin Cup                 750   \n",
       "2        19067                   Jim Beam                1000   \n",
       "3        59154    1800 Ultimate Margarita                1750   \n",
       "4        35918         Five O'clock Vodka                1750   \n",
       "\n",
       "   State Bottle Cost  State Bottle Retail  Bottles Sold  Sale (Dollars)  \\\n",
       "0               4.50                 6.75            12           81.00   \n",
       "1              13.75                20.63             2           41.26   \n",
       "2              12.59                18.89            24          453.36   \n",
       "3               9.50                14.25             6           85.50   \n",
       "4               7.20                10.80            12          129.60   \n",
       "\n",
       "   Volume Sold (Liters)  Volume Sold (Gallons)  \n",
       "0                   9.0                   2.38  \n",
       "1                   1.5                   0.40  \n",
       "2                  24.0                   6.34  \n",
       "3                  10.5                   2.77  \n",
       "4                  21.0                   5.55  "
      ]
     },
     "execution_count": 2,
     "metadata": {},
     "output_type": "execute_result"
    }
   ],
   "source": [
    "## Load the data into a DataFrame\n",
    "df = pd.read_csv(\"Iowa_Liquor_sales_sample_10pct.csv\")\n",
    "\n",
    "## Transform the dates if needed, e.g.\n",
    "# df[\"Date\"] = pd.to_datetime(df[\"Date\"], format=\"%m-%d-%y\")\n",
    "\n",
    "df.head()"
   ]
  },
  {
   "cell_type": "code",
   "execution_count": 3,
   "metadata": {
    "collapsed": false
   },
   "outputs": [
    {
     "name": "stdout",
     "output_type": "stream",
     "text": [
      "<class 'pandas.core.frame.DataFrame'>\n",
      "RangeIndex: 270955 entries, 0 to 270954\n",
      "Data columns (total 19 columns):\n",
      "Unnamed: 0               270955 non-null int64\n",
      "Date                     270955 non-null object\n",
      "Store Number             270955 non-null int64\n",
      "City                     270955 non-null object\n",
      "Zip Code                 270955 non-null int64\n",
      "County Number            270943 non-null float64\n",
      "County                   270955 non-null object\n",
      "Category                 270887 non-null float64\n",
      "Category Name            270955 non-null object\n",
      "Vendor Number            270955 non-null int64\n",
      "Item Number              270955 non-null int64\n",
      "Item Description         270955 non-null object\n",
      "Bottle Volume (ml)       270955 non-null int64\n",
      "State Bottle Cost        270955 non-null float64\n",
      "State Bottle Retail      270955 non-null float64\n",
      "Bottles Sold             270955 non-null int64\n",
      "Sale (Dollars)           270955 non-null float64\n",
      "Volume Sold (Liters)     270955 non-null float64\n",
      "Volume Sold (Gallons)    270955 non-null float64\n",
      "dtypes: float64(7), int64(7), object(5)\n",
      "memory usage: 39.3+ MB\n"
     ]
    }
   ],
   "source": [
    "df.info()"
   ]
  },
  {
   "cell_type": "markdown",
   "metadata": {},
   "source": [
    "### Data Munging"
   ]
  },
  {
   "cell_type": "code",
   "execution_count": 4,
   "metadata": {
    "collapsed": false
   },
   "outputs": [],
   "source": [
    "df['Date'] = df['Date'].apply(pd.to_datetime)"
   ]
  },
  {
   "cell_type": "code",
   "execution_count": 5,
   "metadata": {
    "collapsed": false
   },
   "outputs": [
    {
     "data": {
      "text/plain": [
       "<matplotlib.axes._subplots.AxesSubplot at 0x1174d4fd0>"
      ]
     },
     "execution_count": 5,
     "metadata": {},
     "output_type": "execute_result"
    },
    {
     "data": {
      "image/png": "[encoded data removed]",
      "text/plain": [
       "<matplotlib.figure.Figure at 0x112f7c590>"
      ]
     },
     "metadata": {},
     "output_type": "display_data"
    }
   ],
   "source": [
    "df['Bottle Volume (ml)'].hist(bins = 200)"
   ]
  },
  {
   "cell_type": "markdown",
   "metadata": {},
   "source": [
    "Most common bottle type is 750ml. 1750ml is second most popular."
   ]
  },
  {
   "cell_type": "code",
   "execution_count": 6,
   "metadata": {
    "collapsed": false
   },
   "outputs": [],
   "source": [
    "# Function to convert money columns from string to float\n",
    "\n",
    "def conv_money(x):\n",
    "    x = x.split('.')\n",
    "    return (float(x[0][1:]) + (float(x[1]) / 100))"
   ]
  },
  {
   "cell_type": "code",
   "execution_count": 7,
   "metadata": {
    "collapsed": false
   },
   "outputs": [
    {
     "ename": "AttributeError",
     "evalue": "(\"'float' object has no attribute 'split'\", u'occurred at index State Bottle Cost')",
     "output_type": "error",
     "traceback": [
      "\u001b[0;31m---------------------------------------------------------------------------\u001b[0m",
      "\u001b[0;31mAttributeError\u001b[0m                            Traceback (most recent call last)",
      "\u001b[0;32m<ipython-input-7-e66fb4dbcf05>\u001b[0m in \u001b[0;36m<module>\u001b[0;34m()\u001b[0m\n\u001b[1;32m      1\u001b[0m \u001b[0;31m# Converting columns with money value to float\u001b[0m\u001b[0;34m\u001b[0m\u001b[0;34m\u001b[0m\u001b[0m\n\u001b[1;32m      2\u001b[0m \u001b[0;34m\u001b[0m\u001b[0m\n\u001b[0;32m----> 3\u001b[0;31m \u001b[0mdf\u001b[0m\u001b[0;34m[\u001b[0m\u001b[0;34m[\u001b[0m\u001b[0;34m'State Bottle Cost'\u001b[0m\u001b[0;34m,\u001b[0m \u001b[0;34m'State Bottle Retail'\u001b[0m\u001b[0;34m,\u001b[0m \u001b[0;34m\"Sale (Dollars)\"\u001b[0m\u001b[0;34m]\u001b[0m\u001b[0;34m]\u001b[0m \u001b[0;34m=\u001b[0m \u001b[0mdf\u001b[0m\u001b[0;34m[\u001b[0m\u001b[0;34m[\u001b[0m\u001b[0;34m'State Bottle Cost'\u001b[0m\u001b[0;34m,\u001b[0m \u001b[0;34m'State Bottle Retail'\u001b[0m\u001b[0;34m,\u001b[0m \u001b[0;34m\"Sale (Dollars)\"\u001b[0m\u001b[0;34m]\u001b[0m\u001b[0;34m]\u001b[0m\u001b[0;34m.\u001b[0m\u001b[0mapplymap\u001b[0m\u001b[0;34m(\u001b[0m\u001b[0mconv_money\u001b[0m\u001b[0;34m)\u001b[0m\u001b[0;34m\u001b[0m\u001b[0m\n\u001b[0m",
      "\u001b[0;32m//anaconda/lib/python2.7/site-packages/pandas/core/frame.pyc\u001b[0m in \u001b[0;36mapplymap\u001b[0;34m(self, func)\u001b[0m\n\u001b[1;32m   4248\u001b[0m             \u001b[0;32mreturn\u001b[0m \u001b[0mlib\u001b[0m\u001b[0;34m.\u001b[0m\u001b[0mmap_infer\u001b[0m\u001b[0;34m(\u001b[0m\u001b[0mx\u001b[0m\u001b[0;34m.\u001b[0m\u001b[0masobject\u001b[0m\u001b[0;34m,\u001b[0m \u001b[0mfunc\u001b[0m\u001b[0;34m)\u001b[0m\u001b[0;34m\u001b[0m\u001b[0m\n\u001b[1;32m   4249\u001b[0m \u001b[0;34m\u001b[0m\u001b[0m\n\u001b[0;32m-> 4250\u001b[0;31m         \u001b[0;32mreturn\u001b[0m \u001b[0mself\u001b[0m\u001b[0;34m.\u001b[0m\u001b[0mapply\u001b[0m\u001b[0;34m(\u001b[0m\u001b[0minfer\u001b[0m\u001b[0;34m)\u001b[0m\u001b[0;34m\u001b[0m\u001b[0m\n\u001b[0m\u001b[1;32m   4251\u001b[0m \u001b[0;34m\u001b[0m\u001b[0m\n\u001b[1;32m   4252\u001b[0m     \u001b[0;31m# ----------------------------------------------------------------------\u001b[0m\u001b[0;34m\u001b[0m\u001b[0;34m\u001b[0m\u001b[0m\n",
      "\u001b[0;32m//anaconda/lib/python2.7/site-packages/pandas/core/frame.pyc\u001b[0m in \u001b[0;36mapply\u001b[0;34m(self, func, axis, broadcast, raw, reduce, args, **kwds)\u001b[0m\n\u001b[1;32m   4059\u001b[0m                     \u001b[0;32mif\u001b[0m \u001b[0mreduce\u001b[0m \u001b[0;32mis\u001b[0m \u001b[0mNone\u001b[0m\u001b[0;34m:\u001b[0m\u001b[0;34m\u001b[0m\u001b[0m\n\u001b[1;32m   4060\u001b[0m                         \u001b[0mreduce\u001b[0m \u001b[0;34m=\u001b[0m \u001b[0mTrue\u001b[0m\u001b[0;34m\u001b[0m\u001b[0m\n\u001b[0;32m-> 4061\u001b[0;31m                     \u001b[0;32mreturn\u001b[0m \u001b[0mself\u001b[0m\u001b[0;34m.\u001b[0m\u001b[0m_apply_standard\u001b[0m\u001b[0;34m(\u001b[0m\u001b[0mf\u001b[0m\u001b[0;34m,\u001b[0m \u001b[0maxis\u001b[0m\u001b[0;34m,\u001b[0m \u001b[0mreduce\u001b[0m\u001b[0;34m=\u001b[0m\u001b[0mreduce\u001b[0m\u001b[0;34m)\u001b[0m\u001b[0;34m\u001b[0m\u001b[0m\n\u001b[0m\u001b[1;32m   4062\u001b[0m             \u001b[0;32melse\u001b[0m\u001b[0;34m:\u001b[0m\u001b[0;34m\u001b[0m\u001b[0m\n\u001b[1;32m   4063\u001b[0m                 \u001b[0;32mreturn\u001b[0m \u001b[0mself\u001b[0m\u001b[0;34m.\u001b[0m\u001b[0m_apply_broadcast\u001b[0m\u001b[0;34m(\u001b[0m\u001b[0mf\u001b[0m\u001b[0;34m,\u001b[0m \u001b[0maxis\u001b[0m\u001b[0;34m)\u001b[0m\u001b[0;34m\u001b[0m\u001b[0m\n",
      "\u001b[0;32m//anaconda/lib/python2.7/site-packages/pandas/core/frame.pyc\u001b[0m in \u001b[0;36m_apply_standard\u001b[0;34m(self, func, axis, ignore_failures, reduce)\u001b[0m\n\u001b[1;32m   4155\u001b[0m             \u001b[0;32mtry\u001b[0m\u001b[0;34m:\u001b[0m\u001b[0;34m\u001b[0m\u001b[0m\n\u001b[1;32m   4156\u001b[0m                 \u001b[0;32mfor\u001b[0m \u001b[0mi\u001b[0m\u001b[0;34m,\u001b[0m \u001b[0mv\u001b[0m \u001b[0;32min\u001b[0m \u001b[0menumerate\u001b[0m\u001b[0;34m(\u001b[0m\u001b[0mseries_gen\u001b[0m\u001b[0;34m)\u001b[0m\u001b[0;34m:\u001b[0m\u001b[0;34m\u001b[0m\u001b[0m\n\u001b[0;32m-> 4157\u001b[0;31m                     \u001b[0mresults\u001b[0m\u001b[0;34m[\u001b[0m\u001b[0mi\u001b[0m\u001b[0;34m]\u001b[0m \u001b[0;34m=\u001b[0m \u001b[0mfunc\u001b[0m\u001b[0;34m(\u001b[0m\u001b[0mv\u001b[0m\u001b[0;34m)\u001b[0m\u001b[0;34m\u001b[0m\u001b[0m\n\u001b[0m\u001b[1;32m   4158\u001b[0m                     \u001b[0mkeys\u001b[0m\u001b[0;34m.\u001b[0m\u001b[0mappend\u001b[0m\u001b[0;34m(\u001b[0m\u001b[0mv\u001b[0m\u001b[0;34m.\u001b[0m\u001b[0mname\u001b[0m\u001b[0;34m)\u001b[0m\u001b[0;34m\u001b[0m\u001b[0m\n\u001b[1;32m   4159\u001b[0m             \u001b[0;32mexcept\u001b[0m \u001b[0mException\u001b[0m \u001b[0;32mas\u001b[0m \u001b[0me\u001b[0m\u001b[0;34m:\u001b[0m\u001b[0;34m\u001b[0m\u001b[0m\n",
      "\u001b[0;32m//anaconda/lib/python2.7/site-packages/pandas/core/frame.pyc\u001b[0m in \u001b[0;36minfer\u001b[0;34m(x)\u001b[0m\n\u001b[1;32m   4246\u001b[0m         \u001b[0;31m# if we have a dtype == 'M8[ns]', provide boxed values\u001b[0m\u001b[0;34m\u001b[0m\u001b[0;34m\u001b[0m\u001b[0m\n\u001b[1;32m   4247\u001b[0m         \u001b[0;32mdef\u001b[0m \u001b[0minfer\u001b[0m\u001b[0;34m(\u001b[0m\u001b[0mx\u001b[0m\u001b[0;34m)\u001b[0m\u001b[0;34m:\u001b[0m\u001b[0;34m\u001b[0m\u001b[0m\n\u001b[0;32m-> 4248\u001b[0;31m             \u001b[0;32mreturn\u001b[0m \u001b[0mlib\u001b[0m\u001b[0;34m.\u001b[0m\u001b[0mmap_infer\u001b[0m\u001b[0;34m(\u001b[0m\u001b[0mx\u001b[0m\u001b[0;34m.\u001b[0m\u001b[0masobject\u001b[0m\u001b[0;34m,\u001b[0m \u001b[0mfunc\u001b[0m\u001b[0;34m)\u001b[0m\u001b[0;34m\u001b[0m\u001b[0m\n\u001b[0m\u001b[1;32m   4249\u001b[0m \u001b[0;34m\u001b[0m\u001b[0m\n\u001b[1;32m   4250\u001b[0m         \u001b[0;32mreturn\u001b[0m \u001b[0mself\u001b[0m\u001b[0;34m.\u001b[0m\u001b[0mapply\u001b[0m\u001b[0;34m(\u001b[0m\u001b[0minfer\u001b[0m\u001b[0;34m)\u001b[0m\u001b[0;34m\u001b[0m\u001b[0m\n",
      "\u001b[0;32mpandas/src/inference.pyx\u001b[0m in \u001b[0;36mpandas.lib.map_infer (pandas/lib.c:62658)\u001b[0;34m()\u001b[0m\n",
      "\u001b[0;32m<ipython-input-6-c4ac4c79ea31>\u001b[0m in \u001b[0;36mconv_money\u001b[0;34m(x)\u001b[0m\n\u001b[1;32m      2\u001b[0m \u001b[0;34m\u001b[0m\u001b[0m\n\u001b[1;32m      3\u001b[0m \u001b[0;32mdef\u001b[0m \u001b[0mconv_money\u001b[0m\u001b[0;34m(\u001b[0m\u001b[0mx\u001b[0m\u001b[0;34m)\u001b[0m\u001b[0;34m:\u001b[0m\u001b[0;34m\u001b[0m\u001b[0m\n\u001b[0;32m----> 4\u001b[0;31m     \u001b[0mx\u001b[0m \u001b[0;34m=\u001b[0m \u001b[0mx\u001b[0m\u001b[0;34m.\u001b[0m\u001b[0msplit\u001b[0m\u001b[0;34m(\u001b[0m\u001b[0;34m'.'\u001b[0m\u001b[0;34m)\u001b[0m\u001b[0;34m\u001b[0m\u001b[0m\n\u001b[0m\u001b[1;32m      5\u001b[0m     \u001b[0;32mreturn\u001b[0m \u001b[0;34m(\u001b[0m\u001b[0mfloat\u001b[0m\u001b[0;34m(\u001b[0m\u001b[0mx\u001b[0m\u001b[0;34m[\u001b[0m\u001b[0;36m0\u001b[0m\u001b[0;34m]\u001b[0m\u001b[0;34m[\u001b[0m\u001b[0;36m1\u001b[0m\u001b[0;34m:\u001b[0m\u001b[0;34m]\u001b[0m\u001b[0;34m)\u001b[0m \u001b[0;34m+\u001b[0m \u001b[0;34m(\u001b[0m\u001b[0mfloat\u001b[0m\u001b[0;34m(\u001b[0m\u001b[0mx\u001b[0m\u001b[0;34m[\u001b[0m\u001b[0;36m1\u001b[0m\u001b[0;34m]\u001b[0m\u001b[0;34m)\u001b[0m \u001b[0;34m/\u001b[0m \u001b[0;36m100\u001b[0m\u001b[0;34m)\u001b[0m\u001b[0;34m)\u001b[0m\u001b[0;34m\u001b[0m\u001b[0m\n",
      "\u001b[0;31mAttributeError\u001b[0m: (\"'float' object has no attribute 'split'\", u'occurred at index State Bottle Cost')"
     ]
    }
   ],
   "source": [
    "# Converting columns with money value to float\n",
    "\n",
    "df[['State Bottle Cost', 'State Bottle Retail', \"Sale (Dollars)\"]] = \\\n",
    "df[['State Bottle Cost', 'State Bottle Retail', \"Sale (Dollars)\"]].applymap(conv_money)"
   ]
  },
  {
   "cell_type": "code",
   "execution_count": null,
   "metadata": {
    "collapsed": false
   },
   "outputs": [],
   "source": [
    "df['Item Description'] = df['Item Description'].apply(lambda x: x.strip())"
   ]
  },
  {
   "cell_type": "code",
   "execution_count": null,
   "metadata": {
    "collapsed": false
   },
   "outputs": [],
   "source": [
    "df.info()"
   ]
  },
  {
   "cell_type": "markdown",
   "metadata": {},
   "source": [
    "## Cleaning Zipcodes"
   ]
  },
  {
   "cell_type": "code",
   "execution_count": null,
   "metadata": {
    "collapsed": false
   },
   "outputs": [],
   "source": [
    "## Checking to see if all zipcodes have length of 5\n",
    "\n",
    "df[df['Zip Code'].apply(lambda x: len(x) != 5)]"
   ]
  },
  {
   "cell_type": "code",
   "execution_count": null,
   "metadata": {
    "collapsed": false
   },
   "outputs": [],
   "source": [
    "# Since all has 5, change all to int types\n",
    "\n",
    "df[df['Zip Code'].apply(lambda x: int(x))]"
   ]
  },
  {
   "cell_type": "code",
   "execution_count": null,
   "metadata": {
    "collapsed": false
   },
   "outputs": [],
   "source": [
    "# Even all is length 5, 1 entry was '712-2'\n",
    "# Googled this, turned out to be area code, change to 51529\n",
    "\n",
    "df[df['Zip Code'].apply(lambda x: x == '712-2')]"
   ]
  },
  {
   "cell_type": "code",
   "execution_count": null,
   "metadata": {
    "collapsed": false
   },
   "outputs": [],
   "source": [
    "# Changed erroneous zipcode\n",
    "\n",
    "df.loc[df['Zip Code'] == '712-2', 'Zip Code'] = '51529'\n"
   ]
  },
  {
   "cell_type": "code",
   "execution_count": null,
   "metadata": {
    "collapsed": false
   },
   "outputs": [],
   "source": [
    "# Changed zipcodes to int type\n",
    "\n",
    "df['Zip Code'] = df['Zip Code'].apply(lambda x: int(x))"
   ]
  },
  {
   "cell_type": "markdown",
   "metadata": {},
   "source": [
    "## Cleaning City Values"
   ]
  },
  {
   "cell_type": "code",
   "execution_count": null,
   "metadata": {
    "collapsed": false
   },
   "outputs": [],
   "source": [
    "list(df['City'].unique())"
   ]
  },
  {
   "cell_type": "code",
   "execution_count": null,
   "metadata": {
    "collapsed": true
   },
   "outputs": [],
   "source": [
    "# There are some 'City' entries which are in lower case while the majority is in Upper Case. \n",
    "# To prevent double counting, all \"City\" entries are changed to upper case\n",
    "\n",
    "df['City'] = df['City'].apply(lambda x: x.upper())"
   ]
  },
  {
   "cell_type": "markdown",
   "metadata": {},
   "source": [
    "## Cleaning NaN County entries"
   ]
  },
  {
   "cell_type": "code",
   "execution_count": null,
   "metadata": {
    "collapsed": false
   },
   "outputs": [],
   "source": [
    "# Create a new dataframe for rows with NaNs in any cells\n",
    "\n",
    "df_nan = df[pd.isnull(df).any(axis = 1)]"
   ]
  },
  {
   "cell_type": "code",
   "execution_count": null,
   "metadata": {
    "collapsed": false
   },
   "outputs": [],
   "source": [
    "df_nan.head()"
   ]
  },
  {
   "cell_type": "code",
   "execution_count": null,
   "metadata": {
    "collapsed": false
   },
   "outputs": [],
   "source": [
    "# Printing columns that contain \"NaN\" and count the number of NaN entries per column\n",
    "\n",
    "tbc_list = []\n",
    "\n",
    "for col in df.columns:\n",
    "    x = sum(pd.isnull(df[col]))\n",
    "    if x != 0:\n",
    "        tbc_list.append(col)\n",
    "        print col, x"
   ]
  },
  {
   "cell_type": "code",
   "execution_count": null,
   "metadata": {
    "collapsed": false
   },
   "outputs": [],
   "source": [
    "# Some counties and county numbers are not filled.\n",
    "# Since \"City\" column does not contain NaN and Cities are a subset of counties,\n",
    "# we try to see if there are similar cities with non-empty county values which we can then copy to the NaN county cells\n",
    "\n",
    "\n",
    "# Create a set of Cities with NaN for county or county Number\n",
    "\n",
    "city_nan_list = list(df_nan['City'].unique())\n",
    "\n",
    "city_nan_list"
   ]
  },
  {
   "cell_type": "code",
   "execution_count": null,
   "metadata": {
    "collapsed": false
   },
   "outputs": [],
   "source": [
    "# Creating a dictionary with \"City\" as key and collecting all possible corresponding \"County\" and \"County Name\"\n",
    "# as values of the dictionary\n",
    "\n",
    "nan_cty_dict = {}\n",
    "\n",
    "for j in city_nan_list:\n",
    "    c_set = {x for x in df[df['City']==j]['County'] if x > 0} # x > 0 to skip NaN values\n",
    "    num_set = {x for x in df[df['City']==j]['County Number'] if x > 0}\n",
    "    nan_cty_dict[j] = [list(c_set), list(num_set)]\n",
    "\n",
    "nan_cty_dict"
   ]
  },
  {
   "cell_type": "code",
   "execution_count": null,
   "metadata": {
    "collapsed": false
   },
   "outputs": [],
   "source": [
    "## Replacing NaN county cells using corresponding city value as key\n",
    "\n",
    "for cty in nan_cty_dict:\n",
    "    try:\n",
    "        df.loc[df['City'] == cty, 'County'] = nan_cty_dict[cty][0][0]\n",
    "        df.loc[df['City'] == cty, \"County Number\"] = nan_cty_dict[cty][1][0]\n",
    "    except:\n",
    "        pass"
   ]
  },
  {
   "cell_type": "code",
   "execution_count": null,
   "metadata": {
    "collapsed": false
   },
   "outputs": [],
   "source": [
    "# Recreate a new df to check remaining NaN row\n",
    "df_nan = df[pd.isnull(df[['County','County Number']]).any(axis = 1)]"
   ]
  },
  {
   "cell_type": "code",
   "execution_count": null,
   "metadata": {
    "collapsed": false
   },
   "outputs": [],
   "source": [
    "# Collect cities with NaN values\n",
    "city_nan_list = list(df_nan['City'].unique())\n",
    "\n",
    "city_nan_list"
   ]
  },
  {
   "cell_type": "code",
   "execution_count": null,
   "metadata": {
    "collapsed": false
   },
   "outputs": [],
   "source": [
    "nan_cty_dict = {}\n",
    "\n",
    "for j in city_nan_list:\n",
    "    c_set = {x for x in df[df['City']==j]['County']} # x > 0 to skip NaN values\n",
    "    num_set = {x for x in df[df['City']==j]['County Number']}\n",
    "    nan_cty_dict[j] = [list(c_set), list(num_set)]\n",
    "\n",
    "nan_cty_dict"
   ]
  },
  {
   "cell_type": "code",
   "execution_count": null,
   "metadata": {
    "collapsed": false
   },
   "outputs": [],
   "source": [
    "# Updating counties by hand\n",
    "\n",
    "df.loc[df['City'] == 'TABOR', 'County'] = 'Fremont'\n",
    "df.loc[df['City'] == 'RUNNELLS', 'County'] = 'Polk'\n",
    "df.loc[df['City'] == 'SEYMOUR', 'County'] = 'Wayne'"
   ]
  },
  {
   "cell_type": "code",
   "execution_count": null,
   "metadata": {
    "collapsed": true
   },
   "outputs": [],
   "source": [
    "# Recreate a new df to check remaining NaN row\n",
    "df_nan = df[pd.isnull(df['County'])]"
   ]
  },
  {
   "cell_type": "code",
   "execution_count": null,
   "metadata": {
    "collapsed": false
   },
   "outputs": [],
   "source": [
    "len(df_nan)"
   ]
  },
  {
   "cell_type": "markdown",
   "metadata": {},
   "source": [
    "#### Comments:\n",
    "\n",
    "Remaining 12 rows with empty counties were filled manually. Without a reference of how county numbers were developed, we left the empty county numbers empty. Analyses based on counties will be performed on 'County' instead of 'County Number'."
   ]
  },
  {
   "cell_type": "markdown",
   "metadata": {},
   "source": [
    "# ---------------------------------------------------------------"
   ]
  },
  {
   "cell_type": "markdown",
   "metadata": {},
   "source": [
    "## Cleaning Empty Category Name using Item Decription"
   ]
  },
  {
   "cell_type": "code",
   "execution_count": null,
   "metadata": {
    "collapsed": false
   },
   "outputs": [],
   "source": [
    "df_nan = df[pd.isnull(df['Category Name'])]\n",
    "print len(df_nan)\n",
    "df_nan"
   ]
  },
  {
   "cell_type": "code",
   "execution_count": null,
   "metadata": {
    "collapsed": false
   },
   "outputs": [],
   "source": [
    "# Create a list of \"Item Description\" with NaN in rows\n",
    "item_nan_list = list(df_nan['Item Description'].unique())\n",
    "\n",
    "item_nan_list"
   ]
  },
  {
   "cell_type": "code",
   "execution_count": null,
   "metadata": {
    "collapsed": false
   },
   "outputs": [],
   "source": [
    "item_dict = {}\n",
    "\n",
    "for j in item_nan_list:\n",
    "    c_set = {x for x in df[df['Item Description']==j]['Category Name'] if x > 0}\n",
    "    item_dict[j] = list(c_set)\n",
    "\n",
    "item_dict"
   ]
  },
  {
   "cell_type": "code",
   "execution_count": null,
   "metadata": {
    "collapsed": false
   },
   "outputs": [],
   "source": [
    "for drink in item_dict:\n",
    "    try:\n",
    "        df.loc[df['Item Description'] == drink, 'Category Name'] = item_dict[drink][0]\n",
    "    except:\n",
    "        pass"
   ]
  },
  {
   "cell_type": "code",
   "execution_count": null,
   "metadata": {
    "collapsed": false
   },
   "outputs": [],
   "source": [
    "df_nan = df[pd.isnull(df['Category Name'])]\n",
    "print len(df_nan)\n",
    "df_nan"
   ]
  },
  {
   "cell_type": "code",
   "execution_count": null,
   "metadata": {
    "collapsed": false
   },
   "outputs": [],
   "source": [
    "df_nan['Item Description'].unique()"
   ]
  },
  {
   "cell_type": "code",
   "execution_count": null,
   "metadata": {
    "collapsed": true
   },
   "outputs": [],
   "source": [
    "package = ['Jack Daniels TN Honey & Jack Daniels TN Fire 750mls w/2Gls', 'Bombay Sapphire w/Glass',\\\n",
    "           'Evan Williams Egg Nog', 'Pinnacle Candy Cane Trial Pack', 'Wild Turkey American Honey Shot Tap',\\\n",
    "           'Knob Creek w/ Crystal Decanter']\n",
    "\n",
    "for i in package:\n",
    "    df.loc[df['Item Description'] == i,'Category Name'] = 'DECANTERS & SPECIALTY PACKAGES'"
   ]
  },
  {
   "cell_type": "code",
   "execution_count": null,
   "metadata": {
    "collapsed": true
   },
   "outputs": [],
   "source": [
    "df.loc[df['Item Description'] == 'Woodford Reserve MC 1838 White Corn',\\\n",
    "       'Category Name'] = 'CORN WHISKIES'"
   ]
  },
  {
   "cell_type": "code",
   "execution_count": null,
   "metadata": {
    "collapsed": true
   },
   "outputs": [],
   "source": [
    "lique = ['Rothman & Winter Orchard Peach', 'Giffard Creme de Pamplemousse Rose Pink Grapefruit Liqueur',\\\n",
    "        'Pearl Caramel']\n",
    "\n",
    "for i in lique:\n",
    "    df.loc[df['Item Description'] == i,'Category Name'] ='MISC. IMPORTED CORDIALS & LIQUEURS'"
   ]
  },
  {
   "cell_type": "code",
   "execution_count": null,
   "metadata": {
    "collapsed": true
   },
   "outputs": [],
   "source": [
    "df.loc[df['Item Description'] == 'Glenfiddich 1963 Replica HA',\\\n",
    "       'Category Name'] ='SINGLE MALT SCOTCH'"
   ]
  },
  {
   "cell_type": "code",
   "execution_count": null,
   "metadata": {
    "collapsed": true
   },
   "outputs": [],
   "source": [
    "df.loc[df['Item Description'] == 'Parkers Heritage Collection Malt Whiskey HA',\\\n",
    "       'Category Name'] = \"STRAIGHT BOURBON WHISKIES\""
   ]
  },
  {
   "cell_type": "code",
   "execution_count": null,
   "metadata": {
    "collapsed": false
   },
   "outputs": [],
   "source": [
    "vod = ['High Stick Vodka', 'Ciroc Ten HA']\n",
    "\n",
    "for i in vod:\n",
    "    df.loc[df['Item Description'] == i,'Category Name'] = 'IMPORTED VODKA'\n",
    "\n",
    "df.loc[df['Item Description'] == 'Absolut w/Ginger Beer','Category Name'] = 'VODKA FLAVORED'"
   ]
  },
  {
   "cell_type": "markdown",
   "metadata": {},
   "source": [
    "#### Comments:\n",
    "\n",
    "There are still cells in 'Category' with NaN values, however, since we will only be using \"Category Name\" for analyses, NaNs in 'Category' were not cleaned."
   ]
  },
  {
   "cell_type": "code",
   "execution_count": null,
   "metadata": {
    "collapsed": false
   },
   "outputs": [],
   "source": [
    "df.head()"
   ]
  },
  {
   "cell_type": "code",
   "execution_count": null,
   "metadata": {
    "collapsed": false
   },
   "outputs": [],
   "source": [
    "df.to_csv(\"Iowa_Liquor_sales_sample_10pct.csv\")"
   ]
  },
  {
   "cell_type": "markdown",
   "metadata": {},
   "source": [
    "## Groupby County"
   ]
  },
  {
   "cell_type": "code",
   "execution_count": null,
   "metadata": {
    "collapsed": false
   },
   "outputs": [],
   "source": [
    "pd.pivot_table(df, index = ['County', 'Store Number'], values = ['Sale (Dollars)'], \\\n",
    "               aggfunc = [np.mean, max, min, np.sum]).\\\n",
    "                sort_values([('sum', \"Sale (Dollars)\")], ascending = False).head(10)"
   ]
  },
  {
   "cell_type": "code",
   "execution_count": null,
   "metadata": {
    "collapsed": false
   },
   "outputs": [],
   "source": [
    "pd.pivot_table(df, index = ['County', 'Store Number'], values = ['Sale (Dollars)'], \\\n",
    "               aggfunc = [np.mean, max, min, np.sum]).\\\n",
    "                sort_values([('mean', \"Sale (Dollars)\")], ascending = False).head(10)"
   ]
  },
  {
   "cell_type": "markdown",
   "metadata": {},
   "source": [
    "## Groupby Zipcode"
   ]
  },
  {
   "cell_type": "code",
   "execution_count": null,
   "metadata": {
    "collapsed": false
   },
   "outputs": [],
   "source": [
    "pd.pivot_table(df, index = ['Zip Code', 'Store Number'], values = ['Sale (Dollars)'], \\\n",
    "               aggfunc = [np.mean, max, min, np.sum]).\\\n",
    "                sort_values([('sum', 'Sale (Dollars)')], ascending = False).head(10)"
   ]
  },
  {
   "cell_type": "code",
   "execution_count": null,
   "metadata": {
    "collapsed": false
   },
   "outputs": [],
   "source": [
    "pd.pivot_table(df, index = ['Zip Code'], values = ['Sale (Dollars)'], \\\n",
    "               aggfunc = [np.mean, max, min, np.sum]).\\\n",
    "                sort_values([('mean', 'Sale (Dollars)')], ascending = False).head(10)"
   ]
  },
  {
   "cell_type": "markdown",
   "metadata": {},
   "source": [
    "## Groupby City"
   ]
  },
  {
   "cell_type": "code",
   "execution_count": null,
   "metadata": {
    "collapsed": false
   },
   "outputs": [],
   "source": [
    "pd.pivot_table(df, index = ['City', 'Store Number'], values = ['Sale (Dollars)'],\\\n",
    "               aggfunc = [np.mean, np.sum, np.std]).sort_values([('mean', 'Sale (Dollars)')], \\\n",
    "                                                                ascending = False).head(10)"
   ]
  },
  {
   "cell_type": "code",
   "execution_count": null,
   "metadata": {
    "collapsed": false
   },
   "outputs": [],
   "source": [
    "pd.pivot_table(df, index = ['City', 'Store Number'], values = ['Sale (Dollars)'],\\\n",
    "               aggfunc = [np.mean, np.sum, np.std]).sort_values([('sum', 'Sale (Dollars)')], \\\n",
    "                                                                ascending = False).head(10)"
   ]
  },
  {
   "cell_type": "markdown",
   "metadata": {},
   "source": [
    "# Explore the data\n",
    "\n",
    "Perform some exploratory statistical analysis and make some plots, such as histograms of transaction totals, bottles sold, etc."
   ]
  },
  {
   "cell_type": "code",
   "execution_count": null,
   "metadata": {
    "collapsed": true
   },
   "outputs": [],
   "source": [
    "import seaborn as sns\n",
    "import matplotlib.pyplot as plt"
   ]
  },
  {
   "cell_type": "markdown",
   "metadata": {},
   "source": [
    "## Record your findings\n",
    "\n",
    "Be sure to write out anything observations from your exploratory analysis."
   ]
  },
  {
   "cell_type": "markdown",
   "metadata": {},
   "source": [
    "# Mine the data\n",
    "Now you are ready to compute the variables you will use for your regression from the data. For example, you may want to\n",
    "compute total sales per store from Jan to March of 2015, mean price per bottle, etc. Refer to the readme for more ideas appropriate to your scenario.\n",
    "\n",
    "Pandas is your friend for this task. Take a look at the operations [here](http://pandas.pydata.org/pandas-docs/stable/groupby.html) for ideas on how to make the best use of pandas and feel free to search for blog and Stack Overflow posts to help you group data by certain variables and compute sums, means, etc. You may find it useful to create a new data frame to house this summary data."
   ]
  },
  {
   "cell_type": "markdown",
   "metadata": {},
   "source": [
    "# Refine the data\n",
    "Look for any statistical relationships, correlations, or other relevant properties of the dataset."
   ]
  },
  {
   "cell_type": "code",
   "execution_count": null,
   "metadata": {
    "collapsed": true
   },
   "outputs": [],
   "source": []
  },
  {
   "cell_type": "markdown",
   "metadata": {},
   "source": [
    "# Build your models\n",
    "\n",
    "Using scikit-learn or statsmodels, build the necessary models for your scenario. Evaluate model fit."
   ]
  },
  {
   "cell_type": "code",
   "execution_count": null,
   "metadata": {
    "collapsed": true
   },
   "outputs": [],
   "source": [
    "from sklearn import linear_model\n"
   ]
  },
  {
   "cell_type": "markdown",
   "metadata": {},
   "source": [
    "## Plot your results\n",
    "\n",
    "Again make sure that you record any valuable information. For example, in the tax scenario, did you find the sales from the first three months of the year to be a good predictor of the total sales for the year? Plot the predictions versus the true values and discuss the successes and limitations of your models"
   ]
  },
  {
   "cell_type": "code",
   "execution_count": null,
   "metadata": {
    "collapsed": true
   },
   "outputs": [],
   "source": []
  },
  {
   "cell_type": "markdown",
   "metadata": {},
   "source": [
    "# Present the Results\n",
    "\n",
    "Present your conclusions and results. If you have more than one interesting model feel free to include more than one along with a discussion. Use your work in this notebook to prepare your write-up."
   ]
  },
  {
   "cell_type": "code",
   "execution_count": null,
   "metadata": {
    "collapsed": true
   },
   "outputs": [],
   "source": []
  }
 ],
 "metadata": {
  "anaconda-cloud": {},
  "kernelspec": {
   "display_name": "Python [conda root]",
   "language": "python",
   "name": "conda-root-py"
  },
  "language_info": {
   "codemirror_mode": {
    "name": "ipython",
    "version": 2
   },
   "file_extension": ".py",
   "mimetype": "text/x-python",
   "name": "python",
   "nbconvert_exporter": "python",
   "pygments_lexer": "ipython2",
   "version": "2.7.12"
  }
 },
 "nbformat": 4,
 "nbformat_minor": 0
}
