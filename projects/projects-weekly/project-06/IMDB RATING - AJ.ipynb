{
 "cells": [
  {
   "cell_type": "code",
   "execution_count": 1,
   "metadata": {
    "collapsed": true
   },
   "outputs": [],
   "source": [
    "# Imports at the top\n",
    "import json\n",
    "import urllib\n",
    "import pandas as pd\n",
    "import numpy as np\n",
    "import requests\n",
    "import json\n",
    "import re\n",
    "import matplotlib.pyplot as plt\n",
    "%matplotlib inline"
   ]
  },
  {
   "cell_type": "markdown",
   "metadata": {},
   "source": [
    "# Predicting IMDB Movie Ratings "
   ]
  },
  {
   "cell_type": "markdown",
   "metadata": {},
   "source": [
    "Examine what factors lead to certain ratings for movies. Given that Netflix does not currently store this type of data, your boss has suggested that you collect ratings and reviews data from IMDB. Netflix is no stranger to machine learning, however:\n",
    "\n",
    "- Netflix uses random forests and decision trees to predict what types of movies an individual user may like.\n",
    "- Using unsupervised learning techniques, they are able to continually update suggestions, listings, and other features of its user interface.\n",
    "- Netflix, however, hasn't focused on collecting data on the top movies of all time, and would like to add some of them to their offerings based on popularity and other factors.\n",
    "\n",
    "**Point:** Your boss isn't sure where to start on this project, so your task is to collect the data, build a random forest, and examine its feature importances to understand what factors contribute to ratings."
   ]
  },
  {
   "cell_type": "code",
   "execution_count": null,
   "metadata": {
    "collapsed": true
   },
   "outputs": [],
   "source": []
  },
  {
   "cell_type": "markdown",
   "metadata": {},
   "source": [
    "Acquire data from IMDB, and use whatever metrics you can collect to predict whether a movie is highly rated.\n",
    "\n",
    "When you've finished your analysis, Netflix would like a report detailing your findings, with recommendations as to next steps.\n",
    "\n",
    "Here are some questions to keep in mind:\n",
    "\n",
    "- What factors are the most direct predictors of rating?\n",
    "- You can use rating as your target variable. But it's up to you whether to treat it as continuous, binary, or multiclass.\n",
    "\n",
    "**Goal**: Completed Jupyter notebook that includes modeling using a random forest and an blog post explaining your findings."
   ]
  },
  {
   "cell_type": "markdown",
   "metadata": {},
   "source": [
    "# Scraping and Importing IMDB Data"
   ]
  },
  {
   "cell_type": "code",
   "execution_count": 2,
   "metadata": {
    "collapsed": true
   },
   "outputs": [],
   "source": [
    "# function to get Top 250 movies on IMDB \n",
    "# Scraping \n",
    "def get_top_250():\n",
    "    response = requests.get('http://www.imdb.com/chart/top')\n",
    "    html = response.text\n",
    "    entries = re.findall(\"<a href.*?/title/(.*?)/\", html)\n",
    "    return list(set(entries))"
   ]
  },
  {
   "cell_type": "code",
   "execution_count": 3,
   "metadata": {
    "collapsed": false
   },
   "outputs": [],
   "source": [
    "# set entries equal to top 250 from scraped files\n",
    "entries = get_top_250()"
   ]
  },
  {
   "cell_type": "code",
   "execution_count": 4,
   "metadata": {
    "collapsed": true
   },
   "outputs": [],
   "source": [
    "# get details and entries for IMDB movies, API\n",
    "\n",
    "def get_entry(entry):\n",
    "    res = requests.get('http://www.omdbapi.com/?i='+entry)\n",
    "    if res.status_code != 200:\n",
    "        print entry, res.status_code\n",
    "    else:\n",
    "        print '.',\n",
    "    try:\n",
    "        j = json.loads(res.text)\n",
    "    except ValueError:\n",
    "        j = None\n",
    "    return j"
   ]
  },
  {
   "cell_type": "code",
   "execution_count": 5,
   "metadata": {
    "collapsed": false
   },
   "outputs": [
    {
     "name": "stdout",
     "output_type": "stream",
     "text": [
      ". . . . . . . . . . . . . . . . . . . . . . . . . . . . . . . . . . . . . . . . . . . . . . . . . . . . . . . . . . . . . . . . . . . . . . . . . . . . . . . . . . . . . . . . . . . . . . . . . . . . . . . . . . . . . . . . . . . . . . . . . . . . . . . . . . . . . . . . . . . . . . . . . . . . . . . . . . . . . . . . . . . . . . . . . . . . . . . . . . . . . . . . . . . . . . . . . . . . . . . . . . . . . . . . . . . . . . . . . . . . . . . . . . . . . . . . . . . . . . . . . . . . . . . . . .\n"
     ]
    }
   ],
   "source": [
    "entries_dict_list = [get_entry(e) for e in entries]"
   ]
  },
  {
   "cell_type": "code",
   "execution_count": 6,
   "metadata": {
    "collapsed": true
   },
   "outputs": [],
   "source": [
    "# convert movie entires to dataframe\n",
    "df = pd.DataFrame(entries_dict_list)"
   ]
  },
  {
   "cell_type": "raw",
   "metadata": {},
   "source": [
    "# Get gross revenue for movies using API\n",
    "\n",
    "def get_gross(entry):\n",
    "    response = requests.get('http://www.imdb.com/title/'+entry)\n",
    "    html = response.text\n",
    "    try:\n",
    "        gross_list = re.findall(\"Gross:</h4>[ ]*\\$([^ ]*)\", html)\n",
    "        gross = int(gross_list[0].replace(',', ''))\n",
    "        print '.',\n",
    "        return gross\n",
    "    except Exception as ex:\n",
    "        print\n",
    "        print ex, entry, response.status_code\n",
    "        return None"
   ]
  },
  {
   "cell_type": "raw",
   "metadata": {},
   "source": [
    "grosses = [(e, get_gross(e)) for e in entries]"
   ]
  },
  {
   "cell_type": "raw",
   "metadata": {},
   "source": [
    "# Convert gross revenue (ID) to dataframe\n",
    "\n",
    "df1 = pd.DataFrame(grosses, columns=['imdbID', 'Gross'])\n",
    "df1.head(3)"
   ]
  },
  {
   "cell_type": "raw",
   "metadata": {},
   "source": [
    "df1.to_csv('imdb_grossrev.csv')"
   ]
  },
  {
   "cell_type": "code",
   "execution_count": 7,
   "metadata": {
    "collapsed": false
   },
   "outputs": [],
   "source": [
    "df1 = pd.read_csv('imdb_grossrev.csv', index_col=0)"
   ]
  },
  {
   "cell_type": "markdown",
   "metadata": {},
   "source": [
    "# Data Cleaning & Munging"
   ]
  },
  {
   "cell_type": "code",
   "execution_count": 8,
   "metadata": {
    "collapsed": false,
    "scrolled": true
   },
   "outputs": [
    {
     "data": {
      "text/html": [
       "<div>\n",
       "<table border=\"1\" class=\"dataframe\">\n",
       "  <thead>\n",
       "    <tr style=\"text-align: right;\">\n",
       "      <th></th>\n",
       "      <th>Actors</th>\n",
       "      <th>Awards</th>\n",
       "      <th>Country</th>\n",
       "      <th>Director</th>\n",
       "      <th>Genre</th>\n",
       "      <th>Language</th>\n",
       "      <th>Metascore</th>\n",
       "      <th>Plot</th>\n",
       "      <th>Poster</th>\n",
       "      <th>Rated</th>\n",
       "      <th>Released</th>\n",
       "      <th>Response</th>\n",
       "      <th>Runtime</th>\n",
       "      <th>Title</th>\n",
       "      <th>Type</th>\n",
       "      <th>Writer</th>\n",
       "      <th>Year</th>\n",
       "      <th>imdbID</th>\n",
       "      <th>imdbRating</th>\n",
       "      <th>imdbVotes</th>\n",
       "    </tr>\n",
       "  </thead>\n",
       "  <tbody>\n",
       "    <tr>\n",
       "      <th>0</th>\n",
       "      <td>Miles Teller, J.K. Simmons, Paul Reiser, Melis...</td>\n",
       "      <td>Won 3 Oscars. Another 87 wins &amp; 131 nominations.</td>\n",
       "      <td>USA</td>\n",
       "      <td>Damien Chazelle</td>\n",
       "      <td>Drama, Music</td>\n",
       "      <td>English</td>\n",
       "      <td>88</td>\n",
       "      <td>A promising young drummer enrolls at a cut-thr...</td>\n",
       "      <td>https://images-na.ssl-images-amazon.com/images...</td>\n",
       "      <td>R</td>\n",
       "      <td>15 Oct 2014</td>\n",
       "      <td>True</td>\n",
       "      <td>107 min</td>\n",
       "      <td>Whiplash</td>\n",
       "      <td>movie</td>\n",
       "      <td>Damien Chazelle</td>\n",
       "      <td>2014</td>\n",
       "      <td>tt2582802</td>\n",
       "      <td>8.5</td>\n",
       "      <td>413,720</td>\n",
       "    </tr>\n",
       "    <tr>\n",
       "      <th>1</th>\n",
       "      <td>Toshirô Mifune, Takashi Shimura, Keiko Tsushim...</td>\n",
       "      <td>Nominated for 2 Oscars. Another 5 wins &amp; 6 nom...</td>\n",
       "      <td>Japan</td>\n",
       "      <td>Akira Kurosawa</td>\n",
       "      <td>Action, Adventure, Drama</td>\n",
       "      <td>Japanese</td>\n",
       "      <td>98</td>\n",
       "      <td>A poor village under attack by bandits recruit...</td>\n",
       "      <td>https://images-na.ssl-images-amazon.com/images...</td>\n",
       "      <td>UNRATED</td>\n",
       "      <td>19 Nov 1956</td>\n",
       "      <td>True</td>\n",
       "      <td>207 min</td>\n",
       "      <td>Seven Samurai</td>\n",
       "      <td>movie</td>\n",
       "      <td>Akira Kurosawa (screenplay), Shinobu Hashimoto...</td>\n",
       "      <td>1954</td>\n",
       "      <td>tt0047478</td>\n",
       "      <td>8.7</td>\n",
       "      <td>232,249</td>\n",
       "    </tr>\n",
       "    <tr>\n",
       "      <th>2</th>\n",
       "      <td>Harrison Ford, Karen Allen, Paul Freeman, Rona...</td>\n",
       "      <td>Won 4 Oscars. Another 30 wins &amp; 23 nominations.</td>\n",
       "      <td>USA</td>\n",
       "      <td>Steven Spielberg</td>\n",
       "      <td>Action, Adventure</td>\n",
       "      <td>English, German, Hebrew, Spanish, Arabic, Nepali</td>\n",
       "      <td>85</td>\n",
       "      <td>Archaeologist and adventurer Indiana Jones is ...</td>\n",
       "      <td>https://images-na.ssl-images-amazon.com/images...</td>\n",
       "      <td>PG</td>\n",
       "      <td>12 Jun 1981</td>\n",
       "      <td>True</td>\n",
       "      <td>115 min</td>\n",
       "      <td>Raiders of the Lost Ark</td>\n",
       "      <td>movie</td>\n",
       "      <td>Lawrence Kasdan (screenplay), George Lucas (st...</td>\n",
       "      <td>1981</td>\n",
       "      <td>tt0082971</td>\n",
       "      <td>8.5</td>\n",
       "      <td>671,034</td>\n",
       "    </tr>\n",
       "    <tr>\n",
       "      <th>3</th>\n",
       "      <td>William Holden, Alec Guinness, Jack Hawkins, S...</td>\n",
       "      <td>Won 7 Oscars. Another 23 wins &amp; 7 nominations.</td>\n",
       "      <td>UK, USA</td>\n",
       "      <td>David Lean</td>\n",
       "      <td>Adventure, Drama, War</td>\n",
       "      <td>English, Japanese, Thai</td>\n",
       "      <td>N/A</td>\n",
       "      <td>After settling his differences with a Japanese...</td>\n",
       "      <td>https://images-na.ssl-images-amazon.com/images...</td>\n",
       "      <td>PG</td>\n",
       "      <td>14 Dec 1957</td>\n",
       "      <td>True</td>\n",
       "      <td>161 min</td>\n",
       "      <td>The Bridge on the River Kwai</td>\n",
       "      <td>movie</td>\n",
       "      <td>Pierre Boulle (novel), Carl Foreman (screenpla...</td>\n",
       "      <td>1957</td>\n",
       "      <td>tt0050212</td>\n",
       "      <td>8.2</td>\n",
       "      <td>151,604</td>\n",
       "    </tr>\n",
       "  </tbody>\n",
       "</table>\n",
       "</div>"
      ],
      "text/plain": [
       "                                              Actors  \\\n",
       "0  Miles Teller, J.K. Simmons, Paul Reiser, Melis...   \n",
       "1  Toshirô Mifune, Takashi Shimura, Keiko Tsushim...   \n",
       "2  Harrison Ford, Karen Allen, Paul Freeman, Rona...   \n",
       "3  William Holden, Alec Guinness, Jack Hawkins, S...   \n",
       "\n",
       "                                              Awards  Country  \\\n",
       "0   Won 3 Oscars. Another 87 wins & 131 nominations.      USA   \n",
       "1  Nominated for 2 Oscars. Another 5 wins & 6 nom...    Japan   \n",
       "2    Won 4 Oscars. Another 30 wins & 23 nominations.      USA   \n",
       "3     Won 7 Oscars. Another 23 wins & 7 nominations.  UK, USA   \n",
       "\n",
       "           Director                     Genre  \\\n",
       "0   Damien Chazelle              Drama, Music   \n",
       "1    Akira Kurosawa  Action, Adventure, Drama   \n",
       "2  Steven Spielberg         Action, Adventure   \n",
       "3        David Lean     Adventure, Drama, War   \n",
       "\n",
       "                                           Language Metascore  \\\n",
       "0                                           English        88   \n",
       "1                                          Japanese        98   \n",
       "2  English, German, Hebrew, Spanish, Arabic, Nepali        85   \n",
       "3                           English, Japanese, Thai       N/A   \n",
       "\n",
       "                                                Plot  \\\n",
       "0  A promising young drummer enrolls at a cut-thr...   \n",
       "1  A poor village under attack by bandits recruit...   \n",
       "2  Archaeologist and adventurer Indiana Jones is ...   \n",
       "3  After settling his differences with a Japanese...   \n",
       "\n",
       "                                              Poster    Rated     Released  \\\n",
       "0  https://images-na.ssl-images-amazon.com/images...        R  15 Oct 2014   \n",
       "1  https://images-na.ssl-images-amazon.com/images...  UNRATED  19 Nov 1956   \n",
       "2  https://images-na.ssl-images-amazon.com/images...       PG  12 Jun 1981   \n",
       "3  https://images-na.ssl-images-amazon.com/images...       PG  14 Dec 1957   \n",
       "\n",
       "  Response  Runtime                         Title   Type  \\\n",
       "0     True  107 min                      Whiplash  movie   \n",
       "1     True  207 min                 Seven Samurai  movie   \n",
       "2     True  115 min       Raiders of the Lost Ark  movie   \n",
       "3     True  161 min  The Bridge on the River Kwai  movie   \n",
       "\n",
       "                                              Writer  Year     imdbID  \\\n",
       "0                                    Damien Chazelle  2014  tt2582802   \n",
       "1  Akira Kurosawa (screenplay), Shinobu Hashimoto...  1954  tt0047478   \n",
       "2  Lawrence Kasdan (screenplay), George Lucas (st...  1981  tt0082971   \n",
       "3  Pierre Boulle (novel), Carl Foreman (screenpla...  1957  tt0050212   \n",
       "\n",
       "  imdbRating imdbVotes  \n",
       "0        8.5   413,720  \n",
       "1        8.7   232,249  \n",
       "2        8.5   671,034  \n",
       "3        8.2   151,604  "
      ]
     },
     "execution_count": 8,
     "metadata": {},
     "output_type": "execute_result"
    }
   ],
   "source": [
    "df.head(4)"
   ]
  },
  {
   "cell_type": "code",
   "execution_count": 9,
   "metadata": {
    "collapsed": false
   },
   "outputs": [
    {
     "name": "stdout",
     "output_type": "stream",
     "text": [
      "<class 'pandas.core.frame.DataFrame'>\n",
      "RangeIndex: 250 entries, 0 to 249\n",
      "Data columns (total 20 columns):\n",
      "Actors        250 non-null object\n",
      "Awards        250 non-null object\n",
      "Country       250 non-null object\n",
      "Director      250 non-null object\n",
      "Genre         250 non-null object\n",
      "Language      250 non-null object\n",
      "Metascore     250 non-null object\n",
      "Plot          250 non-null object\n",
      "Poster        250 non-null object\n",
      "Rated         250 non-null object\n",
      "Released      250 non-null object\n",
      "Response      250 non-null object\n",
      "Runtime       250 non-null object\n",
      "Title         250 non-null object\n",
      "Type          250 non-null object\n",
      "Writer        250 non-null object\n",
      "Year          250 non-null object\n",
      "imdbID        250 non-null object\n",
      "imdbRating    250 non-null object\n",
      "imdbVotes     250 non-null object\n",
      "dtypes: object(20)\n",
      "memory usage: 39.1+ KB\n"
     ]
    }
   ],
   "source": [
    "df.info()"
   ]
  },
  {
   "cell_type": "code",
   "execution_count": 10,
   "metadata": {
    "collapsed": false
   },
   "outputs": [],
   "source": [
    "# Replace N/A with NaN\n",
    "df = df.replace('N/A', np.nan)"
   ]
  },
  {
   "cell_type": "code",
   "execution_count": 11,
   "metadata": {
    "collapsed": false
   },
   "outputs": [],
   "source": [
    "# convert released column to datetime type\n",
    "df['Released'] = pd.to_datetime(df['Released'])"
   ]
  },
  {
   "cell_type": "code",
   "execution_count": 12,
   "metadata": {
    "collapsed": false
   },
   "outputs": [],
   "source": [
    "# strip 'min' from runtime column and convert to integer\n",
    "def intminutes(x):\n",
    "    y = x.replace('min','').strip()\n",
    "    return int(y)\n",
    "\n",
    "df['Runtime'] = df['Runtime'].apply(intminutes)"
   ]
  },
  {
   "cell_type": "code",
   "execution_count": 13,
   "metadata": {
    "collapsed": false
   },
   "outputs": [],
   "source": [
    "# convert year column to integer types\n",
    "df['Year'] = df['Year'].astype(int)"
   ]
  },
  {
   "cell_type": "code",
   "execution_count": 14,
   "metadata": {
    "collapsed": false
   },
   "outputs": [],
   "source": [
    "# convert year column to integer types\n",
    "df['Metascore'] = df['Metascore'].astype(float)"
   ]
  },
  {
   "cell_type": "code",
   "execution_count": 15,
   "metadata": {
    "collapsed": true
   },
   "outputs": [],
   "source": [
    "# strip commas from imdbVotes and convert to integer\n",
    "def intvotes(x):\n",
    "    y = x.replace(',', '').strip()\n",
    "    return int(y)\n",
    "df.imdbVotes = df.imdbVotes.apply(intvotes)"
   ]
  },
  {
   "cell_type": "code",
   "execution_count": 16,
   "metadata": {
    "collapsed": false
   },
   "outputs": [],
   "source": [
    "# combine IMDB dataframe with IMDB Gross Revenue dataframe\n",
    "df = pd.merge(df, df1)"
   ]
  },
  {
   "cell_type": "markdown",
   "metadata": {},
   "source": [
    "## Replace NaN with Values"
   ]
  },
  {
   "cell_type": "code",
   "execution_count": 17,
   "metadata": {
    "collapsed": false
   },
   "outputs": [
    {
     "data": {
      "text/html": [
       "<div>\n",
       "<table border=\"1\" class=\"dataframe\">\n",
       "  <thead>\n",
       "    <tr style=\"text-align: right;\">\n",
       "      <th></th>\n",
       "      <th>Actors</th>\n",
       "      <th>Awards</th>\n",
       "      <th>Country</th>\n",
       "      <th>Director</th>\n",
       "      <th>Genre</th>\n",
       "      <th>Language</th>\n",
       "      <th>Metascore</th>\n",
       "      <th>Plot</th>\n",
       "      <th>Poster</th>\n",
       "      <th>Rated</th>\n",
       "      <th>...</th>\n",
       "      <th>Response</th>\n",
       "      <th>Runtime</th>\n",
       "      <th>Title</th>\n",
       "      <th>Type</th>\n",
       "      <th>Writer</th>\n",
       "      <th>Year</th>\n",
       "      <th>imdbID</th>\n",
       "      <th>imdbRating</th>\n",
       "      <th>imdbVotes</th>\n",
       "      <th>Gross</th>\n",
       "    </tr>\n",
       "  </thead>\n",
       "  <tbody>\n",
       "    <tr>\n",
       "      <th>3</th>\n",
       "      <td>William Holden, Alec Guinness, Jack Hawkins, S...</td>\n",
       "      <td>Won 7 Oscars. Another 23 wins &amp; 7 nominations.</td>\n",
       "      <td>UK, USA</td>\n",
       "      <td>David Lean</td>\n",
       "      <td>Adventure, Drama, War</td>\n",
       "      <td>English, Japanese, Thai</td>\n",
       "      <td>NaN</td>\n",
       "      <td>After settling his differences with a Japanese...</td>\n",
       "      <td>https://images-na.ssl-images-amazon.com/images...</td>\n",
       "      <td>PG</td>\n",
       "      <td>...</td>\n",
       "      <td>True</td>\n",
       "      <td>161</td>\n",
       "      <td>The Bridge on the River Kwai</td>\n",
       "      <td>movie</td>\n",
       "      <td>Pierre Boulle (novel), Carl Foreman (screenpla...</td>\n",
       "      <td>1957</td>\n",
       "      <td>tt0050212</td>\n",
       "      <td>8.2</td>\n",
       "      <td>151604</td>\n",
       "      <td>27200000.0</td>\n",
       "    </tr>\n",
       "    <tr>\n",
       "      <th>7</th>\n",
       "      <td>Yves Montand, Charles Vanel, Folco Lulli, Pete...</td>\n",
       "      <td>Won 1 BAFTA Film Award. Another 5 wins.</td>\n",
       "      <td>France, Italy</td>\n",
       "      <td>Henri-Georges Clouzot</td>\n",
       "      <td>Adventure, Drama, Thriller</td>\n",
       "      <td>French, English, Spanish, German, Italian, Rus...</td>\n",
       "      <td>NaN</td>\n",
       "      <td>In a decrepit South American village, men are ...</td>\n",
       "      <td>https://images-na.ssl-images-amazon.com/images...</td>\n",
       "      <td>NOT RATED</td>\n",
       "      <td>...</td>\n",
       "      <td>True</td>\n",
       "      <td>131</td>\n",
       "      <td>The Wages of Fear</td>\n",
       "      <td>movie</td>\n",
       "      <td>Georges Arnaud (novel), Henri-Georges Clouzot ...</td>\n",
       "      <td>1953</td>\n",
       "      <td>tt0046268</td>\n",
       "      <td>8.2</td>\n",
       "      <td>35833</td>\n",
       "      <td>NaN</td>\n",
       "    </tr>\n",
       "    <tr>\n",
       "      <th>8</th>\n",
       "      <td>Toshirô Mifune, Tatsuya Nakadai, Yôko Tsukasa,...</td>\n",
       "      <td>Nominated for 1 Oscar. Another 4 wins &amp; 1 nomi...</td>\n",
       "      <td>Japan</td>\n",
       "      <td>Akira Kurosawa</td>\n",
       "      <td>Action, Drama, Thriller</td>\n",
       "      <td>Japanese</td>\n",
       "      <td>NaN</td>\n",
       "      <td>A crafty ronin comes to a town divided by two ...</td>\n",
       "      <td>https://images-na.ssl-images-amazon.com/images...</td>\n",
       "      <td>UNRATED</td>\n",
       "      <td>...</td>\n",
       "      <td>True</td>\n",
       "      <td>110</td>\n",
       "      <td>Yojimbo</td>\n",
       "      <td>movie</td>\n",
       "      <td>Akira Kurosawa (story), Akira Kurosawa (screen...</td>\n",
       "      <td>1961</td>\n",
       "      <td>tt0055630</td>\n",
       "      <td>8.3</td>\n",
       "      <td>75317</td>\n",
       "      <td>NaN</td>\n",
       "    </tr>\n",
       "    <tr>\n",
       "      <th>10</th>\n",
       "      <td>Bette Davis, Anne Baxter, George Sanders, Cele...</td>\n",
       "      <td>Won 6 Oscars. Another 16 wins &amp; 17 nominations.</td>\n",
       "      <td>USA</td>\n",
       "      <td>Joseph L. Mankiewicz</td>\n",
       "      <td>Drama</td>\n",
       "      <td>English, French</td>\n",
       "      <td>NaN</td>\n",
       "      <td>An ingenue insinuates herself into the company...</td>\n",
       "      <td>https://images-na.ssl-images-amazon.com/images...</td>\n",
       "      <td>APPROVED</td>\n",
       "      <td>...</td>\n",
       "      <td>True</td>\n",
       "      <td>138</td>\n",
       "      <td>All About Eve</td>\n",
       "      <td>movie</td>\n",
       "      <td>Joseph L. Mankiewicz (written for the screen by)</td>\n",
       "      <td>1950</td>\n",
       "      <td>tt0042192</td>\n",
       "      <td>8.3</td>\n",
       "      <td>84353</td>\n",
       "      <td>10177.0</td>\n",
       "    </tr>\n",
       "    <tr>\n",
       "      <th>14</th>\n",
       "      <td>Steve McQueen, James Garner, Richard Attenboro...</td>\n",
       "      <td>Nominated for 1 Oscar. Another 2 wins &amp; 7 nomi...</td>\n",
       "      <td>USA</td>\n",
       "      <td>John Sturges</td>\n",
       "      <td>Adventure, Drama, History</td>\n",
       "      <td>English, German, French, Russian, Spanish</td>\n",
       "      <td>NaN</td>\n",
       "      <td>Allied P.O.W.s plan for several hundred of the...</td>\n",
       "      <td>https://images-na.ssl-images-amazon.com/images...</td>\n",
       "      <td>APPROVED</td>\n",
       "      <td>...</td>\n",
       "      <td>True</td>\n",
       "      <td>172</td>\n",
       "      <td>The Great Escape</td>\n",
       "      <td>movie</td>\n",
       "      <td>Paul Brickhill (book), James Clavell (screenpl...</td>\n",
       "      <td>1963</td>\n",
       "      <td>tt0057115</td>\n",
       "      <td>8.3</td>\n",
       "      <td>167926</td>\n",
       "      <td>NaN</td>\n",
       "    </tr>\n",
       "  </tbody>\n",
       "</table>\n",
       "<p>5 rows × 21 columns</p>\n",
       "</div>"
      ],
      "text/plain": [
       "                                               Actors  \\\n",
       "3   William Holden, Alec Guinness, Jack Hawkins, S...   \n",
       "7   Yves Montand, Charles Vanel, Folco Lulli, Pete...   \n",
       "8   Toshirô Mifune, Tatsuya Nakadai, Yôko Tsukasa,...   \n",
       "10  Bette Davis, Anne Baxter, George Sanders, Cele...   \n",
       "14  Steve McQueen, James Garner, Richard Attenboro...   \n",
       "\n",
       "                                               Awards        Country  \\\n",
       "3      Won 7 Oscars. Another 23 wins & 7 nominations.        UK, USA   \n",
       "7             Won 1 BAFTA Film Award. Another 5 wins.  France, Italy   \n",
       "8   Nominated for 1 Oscar. Another 4 wins & 1 nomi...          Japan   \n",
       "10    Won 6 Oscars. Another 16 wins & 17 nominations.            USA   \n",
       "14  Nominated for 1 Oscar. Another 2 wins & 7 nomi...            USA   \n",
       "\n",
       "                 Director                       Genre  \\\n",
       "3              David Lean       Adventure, Drama, War   \n",
       "7   Henri-Georges Clouzot  Adventure, Drama, Thriller   \n",
       "8          Akira Kurosawa     Action, Drama, Thriller   \n",
       "10   Joseph L. Mankiewicz                       Drama   \n",
       "14           John Sturges   Adventure, Drama, History   \n",
       "\n",
       "                                             Language  Metascore  \\\n",
       "3                             English, Japanese, Thai        NaN   \n",
       "7   French, English, Spanish, German, Italian, Rus...        NaN   \n",
       "8                                            Japanese        NaN   \n",
       "10                                    English, French        NaN   \n",
       "14          English, German, French, Russian, Spanish        NaN   \n",
       "\n",
       "                                                 Plot  \\\n",
       "3   After settling his differences with a Japanese...   \n",
       "7   In a decrepit South American village, men are ...   \n",
       "8   A crafty ronin comes to a town divided by two ...   \n",
       "10  An ingenue insinuates herself into the company...   \n",
       "14  Allied P.O.W.s plan for several hundred of the...   \n",
       "\n",
       "                                               Poster      Rated     ...      \\\n",
       "3   https://images-na.ssl-images-amazon.com/images...         PG     ...       \n",
       "7   https://images-na.ssl-images-amazon.com/images...  NOT RATED     ...       \n",
       "8   https://images-na.ssl-images-amazon.com/images...    UNRATED     ...       \n",
       "10  https://images-na.ssl-images-amazon.com/images...   APPROVED     ...       \n",
       "14  https://images-na.ssl-images-amazon.com/images...   APPROVED     ...       \n",
       "\n",
       "   Response Runtime                         Title   Type  \\\n",
       "3      True     161  The Bridge on the River Kwai  movie   \n",
       "7      True     131             The Wages of Fear  movie   \n",
       "8      True     110                       Yojimbo  movie   \n",
       "10     True     138                 All About Eve  movie   \n",
       "14     True     172              The Great Escape  movie   \n",
       "\n",
       "                                               Writer  Year     imdbID  \\\n",
       "3   Pierre Boulle (novel), Carl Foreman (screenpla...  1957  tt0050212   \n",
       "7   Georges Arnaud (novel), Henri-Georges Clouzot ...  1953  tt0046268   \n",
       "8   Akira Kurosawa (story), Akira Kurosawa (screen...  1961  tt0055630   \n",
       "10   Joseph L. Mankiewicz (written for the screen by)  1950  tt0042192   \n",
       "14  Paul Brickhill (book), James Clavell (screenpl...  1963  tt0057115   \n",
       "\n",
       "   imdbRating imdbVotes       Gross  \n",
       "3         8.2    151604  27200000.0  \n",
       "7         8.2     35833         NaN  \n",
       "8         8.3     75317         NaN  \n",
       "10        8.3     84353     10177.0  \n",
       "14        8.3    167926         NaN  \n",
       "\n",
       "[5 rows x 21 columns]"
      ]
     },
     "execution_count": 17,
     "metadata": {},
     "output_type": "execute_result"
    }
   ],
   "source": [
    "# return all rows with NaN\n",
    "df_nan = df[pd.isnull(df).any(axis = 1)]\n",
    "df_nan.head(5)"
   ]
  },
  {
   "cell_type": "code",
   "execution_count": 18,
   "metadata": {
    "collapsed": false
   },
   "outputs": [
    {
     "name": "stdout",
     "output_type": "stream",
     "text": [
      "Awards 4\n",
      "Language 1\n",
      "Metascore 81\n",
      "Poster 2\n",
      "Rated 1\n",
      "Released 1\n",
      "Gross 66\n"
     ]
    }
   ],
   "source": [
    "# Print number of NaN in all columns\n",
    "\n",
    "nan_list = []\n",
    "\n",
    "for col in df.columns:\n",
    "    x = sum(pd.isnull(df[col]))\n",
    "    if x != 0:\n",
    "        nan_list.append(col)\n",
    "        print col, x"
   ]
  },
  {
   "cell_type": "code",
   "execution_count": 19,
   "metadata": {
    "collapsed": false
   },
   "outputs": [
    {
     "data": {
      "text/html": [
       "<div>\n",
       "<table border=\"1\" class=\"dataframe\">\n",
       "  <thead>\n",
       "    <tr style=\"text-align: right;\">\n",
       "      <th></th>\n",
       "      <th>Actors</th>\n",
       "      <th>Awards</th>\n",
       "      <th>Country</th>\n",
       "      <th>Director</th>\n",
       "      <th>Genre</th>\n",
       "      <th>Language</th>\n",
       "      <th>Metascore</th>\n",
       "      <th>Plot</th>\n",
       "      <th>Poster</th>\n",
       "      <th>Rated</th>\n",
       "      <th>...</th>\n",
       "      <th>Response</th>\n",
       "      <th>Runtime</th>\n",
       "      <th>Title</th>\n",
       "      <th>Type</th>\n",
       "      <th>Writer</th>\n",
       "      <th>Year</th>\n",
       "      <th>imdbID</th>\n",
       "      <th>imdbRating</th>\n",
       "      <th>imdbVotes</th>\n",
       "      <th>Gross</th>\n",
       "    </tr>\n",
       "  </thead>\n",
       "  <tbody>\n",
       "    <tr>\n",
       "      <th>194</th>\n",
       "      <td>George O'Brien, Janet Gaynor, Margaret Livings...</td>\n",
       "      <td>Won 3 Oscars. Another 2 wins &amp; 1 nomination.</td>\n",
       "      <td>USA</td>\n",
       "      <td>F.W. Murnau</td>\n",
       "      <td>Drama, Romance</td>\n",
       "      <td>NaN</td>\n",
       "      <td>NaN</td>\n",
       "      <td>A married farmer falls under the spell of a sl...</td>\n",
       "      <td>NaN</td>\n",
       "      <td>NOT RATED</td>\n",
       "      <td>...</td>\n",
       "      <td>True</td>\n",
       "      <td>94</td>\n",
       "      <td>Sunrise</td>\n",
       "      <td>movie</td>\n",
       "      <td>Carl Mayer (scenario), Hermann Sudermann (from...</td>\n",
       "      <td>1927</td>\n",
       "      <td>tt0018455</td>\n",
       "      <td>8.3</td>\n",
       "      <td>29635</td>\n",
       "      <td>NaN</td>\n",
       "    </tr>\n",
       "  </tbody>\n",
       "</table>\n",
       "<p>1 rows × 21 columns</p>\n",
       "</div>"
      ],
      "text/plain": [
       "                                                Actors  \\\n",
       "194  George O'Brien, Janet Gaynor, Margaret Livings...   \n",
       "\n",
       "                                           Awards Country     Director  \\\n",
       "194  Won 3 Oscars. Another 2 wins & 1 nomination.     USA  F.W. Murnau   \n",
       "\n",
       "              Genre Language  Metascore  \\\n",
       "194  Drama, Romance      NaN        NaN   \n",
       "\n",
       "                                                  Plot Poster      Rated  \\\n",
       "194  A married farmer falls under the spell of a sl...    NaN  NOT RATED   \n",
       "\n",
       "     ...   Response Runtime    Title   Type  \\\n",
       "194  ...       True      94  Sunrise  movie   \n",
       "\n",
       "                                                Writer  Year     imdbID  \\\n",
       "194  Carl Mayer (scenario), Hermann Sudermann (from...  1927  tt0018455   \n",
       "\n",
       "    imdbRating imdbVotes  Gross  \n",
       "194        8.3     29635    NaN  \n",
       "\n",
       "[1 rows x 21 columns]"
      ]
     },
     "execution_count": 19,
     "metadata": {},
     "output_type": "execute_result"
    }
   ],
   "source": [
    "# Find row where Language is NaN\n",
    "df[pd.isnull(df['Language'])]"
   ]
  },
  {
   "cell_type": "code",
   "execution_count": 20,
   "metadata": {
    "collapsed": false
   },
   "outputs": [],
   "source": [
    "# Change language of movie \"Sunrise\" to \"English\"\n",
    "df.loc[df['Title'] == 'Sunrise' , 'Language'] = 'English'"
   ]
  },
  {
   "cell_type": "code",
   "execution_count": 21,
   "metadata": {
    "collapsed": false
   },
   "outputs": [
    {
     "data": {
      "text/html": [
       "<div>\n",
       "<table border=\"1\" class=\"dataframe\">\n",
       "  <thead>\n",
       "    <tr style=\"text-align: right;\">\n",
       "      <th></th>\n",
       "      <th>Actors</th>\n",
       "      <th>Awards</th>\n",
       "      <th>Country</th>\n",
       "      <th>Director</th>\n",
       "      <th>Genre</th>\n",
       "      <th>Language</th>\n",
       "      <th>Metascore</th>\n",
       "      <th>Plot</th>\n",
       "      <th>Poster</th>\n",
       "      <th>Rated</th>\n",
       "      <th>...</th>\n",
       "      <th>Response</th>\n",
       "      <th>Runtime</th>\n",
       "      <th>Title</th>\n",
       "      <th>Type</th>\n",
       "      <th>Writer</th>\n",
       "      <th>Year</th>\n",
       "      <th>imdbID</th>\n",
       "      <th>imdbRating</th>\n",
       "      <th>imdbVotes</th>\n",
       "      <th>Gross</th>\n",
       "    </tr>\n",
       "  </thead>\n",
       "  <tbody>\n",
       "    <tr>\n",
       "      <th>137</th>\n",
       "      <td>Manoj Bajpayee, Richa Chadha, Nawazuddin Siddi...</td>\n",
       "      <td>10 wins &amp; 32 nominations.</td>\n",
       "      <td>India</td>\n",
       "      <td>Anurag Kashyap</td>\n",
       "      <td>Action, Crime, Drama</td>\n",
       "      <td>Hindi</td>\n",
       "      <td>89.0</td>\n",
       "      <td>A clash between Sultan and Shahid Khan leads t...</td>\n",
       "      <td>https://images-na.ssl-images-amazon.com/images...</td>\n",
       "      <td>NaN</td>\n",
       "      <td>...</td>\n",
       "      <td>True</td>\n",
       "      <td>320</td>\n",
       "      <td>Gangs of Wasseypur</td>\n",
       "      <td>movie</td>\n",
       "      <td>Akhilesh Jaiswal, Anurag Kashyap, Sachin K. La...</td>\n",
       "      <td>2012</td>\n",
       "      <td>tt1954470</td>\n",
       "      <td>8.3</td>\n",
       "      <td>48140</td>\n",
       "      <td>NaN</td>\n",
       "    </tr>\n",
       "  </tbody>\n",
       "</table>\n",
       "<p>1 rows × 21 columns</p>\n",
       "</div>"
      ],
      "text/plain": [
       "                                                Actors  \\\n",
       "137  Manoj Bajpayee, Richa Chadha, Nawazuddin Siddi...   \n",
       "\n",
       "                        Awards Country        Director                 Genre  \\\n",
       "137  10 wins & 32 nominations.   India  Anurag Kashyap  Action, Crime, Drama   \n",
       "\n",
       "    Language  Metascore                                               Plot  \\\n",
       "137    Hindi       89.0  A clash between Sultan and Shahid Khan leads t...   \n",
       "\n",
       "                                                Poster Rated  ...   Response  \\\n",
       "137  https://images-na.ssl-images-amazon.com/images...   NaN  ...       True   \n",
       "\n",
       "    Runtime               Title   Type  \\\n",
       "137     320  Gangs of Wasseypur  movie   \n",
       "\n",
       "                                                Writer  Year     imdbID  \\\n",
       "137  Akhilesh Jaiswal, Anurag Kashyap, Sachin K. La...  2012  tt1954470   \n",
       "\n",
       "    imdbRating imdbVotes  Gross  \n",
       "137        8.3     48140    NaN  \n",
       "\n",
       "[1 rows x 21 columns]"
      ]
     },
     "execution_count": 21,
     "metadata": {},
     "output_type": "execute_result"
    }
   ],
   "source": [
    "# Find movie with NaN in Rating\n",
    "\n",
    "df[pd.isnull(df['Rated'])]"
   ]
  },
  {
   "cell_type": "code",
   "execution_count": 22,
   "metadata": {
    "collapsed": false
   },
   "outputs": [
    {
     "data": {
      "text/plain": [
       "array([u'R', u'UNRATED', u'PG', u'PG-13', u'NOT RATED', u'G', u'APPROVED',\n",
       "       u'PASSED', nan, u'M'], dtype=object)"
      ]
     },
     "execution_count": 22,
     "metadata": {},
     "output_type": "execute_result"
    }
   ],
   "source": [
    "# List of all unique ratings\n",
    "df['Rated'].unique()"
   ]
  },
  {
   "cell_type": "code",
   "execution_count": 23,
   "metadata": {
    "collapsed": true
   },
   "outputs": [],
   "source": [
    "# Change rating of 'Gangs of Wasseypur' from NaN to 'UNRATED'\n",
    "\n",
    "df.loc[df['Title'] == 'Gangs of Wasseypur' , 'Rated'] = 'UNRATED'"
   ]
  },
  {
   "cell_type": "code",
   "execution_count": 24,
   "metadata": {
    "collapsed": false
   },
   "outputs": [
    {
     "data": {
      "text/html": [
       "<div>\n",
       "<table border=\"1\" class=\"dataframe\">\n",
       "  <thead>\n",
       "    <tr style=\"text-align: right;\">\n",
       "      <th></th>\n",
       "      <th>Actors</th>\n",
       "      <th>Awards</th>\n",
       "      <th>Country</th>\n",
       "      <th>Director</th>\n",
       "      <th>Genre</th>\n",
       "      <th>Language</th>\n",
       "      <th>Metascore</th>\n",
       "      <th>Plot</th>\n",
       "      <th>Poster</th>\n",
       "      <th>Rated</th>\n",
       "      <th>...</th>\n",
       "      <th>Response</th>\n",
       "      <th>Runtime</th>\n",
       "      <th>Title</th>\n",
       "      <th>Type</th>\n",
       "      <th>Writer</th>\n",
       "      <th>Year</th>\n",
       "      <th>imdbID</th>\n",
       "      <th>imdbRating</th>\n",
       "      <th>imdbVotes</th>\n",
       "      <th>Gross</th>\n",
       "    </tr>\n",
       "  </thead>\n",
       "  <tbody>\n",
       "    <tr>\n",
       "      <th>73</th>\n",
       "      <td>Charles Chaplin, Mack Swain, Tom Murray, Henry...</td>\n",
       "      <td>Nominated for 2 Oscars. Another 3 wins &amp; 1 nom...</td>\n",
       "      <td>USA</td>\n",
       "      <td>Charles Chaplin</td>\n",
       "      <td>Adventure, Comedy, Drama</td>\n",
       "      <td>English</td>\n",
       "      <td>NaN</td>\n",
       "      <td>A prospector goes to the Klondike in search of...</td>\n",
       "      <td>https://images-na.ssl-images-amazon.com/images...</td>\n",
       "      <td>NOT RATED</td>\n",
       "      <td>...</td>\n",
       "      <td>True</td>\n",
       "      <td>95</td>\n",
       "      <td>The Gold Rush</td>\n",
       "      <td>movie</td>\n",
       "      <td>Charles Chaplin</td>\n",
       "      <td>1925</td>\n",
       "      <td>tt0015864</td>\n",
       "      <td>8.2</td>\n",
       "      <td>69196</td>\n",
       "      <td>NaN</td>\n",
       "    </tr>\n",
       "  </tbody>\n",
       "</table>\n",
       "<p>1 rows × 21 columns</p>\n",
       "</div>"
      ],
      "text/plain": [
       "                                               Actors  \\\n",
       "73  Charles Chaplin, Mack Swain, Tom Murray, Henry...   \n",
       "\n",
       "                                               Awards Country  \\\n",
       "73  Nominated for 2 Oscars. Another 3 wins & 1 nom...     USA   \n",
       "\n",
       "           Director                     Genre Language  Metascore  \\\n",
       "73  Charles Chaplin  Adventure, Comedy, Drama  English        NaN   \n",
       "\n",
       "                                                 Plot  \\\n",
       "73  A prospector goes to the Klondike in search of...   \n",
       "\n",
       "                                               Poster      Rated  ...    \\\n",
       "73  https://images-na.ssl-images-amazon.com/images...  NOT RATED  ...     \n",
       "\n",
       "   Response Runtime          Title   Type           Writer  Year     imdbID  \\\n",
       "73     True      95  The Gold Rush  movie  Charles Chaplin  1925  tt0015864   \n",
       "\n",
       "   imdbRating imdbVotes  Gross  \n",
       "73        8.2     69196    NaN  \n",
       "\n",
       "[1 rows x 21 columns]"
      ]
     },
     "execution_count": 24,
     "metadata": {},
     "output_type": "execute_result"
    }
   ],
   "source": [
    "# Find movie with NaN in \"Released\"\n",
    "\n",
    "df[pd.isnull(df['Released'])]"
   ]
  },
  {
   "cell_type": "code",
   "execution_count": 25,
   "metadata": {
    "collapsed": true
   },
   "outputs": [],
   "source": [
    "# Change released date of  of 'The Gold Rush' from NaN to '1925-06-26'\n",
    "\n",
    "df.loc[df['Title'] == 'The Gold Rush' , 'Released'] = pd.to_datetime('1925-06-26')"
   ]
  },
  {
   "cell_type": "code",
   "execution_count": 26,
   "metadata": {
    "collapsed": false
   },
   "outputs": [],
   "source": [
    "# Fill in 0 for NaN Gross Revenue values\n",
    "\n",
    "df['Gross'].fillna(0, inplace=True)"
   ]
  },
  {
   "cell_type": "code",
   "execution_count": 27,
   "metadata": {
    "collapsed": true
   },
   "outputs": [],
   "source": [
    "# Drop \"Awards\" column - colinearity of awards and rating\n",
    "df.drop('Awards',axis=1, inplace=True)"
   ]
  },
  {
   "cell_type": "code",
   "execution_count": 28,
   "metadata": {
    "collapsed": false
   },
   "outputs": [],
   "source": [
    "# Drop \"Poster\" column - image type\n",
    "df.drop('Poster',axis=1, inplace=True)"
   ]
  },
  {
   "cell_type": "code",
   "execution_count": 29,
   "metadata": {
    "collapsed": false
   },
   "outputs": [],
   "source": [
    "# Drop \"Metascore\" column - Colinearity/NaN\n",
    "df.drop('Metascore',axis=1, inplace=True)"
   ]
  },
  {
   "cell_type": "code",
   "execution_count": 30,
   "metadata": {
    "collapsed": true
   },
   "outputs": [],
   "source": [
    "# Drop \"imdbID\" column - just IDs\n",
    "df.drop('imdbID',axis=1, inplace=True)"
   ]
  },
  {
   "cell_type": "code",
   "execution_count": 31,
   "metadata": {
    "collapsed": false
   },
   "outputs": [],
   "source": [
    "# Drop \"Writer\" column - Too many different writers\n",
    "df.drop('Writer',axis=1, inplace=True)"
   ]
  },
  {
   "cell_type": "code",
   "execution_count": 32,
   "metadata": {
    "collapsed": false
   },
   "outputs": [],
   "source": [
    "# Drop \"Type\" column - All type = movies\n",
    "df.drop('Type',axis=1, inplace=True)"
   ]
  },
  {
   "cell_type": "code",
   "execution_count": 33,
   "metadata": {
    "collapsed": false
   },
   "outputs": [],
   "source": [
    "# Drop \"Response\" column - All Response = True\n",
    "df.drop('Response',axis=1, inplace=True)"
   ]
  },
  {
   "cell_type": "code",
   "execution_count": 34,
   "metadata": {
    "collapsed": false
   },
   "outputs": [
    {
     "data": {
      "text/html": [
       "<div>\n",
       "<table border=\"1\" class=\"dataframe\">\n",
       "  <thead>\n",
       "    <tr style=\"text-align: right;\">\n",
       "      <th></th>\n",
       "      <th>Actors</th>\n",
       "      <th>Country</th>\n",
       "      <th>Director</th>\n",
       "      <th>Genre</th>\n",
       "      <th>Language</th>\n",
       "      <th>Plot</th>\n",
       "      <th>Rated</th>\n",
       "      <th>Released</th>\n",
       "      <th>Runtime</th>\n",
       "      <th>Title</th>\n",
       "      <th>Year</th>\n",
       "      <th>imdbRating</th>\n",
       "      <th>imdbVotes</th>\n",
       "      <th>Gross</th>\n",
       "    </tr>\n",
       "  </thead>\n",
       "  <tbody>\n",
       "    <tr>\n",
       "      <th>0</th>\n",
       "      <td>Miles Teller, J.K. Simmons, Paul Reiser, Melis...</td>\n",
       "      <td>USA</td>\n",
       "      <td>Damien Chazelle</td>\n",
       "      <td>Drama, Music</td>\n",
       "      <td>English</td>\n",
       "      <td>A promising young drummer enrolls at a cut-thr...</td>\n",
       "      <td>R</td>\n",
       "      <td>2014-10-15</td>\n",
       "      <td>107</td>\n",
       "      <td>Whiplash</td>\n",
       "      <td>2014</td>\n",
       "      <td>8.5</td>\n",
       "      <td>413720</td>\n",
       "      <td>13092000.0</td>\n",
       "    </tr>\n",
       "    <tr>\n",
       "      <th>1</th>\n",
       "      <td>Toshirô Mifune, Takashi Shimura, Keiko Tsushim...</td>\n",
       "      <td>Japan</td>\n",
       "      <td>Akira Kurosawa</td>\n",
       "      <td>Action, Adventure, Drama</td>\n",
       "      <td>Japanese</td>\n",
       "      <td>A poor village under attack by bandits recruit...</td>\n",
       "      <td>UNRATED</td>\n",
       "      <td>1956-11-19</td>\n",
       "      <td>207</td>\n",
       "      <td>Seven Samurai</td>\n",
       "      <td>1954</td>\n",
       "      <td>8.7</td>\n",
       "      <td>232249</td>\n",
       "      <td>269061.0</td>\n",
       "    </tr>\n",
       "    <tr>\n",
       "      <th>2</th>\n",
       "      <td>Harrison Ford, Karen Allen, Paul Freeman, Rona...</td>\n",
       "      <td>USA</td>\n",
       "      <td>Steven Spielberg</td>\n",
       "      <td>Action, Adventure</td>\n",
       "      <td>English, German, Hebrew, Spanish, Arabic, Nepali</td>\n",
       "      <td>Archaeologist and adventurer Indiana Jones is ...</td>\n",
       "      <td>PG</td>\n",
       "      <td>1981-06-12</td>\n",
       "      <td>115</td>\n",
       "      <td>Raiders of the Lost Ark</td>\n",
       "      <td>1981</td>\n",
       "      <td>8.5</td>\n",
       "      <td>671034</td>\n",
       "      <td>242374454.0</td>\n",
       "    </tr>\n",
       "    <tr>\n",
       "      <th>3</th>\n",
       "      <td>William Holden, Alec Guinness, Jack Hawkins, S...</td>\n",
       "      <td>UK, USA</td>\n",
       "      <td>David Lean</td>\n",
       "      <td>Adventure, Drama, War</td>\n",
       "      <td>English, Japanese, Thai</td>\n",
       "      <td>After settling his differences with a Japanese...</td>\n",
       "      <td>PG</td>\n",
       "      <td>1957-12-14</td>\n",
       "      <td>161</td>\n",
       "      <td>The Bridge on the River Kwai</td>\n",
       "      <td>1957</td>\n",
       "      <td>8.2</td>\n",
       "      <td>151604</td>\n",
       "      <td>27200000.0</td>\n",
       "    </tr>\n",
       "    <tr>\n",
       "      <th>4</th>\n",
       "      <td>Robert Downey Jr., Chris Evans, Mark Ruffalo, ...</td>\n",
       "      <td>USA</td>\n",
       "      <td>Joss Whedon</td>\n",
       "      <td>Action, Sci-Fi, Thriller</td>\n",
       "      <td>English, Russian</td>\n",
       "      <td>Earth's mightiest heroes must come together an...</td>\n",
       "      <td>PG-13</td>\n",
       "      <td>2012-05-04</td>\n",
       "      <td>143</td>\n",
       "      <td>The Avengers</td>\n",
       "      <td>2012</td>\n",
       "      <td>8.1</td>\n",
       "      <td>1010033</td>\n",
       "      <td>623279547.0</td>\n",
       "    </tr>\n",
       "  </tbody>\n",
       "</table>\n",
       "</div>"
      ],
      "text/plain": [
       "                                              Actors  Country  \\\n",
       "0  Miles Teller, J.K. Simmons, Paul Reiser, Melis...      USA   \n",
       "1  Toshirô Mifune, Takashi Shimura, Keiko Tsushim...    Japan   \n",
       "2  Harrison Ford, Karen Allen, Paul Freeman, Rona...      USA   \n",
       "3  William Holden, Alec Guinness, Jack Hawkins, S...  UK, USA   \n",
       "4  Robert Downey Jr., Chris Evans, Mark Ruffalo, ...      USA   \n",
       "\n",
       "           Director                     Genre  \\\n",
       "0   Damien Chazelle              Drama, Music   \n",
       "1    Akira Kurosawa  Action, Adventure, Drama   \n",
       "2  Steven Spielberg         Action, Adventure   \n",
       "3        David Lean     Adventure, Drama, War   \n",
       "4       Joss Whedon  Action, Sci-Fi, Thriller   \n",
       "\n",
       "                                           Language  \\\n",
       "0                                           English   \n",
       "1                                          Japanese   \n",
       "2  English, German, Hebrew, Spanish, Arabic, Nepali   \n",
       "3                           English, Japanese, Thai   \n",
       "4                                  English, Russian   \n",
       "\n",
       "                                                Plot    Rated   Released  \\\n",
       "0  A promising young drummer enrolls at a cut-thr...        R 2014-10-15   \n",
       "1  A poor village under attack by bandits recruit...  UNRATED 1956-11-19   \n",
       "2  Archaeologist and adventurer Indiana Jones is ...       PG 1981-06-12   \n",
       "3  After settling his differences with a Japanese...       PG 1957-12-14   \n",
       "4  Earth's mightiest heroes must come together an...    PG-13 2012-05-04   \n",
       "\n",
       "   Runtime                         Title  Year imdbRating  imdbVotes  \\\n",
       "0      107                      Whiplash  2014        8.5     413720   \n",
       "1      207                 Seven Samurai  1954        8.7     232249   \n",
       "2      115       Raiders of the Lost Ark  1981        8.5     671034   \n",
       "3      161  The Bridge on the River Kwai  1957        8.2     151604   \n",
       "4      143                  The Avengers  2012        8.1    1010033   \n",
       "\n",
       "         Gross  \n",
       "0   13092000.0  \n",
       "1     269061.0  \n",
       "2  242374454.0  \n",
       "3   27200000.0  \n",
       "4  623279547.0  "
      ]
     },
     "execution_count": 34,
     "metadata": {},
     "output_type": "execute_result"
    }
   ],
   "source": [
    "df.head()"
   ]
  },
  {
   "cell_type": "markdown",
   "metadata": {},
   "source": [
    "## TEXT VECTORIZATION"
   ]
  },
  {
   "cell_type": "code",
   "execution_count": 35,
   "metadata": {
    "collapsed": true
   },
   "outputs": [],
   "source": [
    "from sklearn.feature_extraction.text import CountVectorizer"
   ]
  },
  {
   "cell_type": "code",
   "execution_count": 36,
   "metadata": {
    "collapsed": false,
    "scrolled": true
   },
   "outputs": [
    {
     "data": {
      "text/html": [
       "<div>\n",
       "<table border=\"1\" class=\"dataframe\">\n",
       "  <thead>\n",
       "    <tr style=\"text-align: right;\">\n",
       "      <th></th>\n",
       "      <th>genre_action</th>\n",
       "      <th>genre_adventure</th>\n",
       "      <th>genre_animation</th>\n",
       "      <th>genre_biography</th>\n",
       "      <th>genre_comedy</th>\n",
       "      <th>genre_crime</th>\n",
       "      <th>genre_drama</th>\n",
       "      <th>genre_family</th>\n",
       "      <th>genre_fantasy</th>\n",
       "      <th>genre_film-noir</th>\n",
       "      <th>...</th>\n",
       "      <th>genre_horror</th>\n",
       "      <th>genre_music</th>\n",
       "      <th>genre_musical</th>\n",
       "      <th>genre_mystery</th>\n",
       "      <th>genre_romance</th>\n",
       "      <th>genre_sci-fi</th>\n",
       "      <th>genre_sport</th>\n",
       "      <th>genre_thriller</th>\n",
       "      <th>genre_war</th>\n",
       "      <th>genre_western</th>\n",
       "    </tr>\n",
       "  </thead>\n",
       "  <tbody>\n",
       "    <tr>\n",
       "      <th>0</th>\n",
       "      <td>0</td>\n",
       "      <td>0</td>\n",
       "      <td>0</td>\n",
       "      <td>0</td>\n",
       "      <td>0</td>\n",
       "      <td>0</td>\n",
       "      <td>1</td>\n",
       "      <td>0</td>\n",
       "      <td>0</td>\n",
       "      <td>0</td>\n",
       "      <td>...</td>\n",
       "      <td>0</td>\n",
       "      <td>1</td>\n",
       "      <td>0</td>\n",
       "      <td>0</td>\n",
       "      <td>0</td>\n",
       "      <td>0</td>\n",
       "      <td>0</td>\n",
       "      <td>0</td>\n",
       "      <td>0</td>\n",
       "      <td>0</td>\n",
       "    </tr>\n",
       "    <tr>\n",
       "      <th>1</th>\n",
       "      <td>1</td>\n",
       "      <td>1</td>\n",
       "      <td>0</td>\n",
       "      <td>0</td>\n",
       "      <td>0</td>\n",
       "      <td>0</td>\n",
       "      <td>1</td>\n",
       "      <td>0</td>\n",
       "      <td>0</td>\n",
       "      <td>0</td>\n",
       "      <td>...</td>\n",
       "      <td>0</td>\n",
       "      <td>0</td>\n",
       "      <td>0</td>\n",
       "      <td>0</td>\n",
       "      <td>0</td>\n",
       "      <td>0</td>\n",
       "      <td>0</td>\n",
       "      <td>0</td>\n",
       "      <td>0</td>\n",
       "      <td>0</td>\n",
       "    </tr>\n",
       "    <tr>\n",
       "      <th>2</th>\n",
       "      <td>1</td>\n",
       "      <td>1</td>\n",
       "      <td>0</td>\n",
       "      <td>0</td>\n",
       "      <td>0</td>\n",
       "      <td>0</td>\n",
       "      <td>0</td>\n",
       "      <td>0</td>\n",
       "      <td>0</td>\n",
       "      <td>0</td>\n",
       "      <td>...</td>\n",
       "      <td>0</td>\n",
       "      <td>0</td>\n",
       "      <td>0</td>\n",
       "      <td>0</td>\n",
       "      <td>0</td>\n",
       "      <td>0</td>\n",
       "      <td>0</td>\n",
       "      <td>0</td>\n",
       "      <td>0</td>\n",
       "      <td>0</td>\n",
       "    </tr>\n",
       "    <tr>\n",
       "      <th>3</th>\n",
       "      <td>0</td>\n",
       "      <td>1</td>\n",
       "      <td>0</td>\n",
       "      <td>0</td>\n",
       "      <td>0</td>\n",
       "      <td>0</td>\n",
       "      <td>1</td>\n",
       "      <td>0</td>\n",
       "      <td>0</td>\n",
       "      <td>0</td>\n",
       "      <td>...</td>\n",
       "      <td>0</td>\n",
       "      <td>0</td>\n",
       "      <td>0</td>\n",
       "      <td>0</td>\n",
       "      <td>0</td>\n",
       "      <td>0</td>\n",
       "      <td>0</td>\n",
       "      <td>0</td>\n",
       "      <td>1</td>\n",
       "      <td>0</td>\n",
       "    </tr>\n",
       "    <tr>\n",
       "      <th>4</th>\n",
       "      <td>1</td>\n",
       "      <td>0</td>\n",
       "      <td>0</td>\n",
       "      <td>0</td>\n",
       "      <td>0</td>\n",
       "      <td>0</td>\n",
       "      <td>0</td>\n",
       "      <td>0</td>\n",
       "      <td>0</td>\n",
       "      <td>0</td>\n",
       "      <td>...</td>\n",
       "      <td>0</td>\n",
       "      <td>0</td>\n",
       "      <td>0</td>\n",
       "      <td>0</td>\n",
       "      <td>0</td>\n",
       "      <td>1</td>\n",
       "      <td>0</td>\n",
       "      <td>1</td>\n",
       "      <td>0</td>\n",
       "      <td>0</td>\n",
       "    </tr>\n",
       "  </tbody>\n",
       "</table>\n",
       "<p>5 rows × 21 columns</p>\n",
       "</div>"
      ],
      "text/plain": [
       "   genre_action  genre_adventure  genre_animation  genre_biography  \\\n",
       "0             0                0                0                0   \n",
       "1             1                1                0                0   \n",
       "2             1                1                0                0   \n",
       "3             0                1                0                0   \n",
       "4             1                0                0                0   \n",
       "\n",
       "   genre_comedy  genre_crime  genre_drama  genre_family  genre_fantasy  \\\n",
       "0             0            0            1             0              0   \n",
       "1             0            0            1             0              0   \n",
       "2             0            0            0             0              0   \n",
       "3             0            0            1             0              0   \n",
       "4             0            0            0             0              0   \n",
       "\n",
       "   genre_film-noir      ...        genre_horror  genre_music  genre_musical  \\\n",
       "0                0      ...                   0            1              0   \n",
       "1                0      ...                   0            0              0   \n",
       "2                0      ...                   0            0              0   \n",
       "3                0      ...                   0            0              0   \n",
       "4                0      ...                   0            0              0   \n",
       "\n",
       "   genre_mystery  genre_romance  genre_sci-fi  genre_sport  genre_thriller  \\\n",
       "0              0              0             0            0               0   \n",
       "1              0              0             0            0               0   \n",
       "2              0              0             0            0               0   \n",
       "3              0              0             0            0               0   \n",
       "4              0              0             1            0               1   \n",
       "\n",
       "   genre_war  genre_western  \n",
       "0          0              0  \n",
       "1          0              0  \n",
       "2          0              0  \n",
       "3          1              0  \n",
       "4          0              0  \n",
       "\n",
       "[5 rows x 21 columns]"
      ]
     },
     "execution_count": 36,
     "metadata": {},
     "output_type": "execute_result"
    }
   ],
   "source": [
    "# CountVectorize Genre Column (dummy variables)\n",
    "\n",
    "cv = CountVectorizer(tokenizer=lambda x: x.split(', '),binary=True, max_features=50)\n",
    "data = cv.fit_transform(df.Genre).todense()\n",
    "columns = ['genre_'+c for c in cv.get_feature_names()]\n",
    "genredf = pd.DataFrame(data, columns=columns)\n",
    "genredf.head()"
   ]
  },
  {
   "cell_type": "code",
   "execution_count": 37,
   "metadata": {
    "collapsed": false
   },
   "outputs": [
    {
     "data": {
      "text/plain": [
       "genre_action        38\n",
       "genre_adventure     62\n",
       "genre_animation     20\n",
       "genre_biography     26\n",
       "genre_comedy        41\n",
       "genre_crime         55\n",
       "genre_drama        172\n",
       "genre_family        14\n",
       "genre_fantasy       22\n",
       "genre_film-noir      7\n",
       "dtype: int64"
      ]
     },
     "execution_count": 37,
     "metadata": {},
     "output_type": "execute_result"
    }
   ],
   "source": [
    "# Sum of movies by Genre (choose which column to drop)\n",
    "genredf.sum().head(10)"
   ]
  },
  {
   "cell_type": "code",
   "execution_count": 38,
   "metadata": {
    "collapsed": true
   },
   "outputs": [],
   "source": [
    "# drop genre_music for classification purposes\n",
    "\n",
    "genredf.drop('genre_music',axis=1, inplace=True)"
   ]
  },
  {
   "cell_type": "code",
   "execution_count": 39,
   "metadata": {
    "collapsed": true
   },
   "outputs": [],
   "source": [
    "df = pd.concat([df, genredf], axis = 1)"
   ]
  },
  {
   "cell_type": "code",
   "execution_count": 40,
   "metadata": {
    "collapsed": false
   },
   "outputs": [
    {
     "data": {
      "text/html": [
       "<div>\n",
       "<table border=\"1\" class=\"dataframe\">\n",
       "  <thead>\n",
       "    <tr style=\"text-align: right;\">\n",
       "      <th></th>\n",
       "      <th>actor: aamir khan</th>\n",
       "      <th>actor: al pacino</th>\n",
       "      <th>actor: alec guinness</th>\n",
       "      <th>actor: ben kingsley</th>\n",
       "      <th>actor: brad pitt</th>\n",
       "      <th>actor: bruce willis</th>\n",
       "      <th>actor: carrie fisher</th>\n",
       "      <th>actor: carrie-anne moss</th>\n",
       "      <th>actor: charles chaplin</th>\n",
       "      <th>actor: charles vanel</th>\n",
       "      <th>...</th>\n",
       "      <th>actor: robert duvall</th>\n",
       "      <th>actor: russell crowe</th>\n",
       "      <th>actor: sean astin</th>\n",
       "      <th>actor: sigourney weaver</th>\n",
       "      <th>actor: steve buscemi</th>\n",
       "      <th>actor: takashi shimura</th>\n",
       "      <th>actor: tom hanks</th>\n",
       "      <th>actor: tom hardy</th>\n",
       "      <th>actor: toshirô mifune</th>\n",
       "      <th>actor: william holden</th>\n",
       "    </tr>\n",
       "  </thead>\n",
       "  <tbody>\n",
       "    <tr>\n",
       "      <th>0</th>\n",
       "      <td>0</td>\n",
       "      <td>0</td>\n",
       "      <td>0</td>\n",
       "      <td>0</td>\n",
       "      <td>0</td>\n",
       "      <td>0</td>\n",
       "      <td>0</td>\n",
       "      <td>0</td>\n",
       "      <td>0</td>\n",
       "      <td>0</td>\n",
       "      <td>...</td>\n",
       "      <td>0</td>\n",
       "      <td>0</td>\n",
       "      <td>0</td>\n",
       "      <td>0</td>\n",
       "      <td>0</td>\n",
       "      <td>0</td>\n",
       "      <td>0</td>\n",
       "      <td>0</td>\n",
       "      <td>0</td>\n",
       "      <td>0</td>\n",
       "    </tr>\n",
       "    <tr>\n",
       "      <th>1</th>\n",
       "      <td>0</td>\n",
       "      <td>0</td>\n",
       "      <td>0</td>\n",
       "      <td>0</td>\n",
       "      <td>0</td>\n",
       "      <td>0</td>\n",
       "      <td>0</td>\n",
       "      <td>0</td>\n",
       "      <td>0</td>\n",
       "      <td>0</td>\n",
       "      <td>...</td>\n",
       "      <td>0</td>\n",
       "      <td>0</td>\n",
       "      <td>0</td>\n",
       "      <td>0</td>\n",
       "      <td>0</td>\n",
       "      <td>1</td>\n",
       "      <td>0</td>\n",
       "      <td>0</td>\n",
       "      <td>1</td>\n",
       "      <td>0</td>\n",
       "    </tr>\n",
       "    <tr>\n",
       "      <th>2</th>\n",
       "      <td>0</td>\n",
       "      <td>0</td>\n",
       "      <td>0</td>\n",
       "      <td>0</td>\n",
       "      <td>0</td>\n",
       "      <td>0</td>\n",
       "      <td>0</td>\n",
       "      <td>0</td>\n",
       "      <td>0</td>\n",
       "      <td>0</td>\n",
       "      <td>...</td>\n",
       "      <td>0</td>\n",
       "      <td>0</td>\n",
       "      <td>0</td>\n",
       "      <td>0</td>\n",
       "      <td>0</td>\n",
       "      <td>0</td>\n",
       "      <td>0</td>\n",
       "      <td>0</td>\n",
       "      <td>0</td>\n",
       "      <td>0</td>\n",
       "    </tr>\n",
       "    <tr>\n",
       "      <th>3</th>\n",
       "      <td>0</td>\n",
       "      <td>0</td>\n",
       "      <td>1</td>\n",
       "      <td>0</td>\n",
       "      <td>0</td>\n",
       "      <td>0</td>\n",
       "      <td>0</td>\n",
       "      <td>0</td>\n",
       "      <td>0</td>\n",
       "      <td>0</td>\n",
       "      <td>...</td>\n",
       "      <td>0</td>\n",
       "      <td>0</td>\n",
       "      <td>0</td>\n",
       "      <td>0</td>\n",
       "      <td>0</td>\n",
       "      <td>0</td>\n",
       "      <td>0</td>\n",
       "      <td>0</td>\n",
       "      <td>0</td>\n",
       "      <td>1</td>\n",
       "    </tr>\n",
       "    <tr>\n",
       "      <th>4</th>\n",
       "      <td>0</td>\n",
       "      <td>0</td>\n",
       "      <td>0</td>\n",
       "      <td>0</td>\n",
       "      <td>0</td>\n",
       "      <td>0</td>\n",
       "      <td>0</td>\n",
       "      <td>0</td>\n",
       "      <td>0</td>\n",
       "      <td>0</td>\n",
       "      <td>...</td>\n",
       "      <td>0</td>\n",
       "      <td>0</td>\n",
       "      <td>0</td>\n",
       "      <td>0</td>\n",
       "      <td>0</td>\n",
       "      <td>0</td>\n",
       "      <td>0</td>\n",
       "      <td>0</td>\n",
       "      <td>0</td>\n",
       "      <td>0</td>\n",
       "    </tr>\n",
       "  </tbody>\n",
       "</table>\n",
       "<p>5 rows × 50 columns</p>\n",
       "</div>"
      ],
      "text/plain": [
       "   actor: aamir khan  actor: al pacino  actor: alec guinness  \\\n",
       "0                  0                 0                     0   \n",
       "1                  0                 0                     0   \n",
       "2                  0                 0                     0   \n",
       "3                  0                 0                     1   \n",
       "4                  0                 0                     0   \n",
       "\n",
       "   actor: ben kingsley  actor: brad pitt  actor: bruce willis  \\\n",
       "0                    0                 0                    0   \n",
       "1                    0                 0                    0   \n",
       "2                    0                 0                    0   \n",
       "3                    0                 0                    0   \n",
       "4                    0                 0                    0   \n",
       "\n",
       "   actor: carrie fisher  actor: carrie-anne moss  actor: charles chaplin  \\\n",
       "0                     0                        0                       0   \n",
       "1                     0                        0                       0   \n",
       "2                     0                        0                       0   \n",
       "3                     0                        0                       0   \n",
       "4                     0                        0                       0   \n",
       "\n",
       "   actor: charles vanel          ...            actor: robert duvall  \\\n",
       "0                     0          ...                               0   \n",
       "1                     0          ...                               0   \n",
       "2                     0          ...                               0   \n",
       "3                     0          ...                               0   \n",
       "4                     0          ...                               0   \n",
       "\n",
       "   actor: russell crowe  actor: sean astin  actor: sigourney weaver  \\\n",
       "0                     0                  0                        0   \n",
       "1                     0                  0                        0   \n",
       "2                     0                  0                        0   \n",
       "3                     0                  0                        0   \n",
       "4                     0                  0                        0   \n",
       "\n",
       "   actor: steve buscemi  actor: takashi shimura  actor: tom hanks  \\\n",
       "0                     0                       0                 0   \n",
       "1                     0                       1                 0   \n",
       "2                     0                       0                 0   \n",
       "3                     0                       0                 0   \n",
       "4                     0                       0                 0   \n",
       "\n",
       "   actor: tom hardy  actor: toshirô mifune  actor: william holden  \n",
       "0                 0                      0                      0  \n",
       "1                 0                      1                      0  \n",
       "2                 0                      0                      0  \n",
       "3                 0                      0                      1  \n",
       "4                 0                      0                      0  \n",
       "\n",
       "[5 rows x 50 columns]"
      ]
     },
     "execution_count": 40,
     "metadata": {},
     "output_type": "execute_result"
    }
   ],
   "source": [
    "# CountVectorize Actor Columns (dummy variables)\n",
    "\n",
    "cv = CountVectorizer(tokenizer=lambda x: x.split(', '), binary=True, max_features=50)\n",
    "data = cv.fit_transform(df.Actors).todense()\n",
    "columns = ['actor: '+c for c in cv.get_feature_names()]\n",
    "actorsdf = pd.DataFrame(data, columns=columns)\n",
    "actorsdf.head()"
   ]
  },
  {
   "cell_type": "code",
   "execution_count": 41,
   "metadata": {
    "collapsed": false
   },
   "outputs": [
    {
     "data": {
      "text/plain": [
       "actor: aamir khan          2\n",
       "actor: al pacino           4\n",
       "actor: alec guinness       3\n",
       "actor: ben kingsley        3\n",
       "actor: brad pitt           4\n",
       "actor: bruce willis        3\n",
       "actor: carrie fisher       4\n",
       "actor: carrie-anne moss    2\n",
       "actor: charles chaplin     4\n",
       "actor: charles vanel       2\n",
       "dtype: int64"
      ]
     },
     "execution_count": 41,
     "metadata": {},
     "output_type": "execute_result"
    }
   ],
   "source": [
    "# Sum of movies by Actor (choose which column to drop)\n",
    "# Don't need to drop due to already dropped (max 50)\n",
    "\n",
    "actorsdf.sum().head(10)"
   ]
  },
  {
   "cell_type": "code",
   "execution_count": 42,
   "metadata": {
    "collapsed": false
   },
   "outputs": [],
   "source": [
    "# combine actor and main dataframe\n",
    "\n",
    "df = pd.concat([df, actorsdf], axis = 1)"
   ]
  },
  {
   "cell_type": "code",
   "execution_count": 43,
   "metadata": {
    "collapsed": false
   },
   "outputs": [
    {
     "data": {
      "text/html": [
       "<div>\n",
       "<table border=\"1\" class=\"dataframe\">\n",
       "  <thead>\n",
       "    <tr style=\"text-align: right;\">\n",
       "      <th></th>\n",
       "      <th>Language: american sign language</th>\n",
       "      <th>Language: arabic</th>\n",
       "      <th>Language: awadhi</th>\n",
       "      <th>Language: belarusian</th>\n",
       "      <th>Language: cantonese</th>\n",
       "      <th>Language: czech</th>\n",
       "      <th>Language: danish</th>\n",
       "      <th>Language: english</th>\n",
       "      <th>Language: esperanto</th>\n",
       "      <th>Language: french</th>\n",
       "      <th>...</th>\n",
       "      <th>Language: spanish</th>\n",
       "      <th>Language: swahili</th>\n",
       "      <th>Language: swedish</th>\n",
       "      <th>Language: thai</th>\n",
       "      <th>Language: turkish</th>\n",
       "      <th>Language: urdu</th>\n",
       "      <th>Language: vietnamese</th>\n",
       "      <th>Language: xhosa</th>\n",
       "      <th>Language: yiddish</th>\n",
       "      <th>Language: zulu</th>\n",
       "    </tr>\n",
       "  </thead>\n",
       "  <tbody>\n",
       "    <tr>\n",
       "      <th>0</th>\n",
       "      <td>0</td>\n",
       "      <td>0</td>\n",
       "      <td>0</td>\n",
       "      <td>0</td>\n",
       "      <td>0</td>\n",
       "      <td>0</td>\n",
       "      <td>0</td>\n",
       "      <td>1</td>\n",
       "      <td>0</td>\n",
       "      <td>0</td>\n",
       "      <td>...</td>\n",
       "      <td>0</td>\n",
       "      <td>0</td>\n",
       "      <td>0</td>\n",
       "      <td>0</td>\n",
       "      <td>0</td>\n",
       "      <td>0</td>\n",
       "      <td>0</td>\n",
       "      <td>0</td>\n",
       "      <td>0</td>\n",
       "      <td>0</td>\n",
       "    </tr>\n",
       "    <tr>\n",
       "      <th>1</th>\n",
       "      <td>0</td>\n",
       "      <td>0</td>\n",
       "      <td>0</td>\n",
       "      <td>0</td>\n",
       "      <td>0</td>\n",
       "      <td>0</td>\n",
       "      <td>0</td>\n",
       "      <td>0</td>\n",
       "      <td>0</td>\n",
       "      <td>0</td>\n",
       "      <td>...</td>\n",
       "      <td>0</td>\n",
       "      <td>0</td>\n",
       "      <td>0</td>\n",
       "      <td>0</td>\n",
       "      <td>0</td>\n",
       "      <td>0</td>\n",
       "      <td>0</td>\n",
       "      <td>0</td>\n",
       "      <td>0</td>\n",
       "      <td>0</td>\n",
       "    </tr>\n",
       "    <tr>\n",
       "      <th>2</th>\n",
       "      <td>0</td>\n",
       "      <td>1</td>\n",
       "      <td>0</td>\n",
       "      <td>0</td>\n",
       "      <td>0</td>\n",
       "      <td>0</td>\n",
       "      <td>0</td>\n",
       "      <td>1</td>\n",
       "      <td>0</td>\n",
       "      <td>0</td>\n",
       "      <td>...</td>\n",
       "      <td>1</td>\n",
       "      <td>0</td>\n",
       "      <td>0</td>\n",
       "      <td>0</td>\n",
       "      <td>0</td>\n",
       "      <td>0</td>\n",
       "      <td>0</td>\n",
       "      <td>0</td>\n",
       "      <td>0</td>\n",
       "      <td>0</td>\n",
       "    </tr>\n",
       "    <tr>\n",
       "      <th>3</th>\n",
       "      <td>0</td>\n",
       "      <td>0</td>\n",
       "      <td>0</td>\n",
       "      <td>0</td>\n",
       "      <td>0</td>\n",
       "      <td>0</td>\n",
       "      <td>0</td>\n",
       "      <td>1</td>\n",
       "      <td>0</td>\n",
       "      <td>0</td>\n",
       "      <td>...</td>\n",
       "      <td>0</td>\n",
       "      <td>0</td>\n",
       "      <td>0</td>\n",
       "      <td>1</td>\n",
       "      <td>0</td>\n",
       "      <td>0</td>\n",
       "      <td>0</td>\n",
       "      <td>0</td>\n",
       "      <td>0</td>\n",
       "      <td>0</td>\n",
       "    </tr>\n",
       "    <tr>\n",
       "      <th>4</th>\n",
       "      <td>0</td>\n",
       "      <td>0</td>\n",
       "      <td>0</td>\n",
       "      <td>0</td>\n",
       "      <td>0</td>\n",
       "      <td>0</td>\n",
       "      <td>0</td>\n",
       "      <td>1</td>\n",
       "      <td>0</td>\n",
       "      <td>0</td>\n",
       "      <td>...</td>\n",
       "      <td>0</td>\n",
       "      <td>0</td>\n",
       "      <td>0</td>\n",
       "      <td>0</td>\n",
       "      <td>0</td>\n",
       "      <td>0</td>\n",
       "      <td>0</td>\n",
       "      <td>0</td>\n",
       "      <td>0</td>\n",
       "      <td>0</td>\n",
       "    </tr>\n",
       "  </tbody>\n",
       "</table>\n",
       "<p>5 rows × 44 columns</p>\n",
       "</div>"
      ],
      "text/plain": [
       "   Language: american sign language  Language: arabic  Language: awadhi  \\\n",
       "0                                 0                 0                 0   \n",
       "1                                 0                 0                 0   \n",
       "2                                 0                 1                 0   \n",
       "3                                 0                 0                 0   \n",
       "4                                 0                 0                 0   \n",
       "\n",
       "   Language: belarusian  Language: cantonese  Language: czech  \\\n",
       "0                     0                    0                0   \n",
       "1                     0                    0                0   \n",
       "2                     0                    0                0   \n",
       "3                     0                    0                0   \n",
       "4                     0                    0                0   \n",
       "\n",
       "   Language: danish  Language: english  Language: esperanto  Language: french  \\\n",
       "0                 0                  1                    0                 0   \n",
       "1                 0                  0                    0                 0   \n",
       "2                 0                  1                    0                 0   \n",
       "3                 0                  1                    0                 0   \n",
       "4                 0                  1                    0                 0   \n",
       "\n",
       "        ...        Language: spanish  Language: swahili  Language: swedish  \\\n",
       "0       ...                        0                  0                  0   \n",
       "1       ...                        0                  0                  0   \n",
       "2       ...                        1                  0                  0   \n",
       "3       ...                        0                  0                  0   \n",
       "4       ...                        0                  0                  0   \n",
       "\n",
       "   Language: thai  Language: turkish  Language: urdu  Language: vietnamese  \\\n",
       "0               0                  0               0                     0   \n",
       "1               0                  0               0                     0   \n",
       "2               0                  0               0                     0   \n",
       "3               1                  0               0                     0   \n",
       "4               0                  0               0                     0   \n",
       "\n",
       "   Language: xhosa  Language: yiddish  Language: zulu  \n",
       "0                0                  0               0  \n",
       "1                0                  0               0  \n",
       "2                0                  0               0  \n",
       "3                0                  0               0  \n",
       "4                0                  0               0  \n",
       "\n",
       "[5 rows x 44 columns]"
      ]
     },
     "execution_count": 43,
     "metadata": {},
     "output_type": "execute_result"
    }
   ],
   "source": [
    "# CountVectorize Language Column (dummy variables)\n",
    "\n",
    "cv = CountVectorizer(tokenizer=lambda x: x.split(', '),binary=True, max_features=50)\n",
    "data = cv.fit_transform(df.Language).todense()\n",
    "columns = ['Language: '+c for c in cv.get_feature_names()]\n",
    "lang_df = pd.DataFrame(data, columns=columns)\n",
    "lang_df.head()"
   ]
  },
  {
   "cell_type": "code",
   "execution_count": 44,
   "metadata": {
    "collapsed": false
   },
   "outputs": [
    {
     "data": {
      "text/plain": [
       "Language: american sign language      1\n",
       "Language: arabic                      8\n",
       "Language: awadhi                      1\n",
       "Language: belarusian                  1\n",
       "Language: cantonese                   5\n",
       "Language: czech                       1\n",
       "Language: danish                      2\n",
       "Language: english                   211\n",
       "Language: esperanto                   1\n",
       "Language: french                     42\n",
       "dtype: int64"
      ]
     },
     "execution_count": 44,
     "metadata": {},
     "output_type": "execute_result"
    }
   ],
   "source": [
    "# Sum of movies by Language (choose which column to drop)\n",
    "\n",
    "lang_df.sum().head(10)"
   ]
  },
  {
   "cell_type": "code",
   "execution_count": 45,
   "metadata": {
    "collapsed": true
   },
   "outputs": [],
   "source": [
    "# drop 'Language: american sign language' for classification purposes\n",
    "\n",
    "lang_df.drop('Language: american sign language',axis=1, inplace=True)"
   ]
  },
  {
   "cell_type": "code",
   "execution_count": 46,
   "metadata": {
    "collapsed": false
   },
   "outputs": [],
   "source": [
    "# combine language and main dataframe\n",
    "\n",
    "df = pd.concat([df, lang_df], axis = 1)"
   ]
  },
  {
   "cell_type": "code",
   "execution_count": 47,
   "metadata": {
    "collapsed": false
   },
   "outputs": [
    {
     "data": {
      "text/html": [
       "<div>\n",
       "<table border=\"1\" class=\"dataframe\">\n",
       "  <thead>\n",
       "    <tr style=\"text-align: right;\">\n",
       "      <th></th>\n",
       "      <th>Country: algeria</th>\n",
       "      <th>Country: argentina</th>\n",
       "      <th>Country: australia</th>\n",
       "      <th>Country: austria</th>\n",
       "      <th>Country: belgium</th>\n",
       "      <th>Country: brazil</th>\n",
       "      <th>Country: canada</th>\n",
       "      <th>Country: china</th>\n",
       "      <th>Country: denmark</th>\n",
       "      <th>Country: france</th>\n",
       "      <th>...</th>\n",
       "      <th>Country: south korea</th>\n",
       "      <th>Country: soviet union</th>\n",
       "      <th>Country: spain</th>\n",
       "      <th>Country: sweden</th>\n",
       "      <th>Country: switzerland</th>\n",
       "      <th>Country: taiwan</th>\n",
       "      <th>Country: uk</th>\n",
       "      <th>Country: united arab emirates</th>\n",
       "      <th>Country: usa</th>\n",
       "      <th>Country: west germany</th>\n",
       "    </tr>\n",
       "  </thead>\n",
       "  <tbody>\n",
       "    <tr>\n",
       "      <th>0</th>\n",
       "      <td>0</td>\n",
       "      <td>0</td>\n",
       "      <td>0</td>\n",
       "      <td>0</td>\n",
       "      <td>0</td>\n",
       "      <td>0</td>\n",
       "      <td>0</td>\n",
       "      <td>0</td>\n",
       "      <td>0</td>\n",
       "      <td>0</td>\n",
       "      <td>...</td>\n",
       "      <td>0</td>\n",
       "      <td>0</td>\n",
       "      <td>0</td>\n",
       "      <td>0</td>\n",
       "      <td>0</td>\n",
       "      <td>0</td>\n",
       "      <td>0</td>\n",
       "      <td>0</td>\n",
       "      <td>1</td>\n",
       "      <td>0</td>\n",
       "    </tr>\n",
       "    <tr>\n",
       "      <th>1</th>\n",
       "      <td>0</td>\n",
       "      <td>0</td>\n",
       "      <td>0</td>\n",
       "      <td>0</td>\n",
       "      <td>0</td>\n",
       "      <td>0</td>\n",
       "      <td>0</td>\n",
       "      <td>0</td>\n",
       "      <td>0</td>\n",
       "      <td>0</td>\n",
       "      <td>...</td>\n",
       "      <td>0</td>\n",
       "      <td>0</td>\n",
       "      <td>0</td>\n",
       "      <td>0</td>\n",
       "      <td>0</td>\n",
       "      <td>0</td>\n",
       "      <td>0</td>\n",
       "      <td>0</td>\n",
       "      <td>0</td>\n",
       "      <td>0</td>\n",
       "    </tr>\n",
       "    <tr>\n",
       "      <th>2</th>\n",
       "      <td>0</td>\n",
       "      <td>0</td>\n",
       "      <td>0</td>\n",
       "      <td>0</td>\n",
       "      <td>0</td>\n",
       "      <td>0</td>\n",
       "      <td>0</td>\n",
       "      <td>0</td>\n",
       "      <td>0</td>\n",
       "      <td>0</td>\n",
       "      <td>...</td>\n",
       "      <td>0</td>\n",
       "      <td>0</td>\n",
       "      <td>0</td>\n",
       "      <td>0</td>\n",
       "      <td>0</td>\n",
       "      <td>0</td>\n",
       "      <td>0</td>\n",
       "      <td>0</td>\n",
       "      <td>1</td>\n",
       "      <td>0</td>\n",
       "    </tr>\n",
       "    <tr>\n",
       "      <th>3</th>\n",
       "      <td>0</td>\n",
       "      <td>0</td>\n",
       "      <td>0</td>\n",
       "      <td>0</td>\n",
       "      <td>0</td>\n",
       "      <td>0</td>\n",
       "      <td>0</td>\n",
       "      <td>0</td>\n",
       "      <td>0</td>\n",
       "      <td>0</td>\n",
       "      <td>...</td>\n",
       "      <td>0</td>\n",
       "      <td>0</td>\n",
       "      <td>0</td>\n",
       "      <td>0</td>\n",
       "      <td>0</td>\n",
       "      <td>0</td>\n",
       "      <td>1</td>\n",
       "      <td>0</td>\n",
       "      <td>1</td>\n",
       "      <td>0</td>\n",
       "    </tr>\n",
       "    <tr>\n",
       "      <th>4</th>\n",
       "      <td>0</td>\n",
       "      <td>0</td>\n",
       "      <td>0</td>\n",
       "      <td>0</td>\n",
       "      <td>0</td>\n",
       "      <td>0</td>\n",
       "      <td>0</td>\n",
       "      <td>0</td>\n",
       "      <td>0</td>\n",
       "      <td>0</td>\n",
       "      <td>...</td>\n",
       "      <td>0</td>\n",
       "      <td>0</td>\n",
       "      <td>0</td>\n",
       "      <td>0</td>\n",
       "      <td>0</td>\n",
       "      <td>0</td>\n",
       "      <td>0</td>\n",
       "      <td>0</td>\n",
       "      <td>1</td>\n",
       "      <td>0</td>\n",
       "    </tr>\n",
       "  </tbody>\n",
       "</table>\n",
       "<p>5 rows × 36 columns</p>\n",
       "</div>"
      ],
      "text/plain": [
       "   Country: algeria  Country: argentina  Country: australia  Country: austria  \\\n",
       "0                 0                   0                   0                 0   \n",
       "1                 0                   0                   0                 0   \n",
       "2                 0                   0                   0                 0   \n",
       "3                 0                   0                   0                 0   \n",
       "4                 0                   0                   0                 0   \n",
       "\n",
       "   Country: belgium  Country: brazil  Country: canada  Country: china  \\\n",
       "0                 0                0                0               0   \n",
       "1                 0                0                0               0   \n",
       "2                 0                0                0               0   \n",
       "3                 0                0                0               0   \n",
       "4                 0                0                0               0   \n",
       "\n",
       "   Country: denmark  Country: france          ...            \\\n",
       "0                 0                0          ...             \n",
       "1                 0                0          ...             \n",
       "2                 0                0          ...             \n",
       "3                 0                0          ...             \n",
       "4                 0                0          ...             \n",
       "\n",
       "   Country: south korea  Country: soviet union  Country: spain  \\\n",
       "0                     0                      0               0   \n",
       "1                     0                      0               0   \n",
       "2                     0                      0               0   \n",
       "3                     0                      0               0   \n",
       "4                     0                      0               0   \n",
       "\n",
       "   Country: sweden  Country: switzerland  Country: taiwan  Country: uk  \\\n",
       "0                0                     0                0            0   \n",
       "1                0                     0                0            0   \n",
       "2                0                     0                0            0   \n",
       "3                0                     0                0            1   \n",
       "4                0                     0                0            0   \n",
       "\n",
       "   Country: united arab emirates  Country: usa  Country: west germany  \n",
       "0                              0             1                      0  \n",
       "1                              0             0                      0  \n",
       "2                              0             1                      0  \n",
       "3                              0             1                      0  \n",
       "4                              0             1                      0  \n",
       "\n",
       "[5 rows x 36 columns]"
      ]
     },
     "execution_count": 47,
     "metadata": {},
     "output_type": "execute_result"
    }
   ],
   "source": [
    "# CountVectorize Country Column (dummy variables)\n",
    "\n",
    "cv = CountVectorizer(tokenizer=lambda x: x.split(', '),binary=True, max_features=50)\n",
    "data = cv.fit_transform(df.Country).todense()\n",
    "columns = ['Country: '+c for c in cv.get_feature_names()]\n",
    "coun_df = pd.DataFrame(data, columns=columns)\n",
    "coun_df.head()"
   ]
  },
  {
   "cell_type": "code",
   "execution_count": 48,
   "metadata": {
    "collapsed": false
   },
   "outputs": [
    {
     "data": {
      "text/plain": [
       "Country: algeria       1\n",
       "Country: argentina     2\n",
       "Country: australia     3\n",
       "Country: austria       2\n",
       "Country: belgium       1\n",
       "Country: brazil        1\n",
       "Country: canada        4\n",
       "Country: china         1\n",
       "Country: denmark       2\n",
       "Country: france       20\n",
       "dtype: int64"
      ]
     },
     "execution_count": 48,
     "metadata": {},
     "output_type": "execute_result"
    }
   ],
   "source": [
    "# Sum of movies by country (choose which column to drop)\n",
    "\n",
    "coun_df.sum().head(10)"
   ]
  },
  {
   "cell_type": "code",
   "execution_count": 49,
   "metadata": {
    "collapsed": false
   },
   "outputs": [],
   "source": [
    "# drop 'Country: luxemborg' for classification purposes\n",
    "\n",
    "coun_df.drop('Country: luxembourg',axis=1, inplace=True)"
   ]
  },
  {
   "cell_type": "code",
   "execution_count": 50,
   "metadata": {
    "collapsed": true
   },
   "outputs": [],
   "source": [
    "# combine country and main dataframe\n",
    "\n",
    "df = pd.concat([df, coun_df], axis = 1)"
   ]
  },
  {
   "cell_type": "code",
   "execution_count": 51,
   "metadata": {
    "collapsed": false
   },
   "outputs": [
    {
     "data": {
      "text/html": [
       "<div>\n",
       "<table border=\"1\" class=\"dataframe\">\n",
       "  <thead>\n",
       "    <tr style=\"text-align: right;\">\n",
       "      <th></th>\n",
       "      <th>Director: akira kurosawa</th>\n",
       "      <th>Director: alejandro g. iñárritu</th>\n",
       "      <th>Director: alfred hitchcock</th>\n",
       "      <th>Director: andrew stanton</th>\n",
       "      <th>Director: billy wilder</th>\n",
       "      <th>Director: charles chaplin</th>\n",
       "      <th>Director: christopher nolan</th>\n",
       "      <th>Director: clint eastwood</th>\n",
       "      <th>Director: david fincher</th>\n",
       "      <th>Director: david lean</th>\n",
       "      <th>...</th>\n",
       "      <th>Director: roman polanski</th>\n",
       "      <th>Director: ron howard</th>\n",
       "      <th>Director: sergio leone</th>\n",
       "      <th>Director: sidney lumet</th>\n",
       "      <th>Director: stanley kubrick</th>\n",
       "      <th>Director: steven spielberg</th>\n",
       "      <th>Director: terry gilliam</th>\n",
       "      <th>Director: terry jones</th>\n",
       "      <th>Director: victor fleming</th>\n",
       "      <th>Director: william wyler</th>\n",
       "    </tr>\n",
       "  </thead>\n",
       "  <tbody>\n",
       "    <tr>\n",
       "      <th>0</th>\n",
       "      <td>0</td>\n",
       "      <td>0</td>\n",
       "      <td>0</td>\n",
       "      <td>0</td>\n",
       "      <td>0</td>\n",
       "      <td>0</td>\n",
       "      <td>0</td>\n",
       "      <td>0</td>\n",
       "      <td>0</td>\n",
       "      <td>0</td>\n",
       "      <td>...</td>\n",
       "      <td>0</td>\n",
       "      <td>0</td>\n",
       "      <td>0</td>\n",
       "      <td>0</td>\n",
       "      <td>0</td>\n",
       "      <td>0</td>\n",
       "      <td>0</td>\n",
       "      <td>0</td>\n",
       "      <td>0</td>\n",
       "      <td>0</td>\n",
       "    </tr>\n",
       "    <tr>\n",
       "      <th>1</th>\n",
       "      <td>1</td>\n",
       "      <td>0</td>\n",
       "      <td>0</td>\n",
       "      <td>0</td>\n",
       "      <td>0</td>\n",
       "      <td>0</td>\n",
       "      <td>0</td>\n",
       "      <td>0</td>\n",
       "      <td>0</td>\n",
       "      <td>0</td>\n",
       "      <td>...</td>\n",
       "      <td>0</td>\n",
       "      <td>0</td>\n",
       "      <td>0</td>\n",
       "      <td>0</td>\n",
       "      <td>0</td>\n",
       "      <td>0</td>\n",
       "      <td>0</td>\n",
       "      <td>0</td>\n",
       "      <td>0</td>\n",
       "      <td>0</td>\n",
       "    </tr>\n",
       "    <tr>\n",
       "      <th>2</th>\n",
       "      <td>0</td>\n",
       "      <td>0</td>\n",
       "      <td>0</td>\n",
       "      <td>0</td>\n",
       "      <td>0</td>\n",
       "      <td>0</td>\n",
       "      <td>0</td>\n",
       "      <td>0</td>\n",
       "      <td>0</td>\n",
       "      <td>0</td>\n",
       "      <td>...</td>\n",
       "      <td>0</td>\n",
       "      <td>0</td>\n",
       "      <td>0</td>\n",
       "      <td>0</td>\n",
       "      <td>0</td>\n",
       "      <td>1</td>\n",
       "      <td>0</td>\n",
       "      <td>0</td>\n",
       "      <td>0</td>\n",
       "      <td>0</td>\n",
       "    </tr>\n",
       "    <tr>\n",
       "      <th>3</th>\n",
       "      <td>0</td>\n",
       "      <td>0</td>\n",
       "      <td>0</td>\n",
       "      <td>0</td>\n",
       "      <td>0</td>\n",
       "      <td>0</td>\n",
       "      <td>0</td>\n",
       "      <td>0</td>\n",
       "      <td>0</td>\n",
       "      <td>1</td>\n",
       "      <td>...</td>\n",
       "      <td>0</td>\n",
       "      <td>0</td>\n",
       "      <td>0</td>\n",
       "      <td>0</td>\n",
       "      <td>0</td>\n",
       "      <td>0</td>\n",
       "      <td>0</td>\n",
       "      <td>0</td>\n",
       "      <td>0</td>\n",
       "      <td>0</td>\n",
       "    </tr>\n",
       "    <tr>\n",
       "      <th>4</th>\n",
       "      <td>0</td>\n",
       "      <td>0</td>\n",
       "      <td>0</td>\n",
       "      <td>0</td>\n",
       "      <td>0</td>\n",
       "      <td>0</td>\n",
       "      <td>0</td>\n",
       "      <td>0</td>\n",
       "      <td>0</td>\n",
       "      <td>0</td>\n",
       "      <td>...</td>\n",
       "      <td>0</td>\n",
       "      <td>0</td>\n",
       "      <td>0</td>\n",
       "      <td>0</td>\n",
       "      <td>0</td>\n",
       "      <td>0</td>\n",
       "      <td>0</td>\n",
       "      <td>0</td>\n",
       "      <td>0</td>\n",
       "      <td>0</td>\n",
       "    </tr>\n",
       "  </tbody>\n",
       "</table>\n",
       "<p>5 rows × 50 columns</p>\n",
       "</div>"
      ],
      "text/plain": [
       "   Director: akira kurosawa  Director: alejandro g. iñárritu  \\\n",
       "0                         0                                0   \n",
       "1                         1                                0   \n",
       "2                         0                                0   \n",
       "3                         0                                0   \n",
       "4                         0                                0   \n",
       "\n",
       "   Director: alfred hitchcock  Director: andrew stanton  \\\n",
       "0                           0                         0   \n",
       "1                           0                         0   \n",
       "2                           0                         0   \n",
       "3                           0                         0   \n",
       "4                           0                         0   \n",
       "\n",
       "   Director: billy wilder  Director: charles chaplin  \\\n",
       "0                       0                          0   \n",
       "1                       0                          0   \n",
       "2                       0                          0   \n",
       "3                       0                          0   \n",
       "4                       0                          0   \n",
       "\n",
       "   Director: christopher nolan  Director: clint eastwood  \\\n",
       "0                            0                         0   \n",
       "1                            0                         0   \n",
       "2                            0                         0   \n",
       "3                            0                         0   \n",
       "4                            0                         0   \n",
       "\n",
       "   Director: david fincher  Director: david lean           ...             \\\n",
       "0                        0                     0           ...              \n",
       "1                        0                     0           ...              \n",
       "2                        0                     0           ...              \n",
       "3                        0                     1           ...              \n",
       "4                        0                     0           ...              \n",
       "\n",
       "   Director: roman polanski  Director: ron howard  Director: sergio leone  \\\n",
       "0                         0                     0                       0   \n",
       "1                         0                     0                       0   \n",
       "2                         0                     0                       0   \n",
       "3                         0                     0                       0   \n",
       "4                         0                     0                       0   \n",
       "\n",
       "   Director: sidney lumet  Director: stanley kubrick  \\\n",
       "0                       0                          0   \n",
       "1                       0                          0   \n",
       "2                       0                          0   \n",
       "3                       0                          0   \n",
       "4                       0                          0   \n",
       "\n",
       "   Director: steven spielberg  Director: terry gilliam  Director: terry jones  \\\n",
       "0                           0                        0                      0   \n",
       "1                           0                        0                      0   \n",
       "2                           1                        0                      0   \n",
       "3                           0                        0                      0   \n",
       "4                           0                        0                      0   \n",
       "\n",
       "   Director: victor fleming  Director: william wyler  \n",
       "0                         0                        0  \n",
       "1                         0                        0  \n",
       "2                         0                        0  \n",
       "3                         0                        0  \n",
       "4                         0                        0  \n",
       "\n",
       "[5 rows x 50 columns]"
      ]
     },
     "execution_count": 51,
     "metadata": {},
     "output_type": "execute_result"
    }
   ],
   "source": [
    "# CountVectorize Director Column (dummy variables)\n",
    "\n",
    "cv = CountVectorizer(tokenizer=lambda x: x.split(', '),binary=True, max_features=50)\n",
    "data = cv.fit_transform(df.Director).todense()\n",
    "columns = ['Director: '+c for c in cv.get_feature_names()]\n",
    "direc_df = pd.DataFrame(data, columns=columns)\n",
    "direc_df.head()"
   ]
  },
  {
   "cell_type": "code",
   "execution_count": 52,
   "metadata": {
    "collapsed": false
   },
   "outputs": [
    {
     "data": {
      "text/plain": [
       "Director: akira kurosawa           5\n",
       "Director: alejandro g. iñárritu    2\n",
       "Director: alfred hitchcock         7\n",
       "Director: andrew stanton           2\n",
       "Director: billy wilder             5\n",
       "Director: charles chaplin          5\n",
       "Director: christopher nolan        7\n",
       "Director: clint eastwood           3\n",
       "Director: david fincher            3\n",
       "Director: david lean               2\n",
       "dtype: int64"
      ]
     },
     "execution_count": 52,
     "metadata": {},
     "output_type": "execute_result"
    }
   ],
   "source": [
    "# Sum of movies by director (choose which column to drop)\n",
    "# Don't need to drop due to already dropped (max 50)\n",
    "\n",
    "direc_df.sum().head(10)"
   ]
  },
  {
   "cell_type": "code",
   "execution_count": 53,
   "metadata": {
    "collapsed": true
   },
   "outputs": [],
   "source": [
    "# combine director and main dataframe\n",
    "\n",
    "df = pd.concat([df, direc_df], axis = 1)"
   ]
  },
  {
   "cell_type": "code",
   "execution_count": 54,
   "metadata": {
    "collapsed": false
   },
   "outputs": [],
   "source": [
    "# drop columns Actors, Genre, Language, Plot, Country, Director\n",
    "\n",
    "df.drop(['Actors','Genre','Language','Plot','Country','Director'],axis=1, inplace=True)"
   ]
  },
  {
   "cell_type": "code",
   "execution_count": 55,
   "metadata": {
    "collapsed": false
   },
   "outputs": [],
   "source": [
    "# Convert imdbRating to float\n",
    "\n",
    "df['imdbRating'] = df['imdbRating'].astype(float)"
   ]
  },
  {
   "cell_type": "code",
   "execution_count": 56,
   "metadata": {
    "collapsed": false
   },
   "outputs": [],
   "source": [
    "# Drop duplicates\n",
    "\n",
    "df.drop_duplicates(inplace=True)"
   ]
  },
  {
   "cell_type": "code",
   "execution_count": 57,
   "metadata": {
    "collapsed": false
   },
   "outputs": [
    {
     "data": {
      "text/html": [
       "<div>\n",
       "<table border=\"1\" class=\"dataframe\">\n",
       "  <thead>\n",
       "    <tr style=\"text-align: right;\">\n",
       "      <th></th>\n",
       "      <th>Rated</th>\n",
       "      <th>Released</th>\n",
       "      <th>Runtime</th>\n",
       "      <th>Title</th>\n",
       "      <th>Year</th>\n",
       "      <th>imdbRating</th>\n",
       "      <th>imdbVotes</th>\n",
       "      <th>Gross</th>\n",
       "      <th>genre_action</th>\n",
       "      <th>genre_adventure</th>\n",
       "      <th>...</th>\n",
       "      <th>Director: roman polanski</th>\n",
       "      <th>Director: ron howard</th>\n",
       "      <th>Director: sergio leone</th>\n",
       "      <th>Director: sidney lumet</th>\n",
       "      <th>Director: stanley kubrick</th>\n",
       "      <th>Director: steven spielberg</th>\n",
       "      <th>Director: terry gilliam</th>\n",
       "      <th>Director: terry jones</th>\n",
       "      <th>Director: victor fleming</th>\n",
       "      <th>Director: william wyler</th>\n",
       "    </tr>\n",
       "  </thead>\n",
       "  <tbody>\n",
       "    <tr>\n",
       "      <th>0</th>\n",
       "      <td>R</td>\n",
       "      <td>2014-10-15</td>\n",
       "      <td>107</td>\n",
       "      <td>Whiplash</td>\n",
       "      <td>2014</td>\n",
       "      <td>8.5</td>\n",
       "      <td>413720</td>\n",
       "      <td>13092000.0</td>\n",
       "      <td>0</td>\n",
       "      <td>0</td>\n",
       "      <td>...</td>\n",
       "      <td>0</td>\n",
       "      <td>0</td>\n",
       "      <td>0</td>\n",
       "      <td>0</td>\n",
       "      <td>0</td>\n",
       "      <td>0</td>\n",
       "      <td>0</td>\n",
       "      <td>0</td>\n",
       "      <td>0</td>\n",
       "      <td>0</td>\n",
       "    </tr>\n",
       "    <tr>\n",
       "      <th>1</th>\n",
       "      <td>UNRATED</td>\n",
       "      <td>1956-11-19</td>\n",
       "      <td>207</td>\n",
       "      <td>Seven Samurai</td>\n",
       "      <td>1954</td>\n",
       "      <td>8.7</td>\n",
       "      <td>232249</td>\n",
       "      <td>269061.0</td>\n",
       "      <td>1</td>\n",
       "      <td>1</td>\n",
       "      <td>...</td>\n",
       "      <td>0</td>\n",
       "      <td>0</td>\n",
       "      <td>0</td>\n",
       "      <td>0</td>\n",
       "      <td>0</td>\n",
       "      <td>0</td>\n",
       "      <td>0</td>\n",
       "      <td>0</td>\n",
       "      <td>0</td>\n",
       "      <td>0</td>\n",
       "    </tr>\n",
       "    <tr>\n",
       "      <th>2</th>\n",
       "      <td>PG</td>\n",
       "      <td>1981-06-12</td>\n",
       "      <td>115</td>\n",
       "      <td>Raiders of the Lost Ark</td>\n",
       "      <td>1981</td>\n",
       "      <td>8.5</td>\n",
       "      <td>671034</td>\n",
       "      <td>242374454.0</td>\n",
       "      <td>1</td>\n",
       "      <td>1</td>\n",
       "      <td>...</td>\n",
       "      <td>0</td>\n",
       "      <td>0</td>\n",
       "      <td>0</td>\n",
       "      <td>0</td>\n",
       "      <td>0</td>\n",
       "      <td>1</td>\n",
       "      <td>0</td>\n",
       "      <td>0</td>\n",
       "      <td>0</td>\n",
       "      <td>0</td>\n",
       "    </tr>\n",
       "    <tr>\n",
       "      <th>3</th>\n",
       "      <td>PG</td>\n",
       "      <td>1957-12-14</td>\n",
       "      <td>161</td>\n",
       "      <td>The Bridge on the River Kwai</td>\n",
       "      <td>1957</td>\n",
       "      <td>8.2</td>\n",
       "      <td>151604</td>\n",
       "      <td>27200000.0</td>\n",
       "      <td>0</td>\n",
       "      <td>1</td>\n",
       "      <td>...</td>\n",
       "      <td>0</td>\n",
       "      <td>0</td>\n",
       "      <td>0</td>\n",
       "      <td>0</td>\n",
       "      <td>0</td>\n",
       "      <td>0</td>\n",
       "      <td>0</td>\n",
       "      <td>0</td>\n",
       "      <td>0</td>\n",
       "      <td>0</td>\n",
       "    </tr>\n",
       "    <tr>\n",
       "      <th>4</th>\n",
       "      <td>PG-13</td>\n",
       "      <td>2012-05-04</td>\n",
       "      <td>143</td>\n",
       "      <td>The Avengers</td>\n",
       "      <td>2012</td>\n",
       "      <td>8.1</td>\n",
       "      <td>1010033</td>\n",
       "      <td>623279547.0</td>\n",
       "      <td>1</td>\n",
       "      <td>0</td>\n",
       "      <td>...</td>\n",
       "      <td>0</td>\n",
       "      <td>0</td>\n",
       "      <td>0</td>\n",
       "      <td>0</td>\n",
       "      <td>0</td>\n",
       "      <td>0</td>\n",
       "      <td>0</td>\n",
       "      <td>0</td>\n",
       "      <td>0</td>\n",
       "      <td>0</td>\n",
       "    </tr>\n",
       "  </tbody>\n",
       "</table>\n",
       "<p>5 rows × 206 columns</p>\n",
       "</div>"
      ],
      "text/plain": [
       "     Rated   Released  Runtime                         Title  Year  \\\n",
       "0        R 2014-10-15      107                      Whiplash  2014   \n",
       "1  UNRATED 1956-11-19      207                 Seven Samurai  1954   \n",
       "2       PG 1981-06-12      115       Raiders of the Lost Ark  1981   \n",
       "3       PG 1957-12-14      161  The Bridge on the River Kwai  1957   \n",
       "4    PG-13 2012-05-04      143                  The Avengers  2012   \n",
       "\n",
       "   imdbRating  imdbVotes        Gross  genre_action  genre_adventure  \\\n",
       "0         8.5     413720   13092000.0             0                0   \n",
       "1         8.7     232249     269061.0             1                1   \n",
       "2         8.5     671034  242374454.0             1                1   \n",
       "3         8.2     151604   27200000.0             0                1   \n",
       "4         8.1    1010033  623279547.0             1                0   \n",
       "\n",
       "            ...             Director: roman polanski  Director: ron howard  \\\n",
       "0           ...                                    0                     0   \n",
       "1           ...                                    0                     0   \n",
       "2           ...                                    0                     0   \n",
       "3           ...                                    0                     0   \n",
       "4           ...                                    0                     0   \n",
       "\n",
       "   Director: sergio leone  Director: sidney lumet  Director: stanley kubrick  \\\n",
       "0                       0                       0                          0   \n",
       "1                       0                       0                          0   \n",
       "2                       0                       0                          0   \n",
       "3                       0                       0                          0   \n",
       "4                       0                       0                          0   \n",
       "\n",
       "   Director: steven spielberg  Director: terry gilliam  Director: terry jones  \\\n",
       "0                           0                        0                      0   \n",
       "1                           0                        0                      0   \n",
       "2                           1                        0                      0   \n",
       "3                           0                        0                      0   \n",
       "4                           0                        0                      0   \n",
       "\n",
       "   Director: victor fleming  Director: william wyler  \n",
       "0                         0                        0  \n",
       "1                         0                        0  \n",
       "2                         0                        0  \n",
       "3                         0                        0  \n",
       "4                         0                        0  \n",
       "\n",
       "[5 rows x 206 columns]"
      ]
     },
     "execution_count": 57,
     "metadata": {},
     "output_type": "execute_result"
    }
   ],
   "source": [
    "df.head()"
   ]
  },
  {
   "cell_type": "markdown",
   "metadata": {},
   "source": [
    "# Exploratory Data Analysis (EDA)"
   ]
  },
  {
   "cell_type": "code",
   "execution_count": 58,
   "metadata": {
    "collapsed": true
   },
   "outputs": [],
   "source": [
    "import seaborn as sns"
   ]
  },
  {
   "cell_type": "code",
   "execution_count": 59,
   "metadata": {
    "collapsed": false
   },
   "outputs": [
    {
     "data": {
      "text/html": [
       "<div>\n",
       "<table border=\"1\" class=\"dataframe\">\n",
       "  <thead>\n",
       "    <tr style=\"text-align: right;\">\n",
       "      <th></th>\n",
       "      <th>Runtime</th>\n",
       "      <th>Year</th>\n",
       "      <th>imdbRating</th>\n",
       "      <th>imdbVotes</th>\n",
       "      <th>Gross</th>\n",
       "      <th>genre_action</th>\n",
       "      <th>genre_adventure</th>\n",
       "      <th>genre_animation</th>\n",
       "      <th>genre_biography</th>\n",
       "      <th>genre_comedy</th>\n",
       "      <th>...</th>\n",
       "      <th>Director: roman polanski</th>\n",
       "      <th>Director: ron howard</th>\n",
       "      <th>Director: sergio leone</th>\n",
       "      <th>Director: sidney lumet</th>\n",
       "      <th>Director: stanley kubrick</th>\n",
       "      <th>Director: steven spielberg</th>\n",
       "      <th>Director: terry gilliam</th>\n",
       "      <th>Director: terry jones</th>\n",
       "      <th>Director: victor fleming</th>\n",
       "      <th>Director: william wyler</th>\n",
       "    </tr>\n",
       "  </thead>\n",
       "  <tbody>\n",
       "    <tr>\n",
       "      <th>count</th>\n",
       "      <td>250.000000</td>\n",
       "      <td>250.00000</td>\n",
       "      <td>250.000000</td>\n",
       "      <td>2.500000e+02</td>\n",
       "      <td>2.500000e+02</td>\n",
       "      <td>250.000000</td>\n",
       "      <td>250.000000</td>\n",
       "      <td>250.000000</td>\n",
       "      <td>250.000000</td>\n",
       "      <td>250.000000</td>\n",
       "      <td>...</td>\n",
       "      <td>250.000000</td>\n",
       "      <td>250.000000</td>\n",
       "      <td>250.000000</td>\n",
       "      <td>250.000000</td>\n",
       "      <td>250.000000</td>\n",
       "      <td>250.000000</td>\n",
       "      <td>250.000000</td>\n",
       "      <td>250.000000</td>\n",
       "      <td>250.000000</td>\n",
       "      <td>250.000000</td>\n",
       "    </tr>\n",
       "    <tr>\n",
       "      <th>mean</th>\n",
       "      <td>129.196000</td>\n",
       "      <td>1984.03600</td>\n",
       "      <td>8.311600</td>\n",
       "      <td>4.123158e+05</td>\n",
       "      <td>8.063931e+07</td>\n",
       "      <td>0.152000</td>\n",
       "      <td>0.248000</td>\n",
       "      <td>0.080000</td>\n",
       "      <td>0.104000</td>\n",
       "      <td>0.164000</td>\n",
       "      <td>...</td>\n",
       "      <td>0.008000</td>\n",
       "      <td>0.008000</td>\n",
       "      <td>0.020000</td>\n",
       "      <td>0.012000</td>\n",
       "      <td>0.028000</td>\n",
       "      <td>0.028000</td>\n",
       "      <td>0.008000</td>\n",
       "      <td>0.008000</td>\n",
       "      <td>0.008000</td>\n",
       "      <td>0.012000</td>\n",
       "    </tr>\n",
       "    <tr>\n",
       "      <th>std</th>\n",
       "      <td>32.563524</td>\n",
       "      <td>24.25953</td>\n",
       "      <td>0.231603</td>\n",
       "      <td>3.389860e+05</td>\n",
       "      <td>1.287048e+08</td>\n",
       "      <td>0.359741</td>\n",
       "      <td>0.432718</td>\n",
       "      <td>0.271837</td>\n",
       "      <td>0.305873</td>\n",
       "      <td>0.371018</td>\n",
       "      <td>...</td>\n",
       "      <td>0.089263</td>\n",
       "      <td>0.089263</td>\n",
       "      <td>0.140281</td>\n",
       "      <td>0.109104</td>\n",
       "      <td>0.165304</td>\n",
       "      <td>0.165304</td>\n",
       "      <td>0.089263</td>\n",
       "      <td>0.089263</td>\n",
       "      <td>0.089263</td>\n",
       "      <td>0.109104</td>\n",
       "    </tr>\n",
       "    <tr>\n",
       "      <th>min</th>\n",
       "      <td>67.000000</td>\n",
       "      <td>1921.00000</td>\n",
       "      <td>8.000000</td>\n",
       "      <td>2.627400e+04</td>\n",
       "      <td>0.000000e+00</td>\n",
       "      <td>0.000000</td>\n",
       "      <td>0.000000</td>\n",
       "      <td>0.000000</td>\n",
       "      <td>0.000000</td>\n",
       "      <td>0.000000</td>\n",
       "      <td>...</td>\n",
       "      <td>0.000000</td>\n",
       "      <td>0.000000</td>\n",
       "      <td>0.000000</td>\n",
       "      <td>0.000000</td>\n",
       "      <td>0.000000</td>\n",
       "      <td>0.000000</td>\n",
       "      <td>0.000000</td>\n",
       "      <td>0.000000</td>\n",
       "      <td>0.000000</td>\n",
       "      <td>0.000000</td>\n",
       "    </tr>\n",
       "    <tr>\n",
       "      <th>25%</th>\n",
       "      <td>107.000000</td>\n",
       "      <td>1964.25000</td>\n",
       "      <td>8.100000</td>\n",
       "      <td>1.218620e+05</td>\n",
       "      <td>0.000000e+00</td>\n",
       "      <td>0.000000</td>\n",
       "      <td>0.000000</td>\n",
       "      <td>0.000000</td>\n",
       "      <td>0.000000</td>\n",
       "      <td>0.000000</td>\n",
       "      <td>...</td>\n",
       "      <td>0.000000</td>\n",
       "      <td>0.000000</td>\n",
       "      <td>0.000000</td>\n",
       "      <td>0.000000</td>\n",
       "      <td>0.000000</td>\n",
       "      <td>0.000000</td>\n",
       "      <td>0.000000</td>\n",
       "      <td>0.000000</td>\n",
       "      <td>0.000000</td>\n",
       "      <td>0.000000</td>\n",
       "    </tr>\n",
       "    <tr>\n",
       "      <th>50%</th>\n",
       "      <td>124.000000</td>\n",
       "      <td>1991.00000</td>\n",
       "      <td>8.300000</td>\n",
       "      <td>3.302050e+05</td>\n",
       "      <td>2.118502e+07</td>\n",
       "      <td>0.000000</td>\n",
       "      <td>0.000000</td>\n",
       "      <td>0.000000</td>\n",
       "      <td>0.000000</td>\n",
       "      <td>0.000000</td>\n",
       "      <td>...</td>\n",
       "      <td>0.000000</td>\n",
       "      <td>0.000000</td>\n",
       "      <td>0.000000</td>\n",
       "      <td>0.000000</td>\n",
       "      <td>0.000000</td>\n",
       "      <td>0.000000</td>\n",
       "      <td>0.000000</td>\n",
       "      <td>0.000000</td>\n",
       "      <td>0.000000</td>\n",
       "      <td>0.000000</td>\n",
       "    </tr>\n",
       "    <tr>\n",
       "      <th>75%</th>\n",
       "      <td>143.000000</td>\n",
       "      <td>2003.75000</td>\n",
       "      <td>8.400000</td>\n",
       "      <td>6.027400e+05</td>\n",
       "      <td>1.171431e+08</td>\n",
       "      <td>0.000000</td>\n",
       "      <td>0.000000</td>\n",
       "      <td>0.000000</td>\n",
       "      <td>0.000000</td>\n",
       "      <td>0.000000</td>\n",
       "      <td>...</td>\n",
       "      <td>0.000000</td>\n",
       "      <td>0.000000</td>\n",
       "      <td>0.000000</td>\n",
       "      <td>0.000000</td>\n",
       "      <td>0.000000</td>\n",
       "      <td>0.000000</td>\n",
       "      <td>0.000000</td>\n",
       "      <td>0.000000</td>\n",
       "      <td>0.000000</td>\n",
       "      <td>0.000000</td>\n",
       "    </tr>\n",
       "    <tr>\n",
       "      <th>max</th>\n",
       "      <td>320.000000</td>\n",
       "      <td>2016.00000</td>\n",
       "      <td>9.300000</td>\n",
       "      <td>1.711064e+06</td>\n",
       "      <td>9.366274e+08</td>\n",
       "      <td>1.000000</td>\n",
       "      <td>1.000000</td>\n",
       "      <td>1.000000</td>\n",
       "      <td>1.000000</td>\n",
       "      <td>1.000000</td>\n",
       "      <td>...</td>\n",
       "      <td>1.000000</td>\n",
       "      <td>1.000000</td>\n",
       "      <td>1.000000</td>\n",
       "      <td>1.000000</td>\n",
       "      <td>1.000000</td>\n",
       "      <td>1.000000</td>\n",
       "      <td>1.000000</td>\n",
       "      <td>1.000000</td>\n",
       "      <td>1.000000</td>\n",
       "      <td>1.000000</td>\n",
       "    </tr>\n",
       "  </tbody>\n",
       "</table>\n",
       "<p>8 rows × 203 columns</p>\n",
       "</div>"
      ],
      "text/plain": [
       "          Runtime        Year  imdbRating     imdbVotes         Gross  \\\n",
       "count  250.000000   250.00000  250.000000  2.500000e+02  2.500000e+02   \n",
       "mean   129.196000  1984.03600    8.311600  4.123158e+05  8.063931e+07   \n",
       "std     32.563524    24.25953    0.231603  3.389860e+05  1.287048e+08   \n",
       "min     67.000000  1921.00000    8.000000  2.627400e+04  0.000000e+00   \n",
       "25%    107.000000  1964.25000    8.100000  1.218620e+05  0.000000e+00   \n",
       "50%    124.000000  1991.00000    8.300000  3.302050e+05  2.118502e+07   \n",
       "75%    143.000000  2003.75000    8.400000  6.027400e+05  1.171431e+08   \n",
       "max    320.000000  2016.00000    9.300000  1.711064e+06  9.366274e+08   \n",
       "\n",
       "       genre_action  genre_adventure  genre_animation  genre_biography  \\\n",
       "count    250.000000       250.000000       250.000000       250.000000   \n",
       "mean       0.152000         0.248000         0.080000         0.104000   \n",
       "std        0.359741         0.432718         0.271837         0.305873   \n",
       "min        0.000000         0.000000         0.000000         0.000000   \n",
       "25%        0.000000         0.000000         0.000000         0.000000   \n",
       "50%        0.000000         0.000000         0.000000         0.000000   \n",
       "75%        0.000000         0.000000         0.000000         0.000000   \n",
       "max        1.000000         1.000000         1.000000         1.000000   \n",
       "\n",
       "       genre_comedy           ...             Director: roman polanski  \\\n",
       "count    250.000000           ...                           250.000000   \n",
       "mean       0.164000           ...                             0.008000   \n",
       "std        0.371018           ...                             0.089263   \n",
       "min        0.000000           ...                             0.000000   \n",
       "25%        0.000000           ...                             0.000000   \n",
       "50%        0.000000           ...                             0.000000   \n",
       "75%        0.000000           ...                             0.000000   \n",
       "max        1.000000           ...                             1.000000   \n",
       "\n",
       "       Director: ron howard  Director: sergio leone  Director: sidney lumet  \\\n",
       "count            250.000000              250.000000              250.000000   \n",
       "mean               0.008000                0.020000                0.012000   \n",
       "std                0.089263                0.140281                0.109104   \n",
       "min                0.000000                0.000000                0.000000   \n",
       "25%                0.000000                0.000000                0.000000   \n",
       "50%                0.000000                0.000000                0.000000   \n",
       "75%                0.000000                0.000000                0.000000   \n",
       "max                1.000000                1.000000                1.000000   \n",
       "\n",
       "       Director: stanley kubrick  Director: steven spielberg  \\\n",
       "count                 250.000000                  250.000000   \n",
       "mean                    0.028000                    0.028000   \n",
       "std                     0.165304                    0.165304   \n",
       "min                     0.000000                    0.000000   \n",
       "25%                     0.000000                    0.000000   \n",
       "50%                     0.000000                    0.000000   \n",
       "75%                     0.000000                    0.000000   \n",
       "max                     1.000000                    1.000000   \n",
       "\n",
       "       Director: terry gilliam  Director: terry jones  \\\n",
       "count               250.000000             250.000000   \n",
       "mean                  0.008000               0.008000   \n",
       "std                   0.089263               0.089263   \n",
       "min                   0.000000               0.000000   \n",
       "25%                   0.000000               0.000000   \n",
       "50%                   0.000000               0.000000   \n",
       "75%                   0.000000               0.000000   \n",
       "max                   1.000000               1.000000   \n",
       "\n",
       "       Director: victor fleming  Director: william wyler  \n",
       "count                250.000000               250.000000  \n",
       "mean                   0.008000                 0.012000  \n",
       "std                    0.089263                 0.109104  \n",
       "min                    0.000000                 0.000000  \n",
       "25%                    0.000000                 0.000000  \n",
       "50%                    0.000000                 0.000000  \n",
       "75%                    0.000000                 0.000000  \n",
       "max                    1.000000                 1.000000  \n",
       "\n",
       "[8 rows x 203 columns]"
      ]
     },
     "execution_count": 59,
     "metadata": {},
     "output_type": "execute_result"
    }
   ],
   "source": [
    "# Describe the data\n",
    "df.describe()"
   ]
  },
  {
   "cell_type": "code",
   "execution_count": 60,
   "metadata": {
    "collapsed": false
   },
   "outputs": [
    {
     "data": {
      "text/html": [
       "<div>\n",
       "<table border=\"1\" class=\"dataframe\">\n",
       "  <thead>\n",
       "    <tr style=\"text-align: right;\">\n",
       "      <th></th>\n",
       "      <th>Runtime</th>\n",
       "      <th>Year</th>\n",
       "      <th>imdbRating</th>\n",
       "      <th>imdbVotes</th>\n",
       "    </tr>\n",
       "  </thead>\n",
       "  <tbody>\n",
       "    <tr>\n",
       "      <th>Runtime</th>\n",
       "      <td>1.000000</td>\n",
       "      <td>0.143044</td>\n",
       "      <td>0.218930</td>\n",
       "      <td>0.164775</td>\n",
       "    </tr>\n",
       "    <tr>\n",
       "      <th>Year</th>\n",
       "      <td>0.143044</td>\n",
       "      <td>1.000000</td>\n",
       "      <td>-0.046964</td>\n",
       "      <td>0.492797</td>\n",
       "    </tr>\n",
       "    <tr>\n",
       "      <th>imdbRating</th>\n",
       "      <td>0.218930</td>\n",
       "      <td>-0.046964</td>\n",
       "      <td>1.000000</td>\n",
       "      <td>0.554620</td>\n",
       "    </tr>\n",
       "    <tr>\n",
       "      <th>imdbVotes</th>\n",
       "      <td>0.164775</td>\n",
       "      <td>0.492797</td>\n",
       "      <td>0.554620</td>\n",
       "      <td>1.000000</td>\n",
       "    </tr>\n",
       "  </tbody>\n",
       "</table>\n",
       "</div>"
      ],
      "text/plain": [
       "             Runtime      Year  imdbRating  imdbVotes\n",
       "Runtime     1.000000  0.143044    0.218930   0.164775\n",
       "Year        0.143044  1.000000   -0.046964   0.492797\n",
       "imdbRating  0.218930 -0.046964    1.000000   0.554620\n",
       "imdbVotes   0.164775  0.492797    0.554620   1.000000"
      ]
     },
     "execution_count": 60,
     "metadata": {},
     "output_type": "execute_result"
    }
   ],
   "source": [
    "# Correlation of features\n",
    "df3 = df[['Runtime','Year','imdbRating','imdbVotes']]\n",
    "df3.corr()"
   ]
  },
  {
   "cell_type": "code",
   "execution_count": 61,
   "metadata": {
    "collapsed": false
   },
   "outputs": [
    {
     "data": {
      "image/png": "[encoded data removed]",
      "text/plain": [
       "<matplotlib.figure.Figure at 0x1175b2f50>"
      ]
     },
     "metadata": {},
     "output_type": "display_data"
    }
   ],
   "source": [
    "# Heatmap of correlation between features\n",
    "sns.heatmap(df3.corr());"
   ]
  },
  {
   "cell_type": "code",
   "execution_count": 62,
   "metadata": {
    "collapsed": false
   },
   "outputs": [
    {
     "data": {
      "text/html": [
       "<div>\n",
       "<table border=\"1\" class=\"dataframe\">\n",
       "  <thead>\n",
       "    <tr style=\"text-align: right;\">\n",
       "      <th></th>\n",
       "      <th>Title</th>\n",
       "      <th>Gross</th>\n",
       "    </tr>\n",
       "  </thead>\n",
       "  <tbody>\n",
       "    <tr>\n",
       "      <th>160</th>\n",
       "      <td>Star Wars: The Force Awakens</td>\n",
       "      <td>936627416.0</td>\n",
       "    </tr>\n",
       "    <tr>\n",
       "      <th>4</th>\n",
       "      <td>The Avengers</td>\n",
       "      <td>623279547.0</td>\n",
       "    </tr>\n",
       "    <tr>\n",
       "      <th>37</th>\n",
       "      <td>The Dark Knight</td>\n",
       "      <td>533316061.0</td>\n",
       "    </tr>\n",
       "    <tr>\n",
       "      <th>235</th>\n",
       "      <td>Star Wars: Episode IV - A New Hope</td>\n",
       "      <td>460935665.0</td>\n",
       "    </tr>\n",
       "    <tr>\n",
       "      <th>159</th>\n",
       "      <td>The Dark Knight Rises</td>\n",
       "      <td>448130642.0</td>\n",
       "    </tr>\n",
       "    <tr>\n",
       "      <th>48</th>\n",
       "      <td>The Lion King</td>\n",
       "      <td>422783777.0</td>\n",
       "    </tr>\n",
       "    <tr>\n",
       "      <th>100</th>\n",
       "      <td>Toy Story 3</td>\n",
       "      <td>414984497.0</td>\n",
       "    </tr>\n",
       "    <tr>\n",
       "      <th>68</th>\n",
       "      <td>Harry Potter and the Deathly Hallows: Part 2</td>\n",
       "      <td>380955619.0</td>\n",
       "    </tr>\n",
       "    <tr>\n",
       "      <th>9</th>\n",
       "      <td>Finding Nemo</td>\n",
       "      <td>380838870.0</td>\n",
       "    </tr>\n",
       "    <tr>\n",
       "      <th>78</th>\n",
       "      <td>The Lord of the Rings: The Return of the King</td>\n",
       "      <td>377019252.0</td>\n",
       "    </tr>\n",
       "  </tbody>\n",
       "</table>\n",
       "</div>"
      ],
      "text/plain": [
       "                                             Title        Gross\n",
       "160                   Star Wars: The Force Awakens  936627416.0\n",
       "4                                     The Avengers  623279547.0\n",
       "37                                 The Dark Knight  533316061.0\n",
       "235             Star Wars: Episode IV - A New Hope  460935665.0\n",
       "159                          The Dark Knight Rises  448130642.0\n",
       "48                                   The Lion King  422783777.0\n",
       "100                                    Toy Story 3  414984497.0\n",
       "68    Harry Potter and the Deathly Hallows: Part 2  380955619.0\n",
       "9                                     Finding Nemo  380838870.0\n",
       "78   The Lord of the Rings: The Return of the King  377019252.0"
      ]
     },
     "execution_count": 62,
     "metadata": {},
     "output_type": "execute_result"
    }
   ],
   "source": [
    "# Top Grossing Movies\n",
    "\n",
    "tgm = df[['Title','Gross']].sort_values('Gross', ascending = False).head(10)\n",
    "tgm"
   ]
  },
  {
   "cell_type": "code",
   "execution_count": 63,
   "metadata": {
    "collapsed": false
   },
   "outputs": [
    {
     "data": {
      "image/png": "[encoded data removed]",
      "text/plain": [
       "<matplotlib.figure.Figure at 0x117438890>"
      ]
     },
     "metadata": {},
     "output_type": "display_data"
    }
   ],
   "source": [
    "# The highest grossing movie \"Star Wars: The Force Awakens\" is the highest grossing film\n",
    "tgm.plot(kind='barh', x='Title',y='Gross', color='darkblue')\n",
    "plt.gca().invert_yaxis()"
   ]
  },
  {
   "cell_type": "code",
   "execution_count": 64,
   "metadata": {
    "collapsed": false
   },
   "outputs": [
    {
     "data": {
      "text/html": [
       "<div>\n",
       "<table border=\"1\" class=\"dataframe\">\n",
       "  <thead>\n",
       "    <tr style=\"text-align: right;\">\n",
       "      <th></th>\n",
       "      <th>Title</th>\n",
       "      <th>imdbRating</th>\n",
       "    </tr>\n",
       "  </thead>\n",
       "  <tbody>\n",
       "    <tr>\n",
       "      <th>213</th>\n",
       "      <td>The Shawshank Redemption</td>\n",
       "      <td>9.3</td>\n",
       "    </tr>\n",
       "    <tr>\n",
       "      <th>143</th>\n",
       "      <td>The Godfather</td>\n",
       "      <td>9.2</td>\n",
       "    </tr>\n",
       "    <tr>\n",
       "      <th>215</th>\n",
       "      <td>The Godfather: Part II</td>\n",
       "      <td>9.0</td>\n",
       "    </tr>\n",
       "    <tr>\n",
       "      <th>37</th>\n",
       "      <td>The Dark Knight</td>\n",
       "      <td>9.0</td>\n",
       "    </tr>\n",
       "    <tr>\n",
       "      <th>193</th>\n",
       "      <td>Pulp Fiction</td>\n",
       "      <td>8.9</td>\n",
       "    </tr>\n",
       "    <tr>\n",
       "      <th>58</th>\n",
       "      <td>Schindler's List</td>\n",
       "      <td>8.9</td>\n",
       "    </tr>\n",
       "    <tr>\n",
       "      <th>191</th>\n",
       "      <td>12 Angry Men</td>\n",
       "      <td>8.9</td>\n",
       "    </tr>\n",
       "    <tr>\n",
       "      <th>78</th>\n",
       "      <td>The Lord of the Rings: The Return of the King</td>\n",
       "      <td>8.9</td>\n",
       "    </tr>\n",
       "    <tr>\n",
       "      <th>208</th>\n",
       "      <td>The Good, the Bad and the Ugly</td>\n",
       "      <td>8.9</td>\n",
       "    </tr>\n",
       "    <tr>\n",
       "      <th>232</th>\n",
       "      <td>Inception</td>\n",
       "      <td>8.8</td>\n",
       "    </tr>\n",
       "  </tbody>\n",
       "</table>\n",
       "</div>"
      ],
      "text/plain": [
       "                                             Title  imdbRating\n",
       "213                       The Shawshank Redemption         9.3\n",
       "143                                  The Godfather         9.2\n",
       "215                         The Godfather: Part II         9.0\n",
       "37                                 The Dark Knight         9.0\n",
       "193                                   Pulp Fiction         8.9\n",
       "58                                Schindler's List         8.9\n",
       "191                                   12 Angry Men         8.9\n",
       "78   The Lord of the Rings: The Return of the King         8.9\n",
       "208                 The Good, the Bad and the Ugly         8.9\n",
       "232                                      Inception         8.8"
      ]
     },
     "execution_count": 64,
     "metadata": {},
     "output_type": "execute_result"
    }
   ],
   "source": [
    "# Top 10 Rated Movies\n",
    "\n",
    "trm = df[['Title','imdbRating']].sort_values('imdbRating', ascending = False)\n",
    "trm.head(10)"
   ]
  },
  {
   "cell_type": "code",
   "execution_count": 65,
   "metadata": {
    "collapsed": false
   },
   "outputs": [
    {
     "data": {
      "text/plain": [
       "(8, 10)"
      ]
     },
     "execution_count": 65,
     "metadata": {},
     "output_type": "execute_result"
    },
    {
     "data": {
      "image/png": "[encoded data removed]",
      "text/plain": [
       "<matplotlib.figure.Figure at 0x119ed9210>"
      ]
     },
     "metadata": {},
     "output_type": "display_data"
    }
   ],
   "source": [
    "# No movie is rated above 9.5 and all 250 movies are 8 or above in rating.\n",
    "trm.head(50).plot(kind='bar',x='Title',y='imdbRating', color ='darkred')\n",
    "plt.gca().set_ylim([8,10])"
   ]
  },
  {
   "cell_type": "code",
   "execution_count": 66,
   "metadata": {
    "collapsed": false
   },
   "outputs": [
    {
     "data": {
      "text/html": [
       "<div>\n",
       "<table border=\"1\" class=\"dataframe\">\n",
       "  <thead>\n",
       "    <tr style=\"text-align: right;\">\n",
       "      <th></th>\n",
       "      <th>Title</th>\n",
       "      <th>Runtime</th>\n",
       "    </tr>\n",
       "  </thead>\n",
       "  <tbody>\n",
       "    <tr>\n",
       "      <th>137</th>\n",
       "      <td>Gangs of Wasseypur</td>\n",
       "      <td>320</td>\n",
       "    </tr>\n",
       "    <tr>\n",
       "      <th>239</th>\n",
       "      <td>Gone with the Wind</td>\n",
       "      <td>238</td>\n",
       "    </tr>\n",
       "    <tr>\n",
       "      <th>38</th>\n",
       "      <td>Once Upon a Time in America</td>\n",
       "      <td>229</td>\n",
       "    </tr>\n",
       "    <tr>\n",
       "      <th>179</th>\n",
       "      <td>Lagaan: Once Upon a Time in India</td>\n",
       "      <td>224</td>\n",
       "    </tr>\n",
       "    <tr>\n",
       "      <th>112</th>\n",
       "      <td>Lawrence of Arabia</td>\n",
       "      <td>216</td>\n",
       "    </tr>\n",
       "    <tr>\n",
       "      <th>43</th>\n",
       "      <td>Ben-Hur</td>\n",
       "      <td>212</td>\n",
       "    </tr>\n",
       "    <tr>\n",
       "      <th>1</th>\n",
       "      <td>Seven Samurai</td>\n",
       "      <td>207</td>\n",
       "    </tr>\n",
       "    <tr>\n",
       "      <th>215</th>\n",
       "      <td>The Godfather: Part II</td>\n",
       "      <td>202</td>\n",
       "    </tr>\n",
       "    <tr>\n",
       "      <th>78</th>\n",
       "      <td>The Lord of the Rings: The Return of the King</td>\n",
       "      <td>201</td>\n",
       "    </tr>\n",
       "    <tr>\n",
       "      <th>58</th>\n",
       "      <td>Schindler's List</td>\n",
       "      <td>195</td>\n",
       "    </tr>\n",
       "  </tbody>\n",
       "</table>\n",
       "</div>"
      ],
      "text/plain": [
       "                                             Title  Runtime\n",
       "137                             Gangs of Wasseypur      320\n",
       "239                             Gone with the Wind      238\n",
       "38                     Once Upon a Time in America      229\n",
       "179              Lagaan: Once Upon a Time in India      224\n",
       "112                             Lawrence of Arabia      216\n",
       "43                                         Ben-Hur      212\n",
       "1                                    Seven Samurai      207\n",
       "215                         The Godfather: Part II      202\n",
       "78   The Lord of the Rings: The Return of the King      201\n",
       "58                                Schindler's List      195"
      ]
     },
     "execution_count": 66,
     "metadata": {},
     "output_type": "execute_result"
    }
   ],
   "source": [
    "# Top 10 Movies with Longest Runtime\n",
    "\n",
    "df[['Title','Runtime']].sort_values('Runtime', ascending = False).head(10)"
   ]
  },
  {
   "cell_type": "code",
   "execution_count": 67,
   "metadata": {
    "collapsed": false
   },
   "outputs": [
    {
     "data": {
      "text/html": [
       "<div>\n",
       "<table border=\"1\" class=\"dataframe\">\n",
       "  <thead>\n",
       "    <tr style=\"text-align: right;\">\n",
       "      <th></th>\n",
       "      <th>Title</th>\n",
       "      <th>imdbVotes</th>\n",
       "    </tr>\n",
       "  </thead>\n",
       "  <tbody>\n",
       "    <tr>\n",
       "      <th>213</th>\n",
       "      <td>The Shawshank Redemption</td>\n",
       "      <td>1711064</td>\n",
       "    </tr>\n",
       "    <tr>\n",
       "      <th>37</th>\n",
       "      <td>The Dark Knight</td>\n",
       "      <td>1699835</td>\n",
       "    </tr>\n",
       "    <tr>\n",
       "      <th>232</th>\n",
       "      <td>Inception</td>\n",
       "      <td>1489067</td>\n",
       "    </tr>\n",
       "    <tr>\n",
       "      <th>181</th>\n",
       "      <td>Fight Club</td>\n",
       "      <td>1373233</td>\n",
       "    </tr>\n",
       "    <tr>\n",
       "      <th>193</th>\n",
       "      <td>Pulp Fiction</td>\n",
       "      <td>1343852</td>\n",
       "    </tr>\n",
       "    <tr>\n",
       "      <th>224</th>\n",
       "      <td>Forrest Gump</td>\n",
       "      <td>1279349</td>\n",
       "    </tr>\n",
       "    <tr>\n",
       "      <th>134</th>\n",
       "      <td>The Lord of the Rings: The Fellowship of the Ring</td>\n",
       "      <td>1252518</td>\n",
       "    </tr>\n",
       "    <tr>\n",
       "      <th>128</th>\n",
       "      <td>The Matrix</td>\n",
       "      <td>1233966</td>\n",
       "    </tr>\n",
       "    <tr>\n",
       "      <th>78</th>\n",
       "      <td>The Lord of the Rings: The Return of the King</td>\n",
       "      <td>1230433</td>\n",
       "    </tr>\n",
       "    <tr>\n",
       "      <th>143</th>\n",
       "      <td>The Godfather</td>\n",
       "      <td>1169904</td>\n",
       "    </tr>\n",
       "  </tbody>\n",
       "</table>\n",
       "</div>"
      ],
      "text/plain": [
       "                                                 Title  imdbVotes\n",
       "213                           The Shawshank Redemption    1711064\n",
       "37                                     The Dark Knight    1699835\n",
       "232                                          Inception    1489067\n",
       "181                                         Fight Club    1373233\n",
       "193                                       Pulp Fiction    1343852\n",
       "224                                       Forrest Gump    1279349\n",
       "134  The Lord of the Rings: The Fellowship of the Ring    1252518\n",
       "128                                         The Matrix    1233966\n",
       "78       The Lord of the Rings: The Return of the King    1230433\n",
       "143                                      The Godfather    1169904"
      ]
     },
     "execution_count": 67,
     "metadata": {},
     "output_type": "execute_result"
    }
   ],
   "source": [
    "# Top 10 Movies with the Largest # of Votes\n",
    "\n",
    "df[['Title','imdbVotes']].sort_values('imdbVotes', ascending = False).head(10)"
   ]
  },
  {
   "cell_type": "code",
   "execution_count": 68,
   "metadata": {
    "collapsed": false
   },
   "outputs": [
    {
     "data": {
      "text/plain": [
       "actor: leonardo dicaprio    7\n",
       "actor: harrison ford        7\n",
       "actor: robert de niro       7\n",
       "actor: tom hanks            6\n",
       "actor: clint eastwood       6\n",
       "actor: tom hardy            5\n",
       "actor: mark hamill          5\n",
       "actor: carrie fisher        4\n",
       "actor: brad pitt            4\n",
       "actor: james stewart        4\n",
       "dtype: int64"
      ]
     },
     "execution_count": 68,
     "metadata": {},
     "output_type": "execute_result"
    }
   ],
   "source": [
    "# Actors that appear the most in the Top Rated 250 movies on IMDB\n",
    "actorsdf.sum().sort_values(ascending=False).head(10)"
   ]
  },
  {
   "cell_type": "code",
   "execution_count": 69,
   "metadata": {
    "collapsed": false
   },
   "outputs": [
    {
     "data": {
      "text/plain": [
       "Director: alfred hitchcock     7\n",
       "Director: steven spielberg     7\n",
       "Director: stanley kubrick      7\n",
       "Director: christopher nolan    7\n",
       "Director: martin scorsese      7\n",
       "Director: hayao miyazaki       6\n",
       "Director: quentin tarantino    6\n",
       "Director: akira kurosawa       5\n",
       "Director: billy wilder         5\n",
       "Director: charles chaplin      5\n",
       "dtype: int64"
      ]
     },
     "execution_count": 69,
     "metadata": {},
     "output_type": "execute_result"
    }
   ],
   "source": [
    "# Directors who directed the most number of the highest rated movies\n",
    "\n",
    "director = direc_df.sum().sort_values(ascending=False)\n",
    "director.head(10)"
   ]
  },
  {
   "cell_type": "code",
   "execution_count": 70,
   "metadata": {
    "collapsed": false
   },
   "outputs": [
    {
     "data": {
      "text/plain": [
       "<matplotlib.text.Text at 0x119ed9ed0>"
      ]
     },
     "execution_count": 70,
     "metadata": {},
     "output_type": "execute_result"
    },
    {
     "data": {
      "image/png": "[encoded data removed]",
      "text/plain": [
       "<matplotlib.figure.Figure at 0x11a857e10>"
      ]
     },
     "metadata": {},
     "output_type": "display_data"
    }
   ],
   "source": [
    "# The number of movies directed vs number of directors\n",
    "\n",
    "director.hist(bins=7);\n",
    "plt.gca().invert_xaxis()\n",
    "plt.ylabel('Number of Directors')\n",
    "plt.xlabel('Number of Movies')\n"
   ]
  },
  {
   "cell_type": "code",
   "execution_count": 71,
   "metadata": {
    "collapsed": false
   },
   "outputs": [
    {
     "data": {
      "text/plain": [
       "Language: english      211\n",
       "Language: french        42\n",
       "Language: german        34\n",
       "Language: spanish       30\n",
       "Language: italian       23\n",
       "Language: japanese      19\n",
       "Language: russian       15\n",
       "Language: latin         10\n",
       "Language: arabic         8\n",
       "Language: cantonese      5\n",
       "dtype: int64"
      ]
     },
     "execution_count": 71,
     "metadata": {},
     "output_type": "execute_result"
    }
   ],
   "source": [
    "# Most popular language in top 250 highest rated movies\n",
    "\n",
    "lang_df.sum().sort_values(ascending=False).head(10)"
   ]
  },
  {
   "cell_type": "code",
   "execution_count": 72,
   "metadata": {
    "collapsed": false
   },
   "outputs": [
    {
     "data": {
      "text/plain": [
       "genre_drama        172\n",
       "genre_adventure     62\n",
       "genre_crime         55\n",
       "genre_comedy        41\n",
       "genre_thriller      40\n",
       "genre_action        38\n",
       "genre_mystery       30\n",
       "genre_biography     26\n",
       "genre_sci-fi        23\n",
       "genre_fantasy       22\n",
       "dtype: int64"
      ]
     },
     "execution_count": 72,
     "metadata": {},
     "output_type": "execute_result"
    }
   ],
   "source": [
    "# Most popular genres for the top 250 highest rated movies\n",
    "\n",
    "genre = genredf.sum().sort_values(ascending=False)\n",
    "genre.head(10)"
   ]
  },
  {
   "cell_type": "code",
   "execution_count": 73,
   "metadata": {
    "collapsed": false
   },
   "outputs": [
    {
     "data": {
      "image/png": "[encoded data removed]",
      "text/plain": [
       "<matplotlib.figure.Figure at 0x11ac29510>"
      ]
     },
     "metadata": {},
     "output_type": "display_data"
    }
   ],
   "source": [
    "genre.plot(kind='bar', color='darkorange');"
   ]
  },
  {
   "cell_type": "markdown",
   "metadata": {},
   "source": [
    "# Decision Trees"
   ]
  },
  {
   "cell_type": "code",
   "execution_count": 74,
   "metadata": {
    "collapsed": false
   },
   "outputs": [
    {
     "name": "stderr",
     "output_type": "stream",
     "text": [
      "//anaconda/lib/python2.7/site-packages/sklearn/cross_validation.py:44: DeprecationWarning: This module was deprecated in version 0.18 in favor of the model_selection module into which all the refactored classes and functions are moved. Also note that the interface of the new CV iterators are different from that of this module. This module will be removed in 0.20.\n",
      "  \"This module will be removed in 0.20.\", DeprecationWarning)\n",
      "//anaconda/lib/python2.7/site-packages/sklearn/grid_search.py:43: DeprecationWarning: This module was deprecated in version 0.18 in favor of the model_selection module into which all the refactored classes and functions are moved. This module will be removed in 0.20.\n",
      "  DeprecationWarning)\n"
     ]
    }
   ],
   "source": [
    "from sklearn.cross_validation import train_test_split, cross_val_score, KFold\n",
    "from sklearn.tree import DecisionTreeClassifier, DecisionTreeRegressor\n",
    "from sklearn.preprocessing import Imputer\n",
    "from sklearn.pipeline import make_pipeline\n",
    "from sklearn.grid_search import GridSearchCV\n",
    "from sklearn.ensemble import RandomForestRegressor, AdaBoostRegressor, GradientBoostingRegressor, RandomForestClassifier, ExtraTreesClassifier\n",
    "from sklearn.ensemble import BaggingClassifier\n",
    "from sklearn.metrics import accuracy_score, precision_score, recall_score, confusion_matrix, classification_report\n",
    "\n",
    "import matplotlib.pyplot as plt\n",
    "plt.style.use('ggplot')\n",
    "%matplotlib inline"
   ]
  },
  {
   "cell_type": "code",
   "execution_count": 75,
   "metadata": {
    "collapsed": false
   },
   "outputs": [
    {
     "data": {
      "text/plain": [
       "8.311599999999995"
      ]
     },
     "execution_count": 75,
     "metadata": {},
     "output_type": "execute_result"
    }
   ],
   "source": [
    "# find mean of imdb rating\n",
    "\n",
    "mean=df['imdbRating'].mean()\n",
    "mean"
   ]
  },
  {
   "cell_type": "code",
   "execution_count": 76,
   "metadata": {
    "collapsed": true
   },
   "outputs": [],
   "source": [
    "# convert imdb rating column to binary (1 for above mean, 0 for below mean)\n",
    "\n",
    "df1['imdbRating']=[1 if x>mean else 0 for x in df['imdbRating']]"
   ]
  },
  {
   "cell_type": "code",
   "execution_count": 77,
   "metadata": {
    "collapsed": false
   },
   "outputs": [],
   "source": [
    "# X dropped release data (colinearity with year), imdbRating(our target), Rated and Title(assumption of non-importance)\n",
    "\n",
    "X = df.drop(['Title','Released','imdbRating','Rated'], axis=1)\n",
    "y = df1['imdbRating']"
   ]
  },
  {
   "cell_type": "code",
   "execution_count": 78,
   "metadata": {
    "collapsed": false
   },
   "outputs": [],
   "source": [
    "# Train and Test X & Y\n",
    "X_train, X_test, y_train, y_test = train_test_split(X, y, test_size=0.3, random_state=42)"
   ]
  },
  {
   "cell_type": "code",
   "execution_count": 79,
   "metadata": {
    "collapsed": true
   },
   "outputs": [],
   "source": [
    "# function for evaluating models\n",
    "# confusion matrix, accuracy score, classificaiton report\n",
    "\n",
    "def evaluate_model(model):\n",
    "    model.fit(X_train, y_train)\n",
    "    y_pred = model.predict(X_test)\n",
    "    \n",
    "    a = accuracy_score(y_test, y_pred)\n",
    "    \n",
    "    cm = confusion_matrix(y_test, y_pred)\n",
    "    cr = classification_report(y_test, y_pred)\n",
    "    \n",
    "    print cm\n",
    "    print cr\n",
    "    \n",
    "    return a\n",
    "\n",
    "all_models = {}"
   ]
  },
  {
   "cell_type": "code",
   "execution_count": 80,
   "metadata": {
    "collapsed": false
   },
   "outputs": [
    {
     "name": "stdout",
     "output_type": "stream",
     "text": [
      "[[39  8]\n",
      " [10 18]]\n",
      "             precision    recall  f1-score   support\n",
      "\n",
      "          0       0.80      0.83      0.81        47\n",
      "          1       0.69      0.64      0.67        28\n",
      "\n",
      "avg / total       0.76      0.76      0.76        75\n",
      "\n"
     ]
    }
   ],
   "source": [
    "# evaluate decision tree classifer model - precision, recall, f1 score\n",
    "\n",
    "dt = DecisionTreeClassifier()\n",
    "all_models['dt'] = {'model': dt,\n",
    "                    'score': evaluate_model(dt)}"
   ]
  },
  {
   "cell_type": "code",
   "execution_count": 81,
   "metadata": {
    "collapsed": false
   },
   "outputs": [
    {
     "data": {
      "text/html": [
       "<div>\n",
       "<table border=\"1\" class=\"dataframe\">\n",
       "  <thead>\n",
       "    <tr style=\"text-align: right;\">\n",
       "      <th></th>\n",
       "      <th>importance</th>\n",
       "    </tr>\n",
       "  </thead>\n",
       "  <tbody>\n",
       "    <tr>\n",
       "      <th>imdbVotes</th>\n",
       "      <td>0.402476</td>\n",
       "    </tr>\n",
       "    <tr>\n",
       "      <th>Year</th>\n",
       "      <td>0.107935</td>\n",
       "    </tr>\n",
       "    <tr>\n",
       "      <th>Gross</th>\n",
       "      <td>0.094919</td>\n",
       "    </tr>\n",
       "    <tr>\n",
       "      <th>actor: sigourney weaver</th>\n",
       "      <td>0.041594</td>\n",
       "    </tr>\n",
       "    <tr>\n",
       "      <th>genre_drama</th>\n",
       "      <td>0.028463</td>\n",
       "    </tr>\n",
       "    <tr>\n",
       "      <th>Director: francis ford coppola</th>\n",
       "      <td>0.023948</td>\n",
       "    </tr>\n",
       "    <tr>\n",
       "      <th>Language: hebrew</th>\n",
       "      <td>0.023187</td>\n",
       "    </tr>\n",
       "    <tr>\n",
       "      <th>Country: iran</th>\n",
       "      <td>0.022909</td>\n",
       "    </tr>\n",
       "    <tr>\n",
       "      <th>actor: janet leigh</th>\n",
       "      <td>0.022463</td>\n",
       "    </tr>\n",
       "    <tr>\n",
       "      <th>Country: morocco</th>\n",
       "      <td>0.021818</td>\n",
       "    </tr>\n",
       "    <tr>\n",
       "      <th>Language: swahili</th>\n",
       "      <td>0.021772</td>\n",
       "    </tr>\n",
       "    <tr>\n",
       "      <th>actor: brad pitt</th>\n",
       "      <td>0.021682</td>\n",
       "    </tr>\n",
       "    <tr>\n",
       "      <th>Country: italy</th>\n",
       "      <td>0.021523</td>\n",
       "    </tr>\n",
       "    <tr>\n",
       "      <th>actor: tom hardy</th>\n",
       "      <td>0.020815</td>\n",
       "    </tr>\n",
       "    <tr>\n",
       "      <th>Country: south korea</th>\n",
       "      <td>0.019131</td>\n",
       "    </tr>\n",
       "    <tr>\n",
       "      <th>genre_romance</th>\n",
       "      <td>0.017346</td>\n",
       "    </tr>\n",
       "    <tr>\n",
       "      <th>genre_thriller</th>\n",
       "      <td>0.017346</td>\n",
       "    </tr>\n",
       "    <tr>\n",
       "      <th>genre_mystery</th>\n",
       "      <td>0.013009</td>\n",
       "    </tr>\n",
       "    <tr>\n",
       "      <th>genre_crime</th>\n",
       "      <td>0.013009</td>\n",
       "    </tr>\n",
       "    <tr>\n",
       "      <th>genre_adventure</th>\n",
       "      <td>0.013009</td>\n",
       "    </tr>\n",
       "  </tbody>\n",
       "</table>\n",
       "</div>"
      ],
      "text/plain": [
       "                                importance\n",
       "imdbVotes                         0.402476\n",
       "Year                              0.107935\n",
       "Gross                             0.094919\n",
       "actor: sigourney weaver           0.041594\n",
       "genre_drama                       0.028463\n",
       "Director: francis ford coppola    0.023948\n",
       "Language: hebrew                  0.023187\n",
       "Country: iran                     0.022909\n",
       "actor: janet leigh                0.022463\n",
       "Country: morocco                  0.021818\n",
       "Language: swahili                 0.021772\n",
       "actor: brad pitt                  0.021682\n",
       "Country: italy                    0.021523\n",
       "actor: tom hardy                  0.020815\n",
       "Country: south korea              0.019131\n",
       "genre_romance                     0.017346\n",
       "genre_thriller                    0.017346\n",
       "genre_mystery                     0.013009\n",
       "genre_crime                       0.013009\n",
       "genre_adventure                   0.013009"
      ]
     },
     "execution_count": 81,
     "metadata": {},
     "output_type": "execute_result"
    }
   ],
   "source": [
    "# find the most important features in decision trees\n",
    "\n",
    "feature_importances = pd.DataFrame(dt.feature_importances_,\n",
    "                                   index = X.columns,\n",
    "                                    columns=['importance'])\n",
    "feature_importances.sort_values(by='importance', ascending=False).head(20)"
   ]
  },
  {
   "cell_type": "code",
   "execution_count": 82,
   "metadata": {
    "collapsed": false
   },
   "outputs": [
    {
     "data": {
      "image/png": "[encoded data removed]",
      "text/plain": [
       "<matplotlib.figure.Figure at 0x11b510d90>"
      ]
     },
     "metadata": {},
     "output_type": "display_data"
    }
   ],
   "source": [
    "# imdbVotes are 4x more important in predicting imdbRating than the next (Year)\n",
    "\n",
    "featimp = feature_importances.sort_values(by='importance', ascending=False).head(100)\n",
    "featimp.plot(kind='bar');"
   ]
  },
  {
   "cell_type": "code",
   "execution_count": 83,
   "metadata": {
    "collapsed": false
   },
   "outputs": [
    {
     "name": "stdout",
     "output_type": "stream",
     "text": [
      "{'min_samples_split': 5, 'splitter': 'best', 'criterion': 'entropy', 'max_depth': 10, 'min_samples_leaf': 2}\n",
      "0.792\n",
      "[[38  9]\n",
      " [10 18]]\n",
      "             precision    recall  f1-score   support\n",
      "\n",
      "          0       0.79      0.81      0.80        47\n",
      "          1       0.67      0.64      0.65        28\n",
      "\n",
      "avg / total       0.74      0.75      0.75        75\n",
      "\n"
     ]
    }
   ],
   "source": [
    "# Gridsearch on Decision Trees\n",
    "\n",
    "params = {'criterion': ['gini', 'entropy'],\n",
    "          'splitter': ['best', 'random'],\n",
    "          'max_depth': [None, 5, 10],\n",
    "          'min_samples_split': [2, 5],\n",
    "          'min_samples_leaf': [1, 2, 3]}\n",
    "\n",
    "gsdt = GridSearchCV(dt,\n",
    "                    params, n_jobs=-1,\n",
    "                    cv=KFold(len(y), n_folds=3, shuffle=True))\n",
    "\n",
    "gsdt.fit(X, y)\n",
    "print gsdt.best_params_\n",
    "print gsdt.best_score_\n",
    "\n",
    "all_models['gsdt'] = {'model': gsdt.best_estimator_,\n",
    "                      'score': evaluate_model(gsdt.best_estimator_)}"
   ]
  },
  {
   "cell_type": "code",
   "execution_count": 84,
   "metadata": {
    "collapsed": false
   },
   "outputs": [
    {
     "name": "stderr",
     "output_type": "stream",
     "text": [
      "//anaconda/lib/python2.7/site-packages/sklearn/externals/joblib/parallel.py:540: UserWarning: Multiprocessing-backed parallel loops cannot be nested, setting n_jobs=1\n",
      "  **self._backend_args)\n",
      "//anaconda/lib/python2.7/site-packages/sklearn/externals/joblib/parallel.py:540: UserWarning: Multiprocessing-backed parallel loops cannot be nested, setting n_jobs=1\n",
      "  **self._backend_args)\n",
      "//anaconda/lib/python2.7/site-packages/sklearn/externals/joblib/parallel.py:540: UserWarning: Multiprocessing-backed parallel loops cannot be nested, setting n_jobs=1\n",
      "  **self._backend_args)\n",
      "//anaconda/lib/python2.7/site-packages/sklearn/externals/joblib/parallel.py:540: UserWarning: Multiprocessing-backed parallel loops cannot be nested, setting n_jobs=1\n",
      "  **self._backend_args)\n"
     ]
    },
    {
     "name": "stdout",
     "output_type": "stream",
     "text": [
      "{'max_features': 1.0, 'max_samples': 1.0, 'n_estimators': 10, 'bootstrap_features': False}\n",
      "0.78\n",
      "[[46  1]\n",
      " [10 18]]\n",
      "             precision    recall  f1-score   support\n",
      "\n",
      "          0       0.82      0.98      0.89        47\n",
      "          1       0.95      0.64      0.77        28\n",
      "\n",
      "avg / total       0.87      0.85      0.85        75\n",
      "\n"
     ]
    }
   ],
   "source": [
    "# Bagging Gridsearch Decision Trees\n",
    "\n",
    "bagging_params = {'n_estimators': [10, 20],\n",
    "                  'max_samples': [0.7, 1.0],\n",
    "                  'max_features': [0.7, 1.0],\n",
    "                  'bootstrap_features': [True, False]}\n",
    "\n",
    "gsbaggingdt = GridSearchCV(BaggingClassifier(gsdt.best_estimator_),\n",
    "                           bagging_params, n_jobs=-1,\n",
    "                           cv=KFold(len(y), n_folds=3, shuffle=True))\n",
    "\n",
    "gsbaggingdt.fit(X, y)\n",
    "\n",
    "print gsbaggingdt.best_params_\n",
    "\n",
    "print gsbaggingdt.best_score_\n",
    "\n",
    "all_models['gsbaggingdt'] = {'model': gsbaggingdt.best_estimator_,\n",
    "                             'score': evaluate_model(gsbaggingdt.best_estimator_)}"
   ]
  },
  {
   "cell_type": "code",
   "execution_count": 85,
   "metadata": {
    "collapsed": false
   },
   "outputs": [
    {
     "name": "stdout",
     "output_type": "stream",
     "text": [
      "[[46  1]\n",
      " [19  9]]\n",
      "             precision    recall  f1-score   support\n",
      "\n",
      "          0       0.71      0.98      0.82        47\n",
      "          1       0.90      0.32      0.47        28\n",
      "\n",
      "avg / total       0.78      0.73      0.69        75\n",
      "\n",
      "[[42  5]\n",
      " [21  7]]\n",
      "             precision    recall  f1-score   support\n",
      "\n",
      "          0       0.67      0.89      0.76        47\n",
      "          1       0.58      0.25      0.35        28\n",
      "\n",
      "avg / total       0.64      0.65      0.61        75\n",
      "\n"
     ]
    }
   ],
   "source": [
    "# Random Forest Classifier\n",
    "\n",
    "rf = RandomForestClassifier()\n",
    "all_models['rf'] = {'model': rf,\n",
    "                    'score': evaluate_model(rf)}\n",
    "\n",
    "\n",
    "# Random Trees Classifier\n",
    "\n",
    "et = ExtraTreesClassifier()\n",
    "all_models['et'] = {'model': et,\n",
    "                    'score': evaluate_model(et)}"
   ]
  },
  {
   "cell_type": "code",
   "execution_count": 86,
   "metadata": {
    "collapsed": false
   },
   "outputs": [
    {
     "data": {
      "text/html": [
       "<div>\n",
       "<table border=\"1\" class=\"dataframe\">\n",
       "  <thead>\n",
       "    <tr style=\"text-align: right;\">\n",
       "      <th></th>\n",
       "      <th>dt_importance</th>\n",
       "      <th>rf_importance</th>\n",
       "      <th>et_importance</th>\n",
       "    </tr>\n",
       "  </thead>\n",
       "  <tbody>\n",
       "    <tr>\n",
       "      <th>imdbVotes</th>\n",
       "      <td>0.402476</td>\n",
       "      <td>0.226633</td>\n",
       "      <td>0.124624</td>\n",
       "    </tr>\n",
       "    <tr>\n",
       "      <th>Runtime</th>\n",
       "      <td>0.000000</td>\n",
       "      <td>0.079552</td>\n",
       "      <td>0.036708</td>\n",
       "    </tr>\n",
       "    <tr>\n",
       "      <th>Year</th>\n",
       "      <td>0.107935</td>\n",
       "      <td>0.077697</td>\n",
       "      <td>0.058222</td>\n",
       "    </tr>\n",
       "    <tr>\n",
       "      <th>Gross</th>\n",
       "      <td>0.094919</td>\n",
       "      <td>0.056288</td>\n",
       "      <td>0.038167</td>\n",
       "    </tr>\n",
       "    <tr>\n",
       "      <th>genre_crime</th>\n",
       "      <td>0.013009</td>\n",
       "      <td>0.020674</td>\n",
       "      <td>0.022005</td>\n",
       "    </tr>\n",
       "    <tr>\n",
       "      <th>actor: sigourney weaver</th>\n",
       "      <td>0.041594</td>\n",
       "      <td>0.019144</td>\n",
       "      <td>0.006543</td>\n",
       "    </tr>\n",
       "    <tr>\n",
       "      <th>genre_romance</th>\n",
       "      <td>0.017346</td>\n",
       "      <td>0.018570</td>\n",
       "      <td>0.004754</td>\n",
       "    </tr>\n",
       "    <tr>\n",
       "      <th>Country: france</th>\n",
       "      <td>0.000000</td>\n",
       "      <td>0.018512</td>\n",
       "      <td>0.013845</td>\n",
       "    </tr>\n",
       "    <tr>\n",
       "      <th>genre_action</th>\n",
       "      <td>0.000000</td>\n",
       "      <td>0.018345</td>\n",
       "      <td>0.004564</td>\n",
       "    </tr>\n",
       "    <tr>\n",
       "      <th>Language: english</th>\n",
       "      <td>0.000000</td>\n",
       "      <td>0.016296</td>\n",
       "      <td>0.015185</td>\n",
       "    </tr>\n",
       "    <tr>\n",
       "      <th>genre_war</th>\n",
       "      <td>0.000000</td>\n",
       "      <td>0.014987</td>\n",
       "      <td>0.009113</td>\n",
       "    </tr>\n",
       "    <tr>\n",
       "      <th>genre_thriller</th>\n",
       "      <td>0.017346</td>\n",
       "      <td>0.011611</td>\n",
       "      <td>0.014401</td>\n",
       "    </tr>\n",
       "    <tr>\n",
       "      <th>Country: iran</th>\n",
       "      <td>0.022909</td>\n",
       "      <td>0.011412</td>\n",
       "      <td>0.012561</td>\n",
       "    </tr>\n",
       "    <tr>\n",
       "      <th>Director: frank darabont</th>\n",
       "      <td>0.000000</td>\n",
       "      <td>0.011318</td>\n",
       "      <td>0.007780</td>\n",
       "    </tr>\n",
       "    <tr>\n",
       "      <th>Country: uk</th>\n",
       "      <td>0.000000</td>\n",
       "      <td>0.010654</td>\n",
       "      <td>0.012629</td>\n",
       "    </tr>\n",
       "    <tr>\n",
       "      <th>Director: billy wilder</th>\n",
       "      <td>0.011092</td>\n",
       "      <td>0.009925</td>\n",
       "      <td>0.012921</td>\n",
       "    </tr>\n",
       "    <tr>\n",
       "      <th>genre_drama</th>\n",
       "      <td>0.028463</td>\n",
       "      <td>0.009819</td>\n",
       "      <td>0.019186</td>\n",
       "    </tr>\n",
       "    <tr>\n",
       "      <th>Director: charles chaplin</th>\n",
       "      <td>0.000000</td>\n",
       "      <td>0.009713</td>\n",
       "      <td>0.002030</td>\n",
       "    </tr>\n",
       "    <tr>\n",
       "      <th>Country: japan</th>\n",
       "      <td>0.000000</td>\n",
       "      <td>0.009521</td>\n",
       "      <td>0.003409</td>\n",
       "    </tr>\n",
       "    <tr>\n",
       "      <th>Country: usa</th>\n",
       "      <td>0.008232</td>\n",
       "      <td>0.008482</td>\n",
       "      <td>0.011745</td>\n",
       "    </tr>\n",
       "  </tbody>\n",
       "</table>\n",
       "</div>"
      ],
      "text/plain": [
       "                           dt_importance  rf_importance  et_importance\n",
       "imdbVotes                       0.402476       0.226633       0.124624\n",
       "Runtime                         0.000000       0.079552       0.036708\n",
       "Year                            0.107935       0.077697       0.058222\n",
       "Gross                           0.094919       0.056288       0.038167\n",
       "genre_crime                     0.013009       0.020674       0.022005\n",
       "actor: sigourney weaver         0.041594       0.019144       0.006543\n",
       "genre_romance                   0.017346       0.018570       0.004754\n",
       "Country: france                 0.000000       0.018512       0.013845\n",
       "genre_action                    0.000000       0.018345       0.004564\n",
       "Language: english               0.000000       0.016296       0.015185\n",
       "genre_war                       0.000000       0.014987       0.009113\n",
       "genre_thriller                  0.017346       0.011611       0.014401\n",
       "Country: iran                   0.022909       0.011412       0.012561\n",
       "Director: frank darabont        0.000000       0.011318       0.007780\n",
       "Country: uk                     0.000000       0.010654       0.012629\n",
       "Director: billy wilder          0.011092       0.009925       0.012921\n",
       "genre_drama                     0.028463       0.009819       0.019186\n",
       "Director: charles chaplin       0.000000       0.009713       0.002030\n",
       "Country: japan                  0.000000       0.009521       0.003409\n",
       "Country: usa                    0.008232       0.008482       0.011745"
      ]
     },
     "execution_count": 86,
     "metadata": {},
     "output_type": "execute_result"
    }
   ],
   "source": [
    "# Compare feature importances for decision trees, random forest, and extra trees\n",
    "\n",
    "importances = pd.DataFrame(zip(dt.feature_importances_,\n",
    "                               rf.feature_importances_,\n",
    "                               et.feature_importances_),\n",
    "                           index=X.columns,\n",
    "                           columns=['dt_importance',\n",
    "                                    'rf_importance',\n",
    "                                    'et_importance']).sort_values('rf_importance',\n",
    "                                                                   ascending=False)\n",
    "\n",
    "\n",
    "importances_plot = importances.head(20)\n",
    "importances_plot"
   ]
  },
  {
   "cell_type": "code",
   "execution_count": 87,
   "metadata": {
    "collapsed": false
   },
   "outputs": [
    {
     "data": {
      "image/png": "[encoded data removed]",
      "text/plain": [
       "<matplotlib.figure.Figure at 0x11a6e5e10>"
      ]
     },
     "metadata": {},
     "output_type": "display_data"
    }
   ],
   "source": [
    "importances_plot.plot(kind='bar');"
   ]
  },
  {
   "cell_type": "code",
   "execution_count": 88,
   "metadata": {
    "collapsed": false
   },
   "outputs": [
    {
     "name": "stdout",
     "output_type": "stream",
     "text": [
      "{'min_samples_split': 2, 'n_estimators': 50, 'criterion': 'entropy', 'max_depth': None, 'class_weight': 'balanced'}\n",
      "0.736\n",
      "[[43  4]\n",
      " [21  7]]\n",
      "             precision    recall  f1-score   support\n",
      "\n",
      "          0       0.67      0.91      0.77        47\n",
      "          1       0.64      0.25      0.36        28\n",
      "\n",
      "avg / total       0.66      0.67      0.62        75\n",
      "\n"
     ]
    }
   ],
   "source": [
    "# Gridsearch Random Forests\n",
    "\n",
    "params = {'n_estimators':[3, 5, 10, 50],\n",
    "          'criterion': ['gini', 'entropy'],\n",
    "          'max_depth': [None, 3, 5],\n",
    "          'min_samples_split': [2,5],\n",
    "          'class_weight':[None, 'balanced']}\n",
    "\n",
    "\n",
    "gsrf = GridSearchCV(RandomForestClassifier(n_jobs=-1),\n",
    "                    params, n_jobs=-1,\n",
    "                    cv=KFold(len(y), n_folds=3, shuffle=True))\n",
    "\n",
    "gsrf.fit(X, y)\n",
    "print gsrf.best_params_\n",
    "print gsrf.best_score_\n",
    "\n",
    "all_models['gsrf'] = {'model': gsrf.best_estimator_,\n",
    "                      'score': evaluate_model(gsrf.best_estimator_)}"
   ]
  },
  {
   "cell_type": "code",
   "execution_count": 89,
   "metadata": {
    "collapsed": false
   },
   "outputs": [
    {
     "data": {
      "text/html": [
       "<div>\n",
       "<table border=\"1\" class=\"dataframe\">\n",
       "  <thead>\n",
       "    <tr style=\"text-align: right;\">\n",
       "      <th></th>\n",
       "      <th>score</th>\n",
       "    </tr>\n",
       "    <tr>\n",
       "      <th>model</th>\n",
       "      <th></th>\n",
       "    </tr>\n",
       "  </thead>\n",
       "  <tbody>\n",
       "    <tr>\n",
       "      <th>gsbaggingdt</th>\n",
       "      <td>0.853333</td>\n",
       "    </tr>\n",
       "    <tr>\n",
       "      <th>dt</th>\n",
       "      <td>0.760000</td>\n",
       "    </tr>\n",
       "    <tr>\n",
       "      <th>gsdt</th>\n",
       "      <td>0.746667</td>\n",
       "    </tr>\n",
       "    <tr>\n",
       "      <th>rf</th>\n",
       "      <td>0.733333</td>\n",
       "    </tr>\n",
       "    <tr>\n",
       "      <th>gsrf</th>\n",
       "      <td>0.666667</td>\n",
       "    </tr>\n",
       "    <tr>\n",
       "      <th>et</th>\n",
       "      <td>0.653333</td>\n",
       "    </tr>\n",
       "  </tbody>\n",
       "</table>\n",
       "</div>"
      ],
      "text/plain": [
       "                score\n",
       "model                \n",
       "gsbaggingdt  0.853333\n",
       "dt           0.760000\n",
       "gsdt         0.746667\n",
       "rf           0.733333\n",
       "gsrf         0.666667\n",
       "et           0.653333"
      ]
     },
     "execution_count": 89,
     "metadata": {},
     "output_type": "execute_result"
    },
    {
     "data": {
      "image/png": "[encoded data removed]",
      "text/plain": [
       "<matplotlib.figure.Figure at 0x11a6bde90>"
      ]
     },
     "metadata": {},
     "output_type": "display_data"
    }
   ],
   "source": [
    "# Scores of all the models\n",
    "\n",
    "scores = pd.DataFrame([(k, v['score']) for k, v in all_models.iteritems()],\n",
    "             columns=['model', 'score']).set_index('model').sort_values('score', ascending=False)\n",
    "\n",
    "\n",
    "scores.plot(kind='bar')\n",
    "plt.ylim(0.6, 1.1)\n",
    "\n",
    "scores"
   ]
  },
  {
   "cell_type": "code",
   "execution_count": 90,
   "metadata": {
    "collapsed": false
   },
   "outputs": [
    {
     "name": "stdout",
     "output_type": "stream",
     "text": [
      "gsrf rf"
     ]
    },
    {
     "name": "stderr",
     "output_type": "stream",
     "text": [
      "//anaconda/lib/python2.7/site-packages/sklearn/externals/joblib/parallel.py:540: UserWarning: Multiprocessing-backed parallel loops cannot be nested, setting n_jobs=1\n",
      "  **self._backend_args)\n",
      "//anaconda/lib/python2.7/site-packages/sklearn/externals/joblib/parallel.py:540: UserWarning: Multiprocessing-backed parallel loops cannot be nested, setting n_jobs=1\n",
      "  **self._backend_args)\n",
      "//anaconda/lib/python2.7/site-packages/sklearn/externals/joblib/parallel.py:540: UserWarning: Multiprocessing-backed parallel loops cannot be nested, setting n_jobs=1\n",
      "  **self._backend_args)\n"
     ]
    },
    {
     "name": "stdout",
     "output_type": "stream",
     "text": [
      " gsbaggingdt gsdt et dt\n"
     ]
    }
   ],
   "source": [
    "from sklearn.cross_validation import cross_val_score, StratifiedKFold\n",
    "\n",
    "def retest(model):\n",
    "    scores = cross_val_score(model, X, y,\n",
    "                             cv=StratifiedKFold(y, shuffle=True),\n",
    "                             n_jobs=-1)\n",
    "    m = scores.mean()\n",
    "    s = scores.std()\n",
    "    \n",
    "    return m, s\n",
    "\n",
    "for k, v in all_models.iteritems():\n",
    "    cvres = retest(v['model'])\n",
    "    print k, \n",
    "    all_models[k]['cvres'] = cvres"
   ]
  },
  {
   "cell_type": "code",
   "execution_count": 91,
   "metadata": {
    "collapsed": false
   },
   "outputs": [
    {
     "data": {
      "text/html": [
       "<div>\n",
       "<table border=\"1\" class=\"dataframe\">\n",
       "  <thead>\n",
       "    <tr style=\"text-align: right;\">\n",
       "      <th></th>\n",
       "      <th>score</th>\n",
       "      <th>error</th>\n",
       "    </tr>\n",
       "    <tr>\n",
       "      <th>model</th>\n",
       "      <th></th>\n",
       "      <th></th>\n",
       "    </tr>\n",
       "  </thead>\n",
       "  <tbody>\n",
       "    <tr>\n",
       "      <th>gsrf</th>\n",
       "      <td>0.767977</td>\n",
       "      <td>0.006419</td>\n",
       "    </tr>\n",
       "    <tr>\n",
       "      <th>gsbaggingdt</th>\n",
       "      <td>0.739912</td>\n",
       "      <td>0.021438</td>\n",
       "    </tr>\n",
       "    <tr>\n",
       "      <th>dt</th>\n",
       "      <td>0.736087</td>\n",
       "      <td>0.042261</td>\n",
       "    </tr>\n",
       "    <tr>\n",
       "      <th>gsdt</th>\n",
       "      <td>0.735944</td>\n",
       "      <td>0.045370</td>\n",
       "    </tr>\n",
       "    <tr>\n",
       "      <th>rf</th>\n",
       "      <td>0.723991</td>\n",
       "      <td>0.009959</td>\n",
       "    </tr>\n",
       "    <tr>\n",
       "      <th>et</th>\n",
       "      <td>0.648068</td>\n",
       "      <td>0.027410</td>\n",
       "    </tr>\n",
       "  </tbody>\n",
       "</table>\n",
       "</div>"
      ],
      "text/plain": [
       "                score     error\n",
       "model                          \n",
       "gsrf         0.767977  0.006419\n",
       "gsbaggingdt  0.739912  0.021438\n",
       "dt           0.736087  0.042261\n",
       "gsdt         0.735944  0.045370\n",
       "rf           0.723991  0.009959\n",
       "et           0.648068  0.027410"
      ]
     },
     "execution_count": 91,
     "metadata": {},
     "output_type": "execute_result"
    },
    {
     "data": {
      "image/png": "[encoded data removed]",
      "text/plain": [
       "<matplotlib.figure.Figure at 0x11a57c350>"
      ]
     },
     "metadata": {},
     "output_type": "display_data"
    }
   ],
   "source": [
    "# Scores and errors for all decision tree methods\n",
    "\n",
    "cvscores = pd.DataFrame([(k, v['cvres'][0], v['cvres'][1] ) for k, v in all_models.iteritems()],\n",
    "                        columns=['model', 'score', 'error']).set_index('model').sort_values('score', ascending=False)\n",
    "\n",
    "\n",
    "\n",
    "fig, ax = plt.subplots()\n",
    "rects1 = ax.bar(range(len(cvscores)), cvscores.score,\n",
    "                yerr=cvscores.error,\n",
    "                tick_label=cvscores.index)\n",
    "\n",
    "ax.set_ylabel('Scores')\n",
    "plt.xticks(rotation=70)\n",
    "plt.ylim(0.6, 1.1)\n",
    "\n",
    "cvscores"
   ]
  },
  {
   "cell_type": "markdown",
   "metadata": {},
   "source": [
    "# NEXT STEPS"
   ]
  },
  {
   "cell_type": "markdown",
   "metadata": {},
   "source": []
  },
  {
   "cell_type": "code",
   "execution_count": null,
   "metadata": {
    "collapsed": true
   },
   "outputs": [],
   "source": []
  },
  {
   "cell_type": "code",
   "execution_count": null,
   "metadata": {
    "collapsed": true
   },
   "outputs": [],
   "source": []
  }
 ],
 "metadata": {
  "anaconda-cloud": {},
  "kernelspec": {
   "display_name": "Python [default]",
   "language": "python",
   "name": "python2"
  },
  "language_info": {
   "codemirror_mode": {
    "name": "ipython",
    "version": 2
   },
   "file_extension": ".py",
   "mimetype": "text/x-python",
   "name": "python",
   "nbconvert_exporter": "python",
   "pygments_lexer": "ipython2",
   "version": "2.7.12"
  }
 },
 "nbformat": 4,
 "nbformat_minor": 1
}
