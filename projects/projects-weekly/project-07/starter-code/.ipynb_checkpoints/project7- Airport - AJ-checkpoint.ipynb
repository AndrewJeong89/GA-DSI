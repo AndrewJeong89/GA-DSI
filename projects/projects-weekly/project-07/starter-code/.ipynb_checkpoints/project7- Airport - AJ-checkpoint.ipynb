{
 "cells": [
  {
   "cell_type": "markdown",
   "metadata": {
    "focus": true,
    "id": "d21ca30e-294e-4146-8e4f-a5c331f7a36e"
   },
   "source": [
    "# Project 7 \n",
    "\n",
    "In this project, you will implement the the clustering techniques that you've learned this week. \n",
    "\n",
    "#### Step 1: Load the python libraries that you will need for this project "
   ]
  },
  {
   "cell_type": "code",
   "execution_count": 1,
   "metadata": {
    "collapsed": true,
    "focus": false,
    "id": "78c3bb3f-f513-437b-94f8-bc363b6e7a8b"
   },
   "outputs": [],
   "source": [
    "import pandas as pd \n",
    "import matplotlib as plt\n",
    "import numpy as np\n",
    "import sklearn\n",
    "import psycopg2 as psy"
   ]
  },
  {
   "cell_type": "markdown",
   "metadata": {
    "focus": false,
    "id": "2c6f52ae-e694-463c-87d8-1974726c2e7a"
   },
   "source": [
    "#### Step 2: Examine your data "
   ]
  },
  {
   "cell_type": "code",
   "execution_count": 2,
   "metadata": {
    "collapsed": false,
    "focus": false,
    "id": "0f64db5a-e176-46a1-a10b-8c7db09437bc"
   },
   "outputs": [
    {
     "data": {
      "text/html": [
       "<div>\n",
       "<table border=\"1\" class=\"dataframe\">\n",
       "  <thead>\n",
       "    <tr style=\"text-align: right;\">\n",
       "      <th></th>\n",
       "      <th>Key</th>\n",
       "      <th>LocID</th>\n",
       "      <th>AP_NAME</th>\n",
       "      <th>ALIAS</th>\n",
       "      <th>Facility Type</th>\n",
       "      <th>FAA REGION</th>\n",
       "      <th>COUNTY</th>\n",
       "      <th>CITY</th>\n",
       "      <th>STATE</th>\n",
       "      <th>AP Type</th>\n",
       "      <th>Latitude</th>\n",
       "      <th>Longitude</th>\n",
       "      <th>Boundary Data Available</th>\n",
       "    </tr>\n",
       "  </thead>\n",
       "  <tbody>\n",
       "    <tr>\n",
       "      <th>0</th>\n",
       "      <td>3443.0</td>\n",
       "      <td>STX</td>\n",
       "      <td>HENRY E ROHLSEN</td>\n",
       "      <td>Henry E Rohlsen Int'l Airport</td>\n",
       "      <td>Airport</td>\n",
       "      <td>ASO</td>\n",
       "      <td>-VIRGIN ISLANDS-</td>\n",
       "      <td>CHRISTIANSTED</td>\n",
       "      <td>VI</td>\n",
       "      <td>Public Use</td>\n",
       "      <td>17.701556</td>\n",
       "      <td>-64.801722</td>\n",
       "      <td>Yes</td>\n",
       "    </tr>\n",
       "    <tr>\n",
       "      <th>1</th>\n",
       "      <td>5088.0</td>\n",
       "      <td>X64</td>\n",
       "      <td>PATILLAS</td>\n",
       "      <td>NaN</td>\n",
       "      <td>Airport</td>\n",
       "      <td>ASO</td>\n",
       "      <td>#NAME?</td>\n",
       "      <td>PATILLAS</td>\n",
       "      <td>PR</td>\n",
       "      <td>Public Use</td>\n",
       "      <td>17.982189</td>\n",
       "      <td>-66.019330</td>\n",
       "      <td>No</td>\n",
       "    </tr>\n",
       "    <tr>\n",
       "      <th>2</th>\n",
       "      <td>2886.0</td>\n",
       "      <td>PSE</td>\n",
       "      <td>MERCEDITA</td>\n",
       "      <td>Aeropuerto Mercedita</td>\n",
       "      <td>Airport</td>\n",
       "      <td>ASO</td>\n",
       "      <td>#NAME?</td>\n",
       "      <td>PONCE</td>\n",
       "      <td>PR</td>\n",
       "      <td>Public Use</td>\n",
       "      <td>18.008306</td>\n",
       "      <td>-66.563028</td>\n",
       "      <td>Yes</td>\n",
       "    </tr>\n",
       "  </tbody>\n",
       "</table>\n",
       "</div>"
      ],
      "text/plain": [
       "      Key LocID          AP_NAME                          ALIAS Facility Type  \\\n",
       "0  3443.0   STX  HENRY E ROHLSEN  Henry E Rohlsen Int'l Airport       Airport   \n",
       "1  5088.0   X64         PATILLAS                            NaN       Airport   \n",
       "2  2886.0   PSE        MERCEDITA           Aeropuerto Mercedita       Airport   \n",
       "\n",
       "  FAA REGION            COUNTY           CITY STATE     AP Type   Latitude  \\\n",
       "0        ASO  -VIRGIN ISLANDS-  CHRISTIANSTED    VI  Public Use  17.701556   \n",
       "1        ASO            #NAME?       PATILLAS    PR  Public Use  17.982189   \n",
       "2        ASO            #NAME?          PONCE    PR  Public Use  18.008306   \n",
       "\n",
       "   Longitude Boundary Data Available  \n",
       "0 -64.801722                     Yes  \n",
       "1 -66.019330                      No  \n",
       "2 -66.563028                     Yes  "
      ]
     },
     "execution_count": 2,
     "metadata": {},
     "output_type": "execute_result"
    }
   ],
   "source": [
    "# Examine airport data and import from csv\n",
    "airport = pd.read_csv('../assets/airports.csv')\n",
    "airport.head(3)"
   ]
  },
  {
   "cell_type": "code",
   "execution_count": 3,
   "metadata": {
    "collapsed": false
   },
   "outputs": [
    {
     "data": {
      "text/plain": [
       "(5167, 13)"
      ]
     },
     "execution_count": 3,
     "metadata": {},
     "output_type": "execute_result"
    }
   ],
   "source": [
    "# shape of airport shape\n",
    "airport.shape"
   ]
  },
  {
   "cell_type": "code",
   "execution_count": 4,
   "metadata": {
    "collapsed": false
   },
   "outputs": [
    {
     "data": {
      "text/html": [
       "<div>\n",
       "<table border=\"1\" class=\"dataframe\">\n",
       "  <thead>\n",
       "    <tr style=\"text-align: right;\">\n",
       "      <th></th>\n",
       "      <th>airport</th>\n",
       "      <th>year</th>\n",
       "      <th>departures for metric computation</th>\n",
       "      <th>arrivals for metric computation</th>\n",
       "      <th>percent on-time gate departures</th>\n",
       "      <th>percent on-time airport departures</th>\n",
       "      <th>percent on-time gate arrivals</th>\n",
       "      <th>average_gate_departure_delay</th>\n",
       "      <th>average_taxi_out_time</th>\n",
       "      <th>average taxi out delay</th>\n",
       "      <th>average airport departure delay</th>\n",
       "      <th>average airborne delay</th>\n",
       "      <th>average taxi in delay</th>\n",
       "      <th>average block delay</th>\n",
       "      <th>average gate arrival delay</th>\n",
       "    </tr>\n",
       "  </thead>\n",
       "  <tbody>\n",
       "    <tr>\n",
       "      <th>0</th>\n",
       "      <td>ABQ</td>\n",
       "      <td>2004</td>\n",
       "      <td>53971</td>\n",
       "      <td>53818</td>\n",
       "      <td>0.8030</td>\n",
       "      <td>0.7809</td>\n",
       "      <td>0.7921</td>\n",
       "      <td>10.38</td>\n",
       "      <td>9.89</td>\n",
       "      <td>2.43</td>\n",
       "      <td>12.10</td>\n",
       "      <td>2.46</td>\n",
       "      <td>0.83</td>\n",
       "      <td>2.55</td>\n",
       "      <td>10.87</td>\n",
       "    </tr>\n",
       "    <tr>\n",
       "      <th>1</th>\n",
       "      <td>ABQ</td>\n",
       "      <td>2005</td>\n",
       "      <td>51829</td>\n",
       "      <td>51877</td>\n",
       "      <td>0.8140</td>\n",
       "      <td>0.7922</td>\n",
       "      <td>0.8001</td>\n",
       "      <td>9.60</td>\n",
       "      <td>9.79</td>\n",
       "      <td>2.29</td>\n",
       "      <td>11.20</td>\n",
       "      <td>2.26</td>\n",
       "      <td>0.89</td>\n",
       "      <td>2.34</td>\n",
       "      <td>10.24</td>\n",
       "    </tr>\n",
       "    <tr>\n",
       "      <th>2</th>\n",
       "      <td>ABQ</td>\n",
       "      <td>2006</td>\n",
       "      <td>49682</td>\n",
       "      <td>51199</td>\n",
       "      <td>0.7983</td>\n",
       "      <td>0.7756</td>\n",
       "      <td>0.7746</td>\n",
       "      <td>10.84</td>\n",
       "      <td>9.89</td>\n",
       "      <td>2.16</td>\n",
       "      <td>12.33</td>\n",
       "      <td>2.12</td>\n",
       "      <td>0.84</td>\n",
       "      <td>2.66</td>\n",
       "      <td>11.82</td>\n",
       "    </tr>\n",
       "    <tr>\n",
       "      <th>3</th>\n",
       "      <td>ABQ</td>\n",
       "      <td>2007</td>\n",
       "      <td>53255</td>\n",
       "      <td>53611</td>\n",
       "      <td>0.8005</td>\n",
       "      <td>0.7704</td>\n",
       "      <td>0.7647</td>\n",
       "      <td>11.29</td>\n",
       "      <td>10.34</td>\n",
       "      <td>2.40</td>\n",
       "      <td>12.95</td>\n",
       "      <td>2.19</td>\n",
       "      <td>1.29</td>\n",
       "      <td>3.06</td>\n",
       "      <td>12.71</td>\n",
       "    </tr>\n",
       "    <tr>\n",
       "      <th>4</th>\n",
       "      <td>ABQ</td>\n",
       "      <td>2008</td>\n",
       "      <td>49589</td>\n",
       "      <td>49512</td>\n",
       "      <td>0.8103</td>\n",
       "      <td>0.7844</td>\n",
       "      <td>0.7875</td>\n",
       "      <td>10.79</td>\n",
       "      <td>10.41</td>\n",
       "      <td>2.41</td>\n",
       "      <td>12.32</td>\n",
       "      <td>1.82</td>\n",
       "      <td>1.03</td>\n",
       "      <td>2.79</td>\n",
       "      <td>11.48</td>\n",
       "    </tr>\n",
       "  </tbody>\n",
       "</table>\n",
       "</div>"
      ],
      "text/plain": [
       "  airport  year  departures for metric computation  \\\n",
       "0     ABQ  2004                              53971   \n",
       "1     ABQ  2005                              51829   \n",
       "2     ABQ  2006                              49682   \n",
       "3     ABQ  2007                              53255   \n",
       "4     ABQ  2008                              49589   \n",
       "\n",
       "   arrivals for metric computation  percent on-time gate departures  \\\n",
       "0                            53818                           0.8030   \n",
       "1                            51877                           0.8140   \n",
       "2                            51199                           0.7983   \n",
       "3                            53611                           0.8005   \n",
       "4                            49512                           0.8103   \n",
       "\n",
       "   percent on-time airport departures  percent on-time gate arrivals  \\\n",
       "0                              0.7809                         0.7921   \n",
       "1                              0.7922                         0.8001   \n",
       "2                              0.7756                         0.7746   \n",
       "3                              0.7704                         0.7647   \n",
       "4                              0.7844                         0.7875   \n",
       "\n",
       "   average_gate_departure_delay  average_taxi_out_time  \\\n",
       "0                         10.38                   9.89   \n",
       "1                          9.60                   9.79   \n",
       "2                         10.84                   9.89   \n",
       "3                         11.29                  10.34   \n",
       "4                         10.79                  10.41   \n",
       "\n",
       "   average taxi out delay  average airport departure delay  \\\n",
       "0                    2.43                            12.10   \n",
       "1                    2.29                            11.20   \n",
       "2                    2.16                            12.33   \n",
       "3                    2.40                            12.95   \n",
       "4                    2.41                            12.32   \n",
       "\n",
       "   average airborne delay  average taxi in delay  average block delay  \\\n",
       "0                    2.46                   0.83                 2.55   \n",
       "1                    2.26                   0.89                 2.34   \n",
       "2                    2.12                   0.84                 2.66   \n",
       "3                    2.19                   1.29                 3.06   \n",
       "4                    1.82                   1.03                 2.79   \n",
       "\n",
       "   average gate arrival delay  \n",
       "0                       10.87  \n",
       "1                       10.24  \n",
       "2                       11.82  \n",
       "3                       12.71  \n",
       "4                       11.48  "
      ]
     },
     "execution_count": 4,
     "metadata": {},
     "output_type": "execute_result"
    }
   ],
   "source": [
    "# Examine and import airport operations data\n",
    "airport_op = pd.read_csv('../assets/Airport_operations.csv')\n",
    "airport_op.head()\n"
   ]
  },
  {
   "cell_type": "code",
   "execution_count": 5,
   "metadata": {
    "collapsed": false
   },
   "outputs": [
    {
     "data": {
      "text/plain": [
       "(841, 15)"
      ]
     },
     "execution_count": 5,
     "metadata": {},
     "output_type": "execute_result"
    }
   ],
   "source": [
    "# shape of airport operations shape\n",
    "airport_op.shape"
   ]
  },
  {
   "cell_type": "code",
   "execution_count": 6,
   "metadata": {
    "collapsed": false
   },
   "outputs": [
    {
     "data": {
      "text/html": [
       "<div>\n",
       "<table border=\"1\" class=\"dataframe\">\n",
       "  <thead>\n",
       "    <tr style=\"text-align: right;\">\n",
       "      <th></th>\n",
       "      <th>Airport</th>\n",
       "      <th>Year</th>\n",
       "      <th>Departure Cancellations</th>\n",
       "      <th>Arrival Cancellations</th>\n",
       "      <th>Departure Diversions</th>\n",
       "      <th>Arrival Diversions</th>\n",
       "    </tr>\n",
       "  </thead>\n",
       "  <tbody>\n",
       "    <tr>\n",
       "      <th>0</th>\n",
       "      <td>ABQ</td>\n",
       "      <td>2004.0</td>\n",
       "      <td>242.0</td>\n",
       "      <td>235.0</td>\n",
       "      <td>71.0</td>\n",
       "      <td>46.0</td>\n",
       "    </tr>\n",
       "    <tr>\n",
       "      <th>1</th>\n",
       "      <td>ABQ</td>\n",
       "      <td>2005.0</td>\n",
       "      <td>221.0</td>\n",
       "      <td>190.0</td>\n",
       "      <td>61.0</td>\n",
       "      <td>33.0</td>\n",
       "    </tr>\n",
       "    <tr>\n",
       "      <th>2</th>\n",
       "      <td>ABQ</td>\n",
       "      <td>2006.0</td>\n",
       "      <td>392.0</td>\n",
       "      <td>329.0</td>\n",
       "      <td>71.0</td>\n",
       "      <td>124.0</td>\n",
       "    </tr>\n",
       "    <tr>\n",
       "      <th>3</th>\n",
       "      <td>ABQ</td>\n",
       "      <td>2007.0</td>\n",
       "      <td>366.0</td>\n",
       "      <td>304.0</td>\n",
       "      <td>107.0</td>\n",
       "      <td>45.0</td>\n",
       "    </tr>\n",
       "    <tr>\n",
       "      <th>4</th>\n",
       "      <td>ABQ</td>\n",
       "      <td>2008.0</td>\n",
       "      <td>333.0</td>\n",
       "      <td>300.0</td>\n",
       "      <td>79.0</td>\n",
       "      <td>42.0</td>\n",
       "    </tr>\n",
       "  </tbody>\n",
       "</table>\n",
       "</div>"
      ],
      "text/plain": [
       "  Airport    Year  Departure Cancellations  Arrival Cancellations  \\\n",
       "0     ABQ  2004.0                    242.0                  235.0   \n",
       "1     ABQ  2005.0                    221.0                  190.0   \n",
       "2     ABQ  2006.0                    392.0                  329.0   \n",
       "3     ABQ  2007.0                    366.0                  304.0   \n",
       "4     ABQ  2008.0                    333.0                  300.0   \n",
       "\n",
       "   Departure Diversions  Arrival Diversions  \n",
       "0                  71.0                46.0  \n",
       "1                  61.0                33.0  \n",
       "2                  71.0               124.0  \n",
       "3                 107.0                45.0  \n",
       "4                  79.0                42.0  "
      ]
     },
     "execution_count": 6,
     "metadata": {},
     "output_type": "execute_result"
    }
   ],
   "source": [
    "# Examine and import airport cancellations data\n",
    "airport_can = pd.read_csv('../assets/airport_cancellations.csv')\n",
    "airport_can.head()"
   ]
  },
  {
   "cell_type": "code",
   "execution_count": 7,
   "metadata": {
    "collapsed": false
   },
   "outputs": [
    {
     "data": {
      "text/plain": [
       "(805, 6)"
      ]
     },
     "execution_count": 7,
     "metadata": {},
     "output_type": "execute_result"
    }
   ],
   "source": [
    "# shape of airport operations shape\n",
    "airport_can.shape"
   ]
  },
  {
   "cell_type": "markdown",
   "metadata": {
    "focus": false,
    "id": "3690c265-ac0f-484d-ac79-f42da341e4cd"
   },
   "source": [
    "### Intro: Write a problem statement / aim for this project"
   ]
  },
  {
   "cell_type": "markdown",
   "metadata": {},
   "source": [
    "You've been hired by the FAA as a consultant to analyze the operations of major airports around the country. The FAA wants to cut down on delays nationwide, and the most important part of this task is understanding the characteristics and groupings of airports based on a dataset of departure and operational delays.\n",
    "\n",
    "A certain degree of delay is expected in airport operations, however the FAA is noticing significant delays with certain airports\n",
    "When a flight takes off, it's departure delay is recorded in minutes, as well as operational data relating to this delay\n",
    "At the end of the year, this data is averaged out for each airport. Your datasets have these averaged for a 10 year range between 2004 and 2014\n",
    "Over this 10 year range, some delay times have not improved or have worsened."
   ]
  },
  {
   "cell_type": "markdown",
   "metadata": {},
   "source": [
    "Objective: Your task is to understand the distribution, characteristics, and components of individual airports operations that are leading to these delays."
   ]
  },
  {
   "cell_type": "markdown",
   "metadata": {
    "focus": false,
    "id": "a3cccc0e-8531-4dfe-bb23-8c632aa7404e"
   },
   "source": [
    "### Part 1: Create a PostgreSQL database "
   ]
  },
  {
   "cell_type": "markdown",
   "metadata": {
    "focus": false,
    "id": "b51ca850-aa85-43e1-b7cd-627af62f5fe8"
   },
   "source": [
    "#### 1. Let's create a database where we can house our airport data"
   ]
  },
  {
   "cell_type": "code",
   "execution_count": 8,
   "metadata": {
    "collapsed": true
   },
   "outputs": [],
   "source": [
    "from sqlalchemy import create_engine"
   ]
  },
  {
   "cell_type": "code",
   "execution_count": 9,
   "metadata": {
    "collapsed": false,
    "focus": false,
    "id": "5d1b5e84-b49a-4bad-b961-abcb8e6f2751"
   },
   "outputs": [],
   "source": [
    "# load sql\n",
    "%load_ext sql"
   ]
  },
  {
   "cell_type": "code",
   "execution_count": 10,
   "metadata": {
    "collapsed": false
   },
   "outputs": [
    {
     "data": {
      "text/plain": [
       "u'Connected: student@airport'"
      ]
     },
     "execution_count": 10,
     "metadata": {},
     "output_type": "execute_result"
    }
   ],
   "source": [
    "# connect to postgresql\n",
    "%sql postgresql://student@localhost:5432/airport"
   ]
  },
  {
   "cell_type": "code",
   "execution_count": 11,
   "metadata": {
    "collapsed": true
   },
   "outputs": [],
   "source": [
    "# create engine\n",
    "engine = create_engine('postgresql://student@localhost:5432/airport')"
   ]
  },
  {
   "cell_type": "markdown",
   "metadata": {
    "focus": false,
    "id": "b40e2d2b-5535-42c6-94d6-083b3e428b14"
   },
   "source": [
    "Load our csv files into tables"
   ]
  },
  {
   "cell_type": "code",
   "execution_count": 12,
   "metadata": {
    "collapsed": false,
    "focus": false,
    "id": "5cb41423-7467-4005-964c-9b423c3af977"
   },
   "outputs": [],
   "source": [
    "# create airport, airport_cancellations, airport_operations tables\n",
    "airport.to_sql('airport',engine,if_exists='replace')\n",
    "airport_can.to_sql('airport_cancellations',engine,if_exists='replace')\n",
    "airport_op.to_sql('airport_operations',engine,if_exists='replace')"
   ]
  },
  {
   "cell_type": "markdown",
   "metadata": {
    "focus": false,
    "id": "a0ca5023-4860-4d86-ae40-218d120ece17"
   },
   "source": [
    "Join airport_cancellations.csv and airports.csv into one table"
   ]
  },
  {
   "cell_type": "code",
   "execution_count": 13,
   "metadata": {
    "collapsed": false
   },
   "outputs": [
    {
     "name": "stdout",
     "output_type": "stream",
     "text": [
      "799 rows affected.\n"
     ]
    }
   ],
   "source": [
    "# Combine cancellations,airports, and airport operations tables in Postgresql\n",
    "airports  = %%sql select * from airport a join airport_cancellations ac on a.\"LocID\" = ac.\"Airport\" join airport_operations ao on (a.\"LocID\"=ao.\"airport\" and ac.\"Year\" = ao.\"year\")"
   ]
  },
  {
   "cell_type": "markdown",
   "metadata": {},
   "source": [
    "## Clean & Format Data"
   ]
  },
  {
   "cell_type": "code",
   "execution_count": 14,
   "metadata": {
    "collapsed": false
   },
   "outputs": [],
   "source": [
    "# Convert to dataframe\n",
    "airports = airports.DataFrame()"
   ]
  },
  {
   "cell_type": "code",
   "execution_count": 15,
   "metadata": {
    "collapsed": false
   },
   "outputs": [],
   "source": [
    "# drop index\n",
    "airports.drop('index',axis=1,inplace=True)"
   ]
  },
  {
   "cell_type": "markdown",
   "metadata": {
    "focus": false,
    "id": "a5fa5f85-1cd6-4ab6-b936-93e9c951e1b7"
   },
   "source": [
    "Query the database for our intial data"
   ]
  },
  {
   "cell_type": "code",
   "execution_count": 16,
   "metadata": {
    "collapsed": false,
    "focus": false,
    "id": "385da01a-0b74-47bc-9757-447e46fa194a"
   },
   "outputs": [
    {
     "data": {
      "text/plain": [
       "74"
      ]
     },
     "execution_count": 16,
     "metadata": {},
     "output_type": "execute_result"
    }
   ],
   "source": [
    "# Number of unique airports\n",
    "airports['LocID'].nunique()"
   ]
  },
  {
   "cell_type": "code",
   "execution_count": 17,
   "metadata": {
    "collapsed": false
   },
   "outputs": [
    {
     "data": {
      "text/plain": [
       "array([u'LUIS MUNOZ MARIN INTL', u'KAHULUI', u'HONOLULU INTL',\n",
       "       u'MIAMI INTL', u'FORT LAUDERDALE/HOLLYWOOD INTL',\n",
       "       u'SOUTHWEST FLORIDA INTL', u'PALM BEACH INTL', u'TAMPA INTL',\n",
       "       u'ORLANDO INTL', u'SAN ANTONIO INTL', u'WILLIAM P HOBBY',\n",
       "       u'GEORGE BUSH INTERCONTINENTAL/HOUSTON',\n",
       "       u'LOUIS ARMSTRONG NEW ORLEANS INTL', u'AUSTIN-BERGSTROM INTL',\n",
       "       u'JACKSONVILLE INTL', u'TUCSON INTL', u'SAN DIEGO INTL',\n",
       "       u'DALLAS LOVE FIELD', u'DALLAS/FORT WORTH INTL',\n",
       "       u'PHOENIX SKY HARBOR INTL', u'BIRMINGHAM-SHUTTLESWORTH INTL',\n",
       "       u'HARTSFIELD - JACKSON ATLANTA INTL',\n",
       "       u'JOHN WAYNE AIRPORT-ORANGE COUNTY',\n",
       "       u'LONG BEACH /DAUGHERTY FIELD/', u'PALM SPRINGS INTL',\n",
       "       u'LOS ANGELES INTL', u'ONTARIO INTL', u'BOB HOPE', u'OXNARD',\n",
       "       u'ALBUQUERQUE INTL SUNPORT', u'MEMPHIS INTL',\n",
       "       u'CHARLOTTE/DOUGLAS INTL', u'RALEIGH-DURHAM INTL',\n",
       "       u'MC CARRAN INTL', u'NASHVILLE INTL',\n",
       "       u'NORMAN Y. MINETA SAN JOSE INTL', u'SAN FRANCISCO INTL',\n",
       "       u'METROPOLITAN OAKLAND INTL', u'LOUISVILLE INTL-STANDIFORD FIELD',\n",
       "       u'SACRAMENTO INTL', u'LAMBERT-ST LOUIS INTL',\n",
       "       u'RONALD REAGAN WASHINGTON NATIONAL', u'WASHINGTON DULLES INTL',\n",
       "       u'CINCINNATI/NORTHERN KENTUCKY INTL',\n",
       "       u'BALTIMORE/WASHINGTON INTL THURGOOD MARSHAL', u'KANSAS CITY INTL',\n",
       "       u'INDIANAPOLIS INTL', u'DENVER INTL', u'PHILADELPHIA INTL',\n",
       "       u'JAMES M COX DAYTON INTL', u'PITTSBURGH INTL',\n",
       "       u'JOHN F KENNEDY INTL', u'NEWARK LIBERTY INTL', u'LA GUARDIA',\n",
       "       u'SALT LAKE CITY INTL', u'LONG ISLAND MAC ARTHUR',\n",
       "       u'WESTCHESTER COUNTY', u'EPPLEY AIRFIELD',\n",
       "       u'CLEVELAND-HOPKINS INTL', u'STEWART INTL',\n",
       "       u'THEODORE FRANCIS GREEN STATE', u'CHICAGO MIDWAY INTL',\n",
       "       u'BRADLEY INTL', u\"CHICAGO O'HARE INTL\", u'CHICAGO/ROCKFORD INTL',\n",
       "       u'DETROIT METROPOLITAN WAYNE COUNTY',\n",
       "       u'GENERAL EDWARD LAWRENCE LOGAN INTL', u'MANCHESTER',\n",
       "       u'BUFFALO NIAGARA INTL', u'GENERAL MITCHELL INTL',\n",
       "       u'MINNEAPOLIS-ST PAUL INTL/WOLD-CHAMBERLAIN', u'PORTLAND INTL',\n",
       "       u'SEATTLE-TACOMA INTL', u'TED STEVENS ANCHORAGE INTL'], dtype=object)"
      ]
     },
     "execution_count": 17,
     "metadata": {},
     "output_type": "execute_result"
    }
   ],
   "source": [
    "# All airports with cancellation information\n",
    "airports['AP_NAME'].unique()"
   ]
  },
  {
   "cell_type": "code",
   "execution_count": 18,
   "metadata": {
    "collapsed": false
   },
   "outputs": [],
   "source": [
    "# drop alias, facility type, key, airport x2, year columns\n",
    "airports = airports.drop(['ALIAS','Facility Type','Key','Airport','airport','year'],axis=1)"
   ]
  },
  {
   "cell_type": "code",
   "execution_count": 19,
   "metadata": {
    "collapsed": false
   },
   "outputs": [
    {
     "data": {
      "text/html": [
       "<div>\n",
       "<table border=\"1\" class=\"dataframe\">\n",
       "  <thead>\n",
       "    <tr style=\"text-align: right;\">\n",
       "      <th></th>\n",
       "      <th>0</th>\n",
       "      <th>1</th>\n",
       "      <th>2</th>\n",
       "      <th>3</th>\n",
       "      <th>4</th>\n",
       "      <th>5</th>\n",
       "      <th>6</th>\n",
       "      <th>7</th>\n",
       "      <th>8</th>\n",
       "      <th>9</th>\n",
       "      <th>...</th>\n",
       "      <th>789</th>\n",
       "      <th>790</th>\n",
       "      <th>791</th>\n",
       "      <th>792</th>\n",
       "      <th>793</th>\n",
       "      <th>794</th>\n",
       "      <th>795</th>\n",
       "      <th>796</th>\n",
       "      <th>797</th>\n",
       "      <th>798</th>\n",
       "    </tr>\n",
       "  </thead>\n",
       "  <tbody>\n",
       "    <tr>\n",
       "      <th>LocID</th>\n",
       "      <td>SJU</td>\n",
       "      <td>SJU</td>\n",
       "      <td>SJU</td>\n",
       "      <td>SJU</td>\n",
       "      <td>SJU</td>\n",
       "      <td>SJU</td>\n",
       "      <td>SJU</td>\n",
       "      <td>SJU</td>\n",
       "      <td>SJU</td>\n",
       "      <td>SJU</td>\n",
       "      <td>...</td>\n",
       "      <td>ANC</td>\n",
       "      <td>ANC</td>\n",
       "      <td>ANC</td>\n",
       "      <td>ANC</td>\n",
       "      <td>ANC</td>\n",
       "      <td>ANC</td>\n",
       "      <td>ANC</td>\n",
       "      <td>ANC</td>\n",
       "      <td>ANC</td>\n",
       "      <td>ANC</td>\n",
       "    </tr>\n",
       "    <tr>\n",
       "      <th>AP_NAME</th>\n",
       "      <td>LUIS MUNOZ MARIN INTL</td>\n",
       "      <td>LUIS MUNOZ MARIN INTL</td>\n",
       "      <td>LUIS MUNOZ MARIN INTL</td>\n",
       "      <td>LUIS MUNOZ MARIN INTL</td>\n",
       "      <td>LUIS MUNOZ MARIN INTL</td>\n",
       "      <td>LUIS MUNOZ MARIN INTL</td>\n",
       "      <td>LUIS MUNOZ MARIN INTL</td>\n",
       "      <td>LUIS MUNOZ MARIN INTL</td>\n",
       "      <td>LUIS MUNOZ MARIN INTL</td>\n",
       "      <td>LUIS MUNOZ MARIN INTL</td>\n",
       "      <td>...</td>\n",
       "      <td>TED STEVENS ANCHORAGE INTL</td>\n",
       "      <td>TED STEVENS ANCHORAGE INTL</td>\n",
       "      <td>TED STEVENS ANCHORAGE INTL</td>\n",
       "      <td>TED STEVENS ANCHORAGE INTL</td>\n",
       "      <td>TED STEVENS ANCHORAGE INTL</td>\n",
       "      <td>TED STEVENS ANCHORAGE INTL</td>\n",
       "      <td>TED STEVENS ANCHORAGE INTL</td>\n",
       "      <td>TED STEVENS ANCHORAGE INTL</td>\n",
       "      <td>TED STEVENS ANCHORAGE INTL</td>\n",
       "      <td>TED STEVENS ANCHORAGE INTL</td>\n",
       "    </tr>\n",
       "    <tr>\n",
       "      <th>FAA REGION</th>\n",
       "      <td>ASO</td>\n",
       "      <td>ASO</td>\n",
       "      <td>ASO</td>\n",
       "      <td>ASO</td>\n",
       "      <td>ASO</td>\n",
       "      <td>ASO</td>\n",
       "      <td>ASO</td>\n",
       "      <td>ASO</td>\n",
       "      <td>ASO</td>\n",
       "      <td>ASO</td>\n",
       "      <td>...</td>\n",
       "      <td>AAL</td>\n",
       "      <td>AAL</td>\n",
       "      <td>AAL</td>\n",
       "      <td>AAL</td>\n",
       "      <td>AAL</td>\n",
       "      <td>AAL</td>\n",
       "      <td>AAL</td>\n",
       "      <td>AAL</td>\n",
       "      <td>AAL</td>\n",
       "      <td>AAL</td>\n",
       "    </tr>\n",
       "    <tr>\n",
       "      <th>COUNTY</th>\n",
       "      <td>#NAME?</td>\n",
       "      <td>#NAME?</td>\n",
       "      <td>#NAME?</td>\n",
       "      <td>#NAME?</td>\n",
       "      <td>#NAME?</td>\n",
       "      <td>#NAME?</td>\n",
       "      <td>#NAME?</td>\n",
       "      <td>#NAME?</td>\n",
       "      <td>#NAME?</td>\n",
       "      <td>#NAME?</td>\n",
       "      <td>...</td>\n",
       "      <td>ANCHORAGE</td>\n",
       "      <td>ANCHORAGE</td>\n",
       "      <td>ANCHORAGE</td>\n",
       "      <td>ANCHORAGE</td>\n",
       "      <td>ANCHORAGE</td>\n",
       "      <td>ANCHORAGE</td>\n",
       "      <td>ANCHORAGE</td>\n",
       "      <td>ANCHORAGE</td>\n",
       "      <td>ANCHORAGE</td>\n",
       "      <td>ANCHORAGE</td>\n",
       "    </tr>\n",
       "    <tr>\n",
       "      <th>CITY</th>\n",
       "      <td>SAN JUAN</td>\n",
       "      <td>SAN JUAN</td>\n",
       "      <td>SAN JUAN</td>\n",
       "      <td>SAN JUAN</td>\n",
       "      <td>SAN JUAN</td>\n",
       "      <td>SAN JUAN</td>\n",
       "      <td>SAN JUAN</td>\n",
       "      <td>SAN JUAN</td>\n",
       "      <td>SAN JUAN</td>\n",
       "      <td>SAN JUAN</td>\n",
       "      <td>...</td>\n",
       "      <td>ANCHORAGE</td>\n",
       "      <td>ANCHORAGE</td>\n",
       "      <td>ANCHORAGE</td>\n",
       "      <td>ANCHORAGE</td>\n",
       "      <td>ANCHORAGE</td>\n",
       "      <td>ANCHORAGE</td>\n",
       "      <td>ANCHORAGE</td>\n",
       "      <td>ANCHORAGE</td>\n",
       "      <td>ANCHORAGE</td>\n",
       "      <td>ANCHORAGE</td>\n",
       "    </tr>\n",
       "    <tr>\n",
       "      <th>STATE</th>\n",
       "      <td>PR</td>\n",
       "      <td>PR</td>\n",
       "      <td>PR</td>\n",
       "      <td>PR</td>\n",
       "      <td>PR</td>\n",
       "      <td>PR</td>\n",
       "      <td>PR</td>\n",
       "      <td>PR</td>\n",
       "      <td>PR</td>\n",
       "      <td>PR</td>\n",
       "      <td>...</td>\n",
       "      <td>AK</td>\n",
       "      <td>AK</td>\n",
       "      <td>AK</td>\n",
       "      <td>AK</td>\n",
       "      <td>AK</td>\n",
       "      <td>AK</td>\n",
       "      <td>AK</td>\n",
       "      <td>AK</td>\n",
       "      <td>AK</td>\n",
       "      <td>AK</td>\n",
       "    </tr>\n",
       "    <tr>\n",
       "      <th>AP Type</th>\n",
       "      <td>Federalized/Commercial</td>\n",
       "      <td>Federalized/Commercial</td>\n",
       "      <td>Federalized/Commercial</td>\n",
       "      <td>Federalized/Commercial</td>\n",
       "      <td>Federalized/Commercial</td>\n",
       "      <td>Federalized/Commercial</td>\n",
       "      <td>Federalized/Commercial</td>\n",
       "      <td>Federalized/Commercial</td>\n",
       "      <td>Federalized/Commercial</td>\n",
       "      <td>Federalized/Commercial</td>\n",
       "      <td>...</td>\n",
       "      <td>Federalized/Commercial</td>\n",
       "      <td>Federalized/Commercial</td>\n",
       "      <td>Federalized/Commercial</td>\n",
       "      <td>Federalized/Commercial</td>\n",
       "      <td>Federalized/Commercial</td>\n",
       "      <td>Federalized/Commercial</td>\n",
       "      <td>Federalized/Commercial</td>\n",
       "      <td>Federalized/Commercial</td>\n",
       "      <td>Federalized/Commercial</td>\n",
       "      <td>Federalized/Commercial</td>\n",
       "    </tr>\n",
       "    <tr>\n",
       "      <th>Latitude</th>\n",
       "      <td>18.4393</td>\n",
       "      <td>18.4393</td>\n",
       "      <td>18.4393</td>\n",
       "      <td>18.4393</td>\n",
       "      <td>18.4393</td>\n",
       "      <td>18.4393</td>\n",
       "      <td>18.4393</td>\n",
       "      <td>18.4393</td>\n",
       "      <td>18.4393</td>\n",
       "      <td>18.4393</td>\n",
       "      <td>...</td>\n",
       "      <td>61.1741</td>\n",
       "      <td>61.1741</td>\n",
       "      <td>61.1741</td>\n",
       "      <td>61.1741</td>\n",
       "      <td>61.1741</td>\n",
       "      <td>61.1741</td>\n",
       "      <td>61.1741</td>\n",
       "      <td>61.1741</td>\n",
       "      <td>61.1741</td>\n",
       "      <td>61.1741</td>\n",
       "    </tr>\n",
       "    <tr>\n",
       "      <th>Longitude</th>\n",
       "      <td>-66.002</td>\n",
       "      <td>-66.002</td>\n",
       "      <td>-66.002</td>\n",
       "      <td>-66.002</td>\n",
       "      <td>-66.002</td>\n",
       "      <td>-66.002</td>\n",
       "      <td>-66.002</td>\n",
       "      <td>-66.002</td>\n",
       "      <td>-66.002</td>\n",
       "      <td>-66.002</td>\n",
       "      <td>...</td>\n",
       "      <td>-149.998</td>\n",
       "      <td>-149.998</td>\n",
       "      <td>-149.998</td>\n",
       "      <td>-149.998</td>\n",
       "      <td>-149.998</td>\n",
       "      <td>-149.998</td>\n",
       "      <td>-149.998</td>\n",
       "      <td>-149.998</td>\n",
       "      <td>-149.998</td>\n",
       "      <td>-149.998</td>\n",
       "    </tr>\n",
       "    <tr>\n",
       "      <th>Boundary Data Available</th>\n",
       "      <td>Yes</td>\n",
       "      <td>Yes</td>\n",
       "      <td>Yes</td>\n",
       "      <td>Yes</td>\n",
       "      <td>Yes</td>\n",
       "      <td>Yes</td>\n",
       "      <td>Yes</td>\n",
       "      <td>Yes</td>\n",
       "      <td>Yes</td>\n",
       "      <td>Yes</td>\n",
       "      <td>...</td>\n",
       "      <td>Yes</td>\n",
       "      <td>Yes</td>\n",
       "      <td>Yes</td>\n",
       "      <td>Yes</td>\n",
       "      <td>Yes</td>\n",
       "      <td>Yes</td>\n",
       "      <td>Yes</td>\n",
       "      <td>Yes</td>\n",
       "      <td>Yes</td>\n",
       "      <td>Yes</td>\n",
       "    </tr>\n",
       "    <tr>\n",
       "      <th>Year</th>\n",
       "      <td>2014</td>\n",
       "      <td>2013</td>\n",
       "      <td>2012</td>\n",
       "      <td>2011</td>\n",
       "      <td>2010</td>\n",
       "      <td>2009</td>\n",
       "      <td>2008</td>\n",
       "      <td>2007</td>\n",
       "      <td>2006</td>\n",
       "      <td>2005</td>\n",
       "      <td>...</td>\n",
       "      <td>2013</td>\n",
       "      <td>2012</td>\n",
       "      <td>2011</td>\n",
       "      <td>2010</td>\n",
       "      <td>2009</td>\n",
       "      <td>2008</td>\n",
       "      <td>2007</td>\n",
       "      <td>2006</td>\n",
       "      <td>2005</td>\n",
       "      <td>2004</td>\n",
       "    </tr>\n",
       "    <tr>\n",
       "      <th>Departure Cancellations</th>\n",
       "      <td>280</td>\n",
       "      <td>127</td>\n",
       "      <td>174</td>\n",
       "      <td>240</td>\n",
       "      <td>258</td>\n",
       "      <td>199</td>\n",
       "      <td>238</td>\n",
       "      <td>307</td>\n",
       "      <td>257</td>\n",
       "      <td>315</td>\n",
       "      <td>...</td>\n",
       "      <td>141</td>\n",
       "      <td>216</td>\n",
       "      <td>191</td>\n",
       "      <td>149</td>\n",
       "      <td>354</td>\n",
       "      <td>268</td>\n",
       "      <td>359</td>\n",
       "      <td>367</td>\n",
       "      <td>424</td>\n",
       "      <td>473</td>\n",
       "    </tr>\n",
       "    <tr>\n",
       "      <th>Arrival Cancellations</th>\n",
       "      <td>241</td>\n",
       "      <td>94</td>\n",
       "      <td>141</td>\n",
       "      <td>201</td>\n",
       "      <td>207</td>\n",
       "      <td>159</td>\n",
       "      <td>197</td>\n",
       "      <td>278</td>\n",
       "      <td>233</td>\n",
       "      <td>282</td>\n",
       "      <td>...</td>\n",
       "      <td>184</td>\n",
       "      <td>284</td>\n",
       "      <td>265</td>\n",
       "      <td>204</td>\n",
       "      <td>421</td>\n",
       "      <td>355</td>\n",
       "      <td>423</td>\n",
       "      <td>436</td>\n",
       "      <td>484</td>\n",
       "      <td>532</td>\n",
       "    </tr>\n",
       "    <tr>\n",
       "      <th>Departure Diversions</th>\n",
       "      <td>72</td>\n",
       "      <td>65</td>\n",
       "      <td>62</td>\n",
       "      <td>101</td>\n",
       "      <td>82</td>\n",
       "      <td>57</td>\n",
       "      <td>78</td>\n",
       "      <td>70</td>\n",
       "      <td>63</td>\n",
       "      <td>64</td>\n",
       "      <td>...</td>\n",
       "      <td>65</td>\n",
       "      <td>78</td>\n",
       "      <td>87</td>\n",
       "      <td>84</td>\n",
       "      <td>84</td>\n",
       "      <td>97</td>\n",
       "      <td>93</td>\n",
       "      <td>88</td>\n",
       "      <td>74</td>\n",
       "      <td>73</td>\n",
       "    </tr>\n",
       "    <tr>\n",
       "      <th>Arrival Diversions</th>\n",
       "      <td>31</td>\n",
       "      <td>64</td>\n",
       "      <td>41</td>\n",
       "      <td>55</td>\n",
       "      <td>45</td>\n",
       "      <td>58</td>\n",
       "      <td>29</td>\n",
       "      <td>42</td>\n",
       "      <td>44</td>\n",
       "      <td>36</td>\n",
       "      <td>...</td>\n",
       "      <td>40</td>\n",
       "      <td>36</td>\n",
       "      <td>36</td>\n",
       "      <td>32</td>\n",
       "      <td>80</td>\n",
       "      <td>57</td>\n",
       "      <td>54</td>\n",
       "      <td>50</td>\n",
       "      <td>31</td>\n",
       "      <td>30</td>\n",
       "    </tr>\n",
       "    <tr>\n",
       "      <th>departures for metric computation</th>\n",
       "      <td>43671</td>\n",
       "      <td>42902</td>\n",
       "      <td>44716</td>\n",
       "      <td>42803</td>\n",
       "      <td>47314</td>\n",
       "      <td>48418</td>\n",
       "      <td>44493</td>\n",
       "      <td>47987</td>\n",
       "      <td>55707</td>\n",
       "      <td>57736</td>\n",
       "      <td>...</td>\n",
       "      <td>69984</td>\n",
       "      <td>70322</td>\n",
       "      <td>72556</td>\n",
       "      <td>73089</td>\n",
       "      <td>67252</td>\n",
       "      <td>76606</td>\n",
       "      <td>78741</td>\n",
       "      <td>75708</td>\n",
       "      <td>72043</td>\n",
       "      <td>16503</td>\n",
       "    </tr>\n",
       "    <tr>\n",
       "      <th>arrivals for metric computation</th>\n",
       "      <td>42965</td>\n",
       "      <td>42175</td>\n",
       "      <td>43985</td>\n",
       "      <td>42401</td>\n",
       "      <td>45781</td>\n",
       "      <td>46678</td>\n",
       "      <td>43448</td>\n",
       "      <td>47246</td>\n",
       "      <td>52948</td>\n",
       "      <td>54870</td>\n",
       "      <td>...</td>\n",
       "      <td>65469</td>\n",
       "      <td>66453</td>\n",
       "      <td>66845</td>\n",
       "      <td>68125</td>\n",
       "      <td>63135</td>\n",
       "      <td>72479</td>\n",
       "      <td>73323</td>\n",
       "      <td>69995</td>\n",
       "      <td>67034</td>\n",
       "      <td>15511</td>\n",
       "    </tr>\n",
       "    <tr>\n",
       "      <th>percent on-time gate departures</th>\n",
       "      <td>0.8056</td>\n",
       "      <td>0.8058</td>\n",
       "      <td>0.8417</td>\n",
       "      <td>0.8179</td>\n",
       "      <td>0.7967</td>\n",
       "      <td>0.8168</td>\n",
       "      <td>0.8004</td>\n",
       "      <td>0.8014</td>\n",
       "      <td>0.8054</td>\n",
       "      <td>0.7789</td>\n",
       "      <td>...</td>\n",
       "      <td>0.8432</td>\n",
       "      <td>0.8442</td>\n",
       "      <td>0.8276</td>\n",
       "      <td>0.7992</td>\n",
       "      <td>0.8112</td>\n",
       "      <td>0.7972</td>\n",
       "      <td>0.7838</td>\n",
       "      <td>0.7771</td>\n",
       "      <td>0.7394</td>\n",
       "      <td>0.7109</td>\n",
       "    </tr>\n",
       "    <tr>\n",
       "      <th>percent on-time airport departures</th>\n",
       "      <td>0.7784</td>\n",
       "      <td>0.7808</td>\n",
       "      <td>0.8228</td>\n",
       "      <td>0.7934</td>\n",
       "      <td>0.7815</td>\n",
       "      <td>0.8015</td>\n",
       "      <td>0.781</td>\n",
       "      <td>0.7522</td>\n",
       "      <td>0.7446</td>\n",
       "      <td>0.7464</td>\n",
       "      <td>...</td>\n",
       "      <td>0.8228</td>\n",
       "      <td>0.8235</td>\n",
       "      <td>0.805</td>\n",
       "      <td>0.776</td>\n",
       "      <td>0.7952</td>\n",
       "      <td>0.7698</td>\n",
       "      <td>0.7457</td>\n",
       "      <td>0.7455</td>\n",
       "      <td>0.7061</td>\n",
       "      <td>0.677</td>\n",
       "    </tr>\n",
       "    <tr>\n",
       "      <th>percent on-time gate arrivals</th>\n",
       "      <td>0.7815</td>\n",
       "      <td>0.784</td>\n",
       "      <td>0.8181</td>\n",
       "      <td>0.7899</td>\n",
       "      <td>0.7719</td>\n",
       "      <td>0.7999</td>\n",
       "      <td>0.7533</td>\n",
       "      <td>0.7414</td>\n",
       "      <td>0.7611</td>\n",
       "      <td>0.7604</td>\n",
       "      <td>...</td>\n",
       "      <td>0.8631</td>\n",
       "      <td>0.8521</td>\n",
       "      <td>0.8292</td>\n",
       "      <td>0.8045</td>\n",
       "      <td>0.8264</td>\n",
       "      <td>0.7573</td>\n",
       "      <td>0.7196</td>\n",
       "      <td>0.711</td>\n",
       "      <td>0.6955</td>\n",
       "      <td>0.6502</td>\n",
       "    </tr>\n",
       "    <tr>\n",
       "      <th>average_gate_departure_delay</th>\n",
       "      <td>11.71</td>\n",
       "      <td>12.31</td>\n",
       "      <td>9.55</td>\n",
       "      <td>10.86</td>\n",
       "      <td>12.21</td>\n",
       "      <td>11.44</td>\n",
       "      <td>12.54</td>\n",
       "      <td>12.53</td>\n",
       "      <td>11.61</td>\n",
       "      <td>12.74</td>\n",
       "      <td>...</td>\n",
       "      <td>9.18</td>\n",
       "      <td>10.01</td>\n",
       "      <td>14.56</td>\n",
       "      <td>17.77</td>\n",
       "      <td>15.1</td>\n",
       "      <td>13.45</td>\n",
       "      <td>15.69</td>\n",
       "      <td>15.56</td>\n",
       "      <td>18.36</td>\n",
       "      <td>21.45</td>\n",
       "    </tr>\n",
       "    <tr>\n",
       "      <th>average_taxi_out_time</th>\n",
       "      <td>12.89</td>\n",
       "      <td>13.56</td>\n",
       "      <td>13.15</td>\n",
       "      <td>13.23</td>\n",
       "      <td>13.04</td>\n",
       "      <td>13.29</td>\n",
       "      <td>14.22</td>\n",
       "      <td>15.22</td>\n",
       "      <td>15.75</td>\n",
       "      <td>14.14</td>\n",
       "      <td>...</td>\n",
       "      <td>12.03</td>\n",
       "      <td>11.71</td>\n",
       "      <td>11.89</td>\n",
       "      <td>11.97</td>\n",
       "      <td>12.49</td>\n",
       "      <td>13.44</td>\n",
       "      <td>13.19</td>\n",
       "      <td>12.84</td>\n",
       "      <td>12.19</td>\n",
       "      <td>12.41</td>\n",
       "    </tr>\n",
       "    <tr>\n",
       "      <th>average taxi out delay</th>\n",
       "      <td>1.88</td>\n",
       "      <td>2.2</td>\n",
       "      <td>1.82</td>\n",
       "      <td>1.96</td>\n",
       "      <td>1.39</td>\n",
       "      <td>1.43</td>\n",
       "      <td>1.85</td>\n",
       "      <td>3.16</td>\n",
       "      <td>4.28</td>\n",
       "      <td>3.03</td>\n",
       "      <td>...</td>\n",
       "      <td>1.51</td>\n",
       "      <td>1.52</td>\n",
       "      <td>1.66</td>\n",
       "      <td>1.79</td>\n",
       "      <td>1.55</td>\n",
       "      <td>1.86</td>\n",
       "      <td>2.29</td>\n",
       "      <td>2.54</td>\n",
       "      <td>2.78</td>\n",
       "      <td>2.92</td>\n",
       "    </tr>\n",
       "    <tr>\n",
       "      <th>average airport departure delay</th>\n",
       "      <td>13.13</td>\n",
       "      <td>13.52</td>\n",
       "      <td>10.55</td>\n",
       "      <td>12.07</td>\n",
       "      <td>13</td>\n",
       "      <td>12.28</td>\n",
       "      <td>13.59</td>\n",
       "      <td>14.97</td>\n",
       "      <td>14.34</td>\n",
       "      <td>14.43</td>\n",
       "      <td>...</td>\n",
       "      <td>10.09</td>\n",
       "      <td>11</td>\n",
       "      <td>15.6</td>\n",
       "      <td>18.83</td>\n",
       "      <td>15.88</td>\n",
       "      <td>14.72</td>\n",
       "      <td>17.52</td>\n",
       "      <td>17.07</td>\n",
       "      <td>19.97</td>\n",
       "      <td>23.05</td>\n",
       "    </tr>\n",
       "    <tr>\n",
       "      <th>average airborne delay</th>\n",
       "      <td>1.81</td>\n",
       "      <td>1.78</td>\n",
       "      <td>1.41</td>\n",
       "      <td>1.45</td>\n",
       "      <td>1.65</td>\n",
       "      <td>1.22</td>\n",
       "      <td>1.64</td>\n",
       "      <td>1.55</td>\n",
       "      <td>1.73</td>\n",
       "      <td>1.63</td>\n",
       "      <td>...</td>\n",
       "      <td>3.4</td>\n",
       "      <td>3.86</td>\n",
       "      <td>3.92</td>\n",
       "      <td>3.75</td>\n",
       "      <td>3.85</td>\n",
       "      <td>5.13</td>\n",
       "      <td>5.13</td>\n",
       "      <td>4.29</td>\n",
       "      <td>3.65</td>\n",
       "      <td>4.03</td>\n",
       "    </tr>\n",
       "    <tr>\n",
       "      <th>average taxi in delay</th>\n",
       "      <td>1</td>\n",
       "      <td>1.41</td>\n",
       "      <td>1.33</td>\n",
       "      <td>1.57</td>\n",
       "      <td>1.32</td>\n",
       "      <td>0.95</td>\n",
       "      <td>1.25</td>\n",
       "      <td>1.71</td>\n",
       "      <td>1.29</td>\n",
       "      <td>1.36</td>\n",
       "      <td>...</td>\n",
       "      <td>0.47</td>\n",
       "      <td>0.34</td>\n",
       "      <td>0.55</td>\n",
       "      <td>0.37</td>\n",
       "      <td>0.31</td>\n",
       "      <td>0.63</td>\n",
       "      <td>0.39</td>\n",
       "      <td>0.72</td>\n",
       "      <td>1.01</td>\n",
       "      <td>1.08</td>\n",
       "    </tr>\n",
       "    <tr>\n",
       "      <th>average block delay</th>\n",
       "      <td>2.93</td>\n",
       "      <td>2.86</td>\n",
       "      <td>2.89</td>\n",
       "      <td>3.67</td>\n",
       "      <td>3.53</td>\n",
       "      <td>2.88</td>\n",
       "      <td>3.75</td>\n",
       "      <td>4.09</td>\n",
       "      <td>4.19</td>\n",
       "      <td>4.04</td>\n",
       "      <td>...</td>\n",
       "      <td>3.82</td>\n",
       "      <td>3.75</td>\n",
       "      <td>4.01</td>\n",
       "      <td>3.91</td>\n",
       "      <td>4.19</td>\n",
       "      <td>5.93</td>\n",
       "      <td>5.87</td>\n",
       "      <td>5.83</td>\n",
       "      <td>4.96</td>\n",
       "      <td>5.93</td>\n",
       "    </tr>\n",
       "    <tr>\n",
       "      <th>average gate arrival delay</th>\n",
       "      <td>12.79</td>\n",
       "      <td>12.96</td>\n",
       "      <td>10.64</td>\n",
       "      <td>12.28</td>\n",
       "      <td>13.4</td>\n",
       "      <td>11.77</td>\n",
       "      <td>15.18</td>\n",
       "      <td>16.31</td>\n",
       "      <td>14.17</td>\n",
       "      <td>14.65</td>\n",
       "      <td>...</td>\n",
       "      <td>8.46</td>\n",
       "      <td>9.33</td>\n",
       "      <td>13.93</td>\n",
       "      <td>20.28</td>\n",
       "      <td>15.95</td>\n",
       "      <td>15.89</td>\n",
       "      <td>18.09</td>\n",
       "      <td>17.71</td>\n",
       "      <td>19.35</td>\n",
       "      <td>22.62</td>\n",
       "    </tr>\n",
       "  </tbody>\n",
       "</table>\n",
       "<p>28 rows × 799 columns</p>\n",
       "</div>"
      ],
      "text/plain": [
       "                                                       0    \\\n",
       "LocID                                                  SJU   \n",
       "AP_NAME                              LUIS MUNOZ MARIN INTL   \n",
       "FAA REGION                                             ASO   \n",
       "COUNTY                                              #NAME?   \n",
       "CITY                                              SAN JUAN   \n",
       "STATE                                                   PR   \n",
       "AP Type                             Federalized/Commercial   \n",
       "Latitude                                           18.4393   \n",
       "Longitude                                          -66.002   \n",
       "Boundary Data Available                                Yes   \n",
       "Year                                                  2014   \n",
       "Departure Cancellations                                280   \n",
       "Arrival Cancellations                                  241   \n",
       "Departure Diversions                                    72   \n",
       "Arrival Diversions                                      31   \n",
       "departures for metric computation                    43671   \n",
       "arrivals for metric computation                      42965   \n",
       "percent on-time gate departures                     0.8056   \n",
       "percent on-time airport departures                  0.7784   \n",
       "percent on-time gate arrivals                       0.7815   \n",
       "average_gate_departure_delay                         11.71   \n",
       "average_taxi_out_time                                12.89   \n",
       "average taxi out delay                                1.88   \n",
       "average airport departure delay                      13.13   \n",
       "average airborne delay                                1.81   \n",
       "average taxi in delay                                    1   \n",
       "average block delay                                   2.93   \n",
       "average gate arrival delay                           12.79   \n",
       "\n",
       "                                                       1    \\\n",
       "LocID                                                  SJU   \n",
       "AP_NAME                              LUIS MUNOZ MARIN INTL   \n",
       "FAA REGION                                             ASO   \n",
       "COUNTY                                              #NAME?   \n",
       "CITY                                              SAN JUAN   \n",
       "STATE                                                   PR   \n",
       "AP Type                             Federalized/Commercial   \n",
       "Latitude                                           18.4393   \n",
       "Longitude                                          -66.002   \n",
       "Boundary Data Available                                Yes   \n",
       "Year                                                  2013   \n",
       "Departure Cancellations                                127   \n",
       "Arrival Cancellations                                   94   \n",
       "Departure Diversions                                    65   \n",
       "Arrival Diversions                                      64   \n",
       "departures for metric computation                    42902   \n",
       "arrivals for metric computation                      42175   \n",
       "percent on-time gate departures                     0.8058   \n",
       "percent on-time airport departures                  0.7808   \n",
       "percent on-time gate arrivals                        0.784   \n",
       "average_gate_departure_delay                         12.31   \n",
       "average_taxi_out_time                                13.56   \n",
       "average taxi out delay                                 2.2   \n",
       "average airport departure delay                      13.52   \n",
       "average airborne delay                                1.78   \n",
       "average taxi in delay                                 1.41   \n",
       "average block delay                                   2.86   \n",
       "average gate arrival delay                           12.96   \n",
       "\n",
       "                                                       2    \\\n",
       "LocID                                                  SJU   \n",
       "AP_NAME                              LUIS MUNOZ MARIN INTL   \n",
       "FAA REGION                                             ASO   \n",
       "COUNTY                                              #NAME?   \n",
       "CITY                                              SAN JUAN   \n",
       "STATE                                                   PR   \n",
       "AP Type                             Federalized/Commercial   \n",
       "Latitude                                           18.4393   \n",
       "Longitude                                          -66.002   \n",
       "Boundary Data Available                                Yes   \n",
       "Year                                                  2012   \n",
       "Departure Cancellations                                174   \n",
       "Arrival Cancellations                                  141   \n",
       "Departure Diversions                                    62   \n",
       "Arrival Diversions                                      41   \n",
       "departures for metric computation                    44716   \n",
       "arrivals for metric computation                      43985   \n",
       "percent on-time gate departures                     0.8417   \n",
       "percent on-time airport departures                  0.8228   \n",
       "percent on-time gate arrivals                       0.8181   \n",
       "average_gate_departure_delay                          9.55   \n",
       "average_taxi_out_time                                13.15   \n",
       "average taxi out delay                                1.82   \n",
       "average airport departure delay                      10.55   \n",
       "average airborne delay                                1.41   \n",
       "average taxi in delay                                 1.33   \n",
       "average block delay                                   2.89   \n",
       "average gate arrival delay                           10.64   \n",
       "\n",
       "                                                       3    \\\n",
       "LocID                                                  SJU   \n",
       "AP_NAME                              LUIS MUNOZ MARIN INTL   \n",
       "FAA REGION                                             ASO   \n",
       "COUNTY                                              #NAME?   \n",
       "CITY                                              SAN JUAN   \n",
       "STATE                                                   PR   \n",
       "AP Type                             Federalized/Commercial   \n",
       "Latitude                                           18.4393   \n",
       "Longitude                                          -66.002   \n",
       "Boundary Data Available                                Yes   \n",
       "Year                                                  2011   \n",
       "Departure Cancellations                                240   \n",
       "Arrival Cancellations                                  201   \n",
       "Departure Diversions                                   101   \n",
       "Arrival Diversions                                      55   \n",
       "departures for metric computation                    42803   \n",
       "arrivals for metric computation                      42401   \n",
       "percent on-time gate departures                     0.8179   \n",
       "percent on-time airport departures                  0.7934   \n",
       "percent on-time gate arrivals                       0.7899   \n",
       "average_gate_departure_delay                         10.86   \n",
       "average_taxi_out_time                                13.23   \n",
       "average taxi out delay                                1.96   \n",
       "average airport departure delay                      12.07   \n",
       "average airborne delay                                1.45   \n",
       "average taxi in delay                                 1.57   \n",
       "average block delay                                   3.67   \n",
       "average gate arrival delay                           12.28   \n",
       "\n",
       "                                                       4    \\\n",
       "LocID                                                  SJU   \n",
       "AP_NAME                              LUIS MUNOZ MARIN INTL   \n",
       "FAA REGION                                             ASO   \n",
       "COUNTY                                              #NAME?   \n",
       "CITY                                              SAN JUAN   \n",
       "STATE                                                   PR   \n",
       "AP Type                             Federalized/Commercial   \n",
       "Latitude                                           18.4393   \n",
       "Longitude                                          -66.002   \n",
       "Boundary Data Available                                Yes   \n",
       "Year                                                  2010   \n",
       "Departure Cancellations                                258   \n",
       "Arrival Cancellations                                  207   \n",
       "Departure Diversions                                    82   \n",
       "Arrival Diversions                                      45   \n",
       "departures for metric computation                    47314   \n",
       "arrivals for metric computation                      45781   \n",
       "percent on-time gate departures                     0.7967   \n",
       "percent on-time airport departures                  0.7815   \n",
       "percent on-time gate arrivals                       0.7719   \n",
       "average_gate_departure_delay                         12.21   \n",
       "average_taxi_out_time                                13.04   \n",
       "average taxi out delay                                1.39   \n",
       "average airport departure delay                         13   \n",
       "average airborne delay                                1.65   \n",
       "average taxi in delay                                 1.32   \n",
       "average block delay                                   3.53   \n",
       "average gate arrival delay                            13.4   \n",
       "\n",
       "                                                       5    \\\n",
       "LocID                                                  SJU   \n",
       "AP_NAME                              LUIS MUNOZ MARIN INTL   \n",
       "FAA REGION                                             ASO   \n",
       "COUNTY                                              #NAME?   \n",
       "CITY                                              SAN JUAN   \n",
       "STATE                                                   PR   \n",
       "AP Type                             Federalized/Commercial   \n",
       "Latitude                                           18.4393   \n",
       "Longitude                                          -66.002   \n",
       "Boundary Data Available                                Yes   \n",
       "Year                                                  2009   \n",
       "Departure Cancellations                                199   \n",
       "Arrival Cancellations                                  159   \n",
       "Departure Diversions                                    57   \n",
       "Arrival Diversions                                      58   \n",
       "departures for metric computation                    48418   \n",
       "arrivals for metric computation                      46678   \n",
       "percent on-time gate departures                     0.8168   \n",
       "percent on-time airport departures                  0.8015   \n",
       "percent on-time gate arrivals                       0.7999   \n",
       "average_gate_departure_delay                         11.44   \n",
       "average_taxi_out_time                                13.29   \n",
       "average taxi out delay                                1.43   \n",
       "average airport departure delay                      12.28   \n",
       "average airborne delay                                1.22   \n",
       "average taxi in delay                                 0.95   \n",
       "average block delay                                   2.88   \n",
       "average gate arrival delay                           11.77   \n",
       "\n",
       "                                                       6    \\\n",
       "LocID                                                  SJU   \n",
       "AP_NAME                              LUIS MUNOZ MARIN INTL   \n",
       "FAA REGION                                             ASO   \n",
       "COUNTY                                              #NAME?   \n",
       "CITY                                              SAN JUAN   \n",
       "STATE                                                   PR   \n",
       "AP Type                             Federalized/Commercial   \n",
       "Latitude                                           18.4393   \n",
       "Longitude                                          -66.002   \n",
       "Boundary Data Available                                Yes   \n",
       "Year                                                  2008   \n",
       "Departure Cancellations                                238   \n",
       "Arrival Cancellations                                  197   \n",
       "Departure Diversions                                    78   \n",
       "Arrival Diversions                                      29   \n",
       "departures for metric computation                    44493   \n",
       "arrivals for metric computation                      43448   \n",
       "percent on-time gate departures                     0.8004   \n",
       "percent on-time airport departures                   0.781   \n",
       "percent on-time gate arrivals                       0.7533   \n",
       "average_gate_departure_delay                         12.54   \n",
       "average_taxi_out_time                                14.22   \n",
       "average taxi out delay                                1.85   \n",
       "average airport departure delay                      13.59   \n",
       "average airborne delay                                1.64   \n",
       "average taxi in delay                                 1.25   \n",
       "average block delay                                   3.75   \n",
       "average gate arrival delay                           15.18   \n",
       "\n",
       "                                                       7    \\\n",
       "LocID                                                  SJU   \n",
       "AP_NAME                              LUIS MUNOZ MARIN INTL   \n",
       "FAA REGION                                             ASO   \n",
       "COUNTY                                              #NAME?   \n",
       "CITY                                              SAN JUAN   \n",
       "STATE                                                   PR   \n",
       "AP Type                             Federalized/Commercial   \n",
       "Latitude                                           18.4393   \n",
       "Longitude                                          -66.002   \n",
       "Boundary Data Available                                Yes   \n",
       "Year                                                  2007   \n",
       "Departure Cancellations                                307   \n",
       "Arrival Cancellations                                  278   \n",
       "Departure Diversions                                    70   \n",
       "Arrival Diversions                                      42   \n",
       "departures for metric computation                    47987   \n",
       "arrivals for metric computation                      47246   \n",
       "percent on-time gate departures                     0.8014   \n",
       "percent on-time airport departures                  0.7522   \n",
       "percent on-time gate arrivals                       0.7414   \n",
       "average_gate_departure_delay                         12.53   \n",
       "average_taxi_out_time                                15.22   \n",
       "average taxi out delay                                3.16   \n",
       "average airport departure delay                      14.97   \n",
       "average airborne delay                                1.55   \n",
       "average taxi in delay                                 1.71   \n",
       "average block delay                                   4.09   \n",
       "average gate arrival delay                           16.31   \n",
       "\n",
       "                                                       8    \\\n",
       "LocID                                                  SJU   \n",
       "AP_NAME                              LUIS MUNOZ MARIN INTL   \n",
       "FAA REGION                                             ASO   \n",
       "COUNTY                                              #NAME?   \n",
       "CITY                                              SAN JUAN   \n",
       "STATE                                                   PR   \n",
       "AP Type                             Federalized/Commercial   \n",
       "Latitude                                           18.4393   \n",
       "Longitude                                          -66.002   \n",
       "Boundary Data Available                                Yes   \n",
       "Year                                                  2006   \n",
       "Departure Cancellations                                257   \n",
       "Arrival Cancellations                                  233   \n",
       "Departure Diversions                                    63   \n",
       "Arrival Diversions                                      44   \n",
       "departures for metric computation                    55707   \n",
       "arrivals for metric computation                      52948   \n",
       "percent on-time gate departures                     0.8054   \n",
       "percent on-time airport departures                  0.7446   \n",
       "percent on-time gate arrivals                       0.7611   \n",
       "average_gate_departure_delay                         11.61   \n",
       "average_taxi_out_time                                15.75   \n",
       "average taxi out delay                                4.28   \n",
       "average airport departure delay                      14.34   \n",
       "average airborne delay                                1.73   \n",
       "average taxi in delay                                 1.29   \n",
       "average block delay                                   4.19   \n",
       "average gate arrival delay                           14.17   \n",
       "\n",
       "                                                       9    \\\n",
       "LocID                                                  SJU   \n",
       "AP_NAME                              LUIS MUNOZ MARIN INTL   \n",
       "FAA REGION                                             ASO   \n",
       "COUNTY                                              #NAME?   \n",
       "CITY                                              SAN JUAN   \n",
       "STATE                                                   PR   \n",
       "AP Type                             Federalized/Commercial   \n",
       "Latitude                                           18.4393   \n",
       "Longitude                                          -66.002   \n",
       "Boundary Data Available                                Yes   \n",
       "Year                                                  2005   \n",
       "Departure Cancellations                                315   \n",
       "Arrival Cancellations                                  282   \n",
       "Departure Diversions                                    64   \n",
       "Arrival Diversions                                      36   \n",
       "departures for metric computation                    57736   \n",
       "arrivals for metric computation                      54870   \n",
       "percent on-time gate departures                     0.7789   \n",
       "percent on-time airport departures                  0.7464   \n",
       "percent on-time gate arrivals                       0.7604   \n",
       "average_gate_departure_delay                         12.74   \n",
       "average_taxi_out_time                                14.14   \n",
       "average taxi out delay                                3.03   \n",
       "average airport departure delay                      14.43   \n",
       "average airborne delay                                1.63   \n",
       "average taxi in delay                                 1.36   \n",
       "average block delay                                   4.04   \n",
       "average gate arrival delay                           14.65   \n",
       "\n",
       "                                               ...              \\\n",
       "LocID                                          ...               \n",
       "AP_NAME                                        ...               \n",
       "FAA REGION                                     ...               \n",
       "COUNTY                                         ...               \n",
       "CITY                                           ...               \n",
       "STATE                                          ...               \n",
       "AP Type                                        ...               \n",
       "Latitude                                       ...               \n",
       "Longitude                                      ...               \n",
       "Boundary Data Available                        ...               \n",
       "Year                                           ...               \n",
       "Departure Cancellations                        ...               \n",
       "Arrival Cancellations                          ...               \n",
       "Departure Diversions                           ...               \n",
       "Arrival Diversions                             ...               \n",
       "departures for metric computation              ...               \n",
       "arrivals for metric computation                ...               \n",
       "percent on-time gate departures                ...               \n",
       "percent on-time airport departures             ...               \n",
       "percent on-time gate arrivals                  ...               \n",
       "average_gate_departure_delay                   ...               \n",
       "average_taxi_out_time                          ...               \n",
       "average taxi out delay                         ...               \n",
       "average airport departure delay                ...               \n",
       "average airborne delay                         ...               \n",
       "average taxi in delay                          ...               \n",
       "average block delay                            ...               \n",
       "average gate arrival delay                     ...               \n",
       "\n",
       "                                                           789  \\\n",
       "LocID                                                      ANC   \n",
       "AP_NAME                             TED STEVENS ANCHORAGE INTL   \n",
       "FAA REGION                                                 AAL   \n",
       "COUNTY                                               ANCHORAGE   \n",
       "CITY                                                 ANCHORAGE   \n",
       "STATE                                                       AK   \n",
       "AP Type                                 Federalized/Commercial   \n",
       "Latitude                                               61.1741   \n",
       "Longitude                                             -149.998   \n",
       "Boundary Data Available                                    Yes   \n",
       "Year                                                      2013   \n",
       "Departure Cancellations                                    141   \n",
       "Arrival Cancellations                                      184   \n",
       "Departure Diversions                                        65   \n",
       "Arrival Diversions                                          40   \n",
       "departures for metric computation                        69984   \n",
       "arrivals for metric computation                          65469   \n",
       "percent on-time gate departures                         0.8432   \n",
       "percent on-time airport departures                      0.8228   \n",
       "percent on-time gate arrivals                           0.8631   \n",
       "average_gate_departure_delay                              9.18   \n",
       "average_taxi_out_time                                    12.03   \n",
       "average taxi out delay                                    1.51   \n",
       "average airport departure delay                          10.09   \n",
       "average airborne delay                                     3.4   \n",
       "average taxi in delay                                     0.47   \n",
       "average block delay                                       3.82   \n",
       "average gate arrival delay                                8.46   \n",
       "\n",
       "                                                           790  \\\n",
       "LocID                                                      ANC   \n",
       "AP_NAME                             TED STEVENS ANCHORAGE INTL   \n",
       "FAA REGION                                                 AAL   \n",
       "COUNTY                                               ANCHORAGE   \n",
       "CITY                                                 ANCHORAGE   \n",
       "STATE                                                       AK   \n",
       "AP Type                                 Federalized/Commercial   \n",
       "Latitude                                               61.1741   \n",
       "Longitude                                             -149.998   \n",
       "Boundary Data Available                                    Yes   \n",
       "Year                                                      2012   \n",
       "Departure Cancellations                                    216   \n",
       "Arrival Cancellations                                      284   \n",
       "Departure Diversions                                        78   \n",
       "Arrival Diversions                                          36   \n",
       "departures for metric computation                        70322   \n",
       "arrivals for metric computation                          66453   \n",
       "percent on-time gate departures                         0.8442   \n",
       "percent on-time airport departures                      0.8235   \n",
       "percent on-time gate arrivals                           0.8521   \n",
       "average_gate_departure_delay                             10.01   \n",
       "average_taxi_out_time                                    11.71   \n",
       "average taxi out delay                                    1.52   \n",
       "average airport departure delay                             11   \n",
       "average airborne delay                                    3.86   \n",
       "average taxi in delay                                     0.34   \n",
       "average block delay                                       3.75   \n",
       "average gate arrival delay                                9.33   \n",
       "\n",
       "                                                           791  \\\n",
       "LocID                                                      ANC   \n",
       "AP_NAME                             TED STEVENS ANCHORAGE INTL   \n",
       "FAA REGION                                                 AAL   \n",
       "COUNTY                                               ANCHORAGE   \n",
       "CITY                                                 ANCHORAGE   \n",
       "STATE                                                       AK   \n",
       "AP Type                                 Federalized/Commercial   \n",
       "Latitude                                               61.1741   \n",
       "Longitude                                             -149.998   \n",
       "Boundary Data Available                                    Yes   \n",
       "Year                                                      2011   \n",
       "Departure Cancellations                                    191   \n",
       "Arrival Cancellations                                      265   \n",
       "Departure Diversions                                        87   \n",
       "Arrival Diversions                                          36   \n",
       "departures for metric computation                        72556   \n",
       "arrivals for metric computation                          66845   \n",
       "percent on-time gate departures                         0.8276   \n",
       "percent on-time airport departures                       0.805   \n",
       "percent on-time gate arrivals                           0.8292   \n",
       "average_gate_departure_delay                             14.56   \n",
       "average_taxi_out_time                                    11.89   \n",
       "average taxi out delay                                    1.66   \n",
       "average airport departure delay                           15.6   \n",
       "average airborne delay                                    3.92   \n",
       "average taxi in delay                                     0.55   \n",
       "average block delay                                       4.01   \n",
       "average gate arrival delay                               13.93   \n",
       "\n",
       "                                                           792  \\\n",
       "LocID                                                      ANC   \n",
       "AP_NAME                             TED STEVENS ANCHORAGE INTL   \n",
       "FAA REGION                                                 AAL   \n",
       "COUNTY                                               ANCHORAGE   \n",
       "CITY                                                 ANCHORAGE   \n",
       "STATE                                                       AK   \n",
       "AP Type                                 Federalized/Commercial   \n",
       "Latitude                                               61.1741   \n",
       "Longitude                                             -149.998   \n",
       "Boundary Data Available                                    Yes   \n",
       "Year                                                      2010   \n",
       "Departure Cancellations                                    149   \n",
       "Arrival Cancellations                                      204   \n",
       "Departure Diversions                                        84   \n",
       "Arrival Diversions                                          32   \n",
       "departures for metric computation                        73089   \n",
       "arrivals for metric computation                          68125   \n",
       "percent on-time gate departures                         0.7992   \n",
       "percent on-time airport departures                       0.776   \n",
       "percent on-time gate arrivals                           0.8045   \n",
       "average_gate_departure_delay                             17.77   \n",
       "average_taxi_out_time                                    11.97   \n",
       "average taxi out delay                                    1.79   \n",
       "average airport departure delay                          18.83   \n",
       "average airborne delay                                    3.75   \n",
       "average taxi in delay                                     0.37   \n",
       "average block delay                                       3.91   \n",
       "average gate arrival delay                               20.28   \n",
       "\n",
       "                                                           793  \\\n",
       "LocID                                                      ANC   \n",
       "AP_NAME                             TED STEVENS ANCHORAGE INTL   \n",
       "FAA REGION                                                 AAL   \n",
       "COUNTY                                               ANCHORAGE   \n",
       "CITY                                                 ANCHORAGE   \n",
       "STATE                                                       AK   \n",
       "AP Type                                 Federalized/Commercial   \n",
       "Latitude                                               61.1741   \n",
       "Longitude                                             -149.998   \n",
       "Boundary Data Available                                    Yes   \n",
       "Year                                                      2009   \n",
       "Departure Cancellations                                    354   \n",
       "Arrival Cancellations                                      421   \n",
       "Departure Diversions                                        84   \n",
       "Arrival Diversions                                          80   \n",
       "departures for metric computation                        67252   \n",
       "arrivals for metric computation                          63135   \n",
       "percent on-time gate departures                         0.8112   \n",
       "percent on-time airport departures                      0.7952   \n",
       "percent on-time gate arrivals                           0.8264   \n",
       "average_gate_departure_delay                              15.1   \n",
       "average_taxi_out_time                                    12.49   \n",
       "average taxi out delay                                    1.55   \n",
       "average airport departure delay                          15.88   \n",
       "average airborne delay                                    3.85   \n",
       "average taxi in delay                                     0.31   \n",
       "average block delay                                       4.19   \n",
       "average gate arrival delay                               15.95   \n",
       "\n",
       "                                                           794  \\\n",
       "LocID                                                      ANC   \n",
       "AP_NAME                             TED STEVENS ANCHORAGE INTL   \n",
       "FAA REGION                                                 AAL   \n",
       "COUNTY                                               ANCHORAGE   \n",
       "CITY                                                 ANCHORAGE   \n",
       "STATE                                                       AK   \n",
       "AP Type                                 Federalized/Commercial   \n",
       "Latitude                                               61.1741   \n",
       "Longitude                                             -149.998   \n",
       "Boundary Data Available                                    Yes   \n",
       "Year                                                      2008   \n",
       "Departure Cancellations                                    268   \n",
       "Arrival Cancellations                                      355   \n",
       "Departure Diversions                                        97   \n",
       "Arrival Diversions                                          57   \n",
       "departures for metric computation                        76606   \n",
       "arrivals for metric computation                          72479   \n",
       "percent on-time gate departures                         0.7972   \n",
       "percent on-time airport departures                      0.7698   \n",
       "percent on-time gate arrivals                           0.7573   \n",
       "average_gate_departure_delay                             13.45   \n",
       "average_taxi_out_time                                    13.44   \n",
       "average taxi out delay                                    1.86   \n",
       "average airport departure delay                          14.72   \n",
       "average airborne delay                                    5.13   \n",
       "average taxi in delay                                     0.63   \n",
       "average block delay                                       5.93   \n",
       "average gate arrival delay                               15.89   \n",
       "\n",
       "                                                           795  \\\n",
       "LocID                                                      ANC   \n",
       "AP_NAME                             TED STEVENS ANCHORAGE INTL   \n",
       "FAA REGION                                                 AAL   \n",
       "COUNTY                                               ANCHORAGE   \n",
       "CITY                                                 ANCHORAGE   \n",
       "STATE                                                       AK   \n",
       "AP Type                                 Federalized/Commercial   \n",
       "Latitude                                               61.1741   \n",
       "Longitude                                             -149.998   \n",
       "Boundary Data Available                                    Yes   \n",
       "Year                                                      2007   \n",
       "Departure Cancellations                                    359   \n",
       "Arrival Cancellations                                      423   \n",
       "Departure Diversions                                        93   \n",
       "Arrival Diversions                                          54   \n",
       "departures for metric computation                        78741   \n",
       "arrivals for metric computation                          73323   \n",
       "percent on-time gate departures                         0.7838   \n",
       "percent on-time airport departures                      0.7457   \n",
       "percent on-time gate arrivals                           0.7196   \n",
       "average_gate_departure_delay                             15.69   \n",
       "average_taxi_out_time                                    13.19   \n",
       "average taxi out delay                                    2.29   \n",
       "average airport departure delay                          17.52   \n",
       "average airborne delay                                    5.13   \n",
       "average taxi in delay                                     0.39   \n",
       "average block delay                                       5.87   \n",
       "average gate arrival delay                               18.09   \n",
       "\n",
       "                                                           796  \\\n",
       "LocID                                                      ANC   \n",
       "AP_NAME                             TED STEVENS ANCHORAGE INTL   \n",
       "FAA REGION                                                 AAL   \n",
       "COUNTY                                               ANCHORAGE   \n",
       "CITY                                                 ANCHORAGE   \n",
       "STATE                                                       AK   \n",
       "AP Type                                 Federalized/Commercial   \n",
       "Latitude                                               61.1741   \n",
       "Longitude                                             -149.998   \n",
       "Boundary Data Available                                    Yes   \n",
       "Year                                                      2006   \n",
       "Departure Cancellations                                    367   \n",
       "Arrival Cancellations                                      436   \n",
       "Departure Diversions                                        88   \n",
       "Arrival Diversions                                          50   \n",
       "departures for metric computation                        75708   \n",
       "arrivals for metric computation                          69995   \n",
       "percent on-time gate departures                         0.7771   \n",
       "percent on-time airport departures                      0.7455   \n",
       "percent on-time gate arrivals                            0.711   \n",
       "average_gate_departure_delay                             15.56   \n",
       "average_taxi_out_time                                    12.84   \n",
       "average taxi out delay                                    2.54   \n",
       "average airport departure delay                          17.07   \n",
       "average airborne delay                                    4.29   \n",
       "average taxi in delay                                     0.72   \n",
       "average block delay                                       5.83   \n",
       "average gate arrival delay                               17.71   \n",
       "\n",
       "                                                           797  \\\n",
       "LocID                                                      ANC   \n",
       "AP_NAME                             TED STEVENS ANCHORAGE INTL   \n",
       "FAA REGION                                                 AAL   \n",
       "COUNTY                                               ANCHORAGE   \n",
       "CITY                                                 ANCHORAGE   \n",
       "STATE                                                       AK   \n",
       "AP Type                                 Federalized/Commercial   \n",
       "Latitude                                               61.1741   \n",
       "Longitude                                             -149.998   \n",
       "Boundary Data Available                                    Yes   \n",
       "Year                                                      2005   \n",
       "Departure Cancellations                                    424   \n",
       "Arrival Cancellations                                      484   \n",
       "Departure Diversions                                        74   \n",
       "Arrival Diversions                                          31   \n",
       "departures for metric computation                        72043   \n",
       "arrivals for metric computation                          67034   \n",
       "percent on-time gate departures                         0.7394   \n",
       "percent on-time airport departures                      0.7061   \n",
       "percent on-time gate arrivals                           0.6955   \n",
       "average_gate_departure_delay                             18.36   \n",
       "average_taxi_out_time                                    12.19   \n",
       "average taxi out delay                                    2.78   \n",
       "average airport departure delay                          19.97   \n",
       "average airborne delay                                    3.65   \n",
       "average taxi in delay                                     1.01   \n",
       "average block delay                                       4.96   \n",
       "average gate arrival delay                               19.35   \n",
       "\n",
       "                                                           798  \n",
       "LocID                                                      ANC  \n",
       "AP_NAME                             TED STEVENS ANCHORAGE INTL  \n",
       "FAA REGION                                                 AAL  \n",
       "COUNTY                                               ANCHORAGE  \n",
       "CITY                                                 ANCHORAGE  \n",
       "STATE                                                       AK  \n",
       "AP Type                                 Federalized/Commercial  \n",
       "Latitude                                               61.1741  \n",
       "Longitude                                             -149.998  \n",
       "Boundary Data Available                                    Yes  \n",
       "Year                                                      2004  \n",
       "Departure Cancellations                                    473  \n",
       "Arrival Cancellations                                      532  \n",
       "Departure Diversions                                        73  \n",
       "Arrival Diversions                                          30  \n",
       "departures for metric computation                        16503  \n",
       "arrivals for metric computation                          15511  \n",
       "percent on-time gate departures                         0.7109  \n",
       "percent on-time airport departures                       0.677  \n",
       "percent on-time gate arrivals                           0.6502  \n",
       "average_gate_departure_delay                             21.45  \n",
       "average_taxi_out_time                                    12.41  \n",
       "average taxi out delay                                    2.92  \n",
       "average airport departure delay                          23.05  \n",
       "average airborne delay                                    4.03  \n",
       "average taxi in delay                                     1.08  \n",
       "average block delay                                       5.93  \n",
       "average gate arrival delay                               22.62  \n",
       "\n",
       "[28 rows x 799 columns]"
      ]
     },
     "execution_count": 19,
     "metadata": {},
     "output_type": "execute_result"
    }
   ],
   "source": [
    "airports.T"
   ]
  },
  {
   "cell_type": "code",
   "execution_count": 20,
   "metadata": {
    "collapsed": false
   },
   "outputs": [
    {
     "name": "stdout",
     "output_type": "stream",
     "text": [
      "<class 'pandas.core.frame.DataFrame'>\n",
      "RangeIndex: 799 entries, 0 to 798\n",
      "Data columns (total 28 columns):\n",
      "LocID                                 799 non-null object\n",
      "AP_NAME                               799 non-null object\n",
      "FAA REGION                            799 non-null object\n",
      "COUNTY                                799 non-null object\n",
      "CITY                                  799 non-null object\n",
      "STATE                                 799 non-null object\n",
      "AP Type                               799 non-null object\n",
      "Latitude                              799 non-null float64\n",
      "Longitude                             799 non-null float64\n",
      "Boundary Data Available               799 non-null object\n",
      "Year                                  799 non-null float64\n",
      "Departure Cancellations               799 non-null float64\n",
      "Arrival Cancellations                 799 non-null float64\n",
      "Departure Diversions                  799 non-null float64\n",
      "Arrival Diversions                    799 non-null float64\n",
      "departures for metric computation     799 non-null int64\n",
      "arrivals for metric computation       799 non-null int64\n",
      "percent on-time gate departures       799 non-null float64\n",
      "percent on-time airport departures    799 non-null float64\n",
      "percent on-time gate arrivals         799 non-null float64\n",
      "average_gate_departure_delay          799 non-null float64\n",
      "average_taxi_out_time                 799 non-null float64\n",
      "average taxi out delay                799 non-null float64\n",
      "average airport departure delay       799 non-null float64\n",
      "average airborne delay                799 non-null float64\n",
      "average taxi in delay                 799 non-null float64\n",
      "average block delay                   799 non-null float64\n",
      "average gate arrival delay            799 non-null float64\n",
      "dtypes: float64(18), int64(2), object(8)\n",
      "memory usage: 174.9+ KB\n"
     ]
    }
   ],
   "source": [
    "# type (class) of columns\n",
    "airports.info()"
   ]
  },
  {
   "cell_type": "code",
   "execution_count": 21,
   "metadata": {
    "collapsed": false
   },
   "outputs": [],
   "source": [
    "# make column titles lowercase\n",
    "airports.columns = [x.lower() for x in airports.columns]"
   ]
  },
  {
   "cell_type": "code",
   "execution_count": 22,
   "metadata": {
    "collapsed": false
   },
   "outputs": [
    {
     "data": {
      "text/plain": [
       "locid                                 0\n",
       "ap_name                               0\n",
       "faa region                            0\n",
       "county                                0\n",
       "city                                  0\n",
       "state                                 0\n",
       "ap type                               0\n",
       "latitude                              0\n",
       "longitude                             0\n",
       "boundary data available               0\n",
       "year                                  0\n",
       "departure cancellations               0\n",
       "arrival cancellations                 0\n",
       "departure diversions                  0\n",
       "arrival diversions                    0\n",
       "departures for metric computation     0\n",
       "arrivals for metric computation       0\n",
       "percent on-time gate departures       0\n",
       "percent on-time airport departures    0\n",
       "percent on-time gate arrivals         0\n",
       "average_gate_departure_delay          0\n",
       "average_taxi_out_time                 0\n",
       "average taxi out delay                0\n",
       "average airport departure delay       0\n",
       "average airborne delay                0\n",
       "average taxi in delay                 0\n",
       "average block delay                   0\n",
       "average gate arrival delay            0\n",
       "dtype: int64"
      ]
     },
     "execution_count": 22,
     "metadata": {},
     "output_type": "execute_result"
    }
   ],
   "source": [
    "# Check for nulls\n",
    "airports.isnull().sum()"
   ]
  },
  {
   "cell_type": "markdown",
   "metadata": {
    "focus": false,
    "id": "0b511b59-41ea-478f-bf2d-7e392dc9edaa"
   },
   "source": [
    "#### 1.2 What are the risks and assumptions of our data? "
   ]
  },
  {
   "cell_type": "markdown",
   "metadata": {
    "focus": false,
    "id": "0936ff6a-6919-4436-9fc1-d6ef90d5ba9e"
   },
   "source": [
    "The risk and assumptions of the data is\n"
   ]
  },
  {
   "cell_type": "markdown",
   "metadata": {
    "focus": false,
    "id": "e97b4707-0f0e-4f6a-90ab-fbb634c2305d"
   },
   "source": [
    "## Exploratory Data Analysis"
   ]
  },
  {
   "cell_type": "markdown",
   "metadata": {
    "focus": false,
    "id": "6be9cf88-1b92-4360-b424-a495d5e2d4ba"
   },
   "source": [
    "#### 2.1 Plot and Describe the Data"
   ]
  },
  {
   "cell_type": "code",
   "execution_count": 23,
   "metadata": {
    "collapsed": true
   },
   "outputs": [],
   "source": [
    "from matplotlib import pyplot as plt\n",
    "import seaborn as sns\n",
    "%matplotlib inline"
   ]
  },
  {
   "cell_type": "code",
   "execution_count": 24,
   "metadata": {
    "collapsed": false,
    "focus": false,
    "id": "41ff90a9-0d50-4a8e-97c4-fe429fffc1f7"
   },
   "outputs": [
    {
     "data": {
      "text/html": [
       "<div>\n",
       "<table border=\"1\" class=\"dataframe\">\n",
       "  <thead>\n",
       "    <tr style=\"text-align: right;\">\n",
       "      <th></th>\n",
       "      <th>latitude</th>\n",
       "      <th>longitude</th>\n",
       "      <th>year</th>\n",
       "      <th>departure cancellations</th>\n",
       "      <th>arrival cancellations</th>\n",
       "      <th>departure diversions</th>\n",
       "      <th>arrival diversions</th>\n",
       "      <th>departures for metric computation</th>\n",
       "      <th>arrivals for metric computation</th>\n",
       "      <th>percent on-time gate departures</th>\n",
       "      <th>percent on-time airport departures</th>\n",
       "      <th>percent on-time gate arrivals</th>\n",
       "      <th>average_gate_departure_delay</th>\n",
       "      <th>average_taxi_out_time</th>\n",
       "      <th>average taxi out delay</th>\n",
       "      <th>average airport departure delay</th>\n",
       "      <th>average airborne delay</th>\n",
       "      <th>average taxi in delay</th>\n",
       "      <th>average block delay</th>\n",
       "      <th>average gate arrival delay</th>\n",
       "    </tr>\n",
       "  </thead>\n",
       "  <tbody>\n",
       "    <tr>\n",
       "      <th>count</th>\n",
       "      <td>799.000000</td>\n",
       "      <td>799.000000</td>\n",
       "      <td>799.000000</td>\n",
       "      <td>799.000000</td>\n",
       "      <td>799.000000</td>\n",
       "      <td>799.000000</td>\n",
       "      <td>799.000000</td>\n",
       "      <td>799.000000</td>\n",
       "      <td>799.000000</td>\n",
       "      <td>799.000000</td>\n",
       "      <td>799.000000</td>\n",
       "      <td>799.000000</td>\n",
       "      <td>799.000000</td>\n",
       "      <td>799.000000</td>\n",
       "      <td>799.000000</td>\n",
       "      <td>799.000000</td>\n",
       "      <td>799.000000</td>\n",
       "      <td>799.000000</td>\n",
       "      <td>799.000000</td>\n",
       "      <td>799.000000</td>\n",
       "    </tr>\n",
       "    <tr>\n",
       "      <th>mean</th>\n",
       "      <td>36.448807</td>\n",
       "      <td>-94.899998</td>\n",
       "      <td>2009.016270</td>\n",
       "      <td>1299.314143</td>\n",
       "      <td>1341.068836</td>\n",
       "      <td>174.250313</td>\n",
       "      <td>170.256571</td>\n",
       "      <td>113471.568210</td>\n",
       "      <td>113003.959950</td>\n",
       "      <td>0.779123</td>\n",
       "      <td>0.726958</td>\n",
       "      <td>0.766864</td>\n",
       "      <td>12.890250</td>\n",
       "      <td>13.872879</td>\n",
       "      <td>3.683292</td>\n",
       "      <td>15.703504</td>\n",
       "      <td>2.875532</td>\n",
       "      <td>1.414155</td>\n",
       "      <td>3.290826</td>\n",
       "      <td>13.428811</td>\n",
       "    </tr>\n",
       "    <tr>\n",
       "      <th>std</th>\n",
       "      <td>6.686781</td>\n",
       "      <td>20.644996</td>\n",
       "      <td>3.150126</td>\n",
       "      <td>1840.877193</td>\n",
       "      <td>1980.459892</td>\n",
       "      <td>172.638408</td>\n",
       "      <td>229.162686</td>\n",
       "      <td>98059.144667</td>\n",
       "      <td>97705.308115</td>\n",
       "      <td>0.052279</td>\n",
       "      <td>0.076027</td>\n",
       "      <td>0.050502</td>\n",
       "      <td>3.036474</td>\n",
       "      <td>3.806217</td>\n",
       "      <td>2.337325</td>\n",
       "      <td>4.364217</td>\n",
       "      <td>1.169739</td>\n",
       "      <td>0.854702</td>\n",
       "      <td>0.989275</td>\n",
       "      <td>3.251647</td>\n",
       "    </tr>\n",
       "    <tr>\n",
       "      <th>min</th>\n",
       "      <td>18.439295</td>\n",
       "      <td>-157.922429</td>\n",
       "      <td>2004.000000</td>\n",
       "      <td>0.000000</td>\n",
       "      <td>0.000000</td>\n",
       "      <td>0.000000</td>\n",
       "      <td>0.000000</td>\n",
       "      <td>731.000000</td>\n",
       "      <td>717.000000</td>\n",
       "      <td>0.529900</td>\n",
       "      <td>0.380800</td>\n",
       "      <td>0.513600</td>\n",
       "      <td>5.350000</td>\n",
       "      <td>7.240000</td>\n",
       "      <td>0.100000</td>\n",
       "      <td>6.290000</td>\n",
       "      <td>0.950000</td>\n",
       "      <td>0.020000</td>\n",
       "      <td>1.330000</td>\n",
       "      <td>6.330000</td>\n",
       "    </tr>\n",
       "    <tr>\n",
       "      <th>25%</th>\n",
       "      <td>32.896828</td>\n",
       "      <td>-111.977773</td>\n",
       "      <td>2006.000000</td>\n",
       "      <td>349.000000</td>\n",
       "      <td>314.500000</td>\n",
       "      <td>62.000000</td>\n",
       "      <td>41.000000</td>\n",
       "      <td>42064.000000</td>\n",
       "      <td>42006.500000</td>\n",
       "      <td>0.753100</td>\n",
       "      <td>0.691800</td>\n",
       "      <td>0.742150</td>\n",
       "      <td>10.830000</td>\n",
       "      <td>11.475000</td>\n",
       "      <td>2.300000</td>\n",
       "      <td>12.890000</td>\n",
       "      <td>2.035000</td>\n",
       "      <td>0.845000</td>\n",
       "      <td>2.615000</td>\n",
       "      <td>11.270000</td>\n",
       "    </tr>\n",
       "    <tr>\n",
       "      <th>50%</th>\n",
       "      <td>37.618972</td>\n",
       "      <td>-87.897068</td>\n",
       "      <td>2009.000000</td>\n",
       "      <td>670.000000</td>\n",
       "      <td>653.000000</td>\n",
       "      <td>111.000000</td>\n",
       "      <td>84.000000</td>\n",
       "      <td>79489.000000</td>\n",
       "      <td>79750.000000</td>\n",
       "      <td>0.784100</td>\n",
       "      <td>0.740200</td>\n",
       "      <td>0.770500</td>\n",
       "      <td>12.540000</td>\n",
       "      <td>12.940000</td>\n",
       "      <td>3.050000</td>\n",
       "      <td>15.130000</td>\n",
       "      <td>2.620000</td>\n",
       "      <td>1.140000</td>\n",
       "      <td>3.130000</td>\n",
       "      <td>12.970000</td>\n",
       "    </tr>\n",
       "    <tr>\n",
       "      <th>75%</th>\n",
       "      <td>40.795250</td>\n",
       "      <td>-80.152741</td>\n",
       "      <td>2012.000000</td>\n",
       "      <td>1483.500000</td>\n",
       "      <td>1542.000000</td>\n",
       "      <td>237.000000</td>\n",
       "      <td>190.000000</td>\n",
       "      <td>166469.500000</td>\n",
       "      <td>165560.500000</td>\n",
       "      <td>0.810700</td>\n",
       "      <td>0.773700</td>\n",
       "      <td>0.797600</td>\n",
       "      <td>14.620000</td>\n",
       "      <td>15.745000</td>\n",
       "      <td>4.220000</td>\n",
       "      <td>17.555000</td>\n",
       "      <td>3.550000</td>\n",
       "      <td>1.775000</td>\n",
       "      <td>3.815000</td>\n",
       "      <td>14.935000</td>\n",
       "    </tr>\n",
       "    <tr>\n",
       "      <th>max</th>\n",
       "      <td>61.174083</td>\n",
       "      <td>-66.002004</td>\n",
       "      <td>2014.000000</td>\n",
       "      <td>16618.000000</td>\n",
       "      <td>17571.000000</td>\n",
       "      <td>1064.000000</td>\n",
       "      <td>1948.000000</td>\n",
       "      <td>491826.000000</td>\n",
       "      <td>486799.000000</td>\n",
       "      <td>0.909700</td>\n",
       "      <td>0.897400</td>\n",
       "      <td>0.880300</td>\n",
       "      <td>25.840000</td>\n",
       "      <td>35.760000</td>\n",
       "      <td>18.940000</td>\n",
       "      <td>40.510000</td>\n",
       "      <td>7.820000</td>\n",
       "      <td>6.180000</td>\n",
       "      <td>7.520000</td>\n",
       "      <td>27.780000</td>\n",
       "    </tr>\n",
       "  </tbody>\n",
       "</table>\n",
       "</div>"
      ],
      "text/plain": [
       "         latitude   longitude         year  departure cancellations  \\\n",
       "count  799.000000  799.000000   799.000000               799.000000   \n",
       "mean    36.448807  -94.899998  2009.016270              1299.314143   \n",
       "std      6.686781   20.644996     3.150126              1840.877193   \n",
       "min     18.439295 -157.922429  2004.000000                 0.000000   \n",
       "25%     32.896828 -111.977773  2006.000000               349.000000   \n",
       "50%     37.618972  -87.897068  2009.000000               670.000000   \n",
       "75%     40.795250  -80.152741  2012.000000              1483.500000   \n",
       "max     61.174083  -66.002004  2014.000000             16618.000000   \n",
       "\n",
       "       arrival cancellations  departure diversions  arrival diversions  \\\n",
       "count             799.000000            799.000000          799.000000   \n",
       "mean             1341.068836            174.250313          170.256571   \n",
       "std              1980.459892            172.638408          229.162686   \n",
       "min                 0.000000              0.000000            0.000000   \n",
       "25%               314.500000             62.000000           41.000000   \n",
       "50%               653.000000            111.000000           84.000000   \n",
       "75%              1542.000000            237.000000          190.000000   \n",
       "max             17571.000000           1064.000000         1948.000000   \n",
       "\n",
       "       departures for metric computation  arrivals for metric computation  \\\n",
       "count                         799.000000                       799.000000   \n",
       "mean                       113471.568210                    113003.959950   \n",
       "std                         98059.144667                     97705.308115   \n",
       "min                           731.000000                       717.000000   \n",
       "25%                         42064.000000                     42006.500000   \n",
       "50%                         79489.000000                     79750.000000   \n",
       "75%                        166469.500000                    165560.500000   \n",
       "max                        491826.000000                    486799.000000   \n",
       "\n",
       "       percent on-time gate departures  percent on-time airport departures  \\\n",
       "count                       799.000000                          799.000000   \n",
       "mean                          0.779123                            0.726958   \n",
       "std                           0.052279                            0.076027   \n",
       "min                           0.529900                            0.380800   \n",
       "25%                           0.753100                            0.691800   \n",
       "50%                           0.784100                            0.740200   \n",
       "75%                           0.810700                            0.773700   \n",
       "max                           0.909700                            0.897400   \n",
       "\n",
       "       percent on-time gate arrivals  average_gate_departure_delay  \\\n",
       "count                     799.000000                    799.000000   \n",
       "mean                        0.766864                     12.890250   \n",
       "std                         0.050502                      3.036474   \n",
       "min                         0.513600                      5.350000   \n",
       "25%                         0.742150                     10.830000   \n",
       "50%                         0.770500                     12.540000   \n",
       "75%                         0.797600                     14.620000   \n",
       "max                         0.880300                     25.840000   \n",
       "\n",
       "       average_taxi_out_time  average taxi out delay  \\\n",
       "count             799.000000              799.000000   \n",
       "mean               13.872879                3.683292   \n",
       "std                 3.806217                2.337325   \n",
       "min                 7.240000                0.100000   \n",
       "25%                11.475000                2.300000   \n",
       "50%                12.940000                3.050000   \n",
       "75%                15.745000                4.220000   \n",
       "max                35.760000               18.940000   \n",
       "\n",
       "       average airport departure delay  average airborne delay  \\\n",
       "count                       799.000000              799.000000   \n",
       "mean                         15.703504                2.875532   \n",
       "std                           4.364217                1.169739   \n",
       "min                           6.290000                0.950000   \n",
       "25%                          12.890000                2.035000   \n",
       "50%                          15.130000                2.620000   \n",
       "75%                          17.555000                3.550000   \n",
       "max                          40.510000                7.820000   \n",
       "\n",
       "       average taxi in delay  average block delay  average gate arrival delay  \n",
       "count             799.000000           799.000000                  799.000000  \n",
       "mean                1.414155             3.290826                   13.428811  \n",
       "std                 0.854702             0.989275                    3.251647  \n",
       "min                 0.020000             1.330000                    6.330000  \n",
       "25%                 0.845000             2.615000                   11.270000  \n",
       "50%                 1.140000             3.130000                   12.970000  \n",
       "75%                 1.775000             3.815000                   14.935000  \n",
       "max                 6.180000             7.520000                   27.780000  "
      ]
     },
     "execution_count": 24,
     "metadata": {},
     "output_type": "execute_result"
    }
   ],
   "source": [
    "# Describe the data\n",
    "airports.describe()"
   ]
  },
  {
   "cell_type": "code",
   "execution_count": 39,
   "metadata": {
    "collapsed": false
   },
   "outputs": [
    {
     "name": "stdout",
     "output_type": "stream",
     "text": [
      "    locid    year  departure cancellations\n",
      "690   ORD  2007.0                  16618.0\n",
      "689   ORD  2008.0                  15050.0\n",
      "240   ATL  2005.0                  13837.0\n",
      "683   ORD  2014.0                  13454.0\n",
      "691   ORD  2006.0                  12915.0\n",
      "693   ORD  2004.0                  11725.0\n",
      "686   ORD  2011.0                  11659.0\n",
      "205   DFW  2007.0                   9372.0\n",
      "684   ORD  2013.0                   9155.0\n",
      "692   ORD  2005.0                   8466.0\n",
      "    locid    year  arrival cancellations\n",
      "690   ORD  2007.0                17571.0\n",
      "689   ORD  2008.0                16094.0\n",
      "240   ATL  2005.0                14480.0\n",
      "683   ORD  2014.0                14355.0\n",
      "691   ORD  2006.0                13808.0\n",
      "693   ORD  2004.0                12579.0\n",
      "686   ORD  2011.0                12494.0\n",
      "684   ORD  2013.0                 9999.0\n",
      "205   DFW  2007.0                 9767.0\n",
      "235   ATL  2010.0                 9279.0\n"
     ]
    }
   ],
   "source": [
    "# Top airports with the highest yearly departue & arrival cancellations\n",
    "tydc = airports[['locid','year','departure cancellations']].sort_values('departure cancellations', ascending = False).head(10)\n",
    "print tydc\n",
    "\n",
    "tyac = airports[['locid','year','arrival cancellations']].sort_values('arrival cancellations', ascending = False).head(10)\n",
    "print tyac"
   ]
  },
  {
   "cell_type": "markdown",
   "metadata": {},
   "source": [
    "Orlando has the highest cancellations among all airports throughout multiple years"
   ]
  },
  {
   "cell_type": "code",
   "execution_count": 35,
   "metadata": {
    "collapsed": false
   },
   "outputs": [
    {
     "data": {
      "text/plain": [
       "<matplotlib.axes._subplots.AxesSubplot at 0x11447d690>"
      ]
     },
     "execution_count": 35,
     "metadata": {},
     "output_type": "execute_result"
    },
    {
     "data": {
      "image/png": "[encoded data removed]",
      "text/plain": [
       "<matplotlib.figure.Figure at 0x115f9d750>"
      ]
     },
     "metadata": {},
     "output_type": "display_data"
    }
   ],
   "source": [
    "# relationship between departure and arrival cancellations\n",
    "\n",
    "airports.plot(kind='scatter', x='departure cancellations', y='arrival cancellations')"
   ]
  },
  {
   "cell_type": "markdown",
   "metadata": {},
   "source": [
    "There is a positive correlation between arrival and departure cancellations"
   ]
  },
  {
   "cell_type": "code",
   "execution_count": 38,
   "metadata": {
    "collapsed": false
   },
   "outputs": [
    {
     "data": {
      "text/plain": [
       "<matplotlib.axes._subplots.AxesSubplot at 0x118f41350>"
      ]
     },
     "execution_count": 38,
     "metadata": {},
     "output_type": "execute_result"
    },
    {
     "data": {
      "image/png": "[encoded data removed]",
      "text/plain": [
       "<matplotlib.figure.Figure at 0x118f52910>"
      ]
     },
     "metadata": {},
     "output_type": "display_data"
    }
   ],
   "source": [
    "# relationship between arrival cancellations and arrival diversions\n",
    "\n",
    "airports.plot(kind='scatter', x='arrival cancellations', y='arrival diversions')"
   ]
  },
  {
   "cell_type": "code",
   "execution_count": 37,
   "metadata": {
    "collapsed": false
   },
   "outputs": [
    {
     "data": {
      "text/plain": [
       "<matplotlib.axes._subplots.AxesSubplot at 0x118e39090>"
      ]
     },
     "execution_count": 37,
     "metadata": {},
     "output_type": "execute_result"
    },
    {
     "data": {
      "image/png": "[encoded data removed]",
      "text/plain": [
       "<matplotlib.figure.Figure at 0x118a2e6d0>"
      ]
     },
     "metadata": {},
     "output_type": "display_data"
    }
   ],
   "source": [
    "# relationship between departure cancellations and departure diversions\n",
    "\n",
    "airports.plot(kind='scatter', x='departure cancellations', y='departure diversions')"
   ]
  },
  {
   "cell_type": "code",
   "execution_count": 42,
   "metadata": {
    "collapsed": false
   },
   "outputs": [
    {
     "data": {
      "image/png": "[encoded data removed]",
      "text/plain": [
       "<matplotlib.figure.Figure at 0x11931a450>"
      ]
     },
     "metadata": {},
     "output_type": "display_data"
    }
   ],
   "source": [
    "# correlation heatmap of features\n",
    "sns.heatmap(airports.corr());"
   ]
  },
  {
   "cell_type": "markdown",
   "metadata": {},
   "source": [
    "As previously shown in scatterplots, both arrival and departure cancellations and diversions are highly correlated. Also, percent on time gate departurs and arrivals are also correlated for airports. \n",
    "\n",
    "This may indicate that airports with delay problems consistently have high delays while airports with on time departures consistently have on time departures. "
   ]
  },
  {
   "cell_type": "code",
   "execution_count": 49,
   "metadata": {
    "collapsed": false
   },
   "outputs": [
    {
     "ename": "ImportError",
     "evalue": "No module named basemap",
     "output_type": "error",
     "traceback": [
      "\u001b[0;31m---------------------------------------------------------------------------\u001b[0m",
      "\u001b[0;31mImportError\u001b[0m                               Traceback (most recent call last)",
      "\u001b[0;32m<ipython-input-49-8228cbcad58b>\u001b[0m in \u001b[0;36m<module>\u001b[0;34m()\u001b[0m\n\u001b[0;32m----> 1\u001b[0;31m \u001b[0;32mfrom\u001b[0m \u001b[0mmpl_toolkits\u001b[0m\u001b[0;34m.\u001b[0m\u001b[0mbasemap\u001b[0m \u001b[0;32mimport\u001b[0m \u001b[0mBasemap\u001b[0m\u001b[0;34m\u001b[0m\u001b[0m\n\u001b[0m\u001b[1;32m      2\u001b[0m \u001b[0;32mimport\u001b[0m \u001b[0mmatplotlib\u001b[0m\u001b[0;34m.\u001b[0m\u001b[0mpyplot\u001b[0m \u001b[0;32mas\u001b[0m \u001b[0mplt\u001b[0m\u001b[0;34m\u001b[0m\u001b[0m\n\u001b[1;32m      3\u001b[0m \u001b[0;32mimport\u001b[0m \u001b[0mnumpy\u001b[0m \u001b[0;32mas\u001b[0m \u001b[0mnp\u001b[0m\u001b[0;34m\u001b[0m\u001b[0m\n",
      "\u001b[0;31mImportError\u001b[0m: No module named basemap"
     ]
    }
   ],
   "source": [
    "from mpl_toolkits.basemap import Basemap\n",
    "import matplotlib.pyplot as plt\n",
    "import numpy as np"
   ]
  },
  {
   "cell_type": "markdown",
   "metadata": {
    "focus": false,
    "id": "e2ddc27c-94d6-4ab1-95ef-1093bb2726b0"
   },
   "source": [
    "### Part 3: Data Mining"
   ]
  },
  {
   "cell_type": "markdown",
   "metadata": {
    "focus": false,
    "id": "a746fd8c-fdb0-45c3-9e17-ad4c89360055"
   },
   "source": [
    "#### 3.1 Create Dummy Variables"
   ]
  },
  {
   "cell_type": "code",
   "execution_count": null,
   "metadata": {
    "collapsed": true
   },
   "outputs": [],
   "source": [
    "from sklearn.preprocessing import StandardScaler\n",
    "from sklearn.decomposition import PCA "
   ]
  },
  {
   "cell_type": "code",
   "execution_count": null,
   "metadata": {
    "collapsed": true
   },
   "outputs": [],
   "source": [
    "1 labelencoder - PCA\n",
    "    preprocessing - scaling, categorical variables (labelencoder)"
   ]
  },
  {
   "cell_type": "code",
   "execution_count": null,
   "metadata": {
    "collapsed": true
   },
   "outputs": [],
   "source": [
    "covmat() - correlation of x"
   ]
  },
  {
   "cell_type": "code",
   "execution_count": null,
   "metadata": {
    "collapsed": true
   },
   "outputs": [],
   "source": [
    "cumulative explained variance - PC1, PC2, PC3 (decide cut off of PC), PC1 & PC2, PC1,2,3 plot"
   ]
  },
  {
   "cell_type": "code",
   "execution_count": null,
   "metadata": {
    "collapsed": true
   },
   "outputs": [],
   "source": [
    "PCA () - transform fit - dataframe"
   ]
  },
  {
   "cell_type": "code",
   "execution_count": null,
   "metadata": {
    "collapsed": true
   },
   "outputs": [],
   "source": [
    "2 Clustering - PCA "
   ]
  },
  {
   "cell_type": "markdown",
   "metadata": {
    "focus": false,
    "id": "27db8e3b-27d2-4420-bbab-1ddbba3dc3e5"
   },
   "source": [
    "### Part 4: Define the Data"
   ]
  },
  {
   "cell_type": "markdown",
   "metadata": {
    "focus": false,
    "id": "9bcb3ba6-8c35-470c-a821-47d7ba6a32f2"
   },
   "source": [
    "#### 4.1 Confirm that the dataset has a normal distribution. How can you tell? "
   ]
  },
  {
   "cell_type": "code",
   "execution_count": null,
   "metadata": {
    "collapsed": true,
    "focus": false,
    "id": "9c365cbd-7b6d-46bf-b4e4-b0e2e7bd5ff6"
   },
   "outputs": [],
   "source": []
  },
  {
   "cell_type": "markdown",
   "metadata": {
    "focus": false,
    "id": "17457da4-1175-4348-b10a-99f41f7a24dd"
   },
   "source": [
    "#### 4.2 Find correlations in the data"
   ]
  },
  {
   "cell_type": "code",
   "execution_count": null,
   "metadata": {
    "collapsed": true,
    "focus": false,
    "id": "78003f34-c0d8-40f6-bafe-e0892df3f1ca"
   },
   "outputs": [],
   "source": []
  },
  {
   "cell_type": "markdown",
   "metadata": {
    "focus": false,
    "id": "886b49bf-d7fa-41b0-b94c-740345580d88"
   },
   "source": [
    "#### 4.3 What is the value of understanding correlations before PCA? "
   ]
  },
  {
   "cell_type": "markdown",
   "metadata": {
    "focus": false,
    "id": "192df272-c2b1-46da-bcfa-c2b02d7445a8"
   },
   "source": [
    "Answer: "
   ]
  },
  {
   "cell_type": "markdown",
   "metadata": {
    "focus": false,
    "id": "904cda18-4a60-4b05-8502-139beb44c1f0"
   },
   "source": [
    "#### 4.4 Validate your findings using statistical analysis"
   ]
  },
  {
   "cell_type": "code",
   "execution_count": null,
   "metadata": {
    "collapsed": true,
    "focus": false,
    "id": "d2f5bd48-a2c8-4511-b3c6-fcb4889db4a7"
   },
   "outputs": [],
   "source": []
  },
  {
   "cell_type": "markdown",
   "metadata": {
    "focus": false,
    "id": "87689b59-fda0-4a07-a9d3-95936deaf8ee"
   },
   "source": [
    "#### 4.5 How can you improve your overall analysis? "
   ]
  },
  {
   "cell_type": "markdown",
   "metadata": {
    "focus": false,
    "id": "000bc40d-e033-4621-82a4-e09717947fb3"
   },
   "source": [
    "Answer: "
   ]
  },
  {
   "cell_type": "markdown",
   "metadata": {
    "focus": false,
    "id": "cea5d879-f180-448a-bd50-b30b2b7d6d28"
   },
   "source": [
    "### Part 5: Perform a PCA"
   ]
  },
  {
   "cell_type": "markdown",
   "metadata": {
    "focus": false,
    "id": "27c1212c-3490-45ff-a6da-501075f3eee5"
   },
   "source": [
    "#### 5.1 Conduct the PCA"
   ]
  },
  {
   "cell_type": "code",
   "execution_count": null,
   "metadata": {
    "collapsed": true,
    "focus": false,
    "id": "a8e7ac46-ba4f-47a8-99f8-b67a7f7e108e"
   },
   "outputs": [],
   "source": []
  },
  {
   "cell_type": "code",
   "execution_count": null,
   "metadata": {
    "collapsed": true,
    "focus": false,
    "id": "98fd6a42-89e0-4621-a70d-1e2c8c4bb975"
   },
   "outputs": [],
   "source": []
  },
  {
   "cell_type": "markdown",
   "metadata": {},
   "source": [
    "### Part 6: Additional Analysis\n",
    "Include any other models you'd like to run here. These can include regressions, classifications, or clusters. "
   ]
  },
  {
   "cell_type": "code",
   "execution_count": null,
   "metadata": {
    "collapsed": true
   },
   "outputs": [],
   "source": []
  },
  {
   "cell_type": "code",
   "execution_count": null,
   "metadata": {
    "collapsed": true
   },
   "outputs": [],
   "source": []
  },
  {
   "cell_type": "markdown",
   "metadata": {
    "focus": false,
    "id": "023d9120-1eb3-4f20-b083-5a8fa1605f06"
   },
   "source": [
    "### Part 7: Write an analysis plan of your findings "
   ]
  },
  {
   "cell_type": "markdown",
   "metadata": {
    "focus": false,
    "id": "dc0ce0b7-c246-4d76-a01d-88fa0d37fe95"
   },
   "source": [
    "Create a writeup on the interpretation of findings including an executive summary with conclusions and next steps. Put it on your blog, and include the link here."
   ]
  },
  {
   "cell_type": "markdown",
   "metadata": {
    "focus": false,
    "id": "140af42e-0757-400e-ae39-0410a54d2581"
   },
   "source": []
  },
  {
   "cell_type": "markdown",
   "metadata": {},
   "source": [
    "Which operational features are most correlated with delays?"
   ]
  },
  {
   "cell_type": "markdown",
   "metadata": {},
   "source": [
    " "
   ]
  },
  {
   "cell_type": "markdown",
   "metadata": {},
   "source": [
    "What should the airport's next steps be?"
   ]
  },
  {
   "cell_type": "markdown",
   "metadata": {},
   "source": [
    " "
   ]
  },
  {
   "cell_type": "markdown",
   "metadata": {
    "focus": false,
    "id": "8e08640c-4901-4724-9805-32c518521b2f"
   },
   "source": [
    "### Bonus: Copy your Database to AWS "
   ]
  },
  {
   "cell_type": "markdown",
   "metadata": {
    "focus": false,
    "id": "bf5d7088-46cd-4c47-9fcc-c1fd200cd164"
   },
   "source": [
    "Make sure to properly document all of the features of your dataset"
   ]
  },
  {
   "cell_type": "code",
   "execution_count": null,
   "metadata": {
    "collapsed": true,
    "focus": false,
    "id": "d181acff-8a70-40e9-8e39-fdc2b95550a2"
   },
   "outputs": [],
   "source": []
  },
  {
   "cell_type": "markdown",
   "metadata": {
    "focus": false,
    "id": "63387c7b-3c90-4732-808c-298225e1c0fb"
   },
   "source": [
    "### Bonus: Create a 3-Dimensional Plot of your new dataset with PCA applied"
   ]
  },
  {
   "cell_type": "code",
   "execution_count": null,
   "metadata": {
    "collapsed": true,
    "focus": false,
    "id": "b6fece51-aa23-4572-8d1d-c9c83701899d"
   },
   "outputs": [],
   "source": []
  }
 ],
 "metadata": {
  "anaconda-cloud": {},
  "kernelspec": {
   "display_name": "Python [conda root]",
   "language": "python",
   "name": "conda-root-py"
  },
  "language_info": {
   "codemirror_mode": {
    "name": "ipython",
    "version": 2
   },
   "file_extension": ".py",
   "mimetype": "text/x-python",
   "name": "python",
   "nbconvert_exporter": "python",
   "pygments_lexer": "ipython2",
   "version": "2.7.12"
  }
 },
 "nbformat": 4,
 "nbformat_minor": 0
}
