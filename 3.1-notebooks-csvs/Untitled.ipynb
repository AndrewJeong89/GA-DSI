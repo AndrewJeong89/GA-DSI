{
 "cells": [
  {
   "cell_type": "code",
   "execution_count": 2,
   "metadata": {
    "collapsed": false
   },
   "outputs": [
    {
     "name": "stdout",
     "output_type": "stream",
     "text": [
      "1\n",
      "2\n",
      "3\n"
     ]
    }
   ],
   "source": [
    "for i in [1,2,3]:\n",
    "    print (i)"
   ]
  },
  {
   "cell_type": "markdown",
   "metadata": {},
   "source": [
    "## FOR A BIG HEADING\n",
    "\n",
    "*To italicize text*\n",
    "\n",
    "$x^2$\n",
    "\n",
    "$x_2$\n",
    "\n",
    "And you can write normal stuff here"
   ]
  },
  {
   "cell_type": "code",
   "execution_count": 16,
   "metadata": {
    "collapsed": false
   },
   "outputs": [
    {
     "name": "stdout",
     "output_type": "stream",
     "text": [
      "Account,Name,Rep,Manager,Product,Quantity,Price,Status\n",
      "\n",
      "714466,Trantow-Barrows,Craig Booker,Debra Henley,CPU,1,30000,presented\n",
      "\n",
      "file closed\n"
     ]
    }
   ],
   "source": [
    "f = open('./assets/datasets/sales.txt', 'r')\n",
    "print (f.readline())\n",
    "print (f.readline())\n",
    "sample_record = f.readline()\n",
    "f.close()\n",
    "print ('file closed') #always remember to close a file after writing to it!"
   ]
  },
  {
   "cell_type": "code",
   "execution_count": 17,
   "metadata": {
    "collapsed": false
   },
   "outputs": [
    {
     "data": {
      "text/plain": [
       "['714466',\n",
       " 'Trantow-Barrows',\n",
       " 'Craig Booker',\n",
       " 'Debra Henley',\n",
       " 'Software',\n",
       " '1',\n",
       " '10000',\n",
       " 'presented\\n']"
      ]
     },
     "execution_count": 17,
     "metadata": {},
     "output_type": "execute_result"
    }
   ],
   "source": [
    "sample_record.split(',')"
   ]
  },
  {
   "cell_type": "code",
   "execution_count": 26,
   "metadata": {
    "collapsed": false
   },
   "outputs": [
    {
     "data": {
      "text/plain": [
       "['Hi', 'My', 'name', 'is', 'Andrew']"
      ]
     },
     "execution_count": 26,
     "metadata": {},
     "output_type": "execute_result"
    }
   ],
   "source": [
    "\"Hi My name is Andrew\".split(' ')"
   ]
  },
  {
   "cell_type": "code",
   "execution_count": 31,
   "metadata": {
    "collapsed": false
   },
   "outputs": [
    {
     "data": {
      "text/plain": [
       "['Hi   My  name  is  Andrew']"
      ]
     },
     "execution_count": 31,
     "metadata": {},
     "output_type": "execute_result"
    }
   ],
   "source": [
    "\"HiMynameisAndrew\".split('\\t')"
   ]
  },
  {
   "cell_type": "code",
   "execution_count": 30,
   "metadata": {
    "collapsed": false
   },
   "outputs": [
    {
     "data": {
      "text/plain": [
       "['Hi', 'My', 'name', 'is', 'Andrew']"
      ]
     },
     "execution_count": 30,
     "metadata": {},
     "output_type": "execute_result"
    }
   ],
   "source": [
    "\"Hi+My+name+is+Andrew\".split('+')"
   ]
  },
  {
   "cell_type": "code",
   "execution_count": 59,
   "metadata": {
    "collapsed": false
   },
   "outputs": [
    {
     "name": "stdout",
     "output_type": "stream",
     "text": [
      "Opening File. Data: \n",
      "\n",
      "['Account', 'Name', 'Rep', 'Manager', 'Product', 'Quantity', 'Price', 'Status']\n",
      "['714466', 'Trantow-Barrows', 'Craig Booker', 'Debra Henley', 'CPU', '1', '30000', 'presented']\n",
      "['714466', 'Trantow-Barrows', 'Craig Booker', 'Debra Henley', 'Software', '1', '10000', 'presented']\n",
      "['714466', 'Trantow-Barrows', 'Craig Booker', 'Debra Henley', 'Maintenance', '2', '5000', 'pending']\n",
      "['737550', 'Fritsch', ' Russel and Anderson', 'Craig Booker', 'Debra Henley', 'CPU', '1', '35000', 'declined']\n",
      "['146832', 'Kiehn-Spinka', 'Daniel Hilton', 'Debra Henley', 'CPU', '2', '65000', 'won']\n",
      "['218895', 'Kulas Inc', 'Daniel Hilton', 'Debra Henley', 'CPU', '2', '40000', 'pending']\n",
      "['218895', 'Kulas Inc', 'Daniel Hilton', 'Debra Henley', 'Software', '1', '10000', 'presented']\n",
      "['412290', 'Jerde-Hilpert', 'John Smith', 'Debra Henley', 'Maintenance', '2', '5000', 'pending']\n",
      "['740150', 'Barton LLC', 'John Smith', 'Debra Henley', 'CPU', '1', '35000', 'declined']\n",
      "['141962', 'Herman LLC', 'Cedric Moss', 'Fred Anderson', 'CPU', '2', '65000', 'won']\n",
      "['163416', 'Purdy-Kunde', 'Cedric Moss', 'Fred Anderson', 'CPU', '1', '30000', 'presented']\n",
      "['239344', 'Stokes LLC', 'Cedric Moss', 'Fred Anderson', 'Maintenance', '1', '5000', 'pending']\n",
      "['239344', 'Stokes LLC', 'Cedric Moss', 'Fred Anderson', 'Software', '1', '10000', 'presented']\n",
      "['307599', 'Kassulke', ' Ondricka and Metz', 'Wendy Yule', 'Fred Anderson', 'Maintenance', '3', '7000', 'won']\n",
      "['688981', 'Keeling LLC', 'Wendy Yule', 'Fred Anderson', 'CPU', '5', '100000', 'won']\n",
      "['729833', 'Koepp Ltd', 'Wendy Yule', 'Fred Anderson', 'CPU', '2', '65000', 'declined']\n",
      "['729833', 'Koepp Ltd', 'Wendy Yule', 'Fred Anderson', 'Monitor', '2', '5000', 'presented']\n",
      "\n"
     ]
    }
   ],
   "source": [
    "import csv\n",
    "print ('Opening File. Data: ')\n",
    "print ('')\n",
    "with open('./assets/datasets/sales.txt', 'r') as f: #provide the correct path\n",
    "    reader = csv.reader(f)\n",
    "    for row in reader:\n",
    "        print (row)\n",
    "print ('')"
   ]
  },
  {
   "cell_type": "raw",
   "metadata": {},
   "source": []
  },
  {
   "cell_type": "code",
   "execution_count": 64,
   "metadata": {
    "collapsed": false
   },
   "outputs": [
    {
     "name": "stdout",
     "output_type": "stream",
     "text": [
      "Adding the following record: \n",
      "\n",
      "['123456', 'cosmos', 'neil', 'lucy', 'universe', '1', '1,000,000', 'presented']\n"
     ]
    }
   ],
   "source": [
    "\n",
    "print ('Adding the following record: ')\n",
    "data = ['123456', 'cosmos', 'neil', 'lucy', 'universe', '1', '1,000,000', 'presented']\n",
    "print ('')\n",
    "print (data)\n",
    "with open('./assets/datasets/sales.txt', 'a') as fp: # Again, check this path\n",
    "    a = csv.writer(fp, delimiter=',')\n",
    "    a.writerows([data])"
   ]
  },
  {
   "cell_type": "code",
   "execution_count": 65,
   "metadata": {
    "collapsed": false
   },
   "outputs": [
    {
     "name": "stdout",
     "output_type": "stream",
     "text": [
      "The new data that was just added, can be seen on the last line: \n",
      "['Account', 'Name', 'Rep', 'Manager', 'Product', 'Quantity', 'Price', 'Status']\n",
      "['714466', 'Trantow-Barrows', 'Craig Booker', 'Debra Henley', 'CPU', '1', '30000', 'presented']\n",
      "['714466', 'Trantow-Barrows', 'Craig Booker', 'Debra Henley', 'Software', '1', '10000', 'presented']\n",
      "['714466', 'Trantow-Barrows', 'Craig Booker', 'Debra Henley', 'Maintenance', '2', '5000', 'pending']\n",
      "['737550', 'Fritsch', ' Russel and Anderson', 'Craig Booker', 'Debra Henley', 'CPU', '1', '35000', 'declined']\n",
      "['146832', 'Kiehn-Spinka', 'Daniel Hilton', 'Debra Henley', 'CPU', '2', '65000', 'won']\n",
      "['218895', 'Kulas Inc', 'Daniel Hilton', 'Debra Henley', 'CPU', '2', '40000', 'pending']\n",
      "['218895', 'Kulas Inc', 'Daniel Hilton', 'Debra Henley', 'Software', '1', '10000', 'presented']\n",
      "['412290', 'Jerde-Hilpert', 'John Smith', 'Debra Henley', 'Maintenance', '2', '5000', 'pending']\n",
      "['740150', 'Barton LLC', 'John Smith', 'Debra Henley', 'CPU', '1', '35000', 'declined']\n",
      "['141962', 'Herman LLC', 'Cedric Moss', 'Fred Anderson', 'CPU', '2', '65000', 'won']\n",
      "['163416', 'Purdy-Kunde', 'Cedric Moss', 'Fred Anderson', 'CPU', '1', '30000', 'presented']\n",
      "['239344', 'Stokes LLC', 'Cedric Moss', 'Fred Anderson', 'Maintenance', '1', '5000', 'pending']\n",
      "['239344', 'Stokes LLC', 'Cedric Moss', 'Fred Anderson', 'Software', '1', '10000', 'presented']\n",
      "['307599', 'Kassulke', ' Ondricka and Metz', 'Wendy Yule', 'Fred Anderson', 'Maintenance', '3', '7000', 'won']\n",
      "['688981', 'Keeling LLC', 'Wendy Yule', 'Fred Anderson', 'CPU', '5', '100000', 'won']\n",
      "['729833', 'Koepp Ltd', 'Wendy Yule', 'Fred Anderson', 'CPU', '2', '65000', 'declined']\n",
      "['729833', 'Koepp Ltd', 'Wendy Yule', 'Fred Anderson', 'Monitor', '2', '5000', 'presented']\n",
      "['123456', 'cosmos', 'neil', 'lucy', 'universe', '1', '1,000,000', 'presented']\n"
     ]
    }
   ],
   "source": [
    "print ('The new data that was just added, can be seen on the last line: ')\n",
    "with open('./assets/datasets/sales.txt', 'r') as f:\n",
    "    reader = csv.reader(f)\n",
    "    for row in reader:\n",
    "        print (row)"
   ]
  },
  {
   "cell_type": "code",
   "execution_count": null,
   "metadata": {
    "collapsed": true
   },
   "outputs": [],
   "source": []
  }
 ],
 "metadata": {
  "kernelspec": {
   "display_name": "Python [Root]",
   "language": "python",
   "name": "Python [Root]"
  },
  "language_info": {
   "codemirror_mode": {
    "name": "ipython",
    "version": 3
   },
   "file_extension": ".py",
   "mimetype": "text/x-python",
   "name": "python",
   "nbconvert_exporter": "python",
   "pygments_lexer": "ipython3",
   "version": "3.5.2"
  }
 },
 "nbformat": 4,
 "nbformat_minor": 0
}
