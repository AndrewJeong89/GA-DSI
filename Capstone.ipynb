{
 "cells": [
  {
   "cell_type": "markdown",
   "metadata": {},
   "source": [
    "## Karaoke Song Assister\n",
    "\n",
    "What songs you can sing based on what songs you are good at singing\n",
    "\n",
    "For DJ’s to choose the next song to play that correlates closest to the next song.\n",
    "What’s the closest song to any given song based on waveform, bpm, genre, etc"
   ]
  },
  {
   "cell_type": "markdown",
   "metadata": {},
   "source": [
    "1. Scrape using API\n",
    "2. Jsonify\n",
    "3. Turn Jsonify file into Dataframe"
   ]
  },
  {
   "cell_type": "code",
   "execution_count": 1,
   "metadata": {
    "collapsed": false
   },
   "outputs": [
    {
     "name": "stdout",
     "output_type": "stream",
     "text": [
      "  0 Island In The Sun\n",
      "  1 Say It Ain't So\n",
      "  2 Buddy Holly\n",
      "  3 Thank God For Girls\n",
      "  4 I Love The USA\n",
      "  5 King Of The World\n",
      "  6 Beverly Hills\n",
      "  7 Hash Pipe\n",
      "  8 Undone - The Sweater Song\n",
      "  9 Pork And Beans\n",
      "  10 California Kids\n",
      "  11 My Name Is Jonas\n",
      "  12 Undone - The Sweater Song\n",
      "  13 Do You Wanna Get High?\n",
      "  14 Say It Ain't So\n",
      "  15 My Name Is Jonas\n",
      "  16 Buddy Holly\n",
      "  17 Jacked Up\n",
      "  18 (Girl We Got A) Good Thing\n",
      "  19 Wind In Our Sail\n"
     ]
    }
   ],
   "source": [
    "import spotipy\n",
    "sp = spotipy.Spotify()\n",
    "\n",
    "results = sp.search(q='weezer', limit=20)\n",
    "for i, t in enumerate(results['tracks']['items']):\n",
    "    print ' ', i, t['name']\n"
   ]
  },
  {
   "cell_type": "code",
   "execution_count": 5,
   "metadata": {
    "collapsed": false
   },
   "outputs": [
    {
     "name": "stdout",
     "output_type": "stream",
     "text": [
      "   0 Kanye 5brMyscUnQg14hMriS91ks\n",
      "  1 Father Stretch My Hands Pt. 1 4KW1lqgSr8TKrvBII0Brf8\n",
      "  2 Famous 19a3JfW8BQwqHWUMbcqSx8\n",
      "  3 I Love Kanye 5CGS4UovzA7ftCJkLVXQju\n",
      "  4 Fade 3cCxoOgfi6hgt8MNteuiiD\n",
      "  5 Waves 3nAq2hCr1oWsIU54tS98pL\n",
      "  6 Tiimmy Turner - Remix 2vwvGMStv1nEuoOTd4xgMu\n",
      "  7 Stronger 6C7RJEIUDqKkJRZVWdkfkH\n",
      "  8 Pt. 2 1Wsbr1d2BouNGk2q92mIj7\n",
      "  9 Ultralight Beam 1eQBEelI2NCy7AUTerX0KS\n"
     ]
    }
   ],
   "source": [
    "resultsk = sp.search(q='kanye', limit=10)\n",
    "for i, t in enumerate(resultsk['tracks']['items']):\n",
    "    print ' ', i, t['name'],t['id']"
   ]
  },
  {
   "cell_type": "code",
   "execution_count": 6,
   "metadata": {
    "collapsed": false
   },
   "outputs": [
    {
     "data": {
      "text/plain": [
       "{u'album': {u'album_type': u'album',\n",
       "  u'artists': [{u'external_urls': {u'spotify': u'https://open.spotify.com/artist/5K4W6rqBFWDnAN6FQUkS6x'},\n",
       "    u'href': u'https://api.spotify.com/v1/artists/5K4W6rqBFWDnAN6FQUkS6x',\n",
       "    u'id': u'5K4W6rqBFWDnAN6FQUkS6x',\n",
       "    u'name': u'Kanye West',\n",
       "    u'type': u'artist',\n",
       "    u'uri': u'spotify:artist:5K4W6rqBFWDnAN6FQUkS6x'}],\n",
       "  u'available_markets': [u'CA', u'MX', u'US'],\n",
       "  u'external_urls': {u'spotify': u'https://open.spotify.com/album/7gsWAHLeT0w7es6FofOXk1'},\n",
       "  u'href': u'https://api.spotify.com/v1/albums/7gsWAHLeT0w7es6FofOXk1',\n",
       "  u'id': u'7gsWAHLeT0w7es6FofOXk1',\n",
       "  u'images': [{u'height': 640,\n",
       "    u'url': u'https://i.scdn.co/image/443372cd2c6d4245833fb46ac1c5dabca00c78a9',\n",
       "    u'width': 640},\n",
       "   {u'height': 300,\n",
       "    u'url': u'https://i.scdn.co/image/d2351cd8009379e06421c31fe7de3f87178b4e66',\n",
       "    u'width': 300},\n",
       "   {u'height': 64,\n",
       "    u'url': u'https://i.scdn.co/image/4c9fcc4c6f9408a4111f963143d8d13fb58df2b3',\n",
       "    u'width': 64}],\n",
       "  u'name': u'The Life Of Pablo',\n",
       "  u'type': u'album',\n",
       "  u'uri': u'spotify:album:7gsWAHLeT0w7es6FofOXk1'},\n",
       " u'artists': [{u'external_urls': {u'spotify': u'https://open.spotify.com/artist/5K4W6rqBFWDnAN6FQUkS6x'},\n",
       "   u'href': u'https://api.spotify.com/v1/artists/5K4W6rqBFWDnAN6FQUkS6x',\n",
       "   u'id': u'5K4W6rqBFWDnAN6FQUkS6x',\n",
       "   u'name': u'Kanye West',\n",
       "   u'type': u'artist',\n",
       "   u'uri': u'spotify:artist:5K4W6rqBFWDnAN6FQUkS6x'}],\n",
       " u'available_markets': [u'CA', u'MX', u'US'],\n",
       " u'disc_number': 1,\n",
       " u'duration_ms': 320680,\n",
       " u'explicit': True,\n",
       " u'external_ids': {u'isrc': u'USUM71603065'},\n",
       " u'external_urls': {u'spotify': u'https://open.spotify.com/track/1eQBEelI2NCy7AUTerX0KS'},\n",
       " u'href': u'https://api.spotify.com/v1/tracks/1eQBEelI2NCy7AUTerX0KS',\n",
       " u'id': u'1eQBEelI2NCy7AUTerX0KS',\n",
       " u'name': u'Ultralight Beam',\n",
       " u'popularity': 74,\n",
       " u'preview_url': u'https://p.scdn.co/mp3-preview/ac72493a5aa36000a9ce2dc5eb6f94e4f862f761',\n",
       " u'track_number': 1,\n",
       " u'type': u'track',\n",
       " u'uri': u'spotify:track:1eQBEelI2NCy7AUTerX0KS'}"
      ]
     },
     "execution_count": 6,
     "metadata": {},
     "output_type": "execute_result"
    }
   ],
   "source": [
    "t"
   ]
  },
  {
   "cell_type": "code",
   "execution_count": 10,
   "metadata": {
    "collapsed": false
   },
   "outputs": [
    {
     "name": "stdout",
     "output_type": "stream",
     "text": [
      "The Life Of Pablo\n",
      "The Life Of Pablo\n",
      "Yeezus\n",
      "Yeezus\n",
      "Watch The Throne (Deluxe)\n",
      "Watch The Throne (Deluxe)\n",
      "Watch The Throne (Deluxe)\n",
      "Watch The Throne (Deluxe)\n",
      "Watch The Throne (Deluxe)\n",
      "Watch The Throne (Deluxe)\n",
      "Watch The Throne (Explicit Version)\n",
      "Watch The Throne\n",
      "Watch The Throne\n",
      "Watch The Throne (Edited Version)\n",
      "Watch The Throne (Edited Version)\n",
      "Watch The Throne\n",
      "My Beautiful Dark Twisted Fantasy\n",
      "My Beautiful Dark Twisted Fantasy\n",
      "My Beautiful Dark Twisted Fantasy\n",
      "My Beautiful Dark Twisted Fantasy\n",
      "Graduation (UK Version)\n",
      "Graduation (Exclusive Edition)\n",
      "Graduation\n",
      "Graduation\n",
      "Graduation (Exclusive Edition)\n",
      "Graduation\n",
      "Graduation\n",
      "808s & Heartbreak\n",
      "808s & Heartbreak\n",
      "808s & Heartbreak (UK Version)\n",
      "808s & Heartbreak (Softpak)\n",
      "Graduation (French Limited Version)\n",
      "Late Orchestration\n",
      "Late Registration\n",
      "Late Registration\n",
      "Late Registration\n",
      "Late Registration\n",
      "Late Registration\n",
      "The College Dropout (Explicit)\n",
      "The College Dropout [UK Version - (Art changes)]\n",
      "The College Dropout (Explicit)\n",
      "The College Dropout (Edited)\n",
      "The College Dropout (Edited)\n"
     ]
    }
   ],
   "source": [
    "birdy_uri = 'spotify:artist:5K4W6rqBFWDnAN6FQUkS6x'\n",
    "spotify = spotipy.Spotify()\n",
    "\n",
    "results = spotify.artist_albums(birdy_uri, album_type='album')\n",
    "albums = results['items']\n",
    "while results['next']:\n",
    "    results = spotify.next(results)\n",
    "    albums.extend(results['items'])\n",
    "\n",
    "for album in albums:\n",
    "    print(album['name'])\n",
    "    "
   ]
  },
  {
   "cell_type": "code",
   "execution_count": 9,
   "metadata": {
    "collapsed": false
   },
   "outputs": [
    {
     "name": "stdout",
     "output_type": "stream",
     "text": [
      "track    : Stairway To Heaven\n",
      "audio    : https://p.scdn.co/mp3-preview/8226164717312bc411f8635580562d67e191a754\n",
      "cover art: https://i.scdn.co/image/557a6058e3de72bf37ffcd2c12dd5932276df344\n",
      "\n",
      "track    : Whole Lotta Love\n",
      "audio    : https://p.scdn.co/mp3-preview/ce11b19a4d2de9976d7626df0717d0073863909c\n",
      "cover art: https://i.scdn.co/image/5fa3a6cc1848ea743a293d2088046746d1b09608\n",
      "\n",
      "track    : Ramble On\n",
      "audio    : https://p.scdn.co/mp3-preview/83383aceb01ea27b0bffdedfaebe55e29b33aca2\n",
      "cover art: https://i.scdn.co/image/5fa3a6cc1848ea743a293d2088046746d1b09608\n",
      "\n",
      "track    : Good Times Bad Times\n",
      "audio    : https://p.scdn.co/mp3-preview/c1f024eb57b569b926c8e68cab0a6056dc7d9654\n",
      "cover art: https://i.scdn.co/image/71e6a72a1b3a00d2ddabee9a3e2d5ade3be25409\n",
      "\n",
      "track    : Immigrant Song\n",
      "audio    : https://p.scdn.co/mp3-preview/9a4035acd7743242c6fefb26c14442b3fd34da44\n",
      "cover art: https://i.scdn.co/image/cfe780cc1b1ce4f5c756a649cdffa7da6dcedbe3\n",
      "\n",
      "track    : Black Dog\n",
      "audio    : https://p.scdn.co/mp3-preview/9b76619fd9d563a48d38cc90ca00c3008327b52e\n",
      "cover art: https://i.scdn.co/image/557a6058e3de72bf37ffcd2c12dd5932276df344\n",
      "\n",
      "track    : Heartbreaker\n",
      "audio    : https://p.scdn.co/mp3-preview/01ecc69cb05ce5234bd24a2224fb4edbf7c0daba\n",
      "cover art: https://i.scdn.co/image/5fa3a6cc1848ea743a293d2088046746d1b09608\n",
      "\n",
      "track    : Kashmir\n",
      "audio    : https://p.scdn.co/mp3-preview/13b2c47c98132f80a5ce12d8a4ceb192ba7a4345\n",
      "cover art: https://i.scdn.co/image/e9e82cfa89aaeb1f6b1f8756a98e40ccc65e8a01\n",
      "\n",
      "track    : Babe I'm Gonna Leave You\n",
      "audio    : https://p.scdn.co/mp3-preview/e82d356bea5c8244cee4e6d5447b46b87852dc11\n",
      "cover art: https://i.scdn.co/image/71e6a72a1b3a00d2ddabee9a3e2d5ade3be25409\n",
      "\n",
      "track    : Rock And Roll\n",
      "audio    : https://p.scdn.co/mp3-preview/e7ea8a13f7caf6942c5447e9cd96aac2a076d85a\n",
      "cover art: https://i.scdn.co/image/557a6058e3de72bf37ffcd2c12dd5932276df344\n",
      "\n"
     ]
    }
   ],
   "source": [
    "lz_uri = 'spotify:artist:36QJpDe2go2KgaRleHCDTp'\n",
    "\n",
    "spotify = spotipy.Spotify()\n",
    "results = spotify.artist_top_tracks(lz_uri)\n",
    "\n",
    "for track in results['tracks'][:10]:\n",
    "    print 'track    : ' + track['name']\n",
    "    print 'audio    : ' + track['preview_url']\n",
    "    print 'cover art: ' + track['album']['images'][0]['url']\n",
    "    print"
   ]
  },
  {
   "cell_type": "code",
   "execution_count": 28,
   "metadata": {
    "collapsed": false
   },
   "outputs": [],
   "source": [
    "# sp = spotipy.Spotify()\n",
    "# sp.trace=False\n",
    "\n",
    "# if len(sys.argv) > 1:\n",
    "#     artist_name = ' '.join(sys.argv[1:])\n",
    "#     results = sp.search(q=artist_name, limit=50)\n",
    "#     tids = []\n",
    "#     for i, t in enumerate(results['tracks']['items']):\n",
    "#         print(' ', i, t['name'])\n",
    "#         tids.append(t['uri'])\n",
    "\n",
    "#     start = time.time()\n",
    "#     features = sp.audio_features(tids)\n",
    "#     delta = time.time() - start\n",
    "#     for feature in features:\n",
    "#         analysis = sp._get(feature['analysis_url'])\n",
    "#         print(json.dumps(analysis, indent=4))\n",
    "#         print()"
   ]
  },
  {
   "cell_type": "code",
   "execution_count": 26,
   "metadata": {
    "collapsed": false
   },
   "outputs": [
    {
     "ename": "SpotifyException",
     "evalue": "http status: 404, code:-1 - https://api.spotify.com/v1/search?q=artist%3A-f+%2FUsers%2Fandrewjeong%2FLibrary%2FJupyter%2Fruntime%2Fkernel-05c5749e-526f-42c4-9dd6-8139ce95033d.json&type=artist&limit=10&offset=0:\n Not found.",
     "output_type": "error",
     "traceback": [
      "\u001b[0;31m---------------------------------------------------------------------------\u001b[0m",
      "\u001b[0;31mSpotifyException\u001b[0m                          Traceback (most recent call last)",
      "\u001b[0;32m<ipython-input-26-02e7e55996e9>\u001b[0m in \u001b[0;36m<module>\u001b[0;34m()\u001b[0m\n\u001b[1;32m      9\u001b[0m     \u001b[0mname\u001b[0m \u001b[0;34m=\u001b[0m \u001b[0;34m'Radiohead'\u001b[0m\u001b[0;34m\u001b[0m\u001b[0m\n\u001b[1;32m     10\u001b[0m \u001b[0;34m\u001b[0m\u001b[0m\n\u001b[0;32m---> 11\u001b[0;31m \u001b[0mresults\u001b[0m \u001b[0;34m=\u001b[0m \u001b[0mspotify\u001b[0m\u001b[0;34m.\u001b[0m\u001b[0msearch\u001b[0m\u001b[0;34m(\u001b[0m\u001b[0mq\u001b[0m\u001b[0;34m=\u001b[0m\u001b[0;34m'artist:'\u001b[0m \u001b[0;34m+\u001b[0m \u001b[0mname\u001b[0m\u001b[0;34m,\u001b[0m \u001b[0mtype\u001b[0m\u001b[0;34m=\u001b[0m\u001b[0;34m'artist'\u001b[0m\u001b[0;34m)\u001b[0m\u001b[0;34m\u001b[0m\u001b[0m\n\u001b[0m\u001b[1;32m     12\u001b[0m \u001b[0mitems\u001b[0m \u001b[0;34m=\u001b[0m \u001b[0mresults\u001b[0m\u001b[0;34m[\u001b[0m\u001b[0;34m'artists'\u001b[0m\u001b[0;34m]\u001b[0m\u001b[0;34m[\u001b[0m\u001b[0;34m'items'\u001b[0m\u001b[0;34m]\u001b[0m\u001b[0;34m\u001b[0m\u001b[0m\n\u001b[1;32m     13\u001b[0m \u001b[0;32mif\u001b[0m \u001b[0mlen\u001b[0m\u001b[0;34m(\u001b[0m\u001b[0mitems\u001b[0m\u001b[0;34m)\u001b[0m \u001b[0;34m>\u001b[0m \u001b[0;36m0\u001b[0m\u001b[0;34m:\u001b[0m\u001b[0;34m\u001b[0m\u001b[0m\n",
      "\u001b[0;32m/Users/andrewjeong/anaconda/lib/python2.7/site-packages/spotipy/client.pyc\u001b[0m in \u001b[0;36msearch\u001b[0;34m(self, q, limit, offset, type)\u001b[0m\n\u001b[1;32m    321\u001b[0m                          \u001b[0;34m'track'\u001b[0m \u001b[0;32mor\u001b[0m \u001b[0;34m'playlist'\u001b[0m\u001b[0;34m\u001b[0m\u001b[0m\n\u001b[1;32m    322\u001b[0m         '''\n\u001b[0;32m--> 323\u001b[0;31m         \u001b[0;32mreturn\u001b[0m \u001b[0mself\u001b[0m\u001b[0;34m.\u001b[0m\u001b[0m_get\u001b[0m\u001b[0;34m(\u001b[0m\u001b[0;34m'search'\u001b[0m\u001b[0;34m,\u001b[0m \u001b[0mq\u001b[0m\u001b[0;34m=\u001b[0m\u001b[0mq\u001b[0m\u001b[0;34m,\u001b[0m \u001b[0mlimit\u001b[0m\u001b[0;34m=\u001b[0m\u001b[0mlimit\u001b[0m\u001b[0;34m,\u001b[0m \u001b[0moffset\u001b[0m\u001b[0;34m=\u001b[0m\u001b[0moffset\u001b[0m\u001b[0;34m,\u001b[0m \u001b[0mtype\u001b[0m\u001b[0;34m=\u001b[0m\u001b[0mtype\u001b[0m\u001b[0;34m)\u001b[0m\u001b[0;34m\u001b[0m\u001b[0m\n\u001b[0m\u001b[1;32m    324\u001b[0m \u001b[0;34m\u001b[0m\u001b[0m\n\u001b[1;32m    325\u001b[0m     \u001b[0;32mdef\u001b[0m \u001b[0muser\u001b[0m\u001b[0;34m(\u001b[0m\u001b[0mself\u001b[0m\u001b[0;34m,\u001b[0m \u001b[0muser\u001b[0m\u001b[0;34m)\u001b[0m\u001b[0;34m:\u001b[0m\u001b[0;34m\u001b[0m\u001b[0m\n",
      "\u001b[0;32m/Users/andrewjeong/anaconda/lib/python2.7/site-packages/spotipy/client.pyc\u001b[0m in \u001b[0;36m_get\u001b[0;34m(self, url, args, payload, **kwargs)\u001b[0m\n\u001b[1;32m    131\u001b[0m         \u001b[0;32mwhile\u001b[0m \u001b[0mretries\u001b[0m \u001b[0;34m>\u001b[0m \u001b[0;36m0\u001b[0m\u001b[0;34m:\u001b[0m\u001b[0;34m\u001b[0m\u001b[0m\n\u001b[1;32m    132\u001b[0m             \u001b[0;32mtry\u001b[0m\u001b[0;34m:\u001b[0m\u001b[0;34m\u001b[0m\u001b[0m\n\u001b[0;32m--> 133\u001b[0;31m                 \u001b[0;32mreturn\u001b[0m \u001b[0mself\u001b[0m\u001b[0;34m.\u001b[0m\u001b[0m_internal_call\u001b[0m\u001b[0;34m(\u001b[0m\u001b[0;34m'GET'\u001b[0m\u001b[0;34m,\u001b[0m \u001b[0murl\u001b[0m\u001b[0;34m,\u001b[0m \u001b[0mpayload\u001b[0m\u001b[0;34m,\u001b[0m \u001b[0mkwargs\u001b[0m\u001b[0;34m)\u001b[0m\u001b[0;34m\u001b[0m\u001b[0m\n\u001b[0m\u001b[1;32m    134\u001b[0m             \u001b[0;32mexcept\u001b[0m \u001b[0mSpotifyException\u001b[0m \u001b[0;32mas\u001b[0m \u001b[0me\u001b[0m\u001b[0;34m:\u001b[0m\u001b[0;34m\u001b[0m\u001b[0m\n\u001b[1;32m    135\u001b[0m                 \u001b[0mretries\u001b[0m \u001b[0;34m-=\u001b[0m \u001b[0;36m1\u001b[0m\u001b[0;34m\u001b[0m\u001b[0m\n",
      "\u001b[0;32m/Users/andrewjeong/anaconda/lib/python2.7/site-packages/spotipy/client.pyc\u001b[0m in \u001b[0;36m_internal_call\u001b[0;34m(self, method, url, payload, params)\u001b[0m\n\u001b[1;32m    109\u001b[0m             \u001b[0;32mif\u001b[0m \u001b[0mr\u001b[0m\u001b[0;34m.\u001b[0m\u001b[0mtext\u001b[0m \u001b[0;32mand\u001b[0m \u001b[0mlen\u001b[0m\u001b[0;34m(\u001b[0m\u001b[0mr\u001b[0m\u001b[0;34m.\u001b[0m\u001b[0mtext\u001b[0m\u001b[0;34m)\u001b[0m \u001b[0;34m>\u001b[0m \u001b[0;36m0\u001b[0m \u001b[0;32mand\u001b[0m \u001b[0mr\u001b[0m\u001b[0;34m.\u001b[0m\u001b[0mtext\u001b[0m \u001b[0;34m!=\u001b[0m \u001b[0;34m'null'\u001b[0m\u001b[0;34m:\u001b[0m\u001b[0;34m\u001b[0m\u001b[0m\n\u001b[1;32m    110\u001b[0m                 raise SpotifyException(r.status_code,\n\u001b[0;32m--> 111\u001b[0;31m                     -1, '%s:\\n %s' % (r.url, r.json()['error']['message']))\n\u001b[0m\u001b[1;32m    112\u001b[0m             \u001b[0;32melse\u001b[0m\u001b[0;34m:\u001b[0m\u001b[0;34m\u001b[0m\u001b[0m\n\u001b[1;32m    113\u001b[0m                 raise SpotifyException(r.status_code,\n",
      "\u001b[0;31mSpotifyException\u001b[0m: http status: 404, code:-1 - https://api.spotify.com/v1/search?q=artist%3A-f+%2FUsers%2Fandrewjeong%2FLibrary%2FJupyter%2Fruntime%2Fkernel-05c5749e-526f-42c4-9dd6-8139ce95033d.json&type=artist&limit=10&offset=0:\n Not found."
     ]
    }
   ],
   "source": [
    "import spotipy\n",
    "import sys\n",
    "\n",
    "spotify = spotipy.Spotify()\n",
    "\n",
    "if len(sys.argv) > 1:\n",
    "    name = ' '.join(sys.argv[1:])\n",
    "else:\n",
    "    name = 'Radiohead'\n",
    "\n",
    "results = spotify.search(q='artist:' + name, type='artist')\n",
    "items = results['artists']['items']\n",
    "if len(items) > 0:\n",
    "    artist = items[0]\n",
    "    print artist['name'], artist['images'][0]['url']"
   ]
  },
  {
   "cell_type": "code",
   "execution_count": 43,
   "metadata": {
    "collapsed": false
   },
   "outputs": [
    {
     "name": "stdout",
     "output_type": "stream",
     "text": [
      "{u'artists': {u'items': [{u'genres': [u'k-pop', u'korean pop'], u'name': u'Zion.T', u'external_urls': {u'spotify': u'https://open.spotify.com/artist/5HenzRvMtSrgtvU16XAoby'}, u'popularity': 57, u'uri': u'spotify:artist:5HenzRvMtSrgtvU16XAoby', u'href': u'https://api.spotify.com/v1/artists/5HenzRvMtSrgtvU16XAoby', u'followers': {u'total': 55645, u'href': None}, u'images': [{u'url': u'https://i.scdn.co/image/5f546bef46114c1892202e50d9a06ebf9342edf8', u'width': 640, u'height': 640}, {u'url': u'https://i.scdn.co/image/3373ef2a26d19a1f1bdd6b994b297914693cfd4a', u'width': 300, u'height': 300}, {u'url': u'https://i.scdn.co/image/11711313c1eb239d36532db4d0fe16e5b26fca38', u'width': 64, u'height': 64}], u'type': u'artist', u'id': u'5HenzRvMtSrgtvU16XAoby'}, {u'genres': [], u'name': u'Gaeko feat. Zion. T, HA:TFELT', u'external_urls': {u'spotify': u'https://open.spotify.com/artist/0eycgGP1iPDFLHc03G9hUY'}, u'popularity': 20, u'uri': u'spotify:artist:0eycgGP1iPDFLHc03G9hUY', u'href': u'https://api.spotify.com/v1/artists/0eycgGP1iPDFLHc03G9hUY', u'followers': {u'total': 96, u'href': None}, u'images': [], u'type': u'artist', u'id': u'0eycgGP1iPDFLHc03G9hUY'}, {u'genres': [], u'name': u'Brothers Of Zion, Cunnie Williams & Mousse T.', u'external_urls': {u'spotify': u'https://open.spotify.com/artist/5RiOdbKSWw1cnbr155gWUi'}, u'popularity': 0, u'uri': u'spotify:artist:5RiOdbKSWw1cnbr155gWUi', u'href': u'https://api.spotify.com/v1/artists/5RiOdbKSWw1cnbr155gWUi', u'followers': {u'total': 5, u'href': None}, u'images': [{u'url': u'https://i.scdn.co/image/762235c31d6268ed6ce409d75c3508bbf33826a2', u'width': 640, u'height': 640}, {u'url': u'https://i.scdn.co/image/0e3807190afe0ca69a312fea24ed565e666fdaf0', u'width': 300, u'height': 300}, {u'url': u'https://i.scdn.co/image/a2a5a57904786cb22314a1f5867b47aa989980ba', u'width': 64, u'height': 64}], u'type': u'artist', u'id': u'5RiOdbKSWw1cnbr155gWUi'}], u'next': None, u'href': u'https://api.spotify.com/v1/search?query=artist%3AZion-T&offset=0&limit=10&type=artist', u'limit': 10, u'offset': 0, u'total': 3, u'previous': None}}\n"
     ]
    }
   ],
   "source": [
    "import spotipy\n",
    "\n",
    "spotify = spotipy.Spotify()\n",
    "name = 'Zion-T'\n",
    "\n",
    "results = spotify.search(q='artist:' + name, type='artist')\n",
    "print results"
   ]
  },
  {
   "cell_type": "code",
   "execution_count": 10,
   "metadata": {
    "collapsed": false
   },
   "outputs": [
    {
     "ename": "SpotifyOauthError",
     "evalue": "No client id",
     "output_type": "error",
     "traceback": [
      "\u001b[0;31m---------------------------------------------------------------------------\u001b[0m",
      "\u001b[0;31mSpotifyOauthError\u001b[0m                         Traceback (most recent call last)",
      "\u001b[0;32m<ipython-input-10-680213773e75>\u001b[0m in \u001b[0;36m<module>\u001b[0;34m()\u001b[0m\n\u001b[1;32m      3\u001b[0m \u001b[0;32mimport\u001b[0m \u001b[0mpprint\u001b[0m\u001b[0;34m\u001b[0m\u001b[0m\n\u001b[1;32m      4\u001b[0m \u001b[0;34m\u001b[0m\u001b[0m\n\u001b[0;32m----> 5\u001b[0;31m \u001b[0mclient_credentials_manager\u001b[0m \u001b[0;34m=\u001b[0m \u001b[0mSpotifyClientCredentials\u001b[0m\u001b[0;34m(\u001b[0m\u001b[0;34m)\u001b[0m\u001b[0;34m\u001b[0m\u001b[0m\n\u001b[0m\u001b[1;32m      6\u001b[0m \u001b[0msp\u001b[0m \u001b[0;34m=\u001b[0m \u001b[0mspotipy\u001b[0m\u001b[0;34m.\u001b[0m\u001b[0mSpotify\u001b[0m\u001b[0;34m(\u001b[0m\u001b[0mclient_credentials_manager\u001b[0m\u001b[0;34m=\u001b[0m\u001b[0mclient_credentials_manager\u001b[0m\u001b[0;34m)\u001b[0m\u001b[0;34m\u001b[0m\u001b[0m\n\u001b[1;32m      7\u001b[0m \u001b[0;34m\u001b[0m\u001b[0m\n",
      "\u001b[0;32m/Users/andrewjeong/anaconda/lib/python2.7/site-packages/spotipy/oauth2.pyc\u001b[0m in \u001b[0;36m__init__\u001b[0;34m(self, client_id, client_secret)\u001b[0m\n\u001b[1;32m     37\u001b[0m \u001b[0;34m\u001b[0m\u001b[0m\n\u001b[1;32m     38\u001b[0m         \u001b[0;32mif\u001b[0m \u001b[0;32mnot\u001b[0m \u001b[0mclient_id\u001b[0m\u001b[0;34m:\u001b[0m\u001b[0;34m\u001b[0m\u001b[0m\n\u001b[0;32m---> 39\u001b[0;31m             \u001b[0;32mraise\u001b[0m \u001b[0mSpotifyOauthError\u001b[0m\u001b[0;34m(\u001b[0m\u001b[0;34m'No client id'\u001b[0m\u001b[0;34m)\u001b[0m\u001b[0;34m\u001b[0m\u001b[0m\n\u001b[0m\u001b[1;32m     40\u001b[0m \u001b[0;34m\u001b[0m\u001b[0m\n\u001b[1;32m     41\u001b[0m         \u001b[0;32mif\u001b[0m \u001b[0;32mnot\u001b[0m \u001b[0mclient_secret\u001b[0m\u001b[0;34m:\u001b[0m\u001b[0;34m\u001b[0m\u001b[0m\n",
      "\u001b[0;31mSpotifyOauthError\u001b[0m: No client id"
     ]
    }
   ],
   "source": [
    "from spotipy.oauth2 import SpotifyClientCredentials\n",
    "import spotipy\n",
    "import pprint\n",
    "\n",
    "client_credentials_manager = SpotifyClientCredentials()\n",
    "sp = spotipy.Spotify(client_credentials_manager=client_credentials_manager)\n",
    "\n",
    "search_str = 'Muse'\n",
    "result = sp.search(search_str)\n",
    "pprint.pprint(result)"
   ]
  },
  {
   "cell_type": "code",
   "execution_count": 9,
   "metadata": {
    "collapsed": false
   },
   "outputs": [
    {
     "ename": "SpotifyOauthError",
     "evalue": "No client id",
     "output_type": "error",
     "traceback": [
      "\u001b[0;31m---------------------------------------------------------------------------\u001b[0m",
      "\u001b[0;31mSpotifyOauthError\u001b[0m                         Traceback (most recent call last)",
      "\u001b[0;32m<ipython-input-9-9fbfd6d12897>\u001b[0m in \u001b[0;36m<module>\u001b[0;34m()\u001b[0m\n\u001b[1;32m      7\u001b[0m \u001b[0;34m\u001b[0m\u001b[0m\n\u001b[1;32m      8\u001b[0m \u001b[0;34m\u001b[0m\u001b[0m\n\u001b[0;32m----> 9\u001b[0;31m \u001b[0mclient_credentials_manager\u001b[0m \u001b[0;34m=\u001b[0m \u001b[0mSpotifyClientCredentials\u001b[0m\u001b[0;34m(\u001b[0m\u001b[0;34m)\u001b[0m\u001b[0;34m\u001b[0m\u001b[0m\n\u001b[0m\u001b[1;32m     10\u001b[0m \u001b[0msp\u001b[0m \u001b[0;34m=\u001b[0m \u001b[0mspotipy\u001b[0m\u001b[0;34m.\u001b[0m\u001b[0mSpotify\u001b[0m\u001b[0;34m(\u001b[0m\u001b[0mclient_credentials_manager\u001b[0m\u001b[0;34m=\u001b[0m\u001b[0mclient_credentials_manager\u001b[0m\u001b[0;34m)\u001b[0m\u001b[0;34m\u001b[0m\u001b[0m\n\u001b[1;32m     11\u001b[0m \u001b[0msp\u001b[0m\u001b[0;34m.\u001b[0m\u001b[0mtrace\u001b[0m\u001b[0;34m=\u001b[0m\u001b[0mTrue\u001b[0m\u001b[0;34m\u001b[0m\u001b[0m\n",
      "\u001b[0;32m/Users/andrewjeong/anaconda/lib/python2.7/site-packages/spotipy/oauth2.pyc\u001b[0m in \u001b[0;36m__init__\u001b[0;34m(self, client_id, client_secret)\u001b[0m\n\u001b[1;32m     37\u001b[0m \u001b[0;34m\u001b[0m\u001b[0m\n\u001b[1;32m     38\u001b[0m         \u001b[0;32mif\u001b[0m \u001b[0;32mnot\u001b[0m \u001b[0mclient_id\u001b[0m\u001b[0;34m:\u001b[0m\u001b[0;34m\u001b[0m\u001b[0m\n\u001b[0;32m---> 39\u001b[0;31m             \u001b[0;32mraise\u001b[0m \u001b[0mSpotifyOauthError\u001b[0m\u001b[0;34m(\u001b[0m\u001b[0;34m'No client id'\u001b[0m\u001b[0;34m)\u001b[0m\u001b[0;34m\u001b[0m\u001b[0m\n\u001b[0m\u001b[1;32m     40\u001b[0m \u001b[0;34m\u001b[0m\u001b[0m\n\u001b[1;32m     41\u001b[0m         \u001b[0;32mif\u001b[0m \u001b[0;32mnot\u001b[0m \u001b[0mclient_secret\u001b[0m\u001b[0;34m:\u001b[0m\u001b[0;34m\u001b[0m\u001b[0m\n",
      "\u001b[0;31mSpotifyOauthError\u001b[0m: No client id"
     ]
    }
   ],
   "source": [
    "from __future__ import print_function    # (at top of module)\n",
    "from spotipy.oauth2 import SpotifyClientCredentials\n",
    "import json\n",
    "import spotipy\n",
    "import time\n",
    "import sys\n",
    "\n",
    "\n",
    "client_credentials_manager = SpotifyClientCredentials()\n",
    "sp = spotipy.Spotify(client_credentials_manager=client_credentials_manager)\n",
    "sp.trace=True\n",
    "\n",
    "if len(sys.argv) > 1:\n",
    "    tids = sys.argv[1:]\n",
    "    print(tids)\n",
    "\n",
    "    start = time.time()\n",
    "    features = sp.audio_features(tids)\n",
    "    delta = time.time() - start\n",
    "    print(json.dumps(features, indent=4))\n",
    "    print (\"features retrieved in %.2f seconds\" % (delta,))"
   ]
  },
  {
   "cell_type": "code",
   "execution_count": null,
   "metadata": {
    "collapsed": true
   },
   "outputs": [],
   "source": []
  }
 ],
 "metadata": {
  "anaconda-cloud": {},
  "kernelspec": {
   "display_name": "Python [default]",
   "language": "python",
   "name": "python2"
  },
  "language_info": {
   "codemirror_mode": {
    "name": "ipython",
    "version": 2
   },
   "file_extension": ".py",
   "mimetype": "text/x-python",
   "name": "python",
   "nbconvert_exporter": "python",
   "pygments_lexer": "ipython2",
   "version": "2.7.12"
  }
 },
 "nbformat": 4,
 "nbformat_minor": 1
}
