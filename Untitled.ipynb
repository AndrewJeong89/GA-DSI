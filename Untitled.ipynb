{
 "cells": [
  {
   "cell_type": "code",
   "execution_count": 2,
   "metadata": {
    "collapsed": false
   },
   "outputs": [
    {
     "name": "stdout",
     "output_type": "stream",
     "text": [
      "  0 Famous\n",
      "  1 Almost Famous\n",
      "  2 Famous Last Words\n",
      "  3 I Get the Drip from My Walk\n",
      "  4 Marvin & Chardonnay\n",
      "  5 Lifestyles of the Rich & Famous\n",
      "  6 Dance (A$$)\n",
      "  7 Almost Famous\n",
      "  8 Young Blood\n",
      "  9 Famous\n",
      "  10 Took Time\n",
      "  11 Famous\n",
      "  12 Glock\n",
      "  13 Famous\n",
      "  14 Almost Famous\n",
      "  15 Higher\n",
      "  16 Hit Em wit It\n",
      "  17 2 Times\n",
      "  18 My Last\n",
      "  19 Famous\n"
     ]
    }
   ],
   "source": [
    "import spotipy\n",
    "sp = spotipy.Spotify()\n",
    "\n",
    "results = sp.search(q='famous', limit=20)\n",
    "for i, t in enumerate(results['tracks']['items']):\n",
    "    print ' ', i, t['name']"
   ]
  },
  {
   "cell_type": "code",
   "execution_count": null,
   "metadata": {
    "collapsed": true
   },
   "outputs": [],
   "source": []
  }
 ],
 "metadata": {
  "anaconda-cloud": {},
  "kernelspec": {
   "display_name": "Python [default]",
   "language": "python",
   "name": "python2"
  },
  "language_info": {
   "codemirror_mode": {
    "name": "ipython",
    "version": 2
   },
   "file_extension": ".py",
   "mimetype": "text/x-python",
   "name": "python",
   "nbconvert_exporter": "python",
   "pygments_lexer": "ipython2",
   "version": "2.7.12"
  }
 },
 "nbformat": 4,
 "nbformat_minor": 1
}
